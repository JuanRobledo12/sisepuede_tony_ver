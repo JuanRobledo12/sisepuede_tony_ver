{
 "cells": [
  {
   "cell_type": "code",
   "execution_count": 1,
   "id": "f04f94b3-49c8-4782-bf12-2f4e01b9d116",
   "metadata": {},
   "outputs": [
    {
     "name": "stderr",
     "output_type": "stream",
     "text": [
      "\u001b[36m\u001b[1m[ \u001b[22m\u001b[39m\u001b[36m\u001b[1mInfo: \u001b[22m\u001b[39mPrecompiling FastGraphs [top-level]\n"
     ]
    }
   ],
   "source": [
    "#### reloads modules automatically - GREAT INCLUSION\n",
    "using Revise\n",
    "\n",
    "### !! IMPORTANT!! NEED THIS LINE TO FIND CUSTOM MODULES\n",
    "!(pwd() in LOAD_PATH) ? push!(LOAD_PATH, pwd()) : nothing\n",
    "\n",
    "using DataFrames\n",
    "using Distributed\n",
    "using FastGraphs\n",
    "using Graphs\n",
    "using JuMP\n",
    "using LinearAlgebra\n",
    "using SharedArrays\n",
    "using SparseArrays\n",
    "using SupportFunctions\n",
    "using HiGHS\n",
    "using GraphWrappers\n",
    "\n",
    "\n",
    "\n",
    "using StatsBase\n",
    "\n",
    "# install kernal with # of threads:\n",
    "# https://github.com/JuliaLang/IJulia.jl/issues/882\n",
    "#\n",
    "# using IJulia\n",
    "# IJulia.installkernel(\"Julia 1.8 20 Threads\", env=Dict(\"JULIA_NUM_THREADS\" => \"20\",))"
   ]
  },
  {
   "cell_type": "markdown",
   "id": "cf171bcd-6b27-4298-9c7d-119b82a5c9c0",
   "metadata": {},
   "source": [
    "##  Read in edgeweights and convert to adjacency, graph, etc."
   ]
  },
  {
   "cell_type": "code",
   "execution_count": null,
   "id": "09a5adbc-25ca-4694-83d8-8eac2d2ad7ab",
   "metadata": {},
   "outputs": [],
   "source": []
  },
  {
   "cell_type": "code",
   "execution_count": null,
   "id": "8129febd-0cbb-4f1f-bd95-e0f2dc0a0063",
   "metadata": {
    "tags": []
   },
   "outputs": [],
   "source": []
  },
  {
   "cell_type": "code",
   "execution_count": 3,
   "id": "05147731-5a7a-43c5-b5fb-8e36ccffea68",
   "metadata": {},
   "outputs": [
    {
     "data": {
      "text/plain": [
       "(2458, 7142)"
      ]
     },
     "execution_count": 3,
     "metadata": {},
     "output_type": "execute_result"
    }
   ],
   "source": [
    "fast_graph.dims"
   ]
  },
  {
   "cell_type": "code",
   "execution_count": 2,
   "id": "12be3cf8-e7c0-45d5-ab1c-34265bd97420",
   "metadata": {
    "tags": []
   },
   "outputs": [],
   "source": [
    "\n",
    "\n",
    "fp_sa = joinpath(pwd(), \"shared_array_tmp\")\n",
    "fp_egl = \"/Users/jsyme/Documents/Projects/FY23/KPP_RIR/edge_lists/dprk_iran_edges.egl\"\n",
    "\n",
    "# RUN TO AVOID shm_open() error if it shows up\n",
    "#  see: https://github.com/JuliaLang/julia/issues/15415\n",
    "#=\n",
    "GC.gc() \n",
    "=# \n",
    "fast_graph = read_egl(fp_egl);\n",
    "\n"
   ]
  },
  {
   "cell_type": "markdown",
   "id": "47400cbc-2854-4b50-bff1-c373398e1501",
   "metadata": {},
   "source": [
    "# Try Krebs (2002) Terrorist Network for validation\n",
    "- Source: https://networks.skewed.de/net/terrorists_911"
   ]
  },
  {
   "cell_type": "code",
   "execution_count": 3,
   "id": "a082d99c-9c12-43f4-91eb-223446fac07b",
   "metadata": {},
   "outputs": [],
   "source": [
    "fp_krebs = \"/Users/jsyme/Documents/Projects/FY23/KPP_RIR/krebs_network.csv/edges.csv\"\n",
    "fp_krebs_out = \"/Users/jsyme/Documents/Projects/FY23/KPP_RIR/edge_lists/krebs_test.egl\"\n",
    "\n",
    "mat_edges = split.(readlines(fp_krebs), \",\");\n",
    "mat_edges = mat_edges[2:end]\n",
    "edges_out = sort(sort.(collect.(Set([sort(x) for x in mat_edges]))))\n",
    "edges_out = [edges_out; [reverse(x) for x in edges_out]]\n",
    "edges_out = join.(edges_out, \" \")\n",
    "\n",
    "edges_out = join(edges_out, \"\\n\")\n",
    "write(fp_krebs_out, edges_out)\n",
    "\n",
    "\n",
    "fast_graph_krebs = read_egl(fp_krebs_out);\n"
   ]
  },
  {
   "cell_type": "code",
   "execution_count": 24,
   "id": "a8391360-6401-4b76-b14e-95f2e5cfd565",
   "metadata": {},
   "outputs": [
    {
     "name": "stdout",
     "output_type": "stream",
     "text": [
      "search: \u001b[0m\u001b[1ms\u001b[22m\u001b[0m\u001b[1mt\u001b[22m\u001b[0m\u001b[1mo\u001b[22m\u001b[0m\u001b[1mc\u001b[22m\u001b[0m\u001b[1mh\u001b[22m\u001b[0m\u001b[1ma\u001b[22m\u001b[0m\u001b[1ms\u001b[22m\u001b[0m\u001b[1mt\u001b[22m\u001b[0m\u001b[1mi\u001b[22m\u001b[0m\u001b[1mc\u001b[22m\u001b[0m\u001b[1m_\u001b[22m\u001b[0m\u001b[1mg\u001b[22m\u001b[0m\u001b[1mr\u001b[22m\u001b[0m\u001b[1ma\u001b[22m\u001b[0m\u001b[1md\u001b[22m\u001b[0m\u001b[1mi\u001b[22m\u001b[0m\u001b[1me\u001b[22m\u001b[0m\u001b[1mn\u001b[22m\u001b[0m\u001b[1mt\u001b[22m\u001b[0m\u001b[1m_\u001b[22m\u001b[0m\u001b[1md\u001b[22m\u001b[0m\u001b[1me\u001b[22m\u001b[0m\u001b[1ms\u001b[22m\u001b[0m\u001b[1mc\u001b[22m\u001b[0m\u001b[1me\u001b[22m\u001b[0m\u001b[1mn\u001b[22m\u001b[0m\u001b[1mt\u001b[22m\n",
      "\n"
     ]
    },
    {
     "data": {
      "text/latex": [
       "\\section{Constructs}\n",
       "stochastic\\emph{gradient}descent(     n\\emph{nodes::Int64,     graph}fast::GraphWrapper;     epsilon::Float64 = 10\\^{}(-6),     max\\emph{iter::Int64 = 100,     S::Union\\{Vector\\{Int64\\}, UnitRange\\{Int64\\}, Nothing\\} = nothing,     randomize}swap\\_count::Bool = false )\n",
       "\n",
       "\\subsection{Function Arguments}\n",
       "\\begin{itemize}\n",
       "\\item \\texttt{n\\_nodes}: number of nodes to remove\n",
       "\n",
       "\n",
       "\\item \\texttt{graph\\_fast}: FastGraph storing information for running swaps\n",
       "\n",
       "\\end{itemize}\n",
       "\\subsection{Keyword Arguments}\n",
       "\\begin{itemize}\n",
       "\\item \\texttt{distance\\_algorithm}: distance algorithm to use to update distance matrix. Passed to get\\emph{distance}matrices(). Default is :auto\n",
       "\n",
       "\n",
       "\\item \\texttt{epsilon}: convergence threshold\n",
       "\n",
       "\n",
       "\\item \\texttt{log\\_info}: print outputs?\n",
       "\n",
       "\n",
       "\\item \\texttt{max\\_iter}: maximum number of iterations to allow\n",
       "\n",
       "\n",
       "\\item \\texttt{max\\_iter\\_no\\_improvement}: maximum number of iterations without improving the objective function to allow\n",
       "\n",
       "\n",
       "\\item \\texttt{randomize\\_swap\\_count}: if true, randomizes number of swaps on each   iteration. Otherwise, swaps one at a time\n",
       "\n",
       "\n",
       "\\item \\texttt{S}: optional set of indices to start with. Must have length \\texttt{n\\_nodes}\n",
       "\n",
       "\n",
       "\\item \\texttt{...kwargs}: passed to get\\emph{default}kpp\\_nodes()\n",
       "\n",
       "\\end{itemize}\n"
      ],
      "text/markdown": [
       "# Constructs\n",
       "\n",
       "stochastic*gradient*descent(     n*nodes::Int64,     graph*fast::GraphWrapper;     epsilon::Float64 = 10^(-6),     max*iter::Int64 = 100,     S::Union{Vector{Int64}, UnitRange{Int64}, Nothing} = nothing,     randomize*swap_count::Bool = false )\n",
       "\n",
       "## Function Arguments\n",
       "\n",
       "  * `n_nodes`: number of nodes to remove\n",
       "  * `graph_fast`: FastGraph storing information for running swaps\n",
       "\n",
       "## Keyword Arguments\n",
       "\n",
       "  * `distance_algorithm`: distance algorithm to use to update distance matrix. Passed to get*distance*matrices(). Default is :auto\n",
       "  * `epsilon`: convergence threshold\n",
       "  * `log_info`: print outputs?\n",
       "  * `max_iter`: maximum number of iterations to allow\n",
       "  * `max_iter_no_improvement`: maximum number of iterations without improving the objective function to allow\n",
       "  * `randomize_swap_count`: if true, randomizes number of swaps on each   iteration. Otherwise, swaps one at a time\n",
       "  * `S`: optional set of indices to start with. Must have length `n_nodes`\n",
       "  * `...kwargs`: passed to get*default*kpp_nodes()\n"
      ],
      "text/plain": [
       "\u001b[1m  Constructs\u001b[22m\n",
       "\u001b[1m  ≡≡≡≡≡≡≡≡≡≡≡≡\u001b[22m\n",
       "\n",
       "  stochastic\u001b[4mgradient\u001b[24mdescent( n\u001b[4mnodes::Int64, graph\u001b[24mfast::GraphWrapper;\n",
       "  epsilon::Float64 = 10^(-6), max\u001b[4miter::Int64 = 100, S::Union{Vector{Int64},\n",
       "  UnitRange{Int64}, Nothing} = nothing, randomize\u001b[24mswap_count::Bool = false )\n",
       "\n",
       "\u001b[1m  Function Arguments\u001b[22m\n",
       "\u001b[1m  ====================\u001b[22m\n",
       "\n",
       "    •  \u001b[36mn_nodes\u001b[39m: number of nodes to remove\n",
       "\n",
       "    •  \u001b[36mgraph_fast\u001b[39m: FastGraph storing information for running swaps\n",
       "\n",
       "\u001b[1m  Keyword Arguments\u001b[22m\n",
       "\u001b[1m  ===================\u001b[22m\n",
       "\n",
       "    •  \u001b[36mdistance_algorithm\u001b[39m: distance algorithm to use to update distance\n",
       "       matrix. Passed to get\u001b[4mdistance\u001b[24mmatrices(). Default is :auto\n",
       "\n",
       "    •  \u001b[36mepsilon\u001b[39m: convergence threshold\n",
       "\n",
       "    •  \u001b[36mlog_info\u001b[39m: print outputs?\n",
       "\n",
       "    •  \u001b[36mmax_iter\u001b[39m: maximum number of iterations to allow\n",
       "\n",
       "    •  \u001b[36mmax_iter_no_improvement\u001b[39m: maximum number of iterations without\n",
       "       improving the objective function to allow\n",
       "\n",
       "    •  \u001b[36mrandomize_swap_count\u001b[39m: if true, randomizes number of swaps on each\n",
       "       iteration. Otherwise, swaps one at a time\n",
       "\n",
       "    •  \u001b[36mS\u001b[39m: optional set of indices to start with. Must have length \u001b[36mn_nodes\u001b[39m\n",
       "\n",
       "    •  \u001b[36m...kwargs\u001b[39m: passed to get\u001b[4mdefault\u001b[24mkpp_nodes()"
      ]
     },
     "execution_count": 24,
     "metadata": {},
     "output_type": "execute_result"
    }
   ],
   "source": [
    "?stochastic_gradient_descent"
   ]
  },
  {
   "cell_type": "code",
   "execution_count": 8,
   "id": "923acbdf-1717-42cb-a51b-491fa3031e08",
   "metadata": {},
   "outputs": [
    {
     "name": "stdout",
     "output_type": "stream",
     "text": [
      "  7.100349 seconds (21.47 M allocations: 1.212 GiB, 5.09% gc time, 93.86% compilation time)\n"
     ]
    },
    {
     "data": {
      "text/plain": [
       "(0.7970791238763186, [4, 25, 26])"
      ]
     },
     "execution_count": 8,
     "metadata": {},
     "output_type": "execute_result"
    }
   ],
   "source": [
    "\n",
    "\n",
    "\n",
    "\n",
    "@time F_krebs, S_krebs, graph_krebs_frag = stochastic_gradient_descent(\n",
    "    3,\n",
    "    fast_graph_krebs; \n",
    "    centrality = :eigenvector,\n",
    "    epsilon = 10^(-8),\n",
    "    log_info = false,\n",
    "    max_iter = 5000,\n",
    "    max_iter_no_improvement = 1000,\n",
    "    randomize_swap_count = true,\n",
    "    #S = [3, 22, 8]#[4, 25, 26],\n",
    ")\n",
    "\n",
    "\n",
    "\n",
    "F_krebs, S_krebs\n"
   ]
  },
  {
   "cell_type": "code",
   "execution_count": 15,
   "id": "1cbc36ad-2869-4b35-af95-26471c7276f1",
   "metadata": {},
   "outputs": [
    {
     "data": {
      "text/plain": [
       "Dict{String, Int64} with 4 entries:\n",
       "  \"c\" => -2\n",
       "  \"t\" => 20\n",
       "  \"b\" => 19\n",
       "  \"a\" => 5"
      ]
     },
     "execution_count": 15,
     "metadata": {},
     "output_type": "execute_result"
    }
   ],
   "source": [
    "dict_test = Dict(\"a\" => 5, \"b\" => 19, \"c\" => -2, \"t\" => 20)"
   ]
  },
  {
   "cell_type": "code",
   "execution_count": 27,
   "id": "87ffe8d9-cb11-4507-8910-27472d51eb68",
   "metadata": {},
   "outputs": [
    {
     "name": "stdout",
     "output_type": "stream",
     "text": [
      "  0.083185 seconds (354.38 k allocations: 59.021 MiB, 46.95% gc time)\n"
     ]
    },
    {
     "data": {
      "text/plain": [
       "(0.7970791238763186, [4, 25, 26], SimpleGraph{Int64}(106, [[2], [1, 3, 4, 13, 24, 25, 26, 35, 46, 57], [2, 7, 26], [2, 5, 6, 25, 46, 57], [4, 6, 8, 9, 10], [4, 5, 18], [3, 8], [5, 7, 10, 16, 17, 18], [5, 10, 11], [5, 8, 9, 11, 12, 14, 15, 16]  …  [38, 40, 44, 45, 47, 51], [40, 44, 50], [39, 40, 43, 53], [39, 40, 43, 52, 56, 58], [39, 49], [39, 49], [40, 53, 58], [2, 4], [40, 53, 56], [40]]))"
      ]
     },
     "execution_count": 27,
     "metadata": {},
     "output_type": "execute_result"
    }
   ],
   "source": [
    "@time F_krebs, S_krebs, graph_krebs_frag = greedy_optimization(\n",
    "    3,\n",
    "    fast_graph_krebs; \n",
    "    centrality = :eigenvector,\n",
    "    epsilon = 10^(-8),\n",
    "    log_info = false,\n",
    "    max_iter = 5000,\n",
    "    max_iter_no_improvement = 1000,\n",
    "    randomize_swap_count = true,\n",
    "    #S = [3, 22, 8]#[4, 25, 26],\n",
    ")\n"
   ]
  },
  {
   "cell_type": "code",
   "execution_count": 29,
   "id": "596aabb6-09f3-44a2-b597-71113db2a077",
   "metadata": {
    "collapsed": true,
    "jupyter": {
     "outputs_hidden": true
    },
    "tags": []
   },
   "outputs": [
    {
     "ename": "LoadError",
     "evalue": "InterruptException:",
     "output_type": "error",
     "traceback": [
      "InterruptException:",
      "",
      "Stacktrace:",
      "  [1] Array",
      "    @ ./boot.jl:459 [inlined]",
      "  [2] Array",
      "    @ ./boot.jl:468 [inlined]",
      "  [3] similar",
      "    @ ./abstractarray.jl:806 [inlined]",
      "  [4] similar",
      "    @ ./abstractarray.jl:795 [inlined]",
      "  [5] _unsafe_getindex(#unused#::IndexLinear, A::Base.OneTo{Int64}, I::Base.LogicalIndex{Int64, BitVector})",
      "    @ Base ./multidimensional.jl:887",
      "  [6] _getindex",
      "    @ ./multidimensional.jl:875 [inlined]",
      "  [7] getindex",
      "    @ ./abstractarray.jl:1241 [inlined]",
      "  [8] bellman_ford_shortest_paths(graph::SimpleGraph{Int64}, sources::Vector{Int64}, distmx::Graphs.DefaultDistance)",
      "    @ Graphs ~/.julia/packages/Graphs/7SMZs/src/shortestpaths/bellman-ford.jl:51",
      "  [9] bellman_ford_shortest_paths (repeats 2 times)",
      "    @ ~/.julia/packages/Graphs/7SMZs/src/shortestpaths/bellman-ford.jl:74 [inlined]",
      " [10] fragmentation(graph::SimpleGraph{Int64}; D_invs::Nothing, distance_algorithm::Symbol, use_distance_weighting::Bool)",
      "    @ FastGraphs ~/Documents/Projects/git/FastGraphs/julia/FastGraphs.jl:203",
      " [11] fragmentation(graph::SimpleGraph{Int64})",
      "    @ FastGraphs ~/Documents/Projects/git/FastGraphs/julia/FastGraphs.jl:182",
      " [12] greedy_optimization(n_nodes::Int64, graph_fast::GraphWrapper; distance_algorithm::Symbol, epsilon::Float64, log_info::Bool, max_iter::Int64, max_iter_no_improvement::Int64, S::Nothing, randomize_swap_count::Bool, kwargs::Base.Pairs{Symbol, Symbol, Tuple{Symbol}, NamedTuple{(:centrality,), Tuple{Symbol}}})",
      "    @ FastGraphs ~/Documents/Projects/git/FastGraphs/julia/FastGraphs.jl:390",
      " [13] top-level scope",
      "    @ ./timing.jl:262 [inlined]",
      " [14] top-level scope",
      "    @ ./In[29]:0"
     ]
    }
   ],
   "source": [
    "@time F, S, graph_out = greedy_optimization(\n",
    "    3,\n",
    "    fast_graph; \n",
    "    centrality = :eigenvector,\n",
    "    epsilon = 10^(-8),\n",
    "    log_info = true,\n",
    "    max_iter = 5000,\n",
    "    max_iter_no_improvement = 1000,\n",
    "    randomize_swap_count = true,\n",
    "    #S = [3, 22, 8]#[4, 25, 26],\n",
    ")\n"
   ]
  },
  {
   "cell_type": "code",
   "execution_count": 50,
   "id": "290b1a5c-4162-4522-9ab9-177e679976aa",
   "metadata": {},
   "outputs": [
    {
     "name": "stdout",
     "output_type": "stream",
     "text": [
      "  0.000737 seconds (38 allocations: 206.125 KiB)\n"
     ]
    },
    {
     "data": {
      "text/plain": [
       "(:parents, :dists, :predecessors, :pathcounts, :closest_vertices)"
      ]
     },
     "execution_count": 50,
     "metadata": {},
     "output_type": "execute_result"
    }
   ],
   "source": [
    "@time path = Graphs.dijkstra_shortest_paths(fast_graph.graph, 1)\n",
    "propertynames(path)\n",
    "\n",
    "path.pre\n",
    "\n"
   ]
  },
  {
   "cell_type": "code",
   "execution_count": null,
   "id": "29948b28-c048-4711-986e-831b5d7ba35c",
   "metadata": {},
   "outputs": [],
   "source": []
  },
  {
   "cell_type": "code",
   "execution_count": 34,
   "id": "191b9f85-0710-4dfd-ae6d-1527f3ed9f91",
   "metadata": {},
   "outputs": [
    {
     "data": {
      "text/plain": [
       "2.472089256e9"
      ]
     },
     "execution_count": 34,
     "metadata": {},
     "output_type": "execute_result"
    }
   ],
   "source": [
    "2458*2457*2456/6"
   ]
  },
  {
   "cell_type": "code",
   "execution_count": null,
   "id": "ad8f2017-c36f-436a-a94a-a589a4dade57",
   "metadata": {},
   "outputs": [],
   "source": []
  },
  {
   "cell_type": "code",
   "execution_count": null,
   "id": "7e1bbd6e-165f-4eb6-8a51-4af889b815ec",
   "metadata": {},
   "outputs": [],
   "source": []
  },
  {
   "cell_type": "code",
   "execution_count": null,
   "id": "265d987d-d6a8-45be-8c29-510bc44ff182",
   "metadata": {},
   "outputs": [],
   "source": []
  },
  {
   "cell_type": "code",
   "execution_count": 18,
   "id": "7aa9d4a4-bfb5-4391-b060-c9385e6d8ad9",
   "metadata": {
    "tags": []
   },
   "outputs": [
    {
     "name": "stderr",
     "output_type": "stream",
     "text": [
      "\u001b[36m\u001b[1m┌ \u001b[22m\u001b[39m\u001b[36m\u001b[1mInfo: \u001b[22m\u001b[39m\n",
      "\u001b[36m\u001b[1m│ \u001b[22m\u001b[39m\n",
      "\u001b[36m\u001b[1m└ \u001b[22m\u001b[39m** keeping swap! 0 - F = 0.8262404466978552, F_0 = 0, F_try = 0.8658997962469739\n",
      "\u001b[36m\u001b[1m┌ \u001b[22m\u001b[39m\u001b[36m\u001b[1mInfo: \u001b[22m\u001b[39m\n",
      "\u001b[36m\u001b[1m│ \u001b[22m\u001b[39m\n",
      "\u001b[36m\u001b[1m└ \u001b[22m\u001b[39m** keeping swap! 2 - F = 0.8658997962469739, F_0 = 0.8262404466978552, F_try = 0.8659258536942422\n",
      "\u001b[36m\u001b[1m[ \u001b[22m\u001b[39m\u001b[36m\u001b[1mInfo: \u001b[22m\u001b[39m10 iterations complete with value 0.8659258536942422 (previous 0.8658997962469739)\n",
      "\u001b[36m\u001b[1m┌ \u001b[22m\u001b[39m\u001b[36m\u001b[1mInfo: \u001b[22m\u001b[39m\n",
      "\u001b[36m\u001b[1m│ \u001b[22m\u001b[39m\n",
      "\u001b[36m\u001b[1m└ \u001b[22m\u001b[39m** keeping swap! 17 - F = 0.8659258536942422, F_0 = 0.8658997962469739, F_try = 0.8660849033755482\n",
      "\u001b[36m\u001b[1m┌ \u001b[22m\u001b[39m\u001b[36m\u001b[1mInfo: \u001b[22m\u001b[39m\n",
      "\u001b[36m\u001b[1m│ \u001b[22m\u001b[39m\n",
      "\u001b[36m\u001b[1m└ \u001b[22m\u001b[39m** keeping swap! 18 - F = 0.8660849033755482, F_0 = 0.8659258536942422, F_try = 0.8660983205296491\n",
      "\u001b[36m\u001b[1m[ \u001b[22m\u001b[39m\u001b[36m\u001b[1mInfo: \u001b[22m\u001b[39m20 iterations complete with value 0.8660983205296491 (previous 0.8660849033755482)\n",
      "\u001b[36m\u001b[1m[ \u001b[22m\u001b[39m\u001b[36m\u001b[1mInfo: \u001b[22m\u001b[39m30 iterations complete with value 0.8660983205296491 (previous 0.8660849033755482)\n",
      "\u001b[36m\u001b[1m[ \u001b[22m\u001b[39m\u001b[36m\u001b[1mInfo: \u001b[22m\u001b[39m40 iterations complete with value 0.8660983205296491 (previous 0.8660849033755482)\n",
      "\u001b[36m\u001b[1m┌ \u001b[22m\u001b[39m\u001b[36m\u001b[1mInfo: \u001b[22m\u001b[39m\n",
      "\u001b[36m\u001b[1m│ \u001b[22m\u001b[39m\n",
      "\u001b[36m\u001b[1m└ \u001b[22m\u001b[39m** keeping swap! 44 - F = 0.8660983205296491, F_0 = 0.8660849033755482, F_try = 0.8661094245213777\n",
      "\u001b[36m\u001b[1m┌ \u001b[22m\u001b[39m\u001b[36m\u001b[1mInfo: \u001b[22m\u001b[39m\n",
      "\u001b[36m\u001b[1m│ \u001b[22m\u001b[39m\n",
      "\u001b[36m\u001b[1m└ \u001b[22m\u001b[39m** keeping swap! 49 - F = 0.8661094245213777, F_0 = 0.8660983205296491, F_try = 0.8661124606205748\n",
      "\u001b[36m\u001b[1m[ \u001b[22m\u001b[39m\u001b[36m\u001b[1mInfo: \u001b[22m\u001b[39m50 iterations complete with value 0.8661124606205748 (previous 0.8661094245213777)\n",
      "\u001b[36m\u001b[1m[ \u001b[22m\u001b[39m\u001b[36m\u001b[1mInfo: \u001b[22m\u001b[39m60 iterations complete with value 0.8661124606205748 (previous 0.8661094245213777)\n",
      "\u001b[36m\u001b[1m┌ \u001b[22m\u001b[39m\u001b[36m\u001b[1mInfo: \u001b[22m\u001b[39m\n",
      "\u001b[36m\u001b[1m│ \u001b[22m\u001b[39m\n",
      "\u001b[36m\u001b[1m└ \u001b[22m\u001b[39m** keeping swap! 61 - F = 0.8661124606205748, F_0 = 0.8661094245213777, F_try = 0.8663178508394845\n",
      "\u001b[36m\u001b[1m[ \u001b[22m\u001b[39m\u001b[36m\u001b[1mInfo: \u001b[22m\u001b[39m70 iterations complete with value 0.8663178508394845 (previous 0.8661124606205748)\n",
      "\u001b[36m\u001b[1m[ \u001b[22m\u001b[39m\u001b[36m\u001b[1mInfo: \u001b[22m\u001b[39m80 iterations complete with value 0.8663178508394845 (previous 0.8661124606205748)\n",
      "\u001b[36m\u001b[1m[ \u001b[22m\u001b[39m\u001b[36m\u001b[1mInfo: \u001b[22m\u001b[39m90 iterations complete with value 0.8663178508394845 (previous 0.8661124606205748)\n",
      "\u001b[36m\u001b[1m[ \u001b[22m\u001b[39m\u001b[36m\u001b[1mInfo: \u001b[22m\u001b[39m100 iterations complete with value 0.8663178508394845 (previous 0.8661124606205748)\n",
      "\u001b[36m\u001b[1m┌ \u001b[22m\u001b[39m\u001b[36m\u001b[1mInfo: \u001b[22m\u001b[39m\n",
      "\u001b[36m\u001b[1m│ \u001b[22m\u001b[39m\n",
      "\u001b[36m\u001b[1m└ \u001b[22m\u001b[39m** keeping swap! 105 - F = 0.8663178508394845, F_0 = 0.8661124606205748, F_try = 0.8663469244993909\n",
      "\u001b[36m\u001b[1m[ \u001b[22m\u001b[39m\u001b[36m\u001b[1mInfo: \u001b[22m\u001b[39m110 iterations complete with value 0.8663469244993909 (previous 0.8663178508394845)\n",
      "\u001b[36m\u001b[1m┌ \u001b[22m\u001b[39m\u001b[36m\u001b[1mInfo: \u001b[22m\u001b[39m\n",
      "\u001b[36m\u001b[1m│ \u001b[22m\u001b[39m\n",
      "\u001b[36m\u001b[1m└ \u001b[22m\u001b[39m** keeping swap! 111 - F = 0.8663469244993909, F_0 = 0.8663178508394845, F_try = 0.866514093858245\n",
      "\u001b[36m\u001b[1m[ \u001b[22m\u001b[39m\u001b[36m\u001b[1mInfo: \u001b[22m\u001b[39m120 iterations complete with value 0.866514093858245 (previous 0.8663469244993909)\n",
      "\u001b[36m\u001b[1m┌ \u001b[22m\u001b[39m\u001b[36m\u001b[1mInfo: \u001b[22m\u001b[39m\n",
      "\u001b[36m\u001b[1m│ \u001b[22m\u001b[39m\n",
      "\u001b[36m\u001b[1m└ \u001b[22m\u001b[39m** keeping swap! 122 - F = 0.866514093858245, F_0 = 0.8663469244993909, F_try = 0.8665671374680979\n",
      "\u001b[36m\u001b[1m[ \u001b[22m\u001b[39m\u001b[36m\u001b[1mInfo: \u001b[22m\u001b[39m130 iterations complete with value 0.8665671374680979 (previous 0.866514093858245)\n",
      "\u001b[36m\u001b[1m┌ \u001b[22m\u001b[39m\u001b[36m\u001b[1mInfo: \u001b[22m\u001b[39m\n",
      "\u001b[36m\u001b[1m│ \u001b[22m\u001b[39m\n",
      "\u001b[36m\u001b[1m└ \u001b[22m\u001b[39m** keeping swap! 139 - F = 0.8665671374680979, F_0 = 0.866514093858245, F_try = 0.8682104586432362\n",
      "\u001b[36m\u001b[1m[ \u001b[22m\u001b[39m\u001b[36m\u001b[1mInfo: \u001b[22m\u001b[39m140 iterations complete with value 0.8682104586432362 (previous 0.8665671374680979)\n",
      "\u001b[36m\u001b[1m[ \u001b[22m\u001b[39m\u001b[36m\u001b[1mInfo: \u001b[22m\u001b[39m150 iterations complete with value 0.8682104586432362 (previous 0.8665671374680979)\n",
      "\u001b[36m\u001b[1m[ \u001b[22m\u001b[39m\u001b[36m\u001b[1mInfo: \u001b[22m\u001b[39m160 iterations complete with value 0.8682104586432362 (previous 0.8665671374680979)\n",
      "\u001b[36m\u001b[1m[ \u001b[22m\u001b[39m\u001b[36m\u001b[1mInfo: \u001b[22m\u001b[39m170 iterations complete with value 0.8682104586432362 (previous 0.8665671374680979)\n",
      "\u001b[36m\u001b[1m[ \u001b[22m\u001b[39m\u001b[36m\u001b[1mInfo: \u001b[22m\u001b[39m180 iterations complete with value 0.8682104586432362 (previous 0.8665671374680979)\n",
      "\u001b[36m\u001b[1m[ \u001b[22m\u001b[39m\u001b[36m\u001b[1mInfo: \u001b[22m\u001b[39m190 iterations complete with value 0.8682104586432362 (previous 0.8665671374680979)\n",
      "\u001b[36m\u001b[1m[ \u001b[22m\u001b[39m\u001b[36m\u001b[1mInfo: \u001b[22m\u001b[39m200 iterations complete with value 0.8682104586432362 (previous 0.8665671374680979)\n",
      "\u001b[36m\u001b[1m[ \u001b[22m\u001b[39m\u001b[36m\u001b[1mInfo: \u001b[22m\u001b[39m210 iterations complete with value 0.8682104586432362 (previous 0.8665671374680979)\n",
      "\u001b[36m\u001b[1m[ \u001b[22m\u001b[39m\u001b[36m\u001b[1mInfo: \u001b[22m\u001b[39m220 iterations complete with value 0.8682104586432362 (previous 0.8665671374680979)\n",
      "\u001b[36m\u001b[1m┌ \u001b[22m\u001b[39m\u001b[36m\u001b[1mInfo: \u001b[22m\u001b[39m\n",
      "\u001b[36m\u001b[1m│ \u001b[22m\u001b[39m\n",
      "\u001b[36m\u001b[1m└ \u001b[22m\u001b[39m** keeping swap! 225 - F = 0.8682104586432362, F_0 = 0.8665671374680979, F_try = 0.8690443885718373\n",
      "\u001b[36m\u001b[1m[ \u001b[22m\u001b[39m\u001b[36m\u001b[1mInfo: \u001b[22m\u001b[39m230 iterations complete with value 0.8690443885718373 (previous 0.8682104586432362)\n",
      "\u001b[36m\u001b[1m[ \u001b[22m\u001b[39m\u001b[36m\u001b[1mInfo: \u001b[22m\u001b[39m240 iterations complete with value 0.8690443885718373 (previous 0.8682104586432362)\n",
      "\u001b[36m\u001b[1m[ \u001b[22m\u001b[39m\u001b[36m\u001b[1mInfo: \u001b[22m\u001b[39m250 iterations complete with value 0.8690443885718373 (previous 0.8682104586432362)\n",
      "\u001b[36m\u001b[1m┌ \u001b[22m\u001b[39m\u001b[36m\u001b[1mInfo: \u001b[22m\u001b[39m\n",
      "\u001b[36m\u001b[1m│ \u001b[22m\u001b[39m\n",
      "\u001b[36m\u001b[1m└ \u001b[22m\u001b[39m** keeping swap! 251 - F = 0.8690443885718373, F_0 = 0.8682104586432362, F_try = 0.8691707728163824\n",
      "\u001b[36m\u001b[1m┌ \u001b[22m\u001b[39m\u001b[36m\u001b[1mInfo: \u001b[22m\u001b[39m\n",
      "\u001b[36m\u001b[1m│ \u001b[22m\u001b[39m\n",
      "\u001b[36m\u001b[1m└ \u001b[22m\u001b[39m** keeping swap! 257 - F = 0.8691707728163824, F_0 = 0.8690443885718373, F_try = 0.8691762295751851\n",
      "\u001b[36m\u001b[1m[ \u001b[22m\u001b[39m\u001b[36m\u001b[1mInfo: \u001b[22m\u001b[39m260 iterations complete with value 0.8691762295751851 (previous 0.8691707728163824)\n",
      "\u001b[36m\u001b[1m[ \u001b[22m\u001b[39m\u001b[36m\u001b[1mInfo: \u001b[22m\u001b[39m270 iterations complete with value 0.8691762295751851 (previous 0.8691707728163824)\n",
      "\u001b[36m\u001b[1m[ \u001b[22m\u001b[39m\u001b[36m\u001b[1mInfo: \u001b[22m\u001b[39m280 iterations complete with value 0.8691762295751851 (previous 0.8691707728163824)\n",
      "\u001b[36m\u001b[1m[ \u001b[22m\u001b[39m\u001b[36m\u001b[1mInfo: \u001b[22m\u001b[39m290 iterations complete with value 0.8691762295751851 (previous 0.8691707728163824)\n",
      "\u001b[36m\u001b[1m┌ \u001b[22m\u001b[39m\u001b[36m\u001b[1mInfo: \u001b[22m\u001b[39m\n",
      "\u001b[36m\u001b[1m│ \u001b[22m\u001b[39m\n",
      "\u001b[36m\u001b[1m└ \u001b[22m\u001b[39m** keeping swap! 294 - F = 0.8691762295751851, F_0 = 0.8691707728163824, F_try = 0.8717148154218237\n",
      "\u001b[36m\u001b[1m[ \u001b[22m\u001b[39m\u001b[36m\u001b[1mInfo: \u001b[22m\u001b[39m300 iterations complete with value 0.8717148154218237 (previous 0.8691762295751851)\n",
      "\u001b[36m\u001b[1m[ \u001b[22m\u001b[39m\u001b[36m\u001b[1mInfo: \u001b[22m\u001b[39m310 iterations complete with value 0.8717148154218237 (previous 0.8691762295751851)\n",
      "\u001b[36m\u001b[1m[ \u001b[22m\u001b[39m\u001b[36m\u001b[1mInfo: \u001b[22m\u001b[39m320 iterations complete with value 0.8717148154218237 (previous 0.8691762295751851)\n",
      "\u001b[36m\u001b[1m[ \u001b[22m\u001b[39m\u001b[36m\u001b[1mInfo: \u001b[22m\u001b[39m330 iterations complete with value 0.8717148154218237 (previous 0.8691762295751851)\n",
      "\u001b[36m\u001b[1m[ \u001b[22m\u001b[39m\u001b[36m\u001b[1mInfo: \u001b[22m\u001b[39m340 iterations complete with value 0.8717148154218237 (previous 0.8691762295751851)\n",
      "\u001b[36m\u001b[1m[ \u001b[22m\u001b[39m\u001b[36m\u001b[1mInfo: \u001b[22m\u001b[39m350 iterations complete with value 0.8717148154218237 (previous 0.8691762295751851)\n",
      "\u001b[36m\u001b[1m[ \u001b[22m\u001b[39m\u001b[36m\u001b[1mInfo: \u001b[22m\u001b[39m360 iterations complete with value 0.8717148154218237 (previous 0.8691762295751851)\n",
      "\u001b[36m\u001b[1m[ \u001b[22m\u001b[39m\u001b[36m\u001b[1mInfo: \u001b[22m\u001b[39m370 iterations complete with value 0.8717148154218237 (previous 0.8691762295751851)\n",
      "\u001b[36m\u001b[1m[ \u001b[22m\u001b[39m\u001b[36m\u001b[1mInfo: \u001b[22m\u001b[39m380 iterations complete with value 0.8717148154218237 (previous 0.8691762295751851)\n",
      "\u001b[36m\u001b[1m[ \u001b[22m\u001b[39m\u001b[36m\u001b[1mInfo: \u001b[22m\u001b[39m390 iterations complete with value 0.8717148154218237 (previous 0.8691762295751851)\n"
     ]
    },
    {
     "name": "stdout",
     "output_type": "stream",
     "text": [
      " 95.192659 seconds (35.95 M allocations: 93.239 GiB, 18.75% gc time)\n"
     ]
    },
    {
     "name": "stderr",
     "output_type": "stream",
     "text": [
      "\u001b[36m\u001b[1m[ \u001b[22m\u001b[39m\u001b[36m\u001b[1mInfo: \u001b[22m\u001b[39mConverged in 395 iterations.\n"
     ]
    },
    {
     "data": {
      "text/plain": [
       "(0.8717148154218237, [82, 889, 1060], SimpleGraph{Int64}(3258, [[1051, 2214], [379, 909, 921, 1632, 1831, 1974, 2204], [7, 486, 1224, 1226, 1396, 1596, 1600, 1831, 2199], [34, 1948], [525], [587], [3], [619, 1396], [484, 1931], [11]  …  [207], [349, 1785], [908], [56], [1632], [586, 592, 1172, 1251, 1667], [308], [308], [400, 486], [593]]))"
      ]
     },
     "execution_count": 18,
     "metadata": {},
     "output_type": "execute_result"
    }
   ],
   "source": [
    "@time F, S, graph_out = stochastic_gradient_descent(\n",
    "    3,\n",
    "    fast_graph; \n",
    "    epsilon = 0.0,#(10^(-10)),\n",
    "    log_info = true,\n",
    "    max_iter = 1000,\n",
    "    max_iter_no_improvement = 100,\n",
    "    randomize_swap_count = true,\n",
    "    #S = [3, 22, 8]#[4, 25, 26],\n",
    ")"
   ]
  },
  {
   "cell_type": "code",
   "execution_count": null,
   "id": "47a95a2e-907b-47fc-9ad0-6802ca19fda4",
   "metadata": {},
   "outputs": [],
   "source": []
  },
  {
   "cell_type": "code",
   "execution_count": 165,
   "id": "46adea40-6e52-41d5-aa99-17b39b124bbb",
   "metadata": {},
   "outputs": [
    {
     "name": "stdout",
     "output_type": "stream",
     "text": [
      "  0.380267 seconds (55.83 k allocations: 322.889 MiB, 15.50% gc time)\n"
     ]
    }
   ],
   "source": [
    "@time d, d_inv = get_distance_matrices(\n",
    "    fast_graph.A; \n",
    "    algorithm = :bellman_ford,\n",
    "    graph = fast_graph.graph\n",
    ");\n",
    "\n",
    "#fast_graph.dims[1]"
   ]
  },
  {
   "cell_type": "code",
   "execution_count": 17,
   "id": "c1906666-7126-4edd-ba00-e9821d94b6a4",
   "metadata": {},
   "outputs": [],
   "source": [
    "using Graphs.Parallel\n"
   ]
  },
  {
   "cell_type": "code",
   "execution_count": 36,
   "id": "053cce4f-c308-445c-9548-38f808ef324c",
   "metadata": {},
   "outputs": [
    {
     "ename": "LoadError",
     "evalue": "MethodError: no method matching bellman_ford_shortest_paths(::SimpleGraph{Int64})\n\u001b[0mClosest candidates are:\n\u001b[0m  bellman_ford_shortest_paths(::AbstractGraph{U}, \u001b[91m::AbstractVector{<:Integer}\u001b[39m) where U<:Integer at ~/.julia/packages/Graphs/7SMZs/src/Parallel/shortestpaths/bellman-ford.jl:1\n\u001b[0m  bellman_ford_shortest_paths(::AbstractGraph{U}, \u001b[91m::AbstractVector{<:Integer}\u001b[39m, \u001b[91m::AbstractMatrix{T}\u001b[39m) where {U<:Integer, T<:Real} at ~/.julia/packages/Graphs/7SMZs/src/Parallel/shortestpaths/bellman-ford.jl:1",
     "output_type": "error",
     "traceback": [
      "MethodError: no method matching bellman_ford_shortest_paths(::SimpleGraph{Int64})\n\u001b[0mClosest candidates are:\n\u001b[0m  bellman_ford_shortest_paths(::AbstractGraph{U}, \u001b[91m::AbstractVector{<:Integer}\u001b[39m) where U<:Integer at ~/.julia/packages/Graphs/7SMZs/src/Parallel/shortestpaths/bellman-ford.jl:1\n\u001b[0m  bellman_ford_shortest_paths(::AbstractGraph{U}, \u001b[91m::AbstractVector{<:Integer}\u001b[39m, \u001b[91m::AbstractMatrix{T}\u001b[39m) where {U<:Integer, T<:Real} at ~/.julia/packages/Graphs/7SMZs/src/Parallel/shortestpaths/bellman-ford.jl:1",
      "",
      "Stacktrace:",
      " [1] top-level scope",
      "   @ ./timing.jl:262 [inlined]",
      " [2] top-level scope",
      "   @ ./In[36]:0"
     ]
    }
   ],
   "source": [
    "\n",
    "#@time d_tmp = Parallel.dijkstra_shortest_paths(fast_graph.graph);\n",
    "@time d_tmp = Parallel.bellman_ford_shortest_paths(fast_graph.graph);"
   ]
  },
  {
   "cell_type": "code",
   "execution_count": 149,
   "id": "bb639a68-39e0-40be-8353-c05deeb161ad",
   "metadata": {},
   "outputs": [
    {
     "name": "stdout",
     "output_type": "stream",
     "text": [
      "  0.001112 seconds (1.35 k allocations: 383.297 KiB)\n"
     ]
    }
   ],
   "source": [
    "g = fast_graph_krebs.graph\n",
    "tk = nothing\n",
    "@time for i in 1:fast_graph_krebs.dims[1]\n",
    "    tk = Graphs.dijkstra_shortest_paths(g, i)\n",
    "end"
   ]
  },
  {
   "cell_type": "code",
   "execution_count": 150,
   "id": "abdc016f-ecfa-460a-8a70-2292f3f47fdd",
   "metadata": {},
   "outputs": [
    {
     "name": "stdout",
     "output_type": "stream",
     "text": [
      "  0.000176 seconds (895 allocations: 138.531 KiB)\n"
     ]
    }
   ],
   "source": [
    "g = fast_graph_krebs.graph\n",
    "tkb = nothing\n",
    "@time for i in 1:fast_graph_krebs.dims[1]\n",
    "    tkb = Graphs.bellman_ford_shortest_paths(g, i)\n",
    "end"
   ]
  },
  {
   "cell_type": "code",
   "execution_count": null,
   "id": "a6fe2b39-5e8c-42c8-8c83-a878b3c89955",
   "metadata": {},
   "outputs": [],
   "source": []
  },
  {
   "cell_type": "code",
   "execution_count": null,
   "id": "6a06a966-f895-424e-ac93-af0dc53644a0",
   "metadata": {},
   "outputs": [],
   "source": []
  },
  {
   "cell_type": "code",
   "execution_count": 140,
   "id": "3822d864-6f81-4a35-ba2a-cb3abbb1495c",
   "metadata": {},
   "outputs": [
    {
     "name": "stdout",
     "output_type": "stream",
     "text": [
      "  1.481426 seconds (87.32 k allocations: 509.222 MiB, 5.70% gc time)\n"
     ]
    },
    {
     "data": {
      "text/plain": [
       "Graphs.Parallel.MultipleDijkstraState{Int64, Int64}([0 5 … 8 9223372036854775807; 5 0 … 6 9223372036854775807; … ; 8 6 … 0 9223372036854775807; 9223372036854775807 9223372036854775807 … 9223372036854775807 0], [0 1974 … 1558 0; 1051 0 … 1558 0; … ; 1051 379 … 0 0; 0 0 … 0 0])"
      ]
     },
     "execution_count": 140,
     "metadata": {},
     "output_type": "execute_result"
    }
   ],
   "source": [
    "@time Parallel.dijkstra_shortest_paths(fast_graph.graph)"
   ]
  },
  {
   "cell_type": "code",
   "execution_count": 29,
   "id": "8e66f7e0-fa3c-4a1b-a3bf-16feef3f3ebf",
   "metadata": {},
   "outputs": [
    {
     "ename": "LoadError",
     "evalue": "UndefVarError: n_v not defined",
     "output_type": "error",
     "traceback": [
      "UndefVarError: n_v not defined",
      "",
      "Stacktrace:",
      " [1] top-level scope",
      "   @ In[29]:1"
     ]
    }
   ],
   "source": [
    "check = 1:n_v\n",
    "println(\"parallel:\")\n",
    "@time tmp_par = Graphs.Parallel.dijkstra_shortest_paths(g, check)\n",
    "\n",
    "println(\"loop:\")\n",
    "@time for i in check\n",
    "    tmp = Graphs.dijkstra_shortest_paths(g, i)\n",
    "end"
   ]
  },
  {
   "cell_type": "code",
   "execution_count": 52,
   "id": "d55c99e8-4a62-4cf1-99e5-ea5f49a36f96",
   "metadata": {
    "tags": []
   },
   "outputs": [
    {
     "name": "stdout",
     "output_type": "stream",
     "text": [
      "\n",
      "\n",
      "** keeping swap! 0 - F = 0.8262404466978552, F_0 = 0, F_try = 0.8266472622279978\n",
      "\n",
      "\n",
      "** keeping swap! 4 - F = 0.8266472622279978, F_0 = 0.8262404466978552, F_try = 0.8266997323692662\n",
      "\n",
      "\n",
      "** keeping swap! 5 - F = 0.8266997323692662, F_0 = 0.8266472622279978, F_try = 0.8267871867441089\n",
      "\n",
      "\n",
      "** keeping swap! 6 - F = 0.8267871867441089, F_0 = 0.8266997323692662, F_try = 0.8328234673952377\n",
      "\n",
      "\n",
      "** keeping swap! 10 - F = 0.8328234673952377, F_0 = 0.8267871867441089, F_try = 0.8328348169426764\n",
      "\n",
      "\n",
      "** keeping swap! 20 - F = 0.8328348169426764, F_0 = 0.8328234673952377, F_try = 0.832897118892513\n",
      "\n",
      "\n",
      "** keeping swap! 21 - F = 0.832897118892513, F_0 = 0.8328348169426764, F_try = 0.8329520801615857\n",
      "\n",
      "\n",
      "** keeping swap! 36 - F = 0.8329520801615857, F_0 = 0.832897118892513, F_try = 0.8338149632986407\n",
      "\n",
      "\n",
      "** keeping swap! 54 - F = 0.8338149632986407, F_0 = 0.8329520801615857, F_try = 0.8339369756544097\n"
     ]
    },
    {
     "ename": "LoadError",
     "evalue": "InterruptException:",
     "output_type": "error",
     "traceback": [
      "InterruptException:",
      "",
      "Stacktrace:",
      "  [1] Array",
      "    @ ./boot.jl:459 [inlined]",
      "  [2] Array",
      "    @ ./boot.jl:468 [inlined]",
      "  [3] similar",
      "    @ ./abstractarray.jl:841 [inlined]",
      "  [4] similar",
      "    @ ./abstractarray.jl:840 [inlined]",
      "  [5] _array_for",
      "    @ ./array.jl:676 [inlined]",
      "  [6] _array_for",
      "    @ ./array.jl:679 [inlined]",
      "  [7] vcat",
      "    @ ./abstractarray.jl:1554 [inlined]",
      "  [8] #dijkstra_shortest_paths#113",
      "    @ ~/.julia/packages/Graphs/7SMZs/src/shortestpaths/dijkstra.jl:161 [inlined]",
      "  [9] dijkstra_shortest_paths (repeats 2 times)",
      "    @ ~/.julia/packages/Graphs/7SMZs/src/shortestpaths/dijkstra.jl:154 [inlined]",
      " [10] get_distance_matrices(adj::SparseMatrixCSC{Float64, Int64}; digits_round::Int64, graph::SimpleGraph{Int64})",
      "    @ FastGraphs ~/Documents/Projects/git/FastGraphs/julia/FastGraphs.jl:245",
      " [11] stochastic_gradient_descent(n_nodes::Int64, graph_fast::test1_FastGraph; epsilon::Float64, max_iter::Int64, max_iter_no_improvement::Int64, print_info::Bool, S::Nothing, randomize_swap_count::Bool)",
      "    @ Main ./In[50]:115",
      " [12] top-level scope",
      "    @ ./timing.jl:262 [inlined]",
      " [13] top-level scope",
      "    @ ./In[52]:0"
     ]
    }
   ],
   "source": [
    "@time adj, arr_store_cols, arr_store_rows, S, F = stochastic_gradient_descent(\n",
    "    3,\n",
    "    fast_graph; \n",
    "    epsilon = 0.0,#(10^(-10)),\n",
    "    max_iter = 5000,\n",
    "    max_iter_no_improvement = 1000,\n",
    "    print_info = true,\n",
    "    randomize_swap_count = true,\n",
    "    #S = [3, 22, 8]#[4, 25, 26],\n",
    ")\n"
   ]
  },
  {
   "cell_type": "code",
   "execution_count": 47,
   "id": "359a445a-fea3-4817-8dab-63a8398fdca8",
   "metadata": {},
   "outputs": [
    {
     "data": {
      "text/plain": [
       "3-element Vector{String}:\n",
       " \"11\"\n",
       " \"30\"\n",
       " \"31\""
      ]
     },
     "execution_count": 47,
     "metadata": {},
     "output_type": "execute_result"
    }
   ],
   "source": [
    "propertynames(fast_graph_krebs)\n",
    "fast_graph_krebs.vertex_names[[4, 25, 26]]"
   ]
  },
  {
   "cell_type": "code",
   "execution_count": null,
   "id": "f62905c5-7f11-4d5a-84ab-dfe4f143509e",
   "metadata": {},
   "outputs": [],
   "source": []
  },
  {
   "cell_type": "code",
   "execution_count": 11,
   "id": "2874d78d-06ce-4c67-89c2-fb8b29725ea6",
   "metadata": {},
   "outputs": [
    {
     "data": {
      "text/plain": [
       "0.5989335448616254"
      ]
     },
     "execution_count": 11,
     "metadata": {},
     "output_type": "execute_result"
    }
   ],
   "source": [
    "fragmentation(\n",
    "    fast_graph_krebs.A;\n",
    "    D_invs = fast_graph_krebs.D_inv,\n",
    "    graph = fast_graph_krebs.graph,\n",
    ")"
   ]
  },
  {
   "cell_type": "code",
   "execution_count": 13,
   "id": "eb109b76-db7a-4a71-a273-e49578016f1b",
   "metadata": {},
   "outputs": [
    {
     "data": {
      "text/plain": [
       "0.6533139432399084"
      ]
     },
     "execution_count": 13,
     "metadata": {},
     "output_type": "execute_result"
    }
   ],
   "source": [
    "mat = copy(fast_graph_krebs.D_inv)\n",
    "\n",
    "for i in [4, 25, 26]\n",
    "    mat[:, i] .= 0\n",
    "    mat[i, :] .= 0\n",
    "end\n",
    "\n",
    "#dropzeros!(mat);\n",
    "\n",
    "fragmentation(\n",
    "    fast_graph_krebs.A;\n",
    "    D_invs = mat,#fast_graph_krebs.D_inv,\n",
    "    graph = fast_graph_krebs.graph,\n",
    ")"
   ]
  },
  {
   "cell_type": "markdown",
   "id": "cd69d43d-8756-400e-93cd-2ccc0eddcb07",
   "metadata": {},
   "source": [
    "# Check Borgatti Examples 5a and 5b for validation"
   ]
  },
  {
   "cell_type": "code",
   "execution_count": 70,
   "id": "8b3f57df-f26d-495a-90e3-fe73a6e03db7",
   "metadata": {},
   "outputs": [
    {
     "data": {
      "text/plain": [
       "0.5555555555555556"
      ]
     },
     "execution_count": 70,
     "metadata": {},
     "output_type": "execute_result"
    }
   ],
   "source": [
    "examples = FastGraphs.Examples()\n",
    "mat_5a = sparse(examples.get_example(:borgatti_figure_5a)); # reported vaue is \n",
    "mat_5b = examples.get_example(:borgatti_figure_5b); #\n",
    "fragmentation(mat_5a)\n",
    "\n",
    "\n"
   ]
  },
  {
   "cell_type": "code",
   "execution_count": 5,
   "id": "1cce0f9e-b0fc-42a0-8a84-df746717320f",
   "metadata": {},
   "outputs": [],
   "source": [
    "#fast_graph.vertex_names"
   ]
  },
  {
   "cell_type": "markdown",
   "id": "a8111127-4d6f-4bc6-a116-5594dfc54f59",
   "metadata": {},
   "source": []
  },
  {
   "cell_type": "code",
   "execution_count": null,
   "id": "cc4d41d2-c3bd-48ba-a59f-56e310e44746",
   "metadata": {
    "tags": []
   },
   "outputs": [],
   "source": []
  },
  {
   "cell_type": "code",
   "execution_count": 16,
   "id": "5864657f-3269-4c0a-a85b-fb7cf19965e4",
   "metadata": {},
   "outputs": [
    {
     "data": {
      "text/plain": [
       "test1_FastGraph(sparse([2, 1, 3, 4, 13, 24, 35, 46, 57, 60  …  3, 46, 2, 62, 2, 5, 6, 46, 57, 61], [1, 2, 2, 2, 2, 2, 2, 2, 2, 2  …  60, 60, 61, 61, 62, 62, 62, 62, 62, 62], [1.0, 1.0, 1.0, 1.0, 1.0, 1.0, 1.0, 1.0, 1.0, 1.0  …  1.0, 1.0, 1.0, 1.0, 1.0, 1.0, 1.0, 1.0, 1.0, 1.0], 62, 62), false, [\"0\", \"1\", \"10\", \"11\", \"12\", \"13\", \"14\", \"15\", \"16\", \"17\"  …  \"56\", \"57\", \"58\", \"59\", \"6\", \"60\", \"61\", \"7\", \"8\", \"9\"], [1.0, 1.0, 1.0, 1.0, 1.0, 1.0, 1.0, 1.0, 1.0, 1.0  …  1.0, 1.0, 1.0, 1.0, 1.0, 1.0, 1.0, 1.0, 1.0, 1.0], [0.0 1.0 … 2.0 2.0; 1.0 0.0 … 1.0 1.0; … ; 2.0 1.0 … 0.0 1.0; 2.0 1.0 … 1.0 0.0], [0.0 1.0 … 0.5 0.5; 1.0 0.0 … 1.0 1.0; … ; 0.5 1.0 … 0.0 1.0; 0.5 1.0 … 1.0 0.0], (62, 304), SimpleGraph{Int64}(152, [[2], [1, 3, 4, 13, 24, 35, 46, 57, 60, 61, 62], [2, 7, 60], [2, 6, 8, 18, 20, 21, 22, 23, 25, 26  …  29, 30, 32, 33, 34, 36, 37, 38, 39, 40], [6, 8, 9, 10, 62], [4, 5, 18, 62], [3, 8], [4, 5, 7, 10, 16, 17, 18], [5, 10, 11], [5, 8, 9, 11, 12, 14, 15, 16]  …  [39, 40, 43, 52, 56, 58], [39, 49], [39, 49], [40, 53, 58], [2, 62], [40, 53, 56], [40], [2, 3, 46], [2, 62], [2, 5, 6, 46, 57, 61]]))"
      ]
     },
     "execution_count": 16,
     "metadata": {},
     "output_type": "execute_result"
    }
   ],
   "source": [
    "fast_graph_krebs"
   ]
  },
  {
   "cell_type": "code",
   "execution_count": 18,
   "id": "505f1a4c-9730-44e5-82ed-630b9e3025f6",
   "metadata": {},
   "outputs": [
    {
     "name": "stdout",
     "output_type": "stream",
     "text": [
      "  0.000020 seconds (6 allocations: 320 bytes)\n"
     ]
    },
    {
     "data": {
      "text/plain": [
       "0.5989335448616254"
      ]
     },
     "execution_count": 18,
     "metadata": {},
     "output_type": "execute_result"
    }
   ],
   "source": [
    "@time fragmentation(\n",
    "    fast_graph_krebs.A;\n",
    "    D_invs = fast_graph_krebs.D_inv,\n",
    "    graph = fast_graph_krebs.graph,\n",
    ")\n"
   ]
  },
  {
   "cell_type": "code",
   "execution_count": null,
   "id": "8af443bc-6951-41d8-8503-a2832ba8c3ed",
   "metadata": {
    "tags": []
   },
   "outputs": [],
   "source": []
  },
  {
   "cell_type": "code",
   "execution_count": 31,
   "id": "21f6b6ff-bca7-4f2c-a83e-e0bb71b8379c",
   "metadata": {},
   "outputs": [
    {
     "data": {
      "text/plain": [
       "0.6547241318526356"
      ]
     },
     "execution_count": 31,
     "metadata": {},
     "output_type": "execute_result"
    }
   ],
   "source": [
    "F"
   ]
  },
  {
   "cell_type": "code",
   "execution_count": 28,
   "id": "de195d48-0ceb-494b-955a-8d182f4fc3b2",
   "metadata": {},
   "outputs": [
    {
     "data": {
      "text/plain": [
       "3-element Vector{String}:\n",
       " \"11\"\n",
       " \"30\"\n",
       " \"31\""
      ]
     },
     "execution_count": 28,
     "metadata": {},
     "output_type": "execute_result"
    }
   ],
   "source": [
    "fast_graph_krebs.vertex_names[[4, 25, 26]]"
   ]
  },
  {
   "cell_type": "code",
   "execution_count": 49,
   "id": "33088a47-4252-4538-b760-ed92f7c49a80",
   "metadata": {},
   "outputs": [
    {
     "data": {
      "text/plain": [
       "\"/Users/jsyme/Documents/Projects/FY23/KPP_RIR/temp_vals.csv\""
      ]
     },
     "execution_count": 49,
     "metadata": {},
     "output_type": "execute_result"
    }
   ],
   "source": [
    "using CSV\n",
    "\n",
    "i, j, v = findnz(fast_graph.A)\n",
    "\n",
    "df_out = DataFrame(\n",
    "    :i => i,\n",
    "    :j => j\n",
    ")\n",
    "\n",
    "CSV.write(\"/Users/jsyme/Documents/Projects/FY23/KPP_RIR/temp_vals.csv\", df_out)"
   ]
  },
  {
   "cell_type": "code",
   "execution_count": 15,
   "id": "e3a167fc-ebcb-439e-b77f-d10439b08530",
   "metadata": {},
   "outputs": [
    {
     "data": {
      "text/plain": [
       "0.7148148148148149"
      ]
     },
     "execution_count": 15,
     "metadata": {},
     "output_type": "execute_result"
    }
   ],
   "source": [
    "examples = FastGraphs.Examples()\n",
    "mat_5a = examples.get_example(:borgatti_figure_5a);\n",
    "mat_5b = examples.get_example(:borgatti_figure_5b);\n",
    "\n",
    "fragmentation(mat_5b)"
   ]
  },
  {
   "cell_type": "code",
   "execution_count": 13,
   "id": "01187a96-6d12-48fc-8b3b-bb3a8688fdc3",
   "metadata": {},
   "outputs": [],
   "source": [
    "#fragmentation(mat_5b; use_distance_weighting = false)\n",
    "using Distributed\n",
    "@everywhere GC.gc()"
   ]
  },
  {
   "cell_type": "code",
   "execution_count": null,
   "id": "5a2681bc-9f3d-42ca-b360-094598392a0e",
   "metadata": {},
   "outputs": [],
   "source": []
  },
  {
   "cell_type": "code",
   "execution_count": 12,
   "id": "f6a5cd2c-90e4-4eaa-b7fe-6dccdc6d4f8b",
   "metadata": {},
   "outputs": [],
   "source": [
    "fp_egl_out = \"/Users/jsyme/Documents/Projects/FY23/KPP_RIR/edge_lists/dprk_iran_edges_undirected.egl\"\n",
    "fast_graph_un = TEST_read_egl(fp_egl_out);"
   ]
  },
  {
   "cell_type": "code",
   "execution_count": 14,
   "id": "6fa6738f-ae2a-4735-b1a7-c34b049ec41e",
   "metadata": {},
   "outputs": [],
   "source": [
    "#fast_graph_un.D"
   ]
  },
  {
   "cell_type": "code",
   "execution_count": 26,
   "id": "d89b8330-11fa-4699-af85-759f1ec23bea",
   "metadata": {},
   "outputs": [
    {
     "data": {
      "text/plain": [
       "3571-element Vector{String}:\n",
       " \"10th_Olefin IRAN\"\n",
       " \"10th_Olefin Technip\"\n",
       " \"2ANS Cabinet\"\n",
       " \"2ANS HK_Express\"\n",
       " \"2ANS Habjanggang_Trading\"\n",
       " \"2ANS Nam_Dae_Cheon\"\n",
       " \"2ANS Pusong\"\n",
       " \"2ANS SSRC\"\n",
       " \"2ANS Tangun\"\n",
       " \"2_Econ 5MIB\"\n",
       " \"2_Econ DPRK\"\n",
       " \"2_Econ KOMID\"\n",
       " \"2_Econ KOMID_Iran\"\n",
       " ⋮\n",
       " \"Uganda_PF_Kabalye Uganda_Police\"\n",
       " \"Uganda_PF_Masindi Uganda_Police\"\n",
       " \"Uganda_PF_Wantembo Uganda_Police\"\n",
       " \"Unaforte Unaforte_Italy\"\n",
       " \"Unaforte Unaforte_Yanbian\"\n",
       " \"Vanguard_Shipping_Safety Virtue_Base\"\n",
       " \"Virtue_Base Yuan_Tai\"\n",
       " \"Voetsch Voetsch_China\"\n",
       " \"Volgen Yevdokimov\"\n",
       " \"Win_More Yingjen_Fishery\"\n",
       " \"Winning_International Xingyuxin\"\n",
       " \"Wooheng_Shipping Wynn_East\""
      ]
     },
     "execution_count": 26,
     "metadata": {},
     "output_type": "execute_result"
    }
   ],
   "source": [
    "# create an undirected version\n",
    "\n",
    "#fp_egl_out = \"/Users/jsyme/Documents/Projects/FY23/KPP_RIR/edge_lists/dprk_iran_edges_undirected.egl\"\n",
    "\n",
    "mat_edges = split.(readlines(fp_egl), \" \");\n",
    "edges_out = sort(sort.(collect.(Set([sort(x) for x in mat_edges]))))\n",
    "edges_out = join.(edges_out, \" \")\n",
    "#edges_out = join(edges_out, \"\\n\")\n",
    "\n",
    "#write(fp_egl_out, edges_out)\n",
    "\n"
   ]
  },
  {
   "cell_type": "code",
   "execution_count": 21,
   "id": "55312abd-1903-469b-8fcf-3482f6addc8f",
   "metadata": {},
   "outputs": [],
   "source": [
    "#fast_graph_un = TEST_read_egl(fp_egl_out);\n",
    "lns = readlines(fp_egl_out);"
   ]
  },
  {
   "cell_type": "code",
   "execution_count": 32,
   "id": "abdaed8a-7772-4755-8f8a-0fc1d778fd62",
   "metadata": {},
   "outputs": [],
   "source": [
    "#length(edges_out)\n"
   ]
  },
  {
   "cell_type": "code",
   "execution_count": null,
   "id": "33a4d386-1614-4ffa-affa-3abdd53ee248",
   "metadata": {
    "jp-MarkdownHeadingCollapsed": true,
    "tags": []
   },
   "outputs": [],
   "source": [
    "#### fragmentation(\n",
    "    fast_graph.A;\n",
    "    fast_graph.D_inv,\n",
    "    \n",
    "    "
   ]
  },
  {
   "cell_type": "code",
   "execution_count": 4,
   "id": "fe00e6ab-02d6-4138-b520-0a770b746af7",
   "metadata": {
    "collapsed": true,
    "jupyter": {
     "outputs_hidden": true
    },
    "tags": []
   },
   "outputs": [
    {
     "data": {
      "text/plain": [
       "2458-element Vector{Float64}:\n",
       " 0.0002396512792609862\n",
       " 0.027002154416108398\n",
       " 0.023321535730591172\n",
       " 0.0\n",
       " 0.0\n",
       " 0.0\n",
       " 0.0\n",
       " 0.0007659429483533721\n",
       " 0.0\n",
       " 0.0\n",
       " 0.0\n",
       " 0.0002396512792609862\n",
       " 0.00022733915818985543\n",
       " ⋮\n",
       " 0.00018001090025831094\n",
       " 0.0\n",
       " 0.0\n",
       " 0.0\n",
       " 0.0033864753509096055\n",
       " 0.0\n",
       " 0.0\n",
       " 0.0\n",
       " 0.0\n",
       " 0.0\n",
       " 0.005659519743227193\n",
       " 0.0"
      ]
     },
     "execution_count": 4,
     "metadata": {},
     "output_type": "execute_result"
    }
   ],
   "source": [
    "\"\"\"\n",
    "\n",
    "\n",
    "Return indices of vertices ordered by specified centrality metric. Always\n",
    "    ordered from smallest to largest.\n",
    "\n",
    "##  Constructs\n",
    "\n",
    "```\n",
    "get_vertices_by_centrality(\n",
    "    n::Int64,\n",
    "    measure::Symbol;\n",
    "    ordering::Symbol = :top\n",
    ")\n",
    "```\n",
    "\n",
    "\n",
    "##  Function Arguments\n",
    "\n",
    "- `n`: number of vertices to return\n",
    "- `measure`: any of the following symbols:\n",
    "    * :betweenness\n",
    "    * :degree\n",
    "    * :eigenvector\n",
    "\n",
    "\n",
    "##  Keyword Arguments\n",
    "\n",
    "- `ordering`: :top or :bottom. Use :top to get retrieve the top n vertices\n",
    "    by the specified centrality or :bottom to get the bottom n. \n",
    "\"\"\"\n",
    "function get_vertices_by_centrality(\n",
    "    graph_fast::test1_FastGraph,\n",
    "    n::Int64,\n",
    "    measure::Symbol;\n",
    "    ordering::Symbol = :top\n",
    ")\n",
    "    \n",
    "    vec = graph_fast.centrality(measure)\n",
    "    \n",
    "    if measure == :betweenness\n",
    "        \n",
    "    else\n",
    "        \"\"\"\n",
    "        PLACEHOLDER FOR OTHER MEASURES\n",
    "        \"\"\"\n",
    "    end\n",
    "    \n",
    "end"
   ]
  },
  {
   "cell_type": "code",
   "execution_count": 27,
   "id": "ad591303-7866-4a2d-9fbe-40cbd26f14f0",
   "metadata": {},
   "outputs": [
    {
     "data": {
      "text/plain": [
       "\"/Users/jsyme/Desktop/graph_check.csv\""
      ]
     },
     "execution_count": 27,
     "metadata": {},
     "output_type": "execute_result"
    }
   ],
   "source": [
    "df = get_alignment_data_frame(fast_graph) \n",
    "using CSV\n",
    "CSV.write(\"/Users/jsyme/Desktop/graph_check.csv\", df)"
   ]
  },
  {
   "cell_type": "code",
   "execution_count": 23,
   "id": "0da89f40-617f-4d27-ab54-923d708cd833",
   "metadata": {},
   "outputs": [
    {
     "data": {
      "text/plain": [
       "get_alignment_data_frame (generic function with 1 method)"
      ]
     },
     "execution_count": 23,
     "metadata": {},
     "output_type": "execute_result"
    }
   ],
   "source": [
    "function get_alignment_data_frame(\n",
    "    fast_graph::test1_FastGraph;\n",
    "    field_column::Symbol = :column,\n",
    "    field_row::Symbol = :row,\n",
    "    field_weight::Symbol = :weight\n",
    ")::Union{DataFrame, Nothing}\n",
    "    \n",
    "    i, j, v = findnz(fast_graph.A)\n",
    "    \n",
    "    df_out = DataFrame(\n",
    "        Dict(\n",
    "            field_row => i,\n",
    "            field_column => j,\n",
    "            field_weight => fast_graph.w\n",
    "        )\n",
    "    )\n",
    "    \n",
    "    # sort\n",
    "    sort!(df_out, [field_row, field_column])\n",
    "    \n",
    "    return df_out\n",
    "end\n"
   ]
  },
  {
   "cell_type": "code",
   "execution_count": 11,
   "id": "168a82e3-08ae-469a-b5bf-59314c321819",
   "metadata": {},
   "outputs": [
    {
     "data": {
      "text/plain": [
       "0.9988174137889354"
      ]
     },
     "execution_count": 11,
     "metadata": {},
     "output_type": "execute_result"
    }
   ],
   "source": [
    "fragmentation(\n",
    "    fast_graph.A; \n",
    "    D_invs = fast_graph.D_inv,\n",
    "    graph = fast_graph.graph,\n",
    "    use_distance_weighting = false\n",
    ")"
   ]
  },
  {
   "cell_type": "code",
   "execution_count": null,
   "id": "8a75bc6b-db03-4838-b4b1-c1caae566a82",
   "metadata": {},
   "outputs": [],
   "source": []
  },
  {
   "cell_type": "code",
   "execution_count": null,
   "id": "d040c3ed-6dcc-4e85-93a8-6d2a741bc173",
   "metadata": {},
   "outputs": [],
   "source": []
  },
  {
   "cell_type": "code",
   "execution_count": null,
   "id": "418e0066-fe59-4ccb-a67b-89d16c69a218",
   "metadata": {},
   "outputs": [],
   "source": []
  },
  {
   "cell_type": "code",
   "execution_count": null,
   "id": "aa021555-f531-4f9a-89d7-cf2bf6e7886e",
   "metadata": {},
   "outputs": [],
   "source": []
  },
  {
   "cell_type": "markdown",
   "id": "582fc180-915a-40ed-80f8-5fa6b7636c2c",
   "metadata": {},
   "source": [
    "##  Precompile distance matrices to speed up fragmentation calculations"
   ]
  },
  {
   "cell_type": "code",
   "execution_count": 31,
   "id": "9ce81d94-5473-4bf1-aa23-671503c7deef",
   "metadata": {},
   "outputs": [
    {
     "name": "stdout",
     "output_type": "stream",
     "text": [
      "  3.566762 seconds (2.42 M allocations: 768.913 MiB, 4.21% gc time, 24.77% compilation time)\n"
     ]
    }
   ],
   "source": [
    "D = SharedArray{Float64}(size(adj));\n",
    "@time D, D_inv = get_distance_matrices(adj, D);\n",
    "\n",
    "#\n",
    "# NOTE ON IMPROVEMENTS:\n",
    "#  (1) split into connected components first\n",
    "#  (2) breadth-first search for parents (I need to understand what this actually is)\n",
    "#  (3) parameterization of search\n",
    "#"
   ]
  },
  {
   "cell_type": "markdown",
   "id": "20b042f1-f473-41b1-bc36-901a78596cd9",
   "metadata": {},
   "source": [
    "##  Calculate fragmentation"
   ]
  },
  {
   "cell_type": "code",
   "execution_count": 36,
   "id": "f3ebb465-ef5c-434f-b795-5305f47cd607",
   "metadata": {},
   "outputs": [
    {
     "name": "stdout",
     "output_type": "stream",
     "text": [
      "  0.330568 seconds (1.70 M allocations: 81.814 MiB, 98.63% compilation time)\n"
     ]
    },
    {
     "data": {
      "text/plain": [
       "0.8262404466978552"
      ]
     },
     "execution_count": 36,
     "metadata": {},
     "output_type": "execute_result"
    }
   ],
   "source": [
    "@time fract = fragmentation(\n",
    "    adj; \n",
    "    D_invs = D_inv,\n",
    "    graph = graph,\n",
    "    use_distance_weighting = true\n",
    ")\n"
   ]
  },
  {
   "cell_type": "markdown",
   "id": "245a84de-6279-4ac4-9f27-c5e887d356ec",
   "metadata": {},
   "source": [
    "##  Build \"stochastic gradient descent\"\n",
    "- see process at https://www.rdocumentation.org/packages/influenceR/versions/0.1.0/topics/keyplayer\n",
    "- Add in link-based approach\n",
    "    - with Pyntacle\n",
    "    - fragmentation, look at cut set and minimum cut set"
   ]
  },
  {
   "cell_type": "code",
   "execution_count": null,
   "id": "f28693bb-e83f-4e1f-bd02-6acaaa9c8fa2",
   "metadata": {},
   "outputs": [],
   "source": []
  },
  {
   "cell_type": "code",
   "execution_count": 306,
   "id": "31b0947d-2378-4f01-881f-acb0538d0a6d",
   "metadata": {
    "collapsed": true,
    "jupyter": {
     "outputs_hidden": true
    },
    "tags": []
   },
   "outputs": [
    {
     "name": "stdout",
     "output_type": "stream",
     "text": [
      "\n",
      "\n",
      "** keeping swap! 2 - F = 0.8263980457479595, F_0 = 0, F_try = 0.8264421164324398\n",
      "\n",
      "\n",
      "** keeping swap! 41 - F = 0.8264421164324398, F_0 = 0.8263980457479595, F_try = 0.8264735232883395\n",
      "100 iterations complete with value 0.8264735232883395 (previous 0.8264421164324398)\n",
      "200 iterations complete with value 0.8264735232883395 (previous 0.8264421164324398)\n",
      "300 iterations complete with value 0.8264735232883395 (previous 0.8264421164324398)\n",
      "\n",
      "\n",
      "** keeping swap! 369 - F = 0.8264735232883395, F_0 = 0.8264421164324398, F_try = 0.8264775032640993\n",
      "400 iterations complete with value 0.8264775032640993 (previous 0.8264735232883395)\n",
      "500 iterations complete with value 0.8264775032640993 (previous 0.8264735232883395)\n",
      "\n",
      "\n",
      "** keeping swap! 587 - F = 0.8264775032640993, F_0 = 0.8264735232883395, F_try = 0.8264782747015142\n",
      "600 iterations complete with value 0.8264782747015142 (previous 0.8264775032640993)\n",
      "700 iterations complete with value 0.8264782747015142 (previous 0.8264775032640993)\n",
      "800 iterations complete with value 0.8264782747015142 (previous 0.8264775032640993)\n",
      "900 iterations complete with value 0.8264782747015142 (previous 0.8264775032640993)\n",
      "1000 iterations complete with value 0.8264782747015142 (previous 0.8264775032640993)\n",
      "1100 iterations complete with value 0.8264782747015142 (previous 0.8264775032640993)\n",
      "1200 iterations complete with value 0.8264782747015142 (previous 0.8264775032640993)\n",
      "1300 iterations complete with value 0.8264782747015142 (previous 0.8264775032640993)\n",
      "1400 iterations complete with value 0.8264782747015142 (previous 0.8264775032640993)\n",
      "1500 iterations complete with value 0.8264782747015142 (previous 0.8264775032640993)\n",
      "1600 iterations complete with value 0.8264782747015142 (previous 0.8264775032640993)\n",
      "1700 iterations complete with value 0.8264782747015142 (previous 0.8264775032640993)\n",
      "1800 iterations complete with value 0.8264782747015142 (previous 0.8264775032640993)\n",
      "\n",
      "\n",
      "** keeping swap! 1832 - F = 0.8264782747015142, F_0 = 0.8264775032640993, F_try = 0.826530040322784\n",
      "1900 iterations complete with value 0.826530040322784 (previous 0.8264782747015142)\n",
      "2000 iterations complete with value 0.826530040322784 (previous 0.8264782747015142)\n",
      "2100 iterations complete with value 0.826530040322784 (previous 0.8264782747015142)\n",
      "2200 iterations complete with value 0.826530040322784 (previous 0.8264782747015142)\n",
      "2300 iterations complete with value 0.826530040322784 (previous 0.8264782747015142)\n",
      "2400 iterations complete with value 0.826530040322784 (previous 0.8264782747015142)\n",
      "2500 iterations complete with value 0.826530040322784 (previous 0.8264782747015142)\n",
      "2600 iterations complete with value 0.826530040322784 (previous 0.8264782747015142)\n",
      "2700 iterations complete with value 0.826530040322784 (previous 0.8264782747015142)\n",
      "2800 iterations complete with value 0.826530040322784 (previous 0.8264782747015142)\n",
      "2900 iterations complete with value 0.826530040322784 (previous 0.8264782747015142)\n",
      "3000 iterations complete with value 0.826530040322784 (previous 0.8264782747015142)\n",
      "3100 iterations complete with value 0.826530040322784 (previous 0.8264782747015142)\n",
      "3200 iterations complete with value 0.826530040322784 (previous 0.8264782747015142)\n",
      "3300 iterations complete with value 0.826530040322784 (previous 0.8264782747015142)\n",
      "3400 iterations complete with value 0.826530040322784 (previous 0.8264782747015142)\n",
      "3500 iterations complete with value 0.826530040322784 (previous 0.8264782747015142)\n",
      "3600 iterations complete with value 0.826530040322784 (previous 0.8264782747015142)\n",
      "3700 iterations complete with value 0.826530040322784 (previous 0.8264782747015142)\n",
      "3800 iterations complete with value 0.826530040322784 (previous 0.8264782747015142)\n",
      "3900 iterations complete with value 0.826530040322784 (previous 0.8264782747015142)\n",
      "4000 iterations complete with value 0.826530040322784 (previous 0.8264782747015142)\n",
      "4100 iterations complete with value 0.826530040322784 (previous 0.8264782747015142)\n",
      "4200 iterations complete with value 0.826530040322784 (previous 0.8264782747015142)\n",
      "4300 iterations complete with value 0.826530040322784 (previous 0.8264782747015142)\n",
      "4400 iterations complete with value 0.826530040322784 (previous 0.8264782747015142)\n",
      "4500 iterations complete with value 0.826530040322784 (previous 0.8264782747015142)\n",
      "4600 iterations complete with value 0.826530040322784 (previous 0.8264782747015142)\n",
      "4700 iterations complete with value 0.826530040322784 (previous 0.8264782747015142)\n",
      "4800 iterations complete with value 0.826530040322784 (previous 0.8264782747015142)\n",
      "4900 iterations complete with value 0.826530040322784 (previous 0.8264782747015142)\n",
      "5000 iterations complete with value 0.826530040322784 (previous 0.8264782747015142)\n",
      " 18.922419 seconds (581.89 k allocations: 2.700 GiB, 4.84% gc time)\n"
     ]
    }
   ],
   "source": [
    "@time adj, arr_store_cols, arr_store_rows, S = stochastic_gradient_descent(\n",
    "    1,\n",
    "    fast_graph; \n",
    "    epsilon = (10^(-10)),\n",
    "    max_iter = 5000,\n",
    "    randomize_swap_count = true,\n",
    "    #S = S,\n",
    ");"
   ]
  },
  {
   "cell_type": "code",
   "execution_count": 309,
   "id": "bcac0b6e-b414-4c75-959c-a6cb6b5dd33c",
   "metadata": {
    "tags": []
   },
   "outputs": [
    {
     "data": {
      "text/plain": [
       "2458-element Vector{Float64}:\n",
       " 0.0002396512792609862\n",
       " 0.027002154416108398\n",
       " 0.023321535730591172\n",
       " 0.0\n",
       " 0.0\n",
       " 0.0\n",
       " 0.0\n",
       " 0.0007659429483533721\n",
       " 0.0\n",
       " 0.0\n",
       " 0.0\n",
       " 0.0002396512792609862\n",
       " 0.00022733915818985543\n",
       " ⋮\n",
       " 0.00018001090025831094\n",
       " 0.0\n",
       " 0.0\n",
       " 0.0\n",
       " 0.0033864753509096055\n",
       " 0.0\n",
       " 0.0\n",
       " 0.0\n",
       " 0.0\n",
       " 0.0\n",
       " 0.005659519743227193\n",
       " 0.0"
      ]
     },
     "execution_count": 309,
     "metadata": {},
     "output_type": "execute_result"
    }
   ],
   "source": [
    "v_centrality = betweenness_centrality(fast_graph.graph)"
   ]
  },
  {
   "cell_type": "code",
   "execution_count": null,
   "id": "c220c1d6-fa0b-45ca-8490-e336ec68a981",
   "metadata": {},
   "outputs": [],
   "source": []
  },
  {
   "cell_type": "code",
   "execution_count": 302,
   "id": "9213056a-f3ae-4798-aa4c-2d87c1b6a1e5",
   "metadata": {},
   "outputs": [],
   "source": [
    "m = size(adj2)[1]\n",
    "n_nodes = length(S)\n",
    "arr_store_cols = zeros(n_nodes, m)\n",
    "arr_store_rows = zeros(n_nodes, m)\n",
    "arr_store_cols_transient = zeros(n_nodes, m)\n",
    "arr_store_rows_transient = zeros(n_nodes, m);"
   ]
  },
  {
   "cell_type": "code",
   "execution_count": 303,
   "id": "c859990e-6ff0-4a3f-8099-a3ffebcd7920",
   "metadata": {},
   "outputs": [
    {
     "name": "stdout",
     "output_type": "stream",
     "text": [
      "  0.003249 seconds (119 allocations: 1.131 MiB)\n"
     ]
    }
   ],
   "source": [
    "@time swap!(\n",
    "    adj2,\n",
    "    S, S, S,\n",
    "    arr_store_cols,\n",
    "    arr_store_rows,\n",
    "    arr_store_cols_transient,\n",
    "    arr_store_rows_transient,\n",
    ")"
   ]
  },
  {
   "cell_type": "code",
   "execution_count": 111,
   "id": "32690f11-eb09-4508-9860-871e3dad3aa9",
   "metadata": {
    "collapsed": true,
    "jupyter": {
     "outputs_hidden": true
    },
    "tags": []
   },
   "outputs": [
    {
     "name": "stdout",
     "output_type": "stream",
     "text": [
      "0.0\n",
      "0.5\n",
      "0.2\n",
      "0.25\n",
      "0.3333333333333333\n",
      "0.5\n",
      "0.25\n",
      "0.25\n",
      "0.25\n",
      "0.3333333333333333\n",
      "0.5\n",
      "0.25\n",
      "0.3333333333333333\n",
      "0.25\n",
      "0.3333333333333333\n",
      "0.5\n",
      "0.25\n",
      "0.5\n",
      "0.5\n",
      "0.5\n",
      "0.25\n",
      "0.3333333333333333\n",
      "0.5\n",
      "0.3333333333333333\n",
      "0.25\n",
      "0.25\n",
      "0.5\n",
      "0.14285714285714285\n",
      "0.5\n",
      "0.3333333333333333\n",
      "0.5\n",
      "0.5\n",
      "0.3333333333333333\n",
      "0.5\n",
      "0.5\n",
      "0.3333333333333333\n",
      "0.5\n",
      "0.3333333333333333\n",
      "0.3333333333333333\n",
      "0.5\n",
      "0.3333333333333333\n",
      "0.5\n",
      "0.5\n",
      "0.3333333333333333\n",
      "1.0\n",
      "0.5\n",
      "0.2\n",
      "0.5\n",
      "0.16666666666666666\n",
      "1.0842021724855044e-19\n",
      "0.5\n",
      "0.5\n",
      "0.5\n",
      "0.3333333333333333\n",
      "0.3333333333333333\n",
      "0.3333333333333333\n",
      "0.5\n",
      "0.5\n",
      "0.3333333333333333\n",
      "0.25\n",
      "0.3333333333333333\n",
      "0.5\n",
      "0.3333333333333333\n",
      "1.0842021724855044e-19\n",
      "0.25\n",
      "0.5\n",
      "0.5\n",
      "0.3333333333333333\n",
      "0.5\n",
      "0.3333333333333333\n",
      "0.5\n",
      "0.5\n",
      "0.5\n",
      "0.3333333333333333\n",
      "0.3333333333333333\n",
      "1.0\n",
      "0.3333333333333333\n",
      "0.5\n",
      "0.5\n",
      "0.5\n",
      "0.5\n",
      "0.5\n",
      "0.5\n",
      "0.5\n",
      "0.5\n",
      "0.5\n",
      "0.5\n",
      "0.16666666666666666\n",
      "0.25\n",
      "0.5\n",
      "0.5\n",
      "0.3333333333333333\n",
      "0.3333333333333333\n",
      "0.5\n",
      "0.3333333333333333\n",
      "0.3333333333333333\n",
      "0.3333333333333333\n",
      "0.5\n",
      "0.3333333333333333\n",
      "0.5\n"
     ]
    }
   ],
   "source": [
    "#adj[:, 90]\n",
    "#maximum(arr_store_cols[1, :])\n",
    "for i in enumerate(S)\n",
    "    \n",
    "    ind, i = i\n",
    "    \n",
    "    m0 = maximum(fast_graph.D_inv[i, :])\n",
    "    m1 = maximum(fast_graph.D_inv[:, i])\n",
    "    \n",
    "    m_total = maximum([m0, m1])\n",
    "    \n",
    "    #(m_total > 0) ? println(i) : nothing\n",
    "    \n",
    "    println(maximum(arr_store_rows[ind, :]))\n",
    "end"
   ]
  },
  {
   "cell_type": "code",
   "execution_count": 249,
   "id": "4358ff53-dcd6-432c-9650-bc7abb805025",
   "metadata": {},
   "outputs": [
    {
     "data": {
      "text/plain": [
       "5×5 Matrix{Float64}:\n",
       " 0.47956    0.622032  0.141792  0.641025  0.212467\n",
       " 0.28124    0.824644  0.399715  0.219051  0.228287\n",
       " 0.870848   0.808636  0.348541  0.649718  0.833938\n",
       " 0.412432   0.295449  0.29573   0.18228   0.893942\n",
       " 0.0946407  0.716407  0.499005  0.219982  0.955113"
      ]
     },
     "execution_count": 249,
     "metadata": {},
     "output_type": "execute_result"
    }
   ],
   "source": []
  },
  {
   "cell_type": "code",
   "execution_count": null,
   "id": "4403d3c3-92d0-4ef1-9236-f8a75099e774",
   "metadata": {},
   "outputs": [],
   "source": []
  },
  {
   "cell_type": "code",
   "execution_count": 261,
   "id": "65980399-c0e9-4090-96b8-71a2a7800f5a",
   "metadata": {},
   "outputs": [],
   "source": [
    "adj = rand(5, 5)\n",
    "m = size(adj)[1]\n",
    "n_nodes = 2\n",
    "S = Vector{Int64}(sample(1:m, n_nodes; replace = false))\n",
    "arr_store_cols = zeros(n_nodes, m)\n",
    "arr_store_rows = zeros(n_nodes, m)\n",
    "arr_store_cols_transient = zeros(n_nodes, m)\n",
    "arr_store_rows_transient = zeros(n_nodes, m);\n",
    "swap!(\n",
    "    adj,\n",
    "    S, S, S,\n",
    "    arr_store_cols,\n",
    "    arr_store_rows,\n",
    "    arr_store_cols_transient,\n",
    "    arr_store_rows_transient,\n",
    ")"
   ]
  },
  {
   "cell_type": "code",
   "execution_count": 262,
   "id": "292f4403-1b83-4326-8b89-074dc6d864af",
   "metadata": {},
   "outputs": [
    {
     "data": {
      "text/plain": [
       "5×5 Matrix{Float64}:\n",
       " 0.750806  0.0  0.335105  0.904969   0.0\n",
       " 0.0       0.0  0.0       0.0        0.0\n",
       " 0.714849  0.0  0.622389  0.246009   0.0\n",
       " 0.215334  0.0  0.451835  0.0709246  0.0\n",
       " 0.0       0.0  0.0       0.0        0.0"
      ]
     },
     "execution_count": 262,
     "metadata": {},
     "output_type": "execute_result"
    }
   ],
   "source": [
    "adj"
   ]
  },
  {
   "cell_type": "code",
   "execution_count": 263,
   "id": "df48d43e-fd58-47bc-89ff-bd886e3f1607",
   "metadata": {},
   "outputs": [
    {
     "data": {
      "text/plain": [
       "2×5 Matrix{Float64}:\n",
       " 0.464767  0.622727  0.655561  0.765506  0.0906651\n",
       " 0.241644  0.316475  0.11871   0.59103   0.266664"
      ]
     },
     "execution_count": 263,
     "metadata": {},
     "output_type": "execute_result"
    }
   ],
   "source": [
    "arr_store_cols"
   ]
  },
  {
   "cell_type": "code",
   "execution_count": 264,
   "id": "91a81403-dfd3-4af1-8687-170a4a73083e",
   "metadata": {},
   "outputs": [
    {
     "data": {
      "text/plain": [
       "2×5 Matrix{Float64}:\n",
       " 0.514229  0.622727   0.476625  0.852058  0.316475\n",
       " 0.107181  0.0906651  0.619353  0.232175  0.266664"
      ]
     },
     "execution_count": 264,
     "metadata": {},
     "output_type": "execute_result"
    }
   ],
   "source": [
    "arr_store_rows"
   ]
  },
  {
   "cell_type": "code",
   "execution_count": 265,
   "id": "b9bc9a5f-6b74-4817-a5ad-522462ca01c0",
   "metadata": {},
   "outputs": [],
   "source": [
    "swap!(\n",
    "    adj,\n",
    "    S, [1], [2],\n",
    "    arr_store_cols,\n",
    "    arr_store_rows,\n",
    "    arr_store_cols_transient,\n",
    "    arr_store_rows_transient,\n",
    ")"
   ]
  },
  {
   "cell_type": "code",
   "execution_count": 266,
   "id": "59ca1c3e-76b1-4123-9f85-09c0fa00e576",
   "metadata": {},
   "outputs": [
    {
     "data": {
      "text/plain": [
       "5×5 Matrix{Float64}:\n",
       " 0.750806  0.464767   0.335105  0.904969   0.0\n",
       " 0.514229  0.622727   0.476625  0.852058   0.316475\n",
       " 0.714849  0.655561   0.622389  0.246009   0.0\n",
       " 0.215334  0.765506   0.451835  0.0709246  0.0\n",
       " 0.0       0.0906651  0.0       0.0        0.0"
      ]
     },
     "execution_count": 266,
     "metadata": {},
     "output_type": "execute_result"
    }
   ],
   "source": [
    "adj"
   ]
  },
  {
   "cell_type": "code",
   "execution_count": 267,
   "id": "7ecb6110-36ba-4e1c-8d0e-31c2ff8ac658",
   "metadata": {},
   "outputs": [
    {
     "data": {
      "text/plain": [
       "2×5 Matrix{Float64}:\n",
       " 0.0       0.0       0.0      0.0      0.0\n",
       " 0.241644  0.316475  0.11871  0.59103  0.266664"
      ]
     },
     "execution_count": 267,
     "metadata": {},
     "output_type": "execute_result"
    }
   ],
   "source": [
    "arr_store_cols"
   ]
  },
  {
   "cell_type": "code",
   "execution_count": 268,
   "id": "5f0b9346-681e-41d7-979a-025ee61d411b",
   "metadata": {},
   "outputs": [
    {
     "data": {
      "text/plain": [
       "2×5 Matrix{Float64}:\n",
       " 0.0       0.0        0.0       0.0       0.0\n",
       " 0.107181  0.0906651  0.619353  0.232175  0.266664"
      ]
     },
     "execution_count": 268,
     "metadata": {},
     "output_type": "execute_result"
    }
   ],
   "source": [
    "arr_store_rows"
   ]
  },
  {
   "cell_type": "code",
   "execution_count": 105,
   "id": "80a97d00-5ac6-4b67-89d0-f7a85aa12b66",
   "metadata": {},
   "outputs": [
    {
     "name": "stdout",
     "output_type": "stream",
     "text": [
      "0.0\n",
      "0.5\n",
      "0.2\n",
      "0.25\n",
      "0.3333333333333333\n",
      "0.5\n",
      "0.25\n",
      "0.25\n",
      "0.25\n",
      "0.3333333333333333\n",
      "0.5\n",
      "0.25\n",
      "0.3333333333333333\n",
      "0.25\n",
      "0.3333333333333333\n",
      "0.5\n",
      "0.25\n",
      "0.5\n",
      "0.5\n",
      "0.5\n",
      "0.25\n",
      "0.3333333333333333\n",
      "0.5\n",
      "0.3333333333333333\n",
      "0.25\n",
      "0.25\n",
      "0.5\n",
      "0.14285714285714285\n",
      "0.5\n",
      "0.3333333333333333\n",
      "0.5\n",
      "0.5\n",
      "0.3333333333333333\n",
      "0.5\n",
      "0.5\n",
      "0.3333333333333333\n",
      "0.5\n",
      "0.3333333333333333\n",
      "0.3333333333333333\n",
      "0.5\n",
      "0.3333333333333333\n",
      "0.5\n",
      "0.5\n",
      "0.3333333333333333\n",
      "1.0\n",
      "0.5\n",
      "0.2\n",
      "0.5\n",
      "0.16666666666666666\n",
      "1.0842021724855044e-19\n",
      "0.5\n",
      "0.5\n",
      "0.5\n",
      "0.3333333333333333\n",
      "0.3333333333333333\n",
      "0.3333333333333333\n",
      "0.5\n",
      "0.5\n",
      "0.3333333333333333\n",
      "0.25\n",
      "0.3333333333333333\n",
      "0.5\n",
      "0.3333333333333333\n",
      "1.0842021724855044e-19\n",
      "0.25\n",
      "0.5\n",
      "0.5\n",
      "0.3333333333333333\n",
      "0.5\n",
      "0.3333333333333333\n",
      "0.5\n",
      "0.5\n",
      "0.5\n",
      "0.3333333333333333\n",
      "0.3333333333333333\n",
      "1.0\n",
      "0.3333333333333333\n",
      "0.5\n",
      "0.5\n",
      "0.5\n",
      "0.5\n",
      "0.5\n",
      "0.5\n",
      "0.5\n",
      "0.5\n",
      "0.5\n",
      "0.5\n",
      "0.16666666666666666\n",
      "0.25\n",
      "0.5\n",
      "0.5\n",
      "0.3333333333333333\n",
      "0.3333333333333333\n",
      "0.5\n",
      "0.3333333333333333\n",
      "0.3333333333333333\n",
      "0.3333333333333333\n",
      "0.5\n",
      "0.3333333333333333\n",
      "0.5\n"
     ]
    }
   ],
   "source": [
    "for i in enumerate(S)\n",
    "    \n",
    "    ind, i = i\n",
    "    \n",
    "    m0 = maximum(adj[i, :])\n",
    "    m1 = maximum(adj[:, i])\n",
    "    \n",
    "    m_total = maximum([m0, m1])\n",
    "    \n",
    "    #(m_total > 0) ? println(i) : nothing\n",
    "    \n",
    "    println(maximum(arr_store_rows[ind, :]))\n",
    "end"
   ]
  },
  {
   "cell_type": "code",
   "execution_count": 95,
   "id": "a86aca57-3b70-44f0-96ea-c86cb249f829",
   "metadata": {},
   "outputs": [
    {
     "data": {
      "text/plain": [
       "100-element Vector{Int64}:\n",
       "   90\n",
       "   95\n",
       "  105\n",
       "  121\n",
       "  157\n",
       "  192\n",
       "  199\n",
       "  239\n",
       "  277\n",
       "  293\n",
       "  317\n",
       "  377\n",
       "  407\n",
       "    ⋮\n",
       " 2114\n",
       " 2133\n",
       " 2197\n",
       " 2294\n",
       " 2302\n",
       " 2305\n",
       " 2312\n",
       " 2359\n",
       " 2394\n",
       " 2432\n",
       " 2436\n",
       " 2456"
      ]
     },
     "execution_count": 95,
     "metadata": {},
     "output_type": "execute_result"
    }
   ],
   "source": [
    "S"
   ]
  },
  {
   "cell_type": "code",
   "execution_count": 260,
   "id": "1f5bb607-8328-419d-a97b-e59ad2ca173e",
   "metadata": {},
   "outputs": [
    {
     "data": {
      "text/plain": [
       "2458-element SparseVector{Float64, Int64} with 6 stored entries:\n",
       "  [34  ]  =  1.0\n",
       "  [343 ]  =  1.0\n",
       "  [484 ]  =  1.0\n",
       "  [1601]  =  1.0\n",
       "  [1935]  =  1.0\n",
       "  [1948]  =  1.0"
      ]
     },
     "execution_count": 260,
     "metadata": {},
     "output_type": "execute_result"
    }
   ],
   "source": [
    "fast_graph.A[2049, :]"
   ]
  },
  {
   "cell_type": "code",
   "execution_count": null,
   "id": "e8568dd4-86c4-4240-ac75-1c5fe9f7caf5",
   "metadata": {},
   "outputs": [],
   "source": []
  },
  {
   "cell_type": "code",
   "execution_count": null,
   "id": "b8f1ca65-e925-4a50-ad82-500063f7681d",
   "metadata": {},
   "outputs": [],
   "source": []
  },
  {
   "cell_type": "markdown",
   "id": "b802f38f-245d-4708-b30c-de6442597877",
   "metadata": {},
   "source": [
    "##  After finishing SGD\n",
    "- look to network-fragmentation-optimization-error.pdf (in project folder--from Colin)\n",
    "- look at implementing"
   ]
  },
  {
   "cell_type": "code",
   "execution_count": 54,
   "id": "242cd26e-42be-4520-84a4-5ced5603b678",
   "metadata": {},
   "outputs": [
    {
     "data": {
      "text/plain": [
       "Int64"
      ]
     },
     "execution_count": 54,
     "metadata": {},
     "output_type": "execute_result"
    }
   ],
   "source": [
    "#using Random\n",
    "rng = Int64\n",
    "#Random.rand(rng, Tuple(1:50))\n"
   ]
  },
  {
   "cell_type": "code",
   "execution_count": 55,
   "id": "9c7fbc72-09ca-4e91-9e1c-012d53704a2c",
   "metadata": {},
   "outputs": [
    {
     "data": {
      "text/plain": [
       "Random.SamplerSimple{DataType, UnitRange{Int64}, Any}(Int64, 1:50)"
      ]
     },
     "execution_count": 55,
     "metadata": {},
     "output_type": "execute_result"
    }
   ],
   "source": [
    "rng = Int64\n",
    "simp = Random.SamplerSimple(rng, 1:50)\n",
    "\n"
   ]
  },
  {
   "cell_type": "code",
   "execution_count": 58,
   "id": "d8680f8a-d3e8-4ec3-b761-b1b07f6bd701",
   "metadata": {},
   "outputs": [
    {
     "data": {
      "text/plain": [
       "16"
      ]
     },
     "execution_count": 58,
     "metadata": {},
     "output_type": "execute_result"
    }
   ],
   "source": [
    "rng = MersenneTwister()\n",
    "sp = Random.Sampler(rng, 1:20) # or Random.Sampler(MersenneTwister, 1:20)\n"
   ]
  },
  {
   "cell_type": "code",
   "execution_count": 80,
   "id": "d8926eca-a4db-41d9-bd4b-198ad979308f",
   "metadata": {},
   "outputs": [
    {
     "data": {
      "text/plain": [
       "5-element Vector{Int64}:\n",
       " 38\n",
       " 13\n",
       " 47\n",
       " 22\n",
       " 20"
      ]
     },
     "execution_count": 80,
     "metadata": {},
     "output_type": "execute_result"
    }
   ],
   "source": [
    "sample(1:50, 5; replace = false)"
   ]
  },
  {
   "cell_type": "code",
   "execution_count": 65,
   "id": "7ce6b51d-bb4b-4c79-abd3-f31b3acd4121",
   "metadata": {},
   "outputs": [
    {
     "data": {
      "text/plain": [
       "Random.SamplerSimple{DataType, UnitRange{Int64}, Any}(Int64, 1:20)"
      ]
     },
     "execution_count": 65,
     "metadata": {},
     "output_type": "execute_result"
    }
   ],
   "source": [
    "rng = Int64\n",
    "sp = Random.SamplerSimple(rng, 1:20) # or Random.Sampler(MersenneTwister, 1:20)\n"
   ]
  },
  {
   "cell_type": "code",
   "execution_count": 68,
   "id": "40528b4f-ea83-4093-b3ab-be5b4f66e16b",
   "metadata": {},
   "outputs": [
    {
     "ename": "LoadError",
     "evalue": "MethodError: no method matching rand(::Type{Int64}, ::Random.SamplerSimple{DataType, UnitRange{Int64}, Any})\n\u001b[0mClosest candidates are:\n\u001b[0m  rand(::Type{X}) where X at /Applications/Julia-1.8.app/Contents/Resources/julia/share/julia/stdlib/v1.8/Random/src/Random.jl:260\n\u001b[0m  rand(::Type{X}, \u001b[91m::Tuple{Vararg{Int64, N}} where N\u001b[39m) where X at /Applications/Julia-1.8.app/Contents/Resources/julia/share/julia/stdlib/v1.8/Random/src/Random.jl:290\n\u001b[0m  rand(::Type{X}, \u001b[91m::Integer\u001b[39m, \u001b[91m::Integer...\u001b[39m) where X at /Applications/Julia-1.8.app/Contents/Resources/julia/share/julia/stdlib/v1.8/Random/src/Random.jl:293\n\u001b[0m  ...",
     "output_type": "error",
     "traceback": [
      "MethodError: no method matching rand(::Type{Int64}, ::Random.SamplerSimple{DataType, UnitRange{Int64}, Any})\n\u001b[0mClosest candidates are:\n\u001b[0m  rand(::Type{X}) where X at /Applications/Julia-1.8.app/Contents/Resources/julia/share/julia/stdlib/v1.8/Random/src/Random.jl:260\n\u001b[0m  rand(::Type{X}, \u001b[91m::Tuple{Vararg{Int64, N}} where N\u001b[39m) where X at /Applications/Julia-1.8.app/Contents/Resources/julia/share/julia/stdlib/v1.8/Random/src/Random.jl:290\n\u001b[0m  rand(::Type{X}, \u001b[91m::Integer\u001b[39m, \u001b[91m::Integer...\u001b[39m) where X at /Applications/Julia-1.8.app/Contents/Resources/julia/share/julia/stdlib/v1.8/Random/src/Random.jl:293\n\u001b[0m  ...",
      "",
      "Stacktrace:",
      " [1] top-level scope",
      "   @ In[68]:1"
     ]
    }
   ],
   "source": [
    "rand(rng, sp)"
   ]
  },
  {
   "cell_type": "code",
   "execution_count": null,
   "id": "2830d3cb-7779-4237-ae67-ce446b942022",
   "metadata": {},
   "outputs": [],
   "source": []
  },
  {
   "cell_type": "code",
   "execution_count": null,
   "id": "ec4e2a95-f018-426d-b25d-04918520b575",
   "metadata": {},
   "outputs": [],
   "source": []
  },
  {
   "cell_type": "code",
   "execution_count": null,
   "id": "d44dc9af-86bb-4c29-92d7-8d8445f2efa1",
   "metadata": {},
   "outputs": [],
   "source": []
  },
  {
   "cell_type": "markdown",
   "id": "195475f7-3c06-4ba4-bd6f-499ff700a92d",
   "metadata": {},
   "source": [
    "# Next steps for May 1\n",
    "- Implement Gradient descent\n",
    "- Think about bayesian approach (would be very straightforwrd to implement bayesian updating on binomial assumption (Bernoulli) to updating edges\n",
    "- Potential integration of Multigraphs (layered)--(see community detection from https://people.maths.ox.ac.uk/porterm/papers/multislice.pdf)"
   ]
  },
  {
   "cell_type": "code",
   "execution_count": 2,
   "id": "63ec97f7-7ee5-4e80-b7ea-65d94a490371",
   "metadata": {},
   "outputs": [],
   "source": []
  },
  {
   "cell_type": "code",
   "execution_count": null,
   "id": "b55c141a-b41a-4ecb-b839-119bf5d75e7e",
   "metadata": {},
   "outputs": [],
   "source": []
  },
  {
   "cell_type": "code",
   "execution_count": 178,
   "id": "87dc80d2-20b1-41a2-ad17-7c1d195c87a1",
   "metadata": {
    "collapsed": true,
    "jupyter": {
     "outputs_hidden": true
    },
    "tags": []
   },
   "outputs": [
    {
     "name": "stdout",
     "output_type": "stream",
     "text": [
      "Running HiGHS 1.5.1 [date: 1970-01-01, git hash: 93f1876e4]\n",
      "Copyright (c) 2023 HiGHS under MIT licence terms\n",
      "Presolving model\n",
      "1000001 rows, 500500 cols, 2500500 nonzeros\n",
      "999501 rows, 500500 cols, 2499500 nonzeros\n",
      "\n",
      "Solving MIP model with:\n",
      "   999501 rows\n",
      "   500500 cols (500500 binary, 0 integer, 0 implied int., 0 continuous)\n",
      "   2499500 nonzeros\n",
      "\n",
      "        Nodes      |    B&B Tree     |            Objective Bounds              |  Dynamic Constraints |       Work      \n",
      "     Proc. InQueue |  Leaves   Expl. | BestBound       BestSol              Gap |   Cuts   InLp Confl. | LpIters     Time\n",
      "\n",
      "         0       0         0   0.00%   3248.136364     -inf                 inf        0      0      0         0     7.5s\n"
     ]
    },
    {
     "name": "stderr",
     "output_type": "stream",
     "text": [
      "WARNING: Force throwing a SIGINT\n"
     ]
    },
    {
     "ename": "LoadError",
     "evalue": "InterruptException:",
     "output_type": "error",
     "traceback": [
      "InterruptException:",
      "",
      "Stacktrace:",
      "  [1] Highs_run",
      "    @ ~/.julia/packages/HiGHS/U0kKQ/src/gen/libhighs.jl:303 [inlined]",
      "  [2] optimize!(model::HiGHS.Optimizer)",
      "    @ HiGHS ~/.julia/packages/HiGHS/U0kKQ/src/MOI_wrapper.jl:1748",
      "  [3] optimize!",
      "    @ ~/.julia/packages/MathOptInterface/fTxO0/src/Bridges/bridge_optimizer.jl:376 [inlined]",
      "  [4] optimize!",
      "    @ ~/.julia/packages/MathOptInterface/fTxO0/src/MathOptInterface.jl:85 [inlined]",
      "  [5] optimize!(m::MathOptInterface.Utilities.CachingOptimizer{MathOptInterface.Bridges.LazyBridgeOptimizer{HiGHS.Optimizer}, MathOptInterface.Utilities.UniversalFallback{MathOptInterface.Utilities.Model{Float64}}})",
      "    @ MathOptInterface.Utilities ~/.julia/packages/MathOptInterface/fTxO0/src/Utilities/cachingoptimizer.jl:316",
      "  [6] optimize!(model::Model; ignore_optimize_hook::Bool, _differentiation_backend::MathOptInterface.Nonlinear.SparseReverseMode, kwargs::Base.Pairs{Symbol, Union{}, Tuple{}, NamedTuple{(), Tuple{}}})",
      "    @ JuMP ~/.julia/packages/JuMP/9CBpS/src/optimizer_interface.jl:416",
      "  [7] optimize!",
      "    @ ~/.julia/packages/JuMP/9CBpS/src/optimizer_interface.jl:386 [inlined]",
      "  [8] TEST_maximize_fractionation_jump(D_inv::Matrix{Float64}; n_nodes_remove::Int64)",
      "    @ Main ./In[178]:56",
      "  [9] top-level scope",
      "    @ ./timing.jl:262 [inlined]",
      " [10] top-level scope",
      "    @ ./In[178]:0"
     ]
    }
   ],
   "source": [
    "\n",
    "\"\"\"\n",
    "y <= x1\n",
    "y <= x2\n",
    "y >= x1 - (1 - b)M\n",
    "y >= x2 - bM\n",
    "\n",
    "\n",
    "0, 0 -> y = 0\n",
    "1, 0 -> b = 0, y = 0\n",
    "0, 1 -> b = 1, y = 0\n",
    "1, 1 -> y = 1\n",
    "\n",
    "\"\"\"\n",
    "function TEST_maximize_fragmentation_jump(\n",
    "    D_inv::Matrix{Float64};\n",
    "    n_nodes_remove::Int64 = 1\n",
    ")\n",
    "    M = 10\n",
    "    \n",
    "    # initialize\n",
    "    n_nodes_remove = maximum([n_nodes_remove, 1])\n",
    "    n, n = size(D_inv)\n",
    "    n_pairs = n^2\n",
    "    \n",
    "    model = Model(optimizer_with_attributes(HiGHS.Optimizer))\n",
    "    \n",
    "    sums_row = sum.(eachrow(D_inv))\n",
    "    sums_col = sum.(eachrow(transpose(D_inv)))\n",
    "    \n",
    "    # add decision variable (number of vertices less 1)\n",
    "    @variable(model, 0 <= x[1:n] <= 1, Bin)\n",
    "    @variable(model, 0 <= y[1:n, 1:n] <= 1, Bin)\n",
    "    @variable(model, 0 <= b[1:n, 1:n] <= 1, Bin)\n",
    "    \n",
    "    @constraint(model, sum(x[i] for i in 1:n) == n - n_nodes_remove)\n",
    "    \n",
    "    # bounds on intersections of removed rows\n",
    "    @constraint(model, c1[i in 1:n, j in 1:n], y[i, j] <= x[j])\n",
    "    @constraint(model, c2[i in 1:n, j in 1:n], y[i, j] <= x[i])\n",
    "    @constraint(model, c3[i in 1:n, j in 1:n], x[i] - (1 - b[i, j])*M <= y[i, j])\n",
    "    @constraint(model, c4[i in 1:n, j in 1:n], x[j] - b[i, j]*M <= y[i, j])\n",
    "\n",
    "    \n",
    "    # NOT EFFICIENT, THERE IS A BETTER WAY\n",
    "    @objective(\n",
    "        model, \n",
    "        Max, \n",
    "        sum(\n",
    "            x[i]*sums_row[i] + x[i]*sums_col[i] for i in 1:n\n",
    "        ) - sum(\n",
    "            y[i, j]*D_inv[i, j] for i in 1:n, j in 1:n\n",
    "        )\n",
    "    );\n",
    "    \n",
    "    optimize!(model)\n",
    "    \n",
    "    return model\n",
    "end\n",
    "\n",
    "\n",
    "\n",
    "@time w_mod_jump = TEST_maximize_fragmentation_jump(\n",
    "    D_test_inv;\n",
    "    n_nodes_remove = 2\n",
    ");\n"
   ]
  },
  {
   "cell_type": "code",
   "execution_count": 7,
   "id": "0f55a35d-e6f1-4ad9-9f1a-40f190a0d8c5",
   "metadata": {},
   "outputs": [
    {
     "data": {
      "text/plain": [
       "SparseMatrixCSC"
      ]
     },
     "execution_count": 7,
     "metadata": {},
     "output_type": "execute_result"
    }
   ],
   "source": []
  },
  {
   "cell_type": "code",
   "execution_count": 174,
   "id": "d14d1588-a61e-4386-be56-1da56c96b1f1",
   "metadata": {
    "tags": []
   },
   "outputs": [
    {
     "name": "stdout",
     "output_type": "stream",
     "text": [
      "0.826240777861734  8.227998 seconds (31.77 M allocations: 547.776 MiB, 0.94% gc time, 2.39% compilation time)\n"
     ]
    }
   ],
   "source": [
    "# try setting up model for fragmentation optimization\n",
    "\n",
    "\n",
    "\n",
    "\"\"\"\n",
    "Generate the identify matrix without the nth element.\n",
    "\"\"\"\n",
    "function I_n(\n",
    "    n_row::Int64,\n",
    "    n::Int64\n",
    ") \n",
    "    vec = Int64.(ones(n_row))\n",
    "    vec[n] = 0\n",
    "    \n",
    "    return diagm(vec)\n",
    "end\n",
    "\n",
    "\n",
    "\n",
    "function TEST_maximize_fragmentation_linear(\n",
    "    adj::SparseMatrixCSC,\n",
    "    D_inv::Matrix{Float64};\n",
    "    vertex_indices::Union{Vector{Int64}, Nothing} = nothing\n",
    ")\n",
    "    \n",
    "    n, m = size(adj)\n",
    "    vertex_indices = isa(vertex_indices, Nothing) ? collect(1:size(adj)[1]) : [x for x in 1:n if x in vertex_indices]\n",
    "    vec_fracs = -1.0*ones(length(vertex_indices))\n",
    "    \n",
    "    D_inv_cur = copy(D_inv)\n",
    "    \n",
    "    col_cur = ones(n)\n",
    "    row_cur = ones(n)\n",
    "    \n",
    "    for i in vertex_indices\n",
    "\n",
    "        # preserve for replacement again\n",
    "        for j in 1:n\n",
    "            @inbounds col_cur[j] = D_inv_cur[j, i]\n",
    "            @inbounds row_cur[j] = D_inv_cur[i, j]\n",
    "        end\n",
    "        \n",
    "        # set to 0\n",
    "        D_inv_cur[:, i] .= 0\n",
    "        D_inv_cur[i, :] .= 0\n",
    "        \n",
    "        fract = fragmentation(\n",
    "            adj; \n",
    "            D_invs = D_inv_cur,\n",
    "            use_distance_weighting = true\n",
    "        )\n",
    "        \n",
    "        # reset\n",
    "        D_inv_cur[:, i] = col_cur\n",
    "        D_inv_cur[i, :] = row_cur\n",
    "        \n",
    "        vec_fracs[i] = fract\n",
    "\n",
    "    end\n",
    "    \n",
    "    print(minimum(vec_fracs))\n",
    "    \n",
    "    w = findall(x -> ((x == maximum(vec_fracs)) & (x > 0)), vec_fracs)\n",
    "    \n",
    "    return w\n",
    "\n",
    "end\n",
    "\n",
    "\n",
    "@time w_mod = TEST_maximize_fragmentation_linear(\n",
    "    adj, \n",
    "    D_lower_invs\n",
    ");"
   ]
  },
  {
   "cell_type": "code",
   "execution_count": null,
   "id": "16e77525-70e0-4951-b410-aa0d60ac47c6",
   "metadata": {},
   "outputs": [],
   "source": []
  },
  {
   "cell_type": "code",
   "execution_count": null,
   "id": "f4b3165a-1b81-4759-836d-008150e7baaf",
   "metadata": {},
   "outputs": [],
   "source": []
  },
  {
   "cell_type": "code",
   "execution_count": 134,
   "id": "6bf5657f-a802-47f2-bff9-9f1463d0ba0d",
   "metadata": {},
   "outputs": [],
   "source": [
    "using Statistics"
   ]
  },
  {
   "cell_type": "code",
   "execution_count": 62,
   "id": "d1b13165-69c2-4abe-8994-1fd71368dfbc",
   "metadata": {},
   "outputs": [
    {
     "data": {
      "text/plain": [
       "539.9940836940837"
      ]
     },
     "execution_count": 62,
     "metadata": {},
     "output_type": "execute_result"
    }
   ],
   "source": [
    "vec = Graphs.Parallel.dijkstra_shortest_paths(graph, 2).dists\n",
    "sum(1 ./ vec[vec .> 0])"
   ]
  },
  {
   "cell_type": "code",
   "execution_count": 20,
   "id": "221c7126-8af5-46a8-9cb8-c93070b6da8e",
   "metadata": {},
   "outputs": [
    {
     "name": "stdout",
     "output_type": "stream",
     "text": [
      "  2.769581 seconds (800.46 k allocations: 685.232 MiB, 10.90% gc time)\n",
      "  0.108650 seconds (618.16 k allocations: 29.473 MiB, 96.59% compilation time)\n"
     ]
    },
    {
     "data": {
      "text/plain": [
       "0.8262404466978552"
      ]
     },
     "execution_count": 20,
     "metadata": {},
     "output_type": "execute_result"
    }
   ],
   "source": []
  },
  {
   "cell_type": "code",
   "execution_count": 25,
   "id": "89b7a890-80dd-4a3e-9ae9-18c1c9201213",
   "metadata": {},
   "outputs": [
    {
     "name": "stdout",
     "output_type": "stream",
     "text": [
      "  0.003712 seconds (5.06 k allocations: 638.781 KiB)\n"
     ]
    },
    {
     "data": {
      "text/plain": [
       "0.8262404466978552"
      ]
     },
     "execution_count": 25,
     "metadata": {},
     "output_type": "execute_result"
    }
   ],
   "source": [
    "@time fragmentation(\n",
    "    adj; \n",
    "    D_invs = D_lower_invs,\n",
    "    use_distance_weighting = true\n",
    ")"
   ]
  },
  {
   "cell_type": "code",
   "execution_count": null,
   "id": "23a73b36-362d-4e89-9cc8-23cdff939761",
   "metadata": {},
   "outputs": [],
   "source": []
  },
  {
   "cell_type": "code",
   "execution_count": 64,
   "id": "44a0cc66-ca27-4703-b640-b4feadcf0ba0",
   "metadata": {},
   "outputs": [
    {
     "data": {
      "text/plain": [
       "4×4 Matrix{Int64}:\n",
       " 1  3  8  0\n",
       " 9  2  8  0\n",
       " 7  0  1  0\n",
       " 0  0  0  0"
      ]
     },
     "execution_count": 64,
     "metadata": {},
     "output_type": "execute_result"
    }
   ],
   "source": [
    "ma = [[1 3 8 10]; [9 2 8 3]; [7 0 1 1]; [6 5 2 5]]\n",
    "function I_n(\n",
    "    n::Int64; \n",
    "    n_row::Int64 = 4\n",
    ") \n",
    "    vec = Int64.(ones(n_row))\n",
    "    vec[n] = 0\n",
    "    return diagm(vec)\n",
    "end\n",
    "\n",
    "I_n(4) * ma * I_n(4)\n"
   ]
  },
  {
   "cell_type": "code",
   "execution_count": 94,
   "id": "5320bea1-9c6c-4fac-8637-ecc8e6546482",
   "metadata": {},
   "outputs": [],
   "source": [
    "df_edges_testing = \"/Users/jsyme/Documents/Projects/git/factset-interfirm-networks/factset_graph_optimization_model/ref/ensemble_model_new_edges_giovanni_20220929_complete/edges.csv\"\n",
    "df_edges_testing = read_csv(df_edges_testing, true);\n",
    "\n",
    "field_vertex_i = :vertex_i\n",
    "field_vertex_j = :vertex_j\n",
    "\n",
    "\n",
    "\n",
    "v_i = df_edges_testing[:, field_vertex_i]\n",
    "v_j = df_edges_testing[:, field_vertex_j]\n",
    "n = maximum(union(v_i, v_j))\n",
    "\n",
    "adj = sparse(v_i, v_j, ones(length(v_i))) \n",
    "adj = adj[1:5000, 1:5000] #TEMP: reduce for testing\n",
    "graph = SimpleDiGraph(adj);\n"
   ]
  },
  {
   "cell_type": "code",
   "execution_count": 109,
   "id": "748ebc0c-165a-40c0-a52b-a0c2595072be",
   "metadata": {},
   "outputs": [
    {
     "data": {
      "text/plain": [
       "{4, 3} undirected simple Int64 graph"
      ]
     },
     "execution_count": 109,
     "metadata": {},
     "output_type": "execute_result"
    }
   ],
   "source": [
    "mat = [[0 1 0 1]; [1 0 0 0]; [0 0 0 1]; [1 0 1 0]]\n",
    "g = SimpleGraph(mat)"
   ]
  },
  {
   "cell_type": "code",
   "execution_count": 16,
   "id": "e9d4d43e-5072-4983-997f-e2905a4cf51a",
   "metadata": {},
   "outputs": [
    {
     "name": "stdout",
     "output_type": "stream",
     "text": [
      "search: \u001b[0m\u001b[1mg\u001b[22m\u001b[0m\u001b[1me\u001b[22m\u001b[0m\u001b[1mt\u001b[22m\u001b[0m\u001b[1m_\u001b[22m\u001b[0m\u001b[1md\u001b[22m\u001b[0m\u001b[1mi\u001b[22m\u001b[0m\u001b[1ms\u001b[22m\u001b[0m\u001b[1mt\u001b[22m\u001b[0m\u001b[1ma\u001b[22m\u001b[0m\u001b[1mn\u001b[22m\u001b[0m\u001b[1mc\u001b[22m\u001b[0m\u001b[1me\u001b[22m\u001b[0m\u001b[1m_\u001b[22m\u001b[0m\u001b[1mm\u001b[22m\u001b[0m\u001b[1ma\u001b[22m\u001b[0m\u001b[1mt\u001b[22m\u001b[0m\u001b[1mr\u001b[22m\u001b[0m\u001b[1mi\u001b[22m\u001b[0m\u001b[1mc\u001b[22m\u001b[0m\u001b[1me\u001b[22m\u001b[0m\u001b[1ms\u001b[22m\n",
      "\n"
     ]
    },
    {
     "data": {
      "text/latex": [
       "\\section{Information}\n",
       "Return a distance mtarix and a lower-triangular distance matrix (without      diagonal). Returns a tuple of the form\n",
       "\n",
       "\\begin{verbatim}\n",
       "`D`, `D_invs`\n",
       "\n",
       "where `D` is the distance matrix (based on the shorted path) and `D_invs` is \n",
       "a matrix of distance inverses (excluding diagonal)\n",
       "\\end{verbatim}\n",
       "\\section{Constructs}\n",
       "function get\\emph{distance}matrices(     adj::Union\\{SparseMatrixCSC, Matrix\\},     D::SharedArray\\{Float64\\};     digits\\_round::Int64 = 10 )::Tuple\\{Matrix\\{Float64\\}, Matrix\\{Float64\\}\\}\n",
       "\n",
       "\\subsection{Function Arguments}\n",
       "\\begin{itemize}\n",
       "\\item \\texttt{adj}: sparse adjacency matrix used to set graph. Can be directed and/or    weighted\n",
       "\n",
       "\\end{itemize}\n",
       "\\subsection{Keyword Arguments}\n",
       "\\begin{itemize}\n",
       "\\item \\texttt{digits\\_round}: number of digits to round distance matrix to. Used to chop    Infs to 0.\n",
       "\n",
       "\n",
       "\\item \\texttt{graph}: optional graph associated with adj to pass\n",
       "\n",
       "\\end{itemize}\n"
      ],
      "text/markdown": [
       "# Information\n",
       "\n",
       "Return a distance mtarix and a lower-triangular distance matrix (without      diagonal). Returns a tuple of the form\n",
       "\n",
       "```\n",
       "`D`, `D_invs`\n",
       "\n",
       "where `D` is the distance matrix (based on the shorted path) and `D_invs` is \n",
       "a matrix of distance inverses (excluding diagonal)\n",
       "```\n",
       "\n",
       "# Constructs\n",
       "\n",
       "function get*distance*matrices(     adj::Union{SparseMatrixCSC, Matrix},     D::SharedArray{Float64};     digits_round::Int64 = 10 )::Tuple{Matrix{Float64}, Matrix{Float64}}\n",
       "\n",
       "## Function Arguments\n",
       "\n",
       "  * `adj`: sparse adjacency matrix used to set graph. Can be directed and/or    weighted\n",
       "\n",
       "## Keyword Arguments\n",
       "\n",
       "  * `digits_round`: number of digits to round distance matrix to. Used to chop    Infs to 0.\n",
       "  * `graph`: optional graph associated with adj to pass\n"
      ],
      "text/plain": [
       "\u001b[1m  Information\u001b[22m\n",
       "\u001b[1m  ≡≡≡≡≡≡≡≡≡≡≡≡≡\u001b[22m\n",
       "\n",
       "  Return a distance mtarix and a lower-triangular distance matrix (without\n",
       "  diagonal). Returns a tuple of the form\n",
       "\n",
       "\u001b[36m  `D`, `D_invs`\u001b[39m\n",
       "\u001b[36m  \u001b[39m\n",
       "\u001b[36m  where `D` is the distance matrix (based on the shorted path) and `D_invs` is \u001b[39m\n",
       "\u001b[36m  a matrix of distance inverses (excluding diagonal)\u001b[39m\n",
       "\n",
       "\u001b[1m  Constructs\u001b[22m\n",
       "\u001b[1m  ≡≡≡≡≡≡≡≡≡≡≡≡\u001b[22m\n",
       "\n",
       "  function get\u001b[4mdistance\u001b[24mmatrices( adj::Union{SparseMatrixCSC, Matrix},\n",
       "  D::SharedArray{Float64}; digits_round::Int64 = 10 )::Tuple{Matrix{Float64},\n",
       "  Matrix{Float64}}\n",
       "\n",
       "\u001b[1m  Function Arguments\u001b[22m\n",
       "\u001b[1m  ====================\u001b[22m\n",
       "\n",
       "    •  \u001b[36madj\u001b[39m: sparse adjacency matrix used to set graph. Can be directed\n",
       "       and/or weighted\n",
       "\n",
       "\u001b[1m  Keyword Arguments\u001b[22m\n",
       "\u001b[1m  ===================\u001b[22m\n",
       "\n",
       "    •  \u001b[36mdigits_round\u001b[39m: number of digits to round distance matrix to. Used\n",
       "       to chop Infs to 0.\n",
       "\n",
       "    •  \u001b[36mgraph\u001b[39m: optional graph associated with adj to pass"
      ]
     },
     "execution_count": 16,
     "metadata": {},
     "output_type": "execute_result"
    }
   ],
   "source": [
    "?get_distance_matrices"
   ]
  },
  {
   "cell_type": "markdown",
   "id": "9fdd069e-0a7d-41d6-8ad6-a589103b3fa2",
   "metadata": {},
   "source": []
  },
  {
   "cell_type": "code",
   "execution_count": null,
   "id": "1daa362c-5998-4df7-8dc1-ff44b8ec7442",
   "metadata": {
    "tags": []
   },
   "outputs": [],
   "source": [
    "\n",
    "\"\"\"\n",
    "Swap indices S\n",
    "\n",
    "- `S`: set of indices in current storage\n",
    "- `S_in`: set of indices entering storage from adj\n",
    "- `S_out`: set of indices exiting from storage back to \n",
    "    adj\n",
    "- `arr_store_cols`: storage array storing the column vectors\n",
    "    for subset of adj column indices S. Ordered by S.\n",
    "- `arr_store_rows`: storage array storing the row vectors\n",
    "    for subset of adj row indices S. Ordered by S.\n",
    "- `arr_store_cols_transient`: intermediate storage array used \n",
    "    to facilitate column swaps\n",
    "- `arr_store_rows_transient`: intermediate storage array used \n",
    "    to facilitate row swaps\n",
    "\n",
    "\"\"\"\n",
    "function swap!(\n",
    "    adj::Union{SparseMatrixCSC{Float64, Int64}, Matrix{Float64}},\n",
    "    S::Vector{Int64},\n",
    "    S_in::Vector{Int64},\n",
    "    S_out::Vector{Int64},\n",
    "    arr_store_cols::Union{SparseMatrixCSC{Float64, Int64}, Matrix{Float64}},\n",
    "    arr_store_rows::Union{SparseMatrixCSC{Float64, Int64}, Matrix{Float64}},\n",
    "    arr_store_cols_transient::Matrix{Float64},\n",
    "    arr_store_rows_transient::Matrix{Float64},\n",
    ")\n",
    "    if length(S_in) == length(S_out)\n",
    "        \n",
    "        n = length(S_in)\n",
    "        inds_out = findall(x -> (x in S_out), S)\n",
    "        \n",
    "        arr_store_cols_transient = copy(arr_store_cols)\n",
    "        arr_store_rows_transient = copy(arr_store_rows)\n",
    "        \n",
    "        \n",
    "        ##  1. SWAP IN TO STORAGE FROM ADJACENCY\n",
    "        \n",
    "        inds_s_out = Int64.(zeros(n))\n",
    "        \n",
    "        for i in 1:n\n",
    "            s_in = S_in[i]\n",
    "            s_out = S_out[i]\n",
    "            inds_s_out[i] = findall(x -> (x == s_out), S)[1]\n",
    "            \n",
    "            # column and column swaps\n",
    "            if (s_out in S) & (s_in <= size(adj)[1])\n",
    "                arr_store_cols[inds_s_out[i], :] = adj[:, s_in]\n",
    "                arr_store_rows[inds_s_out[i], :] = adj[s_in, :]\n",
    "            end\n",
    "        end\n",
    "        \n",
    "        \n",
    "        ##  2. SWAP OUT FROM TRANSIENT TO ADJACENCY & UPDATE S\n",
    "        \n",
    "        for i in 1:n\n",
    "            s_in = S_in[i]\n",
    "            s_out = S_out[i]\n",
    "\n",
    "            if (s_out in S) & (s_in <= size(adj)[1])\n",
    "\n",
    "                adj[:, s_out] = arr_store_cols_transient[inds_s_out[i], :]\n",
    "                adj[s_out, :] = arr_store_rows_transient[inds_s_out[i], :]\n",
    "\n",
    "                S[inds_s_out[i]] = s_in\n",
    "            end\n",
    "        end\n",
    "    end\n",
    "end\n",
    "\n",
    "\n",
    "\"\"\"\n",
    "# Constructs\n",
    "\n",
    "stochastic_gradient_descent(\n",
    "    n_nodes::Int64,\n",
    "    graph_fast::test1_FastGraph;\n",
    "    epsilon::Float64 = 10^(-6),\n",
    "    max_iter::Int64 = 100,\n",
    "    S::Union{Vector{Int64}, UnitRange{Int64}, Nothing} = nothing,\n",
    "    randomize_swap_count::Bool = false\n",
    ")\n",
    "\n",
    "##  Function Arguments\n",
    "\n",
    "- `n_nodes`: number of nodes to remove\n",
    "- `graph_fast`: FastGraph storing information for running swaps\n",
    "\n",
    "\n",
    "##  Keyword Arguments\n",
    "\n",
    "- `distance_algorithm`: distance algorithm to use to update distance matrix. Passed to get_distance_matrices(). Default is :auto\n",
    "- `epsilon`: convergence threshold\n",
    "- `max_iter`: maximum number of iterations to allow\n",
    "- `max_iter_no_improvement`: maximum number of iterations without improving the objective function to allow\n",
    "- `print_info`: print outputs?\n",
    "- `randomize_swap_count`: if true, randomizes number of swaps on each\n",
    "    iteration. Otherwise, swaps one at a time\n",
    "- `S`: optional set of indices to start with. Must have length `n_nodes`\n",
    "\n",
    "\"\"\"\n",
    "function stochastic_gradient_descent_depr(\n",
    "    n_nodes::Int64,\n",
    "    graph_fast::test1_FastGraph;\n",
    "    distance_algorithm::Symbol = :auto,\n",
    "    epsilon::Float64 = 10^(-6),\n",
    "    max_iter::Int64 = 1000,\n",
    "    max_iter_no_improvement::Int64 = 200,\n",
    "    print_info::Bool = false,\n",
    "    S::Union{Vector{Int64}, UnitRange{Int64}, Nothing} = nothing,\n",
    "    randomize_swap_count::Bool = false\n",
    ")\n",
    "    # setup \n",
    "    adj = copy(graph_fast.A)\n",
    "    m, n = size(adj)\n",
    "    symmetric_q = LinearAlgebra.issymmetric(adj)\n",
    "    max_iter_no_improvement = minimum([max_iter_no_improvement, max_iter])\n",
    "    \n",
    "    # conditions to exit on\n",
    "    return_nothing = (m != n)\n",
    "    return_nothing |= (m < n_nodes)\n",
    "    return_nothing |= (max_iter_no_improvement < 0)\n",
    "    return_nothing |= (max_iter < 0)\n",
    "    \n",
    "    if return_nothing#(m != n) | (m < n_nodes) | (max_iter_no_improvement < 0) | (max_iter < 0)\n",
    "        return nothing\n",
    "    end\n",
    "    \n",
    "    \n",
    "    all_vertices = collect(1:m)\n",
    "    \n",
    "    # initialize set of states\n",
    "    S = isa(S, Nothing) ? sample(all_vertices, n_nodes; replace = false) : S\n",
    "    S = issubset(Set(S), Set(all_vertices)) ? S : sample(all_vertices, n_nodes; replace = false)\n",
    "    sort!(S)\n",
    "    \n",
    "    # set up storage for swaps and initialize from random S - need the storage arrays and the arrays to use to facilitate swaps (transient)\n",
    "    arr_store_cols = zeros(n_nodes, m)\n",
    "    arr_store_rows = zeros(n_nodes, m)\n",
    "    arr_store_cols_transient = zeros(n_nodes, m)\n",
    "    arr_store_rows_transient = zeros(n_nodes, m)\n",
    "    \n",
    "    function swap_sgd!(\n",
    "        S_sgd::Vector{Int64},\n",
    "    )\n",
    "        swap!(\n",
    "            adj,\n",
    "            S_sgd, \n",
    "            S_sgd, \n",
    "            S_sgd,\n",
    "            arr_store_cols,\n",
    "            arr_store_rows,\n",
    "            arr_store_cols_transient,\n",
    "            arr_store_rows_transient,\n",
    "        )\n",
    "    end\n",
    "    \n",
    "    # initialize by swapping all rows/cols into storage\n",
    "    swap_sgd!(S)\n",
    "\n",
    "    \n",
    "    # get current fragmentation\n",
    "    F = fragmentation(\n",
    "        graph_fast.A;\n",
    "        D_invs = graph_fast.D_inv,\n",
    "        graph = graph_fast.graph\n",
    "    )\n",
    "        \n",
    "    F_0 = 0\n",
    "    i = 0 # number of iterations\n",
    "    i_no_improvement = 0 # number of iterations with no improvement in objective function\n",
    "    s = 0\n",
    "    F_try = 0\n",
    "    \n",
    "    \n",
    "    while (i < max_iter) & (F - F_try >= epsilon) & (i_no_improvement < max_iter_no_improvement)#(F - F_0 >= epsilon)\n",
    "        \n",
    "        swap_size = randomize_swap_count ? sample(1:n_nodes, 1; replace = false)[1] : 1\n",
    "        s_out = Vector{Int64}(sample(S, swap_size; replace = false))\n",
    "        s_in = Vector{Int64}(sample(setdiff(all_vertices, S), swap_size; replace = false))\n",
    "        S_try = Vector{Int64}(sort(union(setdiff(S, s_out), s_in)))\n",
    "        \n",
    "        # swap everything back, then swap in new set and check fragmentation\n",
    "        swap_sgd!(S) \n",
    "        swap_sgd!(S_try)\n",
    "        \n",
    "        # recalculate distances\n",
    "        graph = symmetric_q ? SimpleGraph(adj) : SimpleDiGraph(adj)\n",
    "        d, d_inv = get_distance_matrices(\n",
    "            adj; \n",
    "            algorithm = distance_algorithm,\n",
    "            graph = graph\n",
    "        )\n",
    "        \n",
    "        F_try = fragmentation(\n",
    "            adj;\n",
    "            D_invs = d_inv,\n",
    "            graph = graph\n",
    "        )\n",
    "        \n",
    "            \n",
    "        if F_try <= F\n",
    "            # swap back if no good\n",
    "            swap_sgd!(S_try)\n",
    "            swap_sgd!(S)\n",
    "        else\n",
    "            print_info ? print(\"\\n\\n** keeping swap! $(i) - F = $(F), F_0 = $(F_0), F_try = $(F_try)\\n\") : nothing\n",
    "            F_0 = F\n",
    "            F = F_try\n",
    "            S = S_try\n",
    "            i_no_improvement = -1\n",
    "        end\n",
    "        \n",
    "        i += 1\n",
    "        i_no_improvement += 1\n",
    "        \n",
    "        ((i%10 == 0) & print_info) ? println(\"$(i) iterations complete with value $(F) (previous $(F_0))\") : nothing\n",
    "    end\n",
    "    \n",
    "    ((i < max_iter) & print_info) ? println(\"Converged in $(i) iterations.\") : nothing\n",
    "    \n",
    "    #return nothing\n",
    "    return adj, arr_store_cols, arr_store_rows, S, F\n",
    "end"
   ]
  },
  {
   "cell_type": "code",
   "execution_count": null,
   "id": "e4dc525e-8278-4581-9103-8c09e68dbc88",
   "metadata": {},
   "outputs": [],
   "source": []
  },
  {
   "cell_type": "code",
   "execution_count": 65,
   "id": "027e2ad2-5f81-4770-af72-8ae0323ab0ef",
   "metadata": {},
   "outputs": [],
   "source": [
    "subgraph = connected_components(graph)[1]\n",
    "adj_red = adj[subgraph, subgraph];\n",
    "subgraph = SimpleDiGraph(adj_red);\n",
    "\n"
   ]
  },
  {
   "cell_type": "code",
   "execution_count": 18,
   "id": "ca5bf204-0386-428f-b79f-3b54ef62e44a",
   "metadata": {},
   "outputs": [],
   "source": [
    "#\n",
    "# START WITH WHATEVER'S QUICKEST\n",
    "#   LOOK AT PYNTACLE \n",
    "#\n",
    "# synthetic annealing, tabboo, stochastic gradient descent, linear programming, cross entropy, genetic algorithms"
   ]
  },
  {
   "cell_type": "code",
   "execution_count": 19,
   "id": "fe31e94e-86a1-4fa5-acba-0a54645673d7",
   "metadata": {},
   "outputs": [],
   "source": [
    "#"
   ]
  },
  {
   "cell_type": "code",
   "execution_count": null,
   "id": "f4396dbd-e42d-4d59-9e70-1101b19e5eb8",
   "metadata": {},
   "outputs": [],
   "source": [
    "#"
   ]
  }
 ],
 "metadata": {
  "kernelspec": {
   "display_name": "Julia 1.8 20 Threads 1.8.2",
   "language": "julia",
   "name": "julia-1.8-20-threads-1.8"
  },
  "language_info": {
   "file_extension": ".jl",
   "mimetype": "application/julia",
   "name": "julia",
   "version": "1.8.2"
  }
 },
 "nbformat": 4,
 "nbformat_minor": 5
}
