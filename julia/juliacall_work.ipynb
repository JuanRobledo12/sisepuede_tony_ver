{
 "cells": [
  {
   "cell_type": "code",
   "execution_count": null,
   "id": "2fde2338-682a-424a-aa87-625e622246f4",
   "metadata": {},
   "outputs": [],
   "source": [
    "#\n",
    "#\n",
    "# work on julia call\n",
    "#\n",
    "#"
   ]
  },
  {
   "cell_type": "code",
   "execution_count": 1,
   "id": "fb1e2f8d-13c1-4319-8f3a-fa836360ba2a",
   "metadata": {},
   "outputs": [
    {
     "name": "stdout",
     "output_type": "stream",
     "text": [
      "env: JULIA_NUM_THREADS=20\n"
     ]
    }
   ],
   "source": [
    "%env JULIA_NUM_THREADS=1"
   ]
  },
  {
   "cell_type": "code",
   "execution_count": 2,
   "id": "3fcd23f8-d485-43f6-a765-e27f06c2b4b3",
   "metadata": {},
   "outputs": [],
   "source": [
    "import juliapkg\n",
    "import numpy as np\n",
    "import os, os.path\n",
    "import pandas as pd\n",
    "import shutil\n",
    "import sqlalchemy\n",
    "import sys\n",
    "\n",
    "dir_add = os.path.join(os.path.dirname(os.getcwd()), \"python\")\n",
    "if not dir_add in sys.path:\n",
    "    sys.path.append(dir_add)\n",
    "    \n",
    "import sql_utilities as squ"
   ]
  },
  {
   "cell_type": "code",
   "execution_count": 3,
   "id": "02a223b5-1ba6-4952-bcf9-6825bfb955d0",
   "metadata": {},
   "outputs": [
    {
     "data": {
      "text/plain": [
       "'/Users/jsyme/Documents/Projects/git_jbus/sisepuede/julia/juliapkg.json'"
      ]
     },
     "execution_count": 3,
     "metadata": {},
     "output_type": "execute_result"
    }
   ],
   "source": [
    "#dir(juliapkg)\n",
    "fp_json = os.path.join(os.getcwd(), \"juliapkg.json\")\n",
    "fp_json"
   ]
  },
  {
   "cell_type": "code",
   "execution_count": 3,
   "id": "675b1d4a-bd5d-4498-931c-9b1fb6b46b0e",
   "metadata": {
    "tags": []
   },
   "outputs": [],
   "source": [
    "juliapkg.require_julia(None, target = fp_json)\n",
    "\n"
   ]
  },
  {
   "cell_type": "code",
   "execution_count": null,
   "id": "94f46a1f-2f62-4b25-bbfc-78d5d6d1fde0",
   "metadata": {
    "tags": []
   },
   "outputs": [],
   "source": []
  },
  {
   "cell_type": "code",
   "execution_count": null,
   "id": "4ac40a02-6e29-40b2-8f3a-634690b93d98",
   "metadata": {
    "tags": []
   },
   "outputs": [],
   "source": []
  },
  {
   "cell_type": "code",
   "execution_count": 4,
   "id": "2a9c49f9-0c7b-4af8-81b4-a6daed44d552",
   "metadata": {},
   "outputs": [],
   "source": [
    "# can_skip_resolve()\n",
    "deps = juliapkg.deps.load_meta()\n",
    "\n",
    "STATE = juliapkg.state.STATE\n",
    "\n",
    "exe = deps[\"executable\"]\n",
    "ver = deps[\"version\"]\n",
    "exever = juliapkg.deps.julia_version(exe)\n",
    "\n",
    "offline = deps[\"offline\"]\n",
    "\n",
    "isdev = deps[\"dev\"]\n",
    "\n",
    "\n",
    "files0 = set(juliapkg.deps.deps_files())\n",
    "files = deps[\"deps_files\"]\n",
    "filesdiff = set(files.keys()).difference(files0)\n",
    "\n",
    "filesdiff = files0.difference(files.keys())\n",
    "\n",
    "for filename, fileinfo in files.items():\n",
    "    if not os.path.isfile(filename):\n",
    "        print(f\"path to {filename} not found\")\n",
    "        continue\n",
    "        \n",
    "        \n",
    "    if os.path.getmtime(filename) > fileinfo[\"timestamp\"]:\n",
    "        print(f\"deps file has changed {filename}\")\n",
    "        continue\n"
   ]
  },
  {
   "cell_type": "code",
   "execution_count": 5,
   "id": "25c6c863-ab6a-4878-8eaf-e26168e5014e",
   "metadata": {
    "tags": []
   },
   "outputs": [
    {
     "name": "stderr",
     "output_type": "stream",
     "text": [
      "/Users/jsyme/anaconda3/envs/amber_is_your_energy/lib/python3.11/site-packages/juliacall/__init__.py:247: UserWarning: Julia was started with multiple threads but multithreading support is experimental in JuliaCall. It is recommended to restart Python with the environment variable PYTHON_JULIACALL_HANDLE_SIGNALS=yes set, otherwise you may experience segfaults or other crashes. Note however that this interferes with Python's own signal handling, so for example Ctrl-C will not raise KeyboardInterrupt. See https://juliapy.github.io/PythonCall.jl/stable/faq/#Is-PythonCall/JuliaCall-thread-safe? for further information. You can suppress this warning by setting PYTHON_JULIACALL_HANDLE_SIGNALS=no.\n",
      "  warnings.warn(\n"
     ]
    },
    {
     "name": "stdout",
     "output_type": "stream",
     "text": [
      "Detected IPython. Loading juliacall extension. See https://juliapy.github.io/PythonCall.jl/stable/compat/#IPython\n"
     ]
    }
   ],
   "source": [
    "from juliacall import Main as jl"
   ]
  },
  {
   "cell_type": "code",
   "execution_count": 8,
   "id": "9f47547e-df98-4b1b-86a4-8a5d073e522f",
   "metadata": {},
   "outputs": [],
   "source": [
    "jl.seval(\"using NemoMod\")"
   ]
  },
  {
   "cell_type": "code",
   "execution_count": 13,
   "id": "436de90f-fc39-4100-8a75-5ed15bbd81db",
   "metadata": {},
   "outputs": [
    {
     "data": {
      "text/plain": [
       "'/Users/jsyme/.julia/packages/NemoMod/p49Bn/src/NemoMod.jl'"
      ]
     },
     "execution_count": 13,
     "metadata": {},
     "output_type": "execute_result"
    }
   ],
   "source": [
    "jl.seval(\"pathof(NemoMod)\")"
   ]
  },
  {
   "cell_type": "code",
   "execution_count": null,
   "id": "8ff13c21-035b-44b4-9bb6-549054d8e47d",
   "metadata": {},
   "outputs": [],
   "source": []
  },
  {
   "cell_type": "code",
   "execution_count": 3,
   "id": "2741e505-c1a3-4d97-942a-910b61d9248f",
   "metadata": {},
   "outputs": [],
   "source": [
    "# build configuration elements here\n",
    "juliapkg.require_julia(\"1.10.4\")\n",
    "\n",
    "# add packages\n",
    "juliapkg.add(\n",
    "    \"Cbc\", \n",
    "    \"9961bab8-2fa3-5c5a-9d89-47fab24efd76\",\n",
    ")\n",
    "juliapkg.add(\n",
    "    \"Clp\",\n",
    "    \"e2554f3b-3117-50c0-817c-e040a3ddf72d\",\n",
    ")\n",
    "juliapkg.add(\n",
    "    \"DataFrames\", \n",
    "    \"a93c6f00-e57d-5684-b7b6-d8193f3e46c0\",\n",
    ")\n",
    "juliapkg.add(\n",
    "    \"HiGHS\", \n",
    "    \"87dc4568-4c63-4d18-b0c0-bb2238e4078b\",\n",
    ")\n",
    "juliapkg.add(\n",
    "    \"JuMP\", \n",
    "    \"4076af6c-e467-56ae-b986-b466b2749572\",\n",
    ")\n",
    "juliapkg.add(\n",
    "    \"NemoMod\", \n",
    "    \"a3c327a0-d2f0-11e8-37fd-d12fd35c3c72\",\n",
    "    url = \"https://github.com/sei-international/NemoMod.jl.git\",\n",
    "    rev = \"61e63e0\",\n",
    ")\n",
    "juliapkg.add(\n",
    "    \"SQLite\", \n",
    "    \"0aa819cd-b072-5ff4-a722-6bc24af294d9\",\n",
    ")\n"
   ]
  },
  {
   "cell_type": "code",
   "execution_count": 4,
   "id": "57b3d77f-e089-4a53-abee-ef6b9146c818",
   "metadata": {
    "tags": []
   },
   "outputs": [
    {
     "name": "stdout",
     "output_type": "stream",
     "text": [
      "[juliapkg] Found dependencies: /Users/jsyme/anaconda3/envs/amber_is_your_energy/lib/python3.11/site-packages/juliacall/juliapkg.json\n",
      "[juliapkg] Found dependencies: /Users/jsyme/anaconda3/envs/amber_is_your_energy/lib/python3.11/site-packages/juliapkg/juliapkg.json\n",
      "[juliapkg] Found dependencies: /Users/jsyme/anaconda3/envs/amber_is_your_energy/julia_env/pyjuliapkg/juliapkg.json\n",
      "[juliapkg] Locating Julia ^1.10.4\n",
      "[juliapkg] Using Julia 1.10.4 at /Users/jsyme/.julia/juliaup/julia-1.10.4+0.x64.apple.darwin14/bin/julia\n",
      "[juliapkg] Using Julia project at /Users/jsyme/anaconda3/envs/amber_is_your_energy/julia_env\n",
      "[juliapkg] Installing packages:\n",
      "           julia> import Pkg\n",
      "           julia> Pkg.Registry.update()\n",
      "           julia> Pkg.add([Pkg.PackageSpec(name=\"PythonCall\", uuid=\"6099a3de-0909-46bc-b1f4-468b9a2dfc0d\"), Pkg.PackageSpec(name=\"Cbc\", uuid=\"9961bab8-2fa3-5c5a-9d89-47fab24efd76\"), Pkg.PackageSpec(name=\"Clp\", uuid=\"e2554f3b-3117-50c0-817c-e040a3ddf72d\"), Pkg.PackageSpec(name=\"DataFrames\", uuid=\"a93c6f00-e57d-5684-b7b6-d8193f3e46c0\"), Pkg.PackageSpec(name=\"HiGHS\", uuid=\"87dc4568-4c63-4d18-b0c0-bb2238e4078b\"), Pkg.PackageSpec(name=\"JuMP\", uuid=\"4076af6c-e467-56ae-b986-b466b2749572\"), Pkg.PackageSpec(name=\"NemoMod\", uuid=\"a3c327a0-d2f0-11e8-37fd-d12fd35c3c72\", url=raw\"https://github.com/sei-international/NemoMod.jl.git\", rev=raw\"61e63e0\"), Pkg.PackageSpec(name=\"SQLite\", uuid=\"0aa819cd-b072-5ff4-a722-6bc24af294d9\"), Pkg.PackageSpec(name=\"GLPK\", uuid=\"60bf3e95-4087-53dc-ae20-288a0d20c6a6\"), Pkg.PackageSpec(name=\"Ipopt\", uuid=\"b6b21f68-93f8-5de0-b562-5493be1d77c9\")])\n",
      "           julia> Pkg.resolve()\n",
      "           julia> Pkg.precompile()\n"
     ]
    },
    {
     "name": "stderr",
     "output_type": "stream",
     "text": [
      "    Updating registry at `~/.julia/registries/General.toml`\n",
      "   Resolving package versions...\n",
      "    Updating `~/anaconda3/envs/amber_is_your_energy/julia_env/Project.toml`\n",
      "  [9961bab8] + Cbc v1.2.0\n",
      "  [e2554f3b] + Clp v1.1.0\n",
      "  [a93c6f00] + DataFrames v1.6.1\n",
      "  [60bf3e95] + GLPK v1.2.1\n",
      "  [87dc4568] + HiGHS v1.9.2\n",
      "  [b6b21f68] + Ipopt v1.6.6\n",
      "  [4076af6c] + JuMP v1.23.0\n",
      "  [a3c327a0] + NemoMod v2.0.0 `https://github.com/sei-international/NemoMod.jl.git#61e63e0`\n",
      "  [6099a3de] + PythonCall v0.9.22\n",
      "  [0aa819cd] + SQLite v1.6.1\n",
      "    Updating `~/anaconda3/envs/amber_is_your_energy/julia_env/Manifest.toml`\n",
      "  [6e4b80f9] + BenchmarkTools v1.5.0\n",
      "  [9961bab8] + Cbc v1.2.0\n",
      "  [e2554f3b] + Clp v1.1.0\n",
      "  [523fee87] + CodecBzip2 v0.8.4\n",
      "  [944b1d66] + CodecZlib v0.7.6\n",
      "  [bbf7d656] + CommonSubexpressions v0.3.1\n",
      "  [34da2185] + Compat v4.16.0\n",
      "  [992eb4ea] + CondaPkg v0.2.23\n",
      "  [88353bc9] + ConfParser v0.1.2\n",
      "  [a8cc5b0e] + Crayons v4.1.1\n",
      "  [a10d1c49] + DBInterface v2.6.1\n",
      "  [9a962f9c] + DataAPI v1.16.0\n",
      "  [a93c6f00] + DataFrames v1.6.1\n",
      "  [864edb3b] + DataStructures v0.18.20\n",
      "  [e2d170a0] + DataValueInterfaces v1.0.0\n",
      "  [163ba53b] + DiffResults v1.1.0\n",
      "  [b552c78f] + DiffRules v1.15.1\n",
      "  [ffbed154] + DocStringExtensions v0.9.3\n",
      "  [f6369f11] + ForwardDiff v0.10.36\n",
      "  [60bf3e95] + GLPK v1.2.1\n",
      "  [87dc4568] + HiGHS v1.9.2\n",
      "  [842dd82b] + InlineStrings v1.4.2\n",
      "  [41ab1584] + InvertedIndices v1.3.0\n",
      "  [b6b21f68] + Ipopt v1.6.6\n",
      "  [92d709cd] + IrrationalConstants v0.2.2\n",
      "  [82899510] + IteratorInterfaceExtensions v1.0.0\n",
      "  [692b3bcd] + JLLWrappers v1.5.0\n",
      "  [682c06a0] + JSON v0.21.4\n",
      "  [0f8b85d8] + JSON3 v1.14.0\n",
      "  [4076af6c] + JuMP v1.23.0\n",
      "  [b964fa9f] + LaTeXStrings v1.3.1\n",
      "  [2ab3a3ac] + LogExpFunctions v0.3.28\n",
      "  [1914dd2f] + MacroTools v0.5.13\n",
      "  [b8f27783] + MathOptInterface v1.31.1\n",
      "  [0b3b1443] + MicroMamba v0.1.14\n",
      "  [e1d29d7a] + Missings v1.2.0\n",
      "  [d8a4904e] + MutableArithmetics v1.4.6\n",
      "  [77ba4419] + NaNMath v1.0.2\n",
      "  [a3c327a0] + NemoMod v2.0.0 `https://github.com/sei-international/NemoMod.jl.git#61e63e0`\n",
      "  [bac558e1] + OrderedCollections v1.6.3\n",
      "  [69de0a69] + Parsers v2.8.1\n",
      "  [fa939f87] + Pidfile v1.3.0\n",
      "  [2dfb63ee] + PooledArrays v1.4.3\n",
      "  [aea7be01] + PrecompileTools v1.2.1\n",
      "  [21216c6a] + Preferences v1.4.3\n",
      "  [08abe8d2] + PrettyTables v2.3.2\n",
      "  [6099a3de] + PythonCall v0.9.22\n",
      "  [189a3867] + Reexport v1.2.2\n",
      "  [ae029012] + Requires v1.3.0\n",
      "  [0aa819cd] + SQLite v1.6.1\n",
      "  [6c6a2e73] + Scratch v1.2.1\n",
      "  [91c51154] + SentinelArrays v1.4.5\n",
      "  [a2af1166] + SortingAlgorithms v1.2.1\n",
      "  [276daf66] + SpecialFunctions v2.4.0\n",
      "  [1e83bf80] + StaticArraysCore v1.4.3\n",
      "  [892a3eda] + StringManipulation v0.3.4\n",
      "  [856f2bd8] + StructTypes v1.10.0\n",
      "  [3783bdb8] + TableTraits v1.0.1\n",
      "  [bd369af6] + Tables v1.12.0\n",
      "  [3bb67fe8] + TranscodingStreams v0.11.2\n",
      "  [e17b2a0c] + UnsafePointers v1.0.0\n",
      "  [ea10d353] + WeakRefStrings v1.4.2\n",
      "  [ae81ac8f] + ASL_jll v0.1.3+0\n",
      "  [6e34b625] + Bzip2_jll v1.0.8+1\n",
      "  [38041ee0] + Cbc_jll v200.1000.800+0\n",
      "  [3830e938] + Cgl_jll v0.6000.600+0\n",
      "⌅ [06985876] + Clp_jll v100.1700.700+1\n",
      "⌅ [be027038] + CoinUtils_jll v200.1100.600+0\n",
      "  [e8aa6df9] + GLPK_jll v5.0.1+0\n",
      "  [8fd58aa0] + HiGHS_jll v1.7.2+0\n",
      "  [e33a78d0] + Hwloc_jll v2.11.1+0\n",
      "  [9cc047cb] + Ipopt_jll v300.1400.1600+0\n",
      "  [d00139f3] + METIS_jll v5.1.2+0\n",
      "  [d7ed1dd3] + MUMPS_seq_jll v500.700.300+0\n",
      "⌅ [656ef2d0] + OpenBLAS32_jll v0.3.24+0\n",
      "  [efe28fd5] + OpenSpecFun_jll v0.5.5+0\n",
      "⌅ [7da25872] + Osi_jll v0.10800.700+0\n",
      "  [319450e9] + SPRAL_jll v2024.5.8+0\n",
      "  [76ed43ae] + SQLite_jll v3.45.3+0\n",
      "  [f8abcde7] + micromamba_jll v1.5.8+0\n",
      "  [0dad84c5] + ArgTools v1.1.1\n",
      "  [56f22d72] + Artifacts\n",
      "  [2a0f44e3] + Base64\n",
      "  [ade2ca70] + Dates\n",
      "  [f43a241f] + Downloads v1.6.0\n",
      "  [7b1f6079] + FileWatching\n",
      "  [9fa8497b] + Future\n",
      "  [b77e0a4c] + InteractiveUtils\n",
      "  [4af54fe1] + LazyArtifacts\n",
      "  [b27032c2] + LibCURL v0.6.4\n",
      "  [76f85450] + LibGit2\n",
      "  [8f399da3] + Libdl\n",
      "  [37e2e46d] + LinearAlgebra\n",
      "  [56ddb016] + Logging\n",
      "  [d6f4376e] + Markdown\n",
      "  [a63ad114] + Mmap\n",
      "  [ca575930] + NetworkOptions v1.2.0\n",
      "  [44cfe95a] + Pkg v1.10.0\n",
      "  [de0858da] + Printf\n",
      "  [9abbd945] + Profile\n",
      "  [3fa0cd96] + REPL\n",
      "  [9a3f8284] + Random\n",
      "  [ea8e919c] + SHA v0.7.0\n",
      "  [9e88b42a] + Serialization\n",
      "  [6462fe0b] + Sockets\n",
      "  [2f01184e] + SparseArrays v1.10.0\n",
      "  [10745b16] + Statistics v1.10.0\n",
      "  [fa267f1f] + TOML v1.0.3\n",
      "  [a4e569a6] + Tar v1.10.0\n",
      "  [8dfed614] + Test\n",
      "  [cf7118a7] + UUIDs\n",
      "  [4ec0a83e] + Unicode\n",
      "  [e66e0078] + CompilerSupportLibraries_jll v1.1.1+0\n",
      "  [781609d7] + GMP_jll v6.2.1+6\n",
      "  [deac9b47] + LibCURL_jll v8.4.0+0\n",
      "  [e37daf67] + LibGit2_jll v1.6.4+0\n",
      "  [29816b5a] + LibSSH2_jll v1.11.0+1\n",
      "  [c8ffd9c3] + MbedTLS_jll v2.28.2+1\n",
      "  [14a3606d] + MozillaCACerts_jll v2023.1.10\n",
      "  [4536629a] + OpenBLAS_jll v0.3.23+4\n",
      "  [05823500] + OpenLibm_jll v0.8.1+2\n",
      "  [bea87d4a] + SuiteSparse_jll v7.2.1+1\n",
      "  [83775a58] + Zlib_jll v1.2.13+1\n",
      "  [8e850b90] + libblastrampoline_jll v5.8.0+1\n",
      "  [8e850ede] + nghttp2_jll v1.52.0+1\n",
      "  [3f19e933] + p7zip_jll v17.4.0+2\n",
      "        Info Packages marked with ⌅ have new versions available but compatibility constraints restrict them from upgrading. To see why use `status --outdated -m`\n",
      "Precompiling project...\n",
      "  ? NemoMod\n",
      "  No Changes to `~/anaconda3/envs/amber_is_your_energy/julia_env/Project.toml`\n",
      "  No Changes to `~/anaconda3/envs/amber_is_your_energy/julia_env/Manifest.toml`\n",
      "Precompiling project...\n",
      "  ? NemoMod\n",
      "/Users/jsyme/anaconda3/envs/amber_is_your_energy/lib/python3.11/site-packages/juliacall/__init__.py:247: UserWarning: Julia was started with multiple threads but multithreading support is experimental in JuliaCall. It is recommended to restart Python with the environment variable PYTHON_JULIACALL_HANDLE_SIGNALS=yes set, otherwise you may experience segfaults or other crashes. Note however that this interferes with Python's own signal handling, so for example Ctrl-C will not raise KeyboardInterrupt. See https://juliapy.github.io/PythonCall.jl/stable/faq/#Is-PythonCall/JuliaCall-thread-safe? for further information. You can suppress this warning by setting PYTHON_JULIACALL_HANDLE_SIGNALS=no.\n",
      "  warnings.warn(\n"
     ]
    },
    {
     "name": "stdout",
     "output_type": "stream",
     "text": [
      "Detected IPython. Loading juliacall extension. See https://juliapy.github.io/PythonCall.jl/stable/compat/#IPython\n"
     ]
    }
   ],
   "source": [
    "# setting up 10.4\n",
    "from juliacall import Main as jl"
   ]
  },
  {
   "cell_type": "code",
   "execution_count": null,
   "id": "9125d6a3-d914-4f53-910e-3592a87bb9d9",
   "metadata": {},
   "outputs": [],
   "source": [
    "\n"
   ]
  },
  {
   "cell_type": "code",
   "execution_count": null,
   "id": "2ce2adbe-daa9-4a25-9a15-7c24a84b4c24",
   "metadata": {},
   "outputs": [],
   "source": []
  },
  {
   "cell_type": "code",
   "execution_count": null,
   "id": "d6f75196-61ad-4fb0-beae-6e3c43ae5e75",
   "metadata": {},
   "outputs": [],
   "source": [
    "\"\"\"⌃ [336ed68f] CSV v0.10.10\n",
    "⌃ [9961bab8] Cbc v1.1.1\n",
    "⌃ [e2554f3b] Clp v1.0.3\n",
    "⌃ [a93c6f00] DataFrames v1.5.0\n",
    "  [1ca51c6a] GAMS v0.4.2 `https://github.com/GAMS-dev/gams.jl.git#master`\n",
    "⌃ [2e9cd046] Gurobi v0.11.5\n",
    "⌃ [87dc4568] HiGHS v1.5.1\n",
    "⌃ [4076af6c] JuMP v1.4.0\n",
    "⌃ [b8f27783] MathOptInterface v1.8.2\n",
    "  [a3c327a0] NemoMod v1.9.0 `https://github.com/sei-international/NemoMod.jl#master`\n",
    "⌃ [0aa819cd] SQLite v1.6.0\"\"\""
   ]
  },
  {
   "cell_type": "code",
   "execution_count": 7,
   "id": "9ea01fed-667e-4f52-bc7d-2eaefa300d9f",
   "metadata": {},
   "outputs": [
    {
     "name": "stdout",
     "output_type": "stream",
     "text": [
      "Hello\n"
     ]
    }
   ],
   "source": [
    "jl.println(\"Hello\")"
   ]
  },
  {
   "cell_type": "code",
   "execution_count": 8,
   "id": "9b0e6b05-8527-454a-ab15-f41db44217b4",
   "metadata": {},
   "outputs": [],
   "source": [
    "x = jl.rand(range(10), 3, 5)"
   ]
  },
  {
   "cell_type": "code",
   "execution_count": 113,
   "id": "c085182c-f992-4abf-bacb-b7b98b4df8b4",
   "metadata": {},
   "outputs": [],
   "source": [
    "jl.seval(\"using NemoMod\")\n",
    "jl.seval(\"using JuMP\")\n",
    "jl.seval(\"using HiGHS\")"
   ]
  },
  {
   "cell_type": "code",
   "execution_count": 186,
   "id": "64c88a9d-31fd-4f81-96ef-373f9c43909d",
   "metadata": {},
   "outputs": [],
   "source": [
    "# set up the optimizer\n",
    "optimizer = jl.JuMP.Model(jl.HiGHS.Optimizer)\n",
    "jl.JuMP.set_optimizer_attribute(optimizer, \"solver\", \"simplex\")"
   ]
  },
  {
   "cell_type": "markdown",
   "id": "8410be13-0fe9-4eb0-99af-3706ad156fe3",
   "metadata": {},
   "source": []
  },
  {
   "cell_type": "code",
   "execution_count": 169,
   "id": "183c0d39-fe2d-41d2-b961-31326a8c0de0",
   "metadata": {},
   "outputs": [],
   "source": [
    "os.remove(fp_targ)"
   ]
  },
  {
   "cell_type": "code",
   "execution_count": 167,
   "id": "7c4852f4-25e1-43c4-a19e-891673318308",
   "metadata": {},
   "outputs": [
    {
     "ename": "TypeError",
     "evalue": "create_engine() missing 1 required positional argument: 'url'",
     "output_type": "error",
     "traceback": [
      "\u001b[0;31m---------------------------------------------------------------------------\u001b[0m",
      "\u001b[0;31mTypeError\u001b[0m                                 Traceback (most recent call last)",
      "Cell \u001b[0;32mIn[167], line 1\u001b[0m\n\u001b[0;32m----> 1\u001b[0m \u001b[43msqlalchemy\u001b[49m\u001b[38;5;241;43m.\u001b[39;49m\u001b[43mcreate_engine\u001b[49m\u001b[43m(\u001b[49m\u001b[43m)\u001b[49m\n",
      "\u001b[0;31mTypeError\u001b[0m: create_engine() missing 1 required positional argument: 'url'"
     ]
    }
   ],
   "source": [
    "sqlalchemy.create_engine()"
   ]
  },
  {
   "cell_type": "code",
   "execution_count": 170,
   "id": "82aca3f8-f5df-475d-a823-b8c99acec78f",
   "metadata": {},
   "outputs": [
    {
     "data": {
      "text/plain": [
       "'/Users/jsyme/Documents/Projects/git_jbus/sisepuede/tmp/nemomod_intermediate_database_adj.sqlite'"
      ]
     },
     "execution_count": 170,
     "metadata": {},
     "output_type": "execute_result"
    }
   ],
   "source": [
    "dir_tmp = os.path.join(os.path.dirname(os.getcwd()), \"tmp\")\n",
    "fp_src = os.path.join(dir_tmp, \"nemomod_intermediate_database.sqlite\")\n",
    "fp_targ = os.path.join(dir_tmp, \"nemomod_intermediate_database_adj.sqlite\")\n",
    "\n",
    "shutil.copy(fp_src, fp_targ)"
   ]
  },
  {
   "cell_type": "code",
   "execution_count": 80,
   "id": "010025f1-cf66-4b39-a359-93ce62afc685",
   "metadata": {},
   "outputs": [],
   "source": [
    "engine = sqlalchemy.create_engine(f\"sqlite:///{fp_targ}\")"
   ]
  },
  {
   "cell_type": "code",
   "execution_count": 54,
   "id": "13a219a3-6924-4330-bb58-73531251b6fd",
   "metadata": {},
   "outputs": [],
   "source": [
    "# drop availability factor from copied table\n",
    "query = sqlalchemy.text(\"drop table AvailabilityFactor;\")\n",
    "with engine.connect() as con:\n",
    "    con.execute(query)\n",
    "    con.commit()\n"
   ]
  },
  {
   "cell_type": "code",
   "execution_count": 99,
   "id": "abad2181-3f72-42ca-8b96-721d377ac1de",
   "metadata": {
    "tags": []
   },
   "outputs": [],
   "source": [
    "\"\"\"\n",
    "NOTE: had to drop the Availability factor view too:\n",
    "\n",
    "# get sqlite master to see VIEWS\n",
    "query = sqlalchemy.text(\"select * from sqlite_master;\")\n",
    "with engine.connect() as con:\n",
    "    df = pd.read_sql_query(query, con)\n",
    "    #con.execute(query)\n",
    "    #k = con.commit()\n",
    "\n",
    "\n",
    "# drop the view\n",
    "query = sqlalchemy.text(\"DROP VIEW AvailabilityFactor_def;\")\n",
    "with engine.connect() as con:\n",
    "    con.execute(query)\n",
    "    con.commit()\n",
    "\n",
    "\"\"\"\n",
    "# drop availability factor from copied table\n",
    "query = sqlalchemy.text(f\"ALTER TABLE CapacityFactor RENAME TO AvailabilityFactor;\")\n",
    "with engine.connect() as con:\n",
    "    con.execute(query)\n",
    "    con.commit()\n",
    "    \n",
    "    \n"
   ]
  },
  {
   "cell_type": "code",
   "execution_count": 178,
   "id": "1bc01d39-0b59-47dc-8696-47a478549bfa",
   "metadata": {},
   "outputs": [],
   "source": [
    "jl.seval(\"using Distributed\")"
   ]
  },
  {
   "cell_type": "code",
   "execution_count": 207,
   "id": "268e6842-aec5-4c66-8691-0e1cf65e2fa5",
   "metadata": {},
   "outputs": [],
   "source": [
    "import importlib\n",
    "julia_main = importlib.import_module(\"juliacall\", package = \"Main\")"
   ]
  },
  {
   "cell_type": "code",
   "execution_count": 216,
   "id": "682cb8f2-a975-40fe-b246-a04729e3f904",
   "metadata": {},
   "outputs": [],
   "source": [
    "class TestMe:\n",
    "    \n",
    "    def __init__(self, ):\n",
    "        \n",
    "        self._initialize_julia()\n",
    "        \n",
    "        return None\n",
    "    \n",
    "    \n",
    "        \n",
    "    def _initialize_julia(self,\n",
    "    ) -> None:\n",
    "        \n",
    "        \n",
    "        from juliacall import Main as jlt\n",
    "        \n",
    "        self.jlt = jlt\n",
    "        \n",
    "        return None\n",
    "        \n",
    "        "
   ]
  },
  {
   "cell_type": "code",
   "execution_count": 217,
   "id": "6ba24c1f-d2c1-4aa9-83c4-f635bdcf85e6",
   "metadata": {},
   "outputs": [],
   "source": [
    "tester = TestMe()"
   ]
  },
  {
   "cell_type": "code",
   "execution_count": null,
   "id": "36184192-ff30-4bab-9b68-be57ec1ec857",
   "metadata": {},
   "outputs": [],
   "source": []
  },
  {
   "cell_type": "code",
   "execution_count": 173,
   "id": "f92d04b2-9e97-4e97-baf2-68f8ce39ae8e",
   "metadata": {},
   "outputs": [],
   "source": [
    "jl.seval(\"using SQLite\")\n",
    "db = jl.SQLite.DB(fp_targ)"
   ]
  },
  {
   "cell_type": "code",
   "execution_count": 175,
   "id": "5be32006-0dcf-4e0f-a1b9-e67ed1122ca3",
   "metadata": {},
   "outputs": [
    {
     "name": "stdout",
     "output_type": "stream",
     "text": [
      "2024-20-Aug 21:35:39.650 Upgraded database to version 10.\n"
     ]
    }
   ],
   "source": [
    "jl.NemoMod.db_v9_to_v10(db, )"
   ]
  },
  {
   "cell_type": "code",
   "execution_count": 162,
   "id": "a098bc7c-381d-45d7-8ede-01bde4ebe6d0",
   "metadata": {},
   "outputs": [
    {
     "data": {
      "text/plain": [
       "'/Users/jsyme/.julia/packages/NemoMod/p49Bn/src/NemoMod.jl'"
      ]
     },
     "execution_count": 162,
     "metadata": {},
     "output_type": "execute_result"
    }
   ],
   "source": [
    "# try running\n",
    "jl.pathof(jl.NemoMod)"
   ]
  },
  {
   "cell_type": "code",
   "execution_count": 184,
   "id": "985a1280-c36f-43be-a172-6c3e9a635102",
   "metadata": {},
   "outputs": [],
   "source": [
    "# set some params\n",
    "vector_calc_time_periods = jl.Vector[jl.Int64](np.arange(10))\n"
   ]
  },
  {
   "cell_type": "code",
   "execution_count": null,
   "id": "67faec80-f04b-4f24-9ea7-d945aee19ee4",
   "metadata": {},
   "outputs": [],
   "source": []
  },
  {
   "cell_type": "code",
   "execution_count": 199,
   "id": "60f6c9b7-26d0-4a1c-b697-750c87f2210e",
   "metadata": {},
   "outputs": [
    {
     "data": {
      "text/plain": [
       "11-element Vector{Int64}:\n",
       "  0\n",
       "  1\n",
       "  2\n",
       "  3\n",
       "  4\n",
       "  5\n",
       "  6\n",
       "  7\n",
       "  8\n",
       "  9\n",
       " 10"
      ]
     },
     "execution_count": 199,
     "metadata": {},
     "output_type": "execute_result"
    }
   ],
   "source": []
  },
  {
   "cell_type": "code",
   "execution_count": 193,
   "id": "93e054b3-a699-4b2a-bd84-9e990de04488",
   "metadata": {},
   "outputs": [],
   "source": [
    "solver = getattr(jl, \"HiGHS\")"
   ]
  },
  {
   "cell_type": "code",
   "execution_count": 194,
   "id": "d1691cc2-4d65-4390-828f-88d63d790199",
   "metadata": {},
   "outputs": [
    {
     "data": {
      "text/plain": [
       "HiGHS.Optimizer"
      ]
     },
     "execution_count": 194,
     "metadata": {},
     "output_type": "execute_result"
    }
   ],
   "source": [
    "solver.Optimizer"
   ]
  },
  {
   "cell_type": "code",
   "execution_count": null,
   "id": "e915bef0-52d7-45c1-a919-f974d7d851a5",
   "metadata": {},
   "outputs": [],
   "source": []
  },
  {
   "cell_type": "code",
   "execution_count": 205,
   "id": "d46d21ed-2d9c-4762-8e97-e5bf1e2878dd",
   "metadata": {},
   "outputs": [
    {
     "name": "stdout",
     "output_type": "stream",
     "text": [
      "2024-20-Aug 23:29:37.679 Started modeling scenario. NEMO version = 2.0.0, solver = HiGHS.\n",
      "Running HiGHS 1.7.2 (git hash: 5ce7a2753): Copyright (c) 2024 HiGHS under MIT licence terms\n",
      "Coefficient ranges:\n",
      "  Matrix [6e-09, 8e+05]\n",
      "  Cost   [1e+00, 1e+00]\n",
      "  Bound  [0e+00, 0e+00]\n",
      "  RHS    [1e-03, 1e+10]\n",
      "Presolving model\n",
      "18419 rows, 19081 cols, 84490 nonzeros  0s\n",
      "12493 rows, 13482 cols, 71208 nonzeros  0s\n",
      "11651 rows, 9642 cols, 61942 nonzeros  0s\n",
      "Presolve : Reductions: rows 11651(-78749); columns 9642(-77402); elements 61942(-195927)\n",
      "Solving the presolved LP\n",
      "Using EKK dual simplex solver - serial\n",
      "  Iteration        Objective     Infeasibilities num(sum)\n",
      "          0    -9.2851320880e+11 Pr: 1676(6.39019e+16) 0s\n",
      "       9183     4.0994808080e+05 Pr: 0(0); Du: 0(3.78557e-12) 2s\n",
      "       9183     4.0994808080e+05 Pr: 0(0); Du: 0(3.78557e-12) 2s\n",
      "Solving the original LP from the solution after postsolve\n",
      "Model   status      : Optimal\n",
      "Simplex   iterations: 9183\n",
      "Objective value     :  4.0994808080e+05\n",
      "HiGHS run time      :          2.53\n",
      "2024-20-Aug 23:29:44.636 Finished modeling scenario.\n"
     ]
    },
    {
     "name": "stderr",
     "output_type": "stream",
     "text": [
      "┌ Warning: Model period emission limits (ModelPeriodEmissionLimit parameter) are not enforced when modeling selected years.\n",
      "└ @ NemoMod ~/.julia/packages/NemoMod/p49Bn/src/scenario_calculation.jl:6112\n"
     ]
    },
    {
     "data": {
      "text/plain": [
       "OPTIMAL::TerminationStatusCode = 1"
      ]
     },
     "execution_count": 205,
     "metadata": {},
     "output_type": "execute_result"
    }
   ],
   "source": [
    "# set up the optimizer\n",
    "optimizer = jl.JuMP.Model(jl.HiGHS.Optimizer)\n",
    "jl.JuMP.set_optimizer_attribute(optimizer, \"solver\", \"simplex\")\n",
    "\n",
    "vector_calc_time_periods = jl.Vector[jl.Int64](np.arange(5) + 1000)\n",
    "\n",
    "jl.calculatescenario(\n",
    "    fp_targ,\n",
    "    calcyears = vector_calc_time_periods,\n",
    "    numprocs = 1,\n",
    "    jumpmodel = optimizer,\n",
    "    quiet = True\n",
    ")"
   ]
  },
  {
   "cell_type": "code",
   "execution_count": 103,
   "id": "6f41ebcb-69c2-4be4-9576-b5e4892e8b30",
   "metadata": {
    "tags": []
   },
   "outputs": [
    {
     "data": {
      "text/plain": [
       "calculatescenario (generic function with 1 method)"
      ]
     },
     "execution_count": 103,
     "metadata": {},
     "output_type": "execute_result"
    }
   ],
   "source": [
    "jl.calculatescenario(\n",
    "    \n",
    ")"
   ]
  },
  {
   "cell_type": "code",
   "execution_count": 112,
   "id": "559bd9ae-2712-458d-9440-8961bf27f321",
   "metadata": {},
   "outputs": [],
   "source": [
    "optimizer = jl.\n",
    "set_optimizer_attribute(optimizer, \"solver\", \"simplex\")"
   ]
  },
  {
   "cell_type": "code",
   "execution_count": null,
   "id": "49cb20d0-a6b1-4a4a-8273-993125911cbf",
   "metadata": {},
   "outputs": [],
   "source": []
  },
  {
   "cell_type": "code",
   "execution_count": 150,
   "id": "d123d56b-e30d-496d-be33-448c650a3209",
   "metadata": {},
   "outputs": [],
   "source": [
    "query = sqlalchemy.text(\"select * from sqlite_master;\")\n",
    "with engine.connect() as con:\n",
    "    df = pd.read_sql_query(query, con)\n",
    "    #con.execute(query)\n",
    "    #k = con.commit()"
   ]
  },
  {
   "cell_type": "code",
   "execution_count": 135,
   "id": "b83cd159-13ac-4818-b556-d366bc9bc8c1",
   "metadata": {},
   "outputs": [
    {
     "data": {
      "text/plain": [
       "['CapacityFactor_fks_unique']"
      ]
     },
     "execution_count": 135,
     "metadata": {},
     "output_type": "execute_result"
    }
   ],
   "source": [
    "[x for x in list(df[\"name\"]) if \"CapacityFactor\" in x]"
   ]
  },
  {
   "cell_type": "code",
   "execution_count": 160,
   "id": "b5c73dd7-32dd-402d-a525-bccfb285d7f1",
   "metadata": {},
   "outputs": [
    {
     "data": {
      "text/html": [
       "<div>\n",
       "<style scoped>\n",
       "    .dataframe tbody tr th:only-of-type {\n",
       "        vertical-align: middle;\n",
       "    }\n",
       "\n",
       "    .dataframe tbody tr th {\n",
       "        vertical-align: top;\n",
       "    }\n",
       "\n",
       "    .dataframe thead th {\n",
       "        text-align: right;\n",
       "    }\n",
       "</style>\n",
       "<table border=\"1\" class=\"dataframe\">\n",
       "  <thead>\n",
       "    <tr style=\"text-align: right;\">\n",
       "      <th></th>\n",
       "      <th>type</th>\n",
       "      <th>name</th>\n",
       "      <th>tbl_name</th>\n",
       "      <th>rootpage</th>\n",
       "      <th>sql</th>\n",
       "    </tr>\n",
       "  </thead>\n",
       "  <tbody>\n",
       "  </tbody>\n",
       "</table>\n",
       "</div>"
      ],
      "text/plain": [
       "Empty DataFrame\n",
       "Columns: [type, name, tbl_name, rootpage, sql]\n",
       "Index: []"
      ]
     },
     "execution_count": 160,
     "metadata": {},
     "output_type": "execute_result"
    }
   ],
   "source": [
    "df[\n",
    "    [\"CapacityFactor\" in str(x) for x in list(df[\"sql\"])]\n",
    "]"
   ]
  },
  {
   "cell_type": "code",
   "execution_count": null,
   "id": "a958ed2a-6a40-453b-a823-28e516385b74",
   "metadata": {},
   "outputs": [],
   "source": []
  },
  {
   "cell_type": "code",
   "execution_count": 151,
   "id": "3add4a19-3463-4fa5-9151-252040012c1a",
   "metadata": {},
   "outputs": [
    {
     "data": {
      "text/html": [
       "<div>\n",
       "<style scoped>\n",
       "    .dataframe tbody tr th:only-of-type {\n",
       "        vertical-align: middle;\n",
       "    }\n",
       "\n",
       "    .dataframe tbody tr th {\n",
       "        vertical-align: top;\n",
       "    }\n",
       "\n",
       "    .dataframe thead th {\n",
       "        text-align: right;\n",
       "    }\n",
       "</style>\n",
       "<table border=\"1\" class=\"dataframe\">\n",
       "  <thead>\n",
       "    <tr style=\"text-align: right;\">\n",
       "      <th></th>\n",
       "      <th>type</th>\n",
       "      <th>name</th>\n",
       "      <th>tbl_name</th>\n",
       "      <th>rootpage</th>\n",
       "      <th>sql</th>\n",
       "    </tr>\n",
       "  </thead>\n",
       "  <tbody>\n",
       "    <tr>\n",
       "      <th>146</th>\n",
       "      <td>table</td>\n",
       "      <td>AvailabilityFactor</td>\n",
       "      <td>AvailabilityFactor</td>\n",
       "      <td>153</td>\n",
       "      <td>CREATE TABLE \"AvailabilityFactor\" ( `id` INTEG...</td>\n",
       "    </tr>\n",
       "    <tr>\n",
       "      <th>147</th>\n",
       "      <td>index</td>\n",
       "      <td>sqlite_autoindex_AvailabilityFactor_1</td>\n",
       "      <td>AvailabilityFactor</td>\n",
       "      <td>154</td>\n",
       "      <td>None</td>\n",
       "    </tr>\n",
       "    <tr>\n",
       "      <th>227</th>\n",
       "      <td>index</td>\n",
       "      <td>AvailabilityFactor_fks_unique</td>\n",
       "      <td>AvailabilityFactor</td>\n",
       "      <td>183</td>\n",
       "      <td>CREATE UNIQUE INDEX AvailabilityFactor_fks_uni...</td>\n",
       "    </tr>\n",
       "  </tbody>\n",
       "</table>\n",
       "</div>"
      ],
      "text/plain": [
       "      type                                   name            tbl_name  \\\n",
       "146  table                     AvailabilityFactor  AvailabilityFactor   \n",
       "147  index  sqlite_autoindex_AvailabilityFactor_1  AvailabilityFactor   \n",
       "227  index          AvailabilityFactor_fks_unique  AvailabilityFactor   \n",
       "\n",
       "     rootpage                                                sql  \n",
       "146       153  CREATE TABLE \"AvailabilityFactor\" ( `id` INTEG...  \n",
       "147       154                                               None  \n",
       "227       183  CREATE UNIQUE INDEX AvailabilityFactor_fks_uni...  "
      ]
     },
     "execution_count": 151,
     "metadata": {},
     "output_type": "execute_result"
    }
   ],
   "source": [
    "nm = \"AvailabilityFactor\" #\"TotalTechnologyAnnualActivityLowerLimit\"\n",
    "df[\n",
    "    [nm in x for x in list(df[\"tbl_name\"])]\n",
    "]"
   ]
  },
  {
   "cell_type": "code",
   "execution_count": 149,
   "id": "e1bdd06d-0d75-49e1-8314-73365bfb242d",
   "metadata": {},
   "outputs": [],
   "source": [
    "query = sqlalchemy.text('CREATE UNIQUE INDEX AvailabilityFactor_fks_unique on \"AvailabilityFactor\" (r,t,l,y);')\n",
    "with engine.connect() as con:\n",
    "    con.execute(query)\n",
    "    con.commit()"
   ]
  },
  {
   "cell_type": "code",
   "execution_count": null,
   "id": "b85cd59d-e6dc-42f1-a2f5-7650ee2b7cf6",
   "metadata": {},
   "outputs": [],
   "source": []
  },
  {
   "cell_type": "markdown",
   "id": "bff5aff1-5303-4f6d-80df-beed1f610923",
   "metadata": {},
   "source": [
    "#### "
   ]
  }
 ],
 "metadata": {
  "kernelspec": {
   "display_name": "Python 3 (ipykernel)",
   "language": "python",
   "name": "python3"
  },
  "language_info": {
   "codemirror_mode": {
    "name": "ipython",
    "version": 3
   },
   "file_extension": ".py",
   "mimetype": "text/x-python",
   "name": "python",
   "nbconvert_exporter": "python",
   "pygments_lexer": "ipython3",
   "version": "3.11.0"
  }
 },
 "nbformat": 4,
 "nbformat_minor": 5
}
