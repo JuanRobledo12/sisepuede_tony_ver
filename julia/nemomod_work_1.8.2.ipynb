{
 "cells": [
  {
   "cell_type": "code",
   "execution_count": 1,
   "metadata": {},
   "outputs": [
    {
     "name": "stderr",
     "output_type": "stream",
     "text": [
      "\u001b[32m\u001b[1m  Activating\u001b[22m\u001b[39m project at `~/Documents/Projects/git_jbus/sisepuede/julia`\n",
      "\u001b[36m\u001b[1m[ \u001b[22m\u001b[39m\u001b[36m\u001b[1mInfo: \u001b[22m\u001b[39mPrecompiling DataFrames [a93c6f00-e57d-5684-b7b6-d8193f3e46c0]\n",
      "\u001b[36m\u001b[1m[ \u001b[22m\u001b[39m\u001b[36m\u001b[1mInfo: \u001b[22m\u001b[39mPrecompiling NemoMod [a3c327a0-d2f0-11e8-37fd-d12fd35c3c72]\n",
      "WARNING: Method definition parse_line(String) in module ConfParser at /Users/jsyme/.julia/packages/ConfParser/b2fge/src/ConfParser.jl:95 overwritten in module NemoMod at /Users/jsyme/.julia/packages/NemoMod/d2ky8/src/other_functions.jl:35.\n",
      "  ** incremental compilation may be fatally broken for this module **\n",
      "\n",
      "\u001b[36m\u001b[1m[ \u001b[22m\u001b[39m\u001b[36m\u001b[1mInfo: \u001b[22m\u001b[39mPrecompiling Gurobi [2e9cd046-0924-5485-92f1-d5272153d98b]\n",
      "\u001b[36m\u001b[1m[ \u001b[22m\u001b[39m\u001b[36m\u001b[1mInfo: \u001b[22m\u001b[39mPrecompiling GAMS [1ca51c6a-1b4d-4546-9ae1-53e0a243ab12]\n",
      "\u001b[36m\u001b[1m[ \u001b[22m\u001b[39m\u001b[36m\u001b[1mInfo: \u001b[22m\u001b[39mPrecompiling CSV [336ed68f-0bac-5ca0-87d4-7b16caf5d00b]\n"
     ]
    },
    {
     "data": {
      "text/plain": [
       "\"/Users/jsyme/Documents/Projects/git_jbus/sisepuede/tmp/nemomod_intermediate_database.sqlite\""
      ]
     },
     "execution_count": 1,
     "metadata": {},
     "output_type": "execute_result"
    }
   ],
   "source": [
    "using Revise\n",
    "!(pwd() in LOAD_PATH) ? push!(LOAD_PATH, pwd()) : nothing\n",
    "include(\"SISEPUEDEPJSF.jl\")\n",
    "import .SISEPUEDEPJSF\n",
    "\n",
    "ENV[\"COLUMNS\"] = 240\n",
    "\n",
    "\n",
    "using Pkg\n",
    "Pkg.activate(\".\")\n",
    "\n",
    "\n",
    "using DataFrames\n",
    "using NemoMod\n",
    "using SQLite\n",
    "using Cbc\n",
    "using JuMP\n",
    "using Gurobi\n",
    "using GAMS\n",
    "\n",
    "include(\"setup_analysis.jl\")"
   ]
  },
  {
   "cell_type": "code",
   "execution_count": 26,
   "metadata": {},
   "outputs": [
    {
     "data": {
      "text/plain": [
       "\"/Users/jsyme/Documents/Projects/git_jbus/sisepuede/tmp/nemomod_intermediate_database_ORIG.sqlite\""
      ]
     },
     "execution_count": 26,
     "metadata": {},
     "output_type": "execute_result"
    }
   ],
   "source": [
    "fp_sqlite = \"/Users/jsyme/Documents/Projects/git_jbus/sisepuede/tmp/nemomod_intermediate_database.sqlite\"\n",
    "fp_sqlite_orig = \"/Users/jsyme/Documents/Projects/git_jbus/sisepuede/tmp/nemomod_intermediate_database_ORIG.sqlite\"\n",
    "\n",
    "# USE TO REINITIALIZE fp_sqlite\n",
    "# cp(fp_sqlite_orig, fp_sqlite)\n",
    "#"
   ]
  },
  {
   "cell_type": "code",
   "execution_count": 100,
   "metadata": {},
   "outputs": [],
   "source": [
    "#cp(fp_sqlite, fp_sqlite_orig, force = true)\n"
   ]
  },
  {
   "cell_type": "code",
   "execution_count": 27,
   "metadata": {},
   "outputs": [
    {
     "data": {
      "text/plain": [
       "SQLite.DB(\"/Users/jsyme/Documents/Projects/git_jbus/sisepuede/tmp/nemomod_intermediate_database.sqlite\")"
      ]
     },
     "execution_count": 27,
     "metadata": {},
     "output_type": "execute_result"
    }
   ],
   "source": [
    "db = SQLite.DB(fp_sqlite)\n",
    "db_orig = SQLite.DB(fp_sqlite_orig)"
   ]
  },
  {
   "cell_type": "code",
   "execution_count": 28,
   "metadata": {
    "tags": []
   },
   "outputs": [
    {
     "name": "stdout",
     "output_type": "stream",
     "text": [
      "CapacityFactor\n",
      "CapitalCost\n",
      "CapitalCostStorage\n",
      "DefaultParams\n",
      "EmissionActivityRatio\n",
      "FixedCost\n",
      "InputActivityRatio\n",
      "LTsGroup\n",
      "MinShareProduction\n",
      "MinStorageCharge\n",
      "OperationalLife\n",
      "OperationalLifeStorage\n",
      "OutputActivityRatio\n",
      "REMinProductionTarget\n",
      "RETagTechnology\n",
      "ReserveMargin\n",
      "ReserveMarginTagFuel\n",
      "ReserveMarginTagTechnology\n",
      "ResidualCapacity\n",
      "ResidualStorageCapacity\n",
      "SpecifiedAnnualDemand\n",
      "SpecifiedDemandProfile\n",
      "StorageLevelStart\n",
      "TechnologyFromStorage\n",
      "TechnologyToStorage\n",
      "TotalAnnualMaxCapacityInvestment\n",
      "TotalAnnualMaxCapacityInvestmentStorage\n",
      "TotalTechnologyAnnualActivityLowerLimit\n",
      "TotalTechnologyAnnualActivityUpperLimit\n",
      "VariableCost\n",
      "Version\n",
      "YearSplit\n",
      "sqlite_sequence\n"
     ]
    }
   ],
   "source": [
    "dict_tables = Dict()\n",
    "\n",
    "tabs = [x.name for x in SQLite.tables(db)]\n",
    "table_name = 0\n",
    "tabs_populated = Vector{String}()\n",
    "for k in 1:length(tabs)\n",
    "    table_name = tabs[k]\n",
    "    df_tmp = DBInterface.execute(db, \"select * from $(table_name)\") |> DataFrame\n",
    "    dict_tables[table_name] = df_tmp\n",
    "    \n",
    "    (nrow(df_tmp) > 0) ? push!(tabs_populated, table_name) : nothing\n",
    "end\n",
    "\n",
    "\n",
    "tabs = sort([x for x in tabs_populated if (x != uppercase(x)) & !startswith(x, \"v\")])\n",
    "println.(tabs);"
   ]
  },
  {
   "cell_type": "code",
   "execution_count": 30,
   "metadata": {
    "collapsed": true,
    "jupyter": {
     "outputs_hidden": true
    },
    "tags": []
   },
   "outputs": [
    {
     "data": {
      "text/html": [
       "<div><div style = \"float: left;\"><span>20×5 DataFrame</span></div><div style = \"clear: both;\"></div></div><div class = \"data-frame\" style = \"overflow-x: scroll;\"><table class = \"data-frame\" style = \"margin-bottom: 6px;\"><thead><tr class = \"header\"><th class = \"rowNumber\" style = \"font-weight: bold; text-align: right;\">Row</th><th style = \"text-align: left;\">id</th><th style = \"text-align: left;\">r</th><th style = \"text-align: left;\">f</th><th style = \"text-align: left;\">y</th><th style = \"text-align: left;\">val</th></tr><tr class = \"subheader headerLastRow\"><th class = \"rowNumber\" style = \"font-weight: bold; text-align: right;\"></th><th title = \"Int64\" style = \"text-align: left;\">Int64</th><th title = \"String\" style = \"text-align: left;\">String</th><th title = \"String\" style = \"text-align: left;\">String</th><th title = \"String\" style = \"text-align: left;\">String</th><th title = \"Float64\" style = \"text-align: left;\">Float64</th></tr></thead><tbody><tr><td class = \"rowNumber\" style = \"font-weight: bold; text-align: right;\">1</td><td style = \"text-align: right;\">1</td><td style = \"text-align: left;\">colombia</td><td style = \"text-align: left;\">fuel_coal</td><td style = \"text-align: left;\">1000</td><td style = \"text-align: right;\">2094.44</td></tr><tr><td class = \"rowNumber\" style = \"font-weight: bold; text-align: right;\">2</td><td style = \"text-align: right;\">2</td><td style = \"text-align: left;\">colombia</td><td style = \"text-align: left;\">fuel_coal</td><td style = \"text-align: left;\">1001</td><td style = \"text-align: right;\">2382.55</td></tr><tr><td class = \"rowNumber\" style = \"font-weight: bold; text-align: right;\">3</td><td style = \"text-align: right;\">37</td><td style = \"text-align: left;\">colombia</td><td style = \"text-align: left;\">fuel_crude</td><td style = \"text-align: left;\">1000</td><td style = \"text-align: right;\">1721.36</td></tr><tr><td class = \"rowNumber\" style = \"font-weight: bold; text-align: right;\">4</td><td style = \"text-align: right;\">38</td><td style = \"text-align: left;\">colombia</td><td style = \"text-align: left;\">fuel_crude</td><td style = \"text-align: left;\">1001</td><td style = \"text-align: right;\">1369.58</td></tr><tr><td class = \"rowNumber\" style = \"font-weight: bold; text-align: right;\">5</td><td style = \"text-align: right;\">73</td><td style = \"text-align: left;\">colombia</td><td style = \"text-align: left;\">fuel_diesel</td><td style = \"text-align: left;\">1000</td><td style = \"text-align: right;\">488.131</td></tr><tr><td class = \"rowNumber\" style = \"font-weight: bold; text-align: right;\">6</td><td style = \"text-align: right;\">74</td><td style = \"text-align: left;\">colombia</td><td style = \"text-align: left;\">fuel_diesel</td><td style = \"text-align: left;\">1001</td><td style = \"text-align: right;\">532.713</td></tr><tr><td class = \"rowNumber\" style = \"font-weight: bold; text-align: right;\">7</td><td style = \"text-align: right;\">109</td><td style = \"text-align: left;\">colombia</td><td style = \"text-align: left;\">fuel_electricity</td><td style = \"text-align: left;\">1000</td><td style = \"text-align: right;\">664.616</td></tr><tr><td class = \"rowNumber\" style = \"font-weight: bold; text-align: right;\">8</td><td style = \"text-align: right;\">110</td><td style = \"text-align: left;\">colombia</td><td style = \"text-align: left;\">fuel_electricity</td><td style = \"text-align: left;\">1001</td><td style = \"text-align: right;\">667.966</td></tr><tr><td class = \"rowNumber\" style = \"font-weight: bold; text-align: right;\">9</td><td style = \"text-align: right;\">145</td><td style = \"text-align: left;\">colombia</td><td style = \"text-align: left;\">fuel_gasoline</td><td style = \"text-align: left;\">1000</td><td style = \"text-align: right;\">101.87</td></tr><tr><td class = \"rowNumber\" style = \"font-weight: bold; text-align: right;\">10</td><td style = \"text-align: right;\">146</td><td style = \"text-align: left;\">colombia</td><td style = \"text-align: left;\">fuel_gasoline</td><td style = \"text-align: left;\">1001</td><td style = \"text-align: right;\">131.295</td></tr><tr><td class = \"rowNumber\" style = \"font-weight: bold; text-align: right;\">11</td><td style = \"text-align: right;\">181</td><td style = \"text-align: left;\">colombia</td><td style = \"text-align: left;\">fuel_hydrocarbon_gas_liquids</td><td style = \"text-align: left;\">1000</td><td style = \"text-align: right;\">4.49654</td></tr><tr><td class = \"rowNumber\" style = \"font-weight: bold; text-align: right;\">12</td><td style = \"text-align: right;\">182</td><td style = \"text-align: left;\">colombia</td><td style = \"text-align: left;\">fuel_hydrocarbon_gas_liquids</td><td style = \"text-align: left;\">1001</td><td style = \"text-align: right;\">6.40882</td></tr><tr><td class = \"rowNumber\" style = \"font-weight: bold; text-align: right;\">13</td><td style = \"text-align: right;\">217</td><td style = \"text-align: left;\">colombia</td><td style = \"text-align: left;\">fuel_hydrogen</td><td style = \"text-align: left;\">1000</td><td style = \"text-align: right;\">0.5</td></tr><tr><td class = \"rowNumber\" style = \"font-weight: bold; text-align: right;\">14</td><td style = \"text-align: right;\">218</td><td style = \"text-align: left;\">colombia</td><td style = \"text-align: left;\">fuel_hydrogen</td><td style = \"text-align: left;\">1001</td><td style = \"text-align: right;\">0.5</td></tr><tr><td class = \"rowNumber\" style = \"font-weight: bold; text-align: right;\">15</td><td style = \"text-align: right;\">253</td><td style = \"text-align: left;\">colombia</td><td style = \"text-align: left;\">fuel_kerosene</td><td style = \"text-align: left;\">1000</td><td style = \"text-align: right;\">35.1886</td></tr><tr><td class = \"rowNumber\" style = \"font-weight: bold; text-align: right;\">16</td><td style = \"text-align: right;\">254</td><td style = \"text-align: left;\">colombia</td><td style = \"text-align: left;\">fuel_kerosene</td><td style = \"text-align: left;\">1001</td><td style = \"text-align: right;\">39.9173</td></tr><tr><td class = \"rowNumber\" style = \"font-weight: bold; text-align: right;\">17</td><td style = \"text-align: right;\">289</td><td style = \"text-align: left;\">colombia</td><td style = \"text-align: left;\">fuel_natural_gas</td><td style = \"text-align: left;\">1000</td><td style = \"text-align: right;\">97.1077</td></tr><tr><td class = \"rowNumber\" style = \"font-weight: bold; text-align: right;\">18</td><td style = \"text-align: right;\">290</td><td style = \"text-align: left;\">colombia</td><td style = \"text-align: left;\">fuel_natural_gas</td><td style = \"text-align: left;\">1001</td><td style = \"text-align: right;\">85.2112</td></tr><tr><td class = \"rowNumber\" style = \"font-weight: bold; text-align: right;\">19</td><td style = \"text-align: right;\">325</td><td style = \"text-align: left;\">colombia</td><td style = \"text-align: left;\">fuel_oil</td><td style = \"text-align: left;\">1000</td><td style = \"text-align: right;\">45.6079</td></tr><tr><td class = \"rowNumber\" style = \"font-weight: bold; text-align: right;\">20</td><td style = \"text-align: right;\">326</td><td style = \"text-align: left;\">colombia</td><td style = \"text-align: left;\">fuel_oil</td><td style = \"text-align: left;\">1001</td><td style = \"text-align: right;\">36.0292</td></tr></tbody></table></div>"
      ],
      "text/latex": [
       "\\begin{tabular}{r|ccccc}\n",
       "\t& id & r & f & y & val\\\\\n",
       "\t\\hline\n",
       "\t& Int64 & String & String & String & Float64\\\\\n",
       "\t\\hline\n",
       "\t1 & 1 & colombia & fuel\\_coal & 1000 & 2094.44 \\\\\n",
       "\t2 & 2 & colombia & fuel\\_coal & 1001 & 2382.55 \\\\\n",
       "\t3 & 37 & colombia & fuel\\_crude & 1000 & 1721.36 \\\\\n",
       "\t4 & 38 & colombia & fuel\\_crude & 1001 & 1369.58 \\\\\n",
       "\t5 & 73 & colombia & fuel\\_diesel & 1000 & 488.131 \\\\\n",
       "\t6 & 74 & colombia & fuel\\_diesel & 1001 & 532.713 \\\\\n",
       "\t7 & 109 & colombia & fuel\\_electricity & 1000 & 664.616 \\\\\n",
       "\t8 & 110 & colombia & fuel\\_electricity & 1001 & 667.966 \\\\\n",
       "\t9 & 145 & colombia & fuel\\_gasoline & 1000 & 101.87 \\\\\n",
       "\t10 & 146 & colombia & fuel\\_gasoline & 1001 & 131.295 \\\\\n",
       "\t11 & 181 & colombia & fuel\\_hydrocarbon\\_gas\\_liquids & 1000 & 4.49654 \\\\\n",
       "\t12 & 182 & colombia & fuel\\_hydrocarbon\\_gas\\_liquids & 1001 & 6.40882 \\\\\n",
       "\t13 & 217 & colombia & fuel\\_hydrogen & 1000 & 0.5 \\\\\n",
       "\t14 & 218 & colombia & fuel\\_hydrogen & 1001 & 0.5 \\\\\n",
       "\t15 & 253 & colombia & fuel\\_kerosene & 1000 & 35.1886 \\\\\n",
       "\t16 & 254 & colombia & fuel\\_kerosene & 1001 & 39.9173 \\\\\n",
       "\t17 & 289 & colombia & fuel\\_natural\\_gas & 1000 & 97.1077 \\\\\n",
       "\t18 & 290 & colombia & fuel\\_natural\\_gas & 1001 & 85.2112 \\\\\n",
       "\t19 & 325 & colombia & fuel\\_oil & 1000 & 45.6079 \\\\\n",
       "\t20 & 326 & colombia & fuel\\_oil & 1001 & 36.0292 \\\\\n",
       "\\end{tabular}\n"
      ],
      "text/plain": [
       "\u001b[1m20×5 DataFrame\u001b[0m\n",
       "\u001b[1m Row \u001b[0m│\u001b[1m id    \u001b[0m\u001b[1m r        \u001b[0m\u001b[1m f                            \u001b[0m\u001b[1m y      \u001b[0m\u001b[1m val        \u001b[0m\n",
       "     │\u001b[90m Int64 \u001b[0m\u001b[90m String   \u001b[0m\u001b[90m String                       \u001b[0m\u001b[90m String \u001b[0m\u001b[90m Float64    \u001b[0m\n",
       "─────┼───────────────────────────────────────────────────────────────────\n",
       "   1 │     1  colombia  fuel_coal                     1000    2094.44\n",
       "   2 │     2  colombia  fuel_coal                     1001    2382.55\n",
       "   3 │    37  colombia  fuel_crude                    1000    1721.36\n",
       "   4 │    38  colombia  fuel_crude                    1001    1369.58\n",
       "   5 │    73  colombia  fuel_diesel                   1000     488.131\n",
       "   6 │    74  colombia  fuel_diesel                   1001     532.713\n",
       "   7 │   109  colombia  fuel_electricity              1000     664.616\n",
       "   8 │   110  colombia  fuel_electricity              1001     667.966\n",
       "   9 │   145  colombia  fuel_gasoline                 1000     101.87\n",
       "  10 │   146  colombia  fuel_gasoline                 1001     131.295\n",
       "  11 │   181  colombia  fuel_hydrocarbon_gas_liquids  1000       4.49654\n",
       "  12 │   182  colombia  fuel_hydrocarbon_gas_liquids  1001       6.40882\n",
       "  13 │   217  colombia  fuel_hydrogen                 1000       0.5\n",
       "  14 │   218  colombia  fuel_hydrogen                 1001       0.5\n",
       "  15 │   253  colombia  fuel_kerosene                 1000      35.1886\n",
       "  16 │   254  colombia  fuel_kerosene                 1001      39.9173\n",
       "  17 │   289  colombia  fuel_natural_gas              1000      97.1077\n",
       "  18 │   290  colombia  fuel_natural_gas              1001      85.2112\n",
       "  19 │   325  colombia  fuel_oil                      1000      45.6079\n",
       "  20 │   326  colombia  fuel_oil                      1001      36.0292"
      ]
     },
     "execution_count": 30,
     "metadata": {},
     "output_type": "execute_result"
    }
   ],
   "source": [
    "df = dict_tables[\"SpecifiedAnnualDemand\"]\n",
    "filter((x -> (x[:y] in [\"1000\", \"1001\"])), df)"
   ]
  },
  {
   "cell_type": "code",
   "execution_count": null,
   "metadata": {
    "tags": []
   },
   "outputs": [],
   "source": []
  },
  {
   "cell_type": "code",
   "execution_count": 34,
   "metadata": {
    "tags": []
   },
   "outputs": [
    {
     "name": "stderr",
     "output_type": "stream",
     "text": [
      "\u001b[36m\u001b[1m[ \u001b[22m\u001b[39m\u001b[36m\u001b[1mInfo: \u001b[22m\u001b[39mPrecompiling HiGHS [87dc4568-4c63-4d18-b0c0-bb2238e4078b]\n"
     ]
    }
   ],
   "source": [
    "using HiGHS"
   ]
  },
  {
   "cell_type": "code",
   "execution_count": null,
   "metadata": {},
   "outputs": [],
   "source": []
  },
  {
   "cell_type": "code",
   "execution_count": 110,
   "metadata": {},
   "outputs": [],
   "source": [
    "SQLite.DBInterface.execute(db, \"delete from TotalAnnualMaxCapacity;\");\n",
    "# REMOVED:\n",
    "# MinShareProduction\n",
    "# TotalTechnologyAnnualActivityUpperLimit\n",
    "# TotalAnnualMaxCapacityInvestment\n",
    "# REMinProductionTarget\n",
    "# TotalAnnualMaxCapacityInvestmentStorage\n",
    "# TotalTechnologyAnnualActivityLowerLimit\n",
    "# TotalAnnualMaxCapacity"
   ]
  },
  {
   "cell_type": "code",
   "execution_count": 101,
   "metadata": {
    "tags": []
   },
   "outputs": [
    {
     "name": "stdout",
     "output_type": "stream",
     "text": [
      "2023-11-Jul 22:24:49.485 Started modeling scenario.\n",
      "2023-11-Jul 22:24:49.490 Validated run-time arguments.\n",
      "2023-11-Jul 22:24:49.493 Connected to scenario database. Path = /Users/jsyme/Documents/Projects/git_jbus/sisepuede/tmp/nemomod_intermediate_database_ORIG.sqlite.\n",
      "2023-11-Jul 22:24:49.597 Dropped pre-existing result tables from database.\n",
      "2023-11-Jul 22:24:49.599 Verified that transmission modeling is not enabled.\n",
      "2023-11-Jul 22:24:49.876 Created parameter views and indices.\n",
      "2023-11-Jul 22:24:49.892 Created temporary tables.\n",
      "2023-11-Jul 22:24:53.261 Executed core database queries.\n",
      "2023-11-Jul 22:24:53.266 Defined dimensions.\n",
      "2023-11-Jul 22:24:53.285 Defined demand variables.\n",
      "2023-11-Jul 22:24:53.300 Defined storage variables.\n",
      "2023-11-Jul 22:24:53.302 Defined capacity variables.\n",
      "2023-11-Jul 22:24:55.212 Defined activity variables.\n",
      "2023-11-Jul 22:24:55.218 Defined costing variables.\n",
      "2023-11-Jul 22:24:55.219 Defined reserve margin variables.\n",
      "2023-11-Jul 22:24:55.250 Defined emissions variables.\n",
      "2023-11-Jul 22:24:55.250 Defined combined nodal and non-nodal variables.\n",
      "2023-11-Jul 22:24:55.250 Finished defining model variables.\n",
      "2023-11-Jul 22:24:55.251 Scheduled task to add constraints to model.\n",
      "2023-11-Jul 22:24:55.251 Queued constraint CAa1_TotalNewCapacity for creation.\n",
      "2023-11-Jul 22:24:55.251 Queued constraint CAa2_TotalAnnualCapacity for creation.\n",
      "2023-11-Jul 22:24:55.292 Queued constraint VRateOfActivity1 for creation.\n",
      "2023-11-Jul 22:24:55.292 Queued constraint RampRate for creation.\n",
      "2023-11-Jul 22:24:55.292 Queued constraint CAa3_TotalActivityOfEachTechnology for creation.\n",
      "2023-11-Jul 22:24:55.292 Queued constraint CAa4_Constraint_Capacity for creation.\n",
      "2023-11-Jul 22:24:55.292 Queued constraint MinimumTechnologyUtilization for creation.\n",
      "2023-11-Jul 22:24:55.293 Queued constraint EBa2_RateOfFuelProduction2 for creation.\n",
      "2023-11-Jul 22:24:55.293 Queued constraint GenerationAnnualNN for creation.\n",
      "2023-11-Jul 22:24:55.293 Queued constraint ReGenerationAnnualNN for creation.\n",
      "2023-11-Jul 22:24:55.293 Queued constraint EBa3_RateOfFuelProduction3 for creation.\n",
      "2023-11-Jul 22:24:55.293 Queued constraint VRateOfProduction1 for creation.\n",
      "2023-11-Jul 22:24:55.293 Queued constraint EBa5_RateOfFuelUse2 for creation.\n",
      "2023-11-Jul 22:24:55.293 Queued constraint EBa6_RateOfFuelUse3 for creation.\n",
      "2023-11-Jul 22:24:55.836 Queued constraint VRateOfUse1 for creation.\n",
      "2023-11-Jul 22:24:55.836 Queued constraint EBa7_EnergyBalanceEachTS1 for creation.\n",
      "2023-11-Jul 22:24:55.836 Queued constraint EBa8_EnergyBalanceEachTS2 for creation.\n",
      "2023-11-Jul 22:24:55.836 Queued constraint EBa9_EnergyBalanceEachTS3 for creation.\n",
      "2023-11-Jul 22:24:55.836 Queued constraint EBa11_EnergyBalanceEachTS5 for creation.\n",
      "2023-11-Jul 22:24:55.836 Queued constraint EBb0_EnergyBalanceEachYear for creation.\n",
      "2023-11-Jul 22:24:55.903 Queued constraint EBb1_EnergyBalanceEachYear for creation.\n",
      "2023-11-Jul 22:24:56.125 Queued constraint EBb2_EnergyBalanceEachYear for creation.\n",
      "2023-11-Jul 22:24:56.125 Queued constraint EBb3_EnergyBalanceEachYear for creation.\n",
      "2023-11-Jul 22:24:56.125 Queued constraint EBb5_EnergyBalanceEachYear for creation.\n",
      "2023-11-Jul 22:24:56.125 Queued constraint Acc3_AverageAnnualRateOfActivity for creation.\n",
      "2023-11-Jul 22:24:58.675 Queued constraint NS1_RateOfStorageCharge for creation.\n",
      "2023-11-Jul 22:24:58.675 Queued constraint NS2_RateOfStorageDischarge for creation.\n",
      "2023-11-Jul 22:24:58.676 Queued constraint NS3_StorageLevelTsGroup1Start for creation.\n",
      "2023-11-Jul 22:24:58.676 Queued constraint NS4_StorageLevelTsGroup2Start for creation.\n",
      "2023-11-Jul 22:24:58.676 Queued constraint NS5_StorageLevelTimesliceEnd for creation.\n",
      "2023-11-Jul 22:24:58.676 Queued constraint NS6_StorageLevelTsGroup2End for creation.\n",
      "2023-11-Jul 22:24:58.901 Queued constraint NS6a_StorageLevelTsGroup2NetZero for creation.\n",
      "2023-11-Jul 22:24:58.901 Queued constraint NS7_StorageLevelTsGroup1End for creation.\n",
      "2023-11-Jul 22:24:58.901 Queued constraint NS7a_StorageLevelTsGroup1NetZero for creation.\n",
      "2023-11-Jul 22:24:58.901 Queued constraint NS8_StorageLevelYearEnd for creation.\n",
      "2023-11-Jul 22:24:58.901 Queued constraint NS8a_StorageLevelYearEndNetZero for creation.\n",
      "2023-11-Jul 22:24:58.901 Queued constraint SI1_StorageUpperLimit for creation.\n",
      "2023-11-Jul 22:24:58.901 Queued constraint SI2_StorageLowerLimit for creation.\n",
      "2023-11-Jul 22:24:58.901 Queued constraint SI3_TotalNewStorage for creation.\n",
      "2023-11-Jul 22:24:58.901 Queued constraint NS9a_StorageLevelTsLowerLimit for creation.\n",
      "2023-11-Jul 22:24:58.901 Queued constraint NS9b_StorageLevelTsUpperLimit for creation.\n",
      "2023-11-Jul 22:24:58.901 Queued constraint NS10_StorageChargeLimit for creation.\n",
      "2023-11-Jul 22:24:59.291 Queued constraint NS11_StorageDischargeLimit for creation.\n",
      "2023-11-Jul 22:24:59.291 Queued constraint NS12a_StorageLevelTsGroup2LowerLimit for creation.\n",
      "2023-11-Jul 22:24:59.291 Queued constraint NS12b_StorageLevelTsGroup2UpperLimit for creation.\n",
      "2023-11-Jul 22:24:59.291 Queued constraint NS13a_StorageLevelTsGroup1LowerLimit for creation.\n",
      "2023-11-Jul 22:24:59.313 Queued constraint NS13b_StorageLevelTsGroup1UpperLimit for creation.\n",
      "2023-11-Jul 22:24:59.313 Queued constraint NS14_MaxStorageCapacity for creation.\n",
      "2023-11-Jul 22:24:59.313 Queued constraint NS15_MinStorageCapacity for creation.\n",
      "2023-11-Jul 22:24:59.313 Queued constraint NS16_MaxStorageCapacityInvestment for creation.\n",
      "2023-11-Jul 22:24:59.313 Queued constraint NS17_MinStorageCapacityInvestment for creation.\n",
      "2023-11-Jul 22:24:59.314 Queued constraint NS18_FullLoadHours for creation.\n",
      "2023-11-Jul 22:24:59.314 Queued constraint SI4a_FinancingStorage for creation.\n",
      "2023-11-Jul 22:24:59.315 Queued constraint SI4_UndiscountedCapitalInvestmentStorage for creation.\n",
      "2023-11-Jul 22:24:59.315 Queued constraint SI5_DiscountingCapitalInvestmentStorage for creation.\n",
      "2023-11-Jul 22:24:59.315 Queued constraint SI6_SalvageValueStorageAtEndOfPeriod1 for creation.\n",
      "2023-11-Jul 22:24:59.315 Queued constraint SI7_SalvageValueStorageAtEndOfPeriod2 for creation.\n",
      "2023-11-Jul 22:24:59.315 Queued constraint SI8_SalvageValueStorageAtEndOfPeriod3 for creation.\n",
      "2023-11-Jul 22:24:59.317 Queued constraint SI9_SalvageValueStorageDiscountedToStartYear for creation.\n",
      "2023-11-Jul 22:24:59.317 Queued constraint SI10_TotalDiscountedCostByStorage for creation.\n",
      "2023-11-Jul 22:24:59.317 Queued constraint CC1a_FinancingTechnology for creation.\n",
      "2023-11-Jul 22:24:59.318 Queued constraint CC1_UndiscountedCapitalInvestment for creation.\n",
      "2023-11-Jul 22:24:59.381 Queued constraint CC2_DiscountingCapitalInvestment for creation.\n",
      "2023-11-Jul 22:24:59.381 Queued constraint SV1_SalvageValueAtEndOfPeriod1 for creation.\n",
      "2023-11-Jul 22:24:59.382 Queued constraint SV2_SalvageValueAtEndOfPeriod2 for creation.\n",
      "2023-11-Jul 22:24:59.382 Queued constraint SV3_SalvageValueAtEndOfPeriod3 for creation.\n",
      "2023-11-Jul 22:24:59.382 Queued constraint SV4_SalvageValueDiscountedToStartYear for creation.\n",
      "2023-11-Jul 22:24:59.382 Queued constraint OC1_OperatingCostsVariable for creation.\n",
      "2023-11-Jul 22:24:59.433 Queued constraint OC2_OperatingCostsFixedAnnual for creation.\n",
      "2023-11-Jul 22:24:59.433 Queued constraint OC3_OperatingCostsTotalAnnual for creation.\n",
      "2023-11-Jul 22:24:59.433 Queued constraint OC4_DiscountedOperatingCostsTotalAnnual for creation.\n",
      "2023-11-Jul 22:24:59.433 Queued constraint TDC1_TotalDiscountedCostByTechnology for creation.\n",
      "2023-11-Jul 22:24:59.433 Queued constraint TDC2_TotalDiscountedCost for creation.\n",
      "2023-11-Jul 22:24:59.433 Queued constraint TCC1_TotalAnnualMaxCapacityConstraint for creation.\n",
      "2023-11-Jul 22:24:59.520 Queued constraint TCC2_TotalAnnualMinCapacityConstraint for creation.\n",
      "2023-11-Jul 22:24:59.520 Queued constraint NCC1_TotalAnnualMaxNewCapacityConstraint for creation.\n",
      "2023-11-Jul 22:24:59.520 Queued constraint NCC2_TotalAnnualMinNewCapacityConstraint for creation.\n",
      "2023-11-Jul 22:24:59.520 Queued constraint AAC1_TotalAnnualTechnologyActivity for creation.\n",
      "2023-11-Jul 22:24:59.520 Queued constraint AAC2_TotalAnnualTechnologyActivityUpperLimit for creation.\n",
      "2023-11-Jul 22:24:59.520 Queued constraint AAC3_TotalAnnualTechnologyActivityLowerLimit for creation.\n",
      "2023-11-Jul 22:24:59.520 Queued constraint RM1_ReserveMargin_TechnologiesIncluded_In_Activity_Units for creation.\n",
      "2023-11-Jul 22:24:59.563 Queued constraint RM2_ReserveMargin_FuelsIncluded for creation.\n",
      "2023-11-Jul 22:24:59.563 Queued constraint RM3_ReserveMargin_Constraint for creation.\n",
      "2023-11-Jul 22:24:59.563 Queued constraint RE1_FuelProductionByTechnologyAnnual for creation.\n",
      "2023-11-Jul 22:24:59.563 Queued constraint FuelUseByTechnologyAnnual for creation.\n",
      "2023-11-Jul 22:24:59.563 Queued constraint RE2_ProductionTarget for creation.\n",
      "2023-11-Jul 22:24:59.563 Queued constraint RE3_ProductionTargetRG for creation.\n",
      "2023-11-Jul 22:24:59.564 Queued constraint MinShareProduction for creation.\n",
      "2023-11-Jul 22:24:59.929 Queued constraint E2a_AnnualEmissionProduction for creation.\n",
      "2023-11-Jul 22:24:59.929 Queued constraint E2b_AnnualEmissionProduction for creation.\n",
      "2023-11-Jul 22:24:59.929 Queued constraint E4_EmissionsPenaltyByTechnology for creation.\n",
      "2023-11-Jul 22:24:59.929 Queued constraint E5_DiscountedEmissionsPenaltyByTechnology for creation.\n",
      "2023-11-Jul 22:24:59.929 Queued constraint E6_EmissionsAccounting1 for creation.\n",
      "2023-11-Jul 22:24:59.929 Queued constraint E7_EmissionsAccounting2 for creation.\n",
      "2023-11-Jul 22:24:59.929 Queued constraint E8_AnnualEmissionsLimit for creation.\n",
      "2023-11-Jul 22:25:00.877 Queued constraint E9_ModelPeriodEmissionsLimit for creation.\n",
      "2023-11-Jul 22:25:00.877 Queued 96 standard constraints for creation.\n",
      "2023-11-Jul 22:25:01.874 Finished scheduled task to add constraints to model.\n",
      "2023-11-Jul 22:25:01.874 Added 96 standard constraints to model.\n",
      "2023-11-Jul 22:25:01.874 Defined model objective.\n",
      "Gurobi Optimizer version 9.5.2 build v9.5.2rc0 (mac64[x86])\n",
      "Thread count: 6 physical cores, 12 logical processors, using up to 12 threads\n",
      "Optimize a model with 620601 rows, 596446 columns and 1787519 nonzeros\n",
      "Model fingerprint: 0xec6adb22\n",
      "Coefficient statistics:\n",
      "  Matrix range     [6e-09, 8e+05]\n",
      "  Objective range  [1e+00, 1e+00]\n",
      "  Bounds range     [0e+00, 0e+00]\n",
      "  RHS range        [8e-04, 1e+12]\n",
      "Warning: Model contains large matrix coefficient range\n",
      "Warning: Model contains large rhs\n",
      "         Consider reformulating model or setting NumericFocus parameter\n",
      "         to avoid numerical issues.\n",
      "\n",
      "Concurrent LP optimizer: primal simplex, dual simplex, and barrier\n",
      "Showing barrier log only...\n",
      "\n",
      "Presolve removed 528900 rows and 525609 columns\n",
      "Presolve time: 4.85s\n",
      "Presolved: 91701 rows, 70837 columns, 489696 nonzeros\n",
      "\n",
      "Ordering time: 2.22s\n",
      "\n",
      "Barrier statistics:\n",
      " AA' NZ     : 1.875e+06\n",
      " Factor NZ  : 1.135e+07 (roughly 160 MB of memory)\n",
      " Factor Ops : 3.191e+09 (less than 1 second per iteration)\n",
      " Threads    : 4\n",
      "\n",
      "                  Objective                Residual\n",
      "Iter       Primal          Dual         Primal    Dual     Compl     Time\n",
      "   0   2.35908412e+18 -2.61157377e+19  6.42e+11 1.63e+03  1.65e+15     8s\n",
      "   1   2.35908889e+18 -7.96070700e+22  6.42e+11 1.67e+05  1.65e+15     8s\n",
      "   2   2.35915650e+18 -1.65485694e+23  6.42e+11 1.68e+05  1.66e+15     8s\n",
      "   3   2.35908412e+18 -2.61157377e+19  6.42e+11 1.63e+03  1.65e+15     8s\n",
      "   4   2.35908890e+18 -7.96070701e+22  6.42e+11 1.67e+05  1.65e+15     9s\n",
      "   5   2.35915650e+18 -1.65485694e+23  6.42e+11 1.68e+05  1.66e+15     9s\n",
      "   6   2.35916968e+18 -8.34051387e+23  6.42e+11 1.68e+05  1.68e+15     9s\n",
      "   7   2.35927768e+18 -5.59844272e+24  6.42e+11 1.67e+05  1.87e+15     9s\n",
      "   8   2.35930717e+18 -3.03116457e+25  6.42e+11 1.68e+05  2.77e+15     9s\n",
      "   9   2.35927711e+18 -1.04214180e+26  6.42e+11 1.68e+05  5.47e+15    10s\n",
      "  10   2.35932911e+18 -3.79056554e+26  6.42e+11 1.68e+05  1.55e+16    10s\n",
      "  11   2.35932531e+18 -5.21498634e+26  6.42e+11 1.68e+05  2.07e+16    10s\n",
      "  12   2.35932543e+18 -1.69154121e+27  6.42e+11 1.68e+05  6.33e+16    10s\n",
      "  13   2.35935548e+18 -1.04934733e+28  6.43e+11 1.68e+05  3.85e+17    11s\n",
      "  14   2.35949979e+18 -5.06773773e+28  6.46e+11 1.68e+05  1.86e+18    11s\n",
      "  15   2.35979600e+18 -2.85081174e+29  6.48e+11 1.68e+05  1.05e+19    11s\n",
      "  16   2.35908412e+18 -2.61157377e+19  6.42e+11 1.63e+03  1.65e+15    11s\n",
      "  17   4.11520661e+18 -2.51269628e+18  6.47e+11 1.53e+05  2.35e+16    12s\n",
      "  18   4.22451549e+18 -1.96681518e+18  6.51e+11 1.62e+05  5.22e+16    12s\n",
      "  19   4.30269905e+18 -3.10201133e+17  6.11e+11 1.60e+05  7.28e+16    12s\n",
      "  20   3.56907142e+18  9.60293739e+17  3.88e+11 9.47e+04  4.98e+16    13s\n",
      "  21   3.09682591e+18  1.58319927e+18  2.44e+11 5.44e+04  3.45e+16    13s\n",
      "  22   2.54514367e+18  1.12979085e+18  1.00e+11 2.57e+04  1.34e+16    13s\n",
      "  23   2.12635228e+18  1.32657131e+18  1.32e+10 7.17e+03  1.97e+15    14s\n",
      "  24   1.98154011e+18  1.70635672e+18  3.62e+09 2.94e+03  6.02e+14    14s\n",
      "  25   1.09960435e+18  1.10945848e+18  4.17e+07 6.09e+02  6.05e+13    15s\n",
      "  26   1.43641476e+17 -2.32321126e+16  2.74e+06 3.05e+01  3.42e+12    16s\n",
      "  27   4.06566382e+16 -1.05042483e+16  6.35e+05 1.91e+01  1.78e+12    16s\n",
      "  28   3.58881333e+16 -8.09658992e+15  5.53e+05 1.60e+01  1.50e+12    16s\n",
      "  29   7.41454410e+15  1.57203478e+15  6.87e+04 2.57e+00  2.25e+11    16s\n",
      "  30   1.97251411e+15  1.48986653e+15  4.49e+03 7.20e-01  5.13e+10    17s\n",
      "  31   9.53636051e+14  1.18305315e+15  6.52e+02 4.64e-01  2.85e+10    17s\n",
      "  32   7.28449460e+14  8.01583554e+14  3.07e+02 2.37e-01  1.30e+10    18s\n",
      "  33   4.46288312e+14  5.39008150e+14  1.97e+02 2.05e-01  4.71e+09    18s\n",
      "  34   3.21619692e+14  3.64698287e+14  8.71e+01 2.20e-01  2.17e+09    18s\n",
      "  35   2.45060538e+14  2.69133651e+14  2.53e+01 2.23e-01  8.48e+08    19s\n",
      "  36   2.29017811e+14  2.37629902e+14  2.41e+01 2.20e-01  7.49e+08    19s\n",
      "  37   2.07942039e+14  2.24529594e+14  2.24e+01 2.19e-01  6.93e+08    19s\n",
      "  38   1.96059203e+14  2.10403143e+14  2.12e+01 2.15e-01  6.41e+08    19s\n",
      "  39   1.89952788e+14  2.04972299e+14  2.05e+01 2.12e-01  6.16e+08    20s\n",
      "  40   1.83422406e+14  1.98910941e+14  1.97e+01 2.07e-01  5.86e+08    20s\n",
      "  41   1.78335671e+14  1.93693442e+14  1.89e+01 2.00e-01  5.58e+08    20s\n",
      "  42   1.78320889e+14  1.93674493e+14  1.89e+01 2.00e-01  5.58e+08    20s\n",
      "  43   1.73511257e+14  1.89765215e+14  1.80e+01 1.94e-01  5.32e+08    21s\n",
      "  44   1.73421121e+14  1.89439202e+14  1.79e+01 1.93e-01  5.29e+08    21s\n",
      "  45   1.73420962e+14  1.89439029e+14  1.79e+01 1.93e-01  5.29e+08    21s\n",
      "  46   1.66012992e+14  1.84886960e+14  1.59e+01 1.72e-01  4.86e+08    22s\n",
      "  47   1.57394032e+14  1.78381525e+14  1.45e+01 1.58e-01  4.48e+08    22s\n",
      "  48   1.53170269e+14  1.74214069e+14  1.41e+01 1.54e-01  4.32e+08    22s\n",
      "  49   1.52953757e+14  1.74133708e+14  1.41e+01 1.54e-01  4.32e+08    23s\n",
      "  50   1.44542856e+14  1.56973886e+14  1.35e+01 1.50e-01  3.89e+08    23s\n",
      "  51   1.32526852e+14  1.44351984e+14  1.26e+01 1.50e-01  3.53e+08    23s\n",
      "  52   1.30589475e+14  1.41308550e+14  1.24e+01 1.49e-01  3.45e+08    23s\n",
      "  53   1.25483248e+14  1.30121563e+14  1.20e+01 1.46e-01  3.18e+08    24s\n",
      "  54   1.25481123e+14  1.30117842e+14  1.20e+01 1.46e-01  3.18e+08    24s\n",
      "  55   1.24893573e+14  1.23646346e+14  1.19e+01 1.44e-01  3.04e+08    24s\n",
      "  56   1.22794521e+14  1.22647849e+14  1.17e+01 1.44e-01  3.00e+08    25s\n",
      "  57   1.22607200e+14  1.22081567e+14  1.17e+01 1.43e-01  2.98e+08    25s\n",
      "  58   1.21301868e+14  1.21544119e+14  1.16e+01 1.43e-01  2.96e+08    25s\n",
      "  59   1.21298352e+14  1.21539194e+14  1.16e+01 1.43e-01  2.95e+08    25s\n",
      "  60   1.21166284e+14  1.21484662e+14  1.16e+01 1.43e-01  2.95e+08    26s\n",
      "  61   1.19430980e+14  1.12786454e+14  1.11e+01 1.38e-01  2.74e+08    26s\n",
      "  62   1.17799990e+14  1.11376420e+14  1.09e+01 1.36e-01  2.68e+08    26s\n",
      "  63   1.17055949e+14  1.10652080e+14  1.07e+01 1.32e-01  2.63e+08    27s\n",
      "  64   1.02567602e+14  1.14594027e+14  5.61e+00 1.44e-01  2.11e+08    27s\n",
      "  65   9.73907004e+13  1.06419622e+14  4.68e+00 9.69e-02  1.67e+08    28s\n",
      "  66   9.45439602e+13  1.04639487e+14  4.35e+00 9.58e-02  1.59e+08    28s\n",
      "  67   9.45414587e+13  1.04637496e+14  4.35e+00 9.58e-02  1.59e+08    28s\n",
      "  68   8.86443823e+13  9.94242905e+13  4.11e+00 9.52e-02  1.47e+08    29s\n",
      "  69   8.86420757e+13  9.94234726e+13  4.11e+00 9.52e-02  1.47e+08    29s\n",
      "  70   8.60646625e+13  9.75768378e+13  3.99e+00 9.50e-02  1.42e+08    30s\n",
      "  71   8.57640595e+13  9.67830206e+13  3.98e+00 9.49e-02  1.41e+08    30s\n",
      "  72   7.98965408e+13  9.01096950e+13  3.69e+00 9.42e-02  1.27e+08    30s\n",
      "  73   7.93318550e+13  8.93459150e+13  3.67e+00 9.41e-02  1.26e+08    30s\n",
      "  74   7.00504867e+13  8.71504872e+13  3.29e+00 9.37e-02  1.16e+08    31s\n",
      "  75   7.00434254e+13  8.71476938e+13  3.29e+00 9.37e-02  1.16e+08    31s\n",
      "  76   7.00399454e+13  8.71290482e+13  3.29e+00 9.37e-02  1.16e+08    31s\n",
      "  77   6.88460790e+13  8.64837969e+13  3.22e+00 9.36e-02  1.14e+08    31s\n",
      "  78   6.86977740e+13  8.62414689e+13  3.21e+00 9.35e-02  1.14e+08    32s\n",
      "  79   6.83838926e+13  8.48080763e+13  3.20e+00 9.31e-02  1.11e+08    32s\n",
      "  80   6.69053738e+13  8.25362893e+13  3.05e+00 9.23e-02  1.05e+08    32s\n",
      "  81   6.33073297e+13  7.97210425e+13  2.70e+00 9.11e-02  9.56e+07    33s\n",
      "  82   6.17500900e+13  7.90599006e+13  2.56e+00 9.07e-02  9.29e+07    33s\n",
      "  83   6.02633135e+13  7.27795456e+13  2.45e+00 7.35e-02  8.07e+07    33s\n",
      "  84   5.77419993e+13  7.07471824e+13  2.27e+00 7.09e-02  7.49e+07    34s\n",
      "  85   5.67740758e+13  6.87427035e+13  2.18e+00 7.04e-02  7.03e+07    34s\n",
      "  86   5.57878487e+13  6.63405581e+13  2.10e+00 7.00e-02  6.58e+07    34s\n",
      "  87   5.50645888e+13  6.61838260e+13  2.06e+00 7.00e-02  6.50e+07    34s\n",
      "  88   5.43458023e+13  6.44368824e+13  2.03e+00 6.97e-02  6.23e+07    35s\n",
      "  89   5.34496835e+13  6.40334478e+13  2.00e+00 6.96e-02  6.15e+07    35s\n",
      "  90   5.34494381e+13  6.40302423e+13  2.00e+00 8.11e-02  6.15e+07    35s\n",
      "  91   4.91444419e+13  5.60276652e+13  1.85e+00 7.23e-02  5.34e+07    35s\n",
      "  92   4.76445579e+13  5.16941602e+13  1.80e+00 6.83e-02  4.82e+07    36s\n",
      "  93   4.04336338e+13  4.60334443e+13  1.55e+00 6.82e-02  4.12e+07    36s\n",
      "  94   3.87640401e+13  4.11336178e+13  1.50e+00 6.81e-02  3.67e+07    37s\n",
      "  95   3.87728028e+13  4.11368563e+13  1.50e+00 7.62e-02  3.67e+07    37s\n",
      "  96   3.28152442e+13  3.90978467e+13  1.33e+00 8.02e-02  3.30e+07    37s\n",
      "  97   2.95517572e+13  3.44331074e+13  1.24e+00 6.57e-02  2.85e+07    38s\n",
      "  98   2.64718906e+13  2.91797781e+13  1.15e+00 6.47e-02  2.41e+07    38s\n",
      "  99   2.36453038e+13  2.89662953e+13  1.08e+00 6.47e-02  2.31e+07    38s\n",
      " 100   2.25459305e+13  2.46316961e+13  1.04e+00 6.38e-02  2.00e+07    38s\n",
      " 101   2.09160032e+13  2.42662646e+13  9.89e-01 6.37e-02  1.92e+07    39s\n",
      " 102   2.05238348e+13  2.15241771e+13  9.74e-01 8.87e-02  1.77e+07    39s\n",
      " 103   2.05260241e+13  2.15285275e+13  9.74e-01 8.88e-02  1.77e+07    39s\n",
      " 104   1.72425810e+13  2.12291632e+13  8.23e-01 8.82e-02  1.62e+07    40s\n",
      " 105   1.66616149e+13  1.97148064e+13  8.00e-01 8.59e-02  1.51e+07    40s\n",
      " 106   1.62885629e+13  1.86115024e+13  7.59e-01 8.25e-02  1.38e+07    40s\n",
      " 107   1.63167992e+13  1.83303013e+13  7.33e-01 8.15e-02  1.38e+07    41s\n",
      " 108   1.56356758e+13  1.75572659e+13  7.01e-01 7.66e-02  1.30e+07    41s\n",
      " 109   1.49841264e+13  1.72076424e+13  6.68e-01 7.43e-02  1.23e+07    41s\n",
      " 110   1.41903216e+13  1.66513689e+13  6.37e-01 7.09e-02  1.17e+07    41s\n",
      " 111   9.83889967e+12  1.52530071e+13  5.26e-01 6.94e-02  9.86e+06    42s\n",
      " 112   8.37183747e+12  3.60500838e+12  4.93e-01 5.80e-02  4.91e+06    42s\n",
      " 113   6.09368512e+12  2.02830939e+12  4.43e-01 5.64e-02  4.20e+06    42s\n",
      " 114   3.84893308e+12 -2.95597620e+12  3.90e-01 5.09e-02  2.82e+06    43s\n",
      " 115   2.11246510e+12 -3.46136885e+12  3.50e-01 5.03e-02  2.73e+06    43s\n",
      " 116   1.58998861e+12 -1.34185828e+12  3.32e-01 5.14e-02  3.32e+06    43s\n",
      " 117   1.24958592e+12 -1.77818015e+12  3.04e-01 4.64e-02  3.40e+06    43s\n",
      " 118   1.06907843e+12 -1.31107757e+12  2.90e-01 4.49e-02  3.74e+06    44s\n",
      " 119   8.90860877e+11 -1.21419331e+12  2.70e-01 4.38e-02  3.57e+06    44s\n",
      " 120   7.70738898e+11 -6.63950048e+11  2.25e-01 3.33e-02  3.84e+06    44s\n",
      " 121   5.41094170e+11 -5.31029749e+11  1.83e-01 2.25e-02  2.96e+06    45s\n",
      " 122   3.63715145e+11 -4.32317960e+11  1.26e-01 1.73e-02  2.13e+06    45s\n",
      " 123   2.04248435e+11 -2.45291803e+11  8.53e-02 8.83e-03  1.22e+06    45s\n",
      " 124   6.20059128e+10 -1.90709905e+11  2.78e-02 6.59e-03  4.57e+05    46s\n",
      " 125   3.11267520e+10 -1.86679937e+11  1.59e-02 6.48e-03  2.94e+05    46s\n",
      " 126   4.81053261e+09 -1.77588069e+11  5.68e-03 6.21e-03  1.84e+05    46s\n",
      " 127   2.92888106e+09 -1.55473862e+11  3.36e-03 5.45e-03  1.57e+05    47s\n",
      " 128   1.26456531e+09 -1.02802859e+11  2.48e-03 3.63e-03  1.00e+05    47s\n",
      " 129   6.32064152e+08 -2.74294119e+10  1.12e-03 3.13e-03  2.56e+04    48s\n",
      " 130   3.69092279e+08 -8.39546330e+09  5.63e-04 4.47e-03  8.51e+03    48s\n",
      " 131   2.67515448e+08 -3.44672678e+09  2.75e-04 1.01e-02  3.94e+03    48s\n",
      " 132   1.72626687e+08 -9.90547195e+08  1.88e-04 6.75e-03  1.36e+03    49s\n",
      " 133   1.47319471e+08 -2.54717400e+08  1.00e-04 7.79e-03  5.38e+02    49s\n",
      " 134   1.30759270e+08 -3.48595311e+07  4.20e-05 9.00e-03  2.29e+02    49s\n",
      " 135   1.24489242e+08  4.99775869e+07  1.94e-05 9.60e-03  1.07e+02    49s\n",
      " 136   1.21549555e+08  8.59255770e+07  1.14e-05 5.04e-03  5.34e+01    50s\n",
      " 137   1.20230670e+08  1.01929841e+08  6.56e-06 1.35e-02  2.91e+01    50s\n",
      " 138   1.19588213e+08  1.08325601e+08  7.75e-06 1.07e-02  1.80e+01    50s\n",
      " 139   1.19414043e+08  1.10625849e+08  7.75e-06 6.35e-03  1.43e+01    51s\n",
      " 140   1.19187884e+08  1.12217664e+08  1.03e-05 7.78e-03  1.10e+01    51s\n",
      " 141   1.19133633e+08  1.13469616e+08  7.75e-06 7.35e-03  9.24e+00    51s\n",
      " 142   1.19089709e+08  1.13844273e+08  7.75e-06 7.22e-03  8.54e+00    51s\n",
      " 143   1.19009205e+08  1.15496122e+08  1.03e-05 7.49e-03  6.08e+00    52s\n",
      " 144   1.18892212e+08  1.16454662e+08  1.03e-05 9.78e-03  4.23e+00    52s\n",
      " 145   1.18842838e+08  1.16945729e+08  1.03e-05 5.87e-03  3.32e+00    52s\n",
      " 146   1.18785311e+08  1.17465715e+08  1.03e-05 8.75e-03  2.33e+00    53s\n",
      " 147   1.18760286e+08  1.17762978e+08  7.75e-06 6.39e-03  1.80e+00    53s\n",
      " 148   1.18728371e+08  1.18028910e+08  1.03e-05 8.83e-03  1.29e+00    53s\n",
      " 149   1.18705131e+08  1.18328606e+08  7.75e-06 5.28e-03  7.40e-01    53s\n",
      " 150   1.18689803e+08  1.18465523e+08  7.75e-06 6.86e-03  4.57e-01    54s\n",
      " 151   1.18681226e+08  1.18504623e+08  1.03e-05 1.10e-02  3.50e-01    54s\n",
      " 152   1.18676563e+08  1.18550085e+08  7.75e-06 8.33e-03  2.56e-01    54s\n",
      " 153   1.18673447e+08  1.18559716e+08  7.75e-06 1.09e-02  2.23e-01    54s\n",
      " 154   1.18671300e+08  1.18570929e+08  5.16e-06 1.33e-02  1.92e-01    55s\n",
      " 155   1.18670874e+08  1.18588052e+08  1.03e-05 8.66e-03  1.62e-01    55s\n",
      " 156   1.18669209e+08  1.18614570e+08  7.75e-06 9.91e-03  1.09e-01    55s\n",
      " 157   1.18667822e+08  1.18621868e+08  7.75e-06 9.03e-03  8.88e-02    56s\n",
      " 158   1.18666819e+08  1.18630040e+08  1.03e-05 1.53e-02  7.01e-02    56s\n",
      " 159   1.18666372e+08  1.18635408e+08  7.75e-06 1.20e-02  5.90e-02    56s\n",
      " 160   1.18666053e+08  1.18638275e+08  7.75e-06 8.98e-03  5.28e-02    56s\n",
      " 161   1.18665421e+08  1.18642897e+08  1.03e-05 8.93e-03  4.16e-02    57s\n",
      " 162   1.18665127e+08  1.18652005e+08  1.03e-05 7.55e-03  2.53e-02    57s\n",
      " 163   1.18664947e+08  1.18657631e+08  1.03e-05 1.45e-02  1.48e-02    57s\n",
      " 164   1.18664905e+08  1.18658765e+08  1.03e-05 1.49e-02  1.26e-02    57s\n",
      " 165   1.18664858e+08  1.18661491e+08  1.03e-05 7.86e-03  7.70e-03    58s\n",
      " 166   1.18664843e+08  1.18661661e+08  7.75e-06 1.28e-02  7.31e-03    58s\n",
      " 167   1.18664696e+08  1.18662108e+08  5.16e-06 1.48e-02  5.81e-03    58s\n",
      " 168   1.18664540e+08  1.18662180e+08  5.16e-06 1.61e-02  5.29e-03    58s\n",
      " 169   1.18664373e+08  1.18663064e+08  7.72e-06 6.49e-03  2.36e-03    59s\n",
      " 170   1.18664271e+08  1.18663714e+08  7.72e-06 8.07e-03  1.06e-03    59s\n",
      " 171   1.18664228e+08  1.18663876e+08  1.03e-05 8.10e-03  6.81e-04    59s\n",
      " 172   1.18664205e+08  1.18664182e+08  1.03e-05 5.69e-03  1.00e-04    60s\n",
      " 173   1.18664173e+08  1.18664172e+08  1.03e-05 8.90e-03  1.28e-05    60s\n",
      " 174   1.18664171e+08  1.18664172e+08  1.45e-05 1.29e-02  7.26e-06    60s\n",
      "\n",
      "Barrier solved model in 174 iterations and 60.25 seconds (46.84 work units)\n",
      "Optimal objective 1.18664171e+08\n",
      "\n",
      "Crossover log...\n",
      "\n",
      "   28051 DPushes remaining with DInf 0.0000000e+00                60s\n",
      "       0 DPushes remaining with DInf 4.4329535e+01                62s\n",
      "Warning: Markowitz tolerance tightened to 0.5\n",
      "\n",
      "   26066 PPushes remaining with PInf 5.8940248e-03                62s\n",
      "Warning: 1 variables dropped from basis\n",
      "\n",
      "Restart crossover...\n",
      "\n",
      "\n",
      "   33325 DPushes remaining with DInf 0.0000000e+00                63s\n",
      "      49 DPushes remaining with DInf 5.7940309e-01                65s\n",
      "       0 DPushes remaining with DInf 2.4646802e+00                65s\n",
      "\n",
      "   26215 PPushes remaining with PInf 6.5882625e+03                65s\n",
      "      74 PPushes remaining with PInf 1.4093839e+03                70s\n",
      "       0 PPushes remaining with PInf 1.8691050e+03                70s\n",
      "\n",
      "  Push phase complete: Pinf 1.8691050e+03, Dinf 2.0306312e+06     70s\n",
      "\n",
      "Iteration    Objective       Primal Inf.    Dual Inf.      Time\n",
      "   45590    1.1866381e+08   0.000000e+00   2.102101e+06     70s\n",
      "   46966    1.1866129e+08   0.000000e+00   5.803647e+02     75s\n",
      "   48668    1.1866075e+08   2.237843e+04   0.000000e+00     80s\n",
      "Extra simplex iterations after uncrush: 72\n",
      "   49104    1.1866085e+08   0.000000e+00   0.000000e+00     84s\n",
      "\n",
      "Solved with barrier\n",
      "Solved in 49104 iterations and 83.74 seconds (73.02 work units)\n",
      "Optimal objective  1.186608456e+08\n",
      "\n",
      "User-callback calls 118596, time in user-callback 0.09 sec\n",
      "2023-11-Jul 22:26:29.493 Solved model. Solver status = OPTIMAL.\n",
      "2023-11-Jul 22:26:29.874 Saved results for vdemandnn to database.\n",
      "2023-11-Jul 22:26:29.894 Saved results for vnewcapacity to database.\n",
      "2023-11-Jul 22:26:29.927 Saved results for vtotalcapacityannual to database.\n",
      "2023-11-Jul 22:26:29.965 Saved results for vproductionbytechnologyannual to database.\n",
      "2023-11-Jul 22:26:30.427 Saved results for vproductionnn to database.\n",
      "2023-11-Jul 22:26:30.463 Saved results for vusebytechnologyannual to database.\n",
      "2023-11-Jul 22:26:30.975 Saved results for vusenn to database.\n",
      "2023-11-Jul 22:26:30.985 Saved results for vtotaldiscountedcost to database.\n",
      "2023-11-Jul 22:26:31.111 Saved results for vannualtechnologyemission to database.\n",
      "2023-11-Jul 22:26:31.112 Finished saving results to database.\n",
      "2023-11-Jul 22:26:31.115 Dropped temporary tables.\n",
      "2023-11-Jul 22:26:31.115 Finished modeling scenario.\n",
      "101.711540 seconds (101.75 M allocations: 4.667 GiB, 3.81% gc time, 0.08% compilation time)\n"
     ]
    },
    {
     "data": {
      "text/plain": [
       "OPTIMAL::TerminationStatusCode = 1"
      ]
     },
     "execution_count": 101,
     "metadata": {},
     "output_type": "execute_result"
    }
   ],
   "source": [
    "model = Model(Gurobi.Optimizer); #set_silent(model)\n",
    "@time NemoMod.calculatescenario(\n",
    "    fp_sqlite_orig; \n",
    "    #calcyears = collect(1000:1035),\n",
    "    jumpmodel = model,\n",
    "    numprocs = 1,\n",
    "    varstosave = \"vdemandnn, vnewcapacity, vtotalcapacityannual, vproductionbytechnologyannual, vproductionnn, vusebytechnologyannual, vusenn, vtotaldiscountedcost, vannualtechnologyemission\"\n",
    ")\n",
    "\n",
    "\n"
   ]
  },
  {
   "cell_type": "code",
   "execution_count": 52,
   "metadata": {
    "tags": []
   },
   "outputs": [
    {
     "data": {
      "text/plain": [
       "130.12591369100446"
      ]
     },
     "execution_count": 52,
     "metadata": {},
     "output_type": "execute_result"
    }
   ],
   "source": [
    "#println.(sort([x.name for x in SQLite.tables(db)]))\n",
    "sum(filter(x -> (x[:y] in [\"1000\", \"1001\", \"1002\"]), df_tmp)[:, :val])"
   ]
  },
  {
   "cell_type": "code",
   "execution_count": 102,
   "metadata": {
    "tags": []
   },
   "outputs": [],
   "source": [
    "df_tmp2 = DBInterface.execute(db, \"select * from vproductionbytechnologyannual\") |> DataFrame;"
   ]
  },
  {
   "cell_type": "code",
   "execution_count": 91,
   "metadata": {},
   "outputs": [
    {
     "data": {
      "text/plain": [
       "1.0000010712401937e10"
      ]
     },
     "execution_count": 91,
     "metadata": {},
     "output_type": "execute_result"
    }
   ],
   "source": [
    "sum(filter(x -> ((x[:y] in [\"1002\"]) & true), df_tmp2)[:, :val])"
   ]
  },
  {
   "cell_type": "code",
   "execution_count": 104,
   "metadata": {},
   "outputs": [
    {
     "data": {
      "text/html": [
       "<div><div style = \"float: left;\"><span>10×6 DataFrame</span></div><div style = \"clear: both;\"></div></div><div class = \"data-frame\" style = \"overflow-x: scroll;\"><table class = \"data-frame\" style = \"margin-bottom: 6px;\"><thead><tr class = \"header\"><th class = \"rowNumber\" style = \"font-weight: bold; text-align: right;\">Row</th><th style = \"text-align: left;\">r</th><th style = \"text-align: left;\">t</th><th style = \"text-align: left;\">f</th><th style = \"text-align: left;\">y</th><th style = \"text-align: left;\">val</th><th style = \"text-align: left;\">solvedtm</th></tr><tr class = \"subheader headerLastRow\"><th class = \"rowNumber\" style = \"font-weight: bold; text-align: right;\"></th><th title = \"String\" style = \"text-align: left;\">String</th><th title = \"String\" style = \"text-align: left;\">String</th><th title = \"String\" style = \"text-align: left;\">String</th><th title = \"String\" style = \"text-align: left;\">String</th><th title = \"Float64\" style = \"text-align: left;\">Float64</th><th title = \"String\" style = \"text-align: left;\">String</th></tr></thead><tbody><tr><td class = \"rowNumber\" style = \"font-weight: bold; text-align: right;\">1</td><td style = \"text-align: left;\">colombia</td><td style = \"text-align: left;\">supply_fuel_wind</td><td style = \"text-align: left;\">fuel_wind</td><td style = \"text-align: left;\">1001</td><td style = \"text-align: right;\">0.590284</td><td style = \"text-align: left;\">2023-07-11 21:51:28.464</td></tr><tr><td class = \"rowNumber\" style = \"font-weight: bold; text-align: right;\">2</td><td style = \"text-align: left;\">colombia</td><td style = \"text-align: left;\">supply_fuel_diesel</td><td style = \"text-align: left;\">fuel_diesel</td><td style = \"text-align: left;\">1001</td><td style = \"text-align: right;\">141.678</td><td style = \"text-align: left;\">2023-07-11 21:51:28.464</td></tr><tr><td class = \"rowNumber\" style = \"font-weight: bold; text-align: right;\">3</td><td style = \"text-align: left;\">colombia</td><td style = \"text-align: left;\">supply_fuel_kerosene</td><td style = \"text-align: left;\">fuel_kerosene</td><td style = \"text-align: left;\">1001</td><td style = \"text-align: right;\">25.922</td><td style = \"text-align: left;\">2023-07-11 21:51:28.464</td></tr><tr><td class = \"rowNumber\" style = \"font-weight: bold; text-align: right;\">4</td><td style = \"text-align: left;\">colombia</td><td style = \"text-align: left;\">supply_fuel_solar</td><td style = \"text-align: left;\">fuel_solar</td><td style = \"text-align: left;\">1001</td><td style = \"text-align: right;\">0.104328</td><td style = \"text-align: left;\">2023-07-11 21:51:28.464</td></tr><tr><td class = \"rowNumber\" style = \"font-weight: bold; text-align: right;\">5</td><td style = \"text-align: left;\">colombia</td><td style = \"text-align: left;\">supply_fuel_coal_deposits</td><td style = \"text-align: left;\">fuel_coal_deposits</td><td style = \"text-align: left;\">1001</td><td style = \"text-align: right;\">2540.38</td><td style = \"text-align: left;\">2023-07-11 21:51:28.464</td></tr><tr><td class = \"rowNumber\" style = \"font-weight: bold; text-align: right;\">6</td><td style = \"text-align: left;\">colombia</td><td style = \"text-align: left;\">supply_fuel_electricity</td><td style = \"text-align: left;\">fuel_electricity</td><td style = \"text-align: left;\">1001</td><td style = \"text-align: right;\">5.35107</td><td style = \"text-align: left;\">2023-07-11 21:51:28.464</td></tr><tr><td class = \"rowNumber\" style = \"font-weight: bold; text-align: right;\">7</td><td style = \"text-align: left;\">colombia</td><td style = \"text-align: left;\">supply_fuel_oil</td><td style = \"text-align: left;\">fuel_oil</td><td style = \"text-align: left;\">1001</td><td style = \"text-align: right;\">120.91</td><td style = \"text-align: left;\">2023-07-11 21:51:28.464</td></tr><tr><td class = \"rowNumber\" style = \"font-weight: bold; text-align: right;\">8</td><td style = \"text-align: left;\">colombia</td><td style = \"text-align: left;\">supply_fuel_natural_gas</td><td style = \"text-align: left;\">fuel_natural_gas</td><td style = \"text-align: left;\">1001</td><td style = \"text-align: right;\">0.434865</td><td style = \"text-align: left;\">2023-07-11 21:51:28.464</td></tr><tr><td class = \"rowNumber\" style = \"font-weight: bold; text-align: right;\">9</td><td style = \"text-align: left;\">colombia</td><td style = \"text-align: left;\">supply_fuel_hydropower</td><td style = \"text-align: left;\">fuel_hydropower</td><td style = \"text-align: left;\">1001</td><td style = \"text-align: right;\">565.065</td><td style = \"text-align: left;\">2023-07-11 21:51:28.464</td></tr><tr><td class = \"rowNumber\" style = \"font-weight: bold; text-align: right;\">10</td><td style = \"text-align: left;\">colombia</td><td style = \"text-align: left;\">supply_fuel_gasoline</td><td style = \"text-align: left;\">fuel_gasoline</td><td style = \"text-align: left;\">1001</td><td style = \"text-align: right;\">82.8106</td><td style = \"text-align: left;\">2023-07-11 21:51:28.464</td></tr></tbody></table></div>"
      ],
      "text/latex": [
       "\\begin{tabular}{r|cccccc}\n",
       "\t& r & t & f & y & val & solvedtm\\\\\n",
       "\t\\hline\n",
       "\t& String & String & String & String & Float64 & String\\\\\n",
       "\t\\hline\n",
       "\t1 & colombia & supply\\_fuel\\_wind & fuel\\_wind & 1001 & 0.590284 & 2023-07-11 21:51:28.464 \\\\\n",
       "\t2 & colombia & supply\\_fuel\\_diesel & fuel\\_diesel & 1001 & 141.678 & 2023-07-11 21:51:28.464 \\\\\n",
       "\t3 & colombia & supply\\_fuel\\_kerosene & fuel\\_kerosene & 1001 & 25.922 & 2023-07-11 21:51:28.464 \\\\\n",
       "\t4 & colombia & supply\\_fuel\\_solar & fuel\\_solar & 1001 & 0.104328 & 2023-07-11 21:51:28.464 \\\\\n",
       "\t5 & colombia & supply\\_fuel\\_coal\\_deposits & fuel\\_coal\\_deposits & 1001 & 2540.38 & 2023-07-11 21:51:28.464 \\\\\n",
       "\t6 & colombia & supply\\_fuel\\_electricity & fuel\\_electricity & 1001 & 5.35107 & 2023-07-11 21:51:28.464 \\\\\n",
       "\t7 & colombia & supply\\_fuel\\_oil & fuel\\_oil & 1001 & 120.91 & 2023-07-11 21:51:28.464 \\\\\n",
       "\t8 & colombia & supply\\_fuel\\_natural\\_gas & fuel\\_natural\\_gas & 1001 & 0.434865 & 2023-07-11 21:51:28.464 \\\\\n",
       "\t9 & colombia & supply\\_fuel\\_hydropower & fuel\\_hydropower & 1001 & 565.065 & 2023-07-11 21:51:28.464 \\\\\n",
       "\t10 & colombia & supply\\_fuel\\_gasoline & fuel\\_gasoline & 1001 & 82.8106 & 2023-07-11 21:51:28.464 \\\\\n",
       "\\end{tabular}\n"
      ],
      "text/plain": [
       "\u001b[1m10×6 DataFrame\u001b[0m\n",
       "\u001b[1m Row \u001b[0m│\u001b[1m r        \u001b[0m\u001b[1m t                         \u001b[0m\u001b[1m f                  \u001b[0m\u001b[1m y      \u001b[0m\u001b[1m val   \u001b[0m ⋯\n",
       "     │\u001b[90m String   \u001b[0m\u001b[90m String                    \u001b[0m\u001b[90m String             \u001b[0m\u001b[90m String \u001b[0m\u001b[90m Float6\u001b[0m ⋯\n",
       "─────┼──────────────────────────────────────────────────────────────────────────\n",
       "   1 │ colombia  supply_fuel_wind           fuel_wind           1001       0.5 ⋯\n",
       "   2 │ colombia  supply_fuel_diesel         fuel_diesel         1001     141.6\n",
       "   3 │ colombia  supply_fuel_kerosene       fuel_kerosene       1001      25.9\n",
       "   4 │ colombia  supply_fuel_solar          fuel_solar          1001       0.1\n",
       "   5 │ colombia  supply_fuel_coal_deposits  fuel_coal_deposits  1001    2540.3 ⋯\n",
       "   6 │ colombia  supply_fuel_electricity    fuel_electricity    1001       5.3\n",
       "   7 │ colombia  supply_fuel_oil            fuel_oil            1001     120.9\n",
       "   8 │ colombia  supply_fuel_natural_gas    fuel_natural_gas    1001       0.4\n",
       "   9 │ colombia  supply_fuel_hydropower     fuel_hydropower     1001     565.0 ⋯\n",
       "  10 │ colombia  supply_fuel_gasoline       fuel_gasoline       1001      82.8\n",
       "\u001b[36m                                                               2 columns omitted\u001b[0m"
      ]
     },
     "execution_count": 104,
     "metadata": {},
     "output_type": "execute_result"
    }
   ],
   "source": [
    "filter(x -> ((x[:y] in [\"1001\"]) & occursin(\"supply_fuel\", x[:t])), df_tmp2)"
   ]
  },
  {
   "cell_type": "code",
   "execution_count": null,
   "metadata": {},
   "outputs": [],
   "source": []
  },
  {
   "cell_type": "code",
   "execution_count": 37,
   "metadata": {
    "tags": []
   },
   "outputs": [
    {
     "name": "stdout",
     "output_type": "stream",
     "text": [
      "CapacityFactor\n",
      "CapitalCost\n",
      "CapitalCostStorage\n",
      "DefaultParams\n",
      "EmissionActivityRatio\n",
      "FixedCost\n",
      "InputActivityRatio\n",
      "LTsGroup\n",
      "MinShareProduction\n",
      "MinStorageCharge\n",
      "OperationalLife\n",
      "OperationalLifeStorage\n",
      "OutputActivityRatio\n",
      "REMinProductionTarget\n",
      "RETagTechnology\n",
      "ReserveMargin\n",
      "ReserveMarginTagFuel\n",
      "ReserveMarginTagTechnology\n",
      "ResidualCapacity\n",
      "ResidualStorageCapacity\n",
      "SpecifiedAnnualDemand\n",
      "SpecifiedDemandProfile\n",
      "StorageLevelStart\n",
      "TechnologyFromStorage\n",
      "TechnologyToStorage\n",
      "TotalAnnualMaxCapacityInvestment\n",
      "TotalAnnualMaxCapacityInvestmentStorage\n",
      "TotalTechnologyAnnualActivityLowerLimit\n",
      "TotalTechnologyAnnualActivityUpperLimit\n",
      "VariableCost\n",
      "Version\n",
      "YearSplit\n",
      "sqlite_sequence\n"
     ]
    }
   ],
   "source": [
    "dict_tables = Dict()\n",
    "db = SQLite.DB(fp_sqlite)\n",
    "\n",
    "tabs = [x.name for x in SQLite.tables(db)]\n",
    "table_name = 0\n",
    "tabs_populated = Vector{String}()\n",
    "for k in 1:length(tabs)\n",
    "    table_name = tabs[k]\n",
    "    df_tmp = DBInterface.execute(db, \"select * from $(table_name)\") |> DataFrame\n",
    "    dict_tables[table_name] = df_tmp\n",
    "    \n",
    "    (nrow(df_tmp) > 0) ? push!(tabs_populated, table_name) : nothing\n",
    "end\n",
    "\n",
    "\n",
    "tabs = sort([x for x in tabs_populated if (x != uppercase(x)) & !startswith(x, \"v\")])\n",
    "println.(tabs);"
   ]
  },
  {
   "cell_type": "code",
   "execution_count": 100,
   "metadata": {},
   "outputs": [
    {
     "data": {
      "text/plain": [
       "360-element Vector{Float64}:\n",
       " 343.40338999388996\n",
       " 166.260743240093\n",
       " 317.57131828315437\n",
       " 287.0634718536966\n",
       " 348.50913428029935\n",
       " 141.7188064967662\n",
       " 143.84129468389045\n",
       " 145.9714552970422\n",
       " 148.11439856594149\n",
       " 150.26794575662922\n",
       " 152.4300156623278\n",
       " 157.38204483949866\n",
       " 162.3931849352637\n",
       "   ⋮\n",
       " 681.0166325448566\n",
       " 694.930493915321\n",
       " 709.9013470984116\n",
       " 725.2084700921108\n",
       " 740.8552346253726\n",
       " 756.8455968452607\n",
       " 773.1840637666146\n",
       " 790.8844535054608\n",
       " 808.9589037005766\n",
       " 827.4138441791765\n",
       " 846.2561859329517\n",
       " 865.4933320302162"
      ]
     },
     "execution_count": 100,
     "metadata": {},
     "output_type": "execute_result"
    }
   ],
   "source": [
    "#dict_tables[\"SpecifiedAnnualDemand\"][:, :val]\n",
    "dict_tables[\"SpecifiedAnnualDemand\"]"
   ]
  },
  {
   "cell_type": "code",
   "execution_count": 85,
   "metadata": {},
   "outputs": [
    {
     "data": {
      "text/plain": [
       "0.9933727066246939"
      ]
     },
     "execution_count": 85,
     "metadata": {},
     "output_type": "execute_result"
    }
   ],
   "source": [
    "df_tmp = DBInterface.execute(db, \"select * from MinShareProduction\") |> DataFrame;\n",
    "sum(filter(x -> ((x[:y] == \"1006\") & (x[:f] == \"fuel_electricity\")), df_tmp)[:, :val])"
   ]
  },
  {
   "cell_type": "code",
   "execution_count": 86,
   "metadata": {},
   "outputs": [
    {
     "data": {
      "text/html": [
       "<div class=\"data-frame\"><p>17 rows × 6 columns</p><table class=\"data-frame\"><thead><tr><th></th><th>id</th><th>r</th><th>t</th><th>f</th><th>y</th><th>val</th></tr><tr><th></th><th title=\"Int64\">Int64</th><th title=\"String\">String</th><th title=\"String\">String</th><th title=\"String\">String</th><th title=\"String\">String</th><th title=\"Float64\">Float64</th></tr></thead><tbody><tr><th>1</th><td>7</td><td>mexico</td><td>pp_coal</td><td>fuel_electricity</td><td>1006</td><td>0.0401529</td></tr><tr><th>2</th><td>43</td><td>mexico</td><td>pp_gas</td><td>fuel_electricity</td><td>1006</td><td>0.588903</td></tr><tr><th>3</th><td>79</td><td>mexico</td><td>pp_geothermal</td><td>fuel_electricity</td><td>1006</td><td>0.0156325</td></tr><tr><th>4</th><td>115</td><td>mexico</td><td>pp_hydropower</td><td>fuel_electricity</td><td>1006</td><td>0.112589</td></tr><tr><th>5</th><td>151</td><td>mexico</td><td>pp_nuclear</td><td>fuel_electricity</td><td>1006</td><td>0.0367622</td></tr><tr><th>6</th><td>187</td><td>mexico</td><td>pp_oil</td><td>fuel_electricity</td><td>1006</td><td>0.150896</td></tr><tr><th>7</th><td>223</td><td>mexico</td><td>pp_solar</td><td>fuel_electricity</td><td>1006</td><td>0.0403472</td></tr><tr><th>8</th><td>259</td><td>mexico</td><td>supply_fuel_coal</td><td>fuel_coal</td><td>1006</td><td>0.389911</td></tr><tr><th>9</th><td>295</td><td>mexico</td><td>supply_fuel_crude</td><td>fuel_crude</td><td>1006</td><td>0.0</td></tr><tr><th>10</th><td>331</td><td>mexico</td><td>supply_fuel_diesel</td><td>fuel_diesel</td><td>1006</td><td>0.273843</td></tr><tr><th>11</th><td>367</td><td>mexico</td><td>supply_fuel_electricity</td><td>fuel_electricity</td><td>1006</td><td>0.00808977</td></tr><tr><th>12</th><td>403</td><td>mexico</td><td>supply_fuel_gasoline</td><td>fuel_gasoline</td><td>1006</td><td>0.284711</td></tr><tr><th>13</th><td>439</td><td>mexico</td><td>supply_fuel_hydrocarbon_gas_liquids</td><td>fuel_hydrocarbon_gas_liquids</td><td>1006</td><td>0.0</td></tr><tr><th>14</th><td>475</td><td>mexico</td><td>supply_fuel_hydrogen</td><td>fuel_hydrogen</td><td>1006</td><td>0.00283688</td></tr><tr><th>15</th><td>511</td><td>mexico</td><td>supply_fuel_kerosene</td><td>fuel_kerosene</td><td>1006</td><td>0.253668</td></tr><tr><th>16</th><td>547</td><td>mexico</td><td>supply_fuel_natural_gas</td><td>fuel_natural_gas</td><td>1006</td><td>0.442348</td></tr><tr><th>17</th><td>583</td><td>mexico</td><td>supply_fuel_oil</td><td>fuel_oil</td><td>1006</td><td>0.00245795</td></tr></tbody></table></div>"
      ],
      "text/latex": [
       "\\begin{tabular}{r|cccccc}\n",
       "\t& id & r & t & f & y & val\\\\\n",
       "\t\\hline\n",
       "\t& Int64 & String & String & String & String & Float64\\\\\n",
       "\t\\hline\n",
       "\t1 & 7 & mexico & pp\\_coal & fuel\\_electricity & 1006 & 0.0401529 \\\\\n",
       "\t2 & 43 & mexico & pp\\_gas & fuel\\_electricity & 1006 & 0.588903 \\\\\n",
       "\t3 & 79 & mexico & pp\\_geothermal & fuel\\_electricity & 1006 & 0.0156325 \\\\\n",
       "\t4 & 115 & mexico & pp\\_hydropower & fuel\\_electricity & 1006 & 0.112589 \\\\\n",
       "\t5 & 151 & mexico & pp\\_nuclear & fuel\\_electricity & 1006 & 0.0367622 \\\\\n",
       "\t6 & 187 & mexico & pp\\_oil & fuel\\_electricity & 1006 & 0.150896 \\\\\n",
       "\t7 & 223 & mexico & pp\\_solar & fuel\\_electricity & 1006 & 0.0403472 \\\\\n",
       "\t8 & 259 & mexico & supply\\_fuel\\_coal & fuel\\_coal & 1006 & 0.389911 \\\\\n",
       "\t9 & 295 & mexico & supply\\_fuel\\_crude & fuel\\_crude & 1006 & 0.0 \\\\\n",
       "\t10 & 331 & mexico & supply\\_fuel\\_diesel & fuel\\_diesel & 1006 & 0.273843 \\\\\n",
       "\t11 & 367 & mexico & supply\\_fuel\\_electricity & fuel\\_electricity & 1006 & 0.00808977 \\\\\n",
       "\t12 & 403 & mexico & supply\\_fuel\\_gasoline & fuel\\_gasoline & 1006 & 0.284711 \\\\\n",
       "\t13 & 439 & mexico & supply\\_fuel\\_hydrocarbon\\_gas\\_liquids & fuel\\_hydrocarbon\\_gas\\_liquids & 1006 & 0.0 \\\\\n",
       "\t14 & 475 & mexico & supply\\_fuel\\_hydrogen & fuel\\_hydrogen & 1006 & 0.00283688 \\\\\n",
       "\t15 & 511 & mexico & supply\\_fuel\\_kerosene & fuel\\_kerosene & 1006 & 0.253668 \\\\\n",
       "\t16 & 547 & mexico & supply\\_fuel\\_natural\\_gas & fuel\\_natural\\_gas & 1006 & 0.442348 \\\\\n",
       "\t17 & 583 & mexico & supply\\_fuel\\_oil & fuel\\_oil & 1006 & 0.00245795 \\\\\n",
       "\\end{tabular}\n"
      ],
      "text/plain": [
       "\u001b[1m17×6 DataFrame\u001b[0m\n",
       "\u001b[1m Row \u001b[0m│\u001b[1m id    \u001b[0m\u001b[1m r      \u001b[0m\u001b[1m t                                 \u001b[0m\u001b[1m f                            \u001b[0m\u001b[1m y      \u001b[0m\u001b[1m val        \u001b[0m\n",
       "\u001b[1m     \u001b[0m│\u001b[90m Int64 \u001b[0m\u001b[90m String \u001b[0m\u001b[90m String                            \u001b[0m\u001b[90m String                       \u001b[0m\u001b[90m String \u001b[0m\u001b[90m Float64    \u001b[0m\n",
       "─────┼────────────────────────────────────────────────────────────────────────────────────────────────────\n",
       "   1 │     7  mexico  pp_coal                            fuel_electricity              1006    0.0401529\n",
       "   2 │    43  mexico  pp_gas                             fuel_electricity              1006    0.588903\n",
       "   3 │    79  mexico  pp_geothermal                      fuel_electricity              1006    0.0156325\n",
       "   4 │   115  mexico  pp_hydropower                      fuel_electricity              1006    0.112589\n",
       "   5 │   151  mexico  pp_nuclear                         fuel_electricity              1006    0.0367622\n",
       "   6 │   187  mexico  pp_oil                             fuel_electricity              1006    0.150896\n",
       "   7 │   223  mexico  pp_solar                           fuel_electricity              1006    0.0403472\n",
       "   8 │   259  mexico  supply_fuel_coal                   fuel_coal                     1006    0.389911\n",
       "   9 │   295  mexico  supply_fuel_crude                  fuel_crude                    1006    0.0\n",
       "  10 │   331  mexico  supply_fuel_diesel                 fuel_diesel                   1006    0.273843\n",
       "  11 │   367  mexico  supply_fuel_electricity            fuel_electricity              1006    0.00808977\n",
       "  12 │   403  mexico  supply_fuel_gasoline               fuel_gasoline                 1006    0.284711\n",
       "  13 │   439  mexico  supply_fuel_hydrocarbon_gas_liqu…  fuel_hydrocarbon_gas_liquids  1006    0.0\n",
       "  14 │   475  mexico  supply_fuel_hydrogen               fuel_hydrogen                 1006    0.00283688\n",
       "  15 │   511  mexico  supply_fuel_kerosene               fuel_kerosene                 1006    0.253668\n",
       "  16 │   547  mexico  supply_fuel_natural_gas            fuel_natural_gas              1006    0.442348\n",
       "  17 │   583  mexico  supply_fuel_oil                    fuel_oil                      1006    0.00245795"
      ]
     },
     "execution_count": 86,
     "metadata": {},
     "output_type": "execute_result"
    }
   ],
   "source": [
    "tab_name = \"MinShareProduction\"\n",
    "#df_tmp = DBInterface.execute(db, \"select * from MinShareProduction\") |> DataFrame;\n",
    "# & (x[:f] in [\"fuel_electricity\"])\n",
    "df = filter(x -> ((x[:y] == \"1006\")), get(dict_tables, tab_name, nothing))\n",
    "#combine(groupby(df[:, [:t, :f, :val]], [:f]), :val => sum)"
   ]
  },
  {
   "cell_type": "code",
   "execution_count": 105,
   "metadata": {},
   "outputs": [
    {
     "name": "stdout",
     "output_type": "stream",
     "text": [
      "CapacityFactor\n",
      "CapitalCost\n",
      "CapitalCostStorage\n",
      "DefaultParams\n",
      "EmissionActivityRatio\n",
      "FixedCost\n",
      "InputActivityRatio\n",
      "LTsGroup\n",
      "MinStorageCharge\n",
      "OperationalLife\n",
      "OperationalLifeStorage\n",
      "OutputActivityRatio\n",
      "RETagTechnology\n",
      "ReserveMargin\n",
      "ReserveMarginTagFuel\n",
      "ReserveMarginTagTechnology\n",
      "ResidualCapacity\n",
      "ResidualStorageCapacity\n",
      "SpecifiedAnnualDemand\n",
      "SpecifiedDemandProfile\n",
      "StorageLevelStart\n",
      "TechnologyFromStorage\n",
      "TechnologyToStorage\n",
      "TotalAnnualMaxCapacity\n",
      "TotalAnnualMaxCapacityInvestment\n",
      "VariableCost\n",
      "Version\n",
      "YearSplit\n",
      "sqlite_sequence\n"
     ]
    }
   ],
   "source": [
    "dict_tables\n"
   ]
  },
  {
   "cell_type": "code",
   "execution_count": 24,
   "metadata": {},
   "outputs": [
    {
     "data": {
      "text/html": [
       "<div class=\"data-frame\"><p>7 rows × 5 columns</p><table class=\"data-frame\"><thead><tr><th></th><th>id</th><th>r</th><th>t</th><th>y</th><th>val</th></tr><tr><th></th><th title=\"Int64\">Int64</th><th title=\"String\">String</th><th title=\"String\">String</th><th title=\"String\">String</th><th title=\"Float64\">Float64</th></tr></thead><tbody><tr><th>1</th><td>6</td><td>brazil</td><td>pp_biogas</td><td>1005</td><td>0.0</td></tr><tr><th>2</th><td>7</td><td>brazil</td><td>pp_biogas</td><td>1006</td><td>0.0</td></tr><tr><th>3</th><td>36</td><td>brazil</td><td>pp_biogas</td><td>1035</td><td>0.0</td></tr><tr><th>4</th><td>62</td><td>brazil</td><td>pp_hydropower</td><td>1035</td><td>1857.23</td></tr><tr><th>5</th><td>68</td><td>brazil</td><td>pp_waste_incineration</td><td>1005</td><td>0.0</td></tr><tr><th>6</th><td>69</td><td>brazil</td><td>pp_waste_incineration</td><td>1006</td><td>0.0</td></tr><tr><th>7</th><td>98</td><td>brazil</td><td>pp_waste_incineration</td><td>1035</td><td>0.0</td></tr></tbody></table></div>"
      ],
      "text/latex": [
       "\\begin{tabular}{r|ccccc}\n",
       "\t& id & r & t & y & val\\\\\n",
       "\t\\hline\n",
       "\t& Int64 & String & String & String & Float64\\\\\n",
       "\t\\hline\n",
       "\t1 & 6 & brazil & pp\\_biogas & 1005 & 0.0 \\\\\n",
       "\t2 & 7 & brazil & pp\\_biogas & 1006 & 0.0 \\\\\n",
       "\t3 & 36 & brazil & pp\\_biogas & 1035 & 0.0 \\\\\n",
       "\t4 & 62 & brazil & pp\\_hydropower & 1035 & 1857.23 \\\\\n",
       "\t5 & 68 & brazil & pp\\_waste\\_incineration & 1005 & 0.0 \\\\\n",
       "\t6 & 69 & brazil & pp\\_waste\\_incineration & 1006 & 0.0 \\\\\n",
       "\t7 & 98 & brazil & pp\\_waste\\_incineration & 1035 & 0.0 \\\\\n",
       "\\end{tabular}\n"
      ],
      "text/plain": [
       "\u001b[1m7×5 DataFrame\u001b[0m\n",
       "\u001b[1m Row \u001b[0m│\u001b[1m id    \u001b[0m\u001b[1m r      \u001b[0m\u001b[1m t                     \u001b[0m\u001b[1m y      \u001b[0m\u001b[1m val     \u001b[0m\n",
       "\u001b[1m     \u001b[0m│\u001b[90m Int64 \u001b[0m\u001b[90m String \u001b[0m\u001b[90m String                \u001b[0m\u001b[90m String \u001b[0m\u001b[90m Float64 \u001b[0m\n",
       "─────┼───────────────────────────────────────────────────────\n",
       "   1 │     6  brazil  pp_biogas              1005       0.0\n",
       "   2 │     7  brazil  pp_biogas              1006       0.0\n",
       "   3 │    36  brazil  pp_biogas              1035       0.0\n",
       "   4 │    62  brazil  pp_hydropower          1035    1857.23\n",
       "   5 │    68  brazil  pp_waste_incineration  1005       0.0\n",
       "   6 │    69  brazil  pp_waste_incineration  1006       0.0\n",
       "   7 │    98  brazil  pp_waste_incineration  1035       0.0"
      ]
     },
     "execution_count": 24,
     "metadata": {},
     "output_type": "execute_result"
    }
   ],
   "source": [
    "df_tmp = DBInterface.execute(db, \"select * from TotalTechnologyAnnualActivityLowerLimit\") |> DataFrame;\n",
    "filter(x -> (x[:y] in [\"1005\", \"1006\", \"1035\"]), df_tmp)"
   ]
  },
  {
   "cell_type": "code",
   "execution_count": 146,
   "metadata": {},
   "outputs": [],
   "source": [
    "tables_check = []\n",
    "for k in 1:length(tabs)\n",
    "    table_name = tabs[k]\n",
    "    \n",
    "    (\n",
    "        (\"y\" in names(dict_tables[table_name])) &\n",
    "        (nrow(dict_tables[table_name]) > 0)\n",
    "    ) ? push!(tables_check, table_name) : nothing\n",
    "end"
   ]
  },
  {
   "cell_type": "code",
   "execution_count": 147,
   "metadata": {},
   "outputs": [
    {
     "data": {
      "text/plain": [
       "19-element Vector{Any}:\n",
       " \"YearSplit\"\n",
       " \"VariableCost\"\n",
       " \"TotalAnnualMaxCapacityInvestmentStorage\"\n",
       " \"SpecifiedDemandProfile\"\n",
       " \"SpecifiedAnnualDemand\"\n",
       " \"ResidualStorageCapacity\"\n",
       " \"ResidualCapacity\"\n",
       " \"ReserveMarginTagTechnology\"\n",
       " \"ReserveMarginTagFuel\"\n",
       " \"ReserveMargin\"\n",
       " \"RETagTechnology\"\n",
       " \"OutputActivityRatio\"\n",
       " \"MinStorageCharge\"\n",
       " \"InputActivityRatio\"\n",
       " \"FixedCost\"\n",
       " \"EmissionActivityRatio\"\n",
       " \"CapitalCostStorage\"\n",
       " \"CapitalCost\"\n",
       " \"CapacityFactor\""
      ]
     },
     "execution_count": 147,
     "metadata": {},
     "output_type": "execute_result"
    }
   ],
   "source": [
    "tables_check"
   ]
  },
  {
   "cell_type": "code",
   "execution_count": 186,
   "metadata": {},
   "outputs": [
    {
     "data": {
      "text/html": [
       "<div class=\"data-frame\"><p>36 rows × 5 columns</p><table class=\"data-frame\"><thead><tr><th></th><th>id</th><th>r</th><th>f</th><th>y</th><th>val</th></tr><tr><th></th><th title=\"Int64\">Int64</th><th title=\"String\">String</th><th title=\"String\">String</th><th title=\"String\">String</th><th title=\"Float64\">Float64</th></tr></thead><tbody><tr><th>1</th><td>1</td><td>brazil</td><td>fuel_electricity</td><td>1000</td><td>0.0</td></tr><tr><th>2</th><td>2</td><td>brazil</td><td>fuel_electricity</td><td>1001</td><td>0.0</td></tr><tr><th>3</th><td>3</td><td>brazil</td><td>fuel_electricity</td><td>1002</td><td>0.0</td></tr><tr><th>4</th><td>4</td><td>brazil</td><td>fuel_electricity</td><td>1003</td><td>0.0</td></tr><tr><th>5</th><td>5</td><td>brazil</td><td>fuel_electricity</td><td>1004</td><td>0.0</td></tr><tr><th>6</th><td>6</td><td>brazil</td><td>fuel_electricity</td><td>1005</td><td>0.0</td></tr><tr><th>7</th><td>7</td><td>brazil</td><td>fuel_electricity</td><td>1006</td><td>0.0</td></tr><tr><th>8</th><td>8</td><td>brazil</td><td>fuel_electricity</td><td>1007</td><td>0.0</td></tr><tr><th>9</th><td>9</td><td>brazil</td><td>fuel_electricity</td><td>1008</td><td>0.0</td></tr><tr><th>10</th><td>10</td><td>brazil</td><td>fuel_electricity</td><td>1009</td><td>0.0</td></tr><tr><th>11</th><td>11</td><td>brazil</td><td>fuel_electricity</td><td>1010</td><td>0.0</td></tr><tr><th>12</th><td>12</td><td>brazil</td><td>fuel_electricity</td><td>1011</td><td>0.0350543</td></tr><tr><th>13</th><td>13</td><td>brazil</td><td>fuel_electricity</td><td>1012</td><td>0.0701086</td></tr><tr><th>14</th><td>14</td><td>brazil</td><td>fuel_electricity</td><td>1013</td><td>0.105163</td></tr><tr><th>15</th><td>15</td><td>brazil</td><td>fuel_electricity</td><td>1014</td><td>0.140217</td></tr><tr><th>16</th><td>16</td><td>brazil</td><td>fuel_electricity</td><td>1015</td><td>0.175272</td></tr><tr><th>17</th><td>17</td><td>brazil</td><td>fuel_electricity</td><td>1016</td><td>0.210326</td></tr><tr><th>18</th><td>18</td><td>brazil</td><td>fuel_electricity</td><td>1017</td><td>0.24538</td></tr><tr><th>19</th><td>19</td><td>brazil</td><td>fuel_electricity</td><td>1018</td><td>0.280434</td></tr><tr><th>20</th><td>20</td><td>brazil</td><td>fuel_electricity</td><td>1019</td><td>0.315489</td></tr><tr><th>21</th><td>21</td><td>brazil</td><td>fuel_electricity</td><td>1020</td><td>0.350543</td></tr><tr><th>22</th><td>22</td><td>brazil</td><td>fuel_electricity</td><td>1021</td><td>0.385597</td></tr><tr><th>23</th><td>23</td><td>brazil</td><td>fuel_electricity</td><td>1022</td><td>0.420652</td></tr><tr><th>24</th><td>24</td><td>brazil</td><td>fuel_electricity</td><td>1023</td><td>0.455706</td></tr><tr><th>25</th><td>25</td><td>brazil</td><td>fuel_electricity</td><td>1024</td><td>0.49076</td></tr><tr><th>26</th><td>26</td><td>brazil</td><td>fuel_electricity</td><td>1025</td><td>0.525815</td></tr><tr><th>27</th><td>27</td><td>brazil</td><td>fuel_electricity</td><td>1026</td><td>0.560869</td></tr><tr><th>28</th><td>28</td><td>brazil</td><td>fuel_electricity</td><td>1027</td><td>0.595923</td></tr><tr><th>29</th><td>29</td><td>brazil</td><td>fuel_electricity</td><td>1028</td><td>0.630978</td></tr><tr><th>30</th><td>30</td><td>brazil</td><td>fuel_electricity</td><td>1029</td><td>0.666032</td></tr><tr><th>&vellip;</th><td>&vellip;</td><td>&vellip;</td><td>&vellip;</td><td>&vellip;</td><td>&vellip;</td></tr></tbody></table></div>"
      ],
      "text/latex": [
       "\\begin{tabular}{r|ccccc}\n",
       "\t& id & r & f & y & val\\\\\n",
       "\t\\hline\n",
       "\t& Int64 & String & String & String & Float64\\\\\n",
       "\t\\hline\n",
       "\t1 & 1 & brazil & fuel\\_electricity & 1000 & 0.0 \\\\\n",
       "\t2 & 2 & brazil & fuel\\_electricity & 1001 & 0.0 \\\\\n",
       "\t3 & 3 & brazil & fuel\\_electricity & 1002 & 0.0 \\\\\n",
       "\t4 & 4 & brazil & fuel\\_electricity & 1003 & 0.0 \\\\\n",
       "\t5 & 5 & brazil & fuel\\_electricity & 1004 & 0.0 \\\\\n",
       "\t6 & 6 & brazil & fuel\\_electricity & 1005 & 0.0 \\\\\n",
       "\t7 & 7 & brazil & fuel\\_electricity & 1006 & 0.0 \\\\\n",
       "\t8 & 8 & brazil & fuel\\_electricity & 1007 & 0.0 \\\\\n",
       "\t9 & 9 & brazil & fuel\\_electricity & 1008 & 0.0 \\\\\n",
       "\t10 & 10 & brazil & fuel\\_electricity & 1009 & 0.0 \\\\\n",
       "\t11 & 11 & brazil & fuel\\_electricity & 1010 & 0.0 \\\\\n",
       "\t12 & 12 & brazil & fuel\\_electricity & 1011 & 0.0350543 \\\\\n",
       "\t13 & 13 & brazil & fuel\\_electricity & 1012 & 0.0701086 \\\\\n",
       "\t14 & 14 & brazil & fuel\\_electricity & 1013 & 0.105163 \\\\\n",
       "\t15 & 15 & brazil & fuel\\_electricity & 1014 & 0.140217 \\\\\n",
       "\t16 & 16 & brazil & fuel\\_electricity & 1015 & 0.175272 \\\\\n",
       "\t17 & 17 & brazil & fuel\\_electricity & 1016 & 0.210326 \\\\\n",
       "\t18 & 18 & brazil & fuel\\_electricity & 1017 & 0.24538 \\\\\n",
       "\t19 & 19 & brazil & fuel\\_electricity & 1018 & 0.280434 \\\\\n",
       "\t20 & 20 & brazil & fuel\\_electricity & 1019 & 0.315489 \\\\\n",
       "\t21 & 21 & brazil & fuel\\_electricity & 1020 & 0.350543 \\\\\n",
       "\t22 & 22 & brazil & fuel\\_electricity & 1021 & 0.385597 \\\\\n",
       "\t23 & 23 & brazil & fuel\\_electricity & 1022 & 0.420652 \\\\\n",
       "\t24 & 24 & brazil & fuel\\_electricity & 1023 & 0.455706 \\\\\n",
       "\t25 & 25 & brazil & fuel\\_electricity & 1024 & 0.49076 \\\\\n",
       "\t26 & 26 & brazil & fuel\\_electricity & 1025 & 0.525815 \\\\\n",
       "\t27 & 27 & brazil & fuel\\_electricity & 1026 & 0.560869 \\\\\n",
       "\t28 & 28 & brazil & fuel\\_electricity & 1027 & 0.595923 \\\\\n",
       "\t29 & 29 & brazil & fuel\\_electricity & 1028 & 0.630978 \\\\\n",
       "\t30 & 30 & brazil & fuel\\_electricity & 1029 & 0.666032 \\\\\n",
       "\t$\\dots$ & $\\dots$ & $\\dots$ & $\\dots$ & $\\dots$ & $\\dots$ \\\\\n",
       "\\end{tabular}\n"
      ],
      "text/plain": [
       "\u001b[1m36×5 DataFrame\u001b[0m\n",
       "\u001b[1m Row \u001b[0m│\u001b[1m id    \u001b[0m\u001b[1m r      \u001b[0m\u001b[1m f                \u001b[0m\u001b[1m y      \u001b[0m\u001b[1m val       \u001b[0m\n",
       "\u001b[1m     \u001b[0m│\u001b[90m Int64 \u001b[0m\u001b[90m String \u001b[0m\u001b[90m String           \u001b[0m\u001b[90m String \u001b[0m\u001b[90m Float64   \u001b[0m\n",
       "─────┼────────────────────────────────────────────────────\n",
       "   1 │     1  brazil  fuel_electricity  1000    0.0\n",
       "   2 │     2  brazil  fuel_electricity  1001    0.0\n",
       "   3 │     3  brazil  fuel_electricity  1002    0.0\n",
       "   4 │     4  brazil  fuel_electricity  1003    0.0\n",
       "   5 │     5  brazil  fuel_electricity  1004    0.0\n",
       "   6 │     6  brazil  fuel_electricity  1005    0.0\n",
       "   7 │     7  brazil  fuel_electricity  1006    0.0\n",
       "   8 │     8  brazil  fuel_electricity  1007    0.0\n",
       "   9 │     9  brazil  fuel_electricity  1008    0.0\n",
       "  10 │    10  brazil  fuel_electricity  1009    0.0\n",
       "  11 │    11  brazil  fuel_electricity  1010    0.0\n",
       "  ⋮  │   ⋮      ⋮            ⋮            ⋮         ⋮\n",
       "  27 │    27  brazil  fuel_electricity  1026    0.560869\n",
       "  28 │    28  brazil  fuel_electricity  1027    0.595923\n",
       "  29 │    29  brazil  fuel_electricity  1028    0.630978\n",
       "  30 │    30  brazil  fuel_electricity  1029    0.666032\n",
       "  31 │    31  brazil  fuel_electricity  1030    0.701086\n",
       "  32 │    32  brazil  fuel_electricity  1031    0.73614\n",
       "  33 │    33  brazil  fuel_electricity  1032    0.771195\n",
       "  34 │    34  brazil  fuel_electricity  1033    0.806249\n",
       "  35 │    35  brazil  fuel_electricity  1034    0.841303\n",
       "  36 │    36  brazil  fuel_electricity  1035    0.876358\n",
       "\u001b[36m                                           15 rows omitted\u001b[0m"
      ]
     },
     "execution_count": 186,
     "metadata": {},
     "output_type": "execute_result"
    }
   ],
   "source": [
    "df = get(dict_tables, \"REMinProductionTarget\", nothing)\n",
    "df\n",
    "#filter(x -> (x[:y] == \"1034\"), df)\n",
    "\n",
    "\n"
   ]
  },
  {
   "cell_type": "code",
   "execution_count": 95,
   "metadata": {},
   "outputs": [
    {
     "data": {
      "text/html": [
       "<div class=\"data-frame\"><p>60 rows × 7 columns</p><table class=\"data-frame\"><thead><tr><th></th><th>id</th><th>r</th><th>t</th><th>f</th><th>m</th><th>y</th><th>val</th></tr><tr><th></th><th title=\"Int64\">Int64</th><th title=\"String\">String</th><th title=\"String\">String</th><th title=\"String\">String</th><th title=\"String\">String</th><th title=\"String\">String</th><th title=\"Float64\">Float64</th></tr></thead><tbody><tr><th>1</th><td>36</td><td>brazil</td><td>fp_hydrogen_electrolysis</td><td>fuel_electricity</td><td>generate</td><td>1035</td><td>1.56127</td></tr><tr><th>2</th><td>72</td><td>brazil</td><td>fp_hydrogen_gasification</td><td>fuel_coal</td><td>generate</td><td>1035</td><td>1.967</td></tr><tr><th>3</th><td>108</td><td>brazil</td><td>fp_hydrogen_reformation</td><td>fuel_natural_gas</td><td>generate</td><td>1035</td><td>1.315</td></tr><tr><th>4</th><td>144</td><td>brazil</td><td>fp_natural_gas</td><td>fuel_electricity</td><td>generate</td><td>1035</td><td>0.0106328</td></tr><tr><th>5</th><td>180</td><td>brazil</td><td>fp_natural_gas</td><td>fuel_natural_gas_unprocessed</td><td>generate</td><td>1035</td><td>1.0</td></tr><tr><th>6</th><td>216</td><td>brazil</td><td>fp_petroleum_refinement</td><td>fuel_crude</td><td>generate</td><td>1035</td><td>1.08696</td></tr><tr><th>7</th><td>252</td><td>brazil</td><td>me_coal</td><td>fuel_coal_deposits</td><td>generate</td><td>1035</td><td>1.0023</td></tr><tr><th>8</th><td>288</td><td>brazil</td><td>me_coal</td><td>fuel_diesel</td><td>generate</td><td>1035</td><td>0.00782609</td></tr><tr><th>9</th><td>324</td><td>brazil</td><td>me_coal</td><td>fuel_electricity</td><td>generate</td><td>1035</td><td>0.00882271</td></tr><tr><th>10</th><td>360</td><td>brazil</td><td>me_coal</td><td>fuel_gasoline</td><td>generate</td><td>1035</td><td>0.000460358</td></tr><tr><th>11</th><td>396</td><td>brazil</td><td>me_coal</td><td>fuel_natural_gas</td><td>generate</td><td>1035</td><td>0.00506394</td></tr><tr><th>12</th><td>432</td><td>brazil</td><td>me_crude</td><td>fuel_diesel</td><td>generate</td><td>1035</td><td>0.0376344</td></tr><tr><th>13</th><td>468</td><td>brazil</td><td>me_crude</td><td>fuel_electricity</td><td>generate</td><td>1035</td><td>0.042427</td></tr><tr><th>14</th><td>504</td><td>brazil</td><td>me_crude</td><td>fuel_gasoline</td><td>generate</td><td>1035</td><td>0.00221379</td></tr><tr><th>15</th><td>540</td><td>brazil</td><td>me_natural_gas</td><td>fuel_diesel</td><td>generate</td><td>1035</td><td>0.0405405</td></tr><tr><th>16</th><td>576</td><td>brazil</td><td>me_natural_gas</td><td>fuel_electricity</td><td>generate</td><td>1035</td><td>0.0457032</td></tr><tr><th>17</th><td>612</td><td>brazil</td><td>me_natural_gas</td><td>fuel_gasoline</td><td>generate</td><td>1035</td><td>0.00238474</td></tr><tr><th>18</th><td>648</td><td>brazil</td><td>pp_biogas</td><td>fuel_biogas</td><td>generate</td><td>1035</td><td>2.98507</td></tr><tr><th>19</th><td>684</td><td>brazil</td><td>pp_biomass</td><td>fuel_biomass</td><td>generate</td><td>1035</td><td>2.5</td></tr><tr><th>20</th><td>720</td><td>brazil</td><td>pp_coal</td><td>fuel_coal</td><td>generate</td><td>1035</td><td>2.22222</td></tr><tr><th>21</th><td>756</td><td>brazil</td><td>pp_coal_ccs</td><td>fuel_coal</td><td>generate</td><td>1035</td><td>2.22222</td></tr><tr><th>22</th><td>792</td><td>brazil</td><td>pp_gas</td><td>fuel_natural_gas</td><td>generate</td><td>1035</td><td>2.5</td></tr><tr><th>23</th><td>828</td><td>brazil</td><td>pp_gas_ccs</td><td>fuel_natural_gas</td><td>generate</td><td>1035</td><td>2.5</td></tr><tr><th>24</th><td>864</td><td>brazil</td><td>pp_geothermal</td><td>fuel_geothermal</td><td>generate</td><td>1035</td><td>1.0</td></tr><tr><th>25</th><td>900</td><td>brazil</td><td>pp_hydropower</td><td>fuel_hydropower</td><td>generate</td><td>1035</td><td>1.0</td></tr><tr><th>26</th><td>936</td><td>brazil</td><td>pp_nuclear</td><td>fuel_nuclear</td><td>generate</td><td>1035</td><td>370.37</td></tr><tr><th>27</th><td>972</td><td>brazil</td><td>pp_ocean</td><td>fuel_ocean</td><td>generate</td><td>1035</td><td>1.0</td></tr><tr><th>28</th><td>1008</td><td>brazil</td><td>pp_oil</td><td>fuel_oil</td><td>generate</td><td>1035</td><td>2.5</td></tr><tr><th>29</th><td>1044</td><td>brazil</td><td>pp_solar</td><td>fuel_solar</td><td>generate</td><td>1035</td><td>1.0</td></tr><tr><th>30</th><td>1080</td><td>brazil</td><td>pp_waste_incineration</td><td>fuel_waste</td><td>generate</td><td>1035</td><td>2.5</td></tr><tr><th>&vellip;</th><td>&vellip;</td><td>&vellip;</td><td>&vellip;</td><td>&vellip;</td><td>&vellip;</td><td>&vellip;</td><td>&vellip;</td></tr></tbody></table></div>"
      ],
      "text/latex": [
       "\\begin{tabular}{r|ccccccc}\n",
       "\t& id & r & t & f & m & y & val\\\\\n",
       "\t\\hline\n",
       "\t& Int64 & String & String & String & String & String & Float64\\\\\n",
       "\t\\hline\n",
       "\t1 & 36 & brazil & fp\\_hydrogen\\_electrolysis & fuel\\_electricity & generate & 1035 & 1.56127 \\\\\n",
       "\t2 & 72 & brazil & fp\\_hydrogen\\_gasification & fuel\\_coal & generate & 1035 & 1.967 \\\\\n",
       "\t3 & 108 & brazil & fp\\_hydrogen\\_reformation & fuel\\_natural\\_gas & generate & 1035 & 1.315 \\\\\n",
       "\t4 & 144 & brazil & fp\\_natural\\_gas & fuel\\_electricity & generate & 1035 & 0.0106328 \\\\\n",
       "\t5 & 180 & brazil & fp\\_natural\\_gas & fuel\\_natural\\_gas\\_unprocessed & generate & 1035 & 1.0 \\\\\n",
       "\t6 & 216 & brazil & fp\\_petroleum\\_refinement & fuel\\_crude & generate & 1035 & 1.08696 \\\\\n",
       "\t7 & 252 & brazil & me\\_coal & fuel\\_coal\\_deposits & generate & 1035 & 1.0023 \\\\\n",
       "\t8 & 288 & brazil & me\\_coal & fuel\\_diesel & generate & 1035 & 0.00782609 \\\\\n",
       "\t9 & 324 & brazil & me\\_coal & fuel\\_electricity & generate & 1035 & 0.00882271 \\\\\n",
       "\t10 & 360 & brazil & me\\_coal & fuel\\_gasoline & generate & 1035 & 0.000460358 \\\\\n",
       "\t11 & 396 & brazil & me\\_coal & fuel\\_natural\\_gas & generate & 1035 & 0.00506394 \\\\\n",
       "\t12 & 432 & brazil & me\\_crude & fuel\\_diesel & generate & 1035 & 0.0376344 \\\\\n",
       "\t13 & 468 & brazil & me\\_crude & fuel\\_electricity & generate & 1035 & 0.042427 \\\\\n",
       "\t14 & 504 & brazil & me\\_crude & fuel\\_gasoline & generate & 1035 & 0.00221379 \\\\\n",
       "\t15 & 540 & brazil & me\\_natural\\_gas & fuel\\_diesel & generate & 1035 & 0.0405405 \\\\\n",
       "\t16 & 576 & brazil & me\\_natural\\_gas & fuel\\_electricity & generate & 1035 & 0.0457032 \\\\\n",
       "\t17 & 612 & brazil & me\\_natural\\_gas & fuel\\_gasoline & generate & 1035 & 0.00238474 \\\\\n",
       "\t18 & 648 & brazil & pp\\_biogas & fuel\\_biogas & generate & 1035 & 2.98507 \\\\\n",
       "\t19 & 684 & brazil & pp\\_biomass & fuel\\_biomass & generate & 1035 & 2.5 \\\\\n",
       "\t20 & 720 & brazil & pp\\_coal & fuel\\_coal & generate & 1035 & 2.22222 \\\\\n",
       "\t21 & 756 & brazil & pp\\_coal\\_ccs & fuel\\_coal & generate & 1035 & 2.22222 \\\\\n",
       "\t22 & 792 & brazil & pp\\_gas & fuel\\_natural\\_gas & generate & 1035 & 2.5 \\\\\n",
       "\t23 & 828 & brazil & pp\\_gas\\_ccs & fuel\\_natural\\_gas & generate & 1035 & 2.5 \\\\\n",
       "\t24 & 864 & brazil & pp\\_geothermal & fuel\\_geothermal & generate & 1035 & 1.0 \\\\\n",
       "\t25 & 900 & brazil & pp\\_hydropower & fuel\\_hydropower & generate & 1035 & 1.0 \\\\\n",
       "\t26 & 936 & brazil & pp\\_nuclear & fuel\\_nuclear & generate & 1035 & 370.37 \\\\\n",
       "\t27 & 972 & brazil & pp\\_ocean & fuel\\_ocean & generate & 1035 & 1.0 \\\\\n",
       "\t28 & 1008 & brazil & pp\\_oil & fuel\\_oil & generate & 1035 & 2.5 \\\\\n",
       "\t29 & 1044 & brazil & pp\\_solar & fuel\\_solar & generate & 1035 & 1.0 \\\\\n",
       "\t30 & 1080 & brazil & pp\\_waste\\_incineration & fuel\\_waste & generate & 1035 & 2.5 \\\\\n",
       "\t$\\dots$ & $\\dots$ & $\\dots$ & $\\dots$ & $\\dots$ & $\\dots$ & $\\dots$ & $\\dots$ \\\\\n",
       "\\end{tabular}\n"
      ],
      "text/plain": [
       "\u001b[1m60×7 DataFrame\u001b[0m\n",
       "\u001b[1m Row \u001b[0m│\u001b[1m id    \u001b[0m\u001b[1m r      \u001b[0m\u001b[1m t                                 \u001b[0m\u001b[1m f                            \u001b[0m\u001b[1m m        \u001b[0m\u001b[1m y      \u001b[0m\u001b[1m val         \u001b[0m\n",
       "\u001b[1m     \u001b[0m│\u001b[90m Int64 \u001b[0m\u001b[90m String \u001b[0m\u001b[90m String                            \u001b[0m\u001b[90m String                       \u001b[0m\u001b[90m String   \u001b[0m\u001b[90m String \u001b[0m\u001b[90m Float64     \u001b[0m\n",
       "─────┼───────────────────────────────────────────────────────────────────────────────────────────────────────────────\n",
       "   1 │    36  brazil  fp_hydrogen_electrolysis           fuel_electricity              generate  1035    1.56127\n",
       "   2 │    72  brazil  fp_hydrogen_gasification           fuel_coal                     generate  1035    1.967\n",
       "   3 │   108  brazil  fp_hydrogen_reformation            fuel_natural_gas              generate  1035    1.315\n",
       "   4 │   144  brazil  fp_natural_gas                     fuel_electricity              generate  1035    0.0106328\n",
       "   5 │   180  brazil  fp_natural_gas                     fuel_natural_gas_unprocessed  generate  1035    1.0\n",
       "   6 │   216  brazil  fp_petroleum_refinement            fuel_crude                    generate  1035    1.08696\n",
       "   7 │   252  brazil  me_coal                            fuel_coal_deposits            generate  1035    1.0023\n",
       "   8 │   288  brazil  me_coal                            fuel_diesel                   generate  1035    0.00782609\n",
       "   9 │   324  brazil  me_coal                            fuel_electricity              generate  1035    0.00882271\n",
       "  10 │   360  brazil  me_coal                            fuel_gasoline                 generate  1035    0.000460358\n",
       "  11 │   396  brazil  me_coal                            fuel_natural_gas              generate  1035    0.00506394\n",
       "  ⋮  │   ⋮      ⋮                     ⋮                               ⋮                   ⋮        ⋮          ⋮\n",
       "  51 │  1836  brazil  supply_fuel_kerosene               fuel_QUANTITY_PRODUCED        generate  1035    1.0\n",
       "  52 │  1872  brazil  supply_fuel_natural_gas            fuel_QUANTITY_PRODUCED        generate  1035    1.0\n",
       "  53 │  1908  brazil  supply_fuel_natural_gas_unproces…  fuel_QUANTITY_PRODUCED        generate  1035    1.0\n",
       "  54 │  1944  brazil  supply_fuel_nuclear                fuel_QUANTITY_PRODUCED        generate  1035    1.0\n",
       "  55 │  1980  brazil  supply_fuel_ocean                  fuel_QUANTITY_PRODUCED        generate  1035    1.0\n",
       "  56 │  2016  brazil  supply_fuel_oil                    fuel_QUANTITY_PRODUCED        generate  1035    1.0\n",
       "  57 │  2052  brazil  supply_fuel_other                  fuel_QUANTITY_PRODUCED        generate  1035    1.0\n",
       "  58 │  2088  brazil  supply_fuel_solar                  fuel_QUANTITY_PRODUCED        generate  1035    1.0\n",
       "  59 │  2124  brazil  supply_fuel_waste                  fuel_QUANTITY_PRODUCED        generate  1035    1.0\n",
       "  60 │  2160  brazil  supply_fuel_wind                   fuel_QUANTITY_PRODUCED        generate  1035    1.0\n",
       "\u001b[36m                                                                                                      39 rows omitted\u001b[0m"
      ]
     },
     "execution_count": 97,
     "metadata": {},
     "output_type": "execute_result"
    }
   ],
   "source": [
    "df = get(dict_tables, \"SpecifiedAnnualDemand\", nothing)\n",
    "filter(x -> (x[:y] == \"1035\"), df)\n",
    "\n",
    "\n"
   ]
  },
  {
   "cell_type": "code",
   "execution_count": 68,
   "metadata": {
    "tags": []
   },
   "outputs": [
    {
     "name": "stdout",
     "output_type": "stream",
     "text": [
      "AccumulatedAnnualDemand\n",
      "AnnualEmissionLimit\n",
      "AnnualExogenousEmission\n",
      "AvailabilityFactor\n",
      "CapacityFactor\n",
      "CapacityOfOneTechnologyUnit\n",
      "CapacityToActivityUnit\n",
      "CapitalCost\n",
      "CapitalCostStorage\n",
      "DefaultParams\n",
      "DepreciationMethod\n",
      "DiscountRate\n",
      "EMISSION\n",
      "EmissionActivityRatio\n",
      "EmissionsPenalty\n",
      "FUEL\n",
      "FixedCost\n",
      "InputActivityRatio\n",
      "InterestRateStorage\n",
      "InterestRateTechnology\n",
      "LTsGroup\n",
      "MODE_OF_OPERATION\n",
      "MinShareProduction\n",
      "MinStorageCharge\n",
      "MinimumUtilization\n",
      "ModelPeriodEmissionLimit\n",
      "ModelPeriodExogenousEmission\n",
      "NODE\n",
      "NodalDistributionDemand\n",
      "NodalDistributionStorageCapacity\n",
      "NodalDistributionTechnologyCapacity\n",
      "OperationalLife\n",
      "OperationalLifeStorage\n",
      "OutputActivityRatio\n",
      "REGION\n",
      "REMinProductionTarget\n",
      "RETagTechnology\n",
      "RampRate\n",
      "RampingReset\n",
      "ReserveMargin\n",
      "ReserveMarginTagFuel\n",
      "ReserveMarginTagTechnology\n",
      "ResidualCapacity\n",
      "ResidualStorageCapacity\n",
      "STORAGE\n",
      "SpecifiedAnnualDemand\n",
      "SpecifiedDemandProfile\n",
      "StorageFullLoadHours\n",
      "StorageLevelStart\n",
      "StorageMaxChargeRate\n",
      "StorageMaxDischargeRate\n",
      "TECHNOLOGY\n",
      "TIMESLICE\n",
      "TSGROUP1\n",
      "TSGROUP2\n",
      "TechnologyFromStorage\n",
      "TechnologyToStorage\n",
      "TotalAnnualMaxCapacity\n",
      "TotalAnnualMaxCapacityInvestment\n",
      "TotalAnnualMaxCapacityInvestmentStorage\n",
      "TotalAnnualMaxCapacityStorage\n",
      "TotalAnnualMinCapacity\n",
      "TotalAnnualMinCapacityInvestment\n",
      "TotalAnnualMinCapacityInvestmentStorage\n",
      "TotalAnnualMinCapacityStorage\n",
      "TotalTechnologyAnnualActivityLowerLimit\n",
      "TotalTechnologyAnnualActivityUpperLimit\n",
      "TotalTechnologyModelPeriodActivityLowerLimit\n",
      "TotalTechnologyModelPeriodActivityUpperLimit\n",
      "TradeRoute\n",
      "TransmissionCapacityToActivityUnit\n",
      "TransmissionLine\n",
      "TransmissionModelingEnabled\n",
      "VariableCost\n",
      "Version\n",
      "YEAR\n",
      "YearSplit\n",
      "sqlite_sequence\n"
     ]
    }
   ],
   "source": [
    "println.(sort(collect(keys(dict_tables))));"
   ]
  },
  {
   "cell_type": "code",
   "execution_count": null,
   "metadata": {},
   "outputs": [],
   "source": []
  },
  {
   "cell_type": "code",
   "execution_count": 44,
   "metadata": {},
   "outputs": [
    {
     "data": {
      "text/plain": [
       "\"TotalAnnualMaxCapacityInvestment\""
      ]
     },
     "execution_count": 44,
     "metadata": {},
     "output_type": "execute_result"
    }
   ],
   "source": [
    "#df_max_investment = get(dict_tables, \"TotalAnnualMaxCapacityInvestment\", nothing)\n",
    "yrs_keep = [string(x) for x in 1000:1034]\n",
    "filter!(x -> ((x[:y] in yrs_keep) | (x[:t] == \"pp_biomass\")), df_max_investment)\n",
    "SQLite.load!(df_max_investment, db, \"TotalAnnualMaxCapacityInvestment\"; replace = true)"
   ]
  },
  {
   "cell_type": "code",
   "execution_count": 70,
   "metadata": {},
   "outputs": [
    {
     "data": {
      "text/plain": [
       "\"TotalAnnualMinCapacity\""
      ]
     },
     "execution_count": 70,
     "metadata": {},
     "output_type": "execute_result"
    }
   ],
   "source": [
    "SQLite.load!(df_max_investment, db, \"TotalAnnualMaxCapacityInvestment\"; replace = true)\n",
    "\n"
   ]
  },
  {
   "cell_type": "code",
   "execution_count": 77,
   "metadata": {},
   "outputs": [
    {
     "data": {
      "text/html": [
       "<div class=\"data-frame\"><p>4 rows × 7 columns</p><table class=\"data-frame\"><thead><tr><th></th><th>id</th><th>r</th><th>t</th><th>f</th><th>m</th><th>y</th><th>val</th></tr><tr><th></th><th title=\"Int64\">Int64</th><th title=\"String\">String</th><th title=\"String\">String</th><th title=\"String\">String</th><th title=\"String\">String</th><th title=\"String\">String</th><th title=\"Float64\">Float64</th></tr></thead><tbody><tr><th>1</th><td>36</td><td>brazil</td><td>fp_hydrogen_electrolysis</td><td>fuel_hydrogen</td><td>generate</td><td>1035</td><td>1.0</td></tr><tr><th>2</th><td>72</td><td>brazil</td><td>fp_hydrogen_gasification</td><td>fuel_hydrogen</td><td>generate</td><td>1035</td><td>1.0</td></tr><tr><th>3</th><td>108</td><td>brazil</td><td>fp_hydrogen_reformation</td><td>fuel_hydrogen</td><td>generate</td><td>1035</td><td>1.0</td></tr><tr><th>4</th><td>1656</td><td>brazil</td><td>supply_fuel_hydrogen</td><td>fuel_hydrogen</td><td>generate</td><td>1035</td><td>1.0</td></tr></tbody></table></div>"
      ],
      "text/latex": [
       "\\begin{tabular}{r|ccccccc}\n",
       "\t& id & r & t & f & m & y & val\\\\\n",
       "\t\\hline\n",
       "\t& Int64 & String & String & String & String & String & Float64\\\\\n",
       "\t\\hline\n",
       "\t1 & 36 & brazil & fp\\_hydrogen\\_electrolysis & fuel\\_hydrogen & generate & 1035 & 1.0 \\\\\n",
       "\t2 & 72 & brazil & fp\\_hydrogen\\_gasification & fuel\\_hydrogen & generate & 1035 & 1.0 \\\\\n",
       "\t3 & 108 & brazil & fp\\_hydrogen\\_reformation & fuel\\_hydrogen & generate & 1035 & 1.0 \\\\\n",
       "\t4 & 1656 & brazil & supply\\_fuel\\_hydrogen & fuel\\_hydrogen & generate & 1035 & 1.0 \\\\\n",
       "\\end{tabular}\n"
      ],
      "text/plain": [
       "\u001b[1m4×7 DataFrame\u001b[0m\n",
       "\u001b[1m Row \u001b[0m│\u001b[1m id    \u001b[0m\u001b[1m r      \u001b[0m\u001b[1m t                        \u001b[0m\u001b[1m f             \u001b[0m\u001b[1m m        \u001b[0m\u001b[1m y      \u001b[0m\u001b[1m val     \u001b[0m\n",
       "\u001b[1m     \u001b[0m│\u001b[90m Int64 \u001b[0m\u001b[90m String \u001b[0m\u001b[90m String                   \u001b[0m\u001b[90m String        \u001b[0m\u001b[90m String   \u001b[0m\u001b[90m String \u001b[0m\u001b[90m Float64 \u001b[0m\n",
       "─────┼───────────────────────────────────────────────────────────────────────────────────\n",
       "   1 │    36  brazil  fp_hydrogen_electrolysis  fuel_hydrogen  generate  1035        1.0\n",
       "   2 │    72  brazil  fp_hydrogen_gasification  fuel_hydrogen  generate  1035        1.0\n",
       "   3 │   108  brazil  fp_hydrogen_reformation   fuel_hydrogen  generate  1035        1.0\n",
       "   4 │  1656  brazil  supply_fuel_hydrogen      fuel_hydrogen  generate  1035        1.0"
      ]
     },
     "execution_count": 77,
     "metadata": {},
     "output_type": "execute_result"
    }
   ],
   "source": [
    "df_view = get(dict_tables, \"OutputActivityRatio\", nothing)\n",
    "\n",
    "filter(x -> ((x[:y] == \"1035\") & (x[:f] == \"fuel_hydrogen\")), df_view)"
   ]
  },
  {
   "cell_type": "code",
   "execution_count": 10,
   "metadata": {},
   "outputs": [
    {
     "data": {
      "text/html": [
       "<div class=\"data-frame\"><p>19 rows × 6 columns</p><table class=\"data-frame\"><thead><tr><th></th><th>id</th><th>r</th><th>t</th><th>f</th><th>y</th><th>val</th></tr><tr><th></th><th title=\"Int64\">Int64</th><th title=\"String\">String</th><th title=\"String\">String</th><th title=\"String\">String</th><th title=\"String\">String</th><th title=\"Float64\">Float64</th></tr></thead><tbody><tr><th>1</th><td>35</td><td>brazil</td><td>fp_hydrogen_electrolysis</td><td>fuel_hydrogen</td><td>1034</td><td>0.889205</td></tr><tr><th>2</th><td>71</td><td>brazil</td><td>pp_coal</td><td>fuel_electricity</td><td>1034</td><td>0.0</td></tr><tr><th>3</th><td>107</td><td>brazil</td><td>pp_gas</td><td>fuel_electricity</td><td>1034</td><td>0.0</td></tr><tr><th>4</th><td>143</td><td>brazil</td><td>pp_geothermal</td><td>fuel_electricity</td><td>1034</td><td>0.0855676</td></tr><tr><th>5</th><td>179</td><td>brazil</td><td>pp_hydropower</td><td>fuel_electricity</td><td>1034</td><td>0.565988</td></tr><tr><th>6</th><td>215</td><td>brazil</td><td>pp_nuclear</td><td>fuel_electricity</td><td>1034</td><td>0.0</td></tr><tr><th>7</th><td>251</td><td>brazil</td><td>pp_oil</td><td>fuel_electricity</td><td>1034</td><td>0.0</td></tr><tr><th>8</th><td>287</td><td>brazil</td><td>pp_solar</td><td>fuel_electricity</td><td>1034</td><td>0.128803</td></tr><tr><th>9</th><td>323</td><td>brazil</td><td>pp_wind</td><td>fuel_electricity</td><td>1034</td><td>0.131397</td></tr><tr><th>10</th><td>359</td><td>brazil</td><td>supply_fuel_coal</td><td>fuel_coal</td><td>1034</td><td>0.595391</td></tr><tr><th>11</th><td>395</td><td>brazil</td><td>supply_fuel_crude</td><td>fuel_crude</td><td>1034</td><td>0.0</td></tr><tr><th>12</th><td>431</td><td>brazil</td><td>supply_fuel_diesel</td><td>fuel_diesel</td><td>1034</td><td>0.16625</td></tr><tr><th>13</th><td>467</td><td>brazil</td><td>supply_fuel_electricity</td><td>fuel_electricity</td><td>1034</td><td>0.0774806</td></tr><tr><th>14</th><td>503</td><td>brazil</td><td>supply_fuel_gasoline</td><td>fuel_gasoline</td><td>1034</td><td>0.165411</td></tr><tr><th>15</th><td>539</td><td>brazil</td><td>supply_fuel_hydrocarbon_gas_liquids</td><td>fuel_hydrocarbon_gas_liquids</td><td>1034</td><td>0.130057</td></tr><tr><th>16</th><td>575</td><td>brazil</td><td>supply_fuel_hydrogen</td><td>fuel_hydrogen</td><td>1034</td><td>0.0249944</td></tr><tr><th>17</th><td>611</td><td>brazil</td><td>supply_fuel_kerosene</td><td>fuel_kerosene</td><td>1034</td><td>0.156192</td></tr><tr><th>18</th><td>647</td><td>brazil</td><td>supply_fuel_natural_gas</td><td>fuel_natural_gas</td><td>1034</td><td>0.23035</td></tr><tr><th>19</th><td>683</td><td>brazil</td><td>supply_fuel_oil</td><td>fuel_oil</td><td>1034</td><td>0.0406532</td></tr></tbody></table></div>"
      ],
      "text/latex": [
       "\\begin{tabular}{r|cccccc}\n",
       "\t& id & r & t & f & y & val\\\\\n",
       "\t\\hline\n",
       "\t& Int64 & String & String & String & String & Float64\\\\\n",
       "\t\\hline\n",
       "\t1 & 35 & brazil & fp\\_hydrogen\\_electrolysis & fuel\\_hydrogen & 1034 & 0.889205 \\\\\n",
       "\t2 & 71 & brazil & pp\\_coal & fuel\\_electricity & 1034 & 0.0 \\\\\n",
       "\t3 & 107 & brazil & pp\\_gas & fuel\\_electricity & 1034 & 0.0 \\\\\n",
       "\t4 & 143 & brazil & pp\\_geothermal & fuel\\_electricity & 1034 & 0.0855676 \\\\\n",
       "\t5 & 179 & brazil & pp\\_hydropower & fuel\\_electricity & 1034 & 0.565988 \\\\\n",
       "\t6 & 215 & brazil & pp\\_nuclear & fuel\\_electricity & 1034 & 0.0 \\\\\n",
       "\t7 & 251 & brazil & pp\\_oil & fuel\\_electricity & 1034 & 0.0 \\\\\n",
       "\t8 & 287 & brazil & pp\\_solar & fuel\\_electricity & 1034 & 0.128803 \\\\\n",
       "\t9 & 323 & brazil & pp\\_wind & fuel\\_electricity & 1034 & 0.131397 \\\\\n",
       "\t10 & 359 & brazil & supply\\_fuel\\_coal & fuel\\_coal & 1034 & 0.595391 \\\\\n",
       "\t11 & 395 & brazil & supply\\_fuel\\_crude & fuel\\_crude & 1034 & 0.0 \\\\\n",
       "\t12 & 431 & brazil & supply\\_fuel\\_diesel & fuel\\_diesel & 1034 & 0.16625 \\\\\n",
       "\t13 & 467 & brazil & supply\\_fuel\\_electricity & fuel\\_electricity & 1034 & 0.0774806 \\\\\n",
       "\t14 & 503 & brazil & supply\\_fuel\\_gasoline & fuel\\_gasoline & 1034 & 0.165411 \\\\\n",
       "\t15 & 539 & brazil & supply\\_fuel\\_hydrocarbon\\_gas\\_liquids & fuel\\_hydrocarbon\\_gas\\_liquids & 1034 & 0.130057 \\\\\n",
       "\t16 & 575 & brazil & supply\\_fuel\\_hydrogen & fuel\\_hydrogen & 1034 & 0.0249944 \\\\\n",
       "\t17 & 611 & brazil & supply\\_fuel\\_kerosene & fuel\\_kerosene & 1034 & 0.156192 \\\\\n",
       "\t18 & 647 & brazil & supply\\_fuel\\_natural\\_gas & fuel\\_natural\\_gas & 1034 & 0.23035 \\\\\n",
       "\t19 & 683 & brazil & supply\\_fuel\\_oil & fuel\\_oil & 1034 & 0.0406532 \\\\\n",
       "\\end{tabular}\n"
      ],
      "text/plain": [
       "\u001b[1m19×6 DataFrame\u001b[0m\n",
       "\u001b[1m Row \u001b[0m│\u001b[1m id    \u001b[0m\u001b[1m r      \u001b[0m\u001b[1m t                                 \u001b[0m\u001b[1m f                            \u001b[0m\u001b[1m y      \u001b[0m\u001b[1m val       \u001b[0m\n",
       "\u001b[1m     \u001b[0m│\u001b[90m Int64 \u001b[0m\u001b[90m String \u001b[0m\u001b[90m String                            \u001b[0m\u001b[90m String                       \u001b[0m\u001b[90m String \u001b[0m\u001b[90m Float64   \u001b[0m\n",
       "─────┼───────────────────────────────────────────────────────────────────────────────────────────────────\n",
       "   1 │    35  brazil  fp_hydrogen_electrolysis           fuel_hydrogen                 1034    0.889205\n",
       "   2 │    71  brazil  pp_coal                            fuel_electricity              1034    0.0\n",
       "   3 │   107  brazil  pp_gas                             fuel_electricity              1034    0.0\n",
       "   4 │   143  brazil  pp_geothermal                      fuel_electricity              1034    0.0855676\n",
       "   5 │   179  brazil  pp_hydropower                      fuel_electricity              1034    0.565988\n",
       "   6 │   215  brazil  pp_nuclear                         fuel_electricity              1034    0.0\n",
       "   7 │   251  brazil  pp_oil                             fuel_electricity              1034    0.0\n",
       "   8 │   287  brazil  pp_solar                           fuel_electricity              1034    0.128803\n",
       "   9 │   323  brazil  pp_wind                            fuel_electricity              1034    0.131397\n",
       "  10 │   359  brazil  supply_fuel_coal                   fuel_coal                     1034    0.595391\n",
       "  11 │   395  brazil  supply_fuel_crude                  fuel_crude                    1034    0.0\n",
       "  12 │   431  brazil  supply_fuel_diesel                 fuel_diesel                   1034    0.16625\n",
       "  13 │   467  brazil  supply_fuel_electricity            fuel_electricity              1034    0.0774806\n",
       "  14 │   503  brazil  supply_fuel_gasoline               fuel_gasoline                 1034    0.165411\n",
       "  15 │   539  brazil  supply_fuel_hydrocarbon_gas_liqu…  fuel_hydrocarbon_gas_liquids  1034    0.130057\n",
       "  16 │   575  brazil  supply_fuel_hydrogen               fuel_hydrogen                 1034    0.0249944\n",
       "  17 │   611  brazil  supply_fuel_kerosene               fuel_kerosene                 1034    0.156192\n",
       "  18 │   647  brazil  supply_fuel_natural_gas            fuel_natural_gas              1034    0.23035\n",
       "  19 │   683  brazil  supply_fuel_oil                    fuel_oil                      1034    0.0406532"
      ]
     },
     "execution_count": 10,
     "metadata": {},
     "output_type": "execute_result"
    }
   ],
   "source": [
    "df_view = get(dict_tables, \"MinShareProduction\", nothing)\n",
    "\n",
    "filter(x -> (x[:y] == \"1034\"), df_view)"
   ]
  },
  {
   "cell_type": "code",
   "execution_count": 63,
   "metadata": {},
   "outputs": [
    {
     "name": "stdout",
     "output_type": "stream",
     "text": [
      "\u001b[1m0×6 DataFrame\u001b[0m\n",
      "\u001b[1m0×5 DataFrame\u001b[0m\n",
      "\u001b[1m0×6 DataFrame\u001b[0m\n",
      "\u001b[1m0×6 DataFrame\u001b[0m\n",
      "\u001b[1m0×5 DataFrame\u001b[0m\n",
      "\u001b[1m0×4 DataFrame\u001b[0m\n",
      "\u001b[1m0×6 DataFrame\u001b[0m\n",
      "\u001b[1m0×6 DataFrame\u001b[0m\n"
     ]
    }
   ],
   "source": [
    "for k in sort(collect(keys(dict_tables)))\n",
    "    \n",
    "    (string(k[1:1]) == \"v\") ? println(get(dict_tables, k, nothing)) : nothing\n",
    "end"
   ]
  },
  {
   "cell_type": "code",
   "execution_count": 48,
   "metadata": {},
   "outputs": [
    {
     "data": {
      "text/plain": [
       "SQLite.Query(SQLite.Stmt(SQLite.DB(\"/Users/jsyme/Documents/Projects/git_jbus/lac_decarbonization/tmp/nemomod_intermediate_database.sqlite\"), 1), Base.RefValue{Int32}(101), Symbol[], Type[], Dict{Symbol, Int64}(), Base.RefValue{Int64}(0))"
      ]
     },
     "execution_count": 48,
     "metadata": {},
     "output_type": "execute_result"
    }
   ],
   "source": [
    "#df = get(dict_tables, \"CapacityFactor\", nothing)\n",
    "#filter(x -> ((x[:y] == \"1000\") & (x[:t] == \"pp_hydropower\")), df)\n",
    "#DBInterface.execute(db, \"drop * from SpecifiedDemandProfile\")\n",
    "table_name = \"SpecifiedDemandProfile\"\n",
    "DBInterface.execute(db, \"delete from $(table_name)\")"
   ]
  },
  {
   "cell_type": "code",
   "execution_count": 36,
   "metadata": {},
   "outputs": [],
   "source": [
    "#keys(dict_tables)\n",
    "for tab in sort(collect(keys(dict_tables)))\n",
    "    \n",
    "    df = get(dict_tables, tab, nothing)\n",
    "    #if \"r\" in names(df)\n",
    "    #    println(tab)\n",
    "    #    all_regions = Set(df[:, :r])\n",
    "    #    println(\"regions:\\t\\n$(all_regions)\")\n",
    "    #    (nrow(df) == 0) ? println(\"**NO ROWS**\\n\\n\") : println(\"\\n\\n\")\n",
    "    \n",
    "    if \"id\" in names(df)\n",
    "        s_id = Set(df[:, :id])\n",
    "        (length(s_id) != nrow(df)) ? println(\"ID MISTMATCH IN $(tab)\") : nothing\n",
    "    end\n",
    "    \n",
    "end\n",
    "\n"
   ]
  },
  {
   "cell_type": "code",
   "execution_count": 18,
   "metadata": {},
   "outputs": [
    {
     "data": {
      "text/html": [
       "<div class=\"data-frame\"><p>0 rows × 5 columns</p><table class=\"data-frame\"><thead><tr><th></th><th>r</th><th>t</th><th>y</th><th>val</th><th>solvedtm</th></tr><tr><th></th><th title=\"Union{Missing, String}\">String?</th><th title=\"Union{Missing, String}\">String?</th><th title=\"Union{Missing, String}\">String?</th><th title=\"Union{Missing, Float64}\">Float64?</th><th title=\"Union{Missing, String}\">String?</th></tr></thead><tbody></tbody></table></div>"
      ],
      "text/latex": [
       "\\begin{tabular}{r|ccccc}\n",
       "\t& r & t & y & val & solvedtm\\\\\n",
       "\t\\hline\n",
       "\t& String? & String? & String? & Float64? & String?\\\\\n",
       "\t\\hline\n",
       "\\end{tabular}\n"
      ],
      "text/plain": [
       "\u001b[1m0×5 DataFrame\u001b[0m"
      ]
     },
     "execution_count": 18,
     "metadata": {},
     "output_type": "execute_result"
    }
   ],
   "source": [
    "get(dict_tables, \"vtotalcapacityannual\", nothing)"
   ]
  },
  {
   "cell_type": "code",
   "execution_count": 126,
   "metadata": {},
   "outputs": [
    {
     "data": {
      "text/html": [
       "<div class=\"data-frame\"><p>3 rows × 5 columns</p><table class=\"data-frame\"><thead><tr><th></th><th>id</th><th>r</th><th>f</th><th>y</th><th>val</th></tr><tr><th></th><th title=\"Int64\">Int64</th><th title=\"String\">String</th><th title=\"String\">String</th><th title=\"String\">String</th><th title=\"Float64\">Float64</th></tr></thead><tbody><tr><th>1</th><td>4</td><td>costa_rica</td><td>fuel_oil</td><td>1000</td><td>72.0</td></tr><tr><th>2</th><td>5</td><td>costa_rica</td><td>fuel_oil</td><td>1001</td><td>73.5</td></tr><tr><th>3</th><td>6</td><td>costa_rica</td><td>fuel_oil</td><td>1002</td><td>75.0</td></tr></tbody></table></div>"
      ],
      "text/latex": [
       "\\begin{tabular}{r|ccccc}\n",
       "\t& id & r & f & y & val\\\\\n",
       "\t\\hline\n",
       "\t& Int64 & String & String & String & Float64\\\\\n",
       "\t\\hline\n",
       "\t1 & 4 & costa\\_rica & fuel\\_oil & 1000 & 72.0 \\\\\n",
       "\t2 & 5 & costa\\_rica & fuel\\_oil & 1001 & 73.5 \\\\\n",
       "\t3 & 6 & costa\\_rica & fuel\\_oil & 1002 & 75.0 \\\\\n",
       "\\end{tabular}\n"
      ],
      "text/plain": [
       "\u001b[1m3×5 DataFrame\u001b[0m\n",
       "\u001b[1m Row \u001b[0m│\u001b[1m id    \u001b[0m\u001b[1m r          \u001b[0m\u001b[1m f        \u001b[0m\u001b[1m y      \u001b[0m\u001b[1m val     \u001b[0m\n",
       "\u001b[1m     \u001b[0m│\u001b[90m Int64 \u001b[0m\u001b[90m String     \u001b[0m\u001b[90m String   \u001b[0m\u001b[90m String \u001b[0m\u001b[90m Float64 \u001b[0m\n",
       "─────┼──────────────────────────────────────────────\n",
       "   1 │     4  costa_rica  fuel_oil  1000       72.0\n",
       "   2 │     5  costa_rica  fuel_oil  1001       73.5\n",
       "   3 │     6  costa_rica  fuel_oil  1002       75.0"
      ]
     },
     "execution_count": 126,
     "metadata": {},
     "output_type": "execute_result"
    }
   ],
   "source": [
    "filter(x -> (x[:f] != \"fuel_electricity\"), get(dict_tables, \"SpecifiedAnnualDemand\", nothing))"
   ]
  },
  {
   "cell_type": "code",
   "execution_count": 99,
   "metadata": {},
   "outputs": [
    {
     "data": {
      "text/plain": [
       "8-element Vector{String}:\n",
       " \"vdemandnn\"\n",
       " \"vnewcapacity\"\n",
       " \"vproductionbytechnologyannual\"\n",
       " \"vproductionnn\"\n",
       " \"vtotalcapacityannual\"\n",
       " \"vtotaldiscountedcost\"\n",
       " \"vusebytechnologyannual\"\n",
       " \"vusenn\""
      ]
     },
     "execution_count": 99,
     "metadata": {},
     "output_type": "execute_result"
    }
   ],
   "source": [
    "sort([x for x in keys(dict_tables) if String(x[1:1]) == \"v\"])\n"
   ]
  },
  {
   "cell_type": "code",
   "execution_count": 127,
   "metadata": {},
   "outputs": [
    {
     "data": {
      "text/html": [
       "<div class=\"data-frame\"><p>3 rows × 6 columns</p><table class=\"data-frame\"><thead><tr><th></th><th>id</th><th>r</th><th>t</th><th>f</th><th>y</th><th>val</th></tr><tr><th></th><th title=\"Int64\">Int64</th><th title=\"String\">String</th><th title=\"String\">String</th><th title=\"String\">String</th><th title=\"String\">String</th><th title=\"Float64\">Float64</th></tr></thead><tbody><tr><th>1</th><td>1</td><td>costa_rica</td><td>supply_fuel_oil_from_fuel_electricity</td><td>fuel_oil</td><td>1000</td><td>0.0</td></tr><tr><th>2</th><td>2</td><td>costa_rica</td><td>supply_fuel_oil_from_fuel_electricity</td><td>fuel_oil</td><td>1001</td><td>0.15</td></tr><tr><th>3</th><td>3</td><td>costa_rica</td><td>supply_fuel_oil_from_fuel_electricity</td><td>fuel_oil</td><td>1002</td><td>0.3</td></tr></tbody></table></div>"
      ],
      "text/latex": [
       "\\begin{tabular}{r|cccccc}\n",
       "\t& id & r & t & f & y & val\\\\\n",
       "\t\\hline\n",
       "\t& Int64 & String & String & String & String & Float64\\\\\n",
       "\t\\hline\n",
       "\t1 & 1 & costa\\_rica & supply\\_fuel\\_oil\\_from\\_fuel\\_electricity & fuel\\_oil & 1000 & 0.0 \\\\\n",
       "\t2 & 2 & costa\\_rica & supply\\_fuel\\_oil\\_from\\_fuel\\_electricity & fuel\\_oil & 1001 & 0.15 \\\\\n",
       "\t3 & 3 & costa\\_rica & supply\\_fuel\\_oil\\_from\\_fuel\\_electricity & fuel\\_oil & 1002 & 0.3 \\\\\n",
       "\\end{tabular}\n"
      ],
      "text/plain": [
       "\u001b[1m3×6 DataFrame\u001b[0m\n",
       "\u001b[1m Row \u001b[0m│\u001b[1m id    \u001b[0m\u001b[1m r          \u001b[0m\u001b[1m t                                 \u001b[0m\u001b[1m f        \u001b[0m\u001b[1m y      \u001b[0m\u001b[1m\u001b[0m ⋯\n",
       "\u001b[1m     \u001b[0m│\u001b[90m Int64 \u001b[0m\u001b[90m String     \u001b[0m\u001b[90m String                            \u001b[0m\u001b[90m String   \u001b[0m\u001b[90m String \u001b[0m\u001b[90m\u001b[0m ⋯\n",
       "─────┼──────────────────────────────────────────────────────────────────────────\n",
       "   1 │     1  costa_rica  supply_fuel_oil_from_fuel_electr…  fuel_oil  1000    ⋯\n",
       "   2 │     2  costa_rica  supply_fuel_oil_from_fuel_electr…  fuel_oil  1001\n",
       "   3 │     3  costa_rica  supply_fuel_oil_from_fuel_electr…  fuel_oil  1002\n",
       "\u001b[36m                                                                1 column omitted\u001b[0m"
      ]
     },
     "execution_count": 127,
     "metadata": {},
     "output_type": "execute_result"
    }
   ],
   "source": [
    "get(dict_tables, \"MinShareProduction\", nothing)"
   ]
  },
  {
   "cell_type": "code",
   "execution_count": 130,
   "metadata": {},
   "outputs": [
    {
     "data": {
      "text/html": [
       "<div class=\"data-frame\"><p>10 rows × 6 columns (omitted printing of 1 columns)</p><table class=\"data-frame\"><thead><tr><th></th><th>r</th><th>t</th><th>f</th><th>y</th><th>val</th></tr><tr><th></th><th title=\"String\">String</th><th title=\"String\">String</th><th title=\"String\">String</th><th title=\"String\">String</th><th title=\"Float64\">Float64</th></tr></thead><tbody><tr><th>1</th><td>costa_rica</td><td>supply_fuel_crude</td><td>fuel_crude</td><td>1002</td><td>3.15576e11</td></tr><tr><th>2</th><td>costa_rica</td><td>pp_hydropower</td><td>fuel_electricity</td><td>1002</td><td>13.7627</td></tr><tr><th>3</th><td>costa_rica</td><td>pp_solar</td><td>fuel_electricity</td><td>1002</td><td>1.21603</td></tr><tr><th>4</th><td>costa_rica</td><td>st_compressed_air</td><td>fuel_electricity</td><td>1002</td><td>14.9759</td></tr><tr><th>5</th><td>costa_rica</td><td>st_batteries</td><td>fuel_electricity</td><td>1002</td><td>14.9787</td></tr><tr><th>6</th><td>costa_rica</td><td>supply_fuel_oil_from_fuel_electricity</td><td>fuel_oil</td><td>1002</td><td>22.5</td></tr><tr><th>7</th><td>costa_rica</td><td>st_flywheels</td><td>fuel_electricity</td><td>1002</td><td>14.9787</td></tr><tr><th>8</th><td>costa_rica</td><td>supply_fuel_solar</td><td>fuel_solar</td><td>1002</td><td>4.8255</td></tr><tr><th>9</th><td>costa_rica</td><td>supply_fuel_oil</td><td>fuel_oil</td><td>1002</td><td>52.5</td></tr><tr><th>10</th><td>costa_rica</td><td>supply_fuel_hydropower</td><td>fuel_hydropower</td><td>1002</td><td>16.9422</td></tr></tbody></table></div>"
      ],
      "text/latex": [
       "\\begin{tabular}{r|cccccc}\n",
       "\t& r & t & f & y & val & \\\\\n",
       "\t\\hline\n",
       "\t& String & String & String & String & Float64 & \\\\\n",
       "\t\\hline\n",
       "\t1 & costa\\_rica & supply\\_fuel\\_crude & fuel\\_crude & 1002 & 3.15576e11 & $\\dots$ \\\\\n",
       "\t2 & costa\\_rica & pp\\_hydropower & fuel\\_electricity & 1002 & 13.7627 & $\\dots$ \\\\\n",
       "\t3 & costa\\_rica & pp\\_solar & fuel\\_electricity & 1002 & 1.21603 & $\\dots$ \\\\\n",
       "\t4 & costa\\_rica & st\\_compressed\\_air & fuel\\_electricity & 1002 & 14.9759 & $\\dots$ \\\\\n",
       "\t5 & costa\\_rica & st\\_batteries & fuel\\_electricity & 1002 & 14.9787 & $\\dots$ \\\\\n",
       "\t6 & costa\\_rica & supply\\_fuel\\_oil\\_from\\_fuel\\_electricity & fuel\\_oil & 1002 & 22.5 & $\\dots$ \\\\\n",
       "\t7 & costa\\_rica & st\\_flywheels & fuel\\_electricity & 1002 & 14.9787 & $\\dots$ \\\\\n",
       "\t8 & costa\\_rica & supply\\_fuel\\_solar & fuel\\_solar & 1002 & 4.8255 & $\\dots$ \\\\\n",
       "\t9 & costa\\_rica & supply\\_fuel\\_oil & fuel\\_oil & 1002 & 52.5 & $\\dots$ \\\\\n",
       "\t10 & costa\\_rica & supply\\_fuel\\_hydropower & fuel\\_hydropower & 1002 & 16.9422 & $\\dots$ \\\\\n",
       "\\end{tabular}\n"
      ],
      "text/plain": [
       "\u001b[1m10×6 DataFrame\u001b[0m\n",
       "\u001b[1m Row \u001b[0m│\u001b[1m r          \u001b[0m\u001b[1m t                                 \u001b[0m\u001b[1m f                \u001b[0m\u001b[1m y     \u001b[0m ⋯\n",
       "\u001b[1m     \u001b[0m│\u001b[90m String     \u001b[0m\u001b[90m String                            \u001b[0m\u001b[90m String           \u001b[0m\u001b[90m String\u001b[0m ⋯\n",
       "─────┼──────────────────────────────────────────────────────────────────────────\n",
       "   1 │ costa_rica  supply_fuel_crude                  fuel_crude        1002   ⋯\n",
       "   2 │ costa_rica  pp_hydropower                      fuel_electricity  1002\n",
       "   3 │ costa_rica  pp_solar                           fuel_electricity  1002\n",
       "   4 │ costa_rica  st_compressed_air                  fuel_electricity  1002\n",
       "   5 │ costa_rica  st_batteries                       fuel_electricity  1002   ⋯\n",
       "   6 │ costa_rica  supply_fuel_oil_from_fuel_electr…  fuel_oil          1002\n",
       "   7 │ costa_rica  st_flywheels                       fuel_electricity  1002\n",
       "   8 │ costa_rica  supply_fuel_solar                  fuel_solar        1002\n",
       "   9 │ costa_rica  supply_fuel_oil                    fuel_oil          1002   ⋯\n",
       "  10 │ costa_rica  supply_fuel_hydropower             fuel_hydropower   1002\n",
       "\u001b[36m                                                               2 columns omitted\u001b[0m"
      ]
     },
     "execution_count": 130,
     "metadata": {},
     "output_type": "execute_result"
    }
   ],
   "source": [
    "t1 = get(dict_tables, \"vproductionbytechnologyannual\", nothing)\n",
    "#filter(x -> (x[:t] == \"pp_oil\"), t1)\n",
    "filter(x -> (x[:y] == \"1002\"), t1)\n"
   ]
  },
  {
   "cell_type": "code",
   "execution_count": 139,
   "metadata": {},
   "outputs": [
    {
     "data": {
      "text/plain": [
       "724.8681"
      ]
     },
     "execution_count": 139,
     "metadata": {},
     "output_type": "execute_result"
    }
   ],
   "source": [
    "(24*365*0.75*0.085)*1.298"
   ]
  },
  {
   "cell_type": "code",
   "execution_count": 109,
   "metadata": {},
   "outputs": [
    {
     "data": {
      "text/plain": [
       "37.37555310931303"
      ]
     },
     "execution_count": 109,
     "metadata": {},
     "output_type": "execute_result"
    }
   ],
   "source": [
    "tab = filter(x -> ((x[:y] == \"1002\") & (x[:f] == \"fuel_electricity\")), t1)\n",
    "sum(tab[:, :val]) - 21.7722"
   ]
  },
  {
   "cell_type": "code",
   "execution_count": 67,
   "metadata": {},
   "outputs": [
    {
     "data": {
      "text/plain": [
       "93.01024999999998"
      ]
     },
     "execution_count": 67,
     "metadata": {},
     "output_type": "execute_result"
    }
   ],
   "source": [
    "t2 = get(dict_tables, \"InputActivityRatio\", nothing)\n",
    "filter(x -> ((x[:y] == \"1000\") & (x[:t] == \"pp_oil\")), t2)\n",
    "166.262 - 36.947*2.5\n",
    "37.2041*2.5"
   ]
  },
  {
   "cell_type": "code",
   "execution_count": 105,
   "metadata": {},
   "outputs": [
    {
     "data": {
      "text/html": [
       "<div class=\"data-frame\"><p>2 rows × 5 columns</p><table class=\"data-frame\"><thead><tr><th></th><th>id</th><th>r</th><th>f</th><th>y</th><th>val</th></tr><tr><th></th><th title=\"Int64\">Int64</th><th title=\"String\">String</th><th title=\"String\">String</th><th title=\"String\">String</th><th title=\"Float64\">Float64</th></tr></thead><tbody><tr><th>1</th><td>3</td><td>costa_rica</td><td>fuel_electricity</td><td>1002</td><td>36.287</td></tr><tr><th>2</th><td>6</td><td>costa_rica</td><td>fuel_oil</td><td>1002</td><td>72.5739</td></tr></tbody></table></div>"
      ],
      "text/latex": [
       "\\begin{tabular}{r|ccccc}\n",
       "\t& id & r & f & y & val\\\\\n",
       "\t\\hline\n",
       "\t& Int64 & String & String & String & Float64\\\\\n",
       "\t\\hline\n",
       "\t1 & 3 & costa\\_rica & fuel\\_electricity & 1002 & 36.287 \\\\\n",
       "\t2 & 6 & costa\\_rica & fuel\\_oil & 1002 & 72.5739 \\\\\n",
       "\\end{tabular}\n"
      ],
      "text/plain": [
       "\u001b[1m2×5 DataFrame\u001b[0m\n",
       "\u001b[1m Row \u001b[0m│\u001b[1m id    \u001b[0m\u001b[1m r          \u001b[0m\u001b[1m f                \u001b[0m\u001b[1m y      \u001b[0m\u001b[1m val     \u001b[0m\n",
       "\u001b[1m     \u001b[0m│\u001b[90m Int64 \u001b[0m\u001b[90m String     \u001b[0m\u001b[90m String           \u001b[0m\u001b[90m String \u001b[0m\u001b[90m Float64 \u001b[0m\n",
       "─────┼──────────────────────────────────────────────────────\n",
       "   1 │     3  costa_rica  fuel_electricity  1002    36.287\n",
       "   2 │     6  costa_rica  fuel_oil          1002    72.5739"
      ]
     },
     "execution_count": 105,
     "metadata": {},
     "output_type": "execute_result"
    }
   ],
   "source": [
    "t3 = get(dict_tables, \"SpecifiedAnnualDemand\", nothing)\n",
    "#filter(x -> ((x[:y] == \"1001\") & (x[:f] == \"fuel_oil\")), t3)\n",
    "filter(x -> ((x[:y] == \"1002\")), t3)\n"
   ]
  },
  {
   "cell_type": "code",
   "execution_count": 88,
   "metadata": {
    "collapsed": true,
    "jupyter": {
     "outputs_hidden": true
    }
   },
   "outputs": [
    {
     "name": "stdout",
     "output_type": "stream",
     "text": [
      "table_name: CapacityFactor"
     ]
    },
    {
     "data": {
      "text/html": [
       "<div class=\"data-frame\"><p>5,760 rows × 6 columns</p><table class=\"data-frame\"><thead><tr><th></th><th>id</th><th>r</th><th>t</th><th>l</th><th>y</th><th>val</th></tr><tr><th></th><th title=\"Int64\">Int64</th><th title=\"String\">String</th><th title=\"String\">String</th><th title=\"String\">String</th><th title=\"String\">String</th><th title=\"Float64\">Float64</th></tr></thead><tbody><tr><th>1</th><td>1</td><td>costa_rica</td><td>pp_geothermal</td><td>fallwd0</td><td>1000</td><td>0.72</td></tr><tr><th>2</th><td>2</td><td>costa_rica</td><td>pp_geothermal</td><td>fallwd0</td><td>1001</td><td>0.72</td></tr><tr><th>3</th><td>3</td><td>costa_rica</td><td>pp_geothermal</td><td>fallwd0</td><td>1002</td><td>0.72</td></tr><tr><th>4</th><td>4</td><td>costa_rica</td><td>pp_geothermal</td><td>fallwd0</td><td>1003</td><td>0.72</td></tr><tr><th>5</th><td>5</td><td>costa_rica</td><td>pp_geothermal</td><td>fallwd0</td><td>1004</td><td>0.72</td></tr><tr><th>6</th><td>6</td><td>costa_rica</td><td>pp_geothermal</td><td>fallwd0</td><td>1005</td><td>0.72</td></tr><tr><th>7</th><td>7</td><td>costa_rica</td><td>pp_geothermal</td><td>fallwd0</td><td>1006</td><td>0.72</td></tr><tr><th>8</th><td>8</td><td>costa_rica</td><td>pp_geothermal</td><td>fallwd0</td><td>1007</td><td>0.72</td></tr><tr><th>9</th><td>9</td><td>costa_rica</td><td>pp_geothermal</td><td>fallwd0</td><td>1008</td><td>0.72</td></tr><tr><th>10</th><td>10</td><td>costa_rica</td><td>pp_geothermal</td><td>fallwd0</td><td>1009</td><td>0.72</td></tr><tr><th>11</th><td>11</td><td>costa_rica</td><td>pp_geothermal</td><td>fallwd0</td><td>1010</td><td>0.72</td></tr><tr><th>12</th><td>12</td><td>costa_rica</td><td>pp_geothermal</td><td>fallwd0</td><td>1011</td><td>0.72</td></tr><tr><th>13</th><td>13</td><td>costa_rica</td><td>pp_geothermal</td><td>fallwd0</td><td>1012</td><td>0.72</td></tr><tr><th>14</th><td>14</td><td>costa_rica</td><td>pp_geothermal</td><td>fallwd0</td><td>1013</td><td>0.72</td></tr><tr><th>15</th><td>15</td><td>costa_rica</td><td>pp_geothermal</td><td>fallwd0</td><td>1014</td><td>0.72</td></tr><tr><th>16</th><td>16</td><td>costa_rica</td><td>pp_geothermal</td><td>fallwd0</td><td>1015</td><td>0.72</td></tr><tr><th>17</th><td>17</td><td>costa_rica</td><td>pp_geothermal</td><td>fallwd0</td><td>1016</td><td>0.72</td></tr><tr><th>18</th><td>18</td><td>costa_rica</td><td>pp_geothermal</td><td>fallwd0</td><td>1017</td><td>0.72</td></tr><tr><th>19</th><td>19</td><td>costa_rica</td><td>pp_geothermal</td><td>fallwd0</td><td>1018</td><td>0.72</td></tr><tr><th>20</th><td>20</td><td>costa_rica</td><td>pp_geothermal</td><td>fallwd0</td><td>1019</td><td>0.72</td></tr><tr><th>21</th><td>21</td><td>costa_rica</td><td>pp_geothermal</td><td>fallwd0</td><td>1020</td><td>0.72</td></tr><tr><th>22</th><td>22</td><td>costa_rica</td><td>pp_geothermal</td><td>fallwd0</td><td>1021</td><td>0.72</td></tr><tr><th>23</th><td>23</td><td>costa_rica</td><td>pp_geothermal</td><td>fallwd0</td><td>1022</td><td>0.72</td></tr><tr><th>24</th><td>24</td><td>costa_rica</td><td>pp_geothermal</td><td>fallwd0</td><td>1023</td><td>0.72</td></tr><tr><th>25</th><td>25</td><td>costa_rica</td><td>pp_geothermal</td><td>fallwd0</td><td>1024</td><td>0.72</td></tr><tr><th>26</th><td>26</td><td>costa_rica</td><td>pp_geothermal</td><td>fallwd0</td><td>1025</td><td>0.72</td></tr><tr><th>27</th><td>27</td><td>costa_rica</td><td>pp_geothermal</td><td>fallwd0</td><td>1026</td><td>0.72</td></tr><tr><th>28</th><td>28</td><td>costa_rica</td><td>pp_geothermal</td><td>fallwd0</td><td>1027</td><td>0.72</td></tr><tr><th>29</th><td>29</td><td>costa_rica</td><td>pp_geothermal</td><td>fallwd0</td><td>1028</td><td>0.72</td></tr><tr><th>30</th><td>30</td><td>costa_rica</td><td>pp_geothermal</td><td>fallwd0</td><td>1029</td><td>0.72</td></tr><tr><th>&vellip;</th><td>&vellip;</td><td>&vellip;</td><td>&vellip;</td><td>&vellip;</td><td>&vellip;</td><td>&vellip;</td></tr></tbody></table></div>"
      ],
      "text/latex": [
       "\\begin{tabular}{r|cccccc}\n",
       "\t& id & r & t & l & y & val\\\\\n",
       "\t\\hline\n",
       "\t& Int64 & String & String & String & String & Float64\\\\\n",
       "\t\\hline\n",
       "\t1 & 1 & costa\\_rica & pp\\_geothermal & fallwd0 & 1000 & 0.72 \\\\\n",
       "\t2 & 2 & costa\\_rica & pp\\_geothermal & fallwd0 & 1001 & 0.72 \\\\\n",
       "\t3 & 3 & costa\\_rica & pp\\_geothermal & fallwd0 & 1002 & 0.72 \\\\\n",
       "\t4 & 4 & costa\\_rica & pp\\_geothermal & fallwd0 & 1003 & 0.72 \\\\\n",
       "\t5 & 5 & costa\\_rica & pp\\_geothermal & fallwd0 & 1004 & 0.72 \\\\\n",
       "\t6 & 6 & costa\\_rica & pp\\_geothermal & fallwd0 & 1005 & 0.72 \\\\\n",
       "\t7 & 7 & costa\\_rica & pp\\_geothermal & fallwd0 & 1006 & 0.72 \\\\\n",
       "\t8 & 8 & costa\\_rica & pp\\_geothermal & fallwd0 & 1007 & 0.72 \\\\\n",
       "\t9 & 9 & costa\\_rica & pp\\_geothermal & fallwd0 & 1008 & 0.72 \\\\\n",
       "\t10 & 10 & costa\\_rica & pp\\_geothermal & fallwd0 & 1009 & 0.72 \\\\\n",
       "\t11 & 11 & costa\\_rica & pp\\_geothermal & fallwd0 & 1010 & 0.72 \\\\\n",
       "\t12 & 12 & costa\\_rica & pp\\_geothermal & fallwd0 & 1011 & 0.72 \\\\\n",
       "\t13 & 13 & costa\\_rica & pp\\_geothermal & fallwd0 & 1012 & 0.72 \\\\\n",
       "\t14 & 14 & costa\\_rica & pp\\_geothermal & fallwd0 & 1013 & 0.72 \\\\\n",
       "\t15 & 15 & costa\\_rica & pp\\_geothermal & fallwd0 & 1014 & 0.72 \\\\\n",
       "\t16 & 16 & costa\\_rica & pp\\_geothermal & fallwd0 & 1015 & 0.72 \\\\\n",
       "\t17 & 17 & costa\\_rica & pp\\_geothermal & fallwd0 & 1016 & 0.72 \\\\\n",
       "\t18 & 18 & costa\\_rica & pp\\_geothermal & fallwd0 & 1017 & 0.72 \\\\\n",
       "\t19 & 19 & costa\\_rica & pp\\_geothermal & fallwd0 & 1018 & 0.72 \\\\\n",
       "\t20 & 20 & costa\\_rica & pp\\_geothermal & fallwd0 & 1019 & 0.72 \\\\\n",
       "\t21 & 21 & costa\\_rica & pp\\_geothermal & fallwd0 & 1020 & 0.72 \\\\\n",
       "\t22 & 22 & costa\\_rica & pp\\_geothermal & fallwd0 & 1021 & 0.72 \\\\\n",
       "\t23 & 23 & costa\\_rica & pp\\_geothermal & fallwd0 & 1022 & 0.72 \\\\\n",
       "\t24 & 24 & costa\\_rica & pp\\_geothermal & fallwd0 & 1023 & 0.72 \\\\\n",
       "\t25 & 25 & costa\\_rica & pp\\_geothermal & fallwd0 & 1024 & 0.72 \\\\\n",
       "\t26 & 26 & costa\\_rica & pp\\_geothermal & fallwd0 & 1025 & 0.72 \\\\\n",
       "\t27 & 27 & costa\\_rica & pp\\_geothermal & fallwd0 & 1026 & 0.72 \\\\\n",
       "\t28 & 28 & costa\\_rica & pp\\_geothermal & fallwd0 & 1027 & 0.72 \\\\\n",
       "\t29 & 29 & costa\\_rica & pp\\_geothermal & fallwd0 & 1028 & 0.72 \\\\\n",
       "\t30 & 30 & costa\\_rica & pp\\_geothermal & fallwd0 & 1029 & 0.72 \\\\\n",
       "\t$\\dots$ & $\\dots$ & $\\dots$ & $\\dots$ & $\\dots$ & $\\dots$ & $\\dots$ \\\\\n",
       "\\end{tabular}\n"
      ],
      "text/plain": [
       "\u001b[1m5760×6 DataFrame\u001b[0m\n",
       "\u001b[1m  Row \u001b[0m│\u001b[1m id    \u001b[0m\u001b[1m r          \u001b[0m\u001b[1m t             \u001b[0m\u001b[1m l         \u001b[0m\u001b[1m y      \u001b[0m\u001b[1m val     \u001b[0m\n",
       "\u001b[1m      \u001b[0m│\u001b[90m Int64 \u001b[0m\u001b[90m String     \u001b[0m\u001b[90m String        \u001b[0m\u001b[90m String    \u001b[0m\u001b[90m String \u001b[0m\u001b[90m Float64 \u001b[0m\n",
       "──────┼──────────────────────────────────────────────────────────────\n",
       "    1 │     1  costa_rica  pp_geothermal  fallwd0    1000    0.72\n",
       "    2 │     2  costa_rica  pp_geothermal  fallwd0    1001    0.72\n",
       "    3 │     3  costa_rica  pp_geothermal  fallwd0    1002    0.72\n",
       "    4 │     4  costa_rica  pp_geothermal  fallwd0    1003    0.72\n",
       "    5 │     5  costa_rica  pp_geothermal  fallwd0    1004    0.72\n",
       "    6 │     6  costa_rica  pp_geothermal  fallwd0    1005    0.72\n",
       "    7 │     7  costa_rica  pp_geothermal  fallwd0    1006    0.72\n",
       "    8 │     8  costa_rica  pp_geothermal  fallwd0    1007    0.72\n",
       "    9 │     9  costa_rica  pp_geothermal  fallwd0    1008    0.72\n",
       "   10 │    10  costa_rica  pp_geothermal  fallwd0    1009    0.72\n",
       "   11 │    11  costa_rica  pp_geothermal  fallwd0    1010    0.72\n",
       "  ⋮   │   ⋮        ⋮             ⋮            ⋮        ⋮        ⋮\n",
       " 5751 │  5751  costa_rica  pp_wind        winterwe6  1026    0.87875\n",
       " 5752 │  5752  costa_rica  pp_wind        winterwe6  1027    0.87875\n",
       " 5753 │  5753  costa_rica  pp_wind        winterwe6  1028    0.87875\n",
       " 5754 │  5754  costa_rica  pp_wind        winterwe6  1029    0.87875\n",
       " 5755 │  5755  costa_rica  pp_wind        winterwe6  1030    0.87875\n",
       " 5756 │  5756  costa_rica  pp_wind        winterwe6  1031    0.87875\n",
       " 5757 │  5757  costa_rica  pp_wind        winterwe6  1032    0.87875\n",
       " 5758 │  5758  costa_rica  pp_wind        winterwe6  1033    0.87875\n",
       " 5759 │  5759  costa_rica  pp_wind        winterwe6  1034    0.87875\n",
       " 5760 │  5760  costa_rica  pp_wind        winterwe6  1035    0.87875\n",
       "\u001b[36m                                                    5739 rows omitted\u001b[0m"
      ]
     },
     "execution_count": 88,
     "metadata": {},
     "output_type": "execute_result"
    }
   ],
   "source": [
    "i = 37\n",
    "print(\"table_name: $(tabs_populated[i])\")\n",
    "df_cur = get(dict_tables, tabs_populated[i], nothing);\n",
    "df_cur"
   ]
  },
  {
   "cell_type": "code",
   "execution_count": null,
   "metadata": {},
   "outputs": [],
   "source": []
  },
  {
   "cell_type": "code",
   "execution_count": 8,
   "metadata": {},
   "outputs": [],
   "source": [
    "#DBInterface.execute(db, \"select * from $(table_name)\") |> DataFrame\n",
    "#sort(collect(keys(dict_tables)))\n",
    "#get(dict_tables, \"CapacityFactor\", nothing)"
   ]
  },
  {
   "cell_type": "code",
   "execution_count": 22,
   "metadata": {},
   "outputs": [
    {
     "data": {
      "text/html": [
       "<div class=\"data-frame\"><p>0 rows × 5 columns</p><table class=\"data-frame\"><thead><tr><th></th><th>id</th><th>r</th><th>s</th><th>y</th><th>val</th></tr><tr><th></th><th title=\"Union{Missing, Int64}\">Int64?</th><th title=\"Union{Missing, String}\">String?</th><th title=\"Union{Missing, String}\">String?</th><th title=\"Union{Missing, String}\">String?</th><th title=\"Union{Missing, Float64}\">Float64?</th></tr></thead><tbody></tbody></table></div>"
      ],
      "text/latex": [
       "\\begin{tabular}{r|ccccc}\n",
       "\t& id & r & s & y & val\\\\\n",
       "\t\\hline\n",
       "\t& Int64? & String? & String? & String? & Float64?\\\\\n",
       "\t\\hline\n",
       "\\end{tabular}\n"
      ],
      "text/plain": [
       "\u001b[1m0×5 DataFrame\u001b[0m"
      ]
     },
     "execution_count": 22,
     "metadata": {},
     "output_type": "execute_result"
    }
   ],
   "source": [
    "DBInterface.execute(db, \"select * from CapitalCostStorage where (id in (1, 2, 3)) and (y in ('1005'))\") |> DataFrame"
   ]
  },
  {
   "cell_type": "code",
   "execution_count": 91,
   "metadata": {},
   "outputs": [
    {
     "data": {
      "text/plain": [
       "\"/Users/jsyme/.julia/packages/NemoMod/vg6Tx/test/storage_test.sqlite\""
      ]
     },
     "execution_count": 91,
     "metadata": {},
     "output_type": "execute_result"
    }
   ],
   "source": [
    "fp_test = normpath(joinpath(pathof(NemoMod), \"..\", \"..\", \"test\", \"storage_test.sqlite\"))\n"
   ]
  },
  {
   "cell_type": "code",
   "execution_count": 115,
   "metadata": {},
   "outputs": [
    {
     "name": "stdout",
     "output_type": "stream",
     "text": [
      "2022-31-Oct 06:35:20.388 Started modeling scenario.\n",
      "2022-31-Oct 06:35:20.389 Validated run-time arguments.\n",
      "2022-31-Oct 06:35:20.392 Connected to scenario database. Path = /Users/jsyme/Documents/Projects/git_jbus/lac_decarbonization/tmp/nemomod_intermediate_database.sqlite.\n",
      "2022-31-Oct 06:35:20.399 Dropped pre-existing result tables from database.\n",
      "2022-31-Oct 06:35:20.399 Verified that transmission modeling is not enabled.\n",
      "2022-31-Oct 06:35:20.482 Created parameter views and indices.\n",
      "2022-31-Oct 06:35:20.487 Created temporary tables.\n",
      "2022-31-Oct 06:35:22.241 Executed core database queries.\n",
      "2022-31-Oct 06:35:22.245 Defined dimensions.\n",
      "2022-31-Oct 06:35:22.264 Defined demand variables.\n",
      "2022-31-Oct 06:35:22.277 Defined storage variables.\n",
      "2022-31-Oct 06:35:22.279 Defined capacity variables.\n",
      "2022-31-Oct 06:35:25.271 Defined activity variables.\n",
      "2022-31-Oct 06:35:25.275 Defined costing variables.\n",
      "2022-31-Oct 06:35:25.276 Defined reserve margin variables.\n",
      "2022-31-Oct 06:35:25.302 Defined emissions variables.\n",
      "2022-31-Oct 06:35:25.302 Defined combined nodal and non-nodal variables.\n",
      "2022-31-Oct 06:35:25.302 Finished defining model variables.\n",
      "2022-31-Oct 06:35:25.302 Scheduled task to add constraints to model.\n",
      "2022-31-Oct 06:35:25.303 Queued constraint CAa1_TotalNewCapacity for creation.\n",
      "2022-31-Oct 06:35:25.385 Queued constraint CAa2_TotalAnnualCapacity for creation.\n",
      "2022-31-Oct 06:35:25.390 Queued constraint VRateOfActivity1 for creation.\n",
      "2022-31-Oct 06:35:25.391 Queued constraint RampRate for creation.\n",
      "2022-31-Oct 06:35:25.392 Queued constraint CAa3_TotalActivityOfEachTechnology for creation.\n",
      "2022-31-Oct 06:35:25.518 Queued constraint CAa4_Constraint_Capacity for creation.\n",
      "2022-31-Oct 06:35:25.520 Queued constraint MinimumTechnologyUtilization for creation.\n",
      "2022-31-Oct 06:35:25.520 Queued constraint EBa2_RateOfFuelProduction2 for creation.\n",
      "2022-31-Oct 06:35:25.773 Queued constraint GenerationAnnualNN for creation.\n",
      "2022-31-Oct 06:35:25.773 Queued constraint ReGenerationAnnualNN for creation.\n",
      "2022-31-Oct 06:35:25.774 Queued constraint EBa3_RateOfFuelProduction3 for creation.\n",
      "2022-31-Oct 06:35:25.936 Queued constraint VRateOfProduction1 for creation.\n",
      "2022-31-Oct 06:35:25.972 Queued constraint EBa5_RateOfFuelUse2 for creation.\n",
      "2022-31-Oct 06:35:26.744 Queued constraint EBa6_RateOfFuelUse3 for creation.\n",
      "2022-31-Oct 06:35:26.800 Queued constraint VRateOfUse1 for creation.\n",
      "2022-31-Oct 06:35:26.834 Queued constraint EBa7_EnergyBalanceEachTS1 for creation.\n",
      "2022-31-Oct 06:35:27.042 Queued constraint EBa8_EnergyBalanceEachTS2 for creation.\n",
      "2022-31-Oct 06:35:27.042 Queued constraint EBa9_EnergyBalanceEachTS3 for creation.\n",
      "2022-31-Oct 06:35:27.045 Queued constraint EBa11_EnergyBalanceEachTS5 for creation.\n",
      "2022-31-Oct 06:35:27.212 Queued constraint EBb0_EnergyBalanceEachYear for creation.\n",
      "2022-31-Oct 06:35:27.224 Queued constraint EBb1_EnergyBalanceEachYear for creation.\n",
      "2022-31-Oct 06:35:27.236 Queued constraint EBb2_EnergyBalanceEachYear for creation.\n",
      "2022-31-Oct 06:35:27.249 Queued constraint EBb3_EnergyBalanceEachYear for creation.\n",
      "2022-31-Oct 06:35:27.249 Queued constraint EBb5_EnergyBalanceEachYear for creation.\n",
      "2022-31-Oct 06:35:27.254 Queued constraint Acc3_AverageAnnualRateOfActivity for creation.\n",
      "2022-31-Oct 06:35:27.476 Queued constraint NS1_RateOfStorageCharge for creation.\n",
      "2022-31-Oct 06:35:27.655 Queued constraint NS2_RateOfStorageDischarge for creation.\n",
      "2022-31-Oct 06:35:27.689 Queued constraint NS3_StorageLevelTsGroup1Start for creation.\n",
      "2022-31-Oct 06:35:27.741 Queued constraint NS4_StorageLevelTsGroup2Start for creation.\n",
      "2022-31-Oct 06:35:27.742 Queued constraint NS5_StorageLevelTimesliceEnd for creation.\n",
      "2022-31-Oct 06:35:27.742 Queued constraint NS6_StorageLevelTsGroup2End for creation.\n",
      "2022-31-Oct 06:35:27.759 Queued constraint NS6a_StorageLevelTsGroup2NetZero for creation.\n",
      "2022-31-Oct 06:35:27.759 Queued constraint NS7_StorageLevelTsGroup1End for creation.\n",
      "2022-31-Oct 06:35:27.766 Queued constraint NS7a_StorageLevelTsGroup1NetZero for creation.\n",
      "2022-31-Oct 06:35:27.766 Queued constraint NS8_StorageLevelYearEnd for creation.\n",
      "2022-31-Oct 06:35:27.818 Queued constraint NS8a_StorageLevelYearEndNetZero for creation.\n",
      "2022-31-Oct 06:35:27.818 Queued constraint SI1_StorageUpperLimit for creation.\n",
      "2022-31-Oct 06:35:27.818 Queued constraint SI2_StorageLowerLimit for creation.\n",
      "2022-31-Oct 06:35:27.819 Queued constraint SI3_TotalNewStorage for creation.\n",
      "2022-31-Oct 06:35:27.828 Queued constraint NS9a_StorageLevelTsLowerLimit for creation.\n",
      "2022-31-Oct 06:35:27.849 Queued constraint NS9b_StorageLevelTsUpperLimit for creation.\n",
      "2022-31-Oct 06:35:27.849 Queued constraint NS10_StorageChargeLimit for creation.\n",
      "2022-31-Oct 06:35:27.849 Queued constraint NS11_StorageDischargeLimit for creation.\n",
      "2022-31-Oct 06:35:27.849 Queued constraint NS12a_StorageLevelTsGroup2LowerLimit for creation.\n",
      "2022-31-Oct 06:35:27.856 Queued constraint NS12b_StorageLevelTsGroup2UpperLimit for creation.\n",
      "2022-31-Oct 06:35:27.856 Queued constraint NS13a_StorageLevelTsGroup1LowerLimit for creation.\n",
      "2022-31-Oct 06:35:27.859 Queued constraint NS13b_StorageLevelTsGroup1UpperLimit for creation.\n",
      "2022-31-Oct 06:35:27.859 Queued constraint NS14_MaxStorageCapacity for creation.\n",
      "2022-31-Oct 06:35:27.859 Queued constraint NS15_MinStorageCapacity for creation.\n",
      "2022-31-Oct 06:35:27.859 Queued constraint NS16_MaxStorageCapacityInvestment for creation.\n",
      "2022-31-Oct 06:35:27.859 Queued constraint NS17_MinStorageCapacityInvestment for creation.\n",
      "2022-31-Oct 06:35:27.859 Queued constraint NS18_FullLoadHours for creation.\n",
      "2022-31-Oct 06:35:27.860 Queued constraint SI4a_FinancingStorage for creation.\n",
      "2022-31-Oct 06:35:27.860 Queued constraint SI4_UndiscountedCapitalInvestmentStorage for creation.\n",
      "2022-31-Oct 06:35:27.861 Queued constraint SI5_DiscountingCapitalInvestmentStorage for creation.\n",
      "2022-31-Oct 06:35:27.861 Queued constraint SI6_SalvageValueStorageAtEndOfPeriod1 for creation.\n",
      "2022-31-Oct 06:35:27.861 Queued constraint SI7_SalvageValueStorageAtEndOfPeriod2 for creation.\n",
      "2022-31-Oct 06:35:27.861 Queued constraint SI8_SalvageValueStorageAtEndOfPeriod3 for creation.\n",
      "2022-31-Oct 06:35:27.862 Queued constraint SI9_SalvageValueStorageDiscountedToStartYear for creation.\n",
      "2022-31-Oct 06:35:27.862 Queued constraint SI10_TotalDiscountedCostByStorage for creation.\n",
      "2022-31-Oct 06:35:27.862 Queued constraint CC1a_FinancingTechnology for creation.\n",
      "2022-31-Oct 06:35:27.862 Queued constraint CC1_UndiscountedCapitalInvestment for creation.\n",
      "2022-31-Oct 06:35:27.865 Queued constraint CC2_DiscountingCapitalInvestment for creation.\n",
      "2022-31-Oct 06:35:27.865 Queued constraint SV1_SalvageValueAtEndOfPeriod1 for creation.\n",
      "2022-31-Oct 06:35:27.866 Queued constraint SV2_SalvageValueAtEndOfPeriod2 for creation.\n",
      "2022-31-Oct 06:35:27.866 Queued constraint SV3_SalvageValueAtEndOfPeriod3 for creation.\n",
      "2022-31-Oct 06:35:27.867 Queued constraint SV4_SalvageValueDiscountedToStartYear for creation.\n",
      "2022-31-Oct 06:35:27.867 Queued constraint OC1_OperatingCostsVariable for creation.\n",
      "2022-31-Oct 06:35:27.870 Queued constraint OC2_OperatingCostsFixedAnnual for creation.\n",
      "2022-31-Oct 06:35:27.873 Queued constraint OC3_OperatingCostsTotalAnnual for creation.\n",
      "2022-31-Oct 06:35:27.874 Queued constraint OC4_DiscountedOperatingCostsTotalAnnual for creation.\n",
      "2022-31-Oct 06:35:27.874 Queued constraint TDC1_TotalDiscountedCostByTechnology for creation.\n",
      "2022-31-Oct 06:35:27.876 Queued constraint TDC2_TotalDiscountedCost for creation.\n",
      "2022-31-Oct 06:35:27.876 Queued constraint TCC1_TotalAnnualMaxCapacityConstraint for creation.\n",
      "2022-31-Oct 06:35:27.876 Queued constraint TCC2_TotalAnnualMinCapacityConstraint for creation.\n",
      "2022-31-Oct 06:35:27.876 Queued constraint NCC1_TotalAnnualMaxNewCapacityConstraint for creation.\n",
      "2022-31-Oct 06:35:27.877 Queued constraint NCC2_TotalAnnualMinNewCapacityConstraint for creation.\n",
      "2022-31-Oct 06:35:27.877 Queued constraint AAC1_TotalAnnualTechnologyActivity for creation.\n",
      "2022-31-Oct 06:35:28.030 Queued constraint AAC3_TotalAnnualTechnologyActivityLowerLimit for creation.\n",
      "2022-31-Oct 06:35:28.032 Queued constraint RM1_ReserveMargin_TechnologiesIncluded_In_Activity_Units for creation.\n",
      "2022-31-Oct 06:35:28.033 Queued constraint RM2_ReserveMargin_FuelsIncluded for creation.\n",
      "2022-31-Oct 06:35:28.041 Queued constraint RM3_ReserveMargin_Constraint for creation.\n",
      "2022-31-Oct 06:35:28.047 Queued constraint RE1_FuelProductionByTechnologyAnnual for creation.\n",
      "2022-31-Oct 06:35:28.379 Queued constraint FuelUseByTechnologyAnnual for creation.\n",
      "2022-31-Oct 06:35:28.422 Queued constraint RE2_ProductionTarget for creation.\n",
      "2022-31-Oct 06:35:28.423 Queued constraint MinShareProduction for creation.\n",
      "2022-31-Oct 06:35:28.423 Queued constraint E2a_AnnualEmissionProduction for creation.\n",
      "2022-31-Oct 06:35:28.427 Queued constraint E2b_AnnualEmissionProduction for creation.\n",
      "2022-31-Oct 06:35:28.561 Queued constraint E4_EmissionsPenaltyByTechnology for creation.\n",
      "2022-31-Oct 06:35:28.573 Queued constraint E5_DiscountedEmissionsPenaltyByTechnology for creation.\n",
      "2022-31-Oct 06:35:28.638 Queued constraint E6_EmissionsAccounting1 for creation.\n",
      "2022-31-Oct 06:35:28.646 Queued constraint E7_EmissionsAccounting2 for creation.\n",
      "2022-31-Oct 06:35:28.646 Queued constraint E8_AnnualEmissionsLimit for creation.\n",
      "2022-31-Oct 06:35:28.646 Queued constraint E9_ModelPeriodEmissionsLimit for creation.\n",
      "2022-31-Oct 06:35:28.646 Queued 94 standard constraints for creation.\n",
      "2022-31-Oct 06:35:28.646 Finished scheduled task to add constraints to model.\n",
      "2022-31-Oct 06:35:28.647 Added 94 standard constraints to model.\n",
      "2022-31-Oct 06:35:28.647 Defined model objective.\n",
      "Gurobi Optimizer version 9.5.2 build v9.5.2rc0 (mac64[x86])\n",
      "Thread count: 6 physical cores, 12 logical processors, using up to 12 threads\n",
      "Optimize a model with 313397 rows, 356030 columns and 914328 nonzeros\n",
      "Model fingerprint: 0xc39cf451\n",
      "Coefficient statistics:\n",
      "  Matrix range     [1e-07, 3e+06]\n",
      "  Objective range  [1e+00, 1e+00]\n",
      "  Bounds range     [0e+00, 0e+00]\n",
      "  RHS range        [1e-02, 1e+03]\n",
      "Warning: Model contains large matrix coefficient range\n",
      "         Consider reformulating model or setting NumericFocus parameter\n",
      "         to avoid numerical issues.\n",
      "\n",
      "Concurrent LP optimizer: primal simplex, dual simplex, and barrier\n",
      "Showing barrier log only...\n",
      "\n",
      "Presolve time: 0.28s\n",
      "\n",
      "Solved with dual simplex\n",
      "Solved in 0 iterations and 0.28 seconds (0.03 work units)\n",
      "Infeasible or unbounded model\n",
      "\n",
      "User-callback calls 23, time in user-callback 0.00 sec\n",
      "2022-31-Oct 06:35:30.378 Solved model. Solver status = INFEASIBLE_OR_UNBOUNDED.\n",
      "2022-31-Oct 06:35:30.378 Solver did not find an optimal solution for model. No results will be saved to database.\n",
      "2022-31-Oct 06:35:30.382 Dropped temporary tables.\n",
      "2022-31-Oct 06:35:30.382 Finished modeling scenario.\n",
      "  9.994092 seconds (38.75 M allocations: 1.910 GiB, 27.64% gc time)\n"
     ]
    },
    {
     "data": {
      "text/plain": [
       "INFEASIBLE_OR_UNBOUNDED::TerminationStatusCode = 6"
      ]
     },
     "execution_count": 115,
     "metadata": {},
     "output_type": "execute_result"
    }
   ],
   "source": [
    "\n",
    "model = Model(Gurobi.Optimizer)\n",
    "#set_optimizer_attribute(model, \"Solver\", \"cplex\")\n",
    "@time NemoMod.calculatescenario(\n",
    "    fp_sqlite_nemomod_db_tmp; \n",
    "    jumpmodel = model,\n",
    "    numprocs = 1\n",
    ")"
   ]
  },
  {
   "cell_type": "code",
   "execution_count": 114,
   "metadata": {},
   "outputs": [
    {
     "data": {
      "text/plain": [
       "Model"
      ]
     },
     "execution_count": 114,
     "metadata": {},
     "output_type": "execute_result"
    }
   ],
   "source": [
    "typeof(model)"
   ]
  },
  {
   "cell_type": "code",
   "execution_count": null,
   "metadata": {},
   "outputs": [],
   "source": []
  },
  {
   "cell_type": "code",
   "execution_count": 106,
   "metadata": {},
   "outputs": [
    {
     "name": "stdout",
     "output_type": "stream",
     "text": [
      "IIS runtime: 0.02 seconds (0.00 work units)\n"
     ]
    },
    {
     "ename": "LoadError",
     "evalue": "Gurobi Error 10015: Cannot compute IIS on a feasible model",
     "output_type": "error",
     "traceback": [
      "Gurobi Error 10015: Cannot compute IIS on a feasible model",
      "",
      "Stacktrace:",
      " [1] _check_ret",
      "   @ ~/.julia/packages/Gurobi/VPomg/src/MOI_wrapper/MOI_wrapper.jl:368 [inlined]",
      " [2] compute_conflict!(model::Gurobi.Optimizer)",
      "   @ Gurobi ~/.julia/packages/Gurobi/VPomg/src/MOI_wrapper/MOI_wrapper.jl:3687",
      " [3] top-level scope",
      "   @ In[106]:1",
      " [4] eval",
      "   @ ./boot.jl:368 [inlined]",
      " [5] include_string(mapexpr::typeof(REPL.softscope), mod::Module, code::String, filename::String)",
      "   @ Base ./loading.jl:1428"
     ]
    }
   ],
   "source": [
    "MOI.compute_conflict!(model.moi_backend.optimizer.model)\n",
    "MOI.get(model.moi_backend, Gurobi.ConstraintConflictStatus(), con1.index)\n",
    "\n"
   ]
  },
  {
   "cell_type": "code",
   "execution_count": null,
   "metadata": {},
   "outputs": [],
   "source": []
  },
  {
   "cell_type": "code",
   "execution_count": null,
   "metadata": {},
   "outputs": [],
   "source": []
  }
 ],
 "metadata": {
  "kernelspec": {
   "display_name": "Julia 10 Threads 1.8.2",
   "language": "julia",
   "name": "julia-10-threads-1.8"
  },
  "language_info": {
   "file_extension": ".jl",
   "mimetype": "application/julia",
   "name": "julia",
   "version": "1.8.2"
  }
 },
 "nbformat": 4,
 "nbformat_minor": 4
}
