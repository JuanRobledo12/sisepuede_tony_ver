{
 "cells": [
  {
   "cell_type": "markdown",
   "metadata": {},
   "source": [
    "# Work with transformations in a notebook\n",
    "\n"
   ]
  },
  {
   "cell_type": "code",
   "execution_count": 7,
   "metadata": {},
   "outputs": [],
   "source": [
    "\n",
    "import importlib # needed so that we can reload packages\n",
    "import matplotlib.pyplot as plt\n",
    "import os, os.path\n",
    "import numpy as np\n",
    "import pandas as pd\n",
    "import pathlib\n",
    "import sys\n",
    "import time\n",
    "from typing import Union\n",
    "import warnings\n",
    "warnings.filterwarnings(\"ignore\")\n",
    "\n",
    "# add SISEPUEDE to path\n",
    "dir_py = pathlib.Path(os.path.realpath(\".\")).parents[1]\n",
    "if str(dir_py) not in sys.path:\n",
    "    sys.path.append(str(dir_py))\n",
    "\n",
    "    \n",
    "##  IMPORT SISEPUEDE PACKAGES\n",
    "\n",
    "import sisepuede.transformers.strategies as st\n",
    "import sisepuede.transformers.transformers as trs\n",
    "import sisepuede.transformers.transformations as trn\n",
    "\n",
    "\n",
    "\n",
    "\n",
    "\n",
    "\n"
   ]
  },
  {
   "cell_type": "code",
   "execution_count": null,
   "metadata": {},
   "outputs": [],
   "source": []
  },
  {
   "cell_type": "markdown",
   "metadata": {},
   "source": [
    "# Transformations: what are they?\n",
    "\n",
    "Transformations are well-defined in the SISEPUEDE ecosystem. A ``Transformation`` is a parameterization of a``Transformer``. Both are classes in SISEPUEDE, with ``Transformations`` and ``Transformers`` acting as collections of these classes, respectively. Each ``Transformer`` class is a function that modifies trajectories to reflect policy outcomes; documentation for each of the 60+ functions is available on readthedocs. \n",
    "\n",
    "``Transformation`` objects allow users to define parameterizations of ``Transformer`` objects using configuration files in a directory. This directory contains a configuration for:\n",
    "\n",
    "1. All transformations\n",
    "1. General configuraiton and information on the baseline\n",
    "1. The strategy definition file, which combines transformations\n",
    "\n",
    "\n",
    "\n",
    "See sisepuede.readthedocs.io for more information on transformations, transformers, and strategies.\n",
    "\n"
   ]
  },
  {
   "cell_type": "markdown",
   "metadata": {},
   "source": [
    "# Let's explore the functions that underly all transformations: ``Transformers``"
   ]
  },
  {
   "cell_type": "code",
   "execution_count": 12,
   "metadata": {},
   "outputs": [
    {
     "data": {
      "text/plain": [
       "\u001b[0;31mInit signature:\u001b[0m\n",
       "\u001b[0mtrs\u001b[0m\u001b[0;34m.\u001b[0m\u001b[0mTransformers\u001b[0m\u001b[0;34m(\u001b[0m\u001b[0;34m\u001b[0m\n",
       "\u001b[0;34m\u001b[0m    \u001b[0mdict_config\u001b[0m\u001b[0;34m:\u001b[0m \u001b[0mDict\u001b[0m\u001b[0;34m,\u001b[0m\u001b[0;34m\u001b[0m\n",
       "\u001b[0;34m\u001b[0m    \u001b[0mcode_baseline\u001b[0m\u001b[0;34m:\u001b[0m \u001b[0mstr\u001b[0m \u001b[0;34m=\u001b[0m \u001b[0;34m'TFR:BASE'\u001b[0m\u001b[0;34m,\u001b[0m\u001b[0;34m\u001b[0m\n",
       "\u001b[0;34m\u001b[0m    \u001b[0mdf_input\u001b[0m\u001b[0;34m:\u001b[0m \u001b[0mOptional\u001b[0m\u001b[0;34m[\u001b[0m\u001b[0mpandas\u001b[0m\u001b[0;34m.\u001b[0m\u001b[0mcore\u001b[0m\u001b[0;34m.\u001b[0m\u001b[0mframe\u001b[0m\u001b[0;34m.\u001b[0m\u001b[0mDataFrame\u001b[0m\u001b[0;34m]\u001b[0m \u001b[0;34m=\u001b[0m \u001b[0;32mNone\u001b[0m\u001b[0;34m,\u001b[0m\u001b[0;34m\u001b[0m\n",
       "\u001b[0;34m\u001b[0m    \u001b[0mfield_region\u001b[0m\u001b[0;34m:\u001b[0m \u001b[0mOptional\u001b[0m\u001b[0;34m[\u001b[0m\u001b[0mstr\u001b[0m\u001b[0;34m]\u001b[0m \u001b[0;34m=\u001b[0m \u001b[0;32mNone\u001b[0m\u001b[0;34m,\u001b[0m\u001b[0;34m\u001b[0m\n",
       "\u001b[0;34m\u001b[0m    \u001b[0mlogger\u001b[0m\u001b[0;34m:\u001b[0m \u001b[0mOptional\u001b[0m\u001b[0;34m[\u001b[0m\u001b[0mlogging\u001b[0m\u001b[0;34m.\u001b[0m\u001b[0mLogger\u001b[0m\u001b[0;34m]\u001b[0m \u001b[0;34m=\u001b[0m \u001b[0;32mNone\u001b[0m\u001b[0;34m,\u001b[0m\u001b[0;34m\u001b[0m\n",
       "\u001b[0;34m\u001b[0m    \u001b[0mregex_template_prepend\u001b[0m\u001b[0;34m:\u001b[0m \u001b[0mstr\u001b[0m \u001b[0;34m=\u001b[0m \u001b[0;34m'sisepuede_run'\u001b[0m\u001b[0;34m,\u001b[0m\u001b[0;34m\u001b[0m\n",
       "\u001b[0;34m\u001b[0m    \u001b[0;34m**\u001b[0m\u001b[0mkwargs\u001b[0m\u001b[0;34m,\u001b[0m\u001b[0;34m\u001b[0m\n",
       "\u001b[0;34m\u001b[0m\u001b[0;34m)\u001b[0m\u001b[0;34m\u001b[0m\u001b[0;34m\u001b[0m\u001b[0m\n",
       "\u001b[0;31mDocstring:\u001b[0m     \n",
       "Build collection of Transformers that are used to define transformations.\n",
       "\n",
       "Includes some information on\n",
       "\n",
       "Initialization Arguments\n",
       "------------------------\n",
       "- dict_config: configuration dictionary used to pass parameters to \n",
       "    transformations. See ?TransformerEnergy._initialize_parameters() for\n",
       "    more information on requirements.\n",
       "- dir_jl: location of Julia directory containing Julia environment and \n",
       "    support modules\n",
       "- fp_nemomod_reference_files: directory housing reference files called by\n",
       "    NemoMod when running electricity model. Required to access data in \n",
       "    EnergyProduction. Needs the following CSVs:\n",
       "\n",
       "    * Required keys or CSVs (without extension):\n",
       "        (1) CapacityFactor\n",
       "        (2) SpecifiedDemandProfile\n",
       "\n",
       "Optional Arguments\n",
       "------------------\n",
       "- fp_nemomod_temp_sqlite_db: optional file path to use for SQLite database\n",
       "    used in Julia NemoMod Electricity model\n",
       "    * If None, defaults to a temporary path sql database\n",
       "- logger: optional logger object\n",
       "- model_afolu: optional AFOLU object to pass for property and method access.\n",
       "    * NOTE: if passing, ensure that the ModelAttributes objects used to \n",
       "        instantiate the model + what is passed to the model_attributes\n",
       "        argument are the same.\n",
       "- model_circecon: optional CircularEconomy object to pass for property and\n",
       "    method access.\n",
       "    * NOTE: if passing, ensure that the ModelAttributes objects used to \n",
       "        instantiate the model + what is passed to the model_attributes\n",
       "        argument are the same.\n",
       "- model_enerprod: optional EnergyProduction object to pass for property and \n",
       "    method access.\n",
       "    * NOTE: if passing, ensure that the ModelAttributes objects used to \n",
       "        instantiate the model + what is passed to the model_attributes\n",
       "        argument are the same.\n",
       "- model_ippu: optional IPPU object to pass for property and method access.\n",
       "    * NOTE: if passing, ensure that the ModelAttributes objects used to \n",
       "        instantiate the model + what is passed to the model_attributes\n",
       "        argument are the same.\n",
       "- **kwargs \n",
       "\u001b[0;31mFile:\u001b[0m           ~/Documents/Projects/git_jbus/sisepuede/transformers/transformers.py\n",
       "\u001b[0;31mType:\u001b[0m           type\n",
       "\u001b[0;31mSubclasses:\u001b[0m     \n"
      ]
     },
     "metadata": {},
     "output_type": "display_data"
    }
   ],
   "source": [
    "?trs.Transformers"
   ]
  },
  {
   "cell_type": "code",
   "execution_count": null,
   "metadata": {},
   "outputs": [],
   "source": [
    "transformers = trs.Transformers(\n",
    "    {},\n",
    "    df_input = df_input,\n",
    "    field_region = field_region,\n",
    "    logger = logger,\n",
    ")\n",
    "\n"
   ]
  },
  {
   "cell_type": "markdown",
   "metadata": {},
   "source": [
    "# Next, let's instantiate some default transformations from SISEPUDE\n",
    "- SISEPUEDE can instantiate transformations as default parameterizations of Transformers + a combination of several\n"
   ]
  },
  {
   "cell_type": "code",
   "execution_count": null,
   "metadata": {},
   "outputs": [],
   "source": [
    "# instantiation here\n",
    "#\n",
    "#"
   ]
  },
  {
   "cell_type": "code",
   "execution_count": null,
   "metadata": {},
   "outputs": [],
   "source": []
  },
  {
   "cell_type": "markdown",
   "metadata": {},
   "source": [
    "# We can then load transformations here"
   ]
  },
  {
   "cell_type": "code",
   "execution_count": null,
   "metadata": {},
   "outputs": [],
   "source": [
    "\n",
    "\n",
    "transformations = trn.Transformations(\n",
    "    \"/Users/jsyme/Desktop/trf_testing/\",\n",
    "    transformers = transformers,\n",
    ")\n",
    "transformations.attribute_transformation\n",
    "\n",
    "\n"
   ]
  },
  {
   "cell_type": "code",
   "execution_count": null,
   "metadata": {},
   "outputs": [],
   "source": [
    "# explore transformations\n",
    "trb = transformations.get_transformation(\"TX:BASE\")\n"
   ]
  },
  {
   "cell_type": "markdown",
   "metadata": {},
   "source": [
    "# Next, let's build some individual strategies"
   ]
  },
  {
   "cell_type": "code",
   "execution_count": null,
   "metadata": {},
   "outputs": [],
   "source": [
    "\n",
    "\n",
    "\n",
    "strat = st.Strategy(\n",
    "    0,\n",
    "    None,#\"TX:LSMM:MANAGE_CATTLE_MANURE|TX:TRNS:SHIFT_FUEL_MEDIUM_DUTY\",\n",
    "    transformations,\n",
    ")\n",
    "\n",
    "\n",
    "strat1 = st.Strategy(\n",
    "    1,\n",
    "    \"TX:LSMM:MANAGE_CATTLE_MANURE|TX:TRNS:SHIFT_FUEL_MEDIUM_DUTY\",\n",
    "    transformations,\n",
    ")\n",
    "\n"
   ]
  },
  {
   "cell_type": "code",
   "execution_count": null,
   "metadata": {},
   "outputs": [],
   "source": []
  },
  {
   "cell_type": "code",
   "execution_count": null,
   "metadata": {},
   "outputs": [],
   "source": []
  },
  {
   "cell_type": "code",
   "execution_count": null,
   "metadata": {},
   "outputs": [],
   "source": []
  },
  {
   "cell_type": "code",
   "execution_count": null,
   "metadata": {},
   "outputs": [],
   "source": []
  },
  {
   "cell_type": "code",
   "execution_count": null,
   "metadata": {},
   "outputs": [],
   "source": [
    "\n",
    "t0 = time.time()\n",
    "strats = st.Strategies(\n",
    "    transformations,\n",
    "    export_path = pathlib.Path(\"/Users/jsyme/Desktop/tr_test_templates\"),#\"transformations\",\n",
    "    prebuild = True,\n",
    ")\n",
    "t1 = time.time()"
   ]
  },
  {
   "cell_type": "markdown",
   "metadata": {},
   "source": [
    "##  Initialize the SISEPUEDE class to get data from existing templates\n",
    "- see ``?SISEPUEDE`` for more information on initialization arguments\n",
    "- You can initialize as a dummy to avoid marginal setup time for Julia, but we may want to run with it at some point"
   ]
  },
  {
   "cell_type": "code",
   "execution_count": 3,
   "metadata": {
    "collapsed": true,
    "jupyter": {
     "outputs_hidden": true
    },
    "tags": []
   },
   "outputs": [
    {
     "name": "stdout",
     "output_type": "stream",
     "text": [
      "MISSIONSEARCHNOTE: As of 2023-10-06, there is a temporary solution implemeted in ModelAttributes.get_variable_to_simplex_group_dictionary() to ensure that transition probability rows are enforced on a simplex.\n",
      "\n",
      "FIX THIS ASAP TO DERIVE PROPERLY.\n"
     ]
    },
    {
     "name": "stderr",
     "output_type": "stream",
     "text": [
      "2024-05-20 12:02:29,595 - INFO - Successfully initialized SISEPUEDEFileStructure.\n",
      "2024-05-20 12:02:29,598 - WARNING - Missing key dict_dimensional_keys: key time_series not found. Tables that rely on the time_series will not have index checking.\n",
      "2024-05-20 12:02:29,599 - INFO - \tSetting export engine to 'sqlite'.\n",
      "2024-05-20 12:02:29,624 - WARNING - No index fields defined. Index field values will not be checked when writing to tables.\n",
      "2024-05-20 12:02:29,625 - INFO - Successfully instantiated table ANALYSIS_METADATA\n",
      "2024-05-20 12:02:29,626 - WARNING - No index fields found in ATTRIBUTE_DESIGN. Initializing index fields.\n",
      "2024-05-20 12:02:29,627 - INFO - Successfully instantiated table ATTRIBUTE_DESIGN\n",
      "2024-05-20 12:02:29,629 - WARNING - No index fields found in ATTRIBUTE_LHC_SAMPLES_EXOGENOUS_UNCERTAINTIES. Initializing index fields.\n",
      "2024-05-20 12:02:29,630 - INFO - Successfully instantiated table ATTRIBUTE_LHC_SAMPLES_EXOGENOUS_UNCERTAINTIES\n",
      "2024-05-20 12:02:29,632 - WARNING - No index fields found in ATTRIBUTE_LHC_SAMPLES_LEVER_EFFECTS. Initializing index fields.\n",
      "2024-05-20 12:02:29,633 - INFO - Successfully instantiated table ATTRIBUTE_LHC_SAMPLES_LEVER_EFFECTS\n",
      "2024-05-20 12:02:29,636 - WARNING - No index fields found in ATTRIBUTE_PRIMARY. Initializing index fields.\n",
      "2024-05-20 12:02:29,637 - INFO - Successfully instantiated table ATTRIBUTE_PRIMARY\n",
      "2024-05-20 12:02:29,638 - WARNING - No index fields found in ATTRIBUTE_STRATEGY. Initializing index fields.\n",
      "2024-05-20 12:02:29,640 - INFO - Successfully instantiated table ATTRIBUTE_STRATEGY\n",
      "2024-05-20 12:02:29,641 - WARNING - No index fields found in MODEL_BASE_INPUT_DATABASE. Initializing index fields.\n",
      "2024-05-20 12:02:29,643 - INFO - Successfully instantiated table MODEL_BASE_INPUT_DATABASE\n",
      "2024-05-20 12:02:29,645 - WARNING - No index fields found in MODEL_INPUT. Initializing index fields.\n",
      "2024-05-20 12:02:29,647 - INFO - Successfully instantiated table MODEL_INPUT\n",
      "2024-05-20 12:02:29,649 - WARNING - No index fields found in MODEL_OUTPUT. Initializing index fields.\n",
      "2024-05-20 12:02:29,651 - INFO - Successfully instantiated table MODEL_OUTPUT\n",
      "2024-05-20 12:02:29,651 - INFO - SISEPUEDEOutputDatabase successfully initialized IterativeDatabase.\n",
      "2024-05-20 12:02:29,652 - INFO - Successfully initialized database with:\n",
      "\ttype:\tsqlite\n",
      "\tanalysis id:\tsisepuede_run_2024-05-20T12:02:28.126245\n",
      "\tfp_base_output:\t/Users/jsyme/Documents/Projects/git_jbus/sisepuede/out/sisepuede_run_2024-05-20T12;02;28.126245/sisepuede_run_2024-05-20T12;02;28.126245_output_database\n",
      "2024-05-20 12:02:29,653 - INFO - Running SISEPUEDE under template data mode 'calibrated'.\n",
      "2024-05-20 12:02:29,654 - INFO - Initializing BaseInputDatabase\n",
      "2024-05-20 12:02:32,458 - INFO - Initializing FutureTrajectories\n",
      "2024-05-20 12:02:42,316 - INFO - Instantiating 1392 sampling units.\n",
      "2024-05-20 12:02:42,408 - INFO - Iteration 0 complete.\n",
      "2024-05-20 12:03:00,216 - INFO - Iteration 250 complete.\n",
      "2024-05-20 12:03:08,927 - INFO - Iteration 500 complete.\n",
      "2024-05-20 12:03:17,810 - INFO - Iteration 750 complete.\n",
      "2024-05-20 12:03:26,581 - INFO - Iteration 1000 complete.\n",
      "2024-05-20 12:03:35,484 - INFO - Iteration 1250 complete.\n",
      "2024-05-20 12:03:40,380 - INFO - \t1392 sampling units complete in 58.06 seconds.\n",
      "2024-05-20 12:03:40,389 - INFO - \tFutureTrajectories for 'peru' complete.\n",
      "2024-05-20 12:03:40,391 - INFO - Initializing LHSDesign\n",
      "2024-05-20 12:03:40,392 - INFO - LHSDesign.fields_factors_l reset successful.\n",
      "2024-05-20 12:03:40,393 - INFO - LHSDesign.fields_factors_x reset successful.\n",
      "2024-05-20 12:03:40,418 - INFO - \tLHSDesign for region 'peru' complete.\n",
      "2024-05-20 12:03:40,419 - INFO - Generating primary keys (values of primary_id)...\n",
      "2024-05-20 12:03:40,420 - INFO - Successfully initialized SISEPUEDEExperimentalManager.\n",
      "2024-05-20 12:03:40,422 - INFO - Successfully initialized NemoMod temporary database path as /Users/jsyme/Documents/Projects/git_jbus/sisepuede/tmp/nemomod_intermediate_database.sqlite.\n",
      "2024-05-20 12:03:40,424 - INFO - Set Julia directory for modules and environment to '/Users/jsyme/Documents/Projects/git_jbus/sisepuede/julia'.\n",
      "2024-05-20 12:03:40,599 - INFO - Successfully read NemoMod input table data from /Users/jsyme/Documents/Projects/git_jbus/sisepuede/ref/nemo_mod/CapacityFactor.csv\n",
      "2024-05-20 12:03:40,608 - INFO - Successfully read NemoMod input table data from /Users/jsyme/Documents/Projects/git_jbus/sisepuede/ref/nemo_mod/SpecifiedDemandProfile.csv\n",
      "2024-05-20 12:03:40,778 - INFO - Calling Julia API...\n",
      "2024-05-20 12:04:08,586 - DEBUG - \tSuccessfully activated Julia with compiled_modules = False\n",
      "2024-05-20 12:04:08,591 - DEBUG - \tSuccessfully imported julia.Base\n",
      "2024-05-20 12:04:08,593 - DEBUG - \tSuccessfully imported julia.Main\n",
      "2024-05-20 12:04:08,709 - DEBUG - \tSuccessfully imported julia.Pkg\n",
      "2024-05-20 12:04:09,476 - DEBUG - \tAvailable Packages:\n",
      "\t\t'Pkg'\n",
      "\t\t 'GLPK'\n",
      "\t\t 'HiGHS'\n",
      "\t\t 'CxxWrap'\n",
      "\t\t 'Graphs'\n",
      "\t\t 'IterativeHeaps'\n",
      "\t\t 'ExcelReaders'\n",
      "\t\t 'Juniper'\n",
      "\t\t 'FLoops'\n",
      "\t\t 'DataStructures'\n",
      "\t\t 'GeoInterfaceRecipes'\n",
      "\t\t 'DataFrames'\n",
      "\t\t 'PlotlyJS'\n",
      "\t\t 'MLJ'\n",
      "\t\t 'QuickHeaps'\n",
      "\t\t 'Distributions'\n",
      "\t\t 'SQLite'\n",
      "\t\t 'Clp'\n",
      "\t\t 'Karnak'\n",
      "\t\t 'TimerOutputs'\n",
      "\t\t 'LatinHypercubeSampling'\n",
      "\t\t 'ScikitLearn'\n",
      "\t\t 'LazySets'\n",
      "\t\t 'Metal'\n",
      "\t\t 'SCIP'\n",
      "\t\t 'GLMakie'\n",
      "\t\t 'DistributedArrays'\n",
      "\t\t 'Gurobi'\n",
      "\t\t 'AlphaVantage'\n",
      "\t\t 'CSV'\n",
      "\t\t 'Revise'\n",
      "\t\t 'StructArrays'\n",
      "\t\t 'Random'\n",
      "\t\t 'BenchmarkTools'\n",
      "\t\t 'Suppressor'\n",
      "\t\t 'Conda'\n",
      "\t\t 'Shapefile'\n",
      "\t\t 'Symbolics'\n",
      "\t\t 'PyCall'\n",
      "\t\t 'StatsBase'\n",
      "\t\t 'IJulia'\n",
      "\t\t 'Flux'\n",
      "\t\t 'Plots'\n",
      "\t\t 'GeoInterface'\n",
      "\t\t 'XLSX'\n",
      "\t\t 'Cbc'\n",
      "\t\t 'MathOptInterface'\n",
      "\t\t 'GLM'\n",
      "\t\t 'CUDA'\n",
      "\t\t 'Statistics'\n",
      "\t\t 'LightGraphs'\n",
      "\t\t 'HypothesisTests'\n",
      "\t\t 'JuMP'\n",
      "\t\t 'NetworkLayout'\n",
      "\t\t 'Ipopt'\n",
      "\t\t 'LaTeXStrings'\n",
      "\t\t 'SharedArrays'\n",
      "\t\t 'CairoMakie'\n",
      "\t\t 'StaticGraphs'\n",
      "\t\t 'MultivariateStats'\n",
      "\t\t 'DecisionTree'\n",
      "\t\t 'GraphMakie'\n",
      "\t\t 'WebIO'\n",
      "\t\t 'AbstractTrees'\n",
      "\t\t 'GraphDistanceAlgorithms'\n",
      "\t\t 'Cxx'\n",
      "  Activating2024-05-20 12:04:10,303 - INFO - Successfully activated Julia environment at '/Users/jsyme/Documents/Projects/git_jbus/sisepuede/julia'\n",
      " project at `~/Documents/Projects/git_jbus/sisepuede/julia`\n",
      "2024-05-20 12:05:54,224 - INFO - Successfully initialized JuMP optimizer from solver module HiGHS.\n",
      "2024-05-20 12:05:54,278 - INFO - Successfully initialized SISEPUEDEModels.\n",
      "2024-05-20 12:05:54,320 - INFO - Table ANALYSIS_METADATA successfully written to database.\n",
      "2024-05-20 12:05:54,336 - INFO - Table ATTRIBUTE_DESIGN successfully written to database.\n",
      "2024-05-20 12:05:54,350 - INFO - Table ATTRIBUTE_STRATEGY successfully written to database.\n",
      "2024-05-20 12:05:55,450 - INFO - Table MODEL_BASE_INPUT_DATABASE successfully written to database.\n"
     ]
    }
   ],
   "source": [
    "sisepuede = ssp.SISEPUEDE(\n",
    "    \"calibrated\",\n",
    "    initialize_as_dummy = False, # no connection to Julia is initialized if set to True\n",
    "    #n_futures = 100,\n",
    "    regions = [\"peru\"],\n",
    "    try_exogenous_xl_types_in_variable_specification = True,\n",
    ")"
   ]
  },
  {
   "cell_type": "code",
   "execution_count": null,
   "metadata": {},
   "outputs": [],
   "source": []
  }
 ],
 "metadata": {
  "kernelspec": {
   "display_name": "Python 3 (ipykernel)",
   "language": "python",
   "name": "python3"
  },
  "language_info": {
   "codemirror_mode": {
    "name": "ipython",
    "version": 3
   },
   "file_extension": ".py",
   "mimetype": "text/x-python",
   "name": "python",
   "nbconvert_exporter": "python",
   "pygments_lexer": "ipython3",
   "version": "3.11.0"
  }
 },
 "nbformat": 4,
 "nbformat_minor": 4
}
