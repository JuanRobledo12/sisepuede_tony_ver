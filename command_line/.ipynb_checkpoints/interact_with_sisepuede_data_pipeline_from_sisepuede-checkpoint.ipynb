{
 "cells": [
  {
   "cell_type": "code",
   "execution_count": 3,
   "id": "68cf96f2-1f69-49bf-8cf1-41d138f80d09",
   "metadata": {},
   "outputs": [],
   "source": [
    "# filter out warnings, which can be excessive\n",
    "import warnings\n",
    "warnings.filterwarnings(\"ignore\")\n",
    "\n",
    "\n",
    "from attribute_table import AttributeTable\n",
    "import importlib\n",
    "import matplotlib.pyplot as plt\n",
    "import model_attributes as ma\n",
    "import numpy as np\n",
    "import os, os.path\n",
    "import pandas as pd\n",
    "import pathlib\n",
    "import setup_analysis as sa\n",
    "import sisepuede_file_structure as sfs\n",
    "import sql_utilities as squ\n",
    "import support_classes as sc\n",
    "import support_functions as sf\n",
    "import time\n",
    "\n"
   ]
  },
  {
   "cell_type": "markdown",
   "id": "27ffd9b2-9a94-4f38-a89b-a668caf0de8d",
   "metadata": {},
   "source": [
    "# 1. Load `sisepuede_data_pipline` libraries and scripts\n",
    "- I have found it convenient to work from the SISEPUEDE directory sometimes, but it does not matter \n",
    "- For now, to do this, you have to set the path to the `sisepuede_data_pipeline` git repository using `fp_lib` below\n",
    "- This will be fixed in later iterations, once we determine the best installation path forward"
   ]
  },
  {
   "cell_type": "code",
   "execution_count": null,
   "id": "8bb71e19-65f0-473a-a184-f76eb779e80b",
   "metadata": {},
   "outputs": [],
   "source": [
    "# NOTE: need to set a path to the sisepuede_data_pipeline here. Will fix this with an installation, but for now\n",
    "fp_lib = \"/Users/jsyme/Documents/Projects/git_jbus/sisepuede_data_pipeline\"\n",
    "import sys\n",
    "if fp_lib not in sys.path:\n",
    "    sys.path.append(fp_lib)\n",
    "import lib.data_objects as do\n",
    "import lib.process_utilities as pu\n",
    "import lib.sisepuede_data_constructs as dc\n",
    "import lib.data_construction_utilities as util"
   ]
  },
  {
   "cell_type": "markdown",
   "id": "b119f56b-1b4d-4fa5-9845-fe1b7ab4d03a",
   "metadata": {},
   "source": [
    "# 2. Instantiate a `SISEPUEDEDataConstructs` object to allow `sispeuede_data_pipeline` objects to access SISEPUEDE elements \n",
    "###  This is normally accessed from _within_ the `sispeuede_data_pipeline` repository\n",
    "- sets up a SISEPUEDEFileStructure (`construct.sisepuede_file_struct`) object, which includes a `ModelAttributes` object (`construct.sisepuede_file_struct.model_attributes`)\n",
    "- includes `sc.Regions` (`construct.regions`) and `sc.TimePeriods` (`construct.time_periods`) objects to support seamless region and time period integration with SISEPUEDE"
   ]
  },
  {
   "cell_type": "code",
   "execution_count": 4,
   "id": "1ea6a504-179e-40a8-97e9-c9d23e70efad",
   "metadata": {},
   "outputs": [
    {
     "name": "stdout",
     "output_type": "stream",
     "text": [
      "MISSIONSEARCHNOTE: As of 2023-10-06, there is a temporary solution implemeted in ModelAttributes.get_variable_to_simplex_group_dictionary() to ensure that transition probability rows are enforced on a simplex.\n",
      "\n",
      "FIX THIS ASAP TO DERIVE PROPERLY.\n"
     ]
    }
   ],
   "source": [
    "construct = dc.SISEPUEDEDataConstructs()"
   ]
  },
  {
   "cell_type": "code",
   "execution_count": 10,
   "id": "a9e9528e-9082-49e5-913c-22336bde3c98",
   "metadata": {},
   "outputs": [
    {
     "data": {
      "text/plain": [
       "<model_attributes.ModelAttributes at 0x17a009350>"
      ]
     },
     "execution_count": 10,
     "metadata": {},
     "output_type": "execute_result"
    }
   ],
   "source": [
    "# model_attributes object \n",
    "construct.sisepuede_file_struct.model_attributes"
   ]
  },
  {
   "cell_type": "code",
   "execution_count": 6,
   "id": "9a29bd90-8185-4d5a-aeb6-cec49fc70b1d",
   "metadata": {},
   "outputs": [
    {
     "data": {
      "text/plain": [
       "<support_classes.Regions at 0x109b3c850>"
      ]
     },
     "execution_count": 6,
     "metadata": {},
     "output_type": "execute_result"
    }
   ],
   "source": [
    "# regions object\n",
    "construct.regions\n"
   ]
  },
  {
   "cell_type": "code",
   "execution_count": 9,
   "id": "07b76787-8a8b-41f1-b043-6137d2ffa7c5",
   "metadata": {},
   "outputs": [
    {
     "data": {
      "text/plain": [
       "<support_classes.TimePeriods at 0x17a79ff10>"
      ]
     },
     "execution_count": 9,
     "metadata": {},
     "output_type": "execute_result"
    }
   ],
   "source": [
    "# time periods object\n",
    "construct.time_periods"
   ]
  },
  {
   "cell_type": "markdown",
   "id": "8fd52d99-0360-45a4-a12b-04dfd52aed91",
   "metadata": {},
   "source": [
    "# 3. Set up a `process_utilities.Repository` object to access input raw data in another location\n",
    "- Method lets us swap out local data for remote (AWS S3) repositories trivially\n",
    "- e.g., I have input data stored at `/Users/jsyme/SISEPUEDE_DATA_REPOSITORY`\n",
    "- Initialize with a dictionary (see `?pu.Repository` for information on initializaing it)"
   ]
  },
  {
   "cell_type": "code",
   "execution_count": 14,
   "id": "4f2b66f0-da80-4af3-8e93-3b7fb16751dd",
   "metadata": {},
   "outputs": [],
   "source": [
    "# setup a local repostory\n",
    "repo = pu.Repository(\n",
    "    {\n",
    "        \"local\": {\n",
    "            \"path\": \"/Users/jsyme/SISEPUEDE_DATA_REPOSITORY\"\n",
    "        }\n",
    "    }\n",
    ")\n"
   ]
  },
  {
   "cell_type": "code",
   "execution_count": 13,
   "id": "9bddf897-ca1a-4755-b5ec-d0367ea83d33",
   "metadata": {},
   "outputs": [
    {
     "data": {
      "text/plain": [
       "\u001b[0;31mInit signature:\u001b[0m\n",
       "\u001b[0mpu\u001b[0m\u001b[0;34m.\u001b[0m\u001b[0mRepository\u001b[0m\u001b[0;34m(\u001b[0m\u001b[0;34m\u001b[0m\n",
       "\u001b[0;34m\u001b[0m    \u001b[0mdict_config\u001b[0m\u001b[0;34m:\u001b[0m \u001b[0mUnion\u001b[0m\u001b[0;34m[\u001b[0m\u001b[0mdict\u001b[0m\u001b[0;34m,\u001b[0m \u001b[0mstr\u001b[0m\u001b[0;34m,\u001b[0m \u001b[0msupport_classes\u001b[0m\u001b[0;34m.\u001b[0m\u001b[0mYAMLConfiguration\u001b[0m\u001b[0;34m]\u001b[0m\u001b[0;34m,\u001b[0m\u001b[0;34m\u001b[0m\n",
       "\u001b[0;34m\u001b[0m    \u001b[0mkey_local\u001b[0m\u001b[0;34m:\u001b[0m \u001b[0mstr\u001b[0m \u001b[0;34m=\u001b[0m \u001b[0;34m'local'\u001b[0m\u001b[0;34m,\u001b[0m\u001b[0;34m\u001b[0m\n",
       "\u001b[0;34m\u001b[0m    \u001b[0mkey_path\u001b[0m\u001b[0;34m:\u001b[0m \u001b[0mstr\u001b[0m \u001b[0;34m=\u001b[0m \u001b[0;34m'path'\u001b[0m\u001b[0;34m,\u001b[0m\u001b[0;34m\u001b[0m\n",
       "\u001b[0;34m\u001b[0m    \u001b[0mkey_s3\u001b[0m\u001b[0;34m:\u001b[0m \u001b[0mstr\u001b[0m \u001b[0;34m=\u001b[0m \u001b[0;34m's3'\u001b[0m\u001b[0;34m,\u001b[0m\u001b[0;34m\u001b[0m\n",
       "\u001b[0;34m\u001b[0m    \u001b[0mkey_s3_access\u001b[0m\u001b[0;34m:\u001b[0m \u001b[0mstr\u001b[0m \u001b[0;34m=\u001b[0m \u001b[0;34m'access_key'\u001b[0m\u001b[0;34m,\u001b[0m\u001b[0;34m\u001b[0m\n",
       "\u001b[0;34m\u001b[0m    \u001b[0mkey_s3_bucket\u001b[0m\u001b[0;34m:\u001b[0m \u001b[0mstr\u001b[0m \u001b[0;34m=\u001b[0m \u001b[0;34m'bucket'\u001b[0m\u001b[0;34m,\u001b[0m\u001b[0;34m\u001b[0m\n",
       "\u001b[0;34m\u001b[0m    \u001b[0mkey_s3_path\u001b[0m\u001b[0;34m:\u001b[0m \u001b[0mstr\u001b[0m \u001b[0;34m=\u001b[0m \u001b[0;34m'path'\u001b[0m\u001b[0;34m,\u001b[0m\u001b[0;34m\u001b[0m\n",
       "\u001b[0;34m\u001b[0m    \u001b[0mkey_s3_secret\u001b[0m\u001b[0;34m:\u001b[0m \u001b[0mstr\u001b[0m \u001b[0;34m=\u001b[0m \u001b[0;34m'secret_key'\u001b[0m\u001b[0;34m,\u001b[0m\u001b[0;34m\u001b[0m\n",
       "\u001b[0;34m\u001b[0m    \u001b[0mkey_s3_session_token\u001b[0m\u001b[0;34m:\u001b[0m \u001b[0mstr\u001b[0m \u001b[0;34m=\u001b[0m \u001b[0;34m'session_token'\u001b[0m\u001b[0;34m,\u001b[0m\u001b[0;34m\u001b[0m\n",
       "\u001b[0;34m\u001b[0m    \u001b[0mstop_on_error\u001b[0m\u001b[0;34m:\u001b[0m \u001b[0mbool\u001b[0m \u001b[0;34m=\u001b[0m \u001b[0;32mTrue\u001b[0m\u001b[0;34m,\u001b[0m\u001b[0;34m\u001b[0m\n",
       "\u001b[0;34m\u001b[0m\u001b[0;34m)\u001b[0m \u001b[0;34m->\u001b[0m \u001b[0;32mNone\u001b[0m\u001b[0;34m\u001b[0m\u001b[0;34m\u001b[0m\u001b[0m\n",
       "\u001b[0;31mDocstring:\u001b[0m     \n",
       "Initialize a repository object for reading raw data. The repository allows\n",
       "    readers to specify a `repo:` key in the InputsReader, then use relative\n",
       "    paths to access files in the repository. \n",
       "\n",
       "The repository has a central file structure, e.g., for local repositories,\n",
       "    only the path to the repository is necessary\n",
       "\n",
       "    /Users/username/.../path_to_repository/\n",
       "\n",
       "\n",
       "For remote (S3) repositories, the configuration dictionary must inlcude the\n",
       "    following information:\n",
       "\n",
       "    * bucket\n",
       "    * key_secret\n",
       "    * OTHER INFO\n",
       "\n",
       "    \n",
       "Initialization Arguments\n",
       "------------------------\n",
       "- dict_config: a configuration dictionary of length 1 with any of the \n",
       "    following structures\n",
       "\n",
       "    * {\n",
       "        \"local\": {\n",
       "            \"path\": /PATH_TO_REPO\n",
       "        }\n",
       "    }\n",
       "\n",
       "    * {\n",
       "        \"s3\": {\n",
       "            \"bucket\": BUCKETNAME,\n",
       "            \"secret_key\": AWS SECRET KEY,\n",
       "            \"access_key_id\": AWS ACCESS KEY,\n",
       "            \"session_token\": AWS SESSION TOKEN FOR IAM MANAGEMENT\n",
       "        }\n",
       "    }\n",
       "\n",
       "    NOTE: can be passed as a string (a path to YAML configuration) or a \n",
       "    support_classes.YAMLConfiguration object\n",
       "\n",
       "\n",
       "Optional Arguments\n",
       "------------------\n",
       "- key_local: yaml configuration key (level 0) to specify information about\n",
       "    local retrieval of data\n",
       "- key_path: yaml configuration key (level 1) to specify local path for a \n",
       "    file (used only if local)\n",
       "- key_s3: yaml configuration key (level 0) to specify information for AWS S3\n",
       "- key_s3_access: yaml configuration key (level 1 in s3 dict) to specify \n",
       "    access key\n",
       "- key_s3_bucket: yaml configuration key (level 1 in s3 dict) to specify \n",
       "    bucket\n",
       "- key_s3_path: yaml configuration key (level 1 in s3 dict) to specify \n",
       "    path within bucket (aka, S3 key)\n",
       "- key_s3_secret: yaml configuration key (level 1 in s3 dict) to specify \n",
       "    secret key\n",
       "- key_s3_session_token: yaml configuration key (level 1 in s3 dict) to \n",
       "    specify session token\n",
       "- stop_on_error: stop if there's an error loading input data?\n",
       "\u001b[0;31mFile:\u001b[0m           ~/Documents/Projects/git_jbus/sisepuede_data_pipeline/lib/process_utilities.py\n",
       "\u001b[0;31mType:\u001b[0m           type\n",
       "\u001b[0;31mSubclasses:\u001b[0m     \n"
      ]
     },
     "metadata": {},
     "output_type": "display_data"
    }
   ],
   "source": [
    "?pu.Repository"
   ]
  },
  {
   "cell_type": "markdown",
   "id": "c666bf2b-7ea4-4839-983f-3d0ccaa965c3",
   "metadata": {},
   "source": [
    "# 4. Set up a `process_utilities.InputsReader` object for a group of variables that share a `config.yaml` file\n",
    "- can initialize `InputsReader` with a `process_utilities.Repository` to access files from that repository\n",
    "- `config.yaml` file includes keys nested in the following way:\n",
    "    - `inputs`: information about inputs shared across variables in the group\n",
    "        - `$DATANAME$` (e.g., `fao_land_cover`): name of a dataset to read into the `InputsReader` object. Suggested convention is that this should be all lower-case, and it should not contain any spaces.\n",
    "            - `citation`: bibtex key \n",
    "            - `readas`: one of \"faostat\", \"world_bank\", \"iea\" `data_objects.AbstractDataset` objects. Reading in these datasets makes some shared shortcut methods available, such as standardized field names and subsetting\n",
    "                - specify `\"faostat\"` to read an FAOSTAT dataset as a `data_objects.DatasetFAO` object (contains some shared information on)\n",
    "            - Below the name of the dataset, you must specify one of the following keys to define how to read in the dataset. The keys may requre subkeys to define information about the read process. Note that CSV (via `pandas.read_csv`) and XLSX (via `pandas.read_excel`) are currently automatically read in, can/will add additional file types when necessary. Keyword arguments can be passed in the level below any of these keys using the `kwargs` key.\n",
    "                \n",
    "                - `local`: read a file from a local path\n",
    "                    - `path`: full path to the file to read. CSV and XLSX are currently automatically read in, can/will add additional file types when necessary\n",
    "                    - `kwargs`:\n",
    "                        - specify keyword arguments to the pandas read method here; e.g., if `path` is an XLSX file, you can specify `sheet_name` here\n",
    "                - `pipeline_output`: read from the pipeline's output database. NOTE: this should \n",
    "                - `repo`: read a path from a repository--only valid if the `process_utilities.InputsReader` object is initialized with a repository\n",
    "                    - `path`: path _within_ repository to the file to read. \n",
    "                    - `kwargs`:\n",
    "                        - specify keyword arguments to the pandas read method here\n",
    "            - *EXAMPLE*: (1) Read an excel file from the repository used in the reader's initialization with sheet name \"SHEET1\" and assign it to the `df_energy_data` property and (2) read a remote crosswalk from the SISEPUEDE github repository \n",
    "            \n",
    "            \n",
    "            ```\n",
    "            inputs: \n",
    "                df_energy_data:\n",
    "                    repo: \"path_in_repo/energy_data.xlsx\"\n",
    "                    kwargs:\n",
    "                        sheet_name: \"SHEET1\"\n",
    "                \n",
    "                fao_crosswalk_crop_type: \n",
    "                    remote: \n",
    "                      path: \"https://raw.githubusercontent.com/jcsyme/sisepuede/main/ref/data_crosswalks/fao_crop_categories.csv\"\n",
    "            ```\n",
    "            \n",
    "            -    \n",
    "                \n",
    "    - `variables`: information about how to handle projection and interpolation for SISEPUEDE Model Variables handled in the group\n",
    "        **UNDER DEVELOPMENT**"
   ]
  },
  {
   "cell_type": "code",
   "execution_count": 18,
   "id": "bb0eb6e8-5046-402f-b2f7-5cabbe55e1bc",
   "metadata": {},
   "outputs": [],
   "source": [
    "# build \n",
    "fp_config = \"/Users/jsyme/Documents/Projects/git_jbus/sisepuede_data_pipeline/afolu/initial_crops_and_land_use/config.yaml\"\n",
    "reader = pu.InputsReader(\n",
    "    fp_config,\n",
    "    repository = repo, \n",
    ")\n",
    "\n",
    "\n"
   ]
  },
  {
   "cell_type": "markdown",
   "id": "b427c3d9-80f1-45ac-8eee-d935f44eb1f0",
   "metadata": {},
   "source": [
    "##  Compare inputs in `\"sisepuede_data_pipeline/afolu/initial_crops_and_land_use/config.yaml\"` with properties in `reader`"
   ]
  },
  {
   "cell_type": "code",
   "execution_count": 21,
   "id": "050a2a13-44b2-4373-88d1-1ed57a463eaa",
   "metadata": {},
   "outputs": [
    {
     "data": {
      "text/plain": [
       "['config',\n",
       " 'fao_agrc_production',\n",
       " 'fao_crosswalk_crop_type',\n",
       " 'fao_crosswalk_land_cover',\n",
       " 'fao_land_cover',\n",
       " 'fao_land_use',\n",
       " 'fp_config',\n",
       " 'is_inputs_reader',\n",
       " 'key_inputs',\n",
       " 'key_kwargs',\n",
       " 'key_local',\n",
       " 'key_path',\n",
       " 'key_readas',\n",
       " 'key_remote',\n",
       " 'key_repo',\n",
       " 'key_s3',\n",
       " 'repository',\n",
       " 'valid_source_keys']"
      ]
     },
     "execution_count": 21,
     "metadata": {},
     "output_type": "execute_result"
    }
   ],
   "source": [
    "[x for x in dir(reader) if not x.startswith(\"_\")]"
   ]
  },
  {
   "cell_type": "code",
   "execution_count": 26,
   "id": "ec06109d-f17c-4ad3-aa9b-5dca05d048a4",
   "metadata": {},
   "outputs": [
    {
     "data": {
      "text/plain": [
       "lib.data_objects.DatasetFAO"
      ]
     },
     "execution_count": 26,
     "metadata": {},
     "output_type": "execute_result"
    }
   ],
   "source": [
    "# read in as a do.DatasetFAO object\n",
    "data_agrc = reader.fao_agrc_production\n",
    "type(data_agrc)"
   ]
  },
  {
   "cell_type": "code",
   "execution_count": 33,
   "id": "b12b5edb-12d0-48cc-bc75-2bd7abbb75a7",
   "metadata": {},
   "outputs": [
    {
     "data": {
      "text/html": [
       "<div>\n",
       "<style scoped>\n",
       "    .dataframe tbody tr th:only-of-type {\n",
       "        vertical-align: middle;\n",
       "    }\n",
       "\n",
       "    .dataframe tbody tr th {\n",
       "        vertical-align: top;\n",
       "    }\n",
       "\n",
       "    .dataframe thead th {\n",
       "        text-align: right;\n",
       "    }\n",
       "</style>\n",
       "<table border=\"1\" class=\"dataframe\">\n",
       "  <thead>\n",
       "    <tr style=\"text-align: right;\">\n",
       "      <th></th>\n",
       "      <th>Area Code</th>\n",
       "      <th>Area Code (M49)</th>\n",
       "      <th>Area</th>\n",
       "      <th>Item Code</th>\n",
       "      <th>Item Code (CPC)</th>\n",
       "      <th>Item</th>\n",
       "      <th>Element Code</th>\n",
       "      <th>Element</th>\n",
       "      <th>Year Code</th>\n",
       "      <th>Year</th>\n",
       "      <th>Unit</th>\n",
       "      <th>Value</th>\n",
       "      <th>Flag</th>\n",
       "      <th>Note</th>\n",
       "    </tr>\n",
       "  </thead>\n",
       "  <tbody>\n",
       "    <tr>\n",
       "      <th>0</th>\n",
       "      <td>138</td>\n",
       "      <td>'484</td>\n",
       "      <td>Mexico</td>\n",
       "      <td>1729</td>\n",
       "      <td>'F1729</td>\n",
       "      <td>Treenuts, Total</td>\n",
       "      <td>5419</td>\n",
       "      <td>Yield</td>\n",
       "      <td>2020</td>\n",
       "      <td>2020</td>\n",
       "      <td>100 g/ha</td>\n",
       "      <td>16733.0</td>\n",
       "      <td>E</td>\n",
       "      <td>NaN</td>\n",
       "    </tr>\n",
       "    <tr>\n",
       "      <th>1</th>\n",
       "      <td>138</td>\n",
       "      <td>'484</td>\n",
       "      <td>Mexico</td>\n",
       "      <td>1729</td>\n",
       "      <td>'F1729</td>\n",
       "      <td>Treenuts, Total</td>\n",
       "      <td>5419</td>\n",
       "      <td>Yield</td>\n",
       "      <td>2021</td>\n",
       "      <td>2021</td>\n",
       "      <td>100 g/ha</td>\n",
       "      <td>14843.0</td>\n",
       "      <td>E</td>\n",
       "      <td>NaN</td>\n",
       "    </tr>\n",
       "    <tr>\n",
       "      <th>2</th>\n",
       "      <td>138</td>\n",
       "      <td>'484</td>\n",
       "      <td>Mexico</td>\n",
       "      <td>1729</td>\n",
       "      <td>'F1729</td>\n",
       "      <td>Treenuts, Total</td>\n",
       "      <td>5419</td>\n",
       "      <td>Yield</td>\n",
       "      <td>2022</td>\n",
       "      <td>2022</td>\n",
       "      <td>100 g/ha</td>\n",
       "      <td>16564.0</td>\n",
       "      <td>E</td>\n",
       "      <td>NaN</td>\n",
       "    </tr>\n",
       "    <tr>\n",
       "      <th>3</th>\n",
       "      <td>138</td>\n",
       "      <td>'484</td>\n",
       "      <td>Mexico</td>\n",
       "      <td>1735</td>\n",
       "      <td>'F1735</td>\n",
       "      <td>Vegetables Primary</td>\n",
       "      <td>5419</td>\n",
       "      <td>Yield</td>\n",
       "      <td>2020</td>\n",
       "      <td>2020</td>\n",
       "      <td>100 g/ha</td>\n",
       "      <td>217852.0</td>\n",
       "      <td>A</td>\n",
       "      <td>NaN</td>\n",
       "    </tr>\n",
       "    <tr>\n",
       "      <th>4</th>\n",
       "      <td>138</td>\n",
       "      <td>'484</td>\n",
       "      <td>Mexico</td>\n",
       "      <td>1735</td>\n",
       "      <td>'F1735</td>\n",
       "      <td>Vegetables Primary</td>\n",
       "      <td>5419</td>\n",
       "      <td>Yield</td>\n",
       "      <td>2021</td>\n",
       "      <td>2021</td>\n",
       "      <td>100 g/ha</td>\n",
       "      <td>212879.0</td>\n",
       "      <td>A</td>\n",
       "      <td>NaN</td>\n",
       "    </tr>\n",
       "    <tr>\n",
       "      <th>5</th>\n",
       "      <td>138</td>\n",
       "      <td>'484</td>\n",
       "      <td>Mexico</td>\n",
       "      <td>1735</td>\n",
       "      <td>'F1735</td>\n",
       "      <td>Vegetables Primary</td>\n",
       "      <td>5419</td>\n",
       "      <td>Yield</td>\n",
       "      <td>2022</td>\n",
       "      <td>2022</td>\n",
       "      <td>100 g/ha</td>\n",
       "      <td>218739.0</td>\n",
       "      <td>A</td>\n",
       "      <td>NaN</td>\n",
       "    </tr>\n",
       "  </tbody>\n",
       "</table>\n",
       "</div>"
      ],
      "text/plain": [
       "   Area Code Area Code (M49)    Area  Item Code Item Code (CPC)  \\\n",
       "0        138            '484  Mexico       1729          'F1729   \n",
       "1        138            '484  Mexico       1729          'F1729   \n",
       "2        138            '484  Mexico       1729          'F1729   \n",
       "3        138            '484  Mexico       1735          'F1735   \n",
       "4        138            '484  Mexico       1735          'F1735   \n",
       "5        138            '484  Mexico       1735          'F1735   \n",
       "\n",
       "                 Item  Element Code Element  Year Code  Year      Unit  \\\n",
       "0     Treenuts, Total          5419   Yield       2020  2020  100 g/ha   \n",
       "1     Treenuts, Total          5419   Yield       2021  2021  100 g/ha   \n",
       "2     Treenuts, Total          5419   Yield       2022  2022  100 g/ha   \n",
       "3  Vegetables Primary          5419   Yield       2020  2020  100 g/ha   \n",
       "4  Vegetables Primary          5419   Yield       2021  2021  100 g/ha   \n",
       "5  Vegetables Primary          5419   Yield       2022  2022  100 g/ha   \n",
       "\n",
       "      Value Flag Note  \n",
       "0   16733.0    E  NaN  \n",
       "1   14843.0    E  NaN  \n",
       "2   16564.0    E  NaN  \n",
       "3  217852.0    A  NaN  \n",
       "4  212879.0    A  NaN  \n",
       "5  218739.0    A  NaN  "
      ]
     },
     "execution_count": 33,
     "metadata": {},
     "output_type": "execute_result"
    }
   ],
   "source": [
    "# subset FAO data easily (keywords are \"cleaned\" field names; e.g, \"Year\" -> \"year\", \"Year Code\" -> \"year_code\")\n",
    "data_agrc.get_subset(\n",
    "    area = \"Mexico\", # specify as a single element (singleton) or list\n",
    "    element = [\"Yield\"],\n",
    "    item_code = [1729, 1735],\n",
    "    year = [2020, 2021, 2022],\n",
    ")"
   ]
  },
  {
   "cell_type": "code",
   "execution_count": 24,
   "id": "1b21d6b0-df8a-464a-b65c-c8317991019a",
   "metadata": {},
   "outputs": [
    {
     "data": {
      "text/html": [
       "<div>\n",
       "<style scoped>\n",
       "    .dataframe tbody tr th:only-of-type {\n",
       "        vertical-align: middle;\n",
       "    }\n",
       "\n",
       "    .dataframe tbody tr th {\n",
       "        vertical-align: top;\n",
       "    }\n",
       "\n",
       "    .dataframe thead th {\n",
       "        text-align: right;\n",
       "    }\n",
       "</style>\n",
       "<table border=\"1\" class=\"dataframe\">\n",
       "  <thead>\n",
       "    <tr style=\"text-align: right;\">\n",
       "      <th></th>\n",
       "      <th>fao_crop</th>\n",
       "      <th>cat_1</th>\n",
       "      <th>``$CAT-AGRICULTURE$``</th>\n",
       "      <th>super_cat</th>\n",
       "    </tr>\n",
       "  </thead>\n",
       "  <tbody>\n",
       "    <tr>\n",
       "      <th>0</th>\n",
       "      <td>Abaca, manila hemp, raw</td>\n",
       "      <td>fibers</td>\n",
       "      <td>fibers</td>\n",
       "      <td>fibers</td>\n",
       "    </tr>\n",
       "    <tr>\n",
       "      <th>1</th>\n",
       "      <td>Agave fibres nes</td>\n",
       "      <td>fibers</td>\n",
       "      <td>fibers</td>\n",
       "      <td>fibers</td>\n",
       "    </tr>\n",
       "    <tr>\n",
       "      <th>2</th>\n",
       "      <td>Agave fibres, raw, n.e.c.</td>\n",
       "      <td>fibers</td>\n",
       "      <td>fibers</td>\n",
       "      <td>fibers</td>\n",
       "    </tr>\n",
       "    <tr>\n",
       "      <th>3</th>\n",
       "      <td>Almonds, in shell</td>\n",
       "      <td>nuts</td>\n",
       "      <td>nuts</td>\n",
       "      <td>woody_perennial</td>\n",
       "    </tr>\n",
       "    <tr>\n",
       "      <th>4</th>\n",
       "      <td>Almonds, with shell</td>\n",
       "      <td>nuts</td>\n",
       "      <td>nuts</td>\n",
       "      <td>woody_perennial</td>\n",
       "    </tr>\n",
       "    <tr>\n",
       "      <th>...</th>\n",
       "      <td>...</td>\n",
       "      <td>...</td>\n",
       "      <td>...</td>\n",
       "      <td>...</td>\n",
       "    </tr>\n",
       "    <tr>\n",
       "      <th>244</th>\n",
       "      <td>Watermelons</td>\n",
       "      <td>vegetables</td>\n",
       "      <td>vegetables_and_vines</td>\n",
       "      <td>annual_crops</td>\n",
       "    </tr>\n",
       "    <tr>\n",
       "      <th>245</th>\n",
       "      <td>Wheat</td>\n",
       "      <td>cereals</td>\n",
       "      <td>cereals</td>\n",
       "      <td>cereals</td>\n",
       "    </tr>\n",
       "    <tr>\n",
       "      <th>246</th>\n",
       "      <td>Yams</td>\n",
       "      <td>tubers</td>\n",
       "      <td>tubers</td>\n",
       "      <td>tubers</td>\n",
       "    </tr>\n",
       "    <tr>\n",
       "      <th>247</th>\n",
       "      <td>Yautia</td>\n",
       "      <td>tubers</td>\n",
       "      <td>tubers</td>\n",
       "      <td>tubers</td>\n",
       "    </tr>\n",
       "    <tr>\n",
       "      <th>248</th>\n",
       "      <td>Yautia (cocoyam)</td>\n",
       "      <td>tubers</td>\n",
       "      <td>tubers</td>\n",
       "      <td>tubers</td>\n",
       "    </tr>\n",
       "  </tbody>\n",
       "</table>\n",
       "<p>249 rows × 4 columns</p>\n",
       "</div>"
      ],
      "text/plain": [
       "                      fao_crop       cat_1 ``$CAT-AGRICULTURE$``  \\\n",
       "0      Abaca, manila hemp, raw      fibers                fibers   \n",
       "1             Agave fibres nes      fibers                fibers   \n",
       "2    Agave fibres, raw, n.e.c.      fibers                fibers   \n",
       "3            Almonds, in shell        nuts                  nuts   \n",
       "4          Almonds, with shell        nuts                  nuts   \n",
       "..                         ...         ...                   ...   \n",
       "244                Watermelons  vegetables  vegetables_and_vines   \n",
       "245                      Wheat     cereals               cereals   \n",
       "246                       Yams      tubers                tubers   \n",
       "247                     Yautia      tubers                tubers   \n",
       "248           Yautia (cocoyam)      tubers                tubers   \n",
       "\n",
       "           super_cat  \n",
       "0             fibers  \n",
       "1             fibers  \n",
       "2             fibers  \n",
       "3    woody_perennial  \n",
       "4    woody_perennial  \n",
       "..               ...  \n",
       "244     annual_crops  \n",
       "245          cereals  \n",
       "246           tubers  \n",
       "247           tubers  \n",
       "248           tubers  \n",
       "\n",
       "[249 rows x 4 columns]"
      ]
     },
     "execution_count": 24,
     "metadata": {},
     "output_type": "execute_result"
    }
   ],
   "source": [
    "# read in as a dataframe\n",
    "reader.fao_crosswalk_crop_type"
   ]
  },
  {
   "cell_type": "code",
   "execution_count": null,
   "id": "50e3df92-a250-4fe1-a25d-fe97ba51f2e9",
   "metadata": {},
   "outputs": [],
   "source": []
  },
  {
   "cell_type": "code",
   "execution_count": null,
   "id": "0f4ffac5-0621-4848-9010-5781dbcff423",
   "metadata": {},
   "outputs": [],
   "source": []
  },
  {
   "cell_type": "code",
   "execution_count": null,
   "id": "f6e65f93-a8eb-4858-91eb-f60823d11e82",
   "metadata": {},
   "outputs": [],
   "source": []
  }
 ],
 "metadata": {
  "kernelspec": {
   "display_name": "Python 3 (ipykernel)",
   "language": "python",
   "name": "python3"
  },
  "language_info": {
   "codemirror_mode": {
    "name": "ipython",
    "version": 3
   },
   "file_extension": ".py",
   "mimetype": "text/x-python",
   "name": "python",
   "nbconvert_exporter": "python",
   "pygments_lexer": "ipython3",
   "version": "3.11.0"
  }
 },
 "nbformat": 4,
 "nbformat_minor": 5
}
