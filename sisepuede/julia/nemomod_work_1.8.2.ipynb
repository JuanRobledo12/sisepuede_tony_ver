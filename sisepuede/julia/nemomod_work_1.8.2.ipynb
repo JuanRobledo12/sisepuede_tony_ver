{
 "cells": [
  {
   "cell_type": "code",
   "execution_count": 1,
   "metadata": {},
   "outputs": [
    {
     "name": "stderr",
     "output_type": "stream",
     "text": [
      "\u001b[32m\u001b[1m  Activating\u001b[22m\u001b[39m project at `~/Documents/Projects/git_jbus/sisepuede/julia`\n"
     ]
    },
    {
     "data": {
      "text/plain": [
       "\"/Users/jsyme/Documents/Projects/git_jbus/sisepuede/tmp/nemomod_intermediate_database.sqlite\""
      ]
     },
     "execution_count": 1,
     "metadata": {},
     "output_type": "execute_result"
    }
   ],
   "source": [
    "using Revise\n",
    "!(pwd() in LOAD_PATH) ? push!(LOAD_PATH, pwd()) : nothing\n",
    "include(\"SISEPUEDEPJSF.jl\")\n",
    "import .SISEPUEDEPJSF\n",
    "\n",
    "ENV[\"COLUMNS\"] = 240\n",
    "\n",
    "\n",
    "using Pkg\n",
    "Pkg.activate(\".\")\n",
    "\n",
    "\n",
    "using DataFrames\n",
    "using NemoMod\n",
    "using SQLite\n",
    "using Cbc\n",
    "using JuMP\n",
    "using Gurobi\n",
    "using GAMS\n",
    "using HiGHS\n",
    "\n",
    "include(\"setup_analysis.jl\")"
   ]
  },
  {
   "cell_type": "code",
   "execution_count": null,
   "metadata": {},
   "outputs": [],
   "source": []
  },
  {
   "cell_type": "code",
   "execution_count": 2,
   "metadata": {},
   "outputs": [
    {
     "data": {
      "text/plain": [
       "\"/Users/jsyme/Documents/Projects/git_jbus/sisepuede/tmp/nemomod_intermediate_database_ORIG.sqlite\""
      ]
     },
     "execution_count": 2,
     "metadata": {},
     "output_type": "execute_result"
    }
   ],
   "source": [
    "fp_sqlite = \"/Users/jsyme/Documents/Projects/git_jbus/sisepuede/tmp/nemomod_intermediate_database.sqlite\"\n",
    "fp_sqlite_orig = \"/Users/jsyme/Documents/Projects/git_jbus/sisepuede/tmp/nemomod_intermediate_database_ORIG.sqlite\"\n",
    "\n",
    "\n",
    "# USE TO REINITIALIZE fp_sqlite\n",
    "# cp(fp_sqlite_orig, fp_sqlite, force = true)\n",
    "cp(fp_sqlite, fp_sqlite_orig, force = true)\n",
    "#"
   ]
  },
  {
   "cell_type": "code",
   "execution_count": 13,
   "metadata": {},
   "outputs": [
    {
     "data": {
      "text/plain": [
       "\"/Users/jsyme/Documents/Projects/git_jbus/sisepuede/tmp/nemomod_intermediate_database_ORIG.sqlite\""
      ]
     },
     "execution_count": 13,
     "metadata": {},
     "output_type": "execute_result"
    }
   ],
   "source": [
    "#cp(fp_sqlite, fp_sqlite_orig, force = true)\n",
    "#SQLite.close(db)"
   ]
  },
  {
   "cell_type": "code",
   "execution_count": 3,
   "metadata": {},
   "outputs": [
    {
     "data": {
      "text/plain": [
       "SQLite.DB(\"/Users/jsyme/Documents/Projects/git_jbus/sisepuede/tmp/nemomod_intermediate_database.sqlite\")"
      ]
     },
     "execution_count": 3,
     "metadata": {},
     "output_type": "execute_result"
    }
   ],
   "source": [
    "db = SQLite.DB(fp_sqlite)\n",
    "#db_orig = SQLite.DB(fp_sqlite_orig)"
   ]
  },
  {
   "cell_type": "code",
   "execution_count": 4,
   "metadata": {
    "tags": []
   },
   "outputs": [],
   "source": [
    "dict_tables = Dict()\n",
    "\n",
    "tabs = [x.name for x in SQLite.tables(db)]\n",
    "table_name = 0\n",
    "tabs_populated = Vector{String}()\n",
    "for k in 1:length(tabs)\n",
    "    table_name = tabs[k]\n",
    "    df_tmp = DBInterface.execute(db, \"select * from $(table_name)\") |> DataFrame\n",
    "    dict_tables[table_name] = df_tmp\n",
    "    \n",
    "    (nrow(df_tmp) > 0) ? push!(tabs_populated, table_name) : nothing\n",
    "end\n",
    "\n",
    "\n",
    "tabs = sort([x for x in tabs_populated if (x != uppercase(x)) & !startswith(x, \"v\")]);\n",
    "#println.(tabs);"
   ]
  },
  {
   "cell_type": "code",
   "execution_count": 16,
   "metadata": {},
   "outputs": [
    {
     "data": {
      "text/plain": [
       "0.9999999999999997"
      ]
     },
     "execution_count": 16,
     "metadata": {},
     "output_type": "execute_result"
    }
   ],
   "source": [
    "#println.(sort(collect(keys(dict_tables))))\n",
    "\n",
    "filter(\n",
    "    x -> ((x[:y] == \"1000\") & (x[:f] == \"fuel_electricity\")),\n",
    "    dict_tables[\"MinShareProduction\"]\n",
    ")[:, :val])"
   ]
  },
  {
   "cell_type": "code",
   "execution_count": 36,
   "metadata": {},
   "outputs": [
    {
     "data": {
      "text/plain": [
       "0.7840394210867776"
      ]
     },
     "execution_count": 36,
     "metadata": {},
     "output_type": "execute_result"
    }
   ],
   "source": [
    "df = get(dict_tables, \"MinShareProduction\", nothing)\n",
    "sum(filter(x -> ((x[:y] == \"1030\") & (x[:f] == \"fuel_electricity\")), df)[:, :val])"
   ]
  },
  {
   "cell_type": "code",
   "execution_count": 17,
   "metadata": {
    "tags": []
   },
   "outputs": [
    {
     "data": {
      "text/plain": [
       "0.9999999999999996"
      ]
     },
     "execution_count": 17,
     "metadata": {},
     "output_type": "execute_result"
    }
   ],
   "source": [
    "# df = dict_tables[\"SpecifiedAnnualDemand\"]\n",
    "# filter((x -> (x[:y] in [\"1000\", \"1001\"])), df)\n",
    "df = get(dict_tables, \"MinShareProduction\", nothing)\n",
    "sum(filter(x -> ((x[:y] == \"1001\") & (x[:f] == \"fuel_electricity\")), df)[:, :val])"
   ]
  },
  {
   "cell_type": "code",
   "execution_count": 32,
   "metadata": {
    "collapsed": true,
    "jupyter": {
     "outputs_hidden": true
    },
    "tags": []
   },
   "outputs": [
    {
     "data": {
      "text/html": [
       "<div><div style = \"float: left;\"><span>25×5 DataFrame</span></div><div style = \"clear: both;\"></div></div><div class = \"data-frame\" style = \"overflow-x: scroll;\"><table class = \"data-frame\" style = \"margin-bottom: 6px;\"><thead><tr class = \"header\"><th class = \"rowNumber\" style = \"font-weight: bold; text-align: right;\">Row</th><th style = \"text-align: left;\">id</th><th style = \"text-align: left;\">r</th><th style = \"text-align: left;\">t</th><th style = \"text-align: left;\">y</th><th style = \"text-align: left;\">val</th></tr><tr class = \"subheader headerLastRow\"><th class = \"rowNumber\" style = \"font-weight: bold; text-align: right;\"></th><th title = \"Int64\" style = \"text-align: left;\">Int64</th><th title = \"String\" style = \"text-align: left;\">String</th><th title = \"String\" style = \"text-align: left;\">String</th><th title = \"String\" style = \"text-align: left;\">String</th><th title = \"Float64\" style = \"text-align: left;\">Float64</th></tr></thead><tbody><tr><td class = \"rowNumber\" style = \"font-weight: bold; text-align: right;\">1</td><td style = \"text-align: right;\">13</td><td style = \"text-align: left;\">costa_rica</td><td style = \"text-align: left;\">pp_hydropower</td><td style = \"text-align: left;\">1011</td><td style = \"text-align: right;\">15.407</td></tr><tr><td class = \"rowNumber\" style = \"font-weight: bold; text-align: right;\">2</td><td style = \"text-align: right;\">15</td><td style = \"text-align: left;\">costa_rica</td><td style = \"text-align: left;\">pp_hydropower</td><td style = \"text-align: left;\">1012</td><td style = \"text-align: right;\">14.4826</td></tr><tr><td class = \"rowNumber\" style = \"font-weight: bold; text-align: right;\">3</td><td style = \"text-align: right;\">17</td><td style = \"text-align: left;\">costa_rica</td><td style = \"text-align: left;\">pp_hydropower</td><td style = \"text-align: left;\">1013</td><td style = \"text-align: right;\">13.5582</td></tr><tr><td class = \"rowNumber\" style = \"font-weight: bold; text-align: right;\">4</td><td style = \"text-align: right;\">19</td><td style = \"text-align: left;\">costa_rica</td><td style = \"text-align: left;\">pp_hydropower</td><td style = \"text-align: left;\">1014</td><td style = \"text-align: right;\">12.6338</td></tr><tr><td class = \"rowNumber\" style = \"font-weight: bold; text-align: right;\">5</td><td style = \"text-align: right;\">21</td><td style = \"text-align: left;\">costa_rica</td><td style = \"text-align: left;\">pp_hydropower</td><td style = \"text-align: left;\">1015</td><td style = \"text-align: right;\">11.7093</td></tr><tr><td class = \"rowNumber\" style = \"font-weight: bold; text-align: right;\">6</td><td style = \"text-align: right;\">23</td><td style = \"text-align: left;\">costa_rica</td><td style = \"text-align: left;\">pp_hydropower</td><td style = \"text-align: left;\">1016</td><td style = \"text-align: right;\">10.7849</td></tr><tr><td class = \"rowNumber\" style = \"font-weight: bold; text-align: right;\">7</td><td style = \"text-align: right;\">25</td><td style = \"text-align: left;\">costa_rica</td><td style = \"text-align: left;\">pp_hydropower</td><td style = \"text-align: left;\">1017</td><td style = \"text-align: right;\">9.86049</td></tr><tr><td class = \"rowNumber\" style = \"font-weight: bold; text-align: right;\">8</td><td style = \"text-align: right;\">27</td><td style = \"text-align: left;\">costa_rica</td><td style = \"text-align: left;\">pp_hydropower</td><td style = \"text-align: left;\">1018</td><td style = \"text-align: right;\">8.93607</td></tr><tr><td class = \"rowNumber\" style = \"font-weight: bold; text-align: right;\">9</td><td style = \"text-align: right;\">29</td><td style = \"text-align: left;\">costa_rica</td><td style = \"text-align: left;\">pp_hydropower</td><td style = \"text-align: left;\">1019</td><td style = \"text-align: right;\">8.01165</td></tr><tr><td class = \"rowNumber\" style = \"font-weight: bold; text-align: right;\">10</td><td style = \"text-align: right;\">31</td><td style = \"text-align: left;\">costa_rica</td><td style = \"text-align: left;\">pp_hydropower</td><td style = \"text-align: left;\">1020</td><td style = \"text-align: right;\">7.08723</td></tr><tr><td class = \"rowNumber\" style = \"font-weight: bold; text-align: right;\">11</td><td style = \"text-align: right;\">33</td><td style = \"text-align: left;\">costa_rica</td><td style = \"text-align: left;\">pp_hydropower</td><td style = \"text-align: left;\">1021</td><td style = \"text-align: right;\">6.16281</td></tr><tr><td class = \"rowNumber\" style = \"font-weight: bold; text-align: right;\">12</td><td style = \"text-align: right;\">35</td><td style = \"text-align: left;\">costa_rica</td><td style = \"text-align: left;\">pp_hydropower</td><td style = \"text-align: left;\">1022</td><td style = \"text-align: right;\">5.23839</td></tr><tr><td class = \"rowNumber\" style = \"font-weight: bold; text-align: right;\">13</td><td style = \"text-align: right;\">37</td><td style = \"text-align: left;\">costa_rica</td><td style = \"text-align: left;\">pp_hydropower</td><td style = \"text-align: left;\">1023</td><td style = \"text-align: right;\">4.31397</td></tr><tr><td class = \"rowNumber\" style = \"font-weight: bold; text-align: right;\">14</td><td style = \"text-align: right;\">39</td><td style = \"text-align: left;\">costa_rica</td><td style = \"text-align: left;\">pp_hydropower</td><td style = \"text-align: left;\">1024</td><td style = \"text-align: right;\">3.38954</td></tr><tr><td class = \"rowNumber\" style = \"font-weight: bold; text-align: right;\">15</td><td style = \"text-align: right;\">41</td><td style = \"text-align: left;\">costa_rica</td><td style = \"text-align: left;\">pp_hydropower</td><td style = \"text-align: left;\">1025</td><td style = \"text-align: right;\">2.46512</td></tr><tr><td class = \"rowNumber\" style = \"font-weight: bold; text-align: right;\">16</td><td style = \"text-align: right;\">43</td><td style = \"text-align: left;\">costa_rica</td><td style = \"text-align: left;\">pp_hydropower</td><td style = \"text-align: left;\">1026</td><td style = \"text-align: right;\">1.5407</td></tr><tr><td class = \"rowNumber\" style = \"font-weight: bold; text-align: right;\">17</td><td style = \"text-align: right;\">45</td><td style = \"text-align: left;\">costa_rica</td><td style = \"text-align: left;\">pp_hydropower</td><td style = \"text-align: left;\">1027</td><td style = \"text-align: right;\">0.616281</td></tr><tr><td class = \"rowNumber\" style = \"font-weight: bold; text-align: right;\">18</td><td style = \"text-align: right;\">47</td><td style = \"text-align: left;\">costa_rica</td><td style = \"text-align: left;\">pp_hydropower</td><td style = \"text-align: left;\">1028</td><td style = \"text-align: right;\">0.0</td></tr><tr><td class = \"rowNumber\" style = \"font-weight: bold; text-align: right;\">19</td><td style = \"text-align: right;\">49</td><td style = \"text-align: left;\">costa_rica</td><td style = \"text-align: left;\">pp_hydropower</td><td style = \"text-align: left;\">1029</td><td style = \"text-align: right;\">0.0</td></tr><tr><td class = \"rowNumber\" style = \"font-weight: bold; text-align: right;\">20</td><td style = \"text-align: right;\">51</td><td style = \"text-align: left;\">costa_rica</td><td style = \"text-align: left;\">pp_hydropower</td><td style = \"text-align: left;\">1030</td><td style = \"text-align: right;\">0.0</td></tr><tr><td class = \"rowNumber\" style = \"font-weight: bold; text-align: right;\">21</td><td style = \"text-align: right;\">53</td><td style = \"text-align: left;\">costa_rica</td><td style = \"text-align: left;\">pp_hydropower</td><td style = \"text-align: left;\">1031</td><td style = \"text-align: right;\">0.0</td></tr><tr><td class = \"rowNumber\" style = \"font-weight: bold; text-align: right;\">22</td><td style = \"text-align: right;\">55</td><td style = \"text-align: left;\">costa_rica</td><td style = \"text-align: left;\">pp_hydropower</td><td style = \"text-align: left;\">1032</td><td style = \"text-align: right;\">0.0</td></tr><tr><td class = \"rowNumber\" style = \"font-weight: bold; text-align: right;\">23</td><td style = \"text-align: right;\">57</td><td style = \"text-align: left;\">costa_rica</td><td style = \"text-align: left;\">pp_hydropower</td><td style = \"text-align: left;\">1033</td><td style = \"text-align: right;\">0.0</td></tr><tr><td class = \"rowNumber\" style = \"font-weight: bold; text-align: right;\">24</td><td style = \"text-align: right;\">59</td><td style = \"text-align: left;\">costa_rica</td><td style = \"text-align: left;\">pp_hydropower</td><td style = \"text-align: left;\">1034</td><td style = \"text-align: right;\">0.0</td></tr><tr><td class = \"rowNumber\" style = \"font-weight: bold; text-align: right;\">25</td><td style = \"text-align: right;\">61</td><td style = \"text-align: left;\">costa_rica</td><td style = \"text-align: left;\">pp_hydropower</td><td style = \"text-align: left;\">1035</td><td style = \"text-align: right;\">0.0</td></tr></tbody></table></div>"
      ],
      "text/latex": [
       "\\begin{tabular}{r|ccccc}\n",
       "\t& id & r & t & y & val\\\\\n",
       "\t\\hline\n",
       "\t& Int64 & String & String & String & Float64\\\\\n",
       "\t\\hline\n",
       "\t1 & 13 & costa\\_rica & pp\\_hydropower & 1011 & 15.407 \\\\\n",
       "\t2 & 15 & costa\\_rica & pp\\_hydropower & 1012 & 14.4826 \\\\\n",
       "\t3 & 17 & costa\\_rica & pp\\_hydropower & 1013 & 13.5582 \\\\\n",
       "\t4 & 19 & costa\\_rica & pp\\_hydropower & 1014 & 12.6338 \\\\\n",
       "\t5 & 21 & costa\\_rica & pp\\_hydropower & 1015 & 11.7093 \\\\\n",
       "\t6 & 23 & costa\\_rica & pp\\_hydropower & 1016 & 10.7849 \\\\\n",
       "\t7 & 25 & costa\\_rica & pp\\_hydropower & 1017 & 9.86049 \\\\\n",
       "\t8 & 27 & costa\\_rica & pp\\_hydropower & 1018 & 8.93607 \\\\\n",
       "\t9 & 29 & costa\\_rica & pp\\_hydropower & 1019 & 8.01165 \\\\\n",
       "\t10 & 31 & costa\\_rica & pp\\_hydropower & 1020 & 7.08723 \\\\\n",
       "\t11 & 33 & costa\\_rica & pp\\_hydropower & 1021 & 6.16281 \\\\\n",
       "\t12 & 35 & costa\\_rica & pp\\_hydropower & 1022 & 5.23839 \\\\\n",
       "\t13 & 37 & costa\\_rica & pp\\_hydropower & 1023 & 4.31397 \\\\\n",
       "\t14 & 39 & costa\\_rica & pp\\_hydropower & 1024 & 3.38954 \\\\\n",
       "\t15 & 41 & costa\\_rica & pp\\_hydropower & 1025 & 2.46512 \\\\\n",
       "\t16 & 43 & costa\\_rica & pp\\_hydropower & 1026 & 1.5407 \\\\\n",
       "\t17 & 45 & costa\\_rica & pp\\_hydropower & 1027 & 0.616281 \\\\\n",
       "\t18 & 47 & costa\\_rica & pp\\_hydropower & 1028 & 0.0 \\\\\n",
       "\t19 & 49 & costa\\_rica & pp\\_hydropower & 1029 & 0.0 \\\\\n",
       "\t20 & 51 & costa\\_rica & pp\\_hydropower & 1030 & 0.0 \\\\\n",
       "\t21 & 53 & costa\\_rica & pp\\_hydropower & 1031 & 0.0 \\\\\n",
       "\t22 & 55 & costa\\_rica & pp\\_hydropower & 1032 & 0.0 \\\\\n",
       "\t23 & 57 & costa\\_rica & pp\\_hydropower & 1033 & 0.0 \\\\\n",
       "\t24 & 59 & costa\\_rica & pp\\_hydropower & 1034 & 0.0 \\\\\n",
       "\t25 & 61 & costa\\_rica & pp\\_hydropower & 1035 & 0.0 \\\\\n",
       "\\end{tabular}\n"
      ],
      "text/plain": [
       "\u001b[1m25×5 DataFrame\u001b[0m\n",
       "\u001b[1m Row \u001b[0m│\u001b[1m id    \u001b[0m\u001b[1m r          \u001b[0m\u001b[1m t             \u001b[0m\u001b[1m y      \u001b[0m\u001b[1m val       \u001b[0m\n",
       "     │\u001b[90m Int64 \u001b[0m\u001b[90m String     \u001b[0m\u001b[90m String        \u001b[0m\u001b[90m String \u001b[0m\u001b[90m Float64   \u001b[0m\n",
       "─────┼─────────────────────────────────────────────────────\n",
       "   1 │    13  costa_rica  pp_hydropower  1011    15.407\n",
       "   2 │    15  costa_rica  pp_hydropower  1012    14.4826\n",
       "   3 │    17  costa_rica  pp_hydropower  1013    13.5582\n",
       "   4 │    19  costa_rica  pp_hydropower  1014    12.6338\n",
       "   5 │    21  costa_rica  pp_hydropower  1015    11.7093\n",
       "   6 │    23  costa_rica  pp_hydropower  1016    10.7849\n",
       "   7 │    25  costa_rica  pp_hydropower  1017     9.86049\n",
       "   8 │    27  costa_rica  pp_hydropower  1018     8.93607\n",
       "   9 │    29  costa_rica  pp_hydropower  1019     8.01165\n",
       "  10 │    31  costa_rica  pp_hydropower  1020     7.08723\n",
       "  11 │    33  costa_rica  pp_hydropower  1021     6.16281\n",
       "  ⋮  │   ⋮        ⋮             ⋮          ⋮         ⋮\n",
       "  16 │    43  costa_rica  pp_hydropower  1026     1.5407\n",
       "  17 │    45  costa_rica  pp_hydropower  1027     0.616281\n",
       "  18 │    47  costa_rica  pp_hydropower  1028     0.0\n",
       "  19 │    49  costa_rica  pp_hydropower  1029     0.0\n",
       "  20 │    51  costa_rica  pp_hydropower  1030     0.0\n",
       "  21 │    53  costa_rica  pp_hydropower  1031     0.0\n",
       "  22 │    55  costa_rica  pp_hydropower  1032     0.0\n",
       "  23 │    57  costa_rica  pp_hydropower  1033     0.0\n",
       "  24 │    59  costa_rica  pp_hydropower  1034     0.0\n",
       "  25 │    61  costa_rica  pp_hydropower  1035     0.0\n",
       "\u001b[36m                                             4 rows omitted\u001b[0m"
      ]
     },
     "execution_count": 32,
     "metadata": {},
     "output_type": "execute_result"
    }
   ],
   "source": [
    "#cp(fp_sqlite_orig, fp_sqlite, force = true)\n",
    "\n",
    "df = dict_tables[\"TotalAnnualMaxCapacityInvestment\"]#TotalAnnualMaxCapacityInvestment\n",
    "filter(x -> (x[:t] == \"pp_hydropower\"), df)\n",
    "\n",
    "\n",
    "#filter(x -> ((x[:y] == \"1010\") & (x[:f] == \"fuel_electricity\")), df)"
   ]
  },
  {
   "cell_type": "code",
   "execution_count": 50,
   "metadata": {
    "tags": []
   },
   "outputs": [
    {
     "data": {
      "text/html": [
       "<div><div style = \"float: left;\"><span>10×6 DataFrame</span></div><div style = \"clear: both;\"></div></div><div class = \"data-frame\" style = \"overflow-x: scroll;\"><table class = \"data-frame\" style = \"margin-bottom: 6px;\"><thead><tr class = \"header\"><th class = \"rowNumber\" style = \"font-weight: bold; text-align: right;\">Row</th><th style = \"text-align: left;\">id</th><th style = \"text-align: left;\">r</th><th style = \"text-align: left;\">t</th><th style = \"text-align: left;\">f</th><th style = \"text-align: left;\">y</th><th style = \"text-align: left;\">val</th></tr><tr class = \"subheader headerLastRow\"><th class = \"rowNumber\" style = \"font-weight: bold; text-align: right;\"></th><th title = \"Int64\" style = \"text-align: left;\">Int64</th><th title = \"String\" style = \"text-align: left;\">String</th><th title = \"String\" style = \"text-align: left;\">String</th><th title = \"String\" style = \"text-align: left;\">String</th><th title = \"String\" style = \"text-align: left;\">String</th><th title = \"Float64\" style = \"text-align: left;\">Float64</th></tr></thead><tbody><tr><td class = \"rowNumber\" style = \"font-weight: bold; text-align: right;\">1</td><td style = \"text-align: right;\">2</td><td style = \"text-align: left;\">costa_rica</td><td style = \"text-align: left;\">pp_biomass</td><td style = \"text-align: left;\">fuel_electricity</td><td style = \"text-align: left;\">1001</td><td style = \"text-align: right;\">0.0158832</td></tr><tr><td class = \"rowNumber\" style = \"font-weight: bold; text-align: right;\">2</td><td style = \"text-align: right;\">38</td><td style = \"text-align: left;\">costa_rica</td><td style = \"text-align: left;\">pp_coal</td><td style = \"text-align: left;\">fuel_electricity</td><td style = \"text-align: left;\">1001</td><td style = \"text-align: right;\">0.311611</td></tr><tr><td class = \"rowNumber\" style = \"font-weight: bold; text-align: right;\">3</td><td style = \"text-align: right;\">74</td><td style = \"text-align: left;\">costa_rica</td><td style = \"text-align: left;\">pp_gas</td><td style = \"text-align: left;\">fuel_electricity</td><td style = \"text-align: left;\">1001</td><td style = \"text-align: right;\">0.326355</td></tr><tr><td class = \"rowNumber\" style = \"font-weight: bold; text-align: right;\">4</td><td style = \"text-align: right;\">110</td><td style = \"text-align: left;\">costa_rica</td><td style = \"text-align: left;\">pp_geothermal</td><td style = \"text-align: left;\">fuel_electricity</td><td style = \"text-align: left;\">1001</td><td style = \"text-align: right;\">0.00385562</td></tr><tr><td class = \"rowNumber\" style = \"font-weight: bold; text-align: right;\">5</td><td style = \"text-align: right;\">146</td><td style = \"text-align: left;\">costa_rica</td><td style = \"text-align: left;\">pp_hydropower</td><td style = \"text-align: left;\">fuel_electricity</td><td style = \"text-align: left;\">1001</td><td style = \"text-align: right;\">0.0707134</td></tr><tr><td class = \"rowNumber\" style = \"font-weight: bold; text-align: right;\">6</td><td style = \"text-align: right;\">182</td><td style = \"text-align: left;\">costa_rica</td><td style = \"text-align: left;\">pp_nuclear</td><td style = \"text-align: left;\">fuel_electricity</td><td style = \"text-align: left;\">1001</td><td style = \"text-align: right;\">0.196288</td></tr><tr><td class = \"rowNumber\" style = \"font-weight: bold; text-align: right;\">7</td><td style = \"text-align: right;\">218</td><td style = \"text-align: left;\">costa_rica</td><td style = \"text-align: left;\">pp_oil</td><td style = \"text-align: left;\">fuel_electricity</td><td style = \"text-align: left;\">1001</td><td style = \"text-align: right;\">0.00799927</td></tr><tr><td class = \"rowNumber\" style = \"font-weight: bold; text-align: right;\">8</td><td style = \"text-align: right;\">254</td><td style = \"text-align: left;\">costa_rica</td><td style = \"text-align: left;\">pp_solar</td><td style = \"text-align: left;\">fuel_electricity</td><td style = \"text-align: left;\">1001</td><td style = \"text-align: right;\">0.011994</td></tr><tr><td class = \"rowNumber\" style = \"font-weight: bold; text-align: right;\">9</td><td style = \"text-align: right;\">290</td><td style = \"text-align: left;\">costa_rica</td><td style = \"text-align: left;\">pp_wind</td><td style = \"text-align: left;\">fuel_electricity</td><td style = \"text-align: left;\">1001</td><td style = \"text-align: right;\">0.0553011</td></tr><tr><td class = \"rowNumber\" style = \"font-weight: bold; text-align: right;\">10</td><td style = \"text-align: right;\">434</td><td style = \"text-align: left;\">costa_rica</td><td style = \"text-align: left;\">supply_fuel_electricity</td><td style = \"text-align: left;\">fuel_electricity</td><td style = \"text-align: left;\">1001</td><td style = \"text-align: right;\">0.0</td></tr></tbody></table></div>"
      ],
      "text/latex": [
       "\\begin{tabular}{r|cccccc}\n",
       "\t& id & r & t & f & y & val\\\\\n",
       "\t\\hline\n",
       "\t& Int64 & String & String & String & String & Float64\\\\\n",
       "\t\\hline\n",
       "\t1 & 2 & costa\\_rica & pp\\_biomass & fuel\\_electricity & 1001 & 0.0158832 \\\\\n",
       "\t2 & 38 & costa\\_rica & pp\\_coal & fuel\\_electricity & 1001 & 0.311611 \\\\\n",
       "\t3 & 74 & costa\\_rica & pp\\_gas & fuel\\_electricity & 1001 & 0.326355 \\\\\n",
       "\t4 & 110 & costa\\_rica & pp\\_geothermal & fuel\\_electricity & 1001 & 0.00385562 \\\\\n",
       "\t5 & 146 & costa\\_rica & pp\\_hydropower & fuel\\_electricity & 1001 & 0.0707134 \\\\\n",
       "\t6 & 182 & costa\\_rica & pp\\_nuclear & fuel\\_electricity & 1001 & 0.196288 \\\\\n",
       "\t7 & 218 & costa\\_rica & pp\\_oil & fuel\\_electricity & 1001 & 0.00799927 \\\\\n",
       "\t8 & 254 & costa\\_rica & pp\\_solar & fuel\\_electricity & 1001 & 0.011994 \\\\\n",
       "\t9 & 290 & costa\\_rica & pp\\_wind & fuel\\_electricity & 1001 & 0.0553011 \\\\\n",
       "\t10 & 434 & costa\\_rica & supply\\_fuel\\_electricity & fuel\\_electricity & 1001 & 0.0 \\\\\n",
       "\\end{tabular}\n"
      ],
      "text/plain": [
       "\u001b[1m10×6 DataFrame\u001b[0m\n",
       "\u001b[1m Row \u001b[0m│\u001b[1m id    \u001b[0m\u001b[1m r          \u001b[0m\u001b[1m t                       \u001b[0m\u001b[1m f                \u001b[0m\u001b[1m y      \u001b[0m\u001b[1m val        \u001b[0m\n",
       "     │\u001b[90m Int64 \u001b[0m\u001b[90m String     \u001b[0m\u001b[90m String                  \u001b[0m\u001b[90m String           \u001b[0m\u001b[90m String \u001b[0m\u001b[90m Float64    \u001b[0m\n",
       "─────┼──────────────────────────────────────────────────────────────────────────────────\n",
       "   1 │     2  costa_rica  pp_biomass               fuel_electricity  1001    0.0158832\n",
       "   2 │    38  costa_rica  pp_coal                  fuel_electricity  1001    0.311611\n",
       "   3 │    74  costa_rica  pp_gas                   fuel_electricity  1001    0.326355\n",
       "   4 │   110  costa_rica  pp_geothermal            fuel_electricity  1001    0.00385562\n",
       "   5 │   146  costa_rica  pp_hydropower            fuel_electricity  1001    0.0707134\n",
       "   6 │   182  costa_rica  pp_nuclear               fuel_electricity  1001    0.196288\n",
       "   7 │   218  costa_rica  pp_oil                   fuel_electricity  1001    0.00799927\n",
       "   8 │   254  costa_rica  pp_solar                 fuel_electricity  1001    0.011994\n",
       "   9 │   290  costa_rica  pp_wind                  fuel_electricity  1001    0.0553011\n",
       "  10 │   434  costa_rica  supply_fuel_electricity  fuel_electricity  1001    0.0"
      ]
     },
     "execution_count": 50,
     "metadata": {},
     "output_type": "execute_result"
    }
   ],
   "source": [
    "#dict_tables[\"MinShareProduction\"]\n",
    "#dict_tables[\"TotalAnnualMaxCapacityInvestment\"][:, :val] *= 2\n",
    "df = get(dict_tables, \"MinShareProduction\", nothing)\n",
    "filter(x -> ((x[:y] == \"1001\") & (x[:f] == \"fuel_electricity\")), df)\n",
    "    "
   ]
  },
  {
   "cell_type": "code",
   "execution_count": 52,
   "metadata": {},
   "outputs": [
    {
     "data": {
      "text/html": [
       "<div><div style = \"float: left;\"><span>1×5 DataFrame</span></div><div style = \"clear: both;\"></div></div><div class = \"data-frame\" style = \"overflow-x: scroll;\"><table class = \"data-frame\" style = \"margin-bottom: 6px;\"><thead><tr class = \"header\"><th class = \"rowNumber\" style = \"font-weight: bold; text-align: right;\">Row</th><th style = \"text-align: left;\">id</th><th style = \"text-align: left;\">r</th><th style = \"text-align: left;\">t</th><th style = \"text-align: left;\">y</th><th style = \"text-align: left;\">val</th></tr><tr class = \"subheader headerLastRow\"><th class = \"rowNumber\" style = \"font-weight: bold; text-align: right;\"></th><th title = \"Int64\" style = \"text-align: left;\">Int64</th><th title = \"String\" style = \"text-align: left;\">String</th><th title = \"String\" style = \"text-align: left;\">String</th><th title = \"String\" style = \"text-align: left;\">String</th><th title = \"Float64\" style = \"text-align: left;\">Float64</th></tr></thead><tbody><tr><td class = \"rowNumber\" style = \"font-weight: bold; text-align: right;\">1</td><td style = \"text-align: right;\">2</td><td style = \"text-align: left;\">costa_rica</td><td style = \"text-align: left;\">pp_biomass</td><td style = \"text-align: left;\">1001</td><td style = \"text-align: right;\">0.0</td></tr></tbody></table></div>"
      ],
      "text/latex": [
       "\\begin{tabular}{r|ccccc}\n",
       "\t& id & r & t & y & val\\\\\n",
       "\t\\hline\n",
       "\t& Int64 & String & String & String & Float64\\\\\n",
       "\t\\hline\n",
       "\t1 & 2 & costa\\_rica & pp\\_biomass & 1001 & 0.0 \\\\\n",
       "\\end{tabular}\n"
      ],
      "text/plain": [
       "\u001b[1m1×5 DataFrame\u001b[0m\n",
       "\u001b[1m Row \u001b[0m│\u001b[1m id    \u001b[0m\u001b[1m r          \u001b[0m\u001b[1m t          \u001b[0m\u001b[1m y      \u001b[0m\u001b[1m val     \u001b[0m\n",
       "     │\u001b[90m Int64 \u001b[0m\u001b[90m String     \u001b[0m\u001b[90m String     \u001b[0m\u001b[90m String \u001b[0m\u001b[90m Float64 \u001b[0m\n",
       "─────┼────────────────────────────────────────────────\n",
       "   1 │     2  costa_rica  pp_biomass  1001        0.0"
      ]
     },
     "execution_count": 52,
     "metadata": {},
     "output_type": "execute_result"
    }
   ],
   "source": [
    "#dict_tables[\"MinShareProduction\"]\n",
    "#dict_tables[\"TotalAnnualMaxCapacityInvestment\"][:, :val] *= 2\n",
    "df = get(dict_tables, \"TotalAnnualMaxCapacityInvestment\", nothing)\n",
    "filter(x -> ((x[:y] == \"1001\")), df)\n",
    "    "
   ]
  },
  {
   "cell_type": "code",
   "execution_count": 73,
   "metadata": {},
   "outputs": [
    {
     "data": {
      "text/plain": [
       "\"/Users/jsyme/Documents/Projects/git_jbus/sisepuede/tmp/nemomod_intermediate_database.sqlite\""
      ]
     },
     "execution_count": 73,
     "metadata": {},
     "output_type": "execute_result"
    }
   ],
   "source": [
    "SQLite.close(db)\n",
    "fp_sqlite"
   ]
  },
  {
   "cell_type": "code",
   "execution_count": null,
   "metadata": {},
   "outputs": [],
   "source": []
  },
  {
   "cell_type": "code",
   "execution_count": 26,
   "metadata": {},
   "outputs": [],
   "source": [
    "# SQLite.DBInterface.execute(db, \"delete from TotalAnnualMaxCapacity;\");\n",
    "# REMOVED:\n",
    "# MinShareProduction !1\n",
    "# TotalTechnologyAnnualActivityUpperLimit !2\n",
    "# TotalAnnualMaxCapacityInvestment !3\n",
    "# REMinProductionTarget \n",
    "# TotalAnnualMaxCapacityInvestmentStorage\n",
    "# TotalTechnologyAnnualActivityLowerLimit !4\n",
    "# TotalAnnualMaxCapacity !5\n",
    "\n"
   ]
  },
  {
   "cell_type": "code",
   "execution_count": 49,
   "metadata": {},
   "outputs": [
    {
     "data": {
      "text/html": [
       "<div><div style = \"float: left;\"><span>684×6 DataFrame</span></div><div style = \"float: right;\"><span style = \"font-style: italic;\">659 rows omitted</span></div><div style = \"clear: both;\"></div></div><div class = \"data-frame\" style = \"overflow-x: scroll;\"><table class = \"data-frame\" style = \"margin-bottom: 6px;\"><thead><tr class = \"header\"><th class = \"rowNumber\" style = \"font-weight: bold; text-align: right;\">Row</th><th style = \"text-align: left;\">id</th><th style = \"text-align: left;\">r</th><th style = \"text-align: left;\">t</th><th style = \"text-align: left;\">f</th><th style = \"text-align: left;\">y</th><th style = \"text-align: left;\">val</th></tr><tr class = \"subheader headerLastRow\"><th class = \"rowNumber\" style = \"font-weight: bold; text-align: right;\"></th><th title = \"Int64\" style = \"text-align: left;\">Int64</th><th title = \"String\" style = \"text-align: left;\">String</th><th title = \"String\" style = \"text-align: left;\">String</th><th title = \"String\" style = \"text-align: left;\">String</th><th title = \"String\" style = \"text-align: left;\">String</th><th title = \"Float64\" style = \"text-align: left;\">Float64</th></tr></thead><tbody><tr><td class = \"rowNumber\" style = \"font-weight: bold; text-align: right;\">1</td><td style = \"text-align: right;\">1</td><td style = \"text-align: left;\">costa_rica</td><td style = \"text-align: left;\">pp_biomass</td><td style = \"text-align: left;\">fuel_electricity</td><td style = \"text-align: left;\">1000</td><td style = \"text-align: right;\">0.01615</td></tr><tr><td class = \"rowNumber\" style = \"font-weight: bold; text-align: right;\">2</td><td style = \"text-align: right;\">2</td><td style = \"text-align: left;\">costa_rica</td><td style = \"text-align: left;\">pp_biomass</td><td style = \"text-align: left;\">fuel_electricity</td><td style = \"text-align: left;\">1001</td><td style = \"text-align: right;\">0.0158832</td></tr><tr><td class = \"rowNumber\" style = \"font-weight: bold; text-align: right;\">3</td><td style = \"text-align: right;\">3</td><td style = \"text-align: left;\">costa_rica</td><td style = \"text-align: left;\">pp_biomass</td><td style = \"text-align: left;\">fuel_electricity</td><td style = \"text-align: left;\">1002</td><td style = \"text-align: right;\">0.0159274</td></tr><tr><td class = \"rowNumber\" style = \"font-weight: bold; text-align: right;\">4</td><td style = \"text-align: right;\">4</td><td style = \"text-align: left;\">costa_rica</td><td style = \"text-align: left;\">pp_biomass</td><td style = \"text-align: left;\">fuel_electricity</td><td style = \"text-align: left;\">1003</td><td style = \"text-align: right;\">0.0150775</td></tr><tr><td class = \"rowNumber\" style = \"font-weight: bold; text-align: right;\">5</td><td style = \"text-align: right;\">5</td><td style = \"text-align: left;\">costa_rica</td><td style = \"text-align: left;\">pp_biomass</td><td style = \"text-align: left;\">fuel_electricity</td><td style = \"text-align: left;\">1004</td><td style = \"text-align: right;\">0.0142383</td></tr><tr><td class = \"rowNumber\" style = \"font-weight: bold; text-align: right;\">6</td><td style = \"text-align: right;\">6</td><td style = \"text-align: left;\">costa_rica</td><td style = \"text-align: left;\">pp_biomass</td><td style = \"text-align: left;\">fuel_electricity</td><td style = \"text-align: left;\">1005</td><td style = \"text-align: right;\">0.0139807</td></tr><tr><td class = \"rowNumber\" style = \"font-weight: bold; text-align: right;\">7</td><td style = \"text-align: right;\">7</td><td style = \"text-align: left;\">costa_rica</td><td style = \"text-align: left;\">pp_biomass</td><td style = \"text-align: left;\">fuel_electricity</td><td style = \"text-align: left;\">1006</td><td style = \"text-align: right;\">0.0134329</td></tr><tr><td class = \"rowNumber\" style = \"font-weight: bold; text-align: right;\">8</td><td style = \"text-align: right;\">8</td><td style = \"text-align: left;\">costa_rica</td><td style = \"text-align: left;\">pp_biomass</td><td style = \"text-align: left;\">fuel_electricity</td><td style = \"text-align: left;\">1007</td><td style = \"text-align: right;\">0.0125453</td></tr><tr><td class = \"rowNumber\" style = \"font-weight: bold; text-align: right;\">9</td><td style = \"text-align: right;\">9</td><td style = \"text-align: left;\">costa_rica</td><td style = \"text-align: left;\">pp_biomass</td><td style = \"text-align: left;\">fuel_electricity</td><td style = \"text-align: left;\">1008</td><td style = \"text-align: right;\">0.0113639</td></tr><tr><td class = \"rowNumber\" style = \"font-weight: bold; text-align: right;\">10</td><td style = \"text-align: right;\">10</td><td style = \"text-align: left;\">costa_rica</td><td style = \"text-align: left;\">pp_biomass</td><td style = \"text-align: left;\">fuel_electricity</td><td style = \"text-align: left;\">1009</td><td style = \"text-align: right;\">0.0144555</td></tr><tr><td class = \"rowNumber\" style = \"font-weight: bold; text-align: right;\">11</td><td style = \"text-align: right;\">11</td><td style = \"text-align: left;\">costa_rica</td><td style = \"text-align: left;\">pp_biomass</td><td style = \"text-align: left;\">fuel_electricity</td><td style = \"text-align: left;\">1010</td><td style = \"text-align: right;\">0.0144541</td></tr><tr><td class = \"rowNumber\" style = \"font-weight: bold; text-align: right;\">12</td><td style = \"text-align: right;\">12</td><td style = \"text-align: left;\">costa_rica</td><td style = \"text-align: left;\">pp_biomass</td><td style = \"text-align: left;\">fuel_electricity</td><td style = \"text-align: left;\">1011</td><td style = \"text-align: right;\">0.0144898</td></tr><tr><td class = \"rowNumber\" style = \"font-weight: bold; text-align: right;\">13</td><td style = \"text-align: right;\">13</td><td style = \"text-align: left;\">costa_rica</td><td style = \"text-align: left;\">pp_biomass</td><td style = \"text-align: left;\">fuel_electricity</td><td style = \"text-align: left;\">1012</td><td style = \"text-align: right;\">0.0145277</td></tr><tr><td style = \"text-align: right;\">&vellip;</td><td style = \"text-align: right;\">&vellip;</td><td style = \"text-align: right;\">&vellip;</td><td style = \"text-align: right;\">&vellip;</td><td style = \"text-align: right;\">&vellip;</td><td style = \"text-align: right;\">&vellip;</td><td style = \"text-align: right;\">&vellip;</td></tr><tr><td class = \"rowNumber\" style = \"font-weight: bold; text-align: right;\">673</td><td style = \"text-align: right;\">673</td><td style = \"text-align: left;\">costa_rica</td><td style = \"text-align: left;\">supply_fuel_oil</td><td style = \"text-align: left;\">fuel_oil</td><td style = \"text-align: left;\">1024</td><td style = \"text-align: right;\">0.0136556</td></tr><tr><td class = \"rowNumber\" style = \"font-weight: bold; text-align: right;\">674</td><td style = \"text-align: right;\">674</td><td style = \"text-align: left;\">costa_rica</td><td style = \"text-align: left;\">supply_fuel_oil</td><td style = \"text-align: left;\">fuel_oil</td><td style = \"text-align: left;\">1025</td><td style = \"text-align: right;\">0.0136556</td></tr><tr><td class = \"rowNumber\" style = \"font-weight: bold; text-align: right;\">675</td><td style = \"text-align: right;\">675</td><td style = \"text-align: left;\">costa_rica</td><td style = \"text-align: left;\">supply_fuel_oil</td><td style = \"text-align: left;\">fuel_oil</td><td style = \"text-align: left;\">1026</td><td style = \"text-align: right;\">0.0136556</td></tr><tr><td class = \"rowNumber\" style = \"font-weight: bold; text-align: right;\">676</td><td style = \"text-align: right;\">676</td><td style = \"text-align: left;\">costa_rica</td><td style = \"text-align: left;\">supply_fuel_oil</td><td style = \"text-align: left;\">fuel_oil</td><td style = \"text-align: left;\">1027</td><td style = \"text-align: right;\">0.0136556</td></tr><tr><td class = \"rowNumber\" style = \"font-weight: bold; text-align: right;\">677</td><td style = \"text-align: right;\">677</td><td style = \"text-align: left;\">costa_rica</td><td style = \"text-align: left;\">supply_fuel_oil</td><td style = \"text-align: left;\">fuel_oil</td><td style = \"text-align: left;\">1028</td><td style = \"text-align: right;\">0.0136556</td></tr><tr><td class = \"rowNumber\" style = \"font-weight: bold; text-align: right;\">678</td><td style = \"text-align: right;\">678</td><td style = \"text-align: left;\">costa_rica</td><td style = \"text-align: left;\">supply_fuel_oil</td><td style = \"text-align: left;\">fuel_oil</td><td style = \"text-align: left;\">1029</td><td style = \"text-align: right;\">0.0136556</td></tr><tr><td class = \"rowNumber\" style = \"font-weight: bold; text-align: right;\">679</td><td style = \"text-align: right;\">679</td><td style = \"text-align: left;\">costa_rica</td><td style = \"text-align: left;\">supply_fuel_oil</td><td style = \"text-align: left;\">fuel_oil</td><td style = \"text-align: left;\">1030</td><td style = \"text-align: right;\">0.0136556</td></tr><tr><td class = \"rowNumber\" style = \"font-weight: bold; text-align: right;\">680</td><td style = \"text-align: right;\">680</td><td style = \"text-align: left;\">costa_rica</td><td style = \"text-align: left;\">supply_fuel_oil</td><td style = \"text-align: left;\">fuel_oil</td><td style = \"text-align: left;\">1031</td><td style = \"text-align: right;\">0.0136556</td></tr><tr><td class = \"rowNumber\" style = \"font-weight: bold; text-align: right;\">681</td><td style = \"text-align: right;\">681</td><td style = \"text-align: left;\">costa_rica</td><td style = \"text-align: left;\">supply_fuel_oil</td><td style = \"text-align: left;\">fuel_oil</td><td style = \"text-align: left;\">1032</td><td style = \"text-align: right;\">0.0136556</td></tr><tr><td class = \"rowNumber\" style = \"font-weight: bold; text-align: right;\">682</td><td style = \"text-align: right;\">682</td><td style = \"text-align: left;\">costa_rica</td><td style = \"text-align: left;\">supply_fuel_oil</td><td style = \"text-align: left;\">fuel_oil</td><td style = \"text-align: left;\">1033</td><td style = \"text-align: right;\">0.0136556</td></tr><tr><td class = \"rowNumber\" style = \"font-weight: bold; text-align: right;\">683</td><td style = \"text-align: right;\">683</td><td style = \"text-align: left;\">costa_rica</td><td style = \"text-align: left;\">supply_fuel_oil</td><td style = \"text-align: left;\">fuel_oil</td><td style = \"text-align: left;\">1034</td><td style = \"text-align: right;\">0.0136556</td></tr><tr><td class = \"rowNumber\" style = \"font-weight: bold; text-align: right;\">684</td><td style = \"text-align: right;\">684</td><td style = \"text-align: left;\">costa_rica</td><td style = \"text-align: left;\">supply_fuel_oil</td><td style = \"text-align: left;\">fuel_oil</td><td style = \"text-align: left;\">1035</td><td style = \"text-align: right;\">0.0136556</td></tr></tbody></table></div>"
      ],
      "text/latex": [
       "\\begin{tabular}{r|cccccc}\n",
       "\t& id & r & t & f & y & val\\\\\n",
       "\t\\hline\n",
       "\t& Int64 & String & String & String & String & Float64\\\\\n",
       "\t\\hline\n",
       "\t1 & 1 & costa\\_rica & pp\\_biomass & fuel\\_electricity & 1000 & 0.01615 \\\\\n",
       "\t2 & 2 & costa\\_rica & pp\\_biomass & fuel\\_electricity & 1001 & 0.0158832 \\\\\n",
       "\t3 & 3 & costa\\_rica & pp\\_biomass & fuel\\_electricity & 1002 & 0.0159274 \\\\\n",
       "\t4 & 4 & costa\\_rica & pp\\_biomass & fuel\\_electricity & 1003 & 0.0150775 \\\\\n",
       "\t5 & 5 & costa\\_rica & pp\\_biomass & fuel\\_electricity & 1004 & 0.0142383 \\\\\n",
       "\t6 & 6 & costa\\_rica & pp\\_biomass & fuel\\_electricity & 1005 & 0.0139807 \\\\\n",
       "\t7 & 7 & costa\\_rica & pp\\_biomass & fuel\\_electricity & 1006 & 0.0134329 \\\\\n",
       "\t8 & 8 & costa\\_rica & pp\\_biomass & fuel\\_electricity & 1007 & 0.0125453 \\\\\n",
       "\t9 & 9 & costa\\_rica & pp\\_biomass & fuel\\_electricity & 1008 & 0.0113639 \\\\\n",
       "\t10 & 10 & costa\\_rica & pp\\_biomass & fuel\\_electricity & 1009 & 0.0144555 \\\\\n",
       "\t11 & 11 & costa\\_rica & pp\\_biomass & fuel\\_electricity & 1010 & 0.0144541 \\\\\n",
       "\t12 & 12 & costa\\_rica & pp\\_biomass & fuel\\_electricity & 1011 & 0.0144898 \\\\\n",
       "\t13 & 13 & costa\\_rica & pp\\_biomass & fuel\\_electricity & 1012 & 0.0145277 \\\\\n",
       "\t14 & 14 & costa\\_rica & pp\\_biomass & fuel\\_electricity & 1013 & 0.0145676 \\\\\n",
       "\t15 & 15 & costa\\_rica & pp\\_biomass & fuel\\_electricity & 1014 & 0.0146092 \\\\\n",
       "\t16 & 16 & costa\\_rica & pp\\_biomass & fuel\\_electricity & 1015 & 0.0146524 \\\\\n",
       "\t17 & 17 & costa\\_rica & pp\\_biomass & fuel\\_electricity & 1016 & 0.014697 \\\\\n",
       "\t18 & 18 & costa\\_rica & pp\\_biomass & fuel\\_electricity & 1017 & 0.014743 \\\\\n",
       "\t19 & 19 & costa\\_rica & pp\\_biomass & fuel\\_electricity & 1018 & 0.0147905 \\\\\n",
       "\t20 & 20 & costa\\_rica & pp\\_biomass & fuel\\_electricity & 1019 & 0.0148394 \\\\\n",
       "\t21 & 21 & costa\\_rica & pp\\_biomass & fuel\\_electricity & 1020 & 0.0148899 \\\\\n",
       "\t22 & 22 & costa\\_rica & pp\\_biomass & fuel\\_electricity & 1021 & 0.014942 \\\\\n",
       "\t23 & 23 & costa\\_rica & pp\\_biomass & fuel\\_electricity & 1022 & 0.0149957 \\\\\n",
       "\t24 & 24 & costa\\_rica & pp\\_biomass & fuel\\_electricity & 1023 & 0.0150509 \\\\\n",
       "\t25 & 25 & costa\\_rica & pp\\_biomass & fuel\\_electricity & 1024 & 0.0151078 \\\\\n",
       "\t26 & 26 & costa\\_rica & pp\\_biomass & fuel\\_electricity & 1025 & 0.0151661 \\\\\n",
       "\t27 & 27 & costa\\_rica & pp\\_biomass & fuel\\_electricity & 1026 & 0.0152258 \\\\\n",
       "\t28 & 28 & costa\\_rica & pp\\_biomass & fuel\\_electricity & 1027 & 0.0152869 \\\\\n",
       "\t29 & 29 & costa\\_rica & pp\\_biomass & fuel\\_electricity & 1028 & 0.0153492 \\\\\n",
       "\t30 & 30 & costa\\_rica & pp\\_biomass & fuel\\_electricity & 1029 & 0.0154126 \\\\\n",
       "\t$\\dots$ & $\\dots$ & $\\dots$ & $\\dots$ & $\\dots$ & $\\dots$ & $\\dots$ \\\\\n",
       "\\end{tabular}\n"
      ],
      "text/plain": [
       "\u001b[1m684×6 DataFrame\u001b[0m\n",
       "\u001b[1m Row \u001b[0m│\u001b[1m id    \u001b[0m\u001b[1m r          \u001b[0m\u001b[1m t               \u001b[0m\u001b[1m f                \u001b[0m\u001b[1m y      \u001b[0m\u001b[1m val       \u001b[0m\n",
       "     │\u001b[90m Int64 \u001b[0m\u001b[90m String     \u001b[0m\u001b[90m String          \u001b[0m\u001b[90m String           \u001b[0m\u001b[90m String \u001b[0m\u001b[90m Float64   \u001b[0m\n",
       "─────┼─────────────────────────────────────────────────────────────────────────\n",
       "   1 │     1  costa_rica  pp_biomass       fuel_electricity  1000    0.01615\n",
       "   2 │     2  costa_rica  pp_biomass       fuel_electricity  1001    0.0158832\n",
       "   3 │     3  costa_rica  pp_biomass       fuel_electricity  1002    0.0159274\n",
       "   4 │     4  costa_rica  pp_biomass       fuel_electricity  1003    0.0150775\n",
       "   5 │     5  costa_rica  pp_biomass       fuel_electricity  1004    0.0142383\n",
       "   6 │     6  costa_rica  pp_biomass       fuel_electricity  1005    0.0139807\n",
       "   7 │     7  costa_rica  pp_biomass       fuel_electricity  1006    0.0134329\n",
       "   8 │     8  costa_rica  pp_biomass       fuel_electricity  1007    0.0125453\n",
       "   9 │     9  costa_rica  pp_biomass       fuel_electricity  1008    0.0113639\n",
       "  10 │    10  costa_rica  pp_biomass       fuel_electricity  1009    0.0144555\n",
       "  11 │    11  costa_rica  pp_biomass       fuel_electricity  1010    0.0144541\n",
       "  ⋮  │   ⋮        ⋮              ⋮                ⋮            ⋮         ⋮\n",
       " 675 │   675  costa_rica  supply_fuel_oil  fuel_oil          1026    0.0136556\n",
       " 676 │   676  costa_rica  supply_fuel_oil  fuel_oil          1027    0.0136556\n",
       " 677 │   677  costa_rica  supply_fuel_oil  fuel_oil          1028    0.0136556\n",
       " 678 │   678  costa_rica  supply_fuel_oil  fuel_oil          1029    0.0136556\n",
       " 679 │   679  costa_rica  supply_fuel_oil  fuel_oil          1030    0.0136556\n",
       " 680 │   680  costa_rica  supply_fuel_oil  fuel_oil          1031    0.0136556\n",
       " 681 │   681  costa_rica  supply_fuel_oil  fuel_oil          1032    0.0136556\n",
       " 682 │   682  costa_rica  supply_fuel_oil  fuel_oil          1033    0.0136556\n",
       " 683 │   683  costa_rica  supply_fuel_oil  fuel_oil          1034    0.0136556\n",
       " 684 │   684  costa_rica  supply_fuel_oil  fuel_oil          1035    0.0136556\n",
       "\u001b[36m                                                               663 rows omitted\u001b[0m"
      ]
     },
     "execution_count": 49,
     "metadata": {},
     "output_type": "execute_result"
    }
   ],
   "source": [
    "#df = get(dict_tables, \"SpecifiedAnnualDemand\", nothing)\n",
    "dict_tables[\"MinShareProduction\"]"
   ]
  },
  {
   "cell_type": "code",
   "execution_count": 46,
   "metadata": {},
   "outputs": [],
   "source": [
    "DBInterface.execute(db, \"delete from MinShareProduction;\");"
   ]
  },
  {
   "cell_type": "code",
   "execution_count": 47,
   "metadata": {},
   "outputs": [
    {
     "data": {
      "text/html": [
       "<div><div style = \"float: left;\"><span>0×6 DataFrame</span></div><div style = \"clear: both;\"></div></div><div class = \"data-frame\" style = \"overflow-x: scroll;\"><table class = \"data-frame\" style = \"margin-bottom: 6px;\"><thead><tr class = \"header\"><th class = \"rowNumber\" style = \"font-weight: bold; text-align: right;\">Row</th><th style = \"text-align: left;\">id</th><th style = \"text-align: left;\">r</th><th style = \"text-align: left;\">t</th><th style = \"text-align: left;\">f</th><th style = \"text-align: left;\">y</th><th style = \"text-align: left;\">val</th></tr><tr class = \"subheader headerLastRow\"><th class = \"rowNumber\" style = \"font-weight: bold; text-align: right;\"></th><th title = \"Union{Missing, Int64}\" style = \"text-align: left;\">Int64?</th><th title = \"Union{Missing, String}\" style = \"text-align: left;\">String?</th><th title = \"Union{Missing, String}\" style = \"text-align: left;\">String?</th><th title = \"Union{Missing, String}\" style = \"text-align: left;\">String?</th><th title = \"Union{Missing, String}\" style = \"text-align: left;\">String?</th><th title = \"Union{Missing, Float64}\" style = \"text-align: left;\">Float64?</th></tr></thead><tbody></tbody></table></div>"
      ],
      "text/latex": [
       "\\begin{tabular}{r|cccccc}\n",
       "\t& id & r & t & f & y & val\\\\\n",
       "\t\\hline\n",
       "\t& Int64? & String? & String? & String? & String? & Float64?\\\\\n",
       "\t\\hline\n",
       "\\end{tabular}\n"
      ],
      "text/plain": [
       "\u001b[1m0×6 DataFrame\u001b[0m\n",
       "\u001b[1m Row \u001b[0m│\u001b[1m id     \u001b[0m\u001b[1m r       \u001b[0m\u001b[1m t       \u001b[0m\u001b[1m f       \u001b[0m\u001b[1m y       \u001b[0m\u001b[1m val      \u001b[0m\n",
       "     │\u001b[90m Int64? \u001b[0m\u001b[90m String? \u001b[0m\u001b[90m String? \u001b[0m\u001b[90m String? \u001b[0m\u001b[90m String? \u001b[0m\u001b[90m Float64? \u001b[0m\n",
       "─────┴──────────────────────────────────────────────────────"
      ]
     },
     "execution_count": 47,
     "metadata": {},
     "output_type": "execute_result"
    }
   ],
   "source": [
    "DBInterface.execute(db, \"select * from MinShareProduction\") |> DataFrame"
   ]
  },
  {
   "cell_type": "code",
   "execution_count": 48,
   "metadata": {
    "tags": []
   },
   "outputs": [
    {
     "name": "stdout",
     "output_type": "stream",
     "text": [
      "2024-03-Jun 13:53:15.356 Started modeling scenario.\n",
      "2024-03-Jun 13:53:15.357 Validated run-time arguments.\n",
      "2024-03-Jun 13:53:15.358 Connected to scenario database. Path = /Users/jsyme/Documents/Projects/git_jbus/sisepuede/tmp/nemomod_intermediate_database.sqlite.\n",
      "2024-03-Jun 13:53:15.363 Dropped pre-existing result tables from database.\n",
      "2024-03-Jun 13:53:15.363 Verified that transmission modeling is not enabled.\n",
      "2024-03-Jun 13:53:15.485 Created parameter views and indices.\n",
      "2024-03-Jun 13:53:15.496 Created temporary tables.\n",
      "2024-03-Jun 13:53:15.790 Executed core database queries.\n",
      "2024-03-Jun 13:53:15.791 Defined dimensions.\n",
      "2024-03-Jun 13:53:15.793 Defined demand variables.\n",
      "2024-03-Jun 13:53:15.793 Defined storage variables.\n",
      "2024-03-Jun 13:53:15.794 Defined capacity variables.\n",
      "2024-03-Jun 13:53:16.015 Defined activity variables.\n",
      "2024-03-Jun 13:53:16.016 Defined costing variables.\n",
      "2024-03-Jun 13:53:16.016 Defined reserve margin variables.\n",
      "2024-03-Jun 13:53:16.019 Defined emissions variables.\n",
      "2024-03-Jun 13:53:16.020 Defined combined nodal and non-nodal variables.\n",
      "2024-03-Jun 13:53:16.020 Finished defining model variables.\n",
      "2024-03-Jun 13:53:16.020 Scheduled task to add constraints to model.\n",
      "2024-03-Jun 13:53:16.020 Queued constraint CAa1_TotalNewCapacity for creation.\n",
      "2024-03-Jun 13:53:16.020 Queued constraint CAa2_TotalAnnualCapacity for creation.\n",
      "2024-03-Jun 13:53:16.030 Queued constraint VRateOfActivity1 for creation.\n",
      "2024-03-Jun 13:53:16.030 Queued constraint RampRate for creation.\n",
      "2024-03-Jun 13:53:16.030 Queued constraint CAa3_TotalActivityOfEachTechnology for creation.\n",
      "2024-03-Jun 13:53:16.030 Queued constraint CAa4_Constraint_Capacity for creation.\n",
      "2024-03-Jun 13:53:16.030 Queued constraint MinimumTechnologyUtilization for creation.\n",
      "2024-03-Jun 13:53:16.030 Queued constraint EBa2_RateOfFuelProduction2 for creation.\n",
      "2024-03-Jun 13:53:16.030 Queued constraint GenerationAnnualNN for creation.\n",
      "2024-03-Jun 13:53:16.030 Queued constraint ReGenerationAnnualNN for creation.\n",
      "2024-03-Jun 13:53:16.030 Queued constraint EBa3_RateOfFuelProduction3 for creation.\n",
      "2024-03-Jun 13:53:16.030 Queued constraint VRateOfProduction1 for creation.\n",
      "2024-03-Jun 13:53:16.037 Queued constraint EBa5_RateOfFuelUse2 for creation.\n",
      "2024-03-Jun 13:53:16.037 Queued constraint EBa6_RateOfFuelUse3 for creation.\n",
      "2024-03-Jun 13:53:16.038 Queued constraint VRateOfUse1 for creation.\n",
      "2024-03-Jun 13:53:16.038 Queued constraint EBa7_EnergyBalanceEachTS1 for creation.\n",
      "2024-03-Jun 13:53:16.038 Queued constraint EBa8_EnergyBalanceEachTS2 for creation.\n",
      "2024-03-Jun 13:53:16.038 Queued constraint EBa9_EnergyBalanceEachTS3 for creation.\n",
      "2024-03-Jun 13:53:16.042 Queued constraint EBa11_EnergyBalanceEachTS5 for creation.\n",
      "2024-03-Jun 13:53:16.207 Queued constraint EBb0_EnergyBalanceEachYear for creation.\n",
      "2024-03-Jun 13:53:16.207 Queued constraint EBb1_EnergyBalanceEachYear for creation.\n",
      "2024-03-Jun 13:53:16.207 Queued constraint EBb2_EnergyBalanceEachYear for creation.\n",
      "2024-03-Jun 13:53:16.207 Queued constraint EBb3_EnergyBalanceEachYear for creation.\n",
      "2024-03-Jun 13:53:16.207 Queued constraint EBb5_EnergyBalanceEachYear for creation.\n",
      "2024-03-Jun 13:53:16.207 Queued constraint Acc3_AverageAnnualRateOfActivity for creation.\n",
      "2024-03-Jun 13:53:16.207 Queued constraint NS1_RateOfStorageCharge for creation.\n",
      "2024-03-Jun 13:53:16.207 Queued constraint NS2_RateOfStorageDischarge for creation.\n",
      "2024-03-Jun 13:53:16.207 Queued constraint NS3_StorageLevelTsGroup1Start for creation.\n",
      "2024-03-Jun 13:53:16.316 Queued constraint NS4_StorageLevelTsGroup2Start for creation.\n",
      "2024-03-Jun 13:53:16.316 Queued constraint NS5_StorageLevelTimesliceEnd for creation.\n",
      "2024-03-Jun 13:53:16.316 Queued constraint NS6_StorageLevelTsGroup2End for creation.\n",
      "2024-03-Jun 13:53:16.317 Queued constraint NS6a_StorageLevelTsGroup2NetZero for creation.\n",
      "2024-03-Jun 13:53:16.317 Queued constraint NS7_StorageLevelTsGroup1End for creation.\n",
      "2024-03-Jun 13:53:16.317 Queued constraint NS7a_StorageLevelTsGroup1NetZero for creation.\n",
      "2024-03-Jun 13:53:16.317 Queued constraint NS8_StorageLevelYearEnd for creation.\n",
      "2024-03-Jun 13:53:16.317 Queued constraint NS8a_StorageLevelYearEndNetZero for creation.\n",
      "2024-03-Jun 13:53:16.317 Queued constraint SI1_StorageUpperLimit for creation.\n",
      "2024-03-Jun 13:53:16.317 Queued constraint SI2_StorageLowerLimit for creation.\n",
      "2024-03-Jun 13:53:16.317 Queued constraint SI3_TotalNewStorage for creation.\n",
      "2024-03-Jun 13:53:16.317 Queued constraint NS9a_StorageLevelTsLowerLimit for creation.\n",
      "2024-03-Jun 13:53:16.317 Queued constraint NS9b_StorageLevelTsUpperLimit for creation.\n",
      "2024-03-Jun 13:53:16.317 Queued constraint NS10_StorageChargeLimit for creation.\n",
      "2024-03-Jun 13:53:16.365 Queued constraint NS11_StorageDischargeLimit for creation.\n",
      "2024-03-Jun 13:53:16.365 Queued constraint NS12a_StorageLevelTsGroup2LowerLimit for creation.\n",
      "2024-03-Jun 13:53:16.365 Queued constraint NS12b_StorageLevelTsGroup2UpperLimit for creation.\n",
      "2024-03-Jun 13:53:16.365 Queued constraint NS13a_StorageLevelTsGroup1LowerLimit for creation.\n",
      "2024-03-Jun 13:53:16.365 Queued constraint NS13b_StorageLevelTsGroup1UpperLimit for creation.\n",
      "2024-03-Jun 13:53:16.365 Queued constraint NS14_MaxStorageCapacity for creation.\n",
      "2024-03-Jun 13:53:16.365 Queued constraint NS15_MinStorageCapacity for creation.\n",
      "2024-03-Jun 13:53:16.365 Queued constraint NS16_MaxStorageCapacityInvestment for creation.\n",
      "2024-03-Jun 13:53:16.366 Queued constraint NS17_MinStorageCapacityInvestment for creation.\n",
      "2024-03-Jun 13:53:16.366 Queued constraint NS18_FullLoadHours for creation.\n",
      "2024-03-Jun 13:53:16.366 Queued constraint SI4a_FinancingStorage for creation.\n",
      "2024-03-Jun 13:53:16.366 Queued constraint SI4_UndiscountedCapitalInvestmentStorage for creation.\n",
      "2024-03-Jun 13:53:16.369 Queued constraint SI5_DiscountingCapitalInvestmentStorage for creation.\n",
      "2024-03-Jun 13:53:16.369 Queued constraint SI6_SalvageValueStorageAtEndOfPeriod1 for creation.\n",
      "2024-03-Jun 13:53:16.369 Queued constraint SI7_SalvageValueStorageAtEndOfPeriod2 for creation.\n",
      "2024-03-Jun 13:53:16.369 Queued constraint SI8_SalvageValueStorageAtEndOfPeriod3 for creation.\n",
      "2024-03-Jun 13:53:16.370 Queued constraint SI9_SalvageValueStorageDiscountedToStartYear for creation.\n",
      "2024-03-Jun 13:53:16.370 Queued constraint SI10_TotalDiscountedCostByStorage for creation.\n",
      "2024-03-Jun 13:53:16.370 Queued constraint CC1a_FinancingTechnology for creation.\n",
      "2024-03-Jun 13:53:16.370 Queued constraint CC1_UndiscountedCapitalInvestment for creation.\n",
      "2024-03-Jun 13:53:16.386 Queued constraint CC2_DiscountingCapitalInvestment for creation.\n",
      "2024-03-Jun 13:53:16.386 Queued constraint SV1_SalvageValueAtEndOfPeriod1 for creation.\n",
      "2024-03-Jun 13:53:16.386 Queued constraint SV2_SalvageValueAtEndOfPeriod2 for creation.\n",
      "2024-03-Jun 13:53:16.386 Queued constraint SV3_SalvageValueAtEndOfPeriod3 for creation.\n",
      "2024-03-Jun 13:53:16.386 Queued constraint SV4_SalvageValueDiscountedToStartYear for creation.\n",
      "2024-03-Jun 13:53:16.387 Queued constraint OC1_OperatingCostsVariable for creation.\n",
      "2024-03-Jun 13:53:16.400 Queued constraint OC2_OperatingCostsFixedAnnual for creation.\n",
      "2024-03-Jun 13:53:16.401 Queued constraint OC3_OperatingCostsTotalAnnual for creation.\n",
      "2024-03-Jun 13:53:16.401 Queued constraint OC4_DiscountedOperatingCostsTotalAnnual for creation.\n",
      "2024-03-Jun 13:53:16.401 Queued constraint TDC1_TotalDiscountedCostByTechnology for creation.\n",
      "2024-03-Jun 13:53:16.401 Queued constraint TDC2_TotalDiscountedCost for creation.\n",
      "2024-03-Jun 13:53:16.401 Queued constraint TCC1_TotalAnnualMaxCapacityConstraint for creation.\n",
      "2024-03-Jun 13:53:16.401 Queued constraint TCC2_TotalAnnualMinCapacityConstraint for creation.\n",
      "2024-03-Jun 13:53:16.401 Queued constraint NCC1_TotalAnnualMaxNewCapacityConstraint for creation.\n",
      "2024-03-Jun 13:53:16.438 Queued constraint NCC2_TotalAnnualMinNewCapacityConstraint for creation.\n",
      "2024-03-Jun 13:53:16.438 Queued constraint AAC1_TotalAnnualTechnologyActivity for creation.\n",
      "2024-03-Jun 13:53:16.438 Queued constraint AAC2_TotalAnnualTechnologyActivityUpperLimit for creation.\n",
      "2024-03-Jun 13:53:16.438 Queued constraint AAC3_TotalAnnualTechnologyActivityLowerLimit for creation.\n",
      "2024-03-Jun 13:53:16.438 Queued constraint RM1_ReserveMargin_TechnologiesIncluded_In_Activity_Units for creation.\n",
      "2024-03-Jun 13:53:16.448 Queued constraint RM2_ReserveMargin_FuelsIncluded for creation.\n",
      "2024-03-Jun 13:53:16.448 Queued constraint RM3_ReserveMargin_Constraint for creation.\n",
      "2024-03-Jun 13:53:16.448 Queued constraint RE1_FuelProductionByTechnologyAnnual for creation.\n",
      "2024-03-Jun 13:53:16.448 Queued constraint FuelUseByTechnologyAnnual for creation.\n",
      "2024-03-Jun 13:53:16.477 Queued constraint RE2_ProductionTarget for creation.\n",
      "2024-03-Jun 13:53:16.477 Queued constraint RE3_ProductionTargetRG for creation.\n",
      "2024-03-Jun 13:53:16.477 Queued constraint MinShareProduction for creation.\n",
      "2024-03-Jun 13:53:16.477 Queued constraint E2a_AnnualEmissionProduction for creation.\n",
      "2024-03-Jun 13:53:16.477 Queued constraint E2b_AnnualEmissionProduction for creation.\n",
      "2024-03-Jun 13:53:16.477 Queued constraint E4_EmissionsPenaltyByTechnology for creation.\n",
      "2024-03-Jun 13:53:16.481 Queued constraint E5_DiscountedEmissionsPenaltyByTechnology for creation.\n",
      "2024-03-Jun 13:53:16.795 Queued constraint E6_EmissionsAccounting1 for creation.\n",
      "2024-03-Jun 13:53:16.795 Queued constraint E7_EmissionsAccounting2 for creation.\n",
      "2024-03-Jun 13:53:16.795 Queued constraint E8_AnnualEmissionsLimit for creation.\n",
      "2024-03-Jun 13:53:16.795 Queued constraint E9_ModelPeriodEmissionsLimit for creation.\n",
      "2024-03-Jun 13:53:16.795 Queued 96 standard constraints for creation.\n"
     ]
    },
    {
     "name": "stderr",
     "output_type": "stream",
     "text": [
      "\u001b[33m\u001b[1m┌ \u001b[22m\u001b[39m\u001b[33m\u001b[1mWarning: \u001b[22m\u001b[39mModel period emission limits (ModelPeriodEmissionLimit parameter) are not enforced when modeling selected years.\n",
      "\u001b[33m\u001b[1m└ \u001b[22m\u001b[39m\u001b[90m@ NemoMod ~/.julia/packages/NemoMod/d2ky8/src/scenario_calculation.jl:6181\u001b[39m\n"
     ]
    },
    {
     "name": "stdout",
     "output_type": "stream",
     "text": [
      "2024-03-Jun 13:53:17.038 Finished scheduled task to add constraints to model.\n",
      "2024-03-Jun 13:53:17.038 Added 96 standard constraints to model.\n",
      "2024-03-Jun 13:53:17.039 Defined model objective.\n",
      "Running HiGHS 1.5.1 [date: 1970-01-01, git hash: 93f1876e4]\n",
      "Copyright (c) 2023 HiGHS under MIT licence terms\n",
      "Presolving model\n",
      "20487 rows, 21809 cols, 89981 nonzeros\n",
      "13925 rows, 15543 cols, 74967 nonzeros\n",
      "12917 rows, 10935 cols, 63875 nonzeros\n",
      "Presolve : Reductions: rows 12917(-90295); columns 10935(-88501); elements 63875(-230350)\n",
      "Solving the presolved LP\n",
      "Using EKK dual simplex solver - serial\n",
      "  Iteration        Objective     Infeasibilities num(sum)\n",
      "          0    -1.4216509234e+12 Pr: 1814(7.47158e+16) 0s\n",
      "       9193     8.5785004828e+04 Pr: 0(0); Du: 0(5.55112e-17) 1s\n",
      "Solving the original LP from the solution after postsolve\n",
      "Model   status      : Optimal\n",
      "Simplex   iterations: 9193\n",
      "Objective value     :  8.5785004828e+04\n",
      "HiGHS run time      :          1.58\n",
      "2024-03-Jun 13:53:19.103 Solved model. Solver status = OPTIMAL.\n",
      "2024-03-Jun 13:53:19.453 Saved results for vdemandnn to database.\n",
      "2024-03-Jun 13:53:19.518 Saved results for vnewcapacity to database.\n",
      "2024-03-Jun 13:53:19.523 Saved results for vtotalcapacityannual to database.\n",
      "2024-03-Jun 13:53:19.733 Saved results for vproductionbytechnologyannual to database.\n",
      "2024-03-Jun 13:53:19.768 Saved results for vproductionnn to database.\n",
      "2024-03-Jun 13:53:19.773 Saved results for vusebytechnologyannual to database.\n",
      "2024-03-Jun 13:53:19.802 Saved results for vusenn to database.\n",
      "2024-03-Jun 13:53:19.844 Saved results for vtotaldiscountedcost to database.\n",
      "2024-03-Jun 13:53:19.854 Saved results for vannualtechnologyemission to database.\n",
      "2024-03-Jun 13:53:19.854 Finished saving results to database.\n",
      "2024-03-Jun 13:53:19.856 Dropped temporary tables.\n",
      "2024-03-Jun 13:53:19.856 Finished modeling scenario.\n",
      "  4.499965 seconds (17.85 M allocations: 862.500 MiB, 13.92% compilation time)\n"
     ]
    },
    {
     "data": {
      "text/plain": [
       "OPTIMAL::TerminationStatusCode = 1"
      ]
     },
     "execution_count": 48,
     "metadata": {},
     "output_type": "execute_result"
    }
   ],
   "source": [
    "model = Model(HiGHS.Optimizer); #set_silent(model)\n",
    "set_time_limit_sec(model, 900)\n",
    "\n",
    "\n",
    "@time NemoMod.calculatescenario(\n",
    "    fp_sqlite,\n",
    "    calcyears = collect(1000:1005),\n",
    "    jumpmodel = model,\n",
    "    numprocs = 1,\n",
    "    varstosave = \"vdemandnn, vnewcapacity, vtotalcapacityannual, vproductionbytechnologyannual, vproductionnn, vusebytechnologyannual, vusenn, vtotaldiscountedcost, vannualtechnologyemission\"\n",
    ")\n",
    "\n",
    "\n"
   ]
  },
  {
   "cell_type": "code",
   "execution_count": 52,
   "metadata": {
    "tags": []
   },
   "outputs": [],
   "source": [
    "SQLite.close(db)"
   ]
  },
  {
   "cell_type": "code",
   "execution_count": 28,
   "metadata": {
    "tags": []
   },
   "outputs": [
    {
     "data": {
      "text/html": [
       "<div><div style = \"float: left;\"><span>0×5 DataFrame</span></div><div style = \"clear: both;\"></div></div><div class = \"data-frame\" style = \"overflow-x: scroll;\"><table class = \"data-frame\" style = \"margin-bottom: 6px;\"><thead><tr class = \"header\"><th class = \"rowNumber\" style = \"font-weight: bold; text-align: right;\">Row</th><th style = \"text-align: left;\">id</th><th style = \"text-align: left;\">r</th><th style = \"text-align: left;\">t</th><th style = \"text-align: left;\">y</th><th style = \"text-align: left;\">val</th></tr><tr class = \"subheader headerLastRow\"><th class = \"rowNumber\" style = \"font-weight: bold; text-align: right;\"></th><th title = \"Union{Missing, Int64}\" style = \"text-align: left;\">Int64?</th><th title = \"Union{Missing, String}\" style = \"text-align: left;\">String?</th><th title = \"Union{Missing, String}\" style = \"text-align: left;\">String?</th><th title = \"Union{Missing, String}\" style = \"text-align: left;\">String?</th><th title = \"Union{Missing, Float64}\" style = \"text-align: left;\">Float64?</th></tr></thead><tbody></tbody></table></div>"
      ],
      "text/latex": [
       "\\begin{tabular}{r|ccccc}\n",
       "\t& id & r & t & y & val\\\\\n",
       "\t\\hline\n",
       "\t& Int64? & String? & String? & String? & Float64?\\\\\n",
       "\t\\hline\n",
       "\\end{tabular}\n"
      ],
      "text/plain": [
       "\u001b[1m0×5 DataFrame\u001b[0m\n",
       "\u001b[1m Row \u001b[0m│\u001b[1m id     \u001b[0m\u001b[1m r       \u001b[0m\u001b[1m t       \u001b[0m\u001b[1m y       \u001b[0m\u001b[1m val      \u001b[0m\n",
       "     │\u001b[90m Int64? \u001b[0m\u001b[90m String? \u001b[0m\u001b[90m String? \u001b[0m\u001b[90m String? \u001b[0m\u001b[90m Float64? \u001b[0m\n",
       "─────┴─────────────────────────────────────────────"
      ]
     },
     "execution_count": 28,
     "metadata": {},
     "output_type": "execute_result"
    }
   ],
   "source": [
    "df_tmp2 = DBInterface.execute(db, \"select * from TotalAnnualMaxCapacity\") |> DataFrame"
   ]
  },
  {
   "cell_type": "code",
   "execution_count": null,
   "metadata": {},
   "outputs": [],
   "source": []
  },
  {
   "cell_type": "code",
   "execution_count": 104,
   "metadata": {},
   "outputs": [
    {
     "data": {
      "text/html": [
       "<div><div style = \"float: left;\"><span>10×6 DataFrame</span></div><div style = \"clear: both;\"></div></div><div class = \"data-frame\" style = \"overflow-x: scroll;\"><table class = \"data-frame\" style = \"margin-bottom: 6px;\"><thead><tr class = \"header\"><th class = \"rowNumber\" style = \"font-weight: bold; text-align: right;\">Row</th><th style = \"text-align: left;\">r</th><th style = \"text-align: left;\">t</th><th style = \"text-align: left;\">f</th><th style = \"text-align: left;\">y</th><th style = \"text-align: left;\">val</th><th style = \"text-align: left;\">solvedtm</th></tr><tr class = \"subheader headerLastRow\"><th class = \"rowNumber\" style = \"font-weight: bold; text-align: right;\"></th><th title = \"String\" style = \"text-align: left;\">String</th><th title = \"String\" style = \"text-align: left;\">String</th><th title = \"String\" style = \"text-align: left;\">String</th><th title = \"String\" style = \"text-align: left;\">String</th><th title = \"Float64\" style = \"text-align: left;\">Float64</th><th title = \"String\" style = \"text-align: left;\">String</th></tr></thead><tbody><tr><td class = \"rowNumber\" style = \"font-weight: bold; text-align: right;\">1</td><td style = \"text-align: left;\">colombia</td><td style = \"text-align: left;\">supply_fuel_wind</td><td style = \"text-align: left;\">fuel_wind</td><td style = \"text-align: left;\">1001</td><td style = \"text-align: right;\">0.590284</td><td style = \"text-align: left;\">2023-07-11 21:51:28.464</td></tr><tr><td class = \"rowNumber\" style = \"font-weight: bold; text-align: right;\">2</td><td style = \"text-align: left;\">colombia</td><td style = \"text-align: left;\">supply_fuel_diesel</td><td style = \"text-align: left;\">fuel_diesel</td><td style = \"text-align: left;\">1001</td><td style = \"text-align: right;\">141.678</td><td style = \"text-align: left;\">2023-07-11 21:51:28.464</td></tr><tr><td class = \"rowNumber\" style = \"font-weight: bold; text-align: right;\">3</td><td style = \"text-align: left;\">colombia</td><td style = \"text-align: left;\">supply_fuel_kerosene</td><td style = \"text-align: left;\">fuel_kerosene</td><td style = \"text-align: left;\">1001</td><td style = \"text-align: right;\">25.922</td><td style = \"text-align: left;\">2023-07-11 21:51:28.464</td></tr><tr><td class = \"rowNumber\" style = \"font-weight: bold; text-align: right;\">4</td><td style = \"text-align: left;\">colombia</td><td style = \"text-align: left;\">supply_fuel_solar</td><td style = \"text-align: left;\">fuel_solar</td><td style = \"text-align: left;\">1001</td><td style = \"text-align: right;\">0.104328</td><td style = \"text-align: left;\">2023-07-11 21:51:28.464</td></tr><tr><td class = \"rowNumber\" style = \"font-weight: bold; text-align: right;\">5</td><td style = \"text-align: left;\">colombia</td><td style = \"text-align: left;\">supply_fuel_coal_deposits</td><td style = \"text-align: left;\">fuel_coal_deposits</td><td style = \"text-align: left;\">1001</td><td style = \"text-align: right;\">2540.38</td><td style = \"text-align: left;\">2023-07-11 21:51:28.464</td></tr><tr><td class = \"rowNumber\" style = \"font-weight: bold; text-align: right;\">6</td><td style = \"text-align: left;\">colombia</td><td style = \"text-align: left;\">supply_fuel_electricity</td><td style = \"text-align: left;\">fuel_electricity</td><td style = \"text-align: left;\">1001</td><td style = \"text-align: right;\">5.35107</td><td style = \"text-align: left;\">2023-07-11 21:51:28.464</td></tr><tr><td class = \"rowNumber\" style = \"font-weight: bold; text-align: right;\">7</td><td style = \"text-align: left;\">colombia</td><td style = \"text-align: left;\">supply_fuel_oil</td><td style = \"text-align: left;\">fuel_oil</td><td style = \"text-align: left;\">1001</td><td style = \"text-align: right;\">120.91</td><td style = \"text-align: left;\">2023-07-11 21:51:28.464</td></tr><tr><td class = \"rowNumber\" style = \"font-weight: bold; text-align: right;\">8</td><td style = \"text-align: left;\">colombia</td><td style = \"text-align: left;\">supply_fuel_natural_gas</td><td style = \"text-align: left;\">fuel_natural_gas</td><td style = \"text-align: left;\">1001</td><td style = \"text-align: right;\">0.434865</td><td style = \"text-align: left;\">2023-07-11 21:51:28.464</td></tr><tr><td class = \"rowNumber\" style = \"font-weight: bold; text-align: right;\">9</td><td style = \"text-align: left;\">colombia</td><td style = \"text-align: left;\">supply_fuel_hydropower</td><td style = \"text-align: left;\">fuel_hydropower</td><td style = \"text-align: left;\">1001</td><td style = \"text-align: right;\">565.065</td><td style = \"text-align: left;\">2023-07-11 21:51:28.464</td></tr><tr><td class = \"rowNumber\" style = \"font-weight: bold; text-align: right;\">10</td><td style = \"text-align: left;\">colombia</td><td style = \"text-align: left;\">supply_fuel_gasoline</td><td style = \"text-align: left;\">fuel_gasoline</td><td style = \"text-align: left;\">1001</td><td style = \"text-align: right;\">82.8106</td><td style = \"text-align: left;\">2023-07-11 21:51:28.464</td></tr></tbody></table></div>"
      ],
      "text/latex": [
       "\\begin{tabular}{r|cccccc}\n",
       "\t& r & t & f & y & val & solvedtm\\\\\n",
       "\t\\hline\n",
       "\t& String & String & String & String & Float64 & String\\\\\n",
       "\t\\hline\n",
       "\t1 & colombia & supply\\_fuel\\_wind & fuel\\_wind & 1001 & 0.590284 & 2023-07-11 21:51:28.464 \\\\\n",
       "\t2 & colombia & supply\\_fuel\\_diesel & fuel\\_diesel & 1001 & 141.678 & 2023-07-11 21:51:28.464 \\\\\n",
       "\t3 & colombia & supply\\_fuel\\_kerosene & fuel\\_kerosene & 1001 & 25.922 & 2023-07-11 21:51:28.464 \\\\\n",
       "\t4 & colombia & supply\\_fuel\\_solar & fuel\\_solar & 1001 & 0.104328 & 2023-07-11 21:51:28.464 \\\\\n",
       "\t5 & colombia & supply\\_fuel\\_coal\\_deposits & fuel\\_coal\\_deposits & 1001 & 2540.38 & 2023-07-11 21:51:28.464 \\\\\n",
       "\t6 & colombia & supply\\_fuel\\_electricity & fuel\\_electricity & 1001 & 5.35107 & 2023-07-11 21:51:28.464 \\\\\n",
       "\t7 & colombia & supply\\_fuel\\_oil & fuel\\_oil & 1001 & 120.91 & 2023-07-11 21:51:28.464 \\\\\n",
       "\t8 & colombia & supply\\_fuel\\_natural\\_gas & fuel\\_natural\\_gas & 1001 & 0.434865 & 2023-07-11 21:51:28.464 \\\\\n",
       "\t9 & colombia & supply\\_fuel\\_hydropower & fuel\\_hydropower & 1001 & 565.065 & 2023-07-11 21:51:28.464 \\\\\n",
       "\t10 & colombia & supply\\_fuel\\_gasoline & fuel\\_gasoline & 1001 & 82.8106 & 2023-07-11 21:51:28.464 \\\\\n",
       "\\end{tabular}\n"
      ],
      "text/plain": [
       "\u001b[1m10×6 DataFrame\u001b[0m\n",
       "\u001b[1m Row \u001b[0m│\u001b[1m r        \u001b[0m\u001b[1m t                         \u001b[0m\u001b[1m f                  \u001b[0m\u001b[1m y      \u001b[0m\u001b[1m val   \u001b[0m ⋯\n",
       "     │\u001b[90m String   \u001b[0m\u001b[90m String                    \u001b[0m\u001b[90m String             \u001b[0m\u001b[90m String \u001b[0m\u001b[90m Float6\u001b[0m ⋯\n",
       "─────┼──────────────────────────────────────────────────────────────────────────\n",
       "   1 │ colombia  supply_fuel_wind           fuel_wind           1001       0.5 ⋯\n",
       "   2 │ colombia  supply_fuel_diesel         fuel_diesel         1001     141.6\n",
       "   3 │ colombia  supply_fuel_kerosene       fuel_kerosene       1001      25.9\n",
       "   4 │ colombia  supply_fuel_solar          fuel_solar          1001       0.1\n",
       "   5 │ colombia  supply_fuel_coal_deposits  fuel_coal_deposits  1001    2540.3 ⋯\n",
       "   6 │ colombia  supply_fuel_electricity    fuel_electricity    1001       5.3\n",
       "   7 │ colombia  supply_fuel_oil            fuel_oil            1001     120.9\n",
       "   8 │ colombia  supply_fuel_natural_gas    fuel_natural_gas    1001       0.4\n",
       "   9 │ colombia  supply_fuel_hydropower     fuel_hydropower     1001     565.0 ⋯\n",
       "  10 │ colombia  supply_fuel_gasoline       fuel_gasoline       1001      82.8\n",
       "\u001b[36m                                                               2 columns omitted\u001b[0m"
      ]
     },
     "execution_count": 104,
     "metadata": {},
     "output_type": "execute_result"
    }
   ],
   "source": [
    "filter(x -> ((x[:y] in [\"1001\"]) & occursin(\"supply_fuel\", x[:t])), df_tmp2)"
   ]
  },
  {
   "cell_type": "code",
   "execution_count": null,
   "metadata": {},
   "outputs": [],
   "source": []
  },
  {
   "cell_type": "code",
   "execution_count": 37,
   "metadata": {
    "tags": []
   },
   "outputs": [
    {
     "name": "stdout",
     "output_type": "stream",
     "text": [
      "CapacityFactor\n",
      "CapitalCost\n",
      "CapitalCostStorage\n",
      "DefaultParams\n",
      "EmissionActivityRatio\n",
      "FixedCost\n",
      "InputActivityRatio\n",
      "LTsGroup\n",
      "MinShareProduction\n",
      "MinStorageCharge\n",
      "OperationalLife\n",
      "OperationalLifeStorage\n",
      "OutputActivityRatio\n",
      "REMinProductionTarget\n",
      "RETagTechnology\n",
      "ReserveMargin\n",
      "ReserveMarginTagFuel\n",
      "ReserveMarginTagTechnology\n",
      "ResidualCapacity\n",
      "ResidualStorageCapacity\n",
      "SpecifiedAnnualDemand\n",
      "SpecifiedDemandProfile\n",
      "StorageLevelStart\n",
      "TechnologyFromStorage\n",
      "TechnologyToStorage\n",
      "TotalAnnualMaxCapacityInvestment\n",
      "TotalAnnualMaxCapacityInvestmentStorage\n",
      "TotalTechnologyAnnualActivityLowerLimit\n",
      "TotalTechnologyAnnualActivityUpperLimit\n",
      "VariableCost\n",
      "Version\n",
      "YearSplit\n",
      "sqlite_sequence\n"
     ]
    }
   ],
   "source": [
    "dict_tables = Dict()\n",
    "db = SQLite.DB(fp_sqlite)\n",
    "\n",
    "tabs = [x.name for x in SQLite.tables(db)]\n",
    "table_name = 0\n",
    "tabs_populated = Vector{String}()\n",
    "for k in 1:length(tabs)\n",
    "    table_name = tabs[k]\n",
    "    df_tmp = DBInterface.execute(db, \"select * from $(table_name)\") |> DataFrame\n",
    "    dict_tables[table_name] = df_tmp\n",
    "    \n",
    "    (nrow(df_tmp) > 0) ? push!(tabs_populated, table_name) : nothing\n",
    "end\n",
    "\n",
    "\n",
    "tabs = sort([x for x in tabs_populated if (x != uppercase(x)) & !startswith(x, \"v\")])\n",
    "println.(tabs);"
   ]
  },
  {
   "cell_type": "code",
   "execution_count": 100,
   "metadata": {},
   "outputs": [
    {
     "data": {
      "text/plain": [
       "360-element Vector{Float64}:\n",
       " 343.40338999388996\n",
       " 166.260743240093\n",
       " 317.57131828315437\n",
       " 287.0634718536966\n",
       " 348.50913428029935\n",
       " 141.7188064967662\n",
       " 143.84129468389045\n",
       " 145.9714552970422\n",
       " 148.11439856594149\n",
       " 150.26794575662922\n",
       " 152.4300156623278\n",
       " 157.38204483949866\n",
       " 162.3931849352637\n",
       "   ⋮\n",
       " 681.0166325448566\n",
       " 694.930493915321\n",
       " 709.9013470984116\n",
       " 725.2084700921108\n",
       " 740.8552346253726\n",
       " 756.8455968452607\n",
       " 773.1840637666146\n",
       " 790.8844535054608\n",
       " 808.9589037005766\n",
       " 827.4138441791765\n",
       " 846.2561859329517\n",
       " 865.4933320302162"
      ]
     },
     "execution_count": 100,
     "metadata": {},
     "output_type": "execute_result"
    }
   ],
   "source": [
    "#dict_tables[\"SpecifiedAnnualDemand\"][:, :val]\n",
    "dict_tables[\"SpecifiedAnnualDemand\"]"
   ]
  },
  {
   "cell_type": "code",
   "execution_count": 85,
   "metadata": {},
   "outputs": [
    {
     "data": {
      "text/plain": [
       "0.9933727066246939"
      ]
     },
     "execution_count": 85,
     "metadata": {},
     "output_type": "execute_result"
    }
   ],
   "source": [
    "df_tmp = DBInterface.execute(db, \"select * from MinShareProduction\") |> DataFrame;\n",
    "sum(filter(x -> ((x[:y] == \"1006\") & (x[:f] == \"fuel_electricity\")), df_tmp)[:, :val])"
   ]
  },
  {
   "cell_type": "code",
   "execution_count": 86,
   "metadata": {},
   "outputs": [
    {
     "data": {
      "text/html": [
       "<div class=\"data-frame\"><p>17 rows × 6 columns</p><table class=\"data-frame\"><thead><tr><th></th><th>id</th><th>r</th><th>t</th><th>f</th><th>y</th><th>val</th></tr><tr><th></th><th title=\"Int64\">Int64</th><th title=\"String\">String</th><th title=\"String\">String</th><th title=\"String\">String</th><th title=\"String\">String</th><th title=\"Float64\">Float64</th></tr></thead><tbody><tr><th>1</th><td>7</td><td>mexico</td><td>pp_coal</td><td>fuel_electricity</td><td>1006</td><td>0.0401529</td></tr><tr><th>2</th><td>43</td><td>mexico</td><td>pp_gas</td><td>fuel_electricity</td><td>1006</td><td>0.588903</td></tr><tr><th>3</th><td>79</td><td>mexico</td><td>pp_geothermal</td><td>fuel_electricity</td><td>1006</td><td>0.0156325</td></tr><tr><th>4</th><td>115</td><td>mexico</td><td>pp_hydropower</td><td>fuel_electricity</td><td>1006</td><td>0.112589</td></tr><tr><th>5</th><td>151</td><td>mexico</td><td>pp_nuclear</td><td>fuel_electricity</td><td>1006</td><td>0.0367622</td></tr><tr><th>6</th><td>187</td><td>mexico</td><td>pp_oil</td><td>fuel_electricity</td><td>1006</td><td>0.150896</td></tr><tr><th>7</th><td>223</td><td>mexico</td><td>pp_solar</td><td>fuel_electricity</td><td>1006</td><td>0.0403472</td></tr><tr><th>8</th><td>259</td><td>mexico</td><td>supply_fuel_coal</td><td>fuel_coal</td><td>1006</td><td>0.389911</td></tr><tr><th>9</th><td>295</td><td>mexico</td><td>supply_fuel_crude</td><td>fuel_crude</td><td>1006</td><td>0.0</td></tr><tr><th>10</th><td>331</td><td>mexico</td><td>supply_fuel_diesel</td><td>fuel_diesel</td><td>1006</td><td>0.273843</td></tr><tr><th>11</th><td>367</td><td>mexico</td><td>supply_fuel_electricity</td><td>fuel_electricity</td><td>1006</td><td>0.00808977</td></tr><tr><th>12</th><td>403</td><td>mexico</td><td>supply_fuel_gasoline</td><td>fuel_gasoline</td><td>1006</td><td>0.284711</td></tr><tr><th>13</th><td>439</td><td>mexico</td><td>supply_fuel_hydrocarbon_gas_liquids</td><td>fuel_hydrocarbon_gas_liquids</td><td>1006</td><td>0.0</td></tr><tr><th>14</th><td>475</td><td>mexico</td><td>supply_fuel_hydrogen</td><td>fuel_hydrogen</td><td>1006</td><td>0.00283688</td></tr><tr><th>15</th><td>511</td><td>mexico</td><td>supply_fuel_kerosene</td><td>fuel_kerosene</td><td>1006</td><td>0.253668</td></tr><tr><th>16</th><td>547</td><td>mexico</td><td>supply_fuel_natural_gas</td><td>fuel_natural_gas</td><td>1006</td><td>0.442348</td></tr><tr><th>17</th><td>583</td><td>mexico</td><td>supply_fuel_oil</td><td>fuel_oil</td><td>1006</td><td>0.00245795</td></tr></tbody></table></div>"
      ],
      "text/latex": [
       "\\begin{tabular}{r|cccccc}\n",
       "\t& id & r & t & f & y & val\\\\\n",
       "\t\\hline\n",
       "\t& Int64 & String & String & String & String & Float64\\\\\n",
       "\t\\hline\n",
       "\t1 & 7 & mexico & pp\\_coal & fuel\\_electricity & 1006 & 0.0401529 \\\\\n",
       "\t2 & 43 & mexico & pp\\_gas & fuel\\_electricity & 1006 & 0.588903 \\\\\n",
       "\t3 & 79 & mexico & pp\\_geothermal & fuel\\_electricity & 1006 & 0.0156325 \\\\\n",
       "\t4 & 115 & mexico & pp\\_hydropower & fuel\\_electricity & 1006 & 0.112589 \\\\\n",
       "\t5 & 151 & mexico & pp\\_nuclear & fuel\\_electricity & 1006 & 0.0367622 \\\\\n",
       "\t6 & 187 & mexico & pp\\_oil & fuel\\_electricity & 1006 & 0.150896 \\\\\n",
       "\t7 & 223 & mexico & pp\\_solar & fuel\\_electricity & 1006 & 0.0403472 \\\\\n",
       "\t8 & 259 & mexico & supply\\_fuel\\_coal & fuel\\_coal & 1006 & 0.389911 \\\\\n",
       "\t9 & 295 & mexico & supply\\_fuel\\_crude & fuel\\_crude & 1006 & 0.0 \\\\\n",
       "\t10 & 331 & mexico & supply\\_fuel\\_diesel & fuel\\_diesel & 1006 & 0.273843 \\\\\n",
       "\t11 & 367 & mexico & supply\\_fuel\\_electricity & fuel\\_electricity & 1006 & 0.00808977 \\\\\n",
       "\t12 & 403 & mexico & supply\\_fuel\\_gasoline & fuel\\_gasoline & 1006 & 0.284711 \\\\\n",
       "\t13 & 439 & mexico & supply\\_fuel\\_hydrocarbon\\_gas\\_liquids & fuel\\_hydrocarbon\\_gas\\_liquids & 1006 & 0.0 \\\\\n",
       "\t14 & 475 & mexico & supply\\_fuel\\_hydrogen & fuel\\_hydrogen & 1006 & 0.00283688 \\\\\n",
       "\t15 & 511 & mexico & supply\\_fuel\\_kerosene & fuel\\_kerosene & 1006 & 0.253668 \\\\\n",
       "\t16 & 547 & mexico & supply\\_fuel\\_natural\\_gas & fuel\\_natural\\_gas & 1006 & 0.442348 \\\\\n",
       "\t17 & 583 & mexico & supply\\_fuel\\_oil & fuel\\_oil & 1006 & 0.00245795 \\\\\n",
       "\\end{tabular}\n"
      ],
      "text/plain": [
       "\u001b[1m17×6 DataFrame\u001b[0m\n",
       "\u001b[1m Row \u001b[0m│\u001b[1m id    \u001b[0m\u001b[1m r      \u001b[0m\u001b[1m t                                 \u001b[0m\u001b[1m f                            \u001b[0m\u001b[1m y      \u001b[0m\u001b[1m val        \u001b[0m\n",
       "\u001b[1m     \u001b[0m│\u001b[90m Int64 \u001b[0m\u001b[90m String \u001b[0m\u001b[90m String                            \u001b[0m\u001b[90m String                       \u001b[0m\u001b[90m String \u001b[0m\u001b[90m Float64    \u001b[0m\n",
       "─────┼────────────────────────────────────────────────────────────────────────────────────────────────────\n",
       "   1 │     7  mexico  pp_coal                            fuel_electricity              1006    0.0401529\n",
       "   2 │    43  mexico  pp_gas                             fuel_electricity              1006    0.588903\n",
       "   3 │    79  mexico  pp_geothermal                      fuel_electricity              1006    0.0156325\n",
       "   4 │   115  mexico  pp_hydropower                      fuel_electricity              1006    0.112589\n",
       "   5 │   151  mexico  pp_nuclear                         fuel_electricity              1006    0.0367622\n",
       "   6 │   187  mexico  pp_oil                             fuel_electricity              1006    0.150896\n",
       "   7 │   223  mexico  pp_solar                           fuel_electricity              1006    0.0403472\n",
       "   8 │   259  mexico  supply_fuel_coal                   fuel_coal                     1006    0.389911\n",
       "   9 │   295  mexico  supply_fuel_crude                  fuel_crude                    1006    0.0\n",
       "  10 │   331  mexico  supply_fuel_diesel                 fuel_diesel                   1006    0.273843\n",
       "  11 │   367  mexico  supply_fuel_electricity            fuel_electricity              1006    0.00808977\n",
       "  12 │   403  mexico  supply_fuel_gasoline               fuel_gasoline                 1006    0.284711\n",
       "  13 │   439  mexico  supply_fuel_hydrocarbon_gas_liqu…  fuel_hydrocarbon_gas_liquids  1006    0.0\n",
       "  14 │   475  mexico  supply_fuel_hydrogen               fuel_hydrogen                 1006    0.00283688\n",
       "  15 │   511  mexico  supply_fuel_kerosene               fuel_kerosene                 1006    0.253668\n",
       "  16 │   547  mexico  supply_fuel_natural_gas            fuel_natural_gas              1006    0.442348\n",
       "  17 │   583  mexico  supply_fuel_oil                    fuel_oil                      1006    0.00245795"
      ]
     },
     "execution_count": 86,
     "metadata": {},
     "output_type": "execute_result"
    }
   ],
   "source": [
    "tab_name = \"MinShareProduction\"\n",
    "#df_tmp = DBInterface.execute(db, \"select * from MinShareProduction\") |> DataFrame;\n",
    "# & (x[:f] in [\"fuel_electricity\"])\n",
    "df = filter(x -> ((x[:y] == \"1006\")), get(dict_tables, tab_name, nothing))\n",
    "#combine(groupby(df[:, [:t, :f, :val]], [:f]), :val => sum)"
   ]
  },
  {
   "cell_type": "code",
   "execution_count": 105,
   "metadata": {},
   "outputs": [
    {
     "name": "stdout",
     "output_type": "stream",
     "text": [
      "CapacityFactor\n",
      "CapitalCost\n",
      "CapitalCostStorage\n",
      "DefaultParams\n",
      "EmissionActivityRatio\n",
      "FixedCost\n",
      "InputActivityRatio\n",
      "LTsGroup\n",
      "MinStorageCharge\n",
      "OperationalLife\n",
      "OperationalLifeStorage\n",
      "OutputActivityRatio\n",
      "RETagTechnology\n",
      "ReserveMargin\n",
      "ReserveMarginTagFuel\n",
      "ReserveMarginTagTechnology\n",
      "ResidualCapacity\n",
      "ResidualStorageCapacity\n",
      "SpecifiedAnnualDemand\n",
      "SpecifiedDemandProfile\n",
      "StorageLevelStart\n",
      "TechnologyFromStorage\n",
      "TechnologyToStorage\n",
      "TotalAnnualMaxCapacity\n",
      "TotalAnnualMaxCapacityInvestment\n",
      "VariableCost\n",
      "Version\n",
      "YearSplit\n",
      "sqlite_sequence\n"
     ]
    }
   ],
   "source": [
    "dict_tables\n"
   ]
  },
  {
   "cell_type": "code",
   "execution_count": 24,
   "metadata": {},
   "outputs": [
    {
     "data": {
      "text/html": [
       "<div class=\"data-frame\"><p>7 rows × 5 columns</p><table class=\"data-frame\"><thead><tr><th></th><th>id</th><th>r</th><th>t</th><th>y</th><th>val</th></tr><tr><th></th><th title=\"Int64\">Int64</th><th title=\"String\">String</th><th title=\"String\">String</th><th title=\"String\">String</th><th title=\"Float64\">Float64</th></tr></thead><tbody><tr><th>1</th><td>6</td><td>brazil</td><td>pp_biogas</td><td>1005</td><td>0.0</td></tr><tr><th>2</th><td>7</td><td>brazil</td><td>pp_biogas</td><td>1006</td><td>0.0</td></tr><tr><th>3</th><td>36</td><td>brazil</td><td>pp_biogas</td><td>1035</td><td>0.0</td></tr><tr><th>4</th><td>62</td><td>brazil</td><td>pp_hydropower</td><td>1035</td><td>1857.23</td></tr><tr><th>5</th><td>68</td><td>brazil</td><td>pp_waste_incineration</td><td>1005</td><td>0.0</td></tr><tr><th>6</th><td>69</td><td>brazil</td><td>pp_waste_incineration</td><td>1006</td><td>0.0</td></tr><tr><th>7</th><td>98</td><td>brazil</td><td>pp_waste_incineration</td><td>1035</td><td>0.0</td></tr></tbody></table></div>"
      ],
      "text/latex": [
       "\\begin{tabular}{r|ccccc}\n",
       "\t& id & r & t & y & val\\\\\n",
       "\t\\hline\n",
       "\t& Int64 & String & String & String & Float64\\\\\n",
       "\t\\hline\n",
       "\t1 & 6 & brazil & pp\\_biogas & 1005 & 0.0 \\\\\n",
       "\t2 & 7 & brazil & pp\\_biogas & 1006 & 0.0 \\\\\n",
       "\t3 & 36 & brazil & pp\\_biogas & 1035 & 0.0 \\\\\n",
       "\t4 & 62 & brazil & pp\\_hydropower & 1035 & 1857.23 \\\\\n",
       "\t5 & 68 & brazil & pp\\_waste\\_incineration & 1005 & 0.0 \\\\\n",
       "\t6 & 69 & brazil & pp\\_waste\\_incineration & 1006 & 0.0 \\\\\n",
       "\t7 & 98 & brazil & pp\\_waste\\_incineration & 1035 & 0.0 \\\\\n",
       "\\end{tabular}\n"
      ],
      "text/plain": [
       "\u001b[1m7×5 DataFrame\u001b[0m\n",
       "\u001b[1m Row \u001b[0m│\u001b[1m id    \u001b[0m\u001b[1m r      \u001b[0m\u001b[1m t                     \u001b[0m\u001b[1m y      \u001b[0m\u001b[1m val     \u001b[0m\n",
       "\u001b[1m     \u001b[0m│\u001b[90m Int64 \u001b[0m\u001b[90m String \u001b[0m\u001b[90m String                \u001b[0m\u001b[90m String \u001b[0m\u001b[90m Float64 \u001b[0m\n",
       "─────┼───────────────────────────────────────────────────────\n",
       "   1 │     6  brazil  pp_biogas              1005       0.0\n",
       "   2 │     7  brazil  pp_biogas              1006       0.0\n",
       "   3 │    36  brazil  pp_biogas              1035       0.0\n",
       "   4 │    62  brazil  pp_hydropower          1035    1857.23\n",
       "   5 │    68  brazil  pp_waste_incineration  1005       0.0\n",
       "   6 │    69  brazil  pp_waste_incineration  1006       0.0\n",
       "   7 │    98  brazil  pp_waste_incineration  1035       0.0"
      ]
     },
     "execution_count": 24,
     "metadata": {},
     "output_type": "execute_result"
    }
   ],
   "source": [
    "df_tmp = DBInterface.execute(db, \"select * from TotalTechnologyAnnualActivityLowerLimit\") |> DataFrame;\n",
    "filter(x -> (x[:y] in [\"1005\", \"1006\", \"1035\"]), df_tmp)"
   ]
  },
  {
   "cell_type": "code",
   "execution_count": 146,
   "metadata": {},
   "outputs": [],
   "source": [
    "tables_check = []\n",
    "for k in 1:length(tabs)\n",
    "    table_name = tabs[k]\n",
    "    \n",
    "    (\n",
    "        (\"y\" in names(dict_tables[table_name])) &\n",
    "        (nrow(dict_tables[table_name]) > 0)\n",
    "    ) ? push!(tables_check, table_name) : nothing\n",
    "end"
   ]
  },
  {
   "cell_type": "code",
   "execution_count": 147,
   "metadata": {},
   "outputs": [
    {
     "data": {
      "text/plain": [
       "19-element Vector{Any}:\n",
       " \"YearSplit\"\n",
       " \"VariableCost\"\n",
       " \"TotalAnnualMaxCapacityInvestmentStorage\"\n",
       " \"SpecifiedDemandProfile\"\n",
       " \"SpecifiedAnnualDemand\"\n",
       " \"ResidualStorageCapacity\"\n",
       " \"ResidualCapacity\"\n",
       " \"ReserveMarginTagTechnology\"\n",
       " \"ReserveMarginTagFuel\"\n",
       " \"ReserveMargin\"\n",
       " \"RETagTechnology\"\n",
       " \"OutputActivityRatio\"\n",
       " \"MinStorageCharge\"\n",
       " \"InputActivityRatio\"\n",
       " \"FixedCost\"\n",
       " \"EmissionActivityRatio\"\n",
       " \"CapitalCostStorage\"\n",
       " \"CapitalCost\"\n",
       " \"CapacityFactor\""
      ]
     },
     "execution_count": 147,
     "metadata": {},
     "output_type": "execute_result"
    }
   ],
   "source": [
    "tables_check"
   ]
  },
  {
   "cell_type": "code",
   "execution_count": 186,
   "metadata": {},
   "outputs": [
    {
     "data": {
      "text/html": [
       "<div class=\"data-frame\"><p>36 rows × 5 columns</p><table class=\"data-frame\"><thead><tr><th></th><th>id</th><th>r</th><th>f</th><th>y</th><th>val</th></tr><tr><th></th><th title=\"Int64\">Int64</th><th title=\"String\">String</th><th title=\"String\">String</th><th title=\"String\">String</th><th title=\"Float64\">Float64</th></tr></thead><tbody><tr><th>1</th><td>1</td><td>brazil</td><td>fuel_electricity</td><td>1000</td><td>0.0</td></tr><tr><th>2</th><td>2</td><td>brazil</td><td>fuel_electricity</td><td>1001</td><td>0.0</td></tr><tr><th>3</th><td>3</td><td>brazil</td><td>fuel_electricity</td><td>1002</td><td>0.0</td></tr><tr><th>4</th><td>4</td><td>brazil</td><td>fuel_electricity</td><td>1003</td><td>0.0</td></tr><tr><th>5</th><td>5</td><td>brazil</td><td>fuel_electricity</td><td>1004</td><td>0.0</td></tr><tr><th>6</th><td>6</td><td>brazil</td><td>fuel_electricity</td><td>1005</td><td>0.0</td></tr><tr><th>7</th><td>7</td><td>brazil</td><td>fuel_electricity</td><td>1006</td><td>0.0</td></tr><tr><th>8</th><td>8</td><td>brazil</td><td>fuel_electricity</td><td>1007</td><td>0.0</td></tr><tr><th>9</th><td>9</td><td>brazil</td><td>fuel_electricity</td><td>1008</td><td>0.0</td></tr><tr><th>10</th><td>10</td><td>brazil</td><td>fuel_electricity</td><td>1009</td><td>0.0</td></tr><tr><th>11</th><td>11</td><td>brazil</td><td>fuel_electricity</td><td>1010</td><td>0.0</td></tr><tr><th>12</th><td>12</td><td>brazil</td><td>fuel_electricity</td><td>1011</td><td>0.0350543</td></tr><tr><th>13</th><td>13</td><td>brazil</td><td>fuel_electricity</td><td>1012</td><td>0.0701086</td></tr><tr><th>14</th><td>14</td><td>brazil</td><td>fuel_electricity</td><td>1013</td><td>0.105163</td></tr><tr><th>15</th><td>15</td><td>brazil</td><td>fuel_electricity</td><td>1014</td><td>0.140217</td></tr><tr><th>16</th><td>16</td><td>brazil</td><td>fuel_electricity</td><td>1015</td><td>0.175272</td></tr><tr><th>17</th><td>17</td><td>brazil</td><td>fuel_electricity</td><td>1016</td><td>0.210326</td></tr><tr><th>18</th><td>18</td><td>brazil</td><td>fuel_electricity</td><td>1017</td><td>0.24538</td></tr><tr><th>19</th><td>19</td><td>brazil</td><td>fuel_electricity</td><td>1018</td><td>0.280434</td></tr><tr><th>20</th><td>20</td><td>brazil</td><td>fuel_electricity</td><td>1019</td><td>0.315489</td></tr><tr><th>21</th><td>21</td><td>brazil</td><td>fuel_electricity</td><td>1020</td><td>0.350543</td></tr><tr><th>22</th><td>22</td><td>brazil</td><td>fuel_electricity</td><td>1021</td><td>0.385597</td></tr><tr><th>23</th><td>23</td><td>brazil</td><td>fuel_electricity</td><td>1022</td><td>0.420652</td></tr><tr><th>24</th><td>24</td><td>brazil</td><td>fuel_electricity</td><td>1023</td><td>0.455706</td></tr><tr><th>25</th><td>25</td><td>brazil</td><td>fuel_electricity</td><td>1024</td><td>0.49076</td></tr><tr><th>26</th><td>26</td><td>brazil</td><td>fuel_electricity</td><td>1025</td><td>0.525815</td></tr><tr><th>27</th><td>27</td><td>brazil</td><td>fuel_electricity</td><td>1026</td><td>0.560869</td></tr><tr><th>28</th><td>28</td><td>brazil</td><td>fuel_electricity</td><td>1027</td><td>0.595923</td></tr><tr><th>29</th><td>29</td><td>brazil</td><td>fuel_electricity</td><td>1028</td><td>0.630978</td></tr><tr><th>30</th><td>30</td><td>brazil</td><td>fuel_electricity</td><td>1029</td><td>0.666032</td></tr><tr><th>&vellip;</th><td>&vellip;</td><td>&vellip;</td><td>&vellip;</td><td>&vellip;</td><td>&vellip;</td></tr></tbody></table></div>"
      ],
      "text/latex": [
       "\\begin{tabular}{r|ccccc}\n",
       "\t& id & r & f & y & val\\\\\n",
       "\t\\hline\n",
       "\t& Int64 & String & String & String & Float64\\\\\n",
       "\t\\hline\n",
       "\t1 & 1 & brazil & fuel\\_electricity & 1000 & 0.0 \\\\\n",
       "\t2 & 2 & brazil & fuel\\_electricity & 1001 & 0.0 \\\\\n",
       "\t3 & 3 & brazil & fuel\\_electricity & 1002 & 0.0 \\\\\n",
       "\t4 & 4 & brazil & fuel\\_electricity & 1003 & 0.0 \\\\\n",
       "\t5 & 5 & brazil & fuel\\_electricity & 1004 & 0.0 \\\\\n",
       "\t6 & 6 & brazil & fuel\\_electricity & 1005 & 0.0 \\\\\n",
       "\t7 & 7 & brazil & fuel\\_electricity & 1006 & 0.0 \\\\\n",
       "\t8 & 8 & brazil & fuel\\_electricity & 1007 & 0.0 \\\\\n",
       "\t9 & 9 & brazil & fuel\\_electricity & 1008 & 0.0 \\\\\n",
       "\t10 & 10 & brazil & fuel\\_electricity & 1009 & 0.0 \\\\\n",
       "\t11 & 11 & brazil & fuel\\_electricity & 1010 & 0.0 \\\\\n",
       "\t12 & 12 & brazil & fuel\\_electricity & 1011 & 0.0350543 \\\\\n",
       "\t13 & 13 & brazil & fuel\\_electricity & 1012 & 0.0701086 \\\\\n",
       "\t14 & 14 & brazil & fuel\\_electricity & 1013 & 0.105163 \\\\\n",
       "\t15 & 15 & brazil & fuel\\_electricity & 1014 & 0.140217 \\\\\n",
       "\t16 & 16 & brazil & fuel\\_electricity & 1015 & 0.175272 \\\\\n",
       "\t17 & 17 & brazil & fuel\\_electricity & 1016 & 0.210326 \\\\\n",
       "\t18 & 18 & brazil & fuel\\_electricity & 1017 & 0.24538 \\\\\n",
       "\t19 & 19 & brazil & fuel\\_electricity & 1018 & 0.280434 \\\\\n",
       "\t20 & 20 & brazil & fuel\\_electricity & 1019 & 0.315489 \\\\\n",
       "\t21 & 21 & brazil & fuel\\_electricity & 1020 & 0.350543 \\\\\n",
       "\t22 & 22 & brazil & fuel\\_electricity & 1021 & 0.385597 \\\\\n",
       "\t23 & 23 & brazil & fuel\\_electricity & 1022 & 0.420652 \\\\\n",
       "\t24 & 24 & brazil & fuel\\_electricity & 1023 & 0.455706 \\\\\n",
       "\t25 & 25 & brazil & fuel\\_electricity & 1024 & 0.49076 \\\\\n",
       "\t26 & 26 & brazil & fuel\\_electricity & 1025 & 0.525815 \\\\\n",
       "\t27 & 27 & brazil & fuel\\_electricity & 1026 & 0.560869 \\\\\n",
       "\t28 & 28 & brazil & fuel\\_electricity & 1027 & 0.595923 \\\\\n",
       "\t29 & 29 & brazil & fuel\\_electricity & 1028 & 0.630978 \\\\\n",
       "\t30 & 30 & brazil & fuel\\_electricity & 1029 & 0.666032 \\\\\n",
       "\t$\\dots$ & $\\dots$ & $\\dots$ & $\\dots$ & $\\dots$ & $\\dots$ \\\\\n",
       "\\end{tabular}\n"
      ],
      "text/plain": [
       "\u001b[1m36×5 DataFrame\u001b[0m\n",
       "\u001b[1m Row \u001b[0m│\u001b[1m id    \u001b[0m\u001b[1m r      \u001b[0m\u001b[1m f                \u001b[0m\u001b[1m y      \u001b[0m\u001b[1m val       \u001b[0m\n",
       "\u001b[1m     \u001b[0m│\u001b[90m Int64 \u001b[0m\u001b[90m String \u001b[0m\u001b[90m String           \u001b[0m\u001b[90m String \u001b[0m\u001b[90m Float64   \u001b[0m\n",
       "─────┼────────────────────────────────────────────────────\n",
       "   1 │     1  brazil  fuel_electricity  1000    0.0\n",
       "   2 │     2  brazil  fuel_electricity  1001    0.0\n",
       "   3 │     3  brazil  fuel_electricity  1002    0.0\n",
       "   4 │     4  brazil  fuel_electricity  1003    0.0\n",
       "   5 │     5  brazil  fuel_electricity  1004    0.0\n",
       "   6 │     6  brazil  fuel_electricity  1005    0.0\n",
       "   7 │     7  brazil  fuel_electricity  1006    0.0\n",
       "   8 │     8  brazil  fuel_electricity  1007    0.0\n",
       "   9 │     9  brazil  fuel_electricity  1008    0.0\n",
       "  10 │    10  brazil  fuel_electricity  1009    0.0\n",
       "  11 │    11  brazil  fuel_electricity  1010    0.0\n",
       "  ⋮  │   ⋮      ⋮            ⋮            ⋮         ⋮\n",
       "  27 │    27  brazil  fuel_electricity  1026    0.560869\n",
       "  28 │    28  brazil  fuel_electricity  1027    0.595923\n",
       "  29 │    29  brazil  fuel_electricity  1028    0.630978\n",
       "  30 │    30  brazil  fuel_electricity  1029    0.666032\n",
       "  31 │    31  brazil  fuel_electricity  1030    0.701086\n",
       "  32 │    32  brazil  fuel_electricity  1031    0.73614\n",
       "  33 │    33  brazil  fuel_electricity  1032    0.771195\n",
       "  34 │    34  brazil  fuel_electricity  1033    0.806249\n",
       "  35 │    35  brazil  fuel_electricity  1034    0.841303\n",
       "  36 │    36  brazil  fuel_electricity  1035    0.876358\n",
       "\u001b[36m                                           15 rows omitted\u001b[0m"
      ]
     },
     "execution_count": 186,
     "metadata": {},
     "output_type": "execute_result"
    }
   ],
   "source": [
    "df = get(dict_tables, \"REMinProductionTarget\", nothing)\n",
    "df\n",
    "#filter(x -> (x[:y] == \"1034\"), df)\n",
    "\n",
    "\n"
   ]
  },
  {
   "cell_type": "code",
   "execution_count": 95,
   "metadata": {},
   "outputs": [
    {
     "data": {
      "text/html": [
       "<div class=\"data-frame\"><p>60 rows × 7 columns</p><table class=\"data-frame\"><thead><tr><th></th><th>id</th><th>r</th><th>t</th><th>f</th><th>m</th><th>y</th><th>val</th></tr><tr><th></th><th title=\"Int64\">Int64</th><th title=\"String\">String</th><th title=\"String\">String</th><th title=\"String\">String</th><th title=\"String\">String</th><th title=\"String\">String</th><th title=\"Float64\">Float64</th></tr></thead><tbody><tr><th>1</th><td>36</td><td>brazil</td><td>fp_hydrogen_electrolysis</td><td>fuel_electricity</td><td>generate</td><td>1035</td><td>1.56127</td></tr><tr><th>2</th><td>72</td><td>brazil</td><td>fp_hydrogen_gasification</td><td>fuel_coal</td><td>generate</td><td>1035</td><td>1.967</td></tr><tr><th>3</th><td>108</td><td>brazil</td><td>fp_hydrogen_reformation</td><td>fuel_natural_gas</td><td>generate</td><td>1035</td><td>1.315</td></tr><tr><th>4</th><td>144</td><td>brazil</td><td>fp_natural_gas</td><td>fuel_electricity</td><td>generate</td><td>1035</td><td>0.0106328</td></tr><tr><th>5</th><td>180</td><td>brazil</td><td>fp_natural_gas</td><td>fuel_natural_gas_unprocessed</td><td>generate</td><td>1035</td><td>1.0</td></tr><tr><th>6</th><td>216</td><td>brazil</td><td>fp_petroleum_refinement</td><td>fuel_crude</td><td>generate</td><td>1035</td><td>1.08696</td></tr><tr><th>7</th><td>252</td><td>brazil</td><td>me_coal</td><td>fuel_coal_deposits</td><td>generate</td><td>1035</td><td>1.0023</td></tr><tr><th>8</th><td>288</td><td>brazil</td><td>me_coal</td><td>fuel_diesel</td><td>generate</td><td>1035</td><td>0.00782609</td></tr><tr><th>9</th><td>324</td><td>brazil</td><td>me_coal</td><td>fuel_electricity</td><td>generate</td><td>1035</td><td>0.00882271</td></tr><tr><th>10</th><td>360</td><td>brazil</td><td>me_coal</td><td>fuel_gasoline</td><td>generate</td><td>1035</td><td>0.000460358</td></tr><tr><th>11</th><td>396</td><td>brazil</td><td>me_coal</td><td>fuel_natural_gas</td><td>generate</td><td>1035</td><td>0.00506394</td></tr><tr><th>12</th><td>432</td><td>brazil</td><td>me_crude</td><td>fuel_diesel</td><td>generate</td><td>1035</td><td>0.0376344</td></tr><tr><th>13</th><td>468</td><td>brazil</td><td>me_crude</td><td>fuel_electricity</td><td>generate</td><td>1035</td><td>0.042427</td></tr><tr><th>14</th><td>504</td><td>brazil</td><td>me_crude</td><td>fuel_gasoline</td><td>generate</td><td>1035</td><td>0.00221379</td></tr><tr><th>15</th><td>540</td><td>brazil</td><td>me_natural_gas</td><td>fuel_diesel</td><td>generate</td><td>1035</td><td>0.0405405</td></tr><tr><th>16</th><td>576</td><td>brazil</td><td>me_natural_gas</td><td>fuel_electricity</td><td>generate</td><td>1035</td><td>0.0457032</td></tr><tr><th>17</th><td>612</td><td>brazil</td><td>me_natural_gas</td><td>fuel_gasoline</td><td>generate</td><td>1035</td><td>0.00238474</td></tr><tr><th>18</th><td>648</td><td>brazil</td><td>pp_biogas</td><td>fuel_biogas</td><td>generate</td><td>1035</td><td>2.98507</td></tr><tr><th>19</th><td>684</td><td>brazil</td><td>pp_biomass</td><td>fuel_biomass</td><td>generate</td><td>1035</td><td>2.5</td></tr><tr><th>20</th><td>720</td><td>brazil</td><td>pp_coal</td><td>fuel_coal</td><td>generate</td><td>1035</td><td>2.22222</td></tr><tr><th>21</th><td>756</td><td>brazil</td><td>pp_coal_ccs</td><td>fuel_coal</td><td>generate</td><td>1035</td><td>2.22222</td></tr><tr><th>22</th><td>792</td><td>brazil</td><td>pp_gas</td><td>fuel_natural_gas</td><td>generate</td><td>1035</td><td>2.5</td></tr><tr><th>23</th><td>828</td><td>brazil</td><td>pp_gas_ccs</td><td>fuel_natural_gas</td><td>generate</td><td>1035</td><td>2.5</td></tr><tr><th>24</th><td>864</td><td>brazil</td><td>pp_geothermal</td><td>fuel_geothermal</td><td>generate</td><td>1035</td><td>1.0</td></tr><tr><th>25</th><td>900</td><td>brazil</td><td>pp_hydropower</td><td>fuel_hydropower</td><td>generate</td><td>1035</td><td>1.0</td></tr><tr><th>26</th><td>936</td><td>brazil</td><td>pp_nuclear</td><td>fuel_nuclear</td><td>generate</td><td>1035</td><td>370.37</td></tr><tr><th>27</th><td>972</td><td>brazil</td><td>pp_ocean</td><td>fuel_ocean</td><td>generate</td><td>1035</td><td>1.0</td></tr><tr><th>28</th><td>1008</td><td>brazil</td><td>pp_oil</td><td>fuel_oil</td><td>generate</td><td>1035</td><td>2.5</td></tr><tr><th>29</th><td>1044</td><td>brazil</td><td>pp_solar</td><td>fuel_solar</td><td>generate</td><td>1035</td><td>1.0</td></tr><tr><th>30</th><td>1080</td><td>brazil</td><td>pp_waste_incineration</td><td>fuel_waste</td><td>generate</td><td>1035</td><td>2.5</td></tr><tr><th>&vellip;</th><td>&vellip;</td><td>&vellip;</td><td>&vellip;</td><td>&vellip;</td><td>&vellip;</td><td>&vellip;</td><td>&vellip;</td></tr></tbody></table></div>"
      ],
      "text/latex": [
       "\\begin{tabular}{r|ccccccc}\n",
       "\t& id & r & t & f & m & y & val\\\\\n",
       "\t\\hline\n",
       "\t& Int64 & String & String & String & String & String & Float64\\\\\n",
       "\t\\hline\n",
       "\t1 & 36 & brazil & fp\\_hydrogen\\_electrolysis & fuel\\_electricity & generate & 1035 & 1.56127 \\\\\n",
       "\t2 & 72 & brazil & fp\\_hydrogen\\_gasification & fuel\\_coal & generate & 1035 & 1.967 \\\\\n",
       "\t3 & 108 & brazil & fp\\_hydrogen\\_reformation & fuel\\_natural\\_gas & generate & 1035 & 1.315 \\\\\n",
       "\t4 & 144 & brazil & fp\\_natural\\_gas & fuel\\_electricity & generate & 1035 & 0.0106328 \\\\\n",
       "\t5 & 180 & brazil & fp\\_natural\\_gas & fuel\\_natural\\_gas\\_unprocessed & generate & 1035 & 1.0 \\\\\n",
       "\t6 & 216 & brazil & fp\\_petroleum\\_refinement & fuel\\_crude & generate & 1035 & 1.08696 \\\\\n",
       "\t7 & 252 & brazil & me\\_coal & fuel\\_coal\\_deposits & generate & 1035 & 1.0023 \\\\\n",
       "\t8 & 288 & brazil & me\\_coal & fuel\\_diesel & generate & 1035 & 0.00782609 \\\\\n",
       "\t9 & 324 & brazil & me\\_coal & fuel\\_electricity & generate & 1035 & 0.00882271 \\\\\n",
       "\t10 & 360 & brazil & me\\_coal & fuel\\_gasoline & generate & 1035 & 0.000460358 \\\\\n",
       "\t11 & 396 & brazil & me\\_coal & fuel\\_natural\\_gas & generate & 1035 & 0.00506394 \\\\\n",
       "\t12 & 432 & brazil & me\\_crude & fuel\\_diesel & generate & 1035 & 0.0376344 \\\\\n",
       "\t13 & 468 & brazil & me\\_crude & fuel\\_electricity & generate & 1035 & 0.042427 \\\\\n",
       "\t14 & 504 & brazil & me\\_crude & fuel\\_gasoline & generate & 1035 & 0.00221379 \\\\\n",
       "\t15 & 540 & brazil & me\\_natural\\_gas & fuel\\_diesel & generate & 1035 & 0.0405405 \\\\\n",
       "\t16 & 576 & brazil & me\\_natural\\_gas & fuel\\_electricity & generate & 1035 & 0.0457032 \\\\\n",
       "\t17 & 612 & brazil & me\\_natural\\_gas & fuel\\_gasoline & generate & 1035 & 0.00238474 \\\\\n",
       "\t18 & 648 & brazil & pp\\_biogas & fuel\\_biogas & generate & 1035 & 2.98507 \\\\\n",
       "\t19 & 684 & brazil & pp\\_biomass & fuel\\_biomass & generate & 1035 & 2.5 \\\\\n",
       "\t20 & 720 & brazil & pp\\_coal & fuel\\_coal & generate & 1035 & 2.22222 \\\\\n",
       "\t21 & 756 & brazil & pp\\_coal\\_ccs & fuel\\_coal & generate & 1035 & 2.22222 \\\\\n",
       "\t22 & 792 & brazil & pp\\_gas & fuel\\_natural\\_gas & generate & 1035 & 2.5 \\\\\n",
       "\t23 & 828 & brazil & pp\\_gas\\_ccs & fuel\\_natural\\_gas & generate & 1035 & 2.5 \\\\\n",
       "\t24 & 864 & brazil & pp\\_geothermal & fuel\\_geothermal & generate & 1035 & 1.0 \\\\\n",
       "\t25 & 900 & brazil & pp\\_hydropower & fuel\\_hydropower & generate & 1035 & 1.0 \\\\\n",
       "\t26 & 936 & brazil & pp\\_nuclear & fuel\\_nuclear & generate & 1035 & 370.37 \\\\\n",
       "\t27 & 972 & brazil & pp\\_ocean & fuel\\_ocean & generate & 1035 & 1.0 \\\\\n",
       "\t28 & 1008 & brazil & pp\\_oil & fuel\\_oil & generate & 1035 & 2.5 \\\\\n",
       "\t29 & 1044 & brazil & pp\\_solar & fuel\\_solar & generate & 1035 & 1.0 \\\\\n",
       "\t30 & 1080 & brazil & pp\\_waste\\_incineration & fuel\\_waste & generate & 1035 & 2.5 \\\\\n",
       "\t$\\dots$ & $\\dots$ & $\\dots$ & $\\dots$ & $\\dots$ & $\\dots$ & $\\dots$ & $\\dots$ \\\\\n",
       "\\end{tabular}\n"
      ],
      "text/plain": [
       "\u001b[1m60×7 DataFrame\u001b[0m\n",
       "\u001b[1m Row \u001b[0m│\u001b[1m id    \u001b[0m\u001b[1m r      \u001b[0m\u001b[1m t                                 \u001b[0m\u001b[1m f                            \u001b[0m\u001b[1m m        \u001b[0m\u001b[1m y      \u001b[0m\u001b[1m val         \u001b[0m\n",
       "\u001b[1m     \u001b[0m│\u001b[90m Int64 \u001b[0m\u001b[90m String \u001b[0m\u001b[90m String                            \u001b[0m\u001b[90m String                       \u001b[0m\u001b[90m String   \u001b[0m\u001b[90m String \u001b[0m\u001b[90m Float64     \u001b[0m\n",
       "─────┼───────────────────────────────────────────────────────────────────────────────────────────────────────────────\n",
       "   1 │    36  brazil  fp_hydrogen_electrolysis           fuel_electricity              generate  1035    1.56127\n",
       "   2 │    72  brazil  fp_hydrogen_gasification           fuel_coal                     generate  1035    1.967\n",
       "   3 │   108  brazil  fp_hydrogen_reformation            fuel_natural_gas              generate  1035    1.315\n",
       "   4 │   144  brazil  fp_natural_gas                     fuel_electricity              generate  1035    0.0106328\n",
       "   5 │   180  brazil  fp_natural_gas                     fuel_natural_gas_unprocessed  generate  1035    1.0\n",
       "   6 │   216  brazil  fp_petroleum_refinement            fuel_crude                    generate  1035    1.08696\n",
       "   7 │   252  brazil  me_coal                            fuel_coal_deposits            generate  1035    1.0023\n",
       "   8 │   288  brazil  me_coal                            fuel_diesel                   generate  1035    0.00782609\n",
       "   9 │   324  brazil  me_coal                            fuel_electricity              generate  1035    0.00882271\n",
       "  10 │   360  brazil  me_coal                            fuel_gasoline                 generate  1035    0.000460358\n",
       "  11 │   396  brazil  me_coal                            fuel_natural_gas              generate  1035    0.00506394\n",
       "  ⋮  │   ⋮      ⋮                     ⋮                               ⋮                   ⋮        ⋮          ⋮\n",
       "  51 │  1836  brazil  supply_fuel_kerosene               fuel_QUANTITY_PRODUCED        generate  1035    1.0\n",
       "  52 │  1872  brazil  supply_fuel_natural_gas            fuel_QUANTITY_PRODUCED        generate  1035    1.0\n",
       "  53 │  1908  brazil  supply_fuel_natural_gas_unproces…  fuel_QUANTITY_PRODUCED        generate  1035    1.0\n",
       "  54 │  1944  brazil  supply_fuel_nuclear                fuel_QUANTITY_PRODUCED        generate  1035    1.0\n",
       "  55 │  1980  brazil  supply_fuel_ocean                  fuel_QUANTITY_PRODUCED        generate  1035    1.0\n",
       "  56 │  2016  brazil  supply_fuel_oil                    fuel_QUANTITY_PRODUCED        generate  1035    1.0\n",
       "  57 │  2052  brazil  supply_fuel_other                  fuel_QUANTITY_PRODUCED        generate  1035    1.0\n",
       "  58 │  2088  brazil  supply_fuel_solar                  fuel_QUANTITY_PRODUCED        generate  1035    1.0\n",
       "  59 │  2124  brazil  supply_fuel_waste                  fuel_QUANTITY_PRODUCED        generate  1035    1.0\n",
       "  60 │  2160  brazil  supply_fuel_wind                   fuel_QUANTITY_PRODUCED        generate  1035    1.0\n",
       "\u001b[36m                                                                                                      39 rows omitted\u001b[0m"
      ]
     },
     "execution_count": 97,
     "metadata": {},
     "output_type": "execute_result"
    }
   ],
   "source": [
    "df = get(dict_tables, \"SpecifiedAnnualDemand\", nothing)\n",
    "filter(x -> (x[:y] == \"1035\"), df)\n",
    "\n",
    "\n"
   ]
  },
  {
   "cell_type": "code",
   "execution_count": null,
   "metadata": {
    "tags": []
   },
   "outputs": [],
   "source": []
  },
  {
   "cell_type": "code",
   "execution_count": null,
   "metadata": {},
   "outputs": [],
   "source": []
  },
  {
   "cell_type": "code",
   "execution_count": 44,
   "metadata": {},
   "outputs": [
    {
     "data": {
      "text/plain": [
       "\"TotalAnnualMaxCapacityInvestment\""
      ]
     },
     "execution_count": 44,
     "metadata": {},
     "output_type": "execute_result"
    }
   ],
   "source": [
    "#df_max_investment = get(dict_tables, \"TotalAnnualMaxCapacityInvestment\", nothing)\n",
    "yrs_keep = [string(x) for x in 1000:1034]\n",
    "filter!(x -> ((x[:y] in yrs_keep) | (x[:t] == \"pp_biomass\")), df_max_investment)\n",
    "SQLite.load!(df_max_investment, db, \"TotalAnnualMaxCapacityInvestment\"; replace = true)"
   ]
  },
  {
   "cell_type": "code",
   "execution_count": 70,
   "metadata": {},
   "outputs": [
    {
     "data": {
      "text/plain": [
       "\"TotalAnnualMinCapacity\""
      ]
     },
     "execution_count": 70,
     "metadata": {},
     "output_type": "execute_result"
    }
   ],
   "source": [
    "SQLite.load!(df_max_investment, db, \"TotalAnnualMaxCapacityInvestment\"; replace = true)\n",
    "\n"
   ]
  },
  {
   "cell_type": "code",
   "execution_count": 77,
   "metadata": {},
   "outputs": [
    {
     "data": {
      "text/html": [
       "<div class=\"data-frame\"><p>4 rows × 7 columns</p><table class=\"data-frame\"><thead><tr><th></th><th>id</th><th>r</th><th>t</th><th>f</th><th>m</th><th>y</th><th>val</th></tr><tr><th></th><th title=\"Int64\">Int64</th><th title=\"String\">String</th><th title=\"String\">String</th><th title=\"String\">String</th><th title=\"String\">String</th><th title=\"String\">String</th><th title=\"Float64\">Float64</th></tr></thead><tbody><tr><th>1</th><td>36</td><td>brazil</td><td>fp_hydrogen_electrolysis</td><td>fuel_hydrogen</td><td>generate</td><td>1035</td><td>1.0</td></tr><tr><th>2</th><td>72</td><td>brazil</td><td>fp_hydrogen_gasification</td><td>fuel_hydrogen</td><td>generate</td><td>1035</td><td>1.0</td></tr><tr><th>3</th><td>108</td><td>brazil</td><td>fp_hydrogen_reformation</td><td>fuel_hydrogen</td><td>generate</td><td>1035</td><td>1.0</td></tr><tr><th>4</th><td>1656</td><td>brazil</td><td>supply_fuel_hydrogen</td><td>fuel_hydrogen</td><td>generate</td><td>1035</td><td>1.0</td></tr></tbody></table></div>"
      ],
      "text/latex": [
       "\\begin{tabular}{r|ccccccc}\n",
       "\t& id & r & t & f & m & y & val\\\\\n",
       "\t\\hline\n",
       "\t& Int64 & String & String & String & String & String & Float64\\\\\n",
       "\t\\hline\n",
       "\t1 & 36 & brazil & fp\\_hydrogen\\_electrolysis & fuel\\_hydrogen & generate & 1035 & 1.0 \\\\\n",
       "\t2 & 72 & brazil & fp\\_hydrogen\\_gasification & fuel\\_hydrogen & generate & 1035 & 1.0 \\\\\n",
       "\t3 & 108 & brazil & fp\\_hydrogen\\_reformation & fuel\\_hydrogen & generate & 1035 & 1.0 \\\\\n",
       "\t4 & 1656 & brazil & supply\\_fuel\\_hydrogen & fuel\\_hydrogen & generate & 1035 & 1.0 \\\\\n",
       "\\end{tabular}\n"
      ],
      "text/plain": [
       "\u001b[1m4×7 DataFrame\u001b[0m\n",
       "\u001b[1m Row \u001b[0m│\u001b[1m id    \u001b[0m\u001b[1m r      \u001b[0m\u001b[1m t                        \u001b[0m\u001b[1m f             \u001b[0m\u001b[1m m        \u001b[0m\u001b[1m y      \u001b[0m\u001b[1m val     \u001b[0m\n",
       "\u001b[1m     \u001b[0m│\u001b[90m Int64 \u001b[0m\u001b[90m String \u001b[0m\u001b[90m String                   \u001b[0m\u001b[90m String        \u001b[0m\u001b[90m String   \u001b[0m\u001b[90m String \u001b[0m\u001b[90m Float64 \u001b[0m\n",
       "─────┼───────────────────────────────────────────────────────────────────────────────────\n",
       "   1 │    36  brazil  fp_hydrogen_electrolysis  fuel_hydrogen  generate  1035        1.0\n",
       "   2 │    72  brazil  fp_hydrogen_gasification  fuel_hydrogen  generate  1035        1.0\n",
       "   3 │   108  brazil  fp_hydrogen_reformation   fuel_hydrogen  generate  1035        1.0\n",
       "   4 │  1656  brazil  supply_fuel_hydrogen      fuel_hydrogen  generate  1035        1.0"
      ]
     },
     "execution_count": 77,
     "metadata": {},
     "output_type": "execute_result"
    }
   ],
   "source": [
    "df_view = get(dict_tables, \"OutputActivityRatio\", nothing)\n",
    "\n",
    "filter(x -> ((x[:y] == \"1035\") & (x[:f] == \"fuel_hydrogen\")), df_view)"
   ]
  },
  {
   "cell_type": "code",
   "execution_count": 10,
   "metadata": {},
   "outputs": [
    {
     "data": {
      "text/html": [
       "<div class=\"data-frame\"><p>19 rows × 6 columns</p><table class=\"data-frame\"><thead><tr><th></th><th>id</th><th>r</th><th>t</th><th>f</th><th>y</th><th>val</th></tr><tr><th></th><th title=\"Int64\">Int64</th><th title=\"String\">String</th><th title=\"String\">String</th><th title=\"String\">String</th><th title=\"String\">String</th><th title=\"Float64\">Float64</th></tr></thead><tbody><tr><th>1</th><td>35</td><td>brazil</td><td>fp_hydrogen_electrolysis</td><td>fuel_hydrogen</td><td>1034</td><td>0.889205</td></tr><tr><th>2</th><td>71</td><td>brazil</td><td>pp_coal</td><td>fuel_electricity</td><td>1034</td><td>0.0</td></tr><tr><th>3</th><td>107</td><td>brazil</td><td>pp_gas</td><td>fuel_electricity</td><td>1034</td><td>0.0</td></tr><tr><th>4</th><td>143</td><td>brazil</td><td>pp_geothermal</td><td>fuel_electricity</td><td>1034</td><td>0.0855676</td></tr><tr><th>5</th><td>179</td><td>brazil</td><td>pp_hydropower</td><td>fuel_electricity</td><td>1034</td><td>0.565988</td></tr><tr><th>6</th><td>215</td><td>brazil</td><td>pp_nuclear</td><td>fuel_electricity</td><td>1034</td><td>0.0</td></tr><tr><th>7</th><td>251</td><td>brazil</td><td>pp_oil</td><td>fuel_electricity</td><td>1034</td><td>0.0</td></tr><tr><th>8</th><td>287</td><td>brazil</td><td>pp_solar</td><td>fuel_electricity</td><td>1034</td><td>0.128803</td></tr><tr><th>9</th><td>323</td><td>brazil</td><td>pp_wind</td><td>fuel_electricity</td><td>1034</td><td>0.131397</td></tr><tr><th>10</th><td>359</td><td>brazil</td><td>supply_fuel_coal</td><td>fuel_coal</td><td>1034</td><td>0.595391</td></tr><tr><th>11</th><td>395</td><td>brazil</td><td>supply_fuel_crude</td><td>fuel_crude</td><td>1034</td><td>0.0</td></tr><tr><th>12</th><td>431</td><td>brazil</td><td>supply_fuel_diesel</td><td>fuel_diesel</td><td>1034</td><td>0.16625</td></tr><tr><th>13</th><td>467</td><td>brazil</td><td>supply_fuel_electricity</td><td>fuel_electricity</td><td>1034</td><td>0.0774806</td></tr><tr><th>14</th><td>503</td><td>brazil</td><td>supply_fuel_gasoline</td><td>fuel_gasoline</td><td>1034</td><td>0.165411</td></tr><tr><th>15</th><td>539</td><td>brazil</td><td>supply_fuel_hydrocarbon_gas_liquids</td><td>fuel_hydrocarbon_gas_liquids</td><td>1034</td><td>0.130057</td></tr><tr><th>16</th><td>575</td><td>brazil</td><td>supply_fuel_hydrogen</td><td>fuel_hydrogen</td><td>1034</td><td>0.0249944</td></tr><tr><th>17</th><td>611</td><td>brazil</td><td>supply_fuel_kerosene</td><td>fuel_kerosene</td><td>1034</td><td>0.156192</td></tr><tr><th>18</th><td>647</td><td>brazil</td><td>supply_fuel_natural_gas</td><td>fuel_natural_gas</td><td>1034</td><td>0.23035</td></tr><tr><th>19</th><td>683</td><td>brazil</td><td>supply_fuel_oil</td><td>fuel_oil</td><td>1034</td><td>0.0406532</td></tr></tbody></table></div>"
      ],
      "text/latex": [
       "\\begin{tabular}{r|cccccc}\n",
       "\t& id & r & t & f & y & val\\\\\n",
       "\t\\hline\n",
       "\t& Int64 & String & String & String & String & Float64\\\\\n",
       "\t\\hline\n",
       "\t1 & 35 & brazil & fp\\_hydrogen\\_electrolysis & fuel\\_hydrogen & 1034 & 0.889205 \\\\\n",
       "\t2 & 71 & brazil & pp\\_coal & fuel\\_electricity & 1034 & 0.0 \\\\\n",
       "\t3 & 107 & brazil & pp\\_gas & fuel\\_electricity & 1034 & 0.0 \\\\\n",
       "\t4 & 143 & brazil & pp\\_geothermal & fuel\\_electricity & 1034 & 0.0855676 \\\\\n",
       "\t5 & 179 & brazil & pp\\_hydropower & fuel\\_electricity & 1034 & 0.565988 \\\\\n",
       "\t6 & 215 & brazil & pp\\_nuclear & fuel\\_electricity & 1034 & 0.0 \\\\\n",
       "\t7 & 251 & brazil & pp\\_oil & fuel\\_electricity & 1034 & 0.0 \\\\\n",
       "\t8 & 287 & brazil & pp\\_solar & fuel\\_electricity & 1034 & 0.128803 \\\\\n",
       "\t9 & 323 & brazil & pp\\_wind & fuel\\_electricity & 1034 & 0.131397 \\\\\n",
       "\t10 & 359 & brazil & supply\\_fuel\\_coal & fuel\\_coal & 1034 & 0.595391 \\\\\n",
       "\t11 & 395 & brazil & supply\\_fuel\\_crude & fuel\\_crude & 1034 & 0.0 \\\\\n",
       "\t12 & 431 & brazil & supply\\_fuel\\_diesel & fuel\\_diesel & 1034 & 0.16625 \\\\\n",
       "\t13 & 467 & brazil & supply\\_fuel\\_electricity & fuel\\_electricity & 1034 & 0.0774806 \\\\\n",
       "\t14 & 503 & brazil & supply\\_fuel\\_gasoline & fuel\\_gasoline & 1034 & 0.165411 \\\\\n",
       "\t15 & 539 & brazil & supply\\_fuel\\_hydrocarbon\\_gas\\_liquids & fuel\\_hydrocarbon\\_gas\\_liquids & 1034 & 0.130057 \\\\\n",
       "\t16 & 575 & brazil & supply\\_fuel\\_hydrogen & fuel\\_hydrogen & 1034 & 0.0249944 \\\\\n",
       "\t17 & 611 & brazil & supply\\_fuel\\_kerosene & fuel\\_kerosene & 1034 & 0.156192 \\\\\n",
       "\t18 & 647 & brazil & supply\\_fuel\\_natural\\_gas & fuel\\_natural\\_gas & 1034 & 0.23035 \\\\\n",
       "\t19 & 683 & brazil & supply\\_fuel\\_oil & fuel\\_oil & 1034 & 0.0406532 \\\\\n",
       "\\end{tabular}\n"
      ],
      "text/plain": [
       "\u001b[1m19×6 DataFrame\u001b[0m\n",
       "\u001b[1m Row \u001b[0m│\u001b[1m id    \u001b[0m\u001b[1m r      \u001b[0m\u001b[1m t                                 \u001b[0m\u001b[1m f                            \u001b[0m\u001b[1m y      \u001b[0m\u001b[1m val       \u001b[0m\n",
       "\u001b[1m     \u001b[0m│\u001b[90m Int64 \u001b[0m\u001b[90m String \u001b[0m\u001b[90m String                            \u001b[0m\u001b[90m String                       \u001b[0m\u001b[90m String \u001b[0m\u001b[90m Float64   \u001b[0m\n",
       "─────┼───────────────────────────────────────────────────────────────────────────────────────────────────\n",
       "   1 │    35  brazil  fp_hydrogen_electrolysis           fuel_hydrogen                 1034    0.889205\n",
       "   2 │    71  brazil  pp_coal                            fuel_electricity              1034    0.0\n",
       "   3 │   107  brazil  pp_gas                             fuel_electricity              1034    0.0\n",
       "   4 │   143  brazil  pp_geothermal                      fuel_electricity              1034    0.0855676\n",
       "   5 │   179  brazil  pp_hydropower                      fuel_electricity              1034    0.565988\n",
       "   6 │   215  brazil  pp_nuclear                         fuel_electricity              1034    0.0\n",
       "   7 │   251  brazil  pp_oil                             fuel_electricity              1034    0.0\n",
       "   8 │   287  brazil  pp_solar                           fuel_electricity              1034    0.128803\n",
       "   9 │   323  brazil  pp_wind                            fuel_electricity              1034    0.131397\n",
       "  10 │   359  brazil  supply_fuel_coal                   fuel_coal                     1034    0.595391\n",
       "  11 │   395  brazil  supply_fuel_crude                  fuel_crude                    1034    0.0\n",
       "  12 │   431  brazil  supply_fuel_diesel                 fuel_diesel                   1034    0.16625\n",
       "  13 │   467  brazil  supply_fuel_electricity            fuel_electricity              1034    0.0774806\n",
       "  14 │   503  brazil  supply_fuel_gasoline               fuel_gasoline                 1034    0.165411\n",
       "  15 │   539  brazil  supply_fuel_hydrocarbon_gas_liqu…  fuel_hydrocarbon_gas_liquids  1034    0.130057\n",
       "  16 │   575  brazil  supply_fuel_hydrogen               fuel_hydrogen                 1034    0.0249944\n",
       "  17 │   611  brazil  supply_fuel_kerosene               fuel_kerosene                 1034    0.156192\n",
       "  18 │   647  brazil  supply_fuel_natural_gas            fuel_natural_gas              1034    0.23035\n",
       "  19 │   683  brazil  supply_fuel_oil                    fuel_oil                      1034    0.0406532"
      ]
     },
     "execution_count": 10,
     "metadata": {},
     "output_type": "execute_result"
    }
   ],
   "source": [
    "df_view = get(dict_tables, \"MinShareProduction\", nothing)\n",
    "\n",
    "filter(x -> (x[:y] == \"1034\"), df_view)"
   ]
  },
  {
   "cell_type": "code",
   "execution_count": 63,
   "metadata": {},
   "outputs": [
    {
     "name": "stdout",
     "output_type": "stream",
     "text": [
      "\u001b[1m0×6 DataFrame\u001b[0m\n",
      "\u001b[1m0×5 DataFrame\u001b[0m\n",
      "\u001b[1m0×6 DataFrame\u001b[0m\n",
      "\u001b[1m0×6 DataFrame\u001b[0m\n",
      "\u001b[1m0×5 DataFrame\u001b[0m\n",
      "\u001b[1m0×4 DataFrame\u001b[0m\n",
      "\u001b[1m0×6 DataFrame\u001b[0m\n",
      "\u001b[1m0×6 DataFrame\u001b[0m\n"
     ]
    }
   ],
   "source": [
    "for k in sort(collect(keys(dict_tables)))\n",
    "    \n",
    "    (string(k[1:1]) == \"v\") ? println(get(dict_tables, k, nothing)) : nothing\n",
    "end"
   ]
  },
  {
   "cell_type": "code",
   "execution_count": 48,
   "metadata": {},
   "outputs": [
    {
     "data": {
      "text/plain": [
       "SQLite.Query(SQLite.Stmt(SQLite.DB(\"/Users/jsyme/Documents/Projects/git_jbus/lac_decarbonization/tmp/nemomod_intermediate_database.sqlite\"), 1), Base.RefValue{Int32}(101), Symbol[], Type[], Dict{Symbol, Int64}(), Base.RefValue{Int64}(0))"
      ]
     },
     "execution_count": 48,
     "metadata": {},
     "output_type": "execute_result"
    }
   ],
   "source": [
    "#df = get(dict_tables, \"CapacityFactor\", nothing)\n",
    "#filter(x -> ((x[:y] == \"1000\") & (x[:t] == \"pp_hydropower\")), df)\n",
    "#DBInterface.execute(db, \"drop * from SpecifiedDemandProfile\")\n",
    "table_name = \"SpecifiedDemandProfile\"\n",
    "DBInterface.execute(db, \"delete from $(table_name)\")"
   ]
  },
  {
   "cell_type": "code",
   "execution_count": 36,
   "metadata": {},
   "outputs": [],
   "source": [
    "#keys(dict_tables)\n",
    "for tab in sort(collect(keys(dict_tables)))\n",
    "    \n",
    "    df = get(dict_tables, tab, nothing)\n",
    "    #if \"r\" in names(df)\n",
    "    #    println(tab)\n",
    "    #    all_regions = Set(df[:, :r])\n",
    "    #    println(\"regions:\\t\\n$(all_regions)\")\n",
    "    #    (nrow(df) == 0) ? println(\"**NO ROWS**\\n\\n\") : println(\"\\n\\n\")\n",
    "    \n",
    "    if \"id\" in names(df)\n",
    "        s_id = Set(df[:, :id])\n",
    "        (length(s_id) != nrow(df)) ? println(\"ID MISTMATCH IN $(tab)\") : nothing\n",
    "    end\n",
    "    \n",
    "end\n",
    "\n"
   ]
  },
  {
   "cell_type": "code",
   "execution_count": 18,
   "metadata": {},
   "outputs": [
    {
     "data": {
      "text/html": [
       "<div class=\"data-frame\"><p>0 rows × 5 columns</p><table class=\"data-frame\"><thead><tr><th></th><th>r</th><th>t</th><th>y</th><th>val</th><th>solvedtm</th></tr><tr><th></th><th title=\"Union{Missing, String}\">String?</th><th title=\"Union{Missing, String}\">String?</th><th title=\"Union{Missing, String}\">String?</th><th title=\"Union{Missing, Float64}\">Float64?</th><th title=\"Union{Missing, String}\">String?</th></tr></thead><tbody></tbody></table></div>"
      ],
      "text/latex": [
       "\\begin{tabular}{r|ccccc}\n",
       "\t& r & t & y & val & solvedtm\\\\\n",
       "\t\\hline\n",
       "\t& String? & String? & String? & Float64? & String?\\\\\n",
       "\t\\hline\n",
       "\\end{tabular}\n"
      ],
      "text/plain": [
       "\u001b[1m0×5 DataFrame\u001b[0m"
      ]
     },
     "execution_count": 18,
     "metadata": {},
     "output_type": "execute_result"
    }
   ],
   "source": [
    "get(dict_tables, \"vtotalcapacityannual\", nothing)"
   ]
  },
  {
   "cell_type": "code",
   "execution_count": 126,
   "metadata": {},
   "outputs": [
    {
     "data": {
      "text/html": [
       "<div class=\"data-frame\"><p>3 rows × 5 columns</p><table class=\"data-frame\"><thead><tr><th></th><th>id</th><th>r</th><th>f</th><th>y</th><th>val</th></tr><tr><th></th><th title=\"Int64\">Int64</th><th title=\"String\">String</th><th title=\"String\">String</th><th title=\"String\">String</th><th title=\"Float64\">Float64</th></tr></thead><tbody><tr><th>1</th><td>4</td><td>costa_rica</td><td>fuel_oil</td><td>1000</td><td>72.0</td></tr><tr><th>2</th><td>5</td><td>costa_rica</td><td>fuel_oil</td><td>1001</td><td>73.5</td></tr><tr><th>3</th><td>6</td><td>costa_rica</td><td>fuel_oil</td><td>1002</td><td>75.0</td></tr></tbody></table></div>"
      ],
      "text/latex": [
       "\\begin{tabular}{r|ccccc}\n",
       "\t& id & r & f & y & val\\\\\n",
       "\t\\hline\n",
       "\t& Int64 & String & String & String & Float64\\\\\n",
       "\t\\hline\n",
       "\t1 & 4 & costa\\_rica & fuel\\_oil & 1000 & 72.0 \\\\\n",
       "\t2 & 5 & costa\\_rica & fuel\\_oil & 1001 & 73.5 \\\\\n",
       "\t3 & 6 & costa\\_rica & fuel\\_oil & 1002 & 75.0 \\\\\n",
       "\\end{tabular}\n"
      ],
      "text/plain": [
       "\u001b[1m3×5 DataFrame\u001b[0m\n",
       "\u001b[1m Row \u001b[0m│\u001b[1m id    \u001b[0m\u001b[1m r          \u001b[0m\u001b[1m f        \u001b[0m\u001b[1m y      \u001b[0m\u001b[1m val     \u001b[0m\n",
       "\u001b[1m     \u001b[0m│\u001b[90m Int64 \u001b[0m\u001b[90m String     \u001b[0m\u001b[90m String   \u001b[0m\u001b[90m String \u001b[0m\u001b[90m Float64 \u001b[0m\n",
       "─────┼──────────────────────────────────────────────\n",
       "   1 │     4  costa_rica  fuel_oil  1000       72.0\n",
       "   2 │     5  costa_rica  fuel_oil  1001       73.5\n",
       "   3 │     6  costa_rica  fuel_oil  1002       75.0"
      ]
     },
     "execution_count": 126,
     "metadata": {},
     "output_type": "execute_result"
    }
   ],
   "source": [
    "filter(x -> (x[:f] != \"fuel_electricity\"), get(dict_tables, \"SpecifiedAnnualDemand\", nothing))"
   ]
  },
  {
   "cell_type": "code",
   "execution_count": 99,
   "metadata": {},
   "outputs": [
    {
     "data": {
      "text/plain": [
       "8-element Vector{String}:\n",
       " \"vdemandnn\"\n",
       " \"vnewcapacity\"\n",
       " \"vproductionbytechnologyannual\"\n",
       " \"vproductionnn\"\n",
       " \"vtotalcapacityannual\"\n",
       " \"vtotaldiscountedcost\"\n",
       " \"vusebytechnologyannual\"\n",
       " \"vusenn\""
      ]
     },
     "execution_count": 99,
     "metadata": {},
     "output_type": "execute_result"
    }
   ],
   "source": [
    "sort([x for x in keys(dict_tables) if String(x[1:1]) == \"v\"])\n"
   ]
  },
  {
   "cell_type": "code",
   "execution_count": 127,
   "metadata": {},
   "outputs": [
    {
     "data": {
      "text/html": [
       "<div class=\"data-frame\"><p>3 rows × 6 columns</p><table class=\"data-frame\"><thead><tr><th></th><th>id</th><th>r</th><th>t</th><th>f</th><th>y</th><th>val</th></tr><tr><th></th><th title=\"Int64\">Int64</th><th title=\"String\">String</th><th title=\"String\">String</th><th title=\"String\">String</th><th title=\"String\">String</th><th title=\"Float64\">Float64</th></tr></thead><tbody><tr><th>1</th><td>1</td><td>costa_rica</td><td>supply_fuel_oil_from_fuel_electricity</td><td>fuel_oil</td><td>1000</td><td>0.0</td></tr><tr><th>2</th><td>2</td><td>costa_rica</td><td>supply_fuel_oil_from_fuel_electricity</td><td>fuel_oil</td><td>1001</td><td>0.15</td></tr><tr><th>3</th><td>3</td><td>costa_rica</td><td>supply_fuel_oil_from_fuel_electricity</td><td>fuel_oil</td><td>1002</td><td>0.3</td></tr></tbody></table></div>"
      ],
      "text/latex": [
       "\\begin{tabular}{r|cccccc}\n",
       "\t& id & r & t & f & y & val\\\\\n",
       "\t\\hline\n",
       "\t& Int64 & String & String & String & String & Float64\\\\\n",
       "\t\\hline\n",
       "\t1 & 1 & costa\\_rica & supply\\_fuel\\_oil\\_from\\_fuel\\_electricity & fuel\\_oil & 1000 & 0.0 \\\\\n",
       "\t2 & 2 & costa\\_rica & supply\\_fuel\\_oil\\_from\\_fuel\\_electricity & fuel\\_oil & 1001 & 0.15 \\\\\n",
       "\t3 & 3 & costa\\_rica & supply\\_fuel\\_oil\\_from\\_fuel\\_electricity & fuel\\_oil & 1002 & 0.3 \\\\\n",
       "\\end{tabular}\n"
      ],
      "text/plain": [
       "\u001b[1m3×6 DataFrame\u001b[0m\n",
       "\u001b[1m Row \u001b[0m│\u001b[1m id    \u001b[0m\u001b[1m r          \u001b[0m\u001b[1m t                                 \u001b[0m\u001b[1m f        \u001b[0m\u001b[1m y      \u001b[0m\u001b[1m\u001b[0m ⋯\n",
       "\u001b[1m     \u001b[0m│\u001b[90m Int64 \u001b[0m\u001b[90m String     \u001b[0m\u001b[90m String                            \u001b[0m\u001b[90m String   \u001b[0m\u001b[90m String \u001b[0m\u001b[90m\u001b[0m ⋯\n",
       "─────┼──────────────────────────────────────────────────────────────────────────\n",
       "   1 │     1  costa_rica  supply_fuel_oil_from_fuel_electr…  fuel_oil  1000    ⋯\n",
       "   2 │     2  costa_rica  supply_fuel_oil_from_fuel_electr…  fuel_oil  1001\n",
       "   3 │     3  costa_rica  supply_fuel_oil_from_fuel_electr…  fuel_oil  1002\n",
       "\u001b[36m                                                                1 column omitted\u001b[0m"
      ]
     },
     "execution_count": 127,
     "metadata": {},
     "output_type": "execute_result"
    }
   ],
   "source": [
    "get(dict_tables, \"MinShareProduction\", nothing)"
   ]
  },
  {
   "cell_type": "code",
   "execution_count": 130,
   "metadata": {},
   "outputs": [
    {
     "data": {
      "text/html": [
       "<div class=\"data-frame\"><p>10 rows × 6 columns (omitted printing of 1 columns)</p><table class=\"data-frame\"><thead><tr><th></th><th>r</th><th>t</th><th>f</th><th>y</th><th>val</th></tr><tr><th></th><th title=\"String\">String</th><th title=\"String\">String</th><th title=\"String\">String</th><th title=\"String\">String</th><th title=\"Float64\">Float64</th></tr></thead><tbody><tr><th>1</th><td>costa_rica</td><td>supply_fuel_crude</td><td>fuel_crude</td><td>1002</td><td>3.15576e11</td></tr><tr><th>2</th><td>costa_rica</td><td>pp_hydropower</td><td>fuel_electricity</td><td>1002</td><td>13.7627</td></tr><tr><th>3</th><td>costa_rica</td><td>pp_solar</td><td>fuel_electricity</td><td>1002</td><td>1.21603</td></tr><tr><th>4</th><td>costa_rica</td><td>st_compressed_air</td><td>fuel_electricity</td><td>1002</td><td>14.9759</td></tr><tr><th>5</th><td>costa_rica</td><td>st_batteries</td><td>fuel_electricity</td><td>1002</td><td>14.9787</td></tr><tr><th>6</th><td>costa_rica</td><td>supply_fuel_oil_from_fuel_electricity</td><td>fuel_oil</td><td>1002</td><td>22.5</td></tr><tr><th>7</th><td>costa_rica</td><td>st_flywheels</td><td>fuel_electricity</td><td>1002</td><td>14.9787</td></tr><tr><th>8</th><td>costa_rica</td><td>supply_fuel_solar</td><td>fuel_solar</td><td>1002</td><td>4.8255</td></tr><tr><th>9</th><td>costa_rica</td><td>supply_fuel_oil</td><td>fuel_oil</td><td>1002</td><td>52.5</td></tr><tr><th>10</th><td>costa_rica</td><td>supply_fuel_hydropower</td><td>fuel_hydropower</td><td>1002</td><td>16.9422</td></tr></tbody></table></div>"
      ],
      "text/latex": [
       "\\begin{tabular}{r|cccccc}\n",
       "\t& r & t & f & y & val & \\\\\n",
       "\t\\hline\n",
       "\t& String & String & String & String & Float64 & \\\\\n",
       "\t\\hline\n",
       "\t1 & costa\\_rica & supply\\_fuel\\_crude & fuel\\_crude & 1002 & 3.15576e11 & $\\dots$ \\\\\n",
       "\t2 & costa\\_rica & pp\\_hydropower & fuel\\_electricity & 1002 & 13.7627 & $\\dots$ \\\\\n",
       "\t3 & costa\\_rica & pp\\_solar & fuel\\_electricity & 1002 & 1.21603 & $\\dots$ \\\\\n",
       "\t4 & costa\\_rica & st\\_compressed\\_air & fuel\\_electricity & 1002 & 14.9759 & $\\dots$ \\\\\n",
       "\t5 & costa\\_rica & st\\_batteries & fuel\\_electricity & 1002 & 14.9787 & $\\dots$ \\\\\n",
       "\t6 & costa\\_rica & supply\\_fuel\\_oil\\_from\\_fuel\\_electricity & fuel\\_oil & 1002 & 22.5 & $\\dots$ \\\\\n",
       "\t7 & costa\\_rica & st\\_flywheels & fuel\\_electricity & 1002 & 14.9787 & $\\dots$ \\\\\n",
       "\t8 & costa\\_rica & supply\\_fuel\\_solar & fuel\\_solar & 1002 & 4.8255 & $\\dots$ \\\\\n",
       "\t9 & costa\\_rica & supply\\_fuel\\_oil & fuel\\_oil & 1002 & 52.5 & $\\dots$ \\\\\n",
       "\t10 & costa\\_rica & supply\\_fuel\\_hydropower & fuel\\_hydropower & 1002 & 16.9422 & $\\dots$ \\\\\n",
       "\\end{tabular}\n"
      ],
      "text/plain": [
       "\u001b[1m10×6 DataFrame\u001b[0m\n",
       "\u001b[1m Row \u001b[0m│\u001b[1m r          \u001b[0m\u001b[1m t                                 \u001b[0m\u001b[1m f                \u001b[0m\u001b[1m y     \u001b[0m ⋯\n",
       "\u001b[1m     \u001b[0m│\u001b[90m String     \u001b[0m\u001b[90m String                            \u001b[0m\u001b[90m String           \u001b[0m\u001b[90m String\u001b[0m ⋯\n",
       "─────┼──────────────────────────────────────────────────────────────────────────\n",
       "   1 │ costa_rica  supply_fuel_crude                  fuel_crude        1002   ⋯\n",
       "   2 │ costa_rica  pp_hydropower                      fuel_electricity  1002\n",
       "   3 │ costa_rica  pp_solar                           fuel_electricity  1002\n",
       "   4 │ costa_rica  st_compressed_air                  fuel_electricity  1002\n",
       "   5 │ costa_rica  st_batteries                       fuel_electricity  1002   ⋯\n",
       "   6 │ costa_rica  supply_fuel_oil_from_fuel_electr…  fuel_oil          1002\n",
       "   7 │ costa_rica  st_flywheels                       fuel_electricity  1002\n",
       "   8 │ costa_rica  supply_fuel_solar                  fuel_solar        1002\n",
       "   9 │ costa_rica  supply_fuel_oil                    fuel_oil          1002   ⋯\n",
       "  10 │ costa_rica  supply_fuel_hydropower             fuel_hydropower   1002\n",
       "\u001b[36m                                                               2 columns omitted\u001b[0m"
      ]
     },
     "execution_count": 130,
     "metadata": {},
     "output_type": "execute_result"
    }
   ],
   "source": [
    "t1 = get(dict_tables, \"vproductionbytechnologyannual\", nothing)\n",
    "#filter(x -> (x[:t] == \"pp_oil\"), t1)\n",
    "filter(x -> (x[:y] == \"1002\"), t1)\n"
   ]
  },
  {
   "cell_type": "code",
   "execution_count": 139,
   "metadata": {},
   "outputs": [
    {
     "data": {
      "text/plain": [
       "724.8681"
      ]
     },
     "execution_count": 139,
     "metadata": {},
     "output_type": "execute_result"
    }
   ],
   "source": [
    "(24*365*0.75*0.085)*1.298"
   ]
  },
  {
   "cell_type": "code",
   "execution_count": 109,
   "metadata": {},
   "outputs": [
    {
     "data": {
      "text/plain": [
       "37.37555310931303"
      ]
     },
     "execution_count": 109,
     "metadata": {},
     "output_type": "execute_result"
    }
   ],
   "source": [
    "tab = filter(x -> ((x[:y] == \"1002\") & (x[:f] == \"fuel_electricity\")), t1)\n",
    "sum(tab[:, :val]) - 21.7722"
   ]
  },
  {
   "cell_type": "code",
   "execution_count": 67,
   "metadata": {},
   "outputs": [
    {
     "data": {
      "text/plain": [
       "93.01024999999998"
      ]
     },
     "execution_count": 67,
     "metadata": {},
     "output_type": "execute_result"
    }
   ],
   "source": [
    "t2 = get(dict_tables, \"InputActivityRatio\", nothing)\n",
    "filter(x -> ((x[:y] == \"1000\") & (x[:t] == \"pp_oil\")), t2)\n",
    "166.262 - 36.947*2.5\n",
    "37.2041*2.5"
   ]
  },
  {
   "cell_type": "code",
   "execution_count": 105,
   "metadata": {},
   "outputs": [
    {
     "data": {
      "text/html": [
       "<div class=\"data-frame\"><p>2 rows × 5 columns</p><table class=\"data-frame\"><thead><tr><th></th><th>id</th><th>r</th><th>f</th><th>y</th><th>val</th></tr><tr><th></th><th title=\"Int64\">Int64</th><th title=\"String\">String</th><th title=\"String\">String</th><th title=\"String\">String</th><th title=\"Float64\">Float64</th></tr></thead><tbody><tr><th>1</th><td>3</td><td>costa_rica</td><td>fuel_electricity</td><td>1002</td><td>36.287</td></tr><tr><th>2</th><td>6</td><td>costa_rica</td><td>fuel_oil</td><td>1002</td><td>72.5739</td></tr></tbody></table></div>"
      ],
      "text/latex": [
       "\\begin{tabular}{r|ccccc}\n",
       "\t& id & r & f & y & val\\\\\n",
       "\t\\hline\n",
       "\t& Int64 & String & String & String & Float64\\\\\n",
       "\t\\hline\n",
       "\t1 & 3 & costa\\_rica & fuel\\_electricity & 1002 & 36.287 \\\\\n",
       "\t2 & 6 & costa\\_rica & fuel\\_oil & 1002 & 72.5739 \\\\\n",
       "\\end{tabular}\n"
      ],
      "text/plain": [
       "\u001b[1m2×5 DataFrame\u001b[0m\n",
       "\u001b[1m Row \u001b[0m│\u001b[1m id    \u001b[0m\u001b[1m r          \u001b[0m\u001b[1m f                \u001b[0m\u001b[1m y      \u001b[0m\u001b[1m val     \u001b[0m\n",
       "\u001b[1m     \u001b[0m│\u001b[90m Int64 \u001b[0m\u001b[90m String     \u001b[0m\u001b[90m String           \u001b[0m\u001b[90m String \u001b[0m\u001b[90m Float64 \u001b[0m\n",
       "─────┼──────────────────────────────────────────────────────\n",
       "   1 │     3  costa_rica  fuel_electricity  1002    36.287\n",
       "   2 │     6  costa_rica  fuel_oil          1002    72.5739"
      ]
     },
     "execution_count": 105,
     "metadata": {},
     "output_type": "execute_result"
    }
   ],
   "source": [
    "t3 = get(dict_tables, \"SpecifiedAnnualDemand\", nothing)\n",
    "#filter(x -> ((x[:y] == \"1001\") & (x[:f] == \"fuel_oil\")), t3)\n",
    "filter(x -> ((x[:y] == \"1002\")), t3)\n"
   ]
  },
  {
   "cell_type": "code",
   "execution_count": 88,
   "metadata": {
    "collapsed": true,
    "jupyter": {
     "outputs_hidden": true
    }
   },
   "outputs": [
    {
     "name": "stdout",
     "output_type": "stream",
     "text": [
      "table_name: CapacityFactor"
     ]
    },
    {
     "data": {
      "text/html": [
       "<div class=\"data-frame\"><p>5,760 rows × 6 columns</p><table class=\"data-frame\"><thead><tr><th></th><th>id</th><th>r</th><th>t</th><th>l</th><th>y</th><th>val</th></tr><tr><th></th><th title=\"Int64\">Int64</th><th title=\"String\">String</th><th title=\"String\">String</th><th title=\"String\">String</th><th title=\"String\">String</th><th title=\"Float64\">Float64</th></tr></thead><tbody><tr><th>1</th><td>1</td><td>costa_rica</td><td>pp_geothermal</td><td>fallwd0</td><td>1000</td><td>0.72</td></tr><tr><th>2</th><td>2</td><td>costa_rica</td><td>pp_geothermal</td><td>fallwd0</td><td>1001</td><td>0.72</td></tr><tr><th>3</th><td>3</td><td>costa_rica</td><td>pp_geothermal</td><td>fallwd0</td><td>1002</td><td>0.72</td></tr><tr><th>4</th><td>4</td><td>costa_rica</td><td>pp_geothermal</td><td>fallwd0</td><td>1003</td><td>0.72</td></tr><tr><th>5</th><td>5</td><td>costa_rica</td><td>pp_geothermal</td><td>fallwd0</td><td>1004</td><td>0.72</td></tr><tr><th>6</th><td>6</td><td>costa_rica</td><td>pp_geothermal</td><td>fallwd0</td><td>1005</td><td>0.72</td></tr><tr><th>7</th><td>7</td><td>costa_rica</td><td>pp_geothermal</td><td>fallwd0</td><td>1006</td><td>0.72</td></tr><tr><th>8</th><td>8</td><td>costa_rica</td><td>pp_geothermal</td><td>fallwd0</td><td>1007</td><td>0.72</td></tr><tr><th>9</th><td>9</td><td>costa_rica</td><td>pp_geothermal</td><td>fallwd0</td><td>1008</td><td>0.72</td></tr><tr><th>10</th><td>10</td><td>costa_rica</td><td>pp_geothermal</td><td>fallwd0</td><td>1009</td><td>0.72</td></tr><tr><th>11</th><td>11</td><td>costa_rica</td><td>pp_geothermal</td><td>fallwd0</td><td>1010</td><td>0.72</td></tr><tr><th>12</th><td>12</td><td>costa_rica</td><td>pp_geothermal</td><td>fallwd0</td><td>1011</td><td>0.72</td></tr><tr><th>13</th><td>13</td><td>costa_rica</td><td>pp_geothermal</td><td>fallwd0</td><td>1012</td><td>0.72</td></tr><tr><th>14</th><td>14</td><td>costa_rica</td><td>pp_geothermal</td><td>fallwd0</td><td>1013</td><td>0.72</td></tr><tr><th>15</th><td>15</td><td>costa_rica</td><td>pp_geothermal</td><td>fallwd0</td><td>1014</td><td>0.72</td></tr><tr><th>16</th><td>16</td><td>costa_rica</td><td>pp_geothermal</td><td>fallwd0</td><td>1015</td><td>0.72</td></tr><tr><th>17</th><td>17</td><td>costa_rica</td><td>pp_geothermal</td><td>fallwd0</td><td>1016</td><td>0.72</td></tr><tr><th>18</th><td>18</td><td>costa_rica</td><td>pp_geothermal</td><td>fallwd0</td><td>1017</td><td>0.72</td></tr><tr><th>19</th><td>19</td><td>costa_rica</td><td>pp_geothermal</td><td>fallwd0</td><td>1018</td><td>0.72</td></tr><tr><th>20</th><td>20</td><td>costa_rica</td><td>pp_geothermal</td><td>fallwd0</td><td>1019</td><td>0.72</td></tr><tr><th>21</th><td>21</td><td>costa_rica</td><td>pp_geothermal</td><td>fallwd0</td><td>1020</td><td>0.72</td></tr><tr><th>22</th><td>22</td><td>costa_rica</td><td>pp_geothermal</td><td>fallwd0</td><td>1021</td><td>0.72</td></tr><tr><th>23</th><td>23</td><td>costa_rica</td><td>pp_geothermal</td><td>fallwd0</td><td>1022</td><td>0.72</td></tr><tr><th>24</th><td>24</td><td>costa_rica</td><td>pp_geothermal</td><td>fallwd0</td><td>1023</td><td>0.72</td></tr><tr><th>25</th><td>25</td><td>costa_rica</td><td>pp_geothermal</td><td>fallwd0</td><td>1024</td><td>0.72</td></tr><tr><th>26</th><td>26</td><td>costa_rica</td><td>pp_geothermal</td><td>fallwd0</td><td>1025</td><td>0.72</td></tr><tr><th>27</th><td>27</td><td>costa_rica</td><td>pp_geothermal</td><td>fallwd0</td><td>1026</td><td>0.72</td></tr><tr><th>28</th><td>28</td><td>costa_rica</td><td>pp_geothermal</td><td>fallwd0</td><td>1027</td><td>0.72</td></tr><tr><th>29</th><td>29</td><td>costa_rica</td><td>pp_geothermal</td><td>fallwd0</td><td>1028</td><td>0.72</td></tr><tr><th>30</th><td>30</td><td>costa_rica</td><td>pp_geothermal</td><td>fallwd0</td><td>1029</td><td>0.72</td></tr><tr><th>&vellip;</th><td>&vellip;</td><td>&vellip;</td><td>&vellip;</td><td>&vellip;</td><td>&vellip;</td><td>&vellip;</td></tr></tbody></table></div>"
      ],
      "text/latex": [
       "\\begin{tabular}{r|cccccc}\n",
       "\t& id & r & t & l & y & val\\\\\n",
       "\t\\hline\n",
       "\t& Int64 & String & String & String & String & Float64\\\\\n",
       "\t\\hline\n",
       "\t1 & 1 & costa\\_rica & pp\\_geothermal & fallwd0 & 1000 & 0.72 \\\\\n",
       "\t2 & 2 & costa\\_rica & pp\\_geothermal & fallwd0 & 1001 & 0.72 \\\\\n",
       "\t3 & 3 & costa\\_rica & pp\\_geothermal & fallwd0 & 1002 & 0.72 \\\\\n",
       "\t4 & 4 & costa\\_rica & pp\\_geothermal & fallwd0 & 1003 & 0.72 \\\\\n",
       "\t5 & 5 & costa\\_rica & pp\\_geothermal & fallwd0 & 1004 & 0.72 \\\\\n",
       "\t6 & 6 & costa\\_rica & pp\\_geothermal & fallwd0 & 1005 & 0.72 \\\\\n",
       "\t7 & 7 & costa\\_rica & pp\\_geothermal & fallwd0 & 1006 & 0.72 \\\\\n",
       "\t8 & 8 & costa\\_rica & pp\\_geothermal & fallwd0 & 1007 & 0.72 \\\\\n",
       "\t9 & 9 & costa\\_rica & pp\\_geothermal & fallwd0 & 1008 & 0.72 \\\\\n",
       "\t10 & 10 & costa\\_rica & pp\\_geothermal & fallwd0 & 1009 & 0.72 \\\\\n",
       "\t11 & 11 & costa\\_rica & pp\\_geothermal & fallwd0 & 1010 & 0.72 \\\\\n",
       "\t12 & 12 & costa\\_rica & pp\\_geothermal & fallwd0 & 1011 & 0.72 \\\\\n",
       "\t13 & 13 & costa\\_rica & pp\\_geothermal & fallwd0 & 1012 & 0.72 \\\\\n",
       "\t14 & 14 & costa\\_rica & pp\\_geothermal & fallwd0 & 1013 & 0.72 \\\\\n",
       "\t15 & 15 & costa\\_rica & pp\\_geothermal & fallwd0 & 1014 & 0.72 \\\\\n",
       "\t16 & 16 & costa\\_rica & pp\\_geothermal & fallwd0 & 1015 & 0.72 \\\\\n",
       "\t17 & 17 & costa\\_rica & pp\\_geothermal & fallwd0 & 1016 & 0.72 \\\\\n",
       "\t18 & 18 & costa\\_rica & pp\\_geothermal & fallwd0 & 1017 & 0.72 \\\\\n",
       "\t19 & 19 & costa\\_rica & pp\\_geothermal & fallwd0 & 1018 & 0.72 \\\\\n",
       "\t20 & 20 & costa\\_rica & pp\\_geothermal & fallwd0 & 1019 & 0.72 \\\\\n",
       "\t21 & 21 & costa\\_rica & pp\\_geothermal & fallwd0 & 1020 & 0.72 \\\\\n",
       "\t22 & 22 & costa\\_rica & pp\\_geothermal & fallwd0 & 1021 & 0.72 \\\\\n",
       "\t23 & 23 & costa\\_rica & pp\\_geothermal & fallwd0 & 1022 & 0.72 \\\\\n",
       "\t24 & 24 & costa\\_rica & pp\\_geothermal & fallwd0 & 1023 & 0.72 \\\\\n",
       "\t25 & 25 & costa\\_rica & pp\\_geothermal & fallwd0 & 1024 & 0.72 \\\\\n",
       "\t26 & 26 & costa\\_rica & pp\\_geothermal & fallwd0 & 1025 & 0.72 \\\\\n",
       "\t27 & 27 & costa\\_rica & pp\\_geothermal & fallwd0 & 1026 & 0.72 \\\\\n",
       "\t28 & 28 & costa\\_rica & pp\\_geothermal & fallwd0 & 1027 & 0.72 \\\\\n",
       "\t29 & 29 & costa\\_rica & pp\\_geothermal & fallwd0 & 1028 & 0.72 \\\\\n",
       "\t30 & 30 & costa\\_rica & pp\\_geothermal & fallwd0 & 1029 & 0.72 \\\\\n",
       "\t$\\dots$ & $\\dots$ & $\\dots$ & $\\dots$ & $\\dots$ & $\\dots$ & $\\dots$ \\\\\n",
       "\\end{tabular}\n"
      ],
      "text/plain": [
       "\u001b[1m5760×6 DataFrame\u001b[0m\n",
       "\u001b[1m  Row \u001b[0m│\u001b[1m id    \u001b[0m\u001b[1m r          \u001b[0m\u001b[1m t             \u001b[0m\u001b[1m l         \u001b[0m\u001b[1m y      \u001b[0m\u001b[1m val     \u001b[0m\n",
       "\u001b[1m      \u001b[0m│\u001b[90m Int64 \u001b[0m\u001b[90m String     \u001b[0m\u001b[90m String        \u001b[0m\u001b[90m String    \u001b[0m\u001b[90m String \u001b[0m\u001b[90m Float64 \u001b[0m\n",
       "──────┼──────────────────────────────────────────────────────────────\n",
       "    1 │     1  costa_rica  pp_geothermal  fallwd0    1000    0.72\n",
       "    2 │     2  costa_rica  pp_geothermal  fallwd0    1001    0.72\n",
       "    3 │     3  costa_rica  pp_geothermal  fallwd0    1002    0.72\n",
       "    4 │     4  costa_rica  pp_geothermal  fallwd0    1003    0.72\n",
       "    5 │     5  costa_rica  pp_geothermal  fallwd0    1004    0.72\n",
       "    6 │     6  costa_rica  pp_geothermal  fallwd0    1005    0.72\n",
       "    7 │     7  costa_rica  pp_geothermal  fallwd0    1006    0.72\n",
       "    8 │     8  costa_rica  pp_geothermal  fallwd0    1007    0.72\n",
       "    9 │     9  costa_rica  pp_geothermal  fallwd0    1008    0.72\n",
       "   10 │    10  costa_rica  pp_geothermal  fallwd0    1009    0.72\n",
       "   11 │    11  costa_rica  pp_geothermal  fallwd0    1010    0.72\n",
       "  ⋮   │   ⋮        ⋮             ⋮            ⋮        ⋮        ⋮\n",
       " 5751 │  5751  costa_rica  pp_wind        winterwe6  1026    0.87875\n",
       " 5752 │  5752  costa_rica  pp_wind        winterwe6  1027    0.87875\n",
       " 5753 │  5753  costa_rica  pp_wind        winterwe6  1028    0.87875\n",
       " 5754 │  5754  costa_rica  pp_wind        winterwe6  1029    0.87875\n",
       " 5755 │  5755  costa_rica  pp_wind        winterwe6  1030    0.87875\n",
       " 5756 │  5756  costa_rica  pp_wind        winterwe6  1031    0.87875\n",
       " 5757 │  5757  costa_rica  pp_wind        winterwe6  1032    0.87875\n",
       " 5758 │  5758  costa_rica  pp_wind        winterwe6  1033    0.87875\n",
       " 5759 │  5759  costa_rica  pp_wind        winterwe6  1034    0.87875\n",
       " 5760 │  5760  costa_rica  pp_wind        winterwe6  1035    0.87875\n",
       "\u001b[36m                                                    5739 rows omitted\u001b[0m"
      ]
     },
     "execution_count": 88,
     "metadata": {},
     "output_type": "execute_result"
    }
   ],
   "source": [
    "i = 37\n",
    "print(\"table_name: $(tabs_populated[i])\")\n",
    "df_cur = get(dict_tables, tabs_populated[i], nothing);\n",
    "df_cur"
   ]
  },
  {
   "cell_type": "code",
   "execution_count": null,
   "metadata": {},
   "outputs": [],
   "source": []
  },
  {
   "cell_type": "code",
   "execution_count": 8,
   "metadata": {},
   "outputs": [],
   "source": [
    "#DBInterface.execute(db, \"select * from $(table_name)\") |> DataFrame\n",
    "#sort(collect(keys(dict_tables)))\n",
    "#get(dict_tables, \"CapacityFactor\", nothing)"
   ]
  },
  {
   "cell_type": "code",
   "execution_count": 22,
   "metadata": {},
   "outputs": [
    {
     "data": {
      "text/html": [
       "<div class=\"data-frame\"><p>0 rows × 5 columns</p><table class=\"data-frame\"><thead><tr><th></th><th>id</th><th>r</th><th>s</th><th>y</th><th>val</th></tr><tr><th></th><th title=\"Union{Missing, Int64}\">Int64?</th><th title=\"Union{Missing, String}\">String?</th><th title=\"Union{Missing, String}\">String?</th><th title=\"Union{Missing, String}\">String?</th><th title=\"Union{Missing, Float64}\">Float64?</th></tr></thead><tbody></tbody></table></div>"
      ],
      "text/latex": [
       "\\begin{tabular}{r|ccccc}\n",
       "\t& id & r & s & y & val\\\\\n",
       "\t\\hline\n",
       "\t& Int64? & String? & String? & String? & Float64?\\\\\n",
       "\t\\hline\n",
       "\\end{tabular}\n"
      ],
      "text/plain": [
       "\u001b[1m0×5 DataFrame\u001b[0m"
      ]
     },
     "execution_count": 22,
     "metadata": {},
     "output_type": "execute_result"
    }
   ],
   "source": [
    "DBInterface.execute(db, \"select * from CapitalCostStorage where (id in (1, 2, 3)) and (y in ('1005'))\") |> DataFrame"
   ]
  },
  {
   "cell_type": "code",
   "execution_count": 91,
   "metadata": {},
   "outputs": [
    {
     "data": {
      "text/plain": [
       "\"/Users/jsyme/.julia/packages/NemoMod/vg6Tx/test/storage_test.sqlite\""
      ]
     },
     "execution_count": 91,
     "metadata": {},
     "output_type": "execute_result"
    }
   ],
   "source": [
    "fp_test = normpath(joinpath(pathof(NemoMod), \"..\", \"..\", \"test\", \"storage_test.sqlite\"))\n"
   ]
  },
  {
   "cell_type": "code",
   "execution_count": 115,
   "metadata": {},
   "outputs": [
    {
     "name": "stdout",
     "output_type": "stream",
     "text": [
      "2022-31-Oct 06:35:20.388 Started modeling scenario.\n",
      "2022-31-Oct 06:35:20.389 Validated run-time arguments.\n",
      "2022-31-Oct 06:35:20.392 Connected to scenario database. Path = /Users/jsyme/Documents/Projects/git_jbus/lac_decarbonization/tmp/nemomod_intermediate_database.sqlite.\n",
      "2022-31-Oct 06:35:20.399 Dropped pre-existing result tables from database.\n",
      "2022-31-Oct 06:35:20.399 Verified that transmission modeling is not enabled.\n",
      "2022-31-Oct 06:35:20.482 Created parameter views and indices.\n",
      "2022-31-Oct 06:35:20.487 Created temporary tables.\n",
      "2022-31-Oct 06:35:22.241 Executed core database queries.\n",
      "2022-31-Oct 06:35:22.245 Defined dimensions.\n",
      "2022-31-Oct 06:35:22.264 Defined demand variables.\n",
      "2022-31-Oct 06:35:22.277 Defined storage variables.\n",
      "2022-31-Oct 06:35:22.279 Defined capacity variables.\n",
      "2022-31-Oct 06:35:25.271 Defined activity variables.\n",
      "2022-31-Oct 06:35:25.275 Defined costing variables.\n",
      "2022-31-Oct 06:35:25.276 Defined reserve margin variables.\n",
      "2022-31-Oct 06:35:25.302 Defined emissions variables.\n",
      "2022-31-Oct 06:35:25.302 Defined combined nodal and non-nodal variables.\n",
      "2022-31-Oct 06:35:25.302 Finished defining model variables.\n",
      "2022-31-Oct 06:35:25.302 Scheduled task to add constraints to model.\n",
      "2022-31-Oct 06:35:25.303 Queued constraint CAa1_TotalNewCapacity for creation.\n",
      "2022-31-Oct 06:35:25.385 Queued constraint CAa2_TotalAnnualCapacity for creation.\n",
      "2022-31-Oct 06:35:25.390 Queued constraint VRateOfActivity1 for creation.\n",
      "2022-31-Oct 06:35:25.391 Queued constraint RampRate for creation.\n",
      "2022-31-Oct 06:35:25.392 Queued constraint CAa3_TotalActivityOfEachTechnology for creation.\n",
      "2022-31-Oct 06:35:25.518 Queued constraint CAa4_Constraint_Capacity for creation.\n",
      "2022-31-Oct 06:35:25.520 Queued constraint MinimumTechnologyUtilization for creation.\n",
      "2022-31-Oct 06:35:25.520 Queued constraint EBa2_RateOfFuelProduction2 for creation.\n",
      "2022-31-Oct 06:35:25.773 Queued constraint GenerationAnnualNN for creation.\n",
      "2022-31-Oct 06:35:25.773 Queued constraint ReGenerationAnnualNN for creation.\n",
      "2022-31-Oct 06:35:25.774 Queued constraint EBa3_RateOfFuelProduction3 for creation.\n",
      "2022-31-Oct 06:35:25.936 Queued constraint VRateOfProduction1 for creation.\n",
      "2022-31-Oct 06:35:25.972 Queued constraint EBa5_RateOfFuelUse2 for creation.\n",
      "2022-31-Oct 06:35:26.744 Queued constraint EBa6_RateOfFuelUse3 for creation.\n",
      "2022-31-Oct 06:35:26.800 Queued constraint VRateOfUse1 for creation.\n",
      "2022-31-Oct 06:35:26.834 Queued constraint EBa7_EnergyBalanceEachTS1 for creation.\n",
      "2022-31-Oct 06:35:27.042 Queued constraint EBa8_EnergyBalanceEachTS2 for creation.\n",
      "2022-31-Oct 06:35:27.042 Queued constraint EBa9_EnergyBalanceEachTS3 for creation.\n",
      "2022-31-Oct 06:35:27.045 Queued constraint EBa11_EnergyBalanceEachTS5 for creation.\n",
      "2022-31-Oct 06:35:27.212 Queued constraint EBb0_EnergyBalanceEachYear for creation.\n",
      "2022-31-Oct 06:35:27.224 Queued constraint EBb1_EnergyBalanceEachYear for creation.\n",
      "2022-31-Oct 06:35:27.236 Queued constraint EBb2_EnergyBalanceEachYear for creation.\n",
      "2022-31-Oct 06:35:27.249 Queued constraint EBb3_EnergyBalanceEachYear for creation.\n",
      "2022-31-Oct 06:35:27.249 Queued constraint EBb5_EnergyBalanceEachYear for creation.\n",
      "2022-31-Oct 06:35:27.254 Queued constraint Acc3_AverageAnnualRateOfActivity for creation.\n",
      "2022-31-Oct 06:35:27.476 Queued constraint NS1_RateOfStorageCharge for creation.\n",
      "2022-31-Oct 06:35:27.655 Queued constraint NS2_RateOfStorageDischarge for creation.\n",
      "2022-31-Oct 06:35:27.689 Queued constraint NS3_StorageLevelTsGroup1Start for creation.\n",
      "2022-31-Oct 06:35:27.741 Queued constraint NS4_StorageLevelTsGroup2Start for creation.\n",
      "2022-31-Oct 06:35:27.742 Queued constraint NS5_StorageLevelTimesliceEnd for creation.\n",
      "2022-31-Oct 06:35:27.742 Queued constraint NS6_StorageLevelTsGroup2End for creation.\n",
      "2022-31-Oct 06:35:27.759 Queued constraint NS6a_StorageLevelTsGroup2NetZero for creation.\n",
      "2022-31-Oct 06:35:27.759 Queued constraint NS7_StorageLevelTsGroup1End for creation.\n",
      "2022-31-Oct 06:35:27.766 Queued constraint NS7a_StorageLevelTsGroup1NetZero for creation.\n",
      "2022-31-Oct 06:35:27.766 Queued constraint NS8_StorageLevelYearEnd for creation.\n",
      "2022-31-Oct 06:35:27.818 Queued constraint NS8a_StorageLevelYearEndNetZero for creation.\n",
      "2022-31-Oct 06:35:27.818 Queued constraint SI1_StorageUpperLimit for creation.\n",
      "2022-31-Oct 06:35:27.818 Queued constraint SI2_StorageLowerLimit for creation.\n",
      "2022-31-Oct 06:35:27.819 Queued constraint SI3_TotalNewStorage for creation.\n",
      "2022-31-Oct 06:35:27.828 Queued constraint NS9a_StorageLevelTsLowerLimit for creation.\n",
      "2022-31-Oct 06:35:27.849 Queued constraint NS9b_StorageLevelTsUpperLimit for creation.\n",
      "2022-31-Oct 06:35:27.849 Queued constraint NS10_StorageChargeLimit for creation.\n",
      "2022-31-Oct 06:35:27.849 Queued constraint NS11_StorageDischargeLimit for creation.\n",
      "2022-31-Oct 06:35:27.849 Queued constraint NS12a_StorageLevelTsGroup2LowerLimit for creation.\n",
      "2022-31-Oct 06:35:27.856 Queued constraint NS12b_StorageLevelTsGroup2UpperLimit for creation.\n",
      "2022-31-Oct 06:35:27.856 Queued constraint NS13a_StorageLevelTsGroup1LowerLimit for creation.\n",
      "2022-31-Oct 06:35:27.859 Queued constraint NS13b_StorageLevelTsGroup1UpperLimit for creation.\n",
      "2022-31-Oct 06:35:27.859 Queued constraint NS14_MaxStorageCapacity for creation.\n",
      "2022-31-Oct 06:35:27.859 Queued constraint NS15_MinStorageCapacity for creation.\n",
      "2022-31-Oct 06:35:27.859 Queued constraint NS16_MaxStorageCapacityInvestment for creation.\n",
      "2022-31-Oct 06:35:27.859 Queued constraint NS17_MinStorageCapacityInvestment for creation.\n",
      "2022-31-Oct 06:35:27.859 Queued constraint NS18_FullLoadHours for creation.\n",
      "2022-31-Oct 06:35:27.860 Queued constraint SI4a_FinancingStorage for creation.\n",
      "2022-31-Oct 06:35:27.860 Queued constraint SI4_UndiscountedCapitalInvestmentStorage for creation.\n",
      "2022-31-Oct 06:35:27.861 Queued constraint SI5_DiscountingCapitalInvestmentStorage for creation.\n",
      "2022-31-Oct 06:35:27.861 Queued constraint SI6_SalvageValueStorageAtEndOfPeriod1 for creation.\n",
      "2022-31-Oct 06:35:27.861 Queued constraint SI7_SalvageValueStorageAtEndOfPeriod2 for creation.\n",
      "2022-31-Oct 06:35:27.861 Queued constraint SI8_SalvageValueStorageAtEndOfPeriod3 for creation.\n",
      "2022-31-Oct 06:35:27.862 Queued constraint SI9_SalvageValueStorageDiscountedToStartYear for creation.\n",
      "2022-31-Oct 06:35:27.862 Queued constraint SI10_TotalDiscountedCostByStorage for creation.\n",
      "2022-31-Oct 06:35:27.862 Queued constraint CC1a_FinancingTechnology for creation.\n",
      "2022-31-Oct 06:35:27.862 Queued constraint CC1_UndiscountedCapitalInvestment for creation.\n",
      "2022-31-Oct 06:35:27.865 Queued constraint CC2_DiscountingCapitalInvestment for creation.\n",
      "2022-31-Oct 06:35:27.865 Queued constraint SV1_SalvageValueAtEndOfPeriod1 for creation.\n",
      "2022-31-Oct 06:35:27.866 Queued constraint SV2_SalvageValueAtEndOfPeriod2 for creation.\n",
      "2022-31-Oct 06:35:27.866 Queued constraint SV3_SalvageValueAtEndOfPeriod3 for creation.\n",
      "2022-31-Oct 06:35:27.867 Queued constraint SV4_SalvageValueDiscountedToStartYear for creation.\n",
      "2022-31-Oct 06:35:27.867 Queued constraint OC1_OperatingCostsVariable for creation.\n",
      "2022-31-Oct 06:35:27.870 Queued constraint OC2_OperatingCostsFixedAnnual for creation.\n",
      "2022-31-Oct 06:35:27.873 Queued constraint OC3_OperatingCostsTotalAnnual for creation.\n",
      "2022-31-Oct 06:35:27.874 Queued constraint OC4_DiscountedOperatingCostsTotalAnnual for creation.\n",
      "2022-31-Oct 06:35:27.874 Queued constraint TDC1_TotalDiscountedCostByTechnology for creation.\n",
      "2022-31-Oct 06:35:27.876 Queued constraint TDC2_TotalDiscountedCost for creation.\n",
      "2022-31-Oct 06:35:27.876 Queued constraint TCC1_TotalAnnualMaxCapacityConstraint for creation.\n",
      "2022-31-Oct 06:35:27.876 Queued constraint TCC2_TotalAnnualMinCapacityConstraint for creation.\n",
      "2022-31-Oct 06:35:27.876 Queued constraint NCC1_TotalAnnualMaxNewCapacityConstraint for creation.\n",
      "2022-31-Oct 06:35:27.877 Queued constraint NCC2_TotalAnnualMinNewCapacityConstraint for creation.\n",
      "2022-31-Oct 06:35:27.877 Queued constraint AAC1_TotalAnnualTechnologyActivity for creation.\n",
      "2022-31-Oct 06:35:28.030 Queued constraint AAC3_TotalAnnualTechnologyActivityLowerLimit for creation.\n",
      "2022-31-Oct 06:35:28.032 Queued constraint RM1_ReserveMargin_TechnologiesIncluded_In_Activity_Units for creation.\n",
      "2022-31-Oct 06:35:28.033 Queued constraint RM2_ReserveMargin_FuelsIncluded for creation.\n",
      "2022-31-Oct 06:35:28.041 Queued constraint RM3_ReserveMargin_Constraint for creation.\n",
      "2022-31-Oct 06:35:28.047 Queued constraint RE1_FuelProductionByTechnologyAnnual for creation.\n",
      "2022-31-Oct 06:35:28.379 Queued constraint FuelUseByTechnologyAnnual for creation.\n",
      "2022-31-Oct 06:35:28.422 Queued constraint RE2_ProductionTarget for creation.\n",
      "2022-31-Oct 06:35:28.423 Queued constraint MinShareProduction for creation.\n",
      "2022-31-Oct 06:35:28.423 Queued constraint E2a_AnnualEmissionProduction for creation.\n",
      "2022-31-Oct 06:35:28.427 Queued constraint E2b_AnnualEmissionProduction for creation.\n",
      "2022-31-Oct 06:35:28.561 Queued constraint E4_EmissionsPenaltyByTechnology for creation.\n",
      "2022-31-Oct 06:35:28.573 Queued constraint E5_DiscountedEmissionsPenaltyByTechnology for creation.\n",
      "2022-31-Oct 06:35:28.638 Queued constraint E6_EmissionsAccounting1 for creation.\n",
      "2022-31-Oct 06:35:28.646 Queued constraint E7_EmissionsAccounting2 for creation.\n",
      "2022-31-Oct 06:35:28.646 Queued constraint E8_AnnualEmissionsLimit for creation.\n",
      "2022-31-Oct 06:35:28.646 Queued constraint E9_ModelPeriodEmissionsLimit for creation.\n",
      "2022-31-Oct 06:35:28.646 Queued 94 standard constraints for creation.\n",
      "2022-31-Oct 06:35:28.646 Finished scheduled task to add constraints to model.\n",
      "2022-31-Oct 06:35:28.647 Added 94 standard constraints to model.\n",
      "2022-31-Oct 06:35:28.647 Defined model objective.\n",
      "Gurobi Optimizer version 9.5.2 build v9.5.2rc0 (mac64[x86])\n",
      "Thread count: 6 physical cores, 12 logical processors, using up to 12 threads\n",
      "Optimize a model with 313397 rows, 356030 columns and 914328 nonzeros\n",
      "Model fingerprint: 0xc39cf451\n",
      "Coefficient statistics:\n",
      "  Matrix range     [1e-07, 3e+06]\n",
      "  Objective range  [1e+00, 1e+00]\n",
      "  Bounds range     [0e+00, 0e+00]\n",
      "  RHS range        [1e-02, 1e+03]\n",
      "Warning: Model contains large matrix coefficient range\n",
      "         Consider reformulating model or setting NumericFocus parameter\n",
      "         to avoid numerical issues.\n",
      "\n",
      "Concurrent LP optimizer: primal simplex, dual simplex, and barrier\n",
      "Showing barrier log only...\n",
      "\n",
      "Presolve time: 0.28s\n",
      "\n",
      "Solved with dual simplex\n",
      "Solved in 0 iterations and 0.28 seconds (0.03 work units)\n",
      "Infeasible or unbounded model\n",
      "\n",
      "User-callback calls 23, time in user-callback 0.00 sec\n",
      "2022-31-Oct 06:35:30.378 Solved model. Solver status = INFEASIBLE_OR_UNBOUNDED.\n",
      "2022-31-Oct 06:35:30.378 Solver did not find an optimal solution for model. No results will be saved to database.\n",
      "2022-31-Oct 06:35:30.382 Dropped temporary tables.\n",
      "2022-31-Oct 06:35:30.382 Finished modeling scenario.\n",
      "  9.994092 seconds (38.75 M allocations: 1.910 GiB, 27.64% gc time)\n"
     ]
    },
    {
     "data": {
      "text/plain": [
       "INFEASIBLE_OR_UNBOUNDED::TerminationStatusCode = 6"
      ]
     },
     "execution_count": 115,
     "metadata": {},
     "output_type": "execute_result"
    }
   ],
   "source": [
    "\n",
    "model = Model(Gurobi.Optimizer)\n",
    "#set_optimizer_attribute(model, \"Solver\", \"cplex\")\n",
    "@time NemoMod.calculatescenario(\n",
    "    fp_sqlite_nemomod_db_tmp; \n",
    "    jumpmodel = model,\n",
    "    numprocs = 1\n",
    ")"
   ]
  },
  {
   "cell_type": "code",
   "execution_count": 114,
   "metadata": {},
   "outputs": [
    {
     "data": {
      "text/plain": [
       "Model"
      ]
     },
     "execution_count": 114,
     "metadata": {},
     "output_type": "execute_result"
    }
   ],
   "source": [
    "typeof(model)"
   ]
  },
  {
   "cell_type": "code",
   "execution_count": null,
   "metadata": {},
   "outputs": [],
   "source": []
  },
  {
   "cell_type": "code",
   "execution_count": 106,
   "metadata": {},
   "outputs": [
    {
     "name": "stdout",
     "output_type": "stream",
     "text": [
      "IIS runtime: 0.02 seconds (0.00 work units)\n"
     ]
    },
    {
     "ename": "LoadError",
     "evalue": "Gurobi Error 10015: Cannot compute IIS on a feasible model",
     "output_type": "error",
     "traceback": [
      "Gurobi Error 10015: Cannot compute IIS on a feasible model",
      "",
      "Stacktrace:",
      " [1] _check_ret",
      "   @ ~/.julia/packages/Gurobi/VPomg/src/MOI_wrapper/MOI_wrapper.jl:368 [inlined]",
      " [2] compute_conflict!(model::Gurobi.Optimizer)",
      "   @ Gurobi ~/.julia/packages/Gurobi/VPomg/src/MOI_wrapper/MOI_wrapper.jl:3687",
      " [3] top-level scope",
      "   @ In[106]:1",
      " [4] eval",
      "   @ ./boot.jl:368 [inlined]",
      " [5] include_string(mapexpr::typeof(REPL.softscope), mod::Module, code::String, filename::String)",
      "   @ Base ./loading.jl:1428"
     ]
    }
   ],
   "source": [
    "MOI.compute_conflict!(model.moi_backend.optimizer.model)\n",
    "MOI.get(model.moi_backend, Gurobi.ConstraintConflictStatus(), con1.index)\n",
    "\n"
   ]
  },
  {
   "cell_type": "code",
   "execution_count": null,
   "metadata": {},
   "outputs": [],
   "source": []
  },
  {
   "cell_type": "code",
   "execution_count": null,
   "metadata": {},
   "outputs": [],
   "source": []
  }
 ],
 "metadata": {
  "kernelspec": {
   "display_name": "Julia 10 Threads 1.8.2",
   "language": "julia",
   "name": "julia-10-threads-1.8"
  },
  "language_info": {
   "file_extension": ".jl",
   "mimetype": "application/julia",
   "name": "julia",
   "version": "1.8.2"
  }
 },
 "nbformat": 4,
 "nbformat_minor": 4
}
