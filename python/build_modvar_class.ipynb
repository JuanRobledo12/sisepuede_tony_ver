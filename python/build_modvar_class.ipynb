{
 "cells": [
  {
   "cell_type": "code",
   "execution_count": 2,
   "id": "d970f89d-676e-4058-9e48-8ba9166df470",
   "metadata": {
    "tags": []
   },
   "outputs": [
    {
     "data": {
      "text/plain": [
       "<module 'model_electricity' from '/Users/jsyme/Documents/Projects/git_jbus/sisepuede/python/model_electricity.py'>"
      ]
     },
     "execution_count": 2,
     "metadata": {},
     "output_type": "execute_result"
    }
   ],
   "source": [
    "\n",
    "import warnings\n",
    "warnings.filterwarnings(\"ignore\")\n",
    "\n",
    "import os, os.path\n",
    "import numpy as np\n",
    "import pandas as pd\n",
    "import model_attributes as ma\n",
    "from attribute_table import AttributeTable\n",
    "\n",
    "import model_afolu as mafl\n",
    "import model_ippu as mi\n",
    "import model_circular_economy as mc\n",
    "import model_energy as me\n",
    "import model_electricity as ml\n",
    "import model_socioeconomic as se\n",
    "\n",
    "import pathlib\n",
    "#import setup_analysis as sa\n",
    "import sisepuede as ssp\n",
    "import support_classes as sc\n",
    "import support_functions as sf\n",
    "import importlib\n",
    "import time\n",
    "import matplotlib.pyplot as plt\n",
    "import sql_utilities as sq\n",
    "from typing import *\n",
    "import sqlalchemy\n",
    "import sql_utilities as sqlutil\n",
    "import time\n",
    "importlib.reload(ma)\n",
    "#importlib.reload(sa)\n",
    "importlib.reload(sf)\n",
    "importlib.reload(mafl)\n",
    "importlib.reload(mc)\n",
    "importlib.reload(mi)\n",
    "importlib.reload(me)\n",
    "importlib.reload(se)\n",
    "importlib.reload(ml)\n",
    "\n",
    "\n"
   ]
  },
  {
   "cell_type": "code",
   "execution_count": 3,
   "id": "19606177-dd25-48ae-820f-b7d470ebe033",
   "metadata": {},
   "outputs": [],
   "source": [
    "import model_attributes as ma\n",
    "import model_variable as mv\n",
    "import units_manager as um"
   ]
  },
  {
   "cell_type": "code",
   "execution_count": null,
   "id": "a4ffd300-5e23-4b96-8722-16f9150c2e60",
   "metadata": {},
   "outputs": [],
   "source": []
  },
  {
   "cell_type": "code",
   "execution_count": 4,
   "id": "769830e6-8f83-4951-8724-9446aa3a3ef2",
   "metadata": {},
   "outputs": [],
   "source": [
    "fp = \"/Users/jsyme/Documents/Projects/git_jbus/sisepuede/out/sisepuede_summary_results_run_sisepuede_run_2024-02-10T17;45;35.578004/sisepuede_results_sisepuede_run_2024-02-10T17;45;35.578004_WIDE_INPUTS_OUTPUTS.csv\"\n",
    "df_test = pd.read_csv(fp)\n",
    "\n",
    "\n",
    "# path = pathlib.Path(sa.dir_ref)\n",
    "# path_fake_data = path.joinpath(\"fake_data\", \"fake_data_complete.csv\")\n",
    "# df_fake_data = pd.read_csv(path_fake_data)\n",
    "\n",
    "def add_missing_lvst_elast(\n",
    "    df: pd.DataFrame,\n",
    ") -> pd.DataFrame:\n",
    "    \"\"\"\n",
    "    add buffalo, goat, horse, and mule elasticities to a df\n",
    "    \"\"\"\n",
    "    \n",
    "    # sheep inputs\n",
    "    vec_sheep = df[\"elasticity_lvst_sheep_demand_to_gdppc\"].to_numpy()\n",
    "    \n",
    "    # buffalo\n",
    "    vec_buffalo = df[\"elasticity_lvst_cattle_dairy_demand_to_gdppc\"].to_numpy()\n",
    "    vec_buffalo += df[\"elasticity_lvst_cattle_nondairy_demand_to_gdppc\"].to_numpy()\n",
    "    vec_buffalo /= 2\n",
    "\n",
    "\n",
    "    flds_sheep = [\n",
    "        \"elasticity_lvst_goats_demand_to_gdppc\",\n",
    "        \"elasticity_lvst_horses_demand_to_gdppc\",\n",
    "        \"elasticity_lvst_mules_demand_to_gdppc\"\n",
    "    ]\n",
    "    for fld in flds_sheep:\n",
    "        if fld not in df.columns:\n",
    "            df[fld] = vec_sheep\n",
    "    \n",
    "    fld_buffalo = \"elasticity_lvst_buffalo_demand_to_gdppc\"\n",
    "    if fld_buffalo not in df.columns:\n",
    "        df[fld_buffalo] = vec_buffalo\n",
    "\n",
    "    \n",
    "    return df\n",
    "\n",
    "df_test = add_missing_lvst_elast(df_test);\n",
    "\n",
    "\n",
    "df_base = (\n",
    "    df_test[\n",
    "        df_test[\"primary_id\"].isin([14014])\n",
    "    ]\n",
    "    .reset_index(drop = True)\n",
    ")\n",
    "\n",
    "df_base_input = df_base[\n",
    "    [x for x in df_base.columns if x not in matt_new.all_variable_fields_output]\n",
    "]\n",
    "\n",
    "\n",
    "    \n",
    "    "
   ]
  },
  {
   "cell_type": "code",
   "execution_count": 15,
   "id": "a356c631-6fb0-471e-a1c9-5ac1d1a72280",
   "metadata": {},
   "outputs": [
    {
     "data": {
      "text/plain": [
       "['frac_lndu_increasing_net_exports_met_croplands',\n",
       " 'frac_lndu_increasing_net_exports_met_grasslands']"
      ]
     },
     "execution_count": 15,
     "metadata": {},
     "output_type": "execute_result"
    }
   ],
   "source": [
    "mov_lndu = matt_new.get_variable(\n",
    "    model_afolu.modvar_lndu_frac_increasing_net_exports_met\n",
    ")\n",
    "mov_lndu.fields\n",
    "\n"
   ]
  },
  {
   "cell_type": "code",
   "execution_count": 26,
   "id": "55b0d62e-14e4-4803-a545-50c4ba8e3b05",
   "metadata": {
    "collapsed": true,
    "jupyter": {
     "outputs_hidden": true
    },
    "tags": []
   },
   "outputs": [
    {
     "name": "stdout",
     "output_type": "stream",
     "text": [
      "MISSIONSEARCHNOTE: As of 2023-10-06, there is a temporary solution implemeted in ModelAttributes.get_variable_to_simplex_group_dictionary() to ensure that transition probability rows are enforced on a simplex.\n",
      "\n",
      "FIX THIS ASAP TO DERIVE PROPERLY.\n"
     ]
    },
    {
     "data": {
      "text/plain": [
       "array([[1., 1.],\n",
       "       [1., 1.],\n",
       "       [1., 1.],\n",
       "       [1., 1.],\n",
       "       [1., 1.],\n",
       "       [1., 1.],\n",
       "       [1., 1.],\n",
       "       [1., 1.],\n",
       "       [1., 1.],\n",
       "       [1., 1.],\n",
       "       [1., 1.],\n",
       "       [1., 1.],\n",
       "       [1., 1.],\n",
       "       [1., 1.],\n",
       "       [1., 1.],\n",
       "       [1., 1.],\n",
       "       [1., 1.],\n",
       "       [1., 1.],\n",
       "       [1., 1.],\n",
       "       [1., 1.],\n",
       "       [1., 1.],\n",
       "       [1., 1.],\n",
       "       [1., 1.],\n",
       "       [1., 1.],\n",
       "       [1., 1.],\n",
       "       [1., 1.],\n",
       "       [1., 1.],\n",
       "       [1., 1.],\n",
       "       [1., 1.],\n",
       "       [1., 1.],\n",
       "       [1., 1.],\n",
       "       [1., 1.],\n",
       "       [1., 1.],\n",
       "       [1., 1.],\n",
       "       [1., 1.],\n",
       "       [1., 1.],\n",
       "       [1., 1.],\n",
       "       [1., 1.],\n",
       "       [1., 1.],\n",
       "       [1., 1.],\n",
       "       [1., 1.],\n",
       "       [1., 1.],\n",
       "       [1., 1.],\n",
       "       [1., 1.],\n",
       "       [1., 1.],\n",
       "       [1., 1.],\n",
       "       [1., 1.],\n",
       "       [1., 1.],\n",
       "       [1., 1.],\n",
       "       [1., 1.],\n",
       "       [1., 1.],\n",
       "       [1., 1.],\n",
       "       [1., 1.],\n",
       "       [1., 1.],\n",
       "       [1., 1.],\n",
       "       [1., 1.]])"
      ]
     },
     "execution_count": 26,
     "metadata": {},
     "output_type": "execute_result"
    }
   ],
   "source": [
    "import importlib\n",
    "importlib.reload(sf)\n",
    "importlib.reload(mv)\n",
    "importlib.reload(um)\n",
    "importlib.reload(ma)\n",
    "\n",
    "\n",
    "fp = \"/Users/jsyme/Documents/Projects/git_jbus/sisepuede/docs_new/source/csvs\"\n",
    "path = pathlib.Path(fp)\n",
    "matt_new = ma.ModelAttributes(\n",
    "    path, \n",
    "    fp_config = path.parents[2].joinpath(\"sisepuede.config\")\n",
    ")\n",
    "\n",
    "\n",
    "# modvar = matt_new.dict_variables.get(\"Volumetric Energy Density\")\n",
    "# modvar.get_property(\"subsector\")\n",
    "# unit_energy = matt_new.get_unit(\"energy\")\n",
    "# unit_power = matt_new.get_unit(\"power\")\n",
    "# unit_power.get_unit_key(\"none\")\n",
    "\n",
    "\n",
    "\n",
    "modvar = \":math:\\\\text{CO}_2 Land Use Conversion Emission Factor\"\n",
    "#modvar = \"Unadjusted Land Use Transition Probability\"\n",
    "#modvar = \"GDP\"\n",
    "#modvar = \"Population\"\n",
    "#modvar = \"Land Use Yield Reallocation Factor\"\n",
    "modvar = \"\"\n",
    "mov = matt_new.dict_variables.get(modvar)\n",
    "\n",
    "\n",
    "#mov.build_fields(\n",
    "#    # category_restrictions = [\"croplands\", \"forests_primary\"]#\"cat_general\": [\"rural\"]}\n",
    "#    category_restrictions = \"croplands\"#{\"cat_landuse_dim2\": [\"croplands\", \"forests_primary\"]}\n",
    "#)\n",
    "\n",
    "#merge_array_var_partial_cat_to_array_all_cats\n",
    "matt_new.extract_model_variable(#\n",
    "    df_base,\n",
    "    model_afolu.modvar_lndu_frac_increasing_net_exports_met,\n",
    "    expand_to_all_cats = False,\n",
    "    return_type = \"array_base\",\n",
    "    var_bounds = (0, 1),\n",
    ")"
   ]
  },
  {
   "cell_type": "code",
   "execution_count": 234,
   "id": "f8a787b5-519a-42c1-8607-7bc3af2666af",
   "metadata": {},
   "outputs": [
    {
     "name": "stdout",
     "output_type": "stream",
     "text": [
      "MISSIONSEARCHNOTE: As of 2023-10-06, there is a temporary solution implemeted in ModelAttributes.get_variable_to_simplex_group_dictionary() to ensure that transition probability rows are enforced on a simplex.\n",
      "\n",
      "FIX THIS ASAP TO DERIVE PROPERLY.\n"
     ]
    }
   ],
   "source": [
    "import setup_analysis as sa"
   ]
  },
  {
   "cell_type": "code",
   "execution_count": null,
   "id": "cd28f277-6144-4a74-a24f-a8125f028ae5",
   "metadata": {},
   "outputs": [],
   "source": [
    "importlib.reload(ml)\n",
    "model_elec = ml.ElectricEnergy(\n",
    "    sa.model_attributes, \n",
    "    sa.dir_jl, \n",
    "    sa.dir_ref_nemo, \n",
    "    logger = None, \n",
    "    initialize_julia = True,\n",
    ");\n",
    "\n",
    "\n"
   ]
  },
  {
   "cell_type": "code",
   "execution_count": null,
   "id": "c3b0fbfb-1d67-4e1f-9616-a770d6c0e329",
   "metadata": {},
   "outputs": [],
   "source": [
    "logger"
   ]
  },
  {
   "cell_type": "code",
   "execution_count": 215,
   "id": "144aa45f-14f7-47ec-96a6-f85da94109fe",
   "metadata": {
    "tags": []
   },
   "outputs": [
    {
     "name": "stdout",
     "output_type": "stream",
     "text": [
      "MISSIONSEARCHNOTE: As of 2023-10-06, there is a temporary solution implemeted in ModelAttributes.get_variable_to_simplex_group_dictionary() to ensure that transition probability rows are enforced on a simplex.\n",
      "\n",
      "FIX THIS ASAP TO DERIVE PROPERLY.\n"
     ]
    }
   ],
   "source": [
    "importlib.reload(mv)\n",
    "importlib.reload(mafl)\n",
    "importlib.reload(ma)\n",
    "importlib.reload(mc)\n",
    "importlib.reload(me)\n",
    "importlib.reload(se)\n",
    "\n",
    "matt_new = ma.ModelAttributes(\n",
    "    path, \n",
    "    fp_config = path.parents[2].joinpath(\"sisepuede.config\")\n",
    ")\n",
    "\n",
    "\n",
    "\n",
    "\n",
    "model_afolu = mafl.AFOLU(matt_new)\n",
    "model_circecon = mc.CircularEconomy(matt_new);\n",
    "model_ippu = mi.IPPU(matt_new);\n",
    "#model_elec = None\n",
    "model_elec = ml.ElectricEnergy(sa.model_attributes, sa.dir_jl, sa.dir_ref_nemo, logger = logger, initialize_julia = True);\n",
    "model_energy = me.NonElectricEnergy(matt_new);\n",
    "model_socioeconomic = se.Socioeconomic(matt_new);\n",
    "\n",
    "\n",
    "def run_strat(\n",
    "    df_in: pd.DataFrame,\n",
    "    project_nemomod: bool = False,\n",
    ") -> pd.DataFrame:\n",
    "    \n",
    "    df_elec = None\n",
    "    df_cs_integrated = df_in.copy()\n",
    "    \n",
    "    df_project_afolu = model_afolu.project(df_cs_integrated)\n",
    "    df_cs_integrated = sf.merge_output_df_list([df_cs_integrated, df_project_afolu], matt_new, \"concatenate\")\n",
    "    \n",
    "    \n",
    "    # pass integrated df\n",
    "    df_project_ce = model_circecon.project(df_cs_integrated)\n",
    "    df_cs_integrated = sf.merge_output_df_list([df_cs_integrated, df_project_ce], matt_new, \"concatenate\")\n",
    "    \n",
    "    # pass integrated df\n",
    "    df_project_ip = model_ippu.project(df_cs_integrated)\n",
    "    df_cs_integrated = sf.merge_output_df_list([df_cs_integrated, df_project_ip], matt_new, \"concatenate\")\n",
    "    \n",
    "    # pass integrated df\n",
    "    df_project_en = model_energy.project(df_cs_integrated);\n",
    "    df_cs_integrated = sf.merge_output_df_list([df_cs_integrated, df_project_en], matt_new, \"concatenate\")\n",
    "\n",
    "    df_elec = None\n",
    "    if project_nemomod:\n",
    "        os.remove(sa.fp_sqlite_nemomod_db_tmp) if os.path.exists(sa.fp_sqlite_nemomod_db_tmp) else None\n",
    "        engine = sqlalchemy.create_engine(f\"sqlite:///{sa.fp_sqlite_nemomod_db_tmp}\")\n",
    "        t0 = time.time()\n",
    "        df_elec = model_elec.project(df_cs_integrated, engine = engine, regions = region)\n",
    "        t1 = time.time()\n",
    "\n",
    "    return df_project_afolu, df_cs_integrated, df_elec\n",
    "\n",
    "\n"
   ]
  },
  {
   "cell_type": "code",
   "execution_count": 218,
   "id": "f6b72e9d-71d3-435f-9266-27b383f249da",
   "metadata": {},
   "outputs": [
    {
     "name": "stdout",
     "output_type": "stream",
     "text": [
      "shape0:\t(56, 2193)\n",
      "shape:\t(56, 2191)\n",
      "shape0:\t(56, 2578)\n",
      "shape:\t(56, 2576)\n",
      "shape0:\t(56, 2902)\n",
      "shape:\t(56, 2900)\n"
     ]
    }
   ],
   "source": [
    "dfap, dfc, dfe = run_strat(df_base_input)"
   ]
  },
  {
   "cell_type": "code",
   "execution_count": 232,
   "id": "a95314b2-c124-4017-ab73-1e47d400dfca",
   "metadata": {},
   "outputs": [
    {
     "data": {
      "text/plain": [
       "1.617195266589988e-11"
      ]
     },
     "execution_count": 232,
     "metadata": {},
     "output_type": "execute_result"
    }
   ],
   "source": [
    "fields_check = [x for x in dfc.columns if x.startswith(\"emission_co2e_subsector\")]\n",
    "\n",
    "arr_now = dfc[fields_check].to_numpy()\n",
    "arr_then = df_base[fields_check].to_numpy()\n",
    "np.abs(arr_then - arr_now).max()\n"
   ]
  },
  {
   "cell_type": "code",
   "execution_count": null,
   "id": "749c5708-5683-4fbe-a3b2-c9c365f395a4",
   "metadata": {},
   "outputs": [],
   "source": []
  },
  {
   "cell_type": "code",
   "execution_count": 209,
   "id": "83e7d97d-bfeb-4023-99be-6905a91f6a6c",
   "metadata": {},
   "outputs": [
    {
     "data": {
      "text/plain": [
       "{'ef_ch4': ':math:\\\\text{CH}_4 Gasoline Mobile Combustion Emission Factor',\n",
       " 'ef_n2o': ':math:\\\\text{N}_2\\\\text{O} Gasoline Mobile Combustion Emission Factor',\n",
       " 'fuel_efficiency': 'Fuel Efficiency Gasoline',\n",
       " 'fuel_fraction': 'Transportation Mode Fuel Fraction Gasoline',\n",
       " 'modal_energy_consumption': 'Transportation Modal Energy Consumption from Gasoline',\n",
       " 'vehicle_distance_traveled': 'Vehicle Distance Traveled from Gasoline'}"
      ]
     },
     "execution_count": 209,
     "metadata": {},
     "output_type": "execute_result"
    }
   ],
   "source": [
    "dict_map = model_energy.dict_trns_fuel_categories_to_fuel_variables.get(\"fuel_gasoline\")\n",
    "modvar_name = dict_map.get(\"fuel_efficiency\")\n",
    "dict_map\n"
   ]
  },
  {
   "cell_type": "code",
   "execution_count": 204,
   "id": "c95ccd04-d751-4633-b488-861d9b14fa4f",
   "metadata": {},
   "outputs": [
    {
     "data": {
      "text/plain": [
       "array([[ 0.        ,  0.        , 39.14108797,  1.4454896 ,  0.        ,\n",
       "         0.        ,  1.92984995,  1.83342168, 10.37783955,  0.        ],\n",
       "       [ 0.        ,  0.        , 39.14108797,  1.4454896 ,  0.        ,\n",
       "         0.        ,  1.9430681 ,  1.83300058, 10.38439492,  0.        ],\n",
       "       [ 0.        ,  0.        , 39.14108797,  1.4454896 ,  0.        ,\n",
       "         0.        ,  1.95963159,  1.83258132, 10.39097098,  0.        ],\n",
       "       [ 0.        ,  0.        , 39.14108797,  1.4454896 ,  0.        ,\n",
       "         0.        ,  1.98029605,  1.8322306 , 10.39831303,  0.        ],\n",
       "       [ 0.        ,  0.        , 39.14108797,  1.4454896 ,  0.        ,\n",
       "         0.        ,  1.97735924,  1.83201511, 10.40716634,  0.        ],\n",
       "       [ 0.        ,  0.        , 39.14108797,  1.4454896 ,  0.        ,\n",
       "         0.        ,  1.96425064,  1.83200152, 10.41827619,  0.        ],\n",
       "       [ 0.        ,  0.        , 39.14108797,  1.4454896 ,  0.        ,\n",
       "         0.        ,  1.96425064,  1.83225652, 10.43238786,  0.        ],\n",
       "       [ 0.        ,  0.        , 39.14108797,  1.4454896 ,  0.        ,\n",
       "         0.        ,  1.96425064,  1.8328468 , 10.45024662,  0.        ],\n",
       "       [ 0.        ,  0.        , 39.14108797,  1.4454896 ,  0.        ,\n",
       "         0.        ,  1.96425064,  1.83383903, 10.47259777,  0.        ],\n",
       "       [ 0.        ,  0.        , 39.14108797,  1.4454896 ,  0.        ,\n",
       "         0.        ,  1.96425064,  1.83529991, 10.50018657,  0.        ],\n",
       "       [ 0.        ,  0.        , 39.14108797,  1.4454896 ,  0.        ,\n",
       "         0.        ,  1.96425064,  1.83729612, 10.5337583 ,  0.        ],\n",
       "       [ 0.        ,  0.        , 39.14108797,  1.4454896 ,  0.        ,\n",
       "         0.        ,  1.96425064,  1.83989435, 10.57405825,  0.        ],\n",
       "       [ 0.        ,  0.        , 39.14108797,  1.4454896 ,  0.        ,\n",
       "         0.        ,  1.96425064,  1.84316127, 10.6218317 ,  0.        ],\n",
       "       [ 0.        ,  0.        , 39.14108797,  1.4454896 ,  0.        ,\n",
       "         0.        ,  1.96425064,  1.84716357, 10.67782392,  0.        ],\n",
       "       [ 0.        ,  0.        , 39.14108797,  1.4454896 ,  0.        ,\n",
       "         0.        ,  1.96425064,  1.85196794, 10.74278019,  0.        ],\n",
       "       [ 0.        ,  0.        , 39.14108797,  1.4454896 ,  0.        ,\n",
       "         0.        ,  1.96425064,  1.85764106, 10.81744579,  0.        ],\n",
       "       [ 0.        ,  0.        , 39.14108797,  1.4454896 ,  0.        ,\n",
       "         0.        ,  1.96425064,  1.86424962, 10.902566  ,  0.        ],\n",
       "       [ 0.        ,  0.        , 39.14108797,  1.4454896 ,  0.        ,\n",
       "         0.        ,  1.96425064,  1.8718603 , 10.99888611,  0.        ],\n",
       "       [ 0.        ,  0.        , 39.14108797,  1.4454896 ,  0.        ,\n",
       "         0.        ,  1.96425064,  1.88053979, 11.10715138,  0.        ],\n",
       "       [ 0.        ,  0.        , 39.14108797,  1.4454896 ,  0.        ,\n",
       "         0.        ,  1.96425064,  1.89035477, 11.22810711,  0.        ],\n",
       "       [ 0.        ,  0.        , 39.14108797,  1.4454896 ,  0.        ,\n",
       "         0.        ,  1.96425064,  1.90137192, 11.36249856,  0.        ],\n",
       "       [ 0.        ,  0.        , 39.14108797,  1.4454896 ,  0.        ,\n",
       "         0.        ,  1.96425064,  1.91365278, 11.51101348,  0.        ],\n",
       "       [ 0.        ,  0.        , 39.14108797,  1.4454896 ,  0.        ,\n",
       "         0.        ,  1.96425064,  1.92717654, 11.67341932,  0.        ],\n",
       "       [ 0.        ,  0.        , 39.14108797,  1.4454896 ,  0.        ,\n",
       "         0.        ,  1.96425064,  1.94185617, 11.84874334,  0.        ],\n",
       "       [ 0.        ,  0.        , 39.14108797,  1.4454896 ,  0.        ,\n",
       "         0.        ,  1.96425064,  1.95760276, 12.03599182,  0.        ],\n",
       "       [ 0.        ,  0.        , 39.14108797,  1.4454896 ,  0.        ,\n",
       "         0.        ,  1.96425064,  1.97432738, 12.23417106,  0.        ],\n",
       "       [ 0.        ,  0.        , 39.14108797,  1.4454896 ,  0.        ,\n",
       "         0.        ,  1.96425064,  1.99194114, 12.44228736,  0.        ],\n",
       "       [ 0.        ,  0.        , 39.14108797,  1.4454896 ,  0.        ,\n",
       "         0.        ,  1.96425064,  2.0103551 , 12.65934701,  0.        ],\n",
       "       [ 0.        ,  0.        , 39.14108797,  1.4454896 ,  0.        ,\n",
       "         0.        ,  1.96425064,  2.02948037, 12.8843563 ,  0.        ],\n",
       "       [ 0.        ,  0.        , 39.14108797,  1.4454896 ,  0.        ,\n",
       "         0.        ,  1.96425064,  2.04922803, 13.11632154,  0.        ],\n",
       "       [ 0.        ,  0.        , 39.14108797,  1.4454896 ,  0.        ,\n",
       "         0.        ,  1.96425064,  2.06950917, 13.354249  ,  0.        ],\n",
       "       [ 0.        ,  0.        , 39.14108797,  1.4454896 ,  0.        ,\n",
       "         0.        ,  1.96425064,  2.09023487, 13.597145  ,  0.        ],\n",
       "       [ 0.        ,  0.        , 39.14108797,  1.4454896 ,  0.        ,\n",
       "         0.        ,  1.96425064,  2.11131622, 13.84401582,  0.        ],\n",
       "       [ 0.        ,  0.        , 39.14108797,  1.4454896 ,  0.        ,\n",
       "         0.        ,  1.96425064,  2.13266431, 14.09386775,  0.        ],\n",
       "       [ 0.        ,  0.        , 39.14108797,  1.4454896 ,  0.        ,\n",
       "         0.        ,  1.96425064,  2.15419022, 14.34570709,  0.        ],\n",
       "       [ 0.        ,  0.        , 39.14108797,  1.4454896 ,  0.        ,\n",
       "         0.        ,  1.96425064,  2.17580505, 14.59854015,  0.        ],\n",
       "       [ 0.        ,  0.        , 39.14108797,  1.4454896 ,  0.        ,\n",
       "         0.        ,  1.96425064,  2.17580505, 14.59854015,  0.        ],\n",
       "       [ 0.        ,  0.        , 39.14108797,  1.4454896 ,  0.        ,\n",
       "         0.        ,  1.96425064,  2.17580505, 14.59854015,  0.        ],\n",
       "       [ 0.        ,  0.        , 39.14108797,  1.4454896 ,  0.        ,\n",
       "         0.        ,  1.96425064,  2.17580505, 14.59854015,  0.        ],\n",
       "       [ 0.        ,  0.        , 39.14108797,  1.4454896 ,  0.        ,\n",
       "         0.        ,  1.96425064,  2.17580505, 14.59854015,  0.        ],\n",
       "       [ 0.        ,  0.        , 39.14108797,  1.4454896 ,  0.        ,\n",
       "         0.        ,  1.96425064,  2.17580505, 14.59854015,  0.        ],\n",
       "       [ 0.        ,  0.        , 39.14108797,  1.4454896 ,  0.        ,\n",
       "         0.        ,  1.96425064,  2.17580505, 14.59854015,  0.        ],\n",
       "       [ 0.        ,  0.        , 39.14108797,  1.4454896 ,  0.        ,\n",
       "         0.        ,  1.96425064,  2.17580505, 14.59854015,  0.        ],\n",
       "       [ 0.        ,  0.        , 39.14108797,  1.4454896 ,  0.        ,\n",
       "         0.        ,  1.96425064,  2.17580505, 14.59854015,  0.        ],\n",
       "       [ 0.        ,  0.        , 39.14108797,  1.4454896 ,  0.        ,\n",
       "         0.        ,  1.96425064,  2.17580505, 14.59854015,  0.        ],\n",
       "       [ 0.        ,  0.        , 39.14108797,  1.4454896 ,  0.        ,\n",
       "         0.        ,  1.96425064,  2.17580505, 14.59854015,  0.        ],\n",
       "       [ 0.        ,  0.        , 39.14108797,  1.4454896 ,  0.        ,\n",
       "         0.        ,  1.96425064,  2.17580505, 14.59854015,  0.        ],\n",
       "       [ 0.        ,  0.        , 39.14108797,  1.4454896 ,  0.        ,\n",
       "         0.        ,  1.96425064,  2.17580505, 14.59854015,  0.        ],\n",
       "       [ 0.        ,  0.        , 39.14108797,  1.4454896 ,  0.        ,\n",
       "         0.        ,  1.96425064,  2.17580505, 14.59854015,  0.        ],\n",
       "       [ 0.        ,  0.        , 39.14108797,  1.4454896 ,  0.        ,\n",
       "         0.        ,  1.96425064,  2.17580505, 14.59854015,  0.        ],\n",
       "       [ 0.        ,  0.        , 39.14108797,  1.4454896 ,  0.        ,\n",
       "         0.        ,  1.96425064,  2.17580505, 14.59854015,  0.        ],\n",
       "       [ 0.        ,  0.        , 39.14108797,  1.4454896 ,  0.        ,\n",
       "         0.        ,  1.96425064,  2.17580505, 14.59854015,  0.        ],\n",
       "       [ 0.        ,  0.        , 39.14108797,  1.4454896 ,  0.        ,\n",
       "         0.        ,  1.96425064,  2.17580505, 14.59854015,  0.        ],\n",
       "       [ 0.        ,  0.        , 39.14108797,  1.4454896 ,  0.        ,\n",
       "         0.        ,  1.96425064,  2.17580505, 14.59854015,  0.        ],\n",
       "       [ 0.        ,  0.        , 39.14108797,  1.4454896 ,  0.        ,\n",
       "         0.        ,  1.96425064,  2.17580505, 14.59854015,  0.        ],\n",
       "       [ 0.        ,  0.        , 39.14108797,  1.4454896 ,  0.        ,\n",
       "         0.        ,  1.96425064,  2.17580505, 14.59854015,  0.        ]])"
      ]
     },
     "execution_count": 204,
     "metadata": {},
     "output_type": "execute_result"
    }
   ],
   "source": [
    "matt_new.extract_model_variable(#\n",
    "    df_base_input, \n",
    "    modvar_name,\n",
    "    expand_to_all_cats = True,\n",
    "    return_type = \"array_base\",\n",
    ")"
   ]
  },
  {
   "cell_type": "code",
   "execution_count": 183,
   "id": "8289c3b4-f7a3-475d-89f1-c8a3a8196282",
   "metadata": {},
   "outputs": [
    {
     "name": "stdout",
     "output_type": "stream",
     "text": [
      "shape0:\t(56, 2578)\n",
      "shape:\t(56, 2576)\n"
     ]
    }
   ],
   "source": [
    "importlib.reload(se)\n",
    "model_socioeconomic = se.Socioeconomic(matt_new);\n",
    "dfc2, df_int = model_socioeconomic.project(dfc)"
   ]
  },
  {
   "cell_type": "code",
   "execution_count": 172,
   "id": "da9ac3e1-b01c-40df-af70-7fb0a6f09531",
   "metadata": {
    "tags": []
   },
   "outputs": [],
   "source": [
    "dfs_output_data = [dfap, df_base]\n",
    "model_attributes = matt_new\n",
    "merge_type = \"concatenate\"\n",
    "additional_dimensions = None\n",
    "\n",
    "df_out = dfs_output_data[0].copy()\n",
    "dims_to_order = model_attributes.sort_ordered_dimensions_of_analysis.copy()\n",
    "dims_to_order += (\n",
    "    sorted(list(set(additional_dimensions)))\n",
    "    if sf.islistlike(additional_dimensions)\n",
    "    else []\n",
    ")\n",
    "dims_in_out = set([x for x in dims_to_order if x in df_out.columns])\n",
    "\n",
    "\n",
    "# loop to merge where applicable\n",
    "for i in range(1, len(dfs_output_data)):\n",
    "    if merge_type == \"concatenate\":\n",
    "        # check available dims; if there are ones that aren't already contained, keep them. Otherwise, drop\n",
    "        fields_dat = [x for x in dfs_output_data[i].columns if (x not in dims_to_order)]\n",
    "        fields_new_dims = [\n",
    "            x for x in dfs_output_data[i].columns \n",
    "            if (x in dims_to_order) \n",
    "            and (x not in dims_in_out)\n",
    "        ]\n",
    "        dims_in_out = dims_in_out | set(fields_new_dims)\n",
    "        dfs_output_data[i] = dfs_output_data[i][fields_new_dims + fields_dat]\n",
    "        \n",
    "fields_dim = [x for x in dims_to_order if x in dims_in_out]\n",
    "df_out = pd.concat(dfs_output_data, axis = 1).reset_index(drop = True)\n",
    "        \n",
    "        "
   ]
  },
  {
   "cell_type": "code",
   "execution_count": 178,
   "id": "f55992e3-dd5e-4c6b-92c5-2d06059b99ab",
   "metadata": {},
   "outputs": [
    {
     "data": {
      "text/plain": [
       "386"
      ]
     },
     "execution_count": 178,
     "metadata": {},
     "output_type": "execute_result"
    }
   ],
   "source": [
    "len(set(dfap.columns) & set(df_base.columns))"
   ]
  },
  {
   "cell_type": "code",
   "execution_count": 179,
   "id": "991191e7-d58f-4567-bdca-701d39ccd6c4",
   "metadata": {},
   "outputs": [
    {
     "data": {
      "text/plain": [
       "['area_agrc_crops_bevs_and_spices',\n",
       " 'area_agrc_crops_cereals',\n",
       " 'area_agrc_crops_fibers',\n",
       " 'area_agrc_crops_fruits',\n",
       " 'area_agrc_crops_herbs_and_other_perennial_crops',\n",
       " 'area_agrc_crops_nuts',\n",
       " 'area_agrc_crops_other_annual',\n",
       " 'area_agrc_crops_other_woody_perennial',\n",
       " 'area_agrc_crops_pulses',\n",
       " 'area_agrc_crops_rice',\n",
       " 'area_agrc_crops_sugar_cane',\n",
       " 'area_agrc_crops_tubers',\n",
       " 'area_agrc_crops_vegetables_and_vines',\n",
       " 'area_lndu_conversion_from_croplands',\n",
       " 'area_lndu_conversion_from_croplands_to_croplands',\n",
       " 'area_lndu_conversion_from_croplands_to_forests_mangroves',\n",
       " 'area_lndu_conversion_from_croplands_to_forests_primary',\n",
       " 'area_lndu_conversion_from_croplands_to_forests_secondary',\n",
       " 'area_lndu_conversion_from_croplands_to_grasslands',\n",
       " 'area_lndu_conversion_from_croplands_to_other',\n",
       " 'area_lndu_conversion_from_croplands_to_settlements',\n",
       " 'area_lndu_conversion_from_croplands_to_wetlands',\n",
       " 'area_lndu_conversion_from_forests_mangroves',\n",
       " 'area_lndu_conversion_from_forests_mangroves_to_croplands',\n",
       " 'area_lndu_conversion_from_forests_mangroves_to_forests_mangroves',\n",
       " 'area_lndu_conversion_from_forests_mangroves_to_forests_primary',\n",
       " 'area_lndu_conversion_from_forests_mangroves_to_forests_secondary',\n",
       " 'area_lndu_conversion_from_forests_mangroves_to_grasslands',\n",
       " 'area_lndu_conversion_from_forests_mangroves_to_other',\n",
       " 'area_lndu_conversion_from_forests_mangroves_to_settlements',\n",
       " 'area_lndu_conversion_from_forests_mangroves_to_wetlands',\n",
       " 'area_lndu_conversion_from_forests_primary',\n",
       " 'area_lndu_conversion_from_forests_primary_to_croplands',\n",
       " 'area_lndu_conversion_from_forests_primary_to_forests_mangroves',\n",
       " 'area_lndu_conversion_from_forests_primary_to_forests_primary',\n",
       " 'area_lndu_conversion_from_forests_primary_to_forests_secondary',\n",
       " 'area_lndu_conversion_from_forests_primary_to_grasslands',\n",
       " 'area_lndu_conversion_from_forests_primary_to_other',\n",
       " 'area_lndu_conversion_from_forests_primary_to_settlements',\n",
       " 'area_lndu_conversion_from_forests_primary_to_wetlands',\n",
       " 'area_lndu_conversion_from_forests_secondary',\n",
       " 'area_lndu_conversion_from_forests_secondary_to_croplands',\n",
       " 'area_lndu_conversion_from_forests_secondary_to_forests_mangroves',\n",
       " 'area_lndu_conversion_from_forests_secondary_to_forests_primary',\n",
       " 'area_lndu_conversion_from_forests_secondary_to_forests_secondary',\n",
       " 'area_lndu_conversion_from_forests_secondary_to_grasslands',\n",
       " 'area_lndu_conversion_from_forests_secondary_to_other',\n",
       " 'area_lndu_conversion_from_forests_secondary_to_settlements',\n",
       " 'area_lndu_conversion_from_forests_secondary_to_wetlands',\n",
       " 'area_lndu_conversion_from_grasslands',\n",
       " 'area_lndu_conversion_from_grasslands_to_croplands',\n",
       " 'area_lndu_conversion_from_grasslands_to_forests_mangroves',\n",
       " 'area_lndu_conversion_from_grasslands_to_forests_primary',\n",
       " 'area_lndu_conversion_from_grasslands_to_forests_secondary',\n",
       " 'area_lndu_conversion_from_grasslands_to_grasslands',\n",
       " 'area_lndu_conversion_from_grasslands_to_other',\n",
       " 'area_lndu_conversion_from_grasslands_to_settlements',\n",
       " 'area_lndu_conversion_from_grasslands_to_wetlands',\n",
       " 'area_lndu_conversion_from_other',\n",
       " 'area_lndu_conversion_from_other_to_croplands',\n",
       " 'area_lndu_conversion_from_other_to_forests_mangroves',\n",
       " 'area_lndu_conversion_from_other_to_forests_primary',\n",
       " 'area_lndu_conversion_from_other_to_forests_secondary',\n",
       " 'area_lndu_conversion_from_other_to_grasslands',\n",
       " 'area_lndu_conversion_from_other_to_other',\n",
       " 'area_lndu_conversion_from_other_to_settlements',\n",
       " 'area_lndu_conversion_from_other_to_wetlands',\n",
       " 'area_lndu_conversion_from_settlements',\n",
       " 'area_lndu_conversion_from_settlements_to_croplands',\n",
       " 'area_lndu_conversion_from_settlements_to_forests_mangroves',\n",
       " 'area_lndu_conversion_from_settlements_to_forests_primary',\n",
       " 'area_lndu_conversion_from_settlements_to_forests_secondary',\n",
       " 'area_lndu_conversion_from_settlements_to_grasslands',\n",
       " 'area_lndu_conversion_from_settlements_to_other',\n",
       " 'area_lndu_conversion_from_settlements_to_settlements',\n",
       " 'area_lndu_conversion_from_settlements_to_wetlands',\n",
       " 'area_lndu_conversion_from_wetlands',\n",
       " 'area_lndu_conversion_from_wetlands_to_croplands',\n",
       " 'area_lndu_conversion_from_wetlands_to_forests_mangroves',\n",
       " 'area_lndu_conversion_from_wetlands_to_forests_primary',\n",
       " 'area_lndu_conversion_from_wetlands_to_forests_secondary',\n",
       " 'area_lndu_conversion_from_wetlands_to_grasslands',\n",
       " 'area_lndu_conversion_from_wetlands_to_other',\n",
       " 'area_lndu_conversion_from_wetlands_to_settlements',\n",
       " 'area_lndu_conversion_from_wetlands_to_wetlands',\n",
       " 'area_lndu_conversion_to_croplands',\n",
       " 'area_lndu_conversion_to_forests_mangroves',\n",
       " 'area_lndu_conversion_to_forests_primary',\n",
       " 'area_lndu_conversion_to_forests_secondary',\n",
       " 'area_lndu_conversion_to_grasslands',\n",
       " 'area_lndu_conversion_to_other',\n",
       " 'area_lndu_conversion_to_settlements',\n",
       " 'area_lndu_conversion_to_wetlands',\n",
       " 'area_lndu_croplands',\n",
       " 'area_lndu_forests_mangroves',\n",
       " 'area_lndu_forests_primary',\n",
       " 'area_lndu_forests_secondary',\n",
       " 'area_lndu_grasslands',\n",
       " 'area_lndu_improved_croplands',\n",
       " 'area_lndu_improved_grasslands',\n",
       " 'area_lndu_other',\n",
       " 'area_lndu_settlements',\n",
       " 'area_lndu_wetlands',\n",
       " 'dem_ippu_harvested_wood_tonne_paper',\n",
       " 'dem_ippu_harvested_wood_tonne_wood',\n",
       " 'dem_trde_freight_mt_km',\n",
       " 'dem_trde_private_and_public_passenger_km',\n",
       " 'dem_trde_regional_passenger_km',\n",
       " 'demand_agrc_bevs_and_spices_tonne',\n",
       " 'demand_agrc_cereals_tonne',\n",
       " 'demand_agrc_fibers_tonne',\n",
       " 'demand_agrc_fruits_tonne',\n",
       " 'demand_agrc_herbs_and_other_perennial_crops_tonne',\n",
       " 'demand_agrc_nuts_tonne',\n",
       " 'demand_agrc_other_annual_tonne',\n",
       " 'demand_agrc_other_woody_perennial_tonne',\n",
       " 'demand_agrc_pulses_tonne',\n",
       " 'demand_agrc_rice_tonne',\n",
       " 'demand_agrc_sugar_cane_tonne',\n",
       " 'demand_agrc_tubers_tonne',\n",
       " 'demand_agrc_vegetables_and_vines_tonne',\n",
       " 'demand_lvst_buffalo',\n",
       " 'demand_lvst_cattle_dairy',\n",
       " 'demand_lvst_cattle_nondairy',\n",
       " 'demand_lvst_chickens',\n",
       " 'demand_lvst_goats',\n",
       " 'demand_lvst_horses',\n",
       " 'demand_lvst_mules',\n",
       " 'demand_lvst_pigs',\n",
       " 'demand_lvst_sheep',\n",
       " 'demand_soil_fertilizer_n_kt',\n",
       " 'demand_soil_lime_kt',\n",
       " 'demand_soil_organic_fertilizer_n_kt',\n",
       " 'demand_soil_synthetic_fertilizer_n_kt',\n",
       " 'demand_soil_urea_kt',\n",
       " 'emission_co2e_c2f6_ippu_product_use_product_use_ods_other',\n",
       " 'emission_co2e_c2f6_ippu_production_chemicals',\n",
       " 'emission_co2e_c2f6_ippu_production_electronics',\n",
       " 'emission_co2e_c2f6_ippu_production_metals',\n",
       " 'emission_co2e_c2h3f3_ippu_product_use_product_use_ods_refrigeration',\n",
       " 'emission_co2e_c2h3f3_ippu_production_chemicals',\n",
       " 'emission_co2e_c2hf5_ippu_product_use_product_use_ods_other',\n",
       " 'emission_co2e_c2hf5_ippu_product_use_product_use_ods_refrigeration',\n",
       " 'emission_co2e_c2hf5_ippu_production_chemicals',\n",
       " 'emission_co2e_c3f8_ippu_production_chemicals',\n",
       " 'emission_co2e_c3f8_ippu_production_electronics',\n",
       " 'emission_co2e_c3h2f6_ippu_product_use_product_use_ods_other',\n",
       " 'emission_co2e_c3h2f6_ippu_product_use_product_use_ods_refrigeration',\n",
       " 'emission_co2e_c3h3f5_ippu_product_use_product_use_ods_other',\n",
       " 'emission_co2e_c3h3f5_ippu_product_use_product_use_ods_refrigeration',\n",
       " 'emission_co2e_c3hf7_ippu_product_use_product_use_ods_other',\n",
       " 'emission_co2e_c3hf7_ippu_product_use_product_use_ods_refrigeration',\n",
       " 'emission_co2e_c3hf7_ippu_production_chemicals',\n",
       " 'emission_co2e_c4f10_ippu_product_use_product_use_ods_other',\n",
       " 'emission_co2e_c4f10_ippu_production_chemicals',\n",
       " 'emission_co2e_c4f6_ippu_production_electronics',\n",
       " 'emission_co2e_c4h5f5_ippu_product_use_product_use_ods_other',\n",
       " 'emission_co2e_c4h5f5_ippu_production_chemicals',\n",
       " 'emission_co2e_c5f12_ippu_production_chemicals',\n",
       " 'emission_co2e_c5f8_ippu_production_electronics',\n",
       " 'emission_co2e_c5h2f10_ippu_product_use_product_use_ods_other',\n",
       " 'emission_co2e_c6f14_ippu_product_use_product_use_ods_other',\n",
       " 'emission_co2e_c6f14_ippu_production_chemicals',\n",
       " 'emission_co2e_cc4f8_ippu_production_chemicals',\n",
       " 'emission_co2e_cc4f8_ippu_production_electronics',\n",
       " 'emission_co2e_cf4_ippu_product_use_product_use_ods_other',\n",
       " 'emission_co2e_cf4_ippu_production_chemicals',\n",
       " 'emission_co2e_cf4_ippu_production_electronics',\n",
       " 'emission_co2e_cf4_ippu_production_metals',\n",
       " 'emission_co2e_ch2f2_ippu_product_use_product_use_ods_refrigeration',\n",
       " 'emission_co2e_ch2f2_ippu_production_chemicals',\n",
       " 'emission_co2e_ch2f2_ippu_production_electronics',\n",
       " 'emission_co2e_ch2fchf2_ippu_product_use_product_use_ods_other',\n",
       " 'emission_co2e_ch3cci2f_ippu_product_use_product_use_ods_other',\n",
       " 'emission_co2e_ch3ccif2_ippu_product_use_product_use_ods_other',\n",
       " 'emission_co2e_ch3chf2_ippu_product_use_product_use_ods_other',\n",
       " 'emission_co2e_ch3chf2_ippu_product_use_product_use_ods_refrigeration',\n",
       " 'emission_co2e_ch3chf2_ippu_production_chemicals',\n",
       " 'emission_co2e_ch3f_ippu_production_electronics',\n",
       " 'emission_co2e_ch4_agrc_anaerobicdom_rice',\n",
       " 'emission_co2e_ch4_agrc_biomass_burning',\n",
       " 'emission_co2e_ch4_ccsq_direct_air_capture',\n",
       " 'emission_co2e_ch4_entc_fuel_mining_and_extraction_me_coal',\n",
       " 'emission_co2e_ch4_entc_fuel_mining_and_extraction_me_crude',\n",
       " 'emission_co2e_ch4_entc_fuel_mining_and_extraction_me_natural_gas',\n",
       " 'emission_co2e_ch4_entc_generation_for_ccsq',\n",
       " 'emission_co2e_ch4_entc_generation_for_entc',\n",
       " 'emission_co2e_ch4_entc_generation_for_export',\n",
       " 'emission_co2e_ch4_entc_generation_for_inen',\n",
       " 'emission_co2e_ch4_entc_generation_for_scoe',\n",
       " 'emission_co2e_ch4_entc_generation_for_trns',\n",
       " 'emission_co2e_ch4_entc_generation_pp_biogas',\n",
       " 'emission_co2e_ch4_entc_generation_pp_biomass',\n",
       " 'emission_co2e_ch4_entc_generation_pp_coal',\n",
       " 'emission_co2e_ch4_entc_generation_pp_coal_ccs',\n",
       " 'emission_co2e_ch4_entc_generation_pp_gas',\n",
       " 'emission_co2e_ch4_entc_generation_pp_gas_ccs',\n",
       " 'emission_co2e_ch4_entc_generation_pp_geothermal',\n",
       " 'emission_co2e_ch4_entc_generation_pp_hydropower',\n",
       " 'emission_co2e_ch4_entc_generation_pp_nuclear',\n",
       " 'emission_co2e_ch4_entc_generation_pp_ocean',\n",
       " 'emission_co2e_ch4_entc_generation_pp_oil',\n",
       " 'emission_co2e_ch4_entc_generation_pp_solar',\n",
       " 'emission_co2e_ch4_entc_generation_pp_waste_incineration',\n",
       " 'emission_co2e_ch4_entc_generation_pp_wind',\n",
       " 'emission_co2e_ch4_entc_processing_and_refinement_fp_hydrogen_electrolysis',\n",
       " 'emission_co2e_ch4_entc_processing_and_refinement_fp_hydrogen_gasification',\n",
       " 'emission_co2e_ch4_entc_processing_and_refinement_fp_hydrogen_reformation',\n",
       " 'emission_co2e_ch4_entc_processing_and_refinement_fp_natural_gas',\n",
       " 'emission_co2e_ch4_entc_processing_and_refinement_fp_petroleum_refinement',\n",
       " 'emission_co2e_ch4_fgtv_fuel_coal',\n",
       " 'emission_co2e_ch4_fgtv_fuel_natural_gas',\n",
       " 'emission_co2e_ch4_fgtv_fuel_oil',\n",
       " 'emission_co2e_ch4_frst_methane_mangroves',\n",
       " 'emission_co2e_ch4_frst_methane_primary',\n",
       " 'emission_co2e_ch4_frst_methane_secondary',\n",
       " 'emission_co2e_ch4_inen_agriculture_and_livestock',\n",
       " 'emission_co2e_ch4_inen_cement',\n",
       " 'emission_co2e_ch4_inen_chemicals',\n",
       " 'emission_co2e_ch4_inen_electronics',\n",
       " 'emission_co2e_ch4_inen_glass',\n",
       " 'emission_co2e_ch4_inen_lime_and_carbonite',\n",
       " 'emission_co2e_ch4_inen_metals',\n",
       " 'emission_co2e_ch4_inen_mining',\n",
       " 'emission_co2e_ch4_inen_other_product_manufacturing',\n",
       " 'emission_co2e_ch4_inen_paper',\n",
       " 'emission_co2e_ch4_inen_plastic',\n",
       " 'emission_co2e_ch4_inen_recycled_glass',\n",
       " 'emission_co2e_ch4_inen_recycled_metals',\n",
       " 'emission_co2e_ch4_inen_recycled_paper',\n",
       " 'emission_co2e_ch4_inen_recycled_plastic',\n",
       " 'emission_co2e_ch4_inen_recycled_rubber_and_leather',\n",
       " 'emission_co2e_ch4_inen_recycled_textiles',\n",
       " 'emission_co2e_ch4_inen_recycled_wood',\n",
       " 'emission_co2e_ch4_inen_rubber_and_leather',\n",
       " 'emission_co2e_ch4_inen_textiles',\n",
       " 'emission_co2e_ch4_ippu_production_chemicals',\n",
       " 'emission_co2e_ch4_ippu_production_metals',\n",
       " 'emission_co2e_ch4_ippu_production_paper',\n",
       " 'emission_co2e_ch4_ippu_production_plastic',\n",
       " 'emission_co2e_ch4_lndu_wetlands',\n",
       " 'emission_co2e_ch4_lsmm_anaerobic_digester',\n",
       " 'emission_co2e_ch4_lsmm_anaerobic_lagoon',\n",
       " 'emission_co2e_ch4_lsmm_composting',\n",
       " 'emission_co2e_ch4_lsmm_daily_spread',\n",
       " 'emission_co2e_ch4_lsmm_deep_bedding',\n",
       " 'emission_co2e_ch4_lsmm_dry_lot',\n",
       " 'emission_co2e_ch4_lsmm_incineration',\n",
       " 'emission_co2e_ch4_lsmm_liquid_slurry',\n",
       " 'emission_co2e_ch4_lsmm_paddock_pasture_range',\n",
       " 'emission_co2e_ch4_lsmm_poultry_manure',\n",
       " 'emission_co2e_ch4_lsmm_storage_solid',\n",
       " 'emission_co2e_ch4_lvst_entferm_buffalo',\n",
       " 'emission_co2e_ch4_lvst_entferm_cattle_dairy',\n",
       " 'emission_co2e_ch4_lvst_entferm_cattle_nondairy',\n",
       " 'emission_co2e_ch4_lvst_entferm_chickens',\n",
       " 'emission_co2e_ch4_lvst_entferm_goats',\n",
       " 'emission_co2e_ch4_lvst_entferm_horses',\n",
       " 'emission_co2e_ch4_lvst_entferm_mules',\n",
       " 'emission_co2e_ch4_lvst_entferm_pigs',\n",
       " 'emission_co2e_ch4_lvst_entferm_sheep',\n",
       " 'emission_co2e_ch4_scoe_commercial_municipal',\n",
       " 'emission_co2e_ch4_scoe_other_se',\n",
       " 'emission_co2e_ch4_scoe_residential',\n",
       " 'emission_co2e_ch4_trns_aviation',\n",
       " 'emission_co2e_ch4_trns_human_powered',\n",
       " 'emission_co2e_ch4_trns_powered_bikes',\n",
       " 'emission_co2e_ch4_trns_public',\n",
       " 'emission_co2e_ch4_trns_rail_freight',\n",
       " 'emission_co2e_ch4_trns_rail_passenger',\n",
       " 'emission_co2e_ch4_trns_road_heavy_freight',\n",
       " 'emission_co2e_ch4_trns_road_heavy_regional',\n",
       " 'emission_co2e_ch4_trns_road_light',\n",
       " 'emission_co2e_ch4_trns_water_borne',\n",
       " 'emission_co2e_ch4_trww_treated_advanced_aerobic_treatment',\n",
       " 'emission_co2e_ch4_trww_treated_advanced_anaerobic_treatment',\n",
       " 'emission_co2e_ch4_trww_treated_latrine_improved_treatment',\n",
       " 'emission_co2e_ch4_trww_treated_latrine_unimproved_treatment',\n",
       " 'emission_co2e_ch4_trww_treated_primary_treatment',\n",
       " 'emission_co2e_ch4_trww_treated_secondary_aerobic_treatment',\n",
       " 'emission_co2e_ch4_trww_treated_secondary_anaerobic_treatment',\n",
       " 'emission_co2e_ch4_trww_treated_septic_treatment',\n",
       " 'emission_co2e_ch4_trww_untreated_no_sewerage_treatment',\n",
       " 'emission_co2e_ch4_trww_untreated_with_sewerage_treatment',\n",
       " 'emission_co2e_ch4_waso_biogas_food',\n",
       " 'emission_co2e_ch4_waso_biogas_sludge',\n",
       " 'emission_co2e_ch4_waso_biogas_yard',\n",
       " 'emission_co2e_ch4_waso_compost_food',\n",
       " 'emission_co2e_ch4_waso_compost_sludge',\n",
       " 'emission_co2e_ch4_waso_compost_yard',\n",
       " 'emission_co2e_ch4_waso_incineration',\n",
       " 'emission_co2e_ch4_waso_landfilled_chemical_industrial',\n",
       " 'emission_co2e_ch4_waso_landfilled_food',\n",
       " 'emission_co2e_ch4_waso_landfilled_glass',\n",
       " 'emission_co2e_ch4_waso_landfilled_metal',\n",
       " 'emission_co2e_ch4_waso_landfilled_nappies',\n",
       " 'emission_co2e_ch4_waso_landfilled_other',\n",
       " 'emission_co2e_ch4_waso_landfilled_paper',\n",
       " 'emission_co2e_ch4_waso_landfilled_plastic',\n",
       " 'emission_co2e_ch4_waso_landfilled_rubber_leather',\n",
       " 'emission_co2e_ch4_waso_landfilled_sludge',\n",
       " 'emission_co2e_ch4_waso_landfilled_textiles',\n",
       " 'emission_co2e_ch4_waso_landfilled_wood',\n",
       " 'emission_co2e_ch4_waso_landfilled_yard',\n",
       " 'emission_co2e_ch4_waso_open_dump_chemical_industrial',\n",
       " 'emission_co2e_ch4_waso_open_dump_food',\n",
       " 'emission_co2e_ch4_waso_open_dump_glass',\n",
       " 'emission_co2e_ch4_waso_open_dump_metal',\n",
       " 'emission_co2e_ch4_waso_open_dump_nappies',\n",
       " 'emission_co2e_ch4_waso_open_dump_other',\n",
       " 'emission_co2e_ch4_waso_open_dump_paper',\n",
       " 'emission_co2e_ch4_waso_open_dump_plastic',\n",
       " 'emission_co2e_ch4_waso_open_dump_rubber_leather',\n",
       " 'emission_co2e_ch4_waso_open_dump_sludge',\n",
       " 'emission_co2e_ch4_waso_open_dump_textiles',\n",
       " 'emission_co2e_ch4_waso_open_dump_wood',\n",
       " 'emission_co2e_ch4_waso_open_dump_yard',\n",
       " 'emission_co2e_chf2cf3_ippu_product_use_product_use_ods_other',\n",
       " 'emission_co2e_chf2cf3_ippu_product_use_product_use_ods_refrigeration',\n",
       " 'emission_co2e_chf2cf3_ippu_production_chemicals',\n",
       " 'emission_co2e_chf2chf2_ippu_product_use_product_use_ods_other',\n",
       " 'emission_co2e_chf3_ippu_product_use_product_use_ods_other',\n",
       " 'emission_co2e_chf3_ippu_product_use_product_use_ods_refrigeration',\n",
       " 'emission_co2e_chf3_ippu_production_chemicals',\n",
       " 'emission_co2e_chf3_ippu_production_electronics',\n",
       " 'emission_co2e_co2_agrc_biomass_bevs_and_spices',\n",
       " 'emission_co2e_co2_agrc_biomass_fruits',\n",
       " 'emission_co2e_co2_agrc_biomass_nuts',\n",
       " 'emission_co2e_co2_agrc_biomass_other_woody_perennial',\n",
       " 'emission_co2e_co2_agrc_soil_carbon_organic_soils',\n",
       " 'emission_co2e_co2_ccsq_direct_air_capture',\n",
       " 'emission_co2e_co2_entc_fuel_mining_and_extraction_me_coal',\n",
       " 'emission_co2e_co2_entc_fuel_mining_and_extraction_me_crude',\n",
       " 'emission_co2e_co2_entc_fuel_mining_and_extraction_me_natural_gas',\n",
       " 'emission_co2e_co2_entc_generation_for_ccsq',\n",
       " 'emission_co2e_co2_entc_generation_for_entc',\n",
       " 'emission_co2e_co2_entc_generation_for_export',\n",
       " 'emission_co2e_co2_entc_generation_for_inen',\n",
       " 'emission_co2e_co2_entc_generation_for_scoe',\n",
       " 'emission_co2e_co2_entc_generation_for_trns',\n",
       " 'emission_co2e_co2_entc_generation_pp_biogas',\n",
       " 'emission_co2e_co2_entc_generation_pp_biomass',\n",
       " 'emission_co2e_co2_entc_generation_pp_coal',\n",
       " 'emission_co2e_co2_entc_generation_pp_coal_ccs',\n",
       " 'emission_co2e_co2_entc_generation_pp_gas',\n",
       " 'emission_co2e_co2_entc_generation_pp_gas_ccs',\n",
       " 'emission_co2e_co2_entc_generation_pp_geothermal',\n",
       " 'emission_co2e_co2_entc_generation_pp_hydropower',\n",
       " 'emission_co2e_co2_entc_generation_pp_nuclear',\n",
       " 'emission_co2e_co2_entc_generation_pp_ocean',\n",
       " 'emission_co2e_co2_entc_generation_pp_oil',\n",
       " 'emission_co2e_co2_entc_generation_pp_solar',\n",
       " 'emission_co2e_co2_entc_generation_pp_waste_incineration',\n",
       " 'emission_co2e_co2_entc_generation_pp_wind',\n",
       " 'emission_co2e_co2_entc_processing_and_refinement_fp_hydrogen_electrolysis',\n",
       " 'emission_co2e_co2_entc_processing_and_refinement_fp_hydrogen_gasification',\n",
       " 'emission_co2e_co2_entc_processing_and_refinement_fp_hydrogen_reformation',\n",
       " 'emission_co2e_co2_entc_processing_and_refinement_fp_natural_gas',\n",
       " 'emission_co2e_co2_entc_processing_and_refinement_fp_petroleum_refinement',\n",
       " 'emission_co2e_co2_fgtv_fuel_coal',\n",
       " 'emission_co2e_co2_fgtv_fuel_natural_gas',\n",
       " 'emission_co2e_co2_fgtv_fuel_oil',\n",
       " 'emission_co2e_co2_frst_forest_fires',\n",
       " 'emission_co2e_co2_frst_harvested_wood_products',\n",
       " 'emission_co2e_co2_frst_sequestration_mangroves',\n",
       " 'emission_co2e_co2_frst_sequestration_primary',\n",
       " 'emission_co2e_co2_frst_sequestration_secondary',\n",
       " 'emission_co2e_co2_inen_agriculture_and_livestock',\n",
       " 'emission_co2e_co2_inen_cement',\n",
       " 'emission_co2e_co2_inen_chemicals',\n",
       " 'emission_co2e_co2_inen_electronics',\n",
       " 'emission_co2e_co2_inen_glass',\n",
       " 'emission_co2e_co2_inen_lime_and_carbonite',\n",
       " 'emission_co2e_co2_inen_metals',\n",
       " 'emission_co2e_co2_inen_mining',\n",
       " 'emission_co2e_co2_inen_other_product_manufacturing',\n",
       " 'emission_co2e_co2_inen_paper',\n",
       " 'emission_co2e_co2_inen_plastic',\n",
       " 'emission_co2e_co2_inen_recycled_glass',\n",
       " 'emission_co2e_co2_inen_recycled_metals',\n",
       " 'emission_co2e_co2_inen_recycled_paper',\n",
       " 'emission_co2e_co2_inen_recycled_plastic',\n",
       " 'emission_co2e_co2_inen_recycled_rubber_and_leather',\n",
       " 'emission_co2e_co2_inen_recycled_textiles',\n",
       " 'emission_co2e_co2_inen_recycled_wood',\n",
       " 'emission_co2e_co2_inen_rubber_and_leather',\n",
       " 'emission_co2e_co2_inen_textiles',\n",
       " 'emission_co2e_co2_ippu_product_use_product_use_lubricants',\n",
       " 'emission_co2e_co2_ippu_product_use_product_use_other',\n",
       " 'emission_co2e_co2_ippu_product_use_product_use_paraffin_wax',\n",
       " 'emission_co2e_co2_ippu_production_cement',\n",
       " 'emission_co2e_co2_ippu_production_chemicals',\n",
       " 'emission_co2e_co2_ippu_production_glass',\n",
       " 'emission_co2e_co2_ippu_production_lime_and_carbonite',\n",
       " 'emission_co2e_co2_ippu_production_metals',\n",
       " 'emission_co2e_co2_ippu_production_paper',\n",
       " 'emission_co2e_co2_ippu_production_plastic',\n",
       " 'emission_co2e_co2_ippu_production_product_use_lubricants',\n",
       " 'emission_co2e_co2_ippu_production_product_use_paraffin_wax',\n",
       " 'emission_co2e_co2_lndu_conversion_away_croplands',\n",
       " 'emission_co2e_co2_lndu_conversion_away_forests_mangroves',\n",
       " 'emission_co2e_co2_lndu_conversion_away_forests_primary',\n",
       " 'emission_co2e_co2_lndu_conversion_away_forests_secondary',\n",
       " 'emission_co2e_co2_lndu_conversion_away_grasslands',\n",
       " 'emission_co2e_co2_lndu_conversion_away_other',\n",
       " 'emission_co2e_co2_lndu_conversion_away_settlements',\n",
       " 'emission_co2e_co2_lndu_conversion_away_wetlands',\n",
       " 'emission_co2e_co2_lndu_conversion_croplands_to_croplands',\n",
       " 'emission_co2e_co2_lndu_conversion_croplands_to_forests_mangroves',\n",
       " 'emission_co2e_co2_lndu_conversion_croplands_to_forests_primary',\n",
       " 'emission_co2e_co2_lndu_conversion_croplands_to_forests_secondary',\n",
       " 'emission_co2e_co2_lndu_conversion_croplands_to_grasslands',\n",
       " 'emission_co2e_co2_lndu_conversion_croplands_to_other',\n",
       " 'emission_co2e_co2_lndu_conversion_croplands_to_settlements',\n",
       " 'emission_co2e_co2_lndu_conversion_croplands_to_wetlands',\n",
       " 'emission_co2e_co2_lndu_conversion_forests_mangroves_to_croplands',\n",
       " 'emission_co2e_co2_lndu_conversion_forests_mangroves_to_forests_mangroves',\n",
       " 'emission_co2e_co2_lndu_conversion_forests_mangroves_to_forests_primary',\n",
       " 'emission_co2e_co2_lndu_conversion_forests_mangroves_to_forests_secondary',\n",
       " 'emission_co2e_co2_lndu_conversion_forests_mangroves_to_grasslands',\n",
       " 'emission_co2e_co2_lndu_conversion_forests_mangroves_to_other',\n",
       " 'emission_co2e_co2_lndu_conversion_forests_mangroves_to_settlements',\n",
       " 'emission_co2e_co2_lndu_conversion_forests_mangroves_to_wetlands',\n",
       " 'emission_co2e_co2_lndu_conversion_forests_primary_to_croplands',\n",
       " 'emission_co2e_co2_lndu_conversion_forests_primary_to_forests_mangroves',\n",
       " 'emission_co2e_co2_lndu_conversion_forests_primary_to_forests_primary',\n",
       " 'emission_co2e_co2_lndu_conversion_forests_primary_to_forests_secondary',\n",
       " 'emission_co2e_co2_lndu_conversion_forests_primary_to_grasslands',\n",
       " 'emission_co2e_co2_lndu_conversion_forests_primary_to_other',\n",
       " 'emission_co2e_co2_lndu_conversion_forests_primary_to_settlements',\n",
       " 'emission_co2e_co2_lndu_conversion_forests_primary_to_wetlands',\n",
       " 'emission_co2e_co2_lndu_conversion_forests_secondary_to_croplands',\n",
       " 'emission_co2e_co2_lndu_conversion_forests_secondary_to_forests_mangroves',\n",
       " 'emission_co2e_co2_lndu_conversion_forests_secondary_to_forests_primary',\n",
       " 'emission_co2e_co2_lndu_conversion_forests_secondary_to_forests_secondary',\n",
       " 'emission_co2e_co2_lndu_conversion_forests_secondary_to_grasslands',\n",
       " 'emission_co2e_co2_lndu_conversion_forests_secondary_to_other',\n",
       " 'emission_co2e_co2_lndu_conversion_forests_secondary_to_settlements',\n",
       " 'emission_co2e_co2_lndu_conversion_forests_secondary_to_wetlands',\n",
       " 'emission_co2e_co2_lndu_conversion_grasslands_to_croplands',\n",
       " 'emission_co2e_co2_lndu_conversion_grasslands_to_forests_mangroves',\n",
       " 'emission_co2e_co2_lndu_conversion_grasslands_to_forests_primary',\n",
       " 'emission_co2e_co2_lndu_conversion_grasslands_to_forests_secondary',\n",
       " 'emission_co2e_co2_lndu_conversion_grasslands_to_grasslands',\n",
       " 'emission_co2e_co2_lndu_conversion_grasslands_to_other',\n",
       " 'emission_co2e_co2_lndu_conversion_grasslands_to_settlements',\n",
       " 'emission_co2e_co2_lndu_conversion_grasslands_to_wetlands',\n",
       " 'emission_co2e_co2_lndu_conversion_other_to_croplands',\n",
       " 'emission_co2e_co2_lndu_conversion_other_to_forests_mangroves',\n",
       " 'emission_co2e_co2_lndu_conversion_other_to_forests_primary',\n",
       " 'emission_co2e_co2_lndu_conversion_other_to_forests_secondary',\n",
       " 'emission_co2e_co2_lndu_conversion_other_to_grasslands',\n",
       " 'emission_co2e_co2_lndu_conversion_other_to_other',\n",
       " 'emission_co2e_co2_lndu_conversion_other_to_settlements',\n",
       " 'emission_co2e_co2_lndu_conversion_other_to_wetlands',\n",
       " 'emission_co2e_co2_lndu_conversion_settlements_to_croplands',\n",
       " 'emission_co2e_co2_lndu_conversion_settlements_to_forests_mangroves',\n",
       " 'emission_co2e_co2_lndu_conversion_settlements_to_forests_primary',\n",
       " 'emission_co2e_co2_lndu_conversion_settlements_to_forests_secondary',\n",
       " 'emission_co2e_co2_lndu_conversion_settlements_to_grasslands',\n",
       " 'emission_co2e_co2_lndu_conversion_settlements_to_other',\n",
       " 'emission_co2e_co2_lndu_conversion_settlements_to_settlements',\n",
       " 'emission_co2e_co2_lndu_conversion_settlements_to_wetlands',\n",
       " 'emission_co2e_co2_lndu_conversion_wetlands_to_croplands',\n",
       " 'emission_co2e_co2_lndu_conversion_wetlands_to_forests_mangroves',\n",
       " 'emission_co2e_co2_lndu_conversion_wetlands_to_forests_primary',\n",
       " 'emission_co2e_co2_lndu_conversion_wetlands_to_forests_secondary',\n",
       " 'emission_co2e_co2_lndu_conversion_wetlands_to_grasslands',\n",
       " 'emission_co2e_co2_lndu_conversion_wetlands_to_other',\n",
       " 'emission_co2e_co2_lndu_conversion_wetlands_to_settlements',\n",
       " 'emission_co2e_co2_lndu_conversion_wetlands_to_wetlands',\n",
       " 'emission_co2e_co2_scoe_commercial_municipal',\n",
       " 'emission_co2e_co2_scoe_other_se',\n",
       " 'emission_co2e_co2_scoe_residential',\n",
       " 'emission_co2e_co2_soil_lime_use',\n",
       " 'emission_co2e_co2_soil_soc_mineral_soils',\n",
       " 'emission_co2e_co2_soil_urea_use',\n",
       " 'emission_co2e_co2_trns_aviation',\n",
       " 'emission_co2e_co2_trns_human_powered',\n",
       " 'emission_co2e_co2_trns_powered_bikes',\n",
       " 'emission_co2e_co2_trns_public',\n",
       " 'emission_co2e_co2_trns_rail_freight',\n",
       " 'emission_co2e_co2_trns_rail_passenger',\n",
       " 'emission_co2e_co2_trns_road_heavy_freight',\n",
       " 'emission_co2e_co2_trns_road_heavy_regional',\n",
       " 'emission_co2e_co2_trns_road_light',\n",
       " 'emission_co2e_co2_trns_water_borne',\n",
       " 'emission_co2e_co2_waso_incineration',\n",
       " 'emission_co2e_hfcs_ippu_product_use_product_use_ods_other',\n",
       " 'emission_co2e_hfcs_ippu_product_use_product_use_ods_refrigeration',\n",
       " 'emission_co2e_hfcs_ippu_production_chemicals',\n",
       " 'emission_co2e_hfcs_ippu_production_electronics',\n",
       " 'emission_co2e_hfcs_ippu_production_metals',\n",
       " 'emission_co2e_n2o_agrc_biomass_burning',\n",
       " 'emission_co2e_n2o_agrc_crop_residues',\n",
       " 'emission_co2e_n2o_ccsq_direct_air_capture',\n",
       " 'emission_co2e_n2o_entc_fuel_mining_and_extraction_me_coal',\n",
       " 'emission_co2e_n2o_entc_fuel_mining_and_extraction_me_crude',\n",
       " 'emission_co2e_n2o_entc_fuel_mining_and_extraction_me_natural_gas',\n",
       " 'emission_co2e_n2o_entc_generation_for_ccsq',\n",
       " 'emission_co2e_n2o_entc_generation_for_entc',\n",
       " 'emission_co2e_n2o_entc_generation_for_export',\n",
       " 'emission_co2e_n2o_entc_generation_for_inen',\n",
       " 'emission_co2e_n2o_entc_generation_for_scoe',\n",
       " 'emission_co2e_n2o_entc_generation_for_trns',\n",
       " 'emission_co2e_n2o_entc_generation_pp_biogas',\n",
       " 'emission_co2e_n2o_entc_generation_pp_biomass',\n",
       " 'emission_co2e_n2o_entc_generation_pp_coal',\n",
       " 'emission_co2e_n2o_entc_generation_pp_coal_ccs',\n",
       " 'emission_co2e_n2o_entc_generation_pp_gas',\n",
       " 'emission_co2e_n2o_entc_generation_pp_gas_ccs',\n",
       " 'emission_co2e_n2o_entc_generation_pp_geothermal',\n",
       " 'emission_co2e_n2o_entc_generation_pp_hydropower',\n",
       " 'emission_co2e_n2o_entc_generation_pp_nuclear',\n",
       " 'emission_co2e_n2o_entc_generation_pp_ocean',\n",
       " 'emission_co2e_n2o_entc_generation_pp_oil',\n",
       " 'emission_co2e_n2o_entc_generation_pp_solar',\n",
       " 'emission_co2e_n2o_entc_generation_pp_waste_incineration',\n",
       " 'emission_co2e_n2o_entc_generation_pp_wind',\n",
       " 'emission_co2e_n2o_entc_processing_and_refinement_fp_hydrogen_electrolysis',\n",
       " 'emission_co2e_n2o_entc_processing_and_refinement_fp_hydrogen_gasification',\n",
       " 'emission_co2e_n2o_entc_processing_and_refinement_fp_hydrogen_reformation',\n",
       " 'emission_co2e_n2o_entc_processing_and_refinement_fp_natural_gas',\n",
       " 'emission_co2e_n2o_entc_processing_and_refinement_fp_petroleum_refinement',\n",
       " 'emission_co2e_n2o_fgtv_fuel_coal',\n",
       " 'emission_co2e_n2o_fgtv_fuel_natural_gas',\n",
       " 'emission_co2e_n2o_fgtv_fuel_oil',\n",
       " 'emission_co2e_n2o_inen_agriculture_and_livestock',\n",
       " 'emission_co2e_n2o_inen_cement',\n",
       " 'emission_co2e_n2o_inen_chemicals',\n",
       " 'emission_co2e_n2o_inen_electronics',\n",
       " 'emission_co2e_n2o_inen_glass',\n",
       " 'emission_co2e_n2o_inen_lime_and_carbonite',\n",
       " 'emission_co2e_n2o_inen_metals',\n",
       " 'emission_co2e_n2o_inen_mining',\n",
       " 'emission_co2e_n2o_inen_other_product_manufacturing',\n",
       " 'emission_co2e_n2o_inen_paper',\n",
       " 'emission_co2e_n2o_inen_plastic',\n",
       " 'emission_co2e_n2o_inen_recycled_glass',\n",
       " 'emission_co2e_n2o_inen_recycled_metals',\n",
       " 'emission_co2e_n2o_inen_recycled_paper',\n",
       " 'emission_co2e_n2o_inen_recycled_plastic',\n",
       " 'emission_co2e_n2o_inen_recycled_rubber_and_leather',\n",
       " 'emission_co2e_n2o_inen_recycled_textiles',\n",
       " 'emission_co2e_n2o_inen_recycled_wood',\n",
       " 'emission_co2e_n2o_inen_rubber_and_leather',\n",
       " 'emission_co2e_n2o_inen_textiles',\n",
       " 'emission_co2e_n2o_ippu_production_chemicals',\n",
       " 'emission_co2e_n2o_ippu_production_other_product_manufacturing',\n",
       " 'emission_co2e_n2o_ippu_production_paper',\n",
       " 'emission_co2e_n2o_ippu_production_plastic',\n",
       " 'emission_co2e_n2o_lsmm_anaerobic_digester',\n",
       " 'emission_co2e_n2o_lsmm_anaerobic_lagoon',\n",
       " 'emission_co2e_n2o_lsmm_composting',\n",
       " 'emission_co2e_n2o_lsmm_daily_spread',\n",
       " 'emission_co2e_n2o_lsmm_deep_bedding',\n",
       " 'emission_co2e_n2o_lsmm_dry_lot',\n",
       " 'emission_co2e_n2o_lsmm_incineration',\n",
       " 'emission_co2e_n2o_lsmm_liquid_slurry',\n",
       " 'emission_co2e_n2o_lsmm_paddock_pasture_range',\n",
       " 'emission_co2e_n2o_lsmm_poultry_manure',\n",
       " 'emission_co2e_n2o_lsmm_storage_solid',\n",
       " 'emission_co2e_n2o_scoe_commercial_municipal',\n",
       " 'emission_co2e_n2o_scoe_other_se',\n",
       " 'emission_co2e_n2o_scoe_residential',\n",
       " 'emission_co2e_n2o_soil_fertilizer',\n",
       " 'emission_co2e_n2o_soil_mineral_soils',\n",
       " 'emission_co2e_n2o_soil_organic_soils',\n",
       " 'emission_co2e_n2o_soil_paddock_pasture_range',\n",
       " 'emission_co2e_n2o_trns_aviation',\n",
       " 'emission_co2e_n2o_trns_human_powered',\n",
       " 'emission_co2e_n2o_trns_powered_bikes',\n",
       " 'emission_co2e_n2o_trns_public',\n",
       " 'emission_co2e_n2o_trns_rail_freight',\n",
       " 'emission_co2e_n2o_trns_rail_passenger',\n",
       " 'emission_co2e_n2o_trns_road_heavy_freight',\n",
       " 'emission_co2e_n2o_trns_road_heavy_regional',\n",
       " 'emission_co2e_n2o_trns_road_light',\n",
       " 'emission_co2e_n2o_trns_water_borne',\n",
       " 'emission_co2e_n2o_trww_treated_advanced_aerobic_effluent',\n",
       " 'emission_co2e_n2o_trww_treated_advanced_aerobic_treatment',\n",
       " 'emission_co2e_n2o_trww_treated_advanced_anaerobic_effluent',\n",
       " 'emission_co2e_n2o_trww_treated_advanced_anaerobic_treatment',\n",
       " 'emission_co2e_n2o_trww_treated_latrine_improved_effluent',\n",
       " 'emission_co2e_n2o_trww_treated_latrine_improved_treatment',\n",
       " 'emission_co2e_n2o_trww_treated_latrine_unimproved_effluent',\n",
       " 'emission_co2e_n2o_trww_treated_latrine_unimproved_treatment',\n",
       " 'emission_co2e_n2o_trww_treated_primary_effluent',\n",
       " 'emission_co2e_n2o_trww_treated_primary_treatment',\n",
       " 'emission_co2e_n2o_trww_treated_secondary_aerobic_effluent',\n",
       " 'emission_co2e_n2o_trww_treated_secondary_aerobic_treatment',\n",
       " 'emission_co2e_n2o_trww_treated_secondary_anaerobic_effluent',\n",
       " 'emission_co2e_n2o_trww_treated_secondary_anaerobic_treatment',\n",
       " 'emission_co2e_n2o_trww_treated_septic_effluent',\n",
       " 'emission_co2e_n2o_trww_treated_septic_treatment',\n",
       " 'emission_co2e_n2o_trww_untreated_no_sewerage_effluent',\n",
       " 'emission_co2e_n2o_trww_untreated_no_sewerage_treatment',\n",
       " 'emission_co2e_n2o_trww_untreated_with_sewerage_effluent',\n",
       " 'emission_co2e_n2o_trww_untreated_with_sewerage_treatment',\n",
       " 'emission_co2e_n2o_waso_compost_food',\n",
       " 'emission_co2e_n2o_waso_compost_sludge',\n",
       " 'emission_co2e_n2o_waso_compost_yard',\n",
       " 'emission_co2e_n2o_waso_incineration',\n",
       " 'emission_co2e_nf3_ippu_production_chemicals',\n",
       " 'emission_co2e_nf3_ippu_production_electronics',\n",
       " 'emission_co2e_other_fcs_ippu_product_use_product_use_ods_other',\n",
       " 'emission_co2e_other_fcs_ippu_production_chemicals',\n",
       " 'emission_co2e_other_fcs_ippu_production_electronics',\n",
       " 'emission_co2e_pfcs_ippu_product_use_product_use_ods_other',\n",
       " 'emission_co2e_pfcs_ippu_production_chemicals',\n",
       " 'emission_co2e_pfcs_ippu_production_electronics',\n",
       " 'emission_co2e_pfcs_ippu_production_other_product_manufacturing',\n",
       " 'emission_co2e_sf6_ippu_production_chemicals',\n",
       " 'emission_co2e_sf6_ippu_production_electronics',\n",
       " 'emission_co2e_sf6_ippu_production_metals',\n",
       " 'emission_co2e_sf6_ippu_production_other_product_manufacturing',\n",
       " 'emission_co2e_subsector_total_agrc',\n",
       " 'emission_co2e_subsector_total_ccsq',\n",
       " 'emission_co2e_subsector_total_entc',\n",
       " 'emission_co2e_subsector_total_fgtv',\n",
       " 'emission_co2e_subsector_total_frst',\n",
       " 'emission_co2e_subsector_total_inen',\n",
       " 'emission_co2e_subsector_total_ippu',\n",
       " 'emission_co2e_subsector_total_lndu',\n",
       " 'emission_co2e_subsector_total_lsmm',\n",
       " 'emission_co2e_subsector_total_lvst',\n",
       " 'emission_co2e_subsector_total_scoe',\n",
       " 'emission_co2e_subsector_total_soil',\n",
       " 'emission_co2e_subsector_total_trns',\n",
       " 'emission_co2e_subsector_total_trww',\n",
       " 'emission_co2e_subsector_total_waso',\n",
       " 'emission_nongas_fgtv_kt_nmvoc_fuel_coal',\n",
       " 'emission_nongas_fgtv_kt_nmvoc_fuel_natural_gas',\n",
       " 'emission_nongas_fgtv_kt_nmvoc_fuel_oil',\n",
       " 'energy_consumption_ccsq_direct_air_capture',\n",
       " 'energy_consumption_ccsq_total',\n",
       " 'energy_consumption_electricity_ccsq_direct_air_capture',\n",
       " 'energy_consumption_electricity_ccsq_total',\n",
       " 'energy_consumption_electricity_inen_agriculture_and_livestock',\n",
       " 'energy_consumption_electricity_inen_cement',\n",
       " 'energy_consumption_electricity_inen_chemicals',\n",
       " 'energy_consumption_electricity_inen_electronics',\n",
       " 'energy_consumption_electricity_inen_glass',\n",
       " 'energy_consumption_electricity_inen_lime_and_carbonite',\n",
       " 'energy_consumption_electricity_inen_metals',\n",
       " 'energy_consumption_electricity_inen_mining',\n",
       " 'energy_consumption_electricity_inen_other_product_manufacturing',\n",
       " 'energy_consumption_electricity_inen_paper',\n",
       " 'energy_consumption_electricity_inen_plastic',\n",
       " 'energy_consumption_electricity_inen_recycled_glass',\n",
       " 'energy_consumption_electricity_inen_recycled_metals',\n",
       " 'energy_consumption_electricity_inen_recycled_paper',\n",
       " 'energy_consumption_electricity_inen_recycled_plastic',\n",
       " 'energy_consumption_electricity_inen_recycled_rubber_and_leather',\n",
       " 'energy_consumption_electricity_inen_recycled_textiles',\n",
       " 'energy_consumption_electricity_inen_recycled_wood',\n",
       " 'energy_consumption_electricity_inen_rubber_and_leather',\n",
       " 'energy_consumption_electricity_inen_textiles',\n",
       " 'energy_consumption_electricity_inen_total',\n",
       " 'energy_consumption_electricity_scoe_commercial_municipal',\n",
       " 'energy_consumption_electricity_scoe_other_se',\n",
       " 'energy_consumption_electricity_scoe_residential',\n",
       " 'energy_consumption_electricity_scoe_total',\n",
       " 'energy_consumption_electricity_trns_aviation',\n",
       " 'energy_consumption_electricity_trns_powered_bikes',\n",
       " 'energy_consumption_electricity_trns_public',\n",
       " 'energy_consumption_electricity_trns_rail_freight',\n",
       " 'energy_consumption_electricity_trns_rail_passenger',\n",
       " 'energy_consumption_electricity_trns_road_heavy_freight',\n",
       " 'energy_consumption_electricity_trns_road_heavy_regional',\n",
       " 'energy_consumption_electricity_trns_road_light',\n",
       " 'energy_consumption_electricity_trns_total',\n",
       " 'energy_consumption_electricity_trns_water_borne',\n",
       " 'energy_consumption_inen_agriculture_and_livestock',\n",
       " 'energy_consumption_inen_cement',\n",
       " 'energy_consumption_inen_chemicals',\n",
       " 'energy_consumption_inen_electronics',\n",
       " 'energy_consumption_inen_glass',\n",
       " 'energy_consumption_inen_lime_and_carbonite',\n",
       " 'energy_consumption_inen_metals',\n",
       " 'energy_consumption_inen_mining',\n",
       " 'energy_consumption_inen_other_product_manufacturing',\n",
       " 'energy_consumption_inen_paper',\n",
       " 'energy_consumption_inen_plastic',\n",
       " 'energy_consumption_inen_recycled_glass',\n",
       " 'energy_consumption_inen_recycled_metals',\n",
       " 'energy_consumption_inen_recycled_paper',\n",
       " 'energy_consumption_inen_recycled_plastic',\n",
       " 'energy_consumption_inen_recycled_rubber_and_leather',\n",
       " 'energy_consumption_inen_recycled_textiles',\n",
       " 'energy_consumption_inen_recycled_wood',\n",
       " 'energy_consumption_inen_rubber_and_leather',\n",
       " 'energy_consumption_inen_textiles',\n",
       " 'energy_consumption_inen_total',\n",
       " 'energy_consumption_scoe_commercial_municipal',\n",
       " 'energy_consumption_scoe_other_se',\n",
       " 'energy_consumption_scoe_residential',\n",
       " 'energy_consumption_scoe_total',\n",
       " 'energy_consumption_trns_aviation',\n",
       " 'energy_consumption_trns_aviation_electricity',\n",
       " 'energy_consumption_trns_aviation_hydrogen',\n",
       " 'energy_consumption_trns_aviation_kerosene',\n",
       " 'energy_consumption_trns_human_powered',\n",
       " 'energy_consumption_trns_powered_bikes',\n",
       " 'energy_consumption_trns_powered_bikes_electricity',\n",
       " 'energy_consumption_trns_powered_bikes_gasoline',\n",
       " 'energy_consumption_trns_public',\n",
       " 'energy_consumption_trns_public_biofuels',\n",
       " 'energy_consumption_trns_public_diesel',\n",
       " 'energy_consumption_trns_public_electricity',\n",
       " 'energy_consumption_trns_public_gasoline',\n",
       " 'energy_consumption_trns_public_hydrocarbon_gas_liquids',\n",
       " 'energy_consumption_trns_public_hydrogen',\n",
       " 'energy_consumption_trns_public_natural_gas',\n",
       " 'energy_consumption_trns_rail_freight',\n",
       " 'energy_consumption_trns_rail_freight_diesel',\n",
       " 'energy_consumption_trns_rail_freight_electricity',\n",
       " 'energy_consumption_trns_rail_freight_hydrogen',\n",
       " 'energy_consumption_trns_rail_freight_natural_gas',\n",
       " 'energy_consumption_trns_rail_passenger',\n",
       " 'energy_consumption_trns_rail_passenger_diesel',\n",
       " 'energy_consumption_trns_rail_passenger_electricity',\n",
       " 'energy_consumption_trns_rail_passenger_hydrogen',\n",
       " 'energy_consumption_trns_rail_passenger_natural_gas',\n",
       " 'energy_consumption_trns_road_heavy_freight',\n",
       " 'energy_consumption_trns_road_heavy_freight_biofuels',\n",
       " 'energy_consumption_trns_road_heavy_freight_diesel',\n",
       " 'energy_consumption_trns_road_heavy_freight_electricity',\n",
       " 'energy_consumption_trns_road_heavy_freight_gasoline',\n",
       " 'energy_consumption_trns_road_heavy_freight_hydrocarbon_gas_liquids',\n",
       " 'energy_consumption_trns_road_heavy_freight_hydrogen',\n",
       " 'energy_consumption_trns_road_heavy_freight_natural_gas',\n",
       " 'energy_consumption_trns_road_heavy_regional',\n",
       " 'energy_consumption_trns_road_heavy_regional_biofuels',\n",
       " 'energy_consumption_trns_road_heavy_regional_diesel',\n",
       " 'energy_consumption_trns_road_heavy_regional_electricity',\n",
       " 'energy_consumption_trns_road_heavy_regional_gasoline',\n",
       " 'energy_consumption_trns_road_heavy_regional_hydrocarbon_gas_liquids',\n",
       " 'energy_consumption_trns_road_heavy_regional_hydrogen',\n",
       " 'energy_consumption_trns_road_heavy_regional_natural_gas',\n",
       " 'energy_consumption_trns_road_light',\n",
       " 'energy_consumption_trns_road_light_biofuels',\n",
       " 'energy_consumption_trns_road_light_diesel',\n",
       " 'energy_consumption_trns_road_light_electricity',\n",
       " 'energy_consumption_trns_road_light_gasoline',\n",
       " 'energy_consumption_trns_road_light_hydrocarbon_gas_liquids',\n",
       " 'energy_consumption_trns_road_light_hydrogen',\n",
       " 'energy_consumption_trns_total',\n",
       " 'energy_consumption_trns_water_borne',\n",
       " 'energy_consumption_trns_water_borne_diesel',\n",
       " 'energy_consumption_trns_water_borne_electricity',\n",
       " 'energy_consumption_trns_water_borne_hydrogen',\n",
       " 'energy_consumption_trns_water_borne_natural_gas',\n",
       " 'energy_demand_enfu_subsector_total_pj_ccsq_fuel_biofuels',\n",
       " 'energy_demand_enfu_subsector_total_pj_ccsq_fuel_biogas',\n",
       " 'energy_demand_enfu_subsector_total_pj_ccsq_fuel_biomass',\n",
       " 'energy_demand_enfu_subsector_total_pj_ccsq_fuel_coal',\n",
       " 'energy_demand_enfu_subsector_total_pj_ccsq_fuel_coke',\n",
       " 'energy_demand_enfu_subsector_total_pj_ccsq_fuel_crude',\n",
       " 'energy_demand_enfu_subsector_total_pj_ccsq_fuel_diesel',\n",
       " 'energy_demand_enfu_subsector_total_pj_ccsq_fuel_electricity',\n",
       " 'energy_demand_enfu_subsector_total_pj_ccsq_fuel_furnace_gas',\n",
       " 'energy_demand_enfu_subsector_total_pj_ccsq_fuel_gasoline',\n",
       " 'energy_demand_enfu_subsector_total_pj_ccsq_fuel_geothermal',\n",
       " 'energy_demand_enfu_subsector_total_pj_ccsq_fuel_hydrocarbon_gas_liquids',\n",
       " 'energy_demand_enfu_subsector_total_pj_ccsq_fuel_hydrogen',\n",
       " 'energy_demand_enfu_subsector_total_pj_ccsq_fuel_hydropower',\n",
       " 'energy_demand_enfu_subsector_total_pj_ccsq_fuel_kerosene',\n",
       " 'energy_demand_enfu_subsector_total_pj_ccsq_fuel_natural_gas',\n",
       " 'energy_demand_enfu_subsector_total_pj_ccsq_fuel_nuclear',\n",
       " 'energy_demand_enfu_subsector_total_pj_ccsq_fuel_ocean',\n",
       " 'energy_demand_enfu_subsector_total_pj_ccsq_fuel_oil',\n",
       " 'energy_demand_enfu_subsector_total_pj_ccsq_fuel_other',\n",
       " 'energy_demand_enfu_subsector_total_pj_ccsq_fuel_solar',\n",
       " 'energy_demand_enfu_subsector_total_pj_ccsq_fuel_waste',\n",
       " 'energy_demand_enfu_subsector_total_pj_ccsq_fuel_wind',\n",
       " 'energy_demand_enfu_subsector_total_pj_entc_fuel_biofuels',\n",
       " 'energy_demand_enfu_subsector_total_pj_entc_fuel_biogas',\n",
       " 'energy_demand_enfu_subsector_total_pj_entc_fuel_biomass',\n",
       " 'energy_demand_enfu_subsector_total_pj_entc_fuel_coal',\n",
       " 'energy_demand_enfu_subsector_total_pj_entc_fuel_coke',\n",
       " 'energy_demand_enfu_subsector_total_pj_entc_fuel_crude',\n",
       " 'energy_demand_enfu_subsector_total_pj_entc_fuel_diesel',\n",
       " 'energy_demand_enfu_subsector_total_pj_entc_fuel_electricity',\n",
       " 'energy_demand_enfu_subsector_total_pj_entc_fuel_furnace_gas',\n",
       " 'energy_demand_enfu_subsector_total_pj_entc_fuel_gasoline',\n",
       " 'energy_demand_enfu_subsector_total_pj_entc_fuel_geothermal',\n",
       " 'energy_demand_enfu_subsector_total_pj_entc_fuel_hydrocarbon_gas_liquids',\n",
       " 'energy_demand_enfu_subsector_total_pj_entc_fuel_hydrogen',\n",
       " 'energy_demand_enfu_subsector_total_pj_entc_fuel_hydropower',\n",
       " 'energy_demand_enfu_subsector_total_pj_entc_fuel_kerosene',\n",
       " 'energy_demand_enfu_subsector_total_pj_entc_fuel_natural_gas',\n",
       " 'energy_demand_enfu_subsector_total_pj_entc_fuel_nuclear',\n",
       " 'energy_demand_enfu_subsector_total_pj_entc_fuel_ocean',\n",
       " 'energy_demand_enfu_subsector_total_pj_entc_fuel_oil',\n",
       " 'energy_demand_enfu_subsector_total_pj_entc_fuel_other',\n",
       " 'energy_demand_enfu_subsector_total_pj_entc_fuel_solar',\n",
       " 'energy_demand_enfu_subsector_total_pj_entc_fuel_waste',\n",
       " 'energy_demand_enfu_subsector_total_pj_entc_fuel_wind',\n",
       " 'energy_demand_enfu_subsector_total_pj_inen_fuel_biofuels',\n",
       " 'energy_demand_enfu_subsector_total_pj_inen_fuel_biogas',\n",
       " 'energy_demand_enfu_subsector_total_pj_inen_fuel_biomass',\n",
       " 'energy_demand_enfu_subsector_total_pj_inen_fuel_coal',\n",
       " 'energy_demand_enfu_subsector_total_pj_inen_fuel_coke',\n",
       " 'energy_demand_enfu_subsector_total_pj_inen_fuel_crude',\n",
       " 'energy_demand_enfu_subsector_total_pj_inen_fuel_diesel',\n",
       " 'energy_demand_enfu_subsector_total_pj_inen_fuel_electricity',\n",
       " 'energy_demand_enfu_subsector_total_pj_inen_fuel_furnace_gas',\n",
       " 'energy_demand_enfu_subsector_total_pj_inen_fuel_gasoline',\n",
       " 'energy_demand_enfu_subsector_total_pj_inen_fuel_geothermal',\n",
       " 'energy_demand_enfu_subsector_total_pj_inen_fuel_hydrocarbon_gas_liquids',\n",
       " 'energy_demand_enfu_subsector_total_pj_inen_fuel_hydrogen',\n",
       " 'energy_demand_enfu_subsector_total_pj_inen_fuel_hydropower',\n",
       " 'energy_demand_enfu_subsector_total_pj_inen_fuel_kerosene',\n",
       " 'energy_demand_enfu_subsector_total_pj_inen_fuel_natural_gas',\n",
       " 'energy_demand_enfu_subsector_total_pj_inen_fuel_nuclear',\n",
       " 'energy_demand_enfu_subsector_total_pj_inen_fuel_ocean',\n",
       " 'energy_demand_enfu_subsector_total_pj_inen_fuel_oil',\n",
       " 'energy_demand_enfu_subsector_total_pj_inen_fuel_other',\n",
       " 'energy_demand_enfu_subsector_total_pj_inen_fuel_solar',\n",
       " 'energy_demand_enfu_subsector_total_pj_inen_fuel_waste',\n",
       " 'energy_demand_enfu_subsector_total_pj_inen_fuel_wind',\n",
       " 'energy_demand_enfu_subsector_total_pj_scoe_fuel_biofuels',\n",
       " 'energy_demand_enfu_subsector_total_pj_scoe_fuel_biogas',\n",
       " 'energy_demand_enfu_subsector_total_pj_scoe_fuel_biomass',\n",
       " 'energy_demand_enfu_subsector_total_pj_scoe_fuel_coal',\n",
       " 'energy_demand_enfu_subsector_total_pj_scoe_fuel_coke',\n",
       " 'energy_demand_enfu_subsector_total_pj_scoe_fuel_crude',\n",
       " 'energy_demand_enfu_subsector_total_pj_scoe_fuel_diesel',\n",
       " 'energy_demand_enfu_subsector_total_pj_scoe_fuel_electricity',\n",
       " 'energy_demand_enfu_subsector_total_pj_scoe_fuel_furnace_gas',\n",
       " 'energy_demand_enfu_subsector_total_pj_scoe_fuel_gasoline',\n",
       " 'energy_demand_enfu_subsector_total_pj_scoe_fuel_geothermal',\n",
       " 'energy_demand_enfu_subsector_total_pj_scoe_fuel_hydrocarbon_gas_liquids',\n",
       " 'energy_demand_enfu_subsector_total_pj_scoe_fuel_hydrogen',\n",
       " 'energy_demand_enfu_subsector_total_pj_scoe_fuel_hydropower',\n",
       " 'energy_demand_enfu_subsector_total_pj_scoe_fuel_kerosene',\n",
       " 'energy_demand_enfu_subsector_total_pj_scoe_fuel_natural_gas',\n",
       " 'energy_demand_enfu_subsector_total_pj_scoe_fuel_nuclear',\n",
       " 'energy_demand_enfu_subsector_total_pj_scoe_fuel_ocean',\n",
       " 'energy_demand_enfu_subsector_total_pj_scoe_fuel_oil',\n",
       " 'energy_demand_enfu_subsector_total_pj_scoe_fuel_other',\n",
       " 'energy_demand_enfu_subsector_total_pj_scoe_fuel_solar',\n",
       " 'energy_demand_enfu_subsector_total_pj_scoe_fuel_waste',\n",
       " 'energy_demand_enfu_subsector_total_pj_scoe_fuel_wind',\n",
       " 'energy_demand_enfu_subsector_total_pj_trns_fuel_biofuels',\n",
       " 'energy_demand_enfu_subsector_total_pj_trns_fuel_biogas',\n",
       " 'energy_demand_enfu_subsector_total_pj_trns_fuel_biomass',\n",
       " 'energy_demand_enfu_subsector_total_pj_trns_fuel_coal',\n",
       " 'energy_demand_enfu_subsector_total_pj_trns_fuel_coke',\n",
       " 'energy_demand_enfu_subsector_total_pj_trns_fuel_crude',\n",
       " 'energy_demand_enfu_subsector_total_pj_trns_fuel_diesel',\n",
       " 'energy_demand_enfu_subsector_total_pj_trns_fuel_electricity',\n",
       " 'energy_demand_enfu_subsector_total_pj_trns_fuel_furnace_gas',\n",
       " 'energy_demand_enfu_subsector_total_pj_trns_fuel_gasoline',\n",
       " 'energy_demand_enfu_subsector_total_pj_trns_fuel_geothermal',\n",
       " 'energy_demand_enfu_subsector_total_pj_trns_fuel_hydrocarbon_gas_liquids',\n",
       " 'energy_demand_enfu_subsector_total_pj_trns_fuel_hydrogen',\n",
       " 'energy_demand_enfu_subsector_total_pj_trns_fuel_hydropower',\n",
       " 'energy_demand_enfu_subsector_total_pj_trns_fuel_kerosene',\n",
       " 'energy_demand_enfu_subsector_total_pj_trns_fuel_natural_gas',\n",
       " 'energy_demand_enfu_subsector_total_pj_trns_fuel_nuclear',\n",
       " 'energy_demand_enfu_subsector_total_pj_trns_fuel_ocean',\n",
       " 'energy_demand_enfu_subsector_total_pj_trns_fuel_oil',\n",
       " 'energy_demand_enfu_subsector_total_pj_trns_fuel_other',\n",
       " 'energy_demand_enfu_subsector_total_pj_trns_fuel_solar',\n",
       " 'energy_demand_enfu_subsector_total_pj_trns_fuel_waste',\n",
       " 'energy_demand_enfu_subsector_total_pj_trns_fuel_wind',\n",
       " 'energy_demand_enfu_total_fuel_biofuels',\n",
       " 'energy_demand_enfu_total_fuel_biogas',\n",
       " 'energy_demand_enfu_total_fuel_biomass',\n",
       " 'energy_demand_enfu_total_fuel_coal',\n",
       " 'energy_demand_enfu_total_fuel_coke',\n",
       " 'energy_demand_enfu_total_fuel_crude',\n",
       " 'energy_demand_enfu_total_fuel_diesel',\n",
       " 'energy_demand_enfu_total_fuel_electricity',\n",
       " 'energy_demand_enfu_total_fuel_furnace_gas',\n",
       " 'energy_demand_enfu_total_fuel_gasoline',\n",
       " 'energy_demand_enfu_total_fuel_geothermal',\n",
       " 'energy_demand_enfu_total_fuel_hydrocarbon_gas_liquids',\n",
       " 'energy_demand_enfu_total_fuel_hydrogen',\n",
       " 'energy_demand_enfu_total_fuel_hydropower',\n",
       " 'energy_demand_enfu_total_fuel_kerosene',\n",
       " 'energy_demand_enfu_total_fuel_natural_gas',\n",
       " 'energy_demand_enfu_total_fuel_nuclear',\n",
       " 'energy_demand_enfu_total_fuel_ocean',\n",
       " 'energy_demand_enfu_total_fuel_oil',\n",
       " 'energy_demand_enfu_total_fuel_other',\n",
       " 'energy_demand_enfu_total_fuel_solar',\n",
       " 'energy_demand_enfu_total_fuel_waste',\n",
       " 'energy_demand_enfu_total_fuel_wind',\n",
       " 'energy_demand_inen_agriculture_and_livestock',\n",
       " 'energy_demand_inen_cement',\n",
       " 'energy_demand_inen_chemicals',\n",
       " 'energy_demand_inen_electronics',\n",
       " 'energy_demand_inen_glass',\n",
       " 'energy_demand_inen_lime_and_carbonite',\n",
       " 'energy_demand_inen_metals',\n",
       " 'energy_demand_inen_mining',\n",
       " 'energy_demand_inen_other_product_manufacturing',\n",
       " 'energy_demand_inen_paper',\n",
       " 'energy_demand_inen_plastic',\n",
       " 'energy_demand_inen_recycled_glass',\n",
       " 'energy_demand_inen_recycled_metals',\n",
       " 'energy_demand_inen_recycled_paper',\n",
       " 'energy_demand_inen_recycled_plastic',\n",
       " 'energy_demand_inen_recycled_rubber_and_leather',\n",
       " 'energy_demand_inen_recycled_textiles',\n",
       " 'energy_demand_inen_recycled_wood',\n",
       " 'energy_demand_inen_rubber_and_leather',\n",
       " 'energy_demand_inen_textiles',\n",
       " 'energy_demand_scoe_heat_commercial_municipal',\n",
       " 'energy_demand_scoe_heat_other_se',\n",
       " 'energy_demand_scoe_heat_residential',\n",
       " 'energylost_enfu_transmission_loss_fuel_electricity_pj',\n",
       " 'exports_enfu_unused_fuel_biogas_pj',\n",
       " 'exports_enfu_unused_fuel_waste_pj',\n",
       " 'exportsadj_agrc_bevs_and_spices_tonne',\n",
       " 'exportsadj_agrc_cereals_tonne',\n",
       " 'exportsadj_agrc_fibers_tonne',\n",
       " 'exportsadj_agrc_fruits_tonne',\n",
       " 'exportsadj_agrc_herbs_and_other_perennial_crops_tonne',\n",
       " 'exportsadj_agrc_nuts_tonne',\n",
       " 'exportsadj_agrc_other_annual_tonne',\n",
       " 'exportsadj_agrc_other_woody_perennial_tonne',\n",
       " 'exportsadj_agrc_pulses_tonne',\n",
       " 'exportsadj_agrc_rice_tonne',\n",
       " 'exportsadj_agrc_sugar_cane_tonne',\n",
       " 'exportsadj_agrc_tubers_tonne',\n",
       " 'exportsadj_agrc_vegetables_and_vines_tonne',\n",
       " 'exportsadj_enfu_fuel_coal',\n",
       " 'exportsadj_enfu_fuel_crude',\n",
       " 'exportsadj_enfu_fuel_diesel',\n",
       " 'exportsadj_enfu_fuel_electricity',\n",
       " 'exportsadj_enfu_fuel_gasoline',\n",
       " 'exportsadj_enfu_fuel_hydrocarbon_gas_liquids',\n",
       " 'exportsadj_enfu_fuel_hydrogen',\n",
       " 'exportsadj_enfu_fuel_kerosene',\n",
       " 'exportsadj_enfu_fuel_natural_gas',\n",
       " 'exportsadj_enfu_fuel_oil',\n",
       " 'exportsadj_lvst_buffalo',\n",
       " 'exportsadj_lvst_cattle_dairy',\n",
       " 'exportsadj_lvst_cattle_nondairy',\n",
       " 'exportsadj_lvst_chickens',\n",
       " 'exportsadj_lvst_goats',\n",
       " 'exportsadj_lvst_horses',\n",
       " 'exportsadj_lvst_mules',\n",
       " 'exportsadj_lvst_pigs',\n",
       " 'exportsadj_lvst_sheep',\n",
       " 'frac_area_cropland_calculated_bevs_and_spices',\n",
       " 'frac_area_cropland_calculated_cereals',\n",
       " 'frac_area_cropland_calculated_fibers',\n",
       " 'frac_area_cropland_calculated_fruits',\n",
       " 'frac_area_cropland_calculated_herbs_and_other_perennial_crops',\n",
       " 'frac_area_cropland_calculated_nuts',\n",
       " 'frac_area_cropland_calculated_other_annual',\n",
       " 'frac_area_cropland_calculated_other_woody_perennial',\n",
       " 'frac_area_cropland_calculated_pulses',\n",
       " 'frac_area_cropland_calculated_rice',\n",
       " 'frac_area_cropland_calculated_sugar_cane',\n",
       " 'frac_area_cropland_calculated_tubers',\n",
       " 'frac_area_cropland_calculated_vegetables_and_vines',\n",
       " 'gasrecovered_inen_mt_co2_capture_cement',\n",
       " 'gasrecovered_inen_mt_co2_capture_chemicals',\n",
       " 'gasrecovered_inen_mt_co2_capture_glass',\n",
       " 'gasrecovered_inen_mt_co2_capture_lime_and_carbonite',\n",
       " 'gasrecovered_inen_mt_co2_capture_metals',\n",
       " 'gasrecovered_inen_mt_co2_capture_plastic',\n",
       " 'gasrecovered_ippu_mt_co2_capture_cement',\n",
       " 'gasrecovered_ippu_mt_co2_capture_chemicals',\n",
       " 'gasrecovered_ippu_mt_co2_capture_glass',\n",
       " 'gasrecovered_ippu_mt_co2_capture_lime_and_carbonite',\n",
       " 'gasrecovered_ippu_mt_co2_capture_metals',\n",
       " 'gasrecovered_ippu_mt_co2_capture_plastic',\n",
       " 'gasrecovered_lsmm_biogass_anaerobic_digester_tonne',\n",
       " 'gasrecovered_trww_biogas_tonne',\n",
       " 'gasrecovered_waso_biogas_anaerobic_tonne',\n",
       " 'gasrecovered_waso_biogas_landfills_tonne',\n",
       " 'gdp_per_capita_usd',\n",
       " 'imports_enfu_fuel_coal_pj',\n",
       " 'imports_enfu_fuel_crude_pj',\n",
       " 'imports_enfu_fuel_diesel_pj',\n",
       " 'imports_enfu_fuel_electricity_pj',\n",
       " 'imports_enfu_fuel_gasoline_pj',\n",
       " 'imports_enfu_fuel_hydrocarbon_gas_liquids_pj',\n",
       " 'imports_enfu_fuel_hydrogen_pj',\n",
       " 'imports_enfu_fuel_kerosene_pj',\n",
       " 'imports_enfu_fuel_natural_gas_pj',\n",
       " 'imports_enfu_fuel_oil_pj',\n",
       " 'importssadj_agrc_bevs_and_spices_tonne',\n",
       " 'importssadj_agrc_cereals_tonne',\n",
       " 'importssadj_agrc_fibers_tonne',\n",
       " 'importssadj_agrc_fruits_tonne',\n",
       " 'importssadj_agrc_herbs_and_other_perennial_crops_tonne',\n",
       " 'importssadj_agrc_nuts_tonne',\n",
       " 'importssadj_agrc_other_annual_tonne',\n",
       " 'importssadj_agrc_other_woody_perennial_tonne',\n",
       " 'importssadj_agrc_pulses_tonne',\n",
       " 'importssadj_agrc_rice_tonne',\n",
       " 'importssadj_agrc_sugar_cane_tonne',\n",
       " ...]"
      ]
     },
     "execution_count": 179,
     "metadata": {},
     "output_type": "execute_result"
    }
   ],
   "source": []
  },
  {
   "cell_type": "code",
   "execution_count": null,
   "id": "be8073ef-e8d1-403f-9a9f-a003bb368c2b",
   "metadata": {},
   "outputs": [],
   "source": []
  },
  {
   "cell_type": "code",
   "execution_count": null,
   "id": "072ffe7e-2b07-4e4d-8107-718f25edaebf",
   "metadata": {},
   "outputs": [],
   "source": []
  },
  {
   "cell_type": "code",
   "execution_count": 863,
   "id": "90f9e625-d4d3-42c5-8f7e-fab8e291f7e3",
   "metadata": {
    "tags": []
   },
   "outputs": [],
   "source": [
    "#mov.get_merged_category_key_dictionary()\n",
    "importlib.reload(mv)\n",
    "dict_in = mov.dict_varinfo.copy()\n",
    "if True:\n",
    "    dict_in.update({\n",
    "        \"categories\": \"(``$CAT-LANDUSE-DIM1$ = croplands|forests_primary|grasslands|other``)\"\n",
    "    })\n",
    "    \n",
    "mov2 = mv.ModelVariable(\n",
    "    dict_in,\n",
    "    matt_new.get_attribute_table(\"Land Use\")\n",
    ")"
   ]
  },
  {
   "cell_type": "code",
   "execution_count": 873,
   "id": "b4842930-8c65-4732-93af-b24495d62342",
   "metadata": {},
   "outputs": [],
   "source": [
    "matt_new.get_attribute_table(\n",
    "    \"IPPU2\",\n",
    "    table_type = \"variable_definitions\"\n",
    ")"
   ]
  },
  {
   "cell_type": "code",
   "execution_count": 870,
   "id": "c00bc635-9a97-4ea6-9798-1ccf69347de1",
   "metadata": {},
   "outputs": [
    {
     "data": {
      "text/plain": [
       "array([[ 1,  2,  3,  4,  5,  6,  7,  8,  9, 10, 11, 12, 13, 14, 15, 16,\n",
       "        17, 18, 19, 20, 21, 22, 23, 24, 25, 26, 27, 28, 29, 30, 31, 32,\n",
       "        33, 34, 35, 36, 37, 38, 39, 40, 41, 42, 43, 44, 45, 46, 47, 48,\n",
       "        49, 50, 51, 52, 53, 54, 55, 56, 57, 58, 59, 60, 61, 62, 63, 64],\n",
       "       [ 1,  2,  3,  4,  5,  6,  7,  8,  9, 10, 11, 12, 13, 14, 15, 16,\n",
       "        17, 18, 19, 20, 21, 22, 23, 24, 25, 26, 27, 28, 29, 30, 31, 32,\n",
       "        33, 34, 35, 36, 37, 38, 39, 40, 41, 42, 43, 44, 45, 46, 47, 48,\n",
       "        49, 50, 51, 52, 53, 54, 55, 56, 57, 58, 59, 60, 61, 62, 63, 64],\n",
       "       [ 1,  2,  3,  4,  5,  6,  7,  8,  9, 10, 11, 12, 13, 14, 15, 16,\n",
       "        17, 18, 19, 20, 21, 22, 23, 24, 25, 26, 27, 28, 29, 30, 31, 32,\n",
       "        33, 34, 35, 36, 37, 38, 39, 40, 41, 42, 43, 44, 45, 46, 47, 48,\n",
       "        49, 50, 51, 52, 53, 54, 55, 56, 57, 58, 59, 60, 61, 62, 63, 64]])"
      ]
     },
     "execution_count": 870,
     "metadata": {},
     "output_type": "execute_result"
    }
   ],
   "source": [
    "#mov2.schema.dict_root_element_to_children\n",
    "mov2.categories_are_restricted\n",
    "\n",
    "matt_new.reduce_all_cats_array_to_partial_cat_array(\n",
    "    arr, mov\n",
    ")"
   ]
  },
  {
   "cell_type": "code",
   "execution_count": 785,
   "id": "0fce386c-a6c7-444b-9d9a-1814dda3b2d1",
   "metadata": {},
   "outputs": [
    {
     "data": {
      "text/plain": [
       "([8],\n",
       " ['ef_lndu_conv_croplands_to_croplands_gg_co2_ha',\n",
       "  'ef_lndu_conv_croplands_to_forests_mangroves_gg_co2_ha',\n",
       "  'ef_lndu_conv_croplands_to_forests_primary_gg_co2_ha',\n",
       "  'ef_lndu_conv_croplands_to_forests_secondary_gg_co2_ha',\n",
       "  'ef_lndu_conv_croplands_to_grasslands_gg_co2_ha',\n",
       "  'ef_lndu_conv_croplands_to_other_gg_co2_ha',\n",
       "  'ef_lndu_conv_croplands_to_settlements_gg_co2_ha',\n",
       "  'ef_lndu_conv_croplands_to_wetlands_gg_co2_ha',\n",
       "  'ef_lndu_conv_forests_primary_to_croplands_gg_co2_ha',\n",
       "  'ef_lndu_conv_forests_primary_to_forests_mangroves_gg_co2_ha',\n",
       "  'ef_lndu_conv_forests_primary_to_forests_primary_gg_co2_ha',\n",
       "  'ef_lndu_conv_forests_primary_to_forests_secondary_gg_co2_ha',\n",
       "  'ef_lndu_conv_forests_primary_to_grasslands_gg_co2_ha',\n",
       "  'ef_lndu_conv_forests_primary_to_other_gg_co2_ha',\n",
       "  'ef_lndu_conv_forests_primary_to_settlements_gg_co2_ha',\n",
       "  'ef_lndu_conv_forests_primary_to_wetlands_gg_co2_ha',\n",
       "  'ef_lndu_conv_grasslands_to_croplands_gg_co2_ha',\n",
       "  'ef_lndu_conv_grasslands_to_forests_mangroves_gg_co2_ha',\n",
       "  'ef_lndu_conv_grasslands_to_forests_primary_gg_co2_ha',\n",
       "  'ef_lndu_conv_grasslands_to_forests_secondary_gg_co2_ha',\n",
       "  'ef_lndu_conv_grasslands_to_grasslands_gg_co2_ha',\n",
       "  'ef_lndu_conv_grasslands_to_other_gg_co2_ha',\n",
       "  'ef_lndu_conv_grasslands_to_settlements_gg_co2_ha',\n",
       "  'ef_lndu_conv_grasslands_to_wetlands_gg_co2_ha',\n",
       "  'ef_lndu_conv_other_to_croplands_gg_co2_ha',\n",
       "  'ef_lndu_conv_other_to_forests_mangroves_gg_co2_ha',\n",
       "  'ef_lndu_conv_other_to_forests_primary_gg_co2_ha',\n",
       "  'ef_lndu_conv_other_to_forests_secondary_gg_co2_ha',\n",
       "  'ef_lndu_conv_other_to_grasslands_gg_co2_ha',\n",
       "  'ef_lndu_conv_other_to_other_gg_co2_ha',\n",
       "  'ef_lndu_conv_other_to_settlements_gg_co2_ha',\n",
       "  'ef_lndu_conv_other_to_wetlands_gg_co2_ha'])"
      ]
     },
     "execution_count": 785,
     "metadata": {},
     "output_type": "execute_result"
    }
   ],
   "source": [
    "modvar.fields_index, [mov2.fields_space[x] for x in mov2.fields_index]\n"
   ]
  },
  {
   "cell_type": "code",
   "execution_count": 680,
   "id": "6b9b484d-fa8e-4507-afb5-eb3406e01266",
   "metadata": {
    "tags": []
   },
   "outputs": [],
   "source": [
    "modvar = matt_new.get_variable(\"Industrial Energy Fuel Fraction Geothermal\")\n",
    "\n",
    "modvar.build_fields(\n",
    "    category_restrictions = \"rubber_and_leather\",\n",
    ")"
   ]
  },
  {
   "cell_type": "code",
   "execution_count": 769,
   "id": "23615a94-f8a7-4b6a-a528-ca276842342b",
   "metadata": {},
   "outputs": [
    {
     "data": {
      "text/plain": [
       "{'cat_industry': ['mining']}"
      ]
     },
     "execution_count": 769,
     "metadata": {},
     "output_type": "execute_result"
    }
   ],
   "source": [
    "modvar.dict_category_keys"
   ]
  },
  {
   "cell_type": "code",
   "execution_count": 772,
   "id": "a881682f-75b8-47ae-ab46-c8eee16c9f38",
   "metadata": {},
   "outputs": [
    {
     "ename": "AttributeError",
     "evalue": "'ModelAttributesNew' object has no attribute 'dict_variable_to_category_restriction'",
     "output_type": "error",
     "traceback": [
      "\u001b[0;31m---------------------------------------------------------------------------\u001b[0m",
      "\u001b[0;31mAttributeError\u001b[0m                            Traceback (most recent call last)",
      "Cell \u001b[0;32mIn[772], line 1\u001b[0m\n\u001b[0;32m----> 1\u001b[0m \u001b[43mmatt_new\u001b[49m\u001b[38;5;241;43m.\u001b[39;49m\u001b[43mdict_variable_to_category_restriction\u001b[49m\n",
      "\u001b[0;31mAttributeError\u001b[0m: 'ModelAttributesNew' object has no attribute 'dict_variable_to_category_restriction'"
     ]
    }
   ],
   "source": [
    "matt_new.dict_variable_to_category_restriction"
   ]
  },
  {
   "cell_type": "code",
   "execution_count": 774,
   "id": "754bfca2-e89e-44c1-acd9-7e276f5fef75",
   "metadata": {
    "tags": []
   },
   "outputs": [
    {
     "data": {
      "text/plain": [
       "{'cat_landuse_dim1': ['croplands', 'forests_primary', 'grasslands', 'other'],\n",
       " 'cat_landuse_dim2': ['croplands',\n",
       "  'forests_mangroves',\n",
       "  'forests_primary',\n",
       "  'forests_secondary',\n",
       "  'grasslands',\n",
       "  'other',\n",
       "  'settlements',\n",
       "  'wetlands']}"
      ]
     },
     "execution_count": 774,
     "metadata": {},
     "output_type": "execute_result"
    }
   ],
   "source": [
    "matt_new.get_variable_categories(mov2)"
   ]
  },
  {
   "cell_type": "code",
   "execution_count": null,
   "id": "cc3f8dc4-b398-46b9-a135-f18aee17dd59",
   "metadata": {},
   "outputs": [],
   "source": []
  },
  {
   "cell_type": "code",
   "execution_count": null,
   "id": "d173ff70-71d3-4f82-8914-ab877fb18546",
   "metadata": {},
   "outputs": [],
   "source": []
  },
  {
   "cell_type": "code",
   "execution_count": null,
   "id": "81ff6fae-3521-4861-aa5f-a3dc92cf02d8",
   "metadata": {},
   "outputs": [],
   "source": []
  },
  {
   "cell_type": "code",
   "execution_count": null,
   "id": "f4a6ea29-01d8-4d91-8ece-bcca3496a94a",
   "metadata": {},
   "outputs": [],
   "source": []
  },
  {
   "cell_type": "code",
   "execution_count": 681,
   "id": "62fb967b-8d2d-4fe1-9e50-4a7a7ac1c017",
   "metadata": {
    "collapsed": true,
    "jupyter": {
     "outputs_hidden": true
    },
    "tags": []
   },
   "outputs": [
    {
     "name": "stdout",
     "output_type": "stream",
     "text": [
      "MISSIONSEARCHNOTE: As of 2023-10-06, there is a temporary solution implemeted in ModelAttributes.get_variable_to_simplex_group_dictionary() to ensure that transition probability rows are enforced on a simplex.\n",
      "\n",
      "FIX THIS ASAP TO DERIVE PROPERLY.\n",
      "sort_class:\tip_ippu\n",
      "sort_class:\taf_lvst\n",
      "sort_class:\taf_frst\n",
      "sort_class:\ten_ccsq\n",
      "sort_class:\taf_agrc\n",
      "sort_class:\taf_lvst\n",
      "sort_class:\tip_ippu\n",
      "sort_class:\taf_agrc\n",
      "sort_class:\ten_ccsq\n",
      "sort_class:\taf_frst\n",
      "sort_class:\tce_waso\n",
      "sort_class:\ten_trns\n",
      "sort_class:\taf_soil\n",
      "sort_class:\tce_trww\n",
      "sort_class:\tse_econ\n",
      "sort_class:\taf_lndu\n",
      "sort_class:\tse_gnrl\n",
      "sort_class:\ten_entc\n",
      "sort_class:\ten_trde\n",
      "sort_class:\ten_scoe\n",
      "sort_class:\ten_inen\n",
      "sort_class:\ten_enfu\n",
      "sort_class:\tce_wali\n",
      "sort_class:\taf_lsmm\n",
      "sort_class:\ten_fgtv\n",
      "sort_class:\ten_trde\n",
      "sort_class:\ten_entc\n",
      "sort_class:\tse_gnrl\n",
      "sort_class:\taf_lndu\n",
      "MISSIONSEARCHNOTE: As of 2023-10-06, there is a temporary solution implemeted in ModelAttributes.get_variable_to_simplex_group_dictionary() to ensure that transition probability rows are enforced on a simplex.\n",
      "\n",
      "FIX THIS ASAP TO DERIVE PROPERLY.\n",
      "sort_class:\tse_econ\n",
      "sort_class:\tce_trww\n",
      "sort_class:\taf_soil\n",
      "sort_class:\ten_trns\n",
      "sort_class:\tce_waso\n",
      "sort_class:\ten_fgtv\n",
      "sort_class:\taf_lsmm\n",
      "sort_class:\tce_wali\n",
      "sort_class:\ten_enfu\n",
      "sort_class:\ten_enst\n",
      "sort_class:\ten_inen\n",
      "sort_class:\ten_scoe\n"
     ]
    }
   ],
   "source": [
    "dict1 = matt_new.get_variable_to_simplex_group_dictionary()\n",
    "dict2 = sa.model_attributes.get_variable_to_simplex_group_dictionary()"
   ]
  },
  {
   "cell_type": "code",
   "execution_count": 695,
   "id": "2c51e61e-0033-4529-974d-b709d33195ef",
   "metadata": {},
   "outputs": [
    {
     "data": {
      "text/html": [
       "<div>\n",
       "<style scoped>\n",
       "    .dataframe tbody tr th:only-of-type {\n",
       "        vertical-align: middle;\n",
       "    }\n",
       "\n",
       "    .dataframe tbody tr th {\n",
       "        vertical-align: top;\n",
       "    }\n",
       "\n",
       "    .dataframe thead th {\n",
       "        text-align: right;\n",
       "    }\n",
       "</style>\n",
       "<table border=\"1\" class=\"dataframe\">\n",
       "  <thead>\n",
       "    <tr style=\"text-align: right;\">\n",
       "      <th></th>\n",
       "      <th>category_name</th>\n",
       "      <th>region</th>\n",
       "      <th>iso_alpha_3</th>\n",
       "      <th>iso_alpha_2</th>\n",
       "      <th>iso_numeric</th>\n",
       "      <th>fao_area_code</th>\n",
       "      <th>un_region</th>\n",
       "      <th>un_sub_region</th>\n",
       "      <th>world_bank_global_region</th>\n",
       "      <th>latitude_population_centroid_2020</th>\n",
       "      <th>longitude_population_centroid_2020</th>\n",
       "    </tr>\n",
       "  </thead>\n",
       "  <tbody>\n",
       "    <tr>\n",
       "      <th>0</th>\n",
       "      <td>Afghanistan</td>\n",
       "      <td>afghanistan</td>\n",
       "      <td>AFG</td>\n",
       "      <td>AF</td>\n",
       "      <td>4</td>\n",
       "      <td>2</td>\n",
       "      <td>Asia</td>\n",
       "      <td>Southern Asia</td>\n",
       "      <td>South Asia</td>\n",
       "      <td>34.612592</td>\n",
       "      <td>67.507387</td>\n",
       "    </tr>\n",
       "    <tr>\n",
       "      <th>1</th>\n",
       "      <td>Albania</td>\n",
       "      <td>albania</td>\n",
       "      <td>ALB</td>\n",
       "      <td>AL</td>\n",
       "      <td>8</td>\n",
       "      <td>3</td>\n",
       "      <td>Europe</td>\n",
       "      <td>Southern Europe</td>\n",
       "      <td>Europe &amp; Central Asia</td>\n",
       "      <td>41.206902</td>\n",
       "      <td>19.858921</td>\n",
       "    </tr>\n",
       "    <tr>\n",
       "      <th>2</th>\n",
       "      <td>Algeria</td>\n",
       "      <td>algeria</td>\n",
       "      <td>DZA</td>\n",
       "      <td>DZ</td>\n",
       "      <td>12</td>\n",
       "      <td>4</td>\n",
       "      <td>Africa</td>\n",
       "      <td>Northern Africa</td>\n",
       "      <td>Middle East &amp; North Africa</td>\n",
       "      <td>35.524570</td>\n",
       "      <td>3.494062</td>\n",
       "    </tr>\n",
       "    <tr>\n",
       "      <th>3</th>\n",
       "      <td>American Samoa</td>\n",
       "      <td>american_samoa</td>\n",
       "      <td>ASM</td>\n",
       "      <td>AS</td>\n",
       "      <td>16</td>\n",
       "      <td>5</td>\n",
       "      <td>Oceania</td>\n",
       "      <td>Polynesia</td>\n",
       "      <td>East Asia &amp; Pacific</td>\n",
       "      <td>-14.309417</td>\n",
       "      <td>-170.690438</td>\n",
       "    </tr>\n",
       "    <tr>\n",
       "      <th>4</th>\n",
       "      <td>Andorra</td>\n",
       "      <td>andorra</td>\n",
       "      <td>AND</td>\n",
       "      <td>AD</td>\n",
       "      <td>20</td>\n",
       "      <td>6</td>\n",
       "      <td>Europe</td>\n",
       "      <td>Southern Europe</td>\n",
       "      <td>Europe &amp; Central Asia</td>\n",
       "      <td>42.524074</td>\n",
       "      <td>1.562281</td>\n",
       "    </tr>\n",
       "    <tr>\n",
       "      <th>...</th>\n",
       "      <td>...</td>\n",
       "      <td>...</td>\n",
       "      <td>...</td>\n",
       "      <td>...</td>\n",
       "      <td>...</td>\n",
       "      <td>...</td>\n",
       "      <td>...</td>\n",
       "      <td>...</td>\n",
       "      <td>...</td>\n",
       "      <td>...</td>\n",
       "      <td>...</td>\n",
       "    </tr>\n",
       "    <tr>\n",
       "      <th>210</th>\n",
       "      <td>Venezuela</td>\n",
       "      <td>venezuela</td>\n",
       "      <td>VEN</td>\n",
       "      <td>VE</td>\n",
       "      <td>862</td>\n",
       "      <td>236</td>\n",
       "      <td>Americas</td>\n",
       "      <td>Latin America and the Caribbean</td>\n",
       "      <td>Latin America &amp; Caribbean</td>\n",
       "      <td>9.748997</td>\n",
       "      <td>-67.934095</td>\n",
       "    </tr>\n",
       "    <tr>\n",
       "      <th>211</th>\n",
       "      <td>Viet Nam</td>\n",
       "      <td>viet_nam</td>\n",
       "      <td>VNM</td>\n",
       "      <td>VN</td>\n",
       "      <td>704</td>\n",
       "      <td>237</td>\n",
       "      <td>Asia</td>\n",
       "      <td>South-eastern Asia</td>\n",
       "      <td>East Asia &amp; Pacific</td>\n",
       "      <td>15.441861</td>\n",
       "      <td>106.418389</td>\n",
       "    </tr>\n",
       "    <tr>\n",
       "      <th>212</th>\n",
       "      <td>Yemen</td>\n",
       "      <td>yemen</td>\n",
       "      <td>YEM</td>\n",
       "      <td>YE</td>\n",
       "      <td>887</td>\n",
       "      <td>249</td>\n",
       "      <td>Asia</td>\n",
       "      <td>Western Asia</td>\n",
       "      <td>Middle East &amp; North Africa</td>\n",
       "      <td>14.735593</td>\n",
       "      <td>44.434270</td>\n",
       "    </tr>\n",
       "    <tr>\n",
       "      <th>213</th>\n",
       "      <td>Zambia</td>\n",
       "      <td>zambia</td>\n",
       "      <td>ZMB</td>\n",
       "      <td>ZM</td>\n",
       "      <td>894</td>\n",
       "      <td>251</td>\n",
       "      <td>Africa</td>\n",
       "      <td>Sub-Saharan Africa</td>\n",
       "      <td>Sub-Saharan Africa</td>\n",
       "      <td>-13.593902</td>\n",
       "      <td>28.635402</td>\n",
       "    </tr>\n",
       "    <tr>\n",
       "      <th>214</th>\n",
       "      <td>Zimbabwe</td>\n",
       "      <td>zimbabwe</td>\n",
       "      <td>ZWE</td>\n",
       "      <td>ZW</td>\n",
       "      <td>716</td>\n",
       "      <td>181</td>\n",
       "      <td>Africa</td>\n",
       "      <td>Sub-Saharan Africa</td>\n",
       "      <td>Sub-Saharan Africa</td>\n",
       "      <td>-18.652425</td>\n",
       "      <td>30.618165</td>\n",
       "    </tr>\n",
       "  </tbody>\n",
       "</table>\n",
       "<p>215 rows × 11 columns</p>\n",
       "</div>"
      ],
      "text/plain": [
       "      category_name          region iso_alpha_3 iso_alpha_2  iso_numeric  \\\n",
       "0       Afghanistan     afghanistan         AFG          AF            4   \n",
       "1           Albania         albania         ALB          AL            8   \n",
       "2           Algeria         algeria         DZA          DZ           12   \n",
       "3    American Samoa  american_samoa         ASM          AS           16   \n",
       "4           Andorra         andorra         AND          AD           20   \n",
       "..              ...             ...         ...         ...          ...   \n",
       "210       Venezuela       venezuela         VEN          VE          862   \n",
       "211        Viet Nam        viet_nam         VNM          VN          704   \n",
       "212           Yemen           yemen         YEM          YE          887   \n",
       "213          Zambia          zambia         ZMB          ZM          894   \n",
       "214        Zimbabwe        zimbabwe         ZWE          ZW          716   \n",
       "\n",
       "     fao_area_code un_region                    un_sub_region  \\\n",
       "0                2      Asia                    Southern Asia   \n",
       "1                3    Europe                  Southern Europe   \n",
       "2                4    Africa                  Northern Africa   \n",
       "3                5   Oceania                        Polynesia   \n",
       "4                6    Europe                  Southern Europe   \n",
       "..             ...       ...                              ...   \n",
       "210            236  Americas  Latin America and the Caribbean   \n",
       "211            237      Asia               South-eastern Asia   \n",
       "212            249      Asia                     Western Asia   \n",
       "213            251    Africa               Sub-Saharan Africa   \n",
       "214            181    Africa               Sub-Saharan Africa   \n",
       "\n",
       "       world_bank_global_region  latitude_population_centroid_2020  \\\n",
       "0                    South Asia                          34.612592   \n",
       "1         Europe & Central Asia                          41.206902   \n",
       "2    Middle East & North Africa                          35.524570   \n",
       "3           East Asia & Pacific                         -14.309417   \n",
       "4         Europe & Central Asia                          42.524074   \n",
       "..                          ...                                ...   \n",
       "210   Latin America & Caribbean                           9.748997   \n",
       "211         East Asia & Pacific                          15.441861   \n",
       "212  Middle East & North Africa                          14.735593   \n",
       "213          Sub-Saharan Africa                         -13.593902   \n",
       "214          Sub-Saharan Africa                         -18.652425   \n",
       "\n",
       "     longitude_population_centroid_2020  \n",
       "0                             67.507387  \n",
       "1                             19.858921  \n",
       "2                              3.494062  \n",
       "3                           -170.690438  \n",
       "4                              1.562281  \n",
       "..                                  ...  \n",
       "210                          -67.934095  \n",
       "211                          106.418389  \n",
       "212                           44.434270  \n",
       "213                           28.635402  \n",
       "214                           30.618165  \n",
       "\n",
       "[215 rows x 11 columns]"
      ]
     },
     "execution_count": 695,
     "metadata": {},
     "output_type": "execute_result"
    }
   ],
   "source": [
    "matt_new.get_other_attribute_table(\"region\").table"
   ]
  },
  {
   "cell_type": "code",
   "execution_count": 684,
   "id": "4a791a33-45b2-4b00-9d5c-a05fd05c6300",
   "metadata": {},
   "outputs": [
    {
     "data": {
      "text/plain": [
       "set()"
      ]
     },
     "execution_count": 684,
     "metadata": {},
     "output_type": "execute_result"
    }
   ],
   "source": [
    "set(dict1.keys()) - set(dict2.keys()) # CHECK CATEGORIZATION"
   ]
  },
  {
   "cell_type": "code",
   "execution_count": 409,
   "id": "7d801b3f-ff1e-4b8a-9b78-ddb8ffaf8e7f",
   "metadata": {},
   "outputs": [
    {
     "data": {
      "text/plain": [
       "['gdp_mmm_usd', 'population_gnrl_rural', 'population_gnrl_urban']"
      ]
     },
     "execution_count": 409,
     "metadata": {},
     "output_type": "execute_result"
    }
   ],
   "source": [
    "matt_new.build_variable_fields([\"GDP\", \"Population\"])"
   ]
  },
  {
   "cell_type": "code",
   "execution_count": 414,
   "id": "37e55da5-085b-4745-a8b9-6ba770341d0a",
   "metadata": {},
   "outputs": [],
   "source": [
    "matt_new.get_variable(\"GDP3\")"
   ]
  },
  {
   "cell_type": "code",
   "execution_count": 403,
   "id": "c22c41e6-96cb-4112-ae3e-c26067c79aec",
   "metadata": {},
   "outputs": [
    {
     "data": {
      "text/plain": [
       "'``rural``'"
      ]
     },
     "execution_count": 403,
     "metadata": {},
     "output_type": "execute_result"
    }
   ],
   "source": [
    "attr_wali = matt_new.get_attribute_table(matt_new.subsec_name_wali)\n",
    "attr_wali.get_attribute(\"ww_domestic_rural\", \"cat_general\")\n"
   ]
  },
  {
   "cell_type": "code",
   "execution_count": 385,
   "id": "10efb010-d7ae-4e24-bd8e-801231881f30",
   "metadata": {
    "tags": []
   },
   "outputs": [],
   "source": [
    "matt_new.get_ordered_category_attribute(\n",
    "    matt_new.subsec_name_wali,\n",
    "    \"industrial_category\",\n",
    "    \n",
    "    skip_none_q = True,\n",
    ")"
   ]
  },
  {
   "cell_type": "code",
   "execution_count": 420,
   "id": "f3213b7d-7d4e-46b9-a61f-1c4f3b787be1",
   "metadata": {},
   "outputs": [
    {
     "data": {
      "text/plain": [
       "\u001b[0;31mSignature:\u001b[0m \u001b[0mmatt_new\u001b[0m\u001b[0;34m.\u001b[0m\u001b[0mget_attribute_table\u001b[0m\u001b[0;34m(\u001b[0m\u001b[0msubsector\u001b[0m\u001b[0;34m:\u001b[0m \u001b[0mstr\u001b[0m\u001b[0;34m,\u001b[0m \u001b[0mtable_type\u001b[0m\u001b[0;34m=\u001b[0m\u001b[0;34m'primary_category'\u001b[0m\u001b[0;34m)\u001b[0m \u001b[0;34m->\u001b[0m \u001b[0mOptional\u001b[0m\u001b[0;34m[\u001b[0m\u001b[0mattribute_table\u001b[0m\u001b[0;34m.\u001b[0m\u001b[0mAttributeTable\u001b[0m\u001b[0;34m]\u001b[0m\u001b[0;34m\u001b[0m\u001b[0;34m\u001b[0m\u001b[0m\n",
       "\u001b[0;31mDocstring:\u001b[0m\n",
       "Simplify retrieval of attribute tables within functions. \n",
       "\n",
       "Function Arguments\n",
       "------------------\n",
       "\n",
       "Keyword Arguments\n",
       "-----------------\n",
       "- table_type: one of the following values\n",
       "    * \"primary_category\": primary category table associated with the \n",
       "        subsector\n",
       "    * \"variable_definitions\"\n",
       "\u001b[0;31mFile:\u001b[0m      ~/Documents/Projects/git_jbus/sisepuede/python/model_attributes_new.py\n",
       "\u001b[0;31mType:\u001b[0m      method\n"
      ]
     },
     "metadata": {},
     "output_type": "display_data"
    }
   ],
   "source": [
    "?matt_new.get_attribute_table"
   ]
  },
  {
   "cell_type": "code",
   "execution_count": 437,
   "id": "e7625970-aa88-4cab-82c3-f42bcea8a3d8",
   "metadata": {},
   "outputs": [
    {
     "data": {
      "text/plain": [
       "'partial_category_en_trns'"
      ]
     },
     "execution_count": 437,
     "metadata": {},
     "output_type": "execute_result"
    }
   ],
   "source": [
    "sa.model_attributes.get_subsector_attribute(\n",
    "    \"Transportation\", \n",
    "    \"key_varreqs_all\"\n",
    ")\n",
    "\n",
    "sa.model_attributes.get_subsector_attribute(\n",
    "    \"Transportation\", \n",
    "    \"key_varreqs_partial\",#\"pycategory_primary\"\n",
    ")\n",
    "\n",
    "\n"
   ]
  },
  {
   "cell_type": "code",
   "execution_count": 444,
   "id": "d8b685dd-902b-4055-bab9-e7d32c089647",
   "metadata": {},
   "outputs": [
    {
     "data": {
      "text/plain": [
       "['this2', 'this3']"
      ]
     },
     "execution_count": 444,
     "metadata": {},
     "output_type": "execute_result"
    }
   ],
   "source": [
    "mov2 = matt_new.get_variable(\n",
    "    matt_new.all_variables[0]\n",
    ")\n",
    "mov2.get_categories_from_specification(\"``this2|this3``\")"
   ]
  },
  {
   "cell_type": "code",
   "execution_count": 175,
   "id": "f99da0ad-a206-4cd2-9f4f-e568b5e230e7",
   "metadata": {},
   "outputs": [
    {
     "data": {
      "text/plain": [
       "['CAT-GENERAL']"
      ]
     },
     "execution_count": 175,
     "metadata": {},
     "output_type": "execute_result"
    }
   ],
   "source": [
    "[x for x in dir(mov) if not x.startswith(\"_\")]\n",
    "mov.schema.mutable_elements_ordered"
   ]
  },
  {
   "cell_type": "code",
   "execution_count": 192,
   "id": "c59d8658-b3f7-4dee-8cf3-7c7ac0153e2f",
   "metadata": {
    "tags": []
   },
   "outputs": [
    {
     "data": {
      "text/plain": [
       "{'cat_landuse': ['croplands',\n",
       "  'forests_mangroves',\n",
       "  'forests_primary',\n",
       "  'forests_secondary',\n",
       "  'grasslands',\n",
       "  'other',\n",
       "  'settlements',\n",
       "  'wetlands']}"
      ]
     },
     "execution_count": 192,
     "metadata": {},
     "output_type": "execute_result"
    }
   ],
   "source": [
    "importlib.reload(mv)\n",
    "attr_cat = matt_new.get_attribute_table(\n",
    "    \"Land Use\",\n",
    ")\n",
    "attr_var = matt_new.get_attribute_table(\n",
    "    \"Land Use\",\n",
    "    \"variable_definitions\"\n",
    ")\n",
    "mov = mv.ModelVariable(\n",
    "    attr_var.table.iloc[0],\n",
    "    attr_cat\n",
    ")\n",
    "\n",
    "mov.dict_category_key_space"
   ]
  },
  {
   "cell_type": "code",
   "execution_count": 187,
   "id": "bfe2bfb0-76ce-4659-97c5-cf4c15e7578e",
   "metadata": {},
   "outputs": [
    {
     "data": {
      "text/plain": [
       "['cat_landuse_dim1', 'cat_landuse_dim2']"
      ]
     },
     "execution_count": 187,
     "metadata": {},
     "output_type": "execute_result"
    }
   ],
   "source": [
    "mov.schema.dict_root_element_to_children.get(\"cat_landuse\")\n"
   ]
  },
  {
   "cell_type": "code",
   "execution_count": 159,
   "id": "7666f306-774c-4758-8041-5e55f92b4f9d",
   "metadata": {},
   "outputs": [
    {
     "data": {
      "text/plain": [
       "{'cat_landuse_dim1': ['croplands',\n",
       "  'forests_mangroves',\n",
       "  'forests_primary',\n",
       "  'forests_secondary',\n",
       "  'grasslands',\n",
       "  'other',\n",
       "  'settlements',\n",
       "  'wetlands'],\n",
       " 'cat_landuse_dim2': ['other', 'settlements']}"
      ]
     },
     "execution_count": 159,
     "metadata": {},
     "output_type": "execute_result"
    }
   ],
   "source": [
    "mov.get_categories_by_element(\n",
    "    category_subspace = {\n",
    "        #\"cat_landuse\": [\"croplands\", \"forests_mangroves\"],\n",
    "        \"cat_landuse_dim2\": [\"settlements\", \"other\"]\n",
    "    },\n",
    "    dict_category_space = mov.dict_category_key_space,\n",
    ")"
   ]
  },
  {
   "cell_type": "code",
   "execution_count": 161,
   "id": "2ec2a46d-bf6a-411e-9954-fe2e9a215eb9",
   "metadata": {},
   "outputs": [
    {
     "data": {
      "text/plain": [
       "['ef_lndu_conv_croplands_to_croplands_gg_co2_ha',\n",
       " 'ef_lndu_conv_croplands_to_other_gg_co2_ha',\n",
       " 'ef_lndu_conv_croplands_to_wetlands_gg_co2_ha',\n",
       " 'ef_lndu_conv_other_to_croplands_gg_co2_ha',\n",
       " 'ef_lndu_conv_other_to_other_gg_co2_ha',\n",
       " 'ef_lndu_conv_other_to_wetlands_gg_co2_ha',\n",
       " 'ef_lndu_conv_wetlands_to_croplands_gg_co2_ha',\n",
       " 'ef_lndu_conv_wetlands_to_other_gg_co2_ha',\n",
       " 'ef_lndu_conv_wetlands_to_wetlands_gg_co2_ha']"
      ]
     },
     "execution_count": 161,
     "metadata": {},
     "output_type": "execute_result"
    }
   ],
   "source": [
    "mov.build_fields(\n",
    "    category_restrictions = {\n",
    "        \"cat_landuse\": [\"croplands\", \"other\", \"wetlands\"],\n",
    "        #\"cat_landuse_dim2\": [\"settlements\", \"other\"]\n",
    "    }\n",
    ")\n",
    "\n",
    "\n",
    "\n",
    "\n"
   ]
  },
  {
   "cell_type": "code",
   "execution_count": 83,
   "id": "97f36774-2bf5-490b-9376-696775885a52",
   "metadata": {},
   "outputs": [
    {
     "data": {
      "text/plain": [
       "{'cat_landuse_dim1': ['croplands', 'forests_mangroves'],\n",
       " 'cat_landuse_dim2': ['croplands', 'forests_mangroves']}"
      ]
     },
     "execution_count": 83,
     "metadata": {},
     "output_type": "execute_result"
    }
   ],
   "source": [
    "mov.get_categories_by_element(\n",
    "    None,\n",
    "    dict_category_space = {\n",
    "        \"cat_landuse\": [\"croplands\", \"forests_mangroves\"]\n",
    "    }\n",
    ")"
   ]
  },
  {
   "cell_type": "code",
   "execution_count": null,
   "id": "21c78b01-6f5b-4462-b43e-070023516471",
   "metadata": {},
   "outputs": [],
   "source": []
  },
  {
   "cell_type": "code",
   "execution_count": 142,
   "id": "7cbc47b5-13db-46af-b868-f269ace86716",
   "metadata": {},
   "outputs": [
    {
     "data": {
      "text/plain": [
       "{<model_variable.ModelVariable at 0x190960d10>,\n",
       " <model_variable.ModelVariable at 0x1993d0250>,\n",
       " <model_variable.ModelVariable at 0x1993d35d0>}"
      ]
     },
     "execution_count": 142,
     "metadata": {},
     "output_type": "execute_result"
    }
   ],
   "source": [
    "matt_new.decompose_variable_specification(\n",
    "    [mov, \"GDP\", \"Population\"],\n",
    "    return_type = \"variable\"\n",
    ")"
   ]
  },
  {
   "cell_type": "code",
   "execution_count": 86,
   "id": "b18eb1bc-0536-4fcb-a009-fe2d3458b88e",
   "metadata": {},
   "outputs": [
    {
     "data": {
      "text/plain": [
       "['attributes',\n",
       " 'clean_element',\n",
       " 'container_elements',\n",
       " 'container_expressions',\n",
       " 'dict_attribute_keys_clean_to_attribute_keys',\n",
       " 'dict_attribute_keys_to_attribute_keys_clean',\n",
       " 'dict_attributes',\n",
       " 'dict_mutable_elements_clean_to_original',\n",
       " 'dict_mutable_elements_original_to_clean',\n",
       " 'dict_root_element_to_children',\n",
       " 'flag_dim',\n",
       " 'get_attribute',\n",
       " 'get_child_elements',\n",
       " 'get_mutable_element',\n",
       " 'get_mutable_elements',\n",
       " 'get_root_element',\n",
       " 'mutable_elements_clean_ordered',\n",
       " 'mutable_elements_ordered',\n",
       " 'regex_dims',\n",
       " 'regex_dims_clean',\n",
       " 'regex_elements',\n",
       " 'replace',\n",
       " 'schema',\n",
       " 'schema_raw',\n",
       " 'space_char']"
      ]
     },
     "execution_count": 86,
     "metadata": {},
     "output_type": "execute_result"
    }
   ],
   "source": [
    "[x for x in dir(mov.schema) if not x.startswith(\"_\")]\n"
   ]
  },
  {
   "cell_type": "code",
   "execution_count": 96,
   "id": "03236ac8-b581-4199-bbe3-a03816c35504",
   "metadata": {},
   "outputs": [
    {
     "data": {
      "text/plain": [
       "'cat_landuse'"
      ]
     },
     "execution_count": 96,
     "metadata": {},
     "output_type": "execute_result"
    }
   ],
   "source": [
    "mov.schema.get_root_element(\n",
    "    \"cat_landuse\",\n",
    ")[0] "
   ]
  },
  {
   "cell_type": "code",
   "execution_count": 93,
   "id": "5bb18fa7-550c-4541-85df-61d246b4921f",
   "metadata": {},
   "outputs": [
    {
     "data": {
      "text/plain": [
       "{'CAT-LANDUSE': ['CAT-LANDUSE-DIM1', 'CAT-LANDUSE-DIM2'],\n",
       " 'cat_landuse': ['cat_landuse_dim1', 'cat_landuse_dim2']}"
      ]
     },
     "execution_count": 93,
     "metadata": {},
     "output_type": "execute_result"
    }
   ],
   "source": [
    "mov.schema.dict_root_element_to_children"
   ]
  },
  {
   "cell_type": "code",
   "execution_count": 88,
   "id": "096d4b45-bbf0-4f6f-a282-6a224ab135a6",
   "metadata": {},
   "outputs": [
    {
     "data": {
      "text/plain": [
       "[('cat_landuse', 1), ('cat_landuse', 2)]"
      ]
     },
     "execution_count": 88,
     "metadata": {},
     "output_type": "execute_result"
    }
   ],
   "source": [
    "[\n",
    "    mov.schema.get_root_element(x)\n",
    "    for x in mov.schema.mutable_elements_clean_ordered\n",
    "]"
   ]
  },
  {
   "cell_type": "code",
   "execution_count": 18,
   "id": "5ccdd179-7df6-4d3c-9729-4d003e7fab1b",
   "metadata": {},
   "outputs": [
    {
     "data": {
      "text/plain": [
       "{'cat_landuse_dim1': ['croplands',\n",
       "  'forests_mangroves',\n",
       "  'forests_primary',\n",
       "  'forests_secondary',\n",
       "  'grasslands',\n",
       "  'other',\n",
       "  'settlements',\n",
       "  'wetlands'],\n",
       " 'cat_landuse_dim2': ['croplands',\n",
       "  'forests_mangroves',\n",
       "  'forests_primary',\n",
       "  'forests_secondary',\n",
       "  'grasslands',\n",
       "  'other',\n",
       "  'settlements',\n",
       "  'wetlands']}"
      ]
     },
     "execution_count": 18,
     "metadata": {},
     "output_type": "execute_result"
    }
   ],
   "source": [
    "#mov.build_fields\n",
    "mov.get_categories_by_element(\n",
    "    #{\n",
    "    #    \"cat_landuse_dim1\": [\"settlements\", \"croplands\", \"croplands\", \"other\", \"other\"]\n",
    "    #}\n",
    "    dict_category_space = mov.dict_category_key_space,\n",
    ")"
   ]
  },
  {
   "cell_type": "code",
   "execution_count": 83,
   "id": "2a12d8a8-c8db-4732-9bca-5a7770424354",
   "metadata": {},
   "outputs": [
    {
     "data": {
      "text/plain": [
       "array([0.9 , 0.4 , 1.  , 1.  , 0.4 , 0.9 , 0.9 , 1.  , 0.84, 0.  , 0.8 ,\n",
       "       0.85, 0.4 ])"
      ]
     },
     "execution_count": 83,
     "metadata": {},
     "output_type": "execute_result"
    }
   ],
   "source": [
    "matt_new.get_ordered_category_attribute(\n",
    "    matt_new.subsec_name_waso,\n",
    "    \"dry_matter_content_as_fraction_wet_weight\",\n",
    "    return_type = np.ndarray,\n",
    ")"
   ]
  },
  {
   "cell_type": "code",
   "execution_count": 74,
   "id": "9fd535a1-c0d3-4a0d-9958-445329a8b1ac",
   "metadata": {},
   "outputs": [
    {
     "data": {
      "text/plain": [
       "'forests_mangroves'"
      ]
     },
     "execution_count": 74,
     "metadata": {},
     "output_type": "execute_result"
    }
   ],
   "source": [
    "pycat_frst = matt_new.get_subsector_attribute(\n",
    "    matt_new.subsec_name_frst, \n",
    "    \"pycategory_primary_element\"\n",
    ")\n",
    "matt_new.get_categories_from_attribute_characteristic(\n",
    "    matt_new.subsec_name_lndu,\n",
    "    {pycat_frst: f\"``mangroves``\"}\n",
    ")[0]"
   ]
  },
  {
   "cell_type": "code",
   "execution_count": 59,
   "id": "ec4016e0-d5f7-4077-8603-f639385ea94e",
   "metadata": {},
   "outputs": [
    {
     "data": {
      "text/plain": [
       "'cat_forest'"
      ]
     },
     "execution_count": 59,
     "metadata": {},
     "output_type": "execute_result"
    }
   ],
   "source": [
    "matt_new.get_subsector_attribute(\n",
    "    matt_new.subsec_name_frst,\n",
    "    \"pycategory_primary_element\"\n",
    ")"
   ]
  },
  {
   "cell_type": "code",
   "execution_count": 148,
   "id": "fd6d68ce-9f2d-402f-b3cb-5eef151dd96b",
   "metadata": {},
   "outputs": [
    {
     "data": {
      "text/plain": [
       "['ef_agrc_anaerobicdom_rice_kg_ch4_ha']"
      ]
     },
     "execution_count": 148,
     "metadata": {},
     "output_type": "execute_result"
    }
   ],
   "source": [
    "\"\"\"matt_new.assign_keys_from_attribute_fields(\n",
    "    \"Liquid Waste\",\n",
    "    \"cat_wastewater_treatment\",\n",
    "    {\n",
    "        \"Treatment Fraction\": \"treatment_fraction\"\n",
    "    },\n",
    "    \"variables\",\n",
    "    True\n",
    ")\"\"\";\n",
    "\n",
    "mov.build_fields()"
   ]
  },
  {
   "cell_type": "code",
   "execution_count": 149,
   "id": "47aa4fc3-5568-4289-8ddb-96d79e0f7e1b",
   "metadata": {},
   "outputs": [],
   "source": []
  },
  {
   "cell_type": "code",
   "execution_count": 159,
   "id": "9899642f-63de-43c3-b711-66a112eebe87",
   "metadata": {},
   "outputs": [
    {
     "data": {
      "text/plain": [
       "{'cat_landuse_dim1': ['croplands',\n",
       "  'forests_mangroves',\n",
       "  'forests_primary',\n",
       "  'forests_secondary',\n",
       "  'grasslands',\n",
       "  'other',\n",
       "  'settlements',\n",
       "  'wetlands'],\n",
       " 'cat_landuse_dim2': ['croplands',\n",
       "  'forests_mangroves',\n",
       "  'forests_primary',\n",
       "  'forests_secondary',\n",
       "  'grasslands',\n",
       "  'other',\n",
       "  'settlements',\n",
       "  'wetlands']}"
      ]
     },
     "execution_count": 159,
     "metadata": {},
     "output_type": "execute_result"
    }
   ],
   "source": [
    "mov.dict_category_keys\n"
   ]
  },
  {
   "cell_type": "code",
   "execution_count": null,
   "id": "eb8b6834-bdd3-49d8-8071-ae3266304788",
   "metadata": {},
   "outputs": [],
   "source": []
  },
  {
   "cell_type": "code",
   "execution_count": null,
   "id": "ec11b292-8ce0-4594-9595-916c074c40fe",
   "metadata": {},
   "outputs": [],
   "source": []
  },
  {
   "cell_type": "code",
   "execution_count": 746,
   "id": "a78d958b-3f0b-4189-a1b5-e06abf723172",
   "metadata": {},
   "outputs": [],
   "source": [
    "#matt_new.get_other_attribute(\"emission_gas\").attribute_table.table\n"
   ]
  },
  {
   "cell_type": "code",
   "execution_count": 747,
   "id": "4ff6f0f0-ae37-4526-b3fa-d9220a6501b3",
   "metadata": {},
   "outputs": [
    {
     "data": {
      "text/plain": [
       "18300.0"
      ]
     },
     "execution_count": 747,
     "metadata": {},
     "output_type": "execute_result"
    }
   ],
   "source": [
    "matt_new.get_gwp(\"Sulfur Hexflouride\", gwp = 20)"
   ]
  },
  {
   "cell_type": "code",
   "execution_count": 695,
   "id": "d32df4fe-2997-470b-ab18-18408eb72bbc",
   "metadata": {},
   "outputs": [
    {
     "data": {
      "text/plain": [
       "81.2"
      ]
     },
     "execution_count": 695,
     "metadata": {},
     "output_type": "execute_result"
    }
   ],
   "source": [
    "matt_new.get_subsector_attribute(matt_new.subsec_name_enfu, \"pycategory_primary\")\n",
    "units_gas = um.Units(\n",
    "    matt_new.get_other_attribute(\"emission_gas\")\n",
    ")\n",
    "\n",
    "units_gas.get_attribute(\"Methane\", \"global_warming_potential_20\")\n"
   ]
  },
  {
   "cell_type": "code",
   "execution_count": 681,
   "id": "b5051969-f266-42fd-a8a1-4aefcc73ae4d",
   "metadata": {},
   "outputs": [
    {
     "data": {
      "text/plain": [
       "{'fuel_fraction_variable_by_fuel_to_energy_efficiency_variable_by_fuel': {'SCOE Fraction Heat Energy Demand Hydrogen': 'SCOE Efficiency Factor for Heat Energy from Hydrogen',\n",
       "  'SCOE Fraction Heat Energy Demand Diesel': 'SCOE Efficiency Factor for Heat Energy from Diesel',\n",
       "  'SCOE Fraction Heat Energy Demand Coal': 'SCOE Efficiency Factor for Heat Energy from Coal',\n",
       "  'SCOE Fraction Heat Energy Demand Gasoline': 'SCOE Efficiency Factor for Heat Energy from Gasoline',\n",
       "  'SCOE Fraction Heat Energy Demand Kerosene': 'SCOE Efficiency Factor for Heat Energy from Kerosene',\n",
       "  'SCOE Fraction Heat Energy Demand Natural Gas': 'SCOE Efficiency Factor for Heat Energy from Natural Gas',\n",
       "  'SCOE Fraction Heat Energy Demand Electricity': 'SCOE Efficiency Factor for Heat Energy from Electricity',\n",
       "  'SCOE Fraction Heat Energy Demand Solid Biomass': 'SCOE Efficiency Factor for Heat Energy from Solid Biomass',\n",
       "  'SCOE Fraction Heat Energy Demand Hydrocarbon Gas Liquids': 'SCOE Efficiency Factor for Heat Energy from Hydrocarbon Gas Liquids'},\n",
       " 'energy_efficiency_variable_by_fuel_to_fuel_fraction_variable_by_fuel': {'SCOE Efficiency Factor for Heat Energy from Hydrogen': 'SCOE Fraction Heat Energy Demand Hydrogen',\n",
       "  'SCOE Efficiency Factor for Heat Energy from Diesel': 'SCOE Fraction Heat Energy Demand Diesel',\n",
       "  'SCOE Efficiency Factor for Heat Energy from Coal': 'SCOE Fraction Heat Energy Demand Coal',\n",
       "  'SCOE Efficiency Factor for Heat Energy from Gasoline': 'SCOE Fraction Heat Energy Demand Gasoline',\n",
       "  'SCOE Efficiency Factor for Heat Energy from Kerosene': 'SCOE Fraction Heat Energy Demand Kerosene',\n",
       "  'SCOE Efficiency Factor for Heat Energy from Natural Gas': 'SCOE Fraction Heat Energy Demand Natural Gas',\n",
       "  'SCOE Efficiency Factor for Heat Energy from Electricity': 'SCOE Fraction Heat Energy Demand Electricity',\n",
       "  'SCOE Efficiency Factor for Heat Energy from Solid Biomass': 'SCOE Fraction Heat Energy Demand Solid Biomass',\n",
       "  'SCOE Efficiency Factor for Heat Energy from Hydrocarbon Gas Liquids': 'SCOE Fraction Heat Energy Demand Hydrocarbon Gas Liquids'}}"
      ]
     },
     "execution_count": 681,
     "metadata": {},
     "output_type": "execute_result"
    }
   ],
   "source": [
    "cat = matt_new.get_subsector_attribute(matt_new.subsec_name_enfu, \"pycategory_primary\")\n",
    "cat = f\"cat_{cat}\"\n",
    "matt_new.get_var_dicts_by_shared_category(\n",
    "    matt_new.subsec_name_scoe,\n",
    "    cat,\n",
    "    [\"energy_efficiency_variable_by_fuel\", \"fuel_fraction_variable_by_fuel\", \"energy_demand_variable_by_fuel\"]\n",
    ")"
   ]
  },
  {
   "cell_type": "code",
   "execution_count": 678,
   "id": "3cc90d5e-0887-4690-a578-9d570e31b4ae",
   "metadata": {},
   "outputs": [
    {
     "data": {
      "text/html": [
       "<div>\n",
       "<style scoped>\n",
       "    .dataframe tbody tr th:only-of-type {\n",
       "        vertical-align: middle;\n",
       "    }\n",
       "\n",
       "    .dataframe tbody tr th {\n",
       "        vertical-align: top;\n",
       "    }\n",
       "\n",
       "    .dataframe thead th {\n",
       "        text-align: right;\n",
       "    }\n",
       "</style>\n",
       "<table border=\"1\" class=\"dataframe\">\n",
       "  <thead>\n",
       "    <tr style=\"text-align: right;\">\n",
       "      <th></th>\n",
       "      <th>variable_type</th>\n",
       "      <th>variable</th>\n",
       "      <th>information</th>\n",
       "      <th>variable_schema</th>\n",
       "      <th>categories</th>\n",
       "      <th>reference</th>\n",
       "      <th>default_value</th>\n",
       "      <th>default_lhs_scalar_minimum_at_final_time_period</th>\n",
       "      <th>default_lhs_scalar_maximum_at_final_time_period</th>\n",
       "      <th>simplex_group</th>\n",
       "      <th>abbreviation_subsector</th>\n",
       "      <th>emissions_total_by_gas_component</th>\n",
       "      <th>cat_fuel</th>\n",
       "      <th>notes</th>\n",
       "    </tr>\n",
       "  </thead>\n",
       "  <tbody>\n",
       "    <tr>\n",
       "      <th>0</th>\n",
       "      <td>Input</td>\n",
       "      <td>:math:\\text{CH}_4 Fuel Production NemoMod Emis...</td>\n",
       "      <td>| Ratio of emissions of :math:`\\text{CH}_4` to...</td>\n",
       "      <td>``nemomod_entc_emissions_activity_ratio_fuel_p...</td>\n",
       "      <td>``fp_natural_gas``|``fp_petroleum_refinement``</td>\n",
       "      <td>NaN</td>\n",
       "      <td>0</td>\n",
       "      <td>1</td>\n",
       "      <td>1</td>\n",
       "      <td>NaN</td>\n",
       "      <td>none</td>\n",
       "      <td>0</td>\n",
       "      <td>none</td>\n",
       "      <td>NaN</td>\n",
       "    </tr>\n",
       "    <tr>\n",
       "      <th>1</th>\n",
       "      <td>Input</td>\n",
       "      <td>:math:\\text{CH}_4 NemoMod EmissionsActivityRat...</td>\n",
       "      <td>Scalar applied to the stationary combustion em...</td>\n",
       "      <td>``nemomod_entc_emissions_activity_ratio_scalar...</td>\n",
       "      <td>``pp_biogas``|``pp_biomass``|``pp_coal``|``pp_...</td>\n",
       "      <td>NaN</td>\n",
       "      <td>0</td>\n",
       "      <td>1</td>\n",
       "      <td>1</td>\n",
       "      <td>NaN</td>\n",
       "      <td>none</td>\n",
       "      <td>0</td>\n",
       "      <td>none</td>\n",
       "      <td>NaN</td>\n",
       "    </tr>\n",
       "    <tr>\n",
       "      <th>2</th>\n",
       "      <td>Input</td>\n",
       "      <td>:math:\\text{CO}_2 Fuel Production NemoMod Emis...</td>\n",
       "      <td>| Ratio of emissions of :math:`\\text{CO}_2` to...</td>\n",
       "      <td>``nemomod_entc_emissions_activity_ratio_fuel_p...</td>\n",
       "      <td>``fp_hydrogen_gasification``|``fp_hydrogen_ref...</td>\n",
       "      <td>NaN</td>\n",
       "      <td>0</td>\n",
       "      <td>1</td>\n",
       "      <td>1</td>\n",
       "      <td>NaN</td>\n",
       "      <td>none</td>\n",
       "      <td>0</td>\n",
       "      <td>none</td>\n",
       "      <td>NaN</td>\n",
       "    </tr>\n",
       "    <tr>\n",
       "      <th>3</th>\n",
       "      <td>Input</td>\n",
       "      <td>:math:\\text{CO}_2 NemoMod EmissionsActivityRat...</td>\n",
       "      <td>Scalar applied to the stationary combustion em...</td>\n",
       "      <td>``nemomod_entc_emissions_activity_ratio_scalar...</td>\n",
       "      <td>``pp_biogas``|``pp_biomass``|``pp_coal``|``pp_...</td>\n",
       "      <td>NaN</td>\n",
       "      <td>0</td>\n",
       "      <td>1</td>\n",
       "      <td>1</td>\n",
       "      <td>NaN</td>\n",
       "      <td>none</td>\n",
       "      <td>0</td>\n",
       "      <td>none</td>\n",
       "      <td>NaN</td>\n",
       "    </tr>\n",
       "    <tr>\n",
       "      <th>4</th>\n",
       "      <td>Input</td>\n",
       "      <td>:math:\\text{N}_2\\text{O} Fuel Production NemoM...</td>\n",
       "      <td>| Ratio of emissions of :math:`\\text{N}_2\\text...</td>\n",
       "      <td>``nemomod_entc_emissions_activity_ratio_fuel_p...</td>\n",
       "      <td>``fp_natural_gas``|``fp_petroleum_refinement``</td>\n",
       "      <td>NaN</td>\n",
       "      <td>0</td>\n",
       "      <td>1</td>\n",
       "      <td>1</td>\n",
       "      <td>NaN</td>\n",
       "      <td>none</td>\n",
       "      <td>0</td>\n",
       "      <td>none</td>\n",
       "      <td>NaN</td>\n",
       "    </tr>\n",
       "    <tr>\n",
       "      <th>...</th>\n",
       "      <td>...</td>\n",
       "      <td>...</td>\n",
       "      <td>...</td>\n",
       "      <td>...</td>\n",
       "      <td>...</td>\n",
       "      <td>...</td>\n",
       "      <td>...</td>\n",
       "      <td>...</td>\n",
       "      <td>...</td>\n",
       "      <td>...</td>\n",
       "      <td>...</td>\n",
       "      <td>...</td>\n",
       "      <td>...</td>\n",
       "      <td>...</td>\n",
       "    </tr>\n",
       "    <tr>\n",
       "      <th>66</th>\n",
       "      <td>Output</td>\n",
       "      <td>NemoMod :math:\\text{N}_2\\text{O} Emissions fro...</td>\n",
       "      <td>Taken from NemoMod variable **vannualemissions...</td>\n",
       "      <td>``emission_co2e_$EMISSION-GAS$_entc_processing...</td>\n",
       "      <td>``fp_hydrogen_electrolysis``|``fp_hydrogen_gas...</td>\n",
       "      <td>NaN</td>\n",
       "      <td>0</td>\n",
       "      <td>1</td>\n",
       "      <td>1</td>\n",
       "      <td>NaN</td>\n",
       "      <td>none</td>\n",
       "      <td>1</td>\n",
       "      <td>none</td>\n",
       "      <td>NaN</td>\n",
       "    </tr>\n",
       "    <tr>\n",
       "      <th>67</th>\n",
       "      <td>Output</td>\n",
       "      <td>NemoMod Discounted Capital Investment</td>\n",
       "      <td>| Discounted capital investment in new genera...</td>\n",
       "      <td>``nemomod_entc_discounted_capital_investment_$...</td>\n",
       "      <td>``fp_hydrogen_electrolysis``|``fp_hydrogen_gas...</td>\n",
       "      <td>NaN</td>\n",
       "      <td>0</td>\n",
       "      <td>1</td>\n",
       "      <td>1</td>\n",
       "      <td>NaN</td>\n",
       "      <td>none</td>\n",
       "      <td>0</td>\n",
       "      <td>none</td>\n",
       "      <td>NaN</td>\n",
       "    </tr>\n",
       "    <tr>\n",
       "      <th>68</th>\n",
       "      <td>Output</td>\n",
       "      <td>NemoMod Discounted Operating Costs</td>\n",
       "      <td>| Discounted operating (fixed and variable) c...</td>\n",
       "      <td>``nemomod_entc_discounted_operating_costs_$CAT...</td>\n",
       "      <td>``fp_hydrogen_electrolysis``|``fp_hydrogen_gas...</td>\n",
       "      <td>NaN</td>\n",
       "      <td>0</td>\n",
       "      <td>1</td>\n",
       "      <td>1</td>\n",
       "      <td>NaN</td>\n",
       "      <td>none</td>\n",
       "      <td>0</td>\n",
       "      <td>none</td>\n",
       "      <td>NaN</td>\n",
       "    </tr>\n",
       "    <tr>\n",
       "      <th>69</th>\n",
       "      <td>Output</td>\n",
       "      <td>NemoMod Generation Capacity</td>\n",
       "      <td>| Total annual generation capacity (in config...</td>\n",
       "      <td>``nemomod_entc_total_annual_generation_capacit...</td>\n",
       "      <td>``pp_biogas``|``pp_biomass``|``pp_coal``|``pp_...</td>\n",
       "      <td>NaN</td>\n",
       "      <td>0</td>\n",
       "      <td>1</td>\n",
       "      <td>1</td>\n",
       "      <td>NaN</td>\n",
       "      <td>none</td>\n",
       "      <td>0</td>\n",
       "      <td>none</td>\n",
       "      <td>NaN</td>\n",
       "    </tr>\n",
       "    <tr>\n",
       "      <th>70</th>\n",
       "      <td>Output</td>\n",
       "      <td>NemoMod Production by Technology</td>\n",
       "      <td>| Production of electricity by generation tec...</td>\n",
       "      <td>``nemomod_entc_annual_production_by_technology...</td>\n",
       "      <td>``pp_biogas``|``pp_biomass``|``pp_coal``|``pp_...</td>\n",
       "      <td>NaN</td>\n",
       "      <td>0</td>\n",
       "      <td>1</td>\n",
       "      <td>1</td>\n",
       "      <td>NaN</td>\n",
       "      <td>none</td>\n",
       "      <td>0</td>\n",
       "      <td>none</td>\n",
       "      <td>NaN</td>\n",
       "    </tr>\n",
       "  </tbody>\n",
       "</table>\n",
       "<p>71 rows × 14 columns</p>\n",
       "</div>"
      ],
      "text/plain": [
       "   variable_type                                           variable  \\\n",
       "0          Input  :math:\\text{CH}_4 Fuel Production NemoMod Emis...   \n",
       "1          Input  :math:\\text{CH}_4 NemoMod EmissionsActivityRat...   \n",
       "2          Input  :math:\\text{CO}_2 Fuel Production NemoMod Emis...   \n",
       "3          Input  :math:\\text{CO}_2 NemoMod EmissionsActivityRat...   \n",
       "4          Input  :math:\\text{N}_2\\text{O} Fuel Production NemoM...   \n",
       "..           ...                                                ...   \n",
       "66        Output  NemoMod :math:\\text{N}_2\\text{O} Emissions fro...   \n",
       "67        Output              NemoMod Discounted Capital Investment   \n",
       "68        Output                 NemoMod Discounted Operating Costs   \n",
       "69        Output                        NemoMod Generation Capacity   \n",
       "70        Output                   NemoMod Production by Technology   \n",
       "\n",
       "                                          information  \\\n",
       "0   | Ratio of emissions of :math:`\\text{CH}_4` to...   \n",
       "1   Scalar applied to the stationary combustion em...   \n",
       "2   | Ratio of emissions of :math:`\\text{CO}_2` to...   \n",
       "3   Scalar applied to the stationary combustion em...   \n",
       "4   | Ratio of emissions of :math:`\\text{N}_2\\text...   \n",
       "..                                                ...   \n",
       "66  Taken from NemoMod variable **vannualemissions...   \n",
       "67   | Discounted capital investment in new genera...   \n",
       "68   | Discounted operating (fixed and variable) c...   \n",
       "69   | Total annual generation capacity (in config...   \n",
       "70   | Production of electricity by generation tec...   \n",
       "\n",
       "                                      variable_schema  \\\n",
       "0   ``nemomod_entc_emissions_activity_ratio_fuel_p...   \n",
       "1   ``nemomod_entc_emissions_activity_ratio_scalar...   \n",
       "2   ``nemomod_entc_emissions_activity_ratio_fuel_p...   \n",
       "3   ``nemomod_entc_emissions_activity_ratio_scalar...   \n",
       "4   ``nemomod_entc_emissions_activity_ratio_fuel_p...   \n",
       "..                                                ...   \n",
       "66  ``emission_co2e_$EMISSION-GAS$_entc_processing...   \n",
       "67  ``nemomod_entc_discounted_capital_investment_$...   \n",
       "68  ``nemomod_entc_discounted_operating_costs_$CAT...   \n",
       "69  ``nemomod_entc_total_annual_generation_capacit...   \n",
       "70  ``nemomod_entc_annual_production_by_technology...   \n",
       "\n",
       "                                           categories  reference  \\\n",
       "0      ``fp_natural_gas``|``fp_petroleum_refinement``        NaN   \n",
       "1   ``pp_biogas``|``pp_biomass``|``pp_coal``|``pp_...        NaN   \n",
       "2   ``fp_hydrogen_gasification``|``fp_hydrogen_ref...        NaN   \n",
       "3   ``pp_biogas``|``pp_biomass``|``pp_coal``|``pp_...        NaN   \n",
       "4      ``fp_natural_gas``|``fp_petroleum_refinement``        NaN   \n",
       "..                                                ...        ...   \n",
       "66  ``fp_hydrogen_electrolysis``|``fp_hydrogen_gas...        NaN   \n",
       "67  ``fp_hydrogen_electrolysis``|``fp_hydrogen_gas...        NaN   \n",
       "68  ``fp_hydrogen_electrolysis``|``fp_hydrogen_gas...        NaN   \n",
       "69  ``pp_biogas``|``pp_biomass``|``pp_coal``|``pp_...        NaN   \n",
       "70  ``pp_biogas``|``pp_biomass``|``pp_coal``|``pp_...        NaN   \n",
       "\n",
       "    default_value  default_lhs_scalar_minimum_at_final_time_period  \\\n",
       "0               0                                                1   \n",
       "1               0                                                1   \n",
       "2               0                                                1   \n",
       "3               0                                                1   \n",
       "4               0                                                1   \n",
       "..            ...                                              ...   \n",
       "66              0                                                1   \n",
       "67              0                                                1   \n",
       "68              0                                                1   \n",
       "69              0                                                1   \n",
       "70              0                                                1   \n",
       "\n",
       "    default_lhs_scalar_maximum_at_final_time_period  simplex_group  \\\n",
       "0                                                 1            NaN   \n",
       "1                                                 1            NaN   \n",
       "2                                                 1            NaN   \n",
       "3                                                 1            NaN   \n",
       "4                                                 1            NaN   \n",
       "..                                              ...            ...   \n",
       "66                                                1            NaN   \n",
       "67                                                1            NaN   \n",
       "68                                                1            NaN   \n",
       "69                                                1            NaN   \n",
       "70                                                1            NaN   \n",
       "\n",
       "   abbreviation_subsector  emissions_total_by_gas_component cat_fuel notes  \n",
       "0                    none                                 0     none   NaN  \n",
       "1                    none                                 0     none   NaN  \n",
       "2                    none                                 0     none   NaN  \n",
       "3                    none                                 0     none   NaN  \n",
       "4                    none                                 0     none   NaN  \n",
       "..                    ...                               ...      ...   ...  \n",
       "66                   none                                 1     none   NaN  \n",
       "67                   none                                 0     none   NaN  \n",
       "68                   none                                 0     none   NaN  \n",
       "69                   none                                 0     none   NaN  \n",
       "70                   none                                 0     none   NaN  \n",
       "\n",
       "[71 rows x 14 columns]"
      ]
     },
     "execution_count": 678,
     "metadata": {},
     "output_type": "execute_result"
    }
   ],
   "source": [
    "matt_new.get_attribute_table(\n",
    "    \"Energy Technology\", \n",
    "    table_type = \"key_variable_definitions\"\n",
    ").table\n",
    "\n"
   ]
  },
  {
   "cell_type": "code",
   "execution_count": null,
   "id": "176e0d8f-42fe-464c-b2ee-2175e8c6d65e",
   "metadata": {
    "tags": []
   },
   "outputs": [],
   "source": []
  },
  {
   "cell_type": "code",
   "execution_count": null,
   "id": "c1f22420-28de-4d8d-bbcc-7d1d42b397db",
   "metadata": {
    "tags": []
   },
   "outputs": [],
   "source": []
  },
  {
   "cell_type": "code",
   "execution_count": null,
   "id": "c9c8ec84-808e-44ee-8866-0bcbaef41453",
   "metadata": {
    "tags": []
   },
   "outputs": [],
   "source": []
  },
  {
   "cell_type": "code",
   "execution_count": null,
   "id": "8ac34c47-683e-4f4b-ba66-076066a6d881",
   "metadata": {},
   "outputs": [],
   "source": []
  },
  {
   "cell_type": "code",
   "execution_count": 593,
   "id": "d3304114-e001-42f3-bcb6-15ff2923a04f",
   "metadata": {},
   "outputs": [
    {
     "data": {
      "text/plain": [
       "1.0"
      ]
     },
     "execution_count": 593,
     "metadata": {},
     "output_type": "execute_result"
    }
   ],
   "source": [
    "matt_new.configuration.get(\"area_units\") \n",
    "matt_new.get_volume_equivalent(\"m3\")"
   ]
  },
  {
   "cell_type": "code",
   "execution_count": 570,
   "id": "2f0b7bae-4ade-4f4c-be43-9a0953b7ab8c",
   "metadata": {
    "tags": []
   },
   "outputs": [
    {
     "data": {
      "text/plain": [
       "\u001b[0;31mSignature:\u001b[0m \u001b[0msf\u001b[0m\u001b[0;34m.\u001b[0m\u001b[0mformat_print_list\u001b[0m\u001b[0;34m(\u001b[0m\u001b[0mlist_in\u001b[0m\u001b[0;34m:\u001b[0m \u001b[0mlist\u001b[0m\u001b[0;34m,\u001b[0m \u001b[0mdelim\u001b[0m\u001b[0;34m=\u001b[0m\u001b[0;34m','\u001b[0m\u001b[0;34m)\u001b[0m \u001b[0;34m->\u001b[0m \u001b[0mstr\u001b[0m\u001b[0;34m\u001b[0m\u001b[0;34m\u001b[0m\u001b[0m\n",
       "\u001b[0;31mDocstring:\u001b[0m Print (as string) values of list_in to string separated by `delim`\n",
       "\u001b[0;31mFile:\u001b[0m      ~/Documents/Projects/git_jbus/sisepuede/python/support_functions.py\n",
       "\u001b[0;31mType:\u001b[0m      function\n"
      ]
     },
     "metadata": {},
     "output_type": "display_data"
    }
   ],
   "source": [
    "#matt_new.get_unit(\"monetary\").convert(\"mm_usd\", \"mmm_usd\")\n",
    "unit_energy.attribute_table.table\n",
    "?sf.format_print_list"
   ]
  },
  {
   "cell_type": "code",
   "execution_count": 440,
   "id": "b5479254-e7a6-4269-9fae-21d38c3ee120",
   "metadata": {},
   "outputs": [
    {
     "data": {
      "text/html": [
       "<div>\n",
       "<style scoped>\n",
       "    .dataframe tbody tr th:only-of-type {\n",
       "        vertical-align: middle;\n",
       "    }\n",
       "\n",
       "    .dataframe tbody tr th {\n",
       "        vertical-align: top;\n",
       "    }\n",
       "\n",
       "    .dataframe thead th {\n",
       "        text-align: right;\n",
       "    }\n",
       "</style>\n",
       "<table border=\"1\" class=\"dataframe\">\n",
       "  <thead>\n",
       "    <tr style=\"text-align: right;\">\n",
       "      <th></th>\n",
       "      <th>gas</th>\n",
       "      <th>emission_gas</th>\n",
       "      <th>name</th>\n",
       "      <th>global_warming_potential_20</th>\n",
       "      <th>global_warming_potential_100</th>\n",
       "      <th>global_warming_potential_500</th>\n",
       "      <th>source</th>\n",
       "      <th>flourinated_compound_designation</th>\n",
       "    </tr>\n",
       "  </thead>\n",
       "  <tbody>\n",
       "    <tr>\n",
       "      <th>0</th>\n",
       "      <td>:math:`\\text{CH}_4`</td>\n",
       "      <td>ch4</td>\n",
       "      <td>Methane</td>\n",
       "      <td>81.2</td>\n",
       "      <td>27.9</td>\n",
       "      <td>7.95</td>\n",
       "      <td>IPCC AR6</td>\n",
       "      <td>none</td>\n",
       "    </tr>\n",
       "    <tr>\n",
       "      <th>1</th>\n",
       "      <td>:math:`\\text{CO}_2`</td>\n",
       "      <td>co2</td>\n",
       "      <td>Carbon Dioxide</td>\n",
       "      <td>1.0</td>\n",
       "      <td>1.0</td>\n",
       "      <td>1.00</td>\n",
       "      <td>IPCC AR6</td>\n",
       "      <td>none</td>\n",
       "    </tr>\n",
       "    <tr>\n",
       "      <th>2</th>\n",
       "      <td>:math:`\\text{N}_2\\text{O}`</td>\n",
       "      <td>n2o</td>\n",
       "      <td>Nitrus Oxide</td>\n",
       "      <td>273.0</td>\n",
       "      <td>273.0</td>\n",
       "      <td>130.00</td>\n",
       "      <td>IPCC AR6</td>\n",
       "      <td>none</td>\n",
       "    </tr>\n",
       "    <tr>\n",
       "      <th>3</th>\n",
       "      <td>:math:`\\text{NF}_3`</td>\n",
       "      <td>nf3</td>\n",
       "      <td>Nitrogen Trifluoride</td>\n",
       "      <td>13400.0</td>\n",
       "      <td>17400.0</td>\n",
       "      <td>18200.00</td>\n",
       "      <td>IPCC AR6</td>\n",
       "      <td>Other FC</td>\n",
       "    </tr>\n",
       "    <tr>\n",
       "      <th>4</th>\n",
       "      <td>:math:`\\text{SF}_6`</td>\n",
       "      <td>sf6</td>\n",
       "      <td>Sulfur Hexflouride</td>\n",
       "      <td>18300.0</td>\n",
       "      <td>25200.0</td>\n",
       "      <td>34100.00</td>\n",
       "      <td>IPCC AR6</td>\n",
       "      <td>Other FC</td>\n",
       "    </tr>\n",
       "  </tbody>\n",
       "</table>\n",
       "</div>"
      ],
      "text/plain": [
       "                          gas emission_gas                  name  \\\n",
       "0         :math:`\\text{CH}_4`          ch4               Methane   \n",
       "1         :math:`\\text{CO}_2`          co2        Carbon Dioxide   \n",
       "2  :math:`\\text{N}_2\\text{O}`          n2o          Nitrus Oxide   \n",
       "3         :math:`\\text{NF}_3`          nf3  Nitrogen Trifluoride   \n",
       "4         :math:`\\text{SF}_6`          sf6    Sulfur Hexflouride   \n",
       "\n",
       "   global_warming_potential_20  global_warming_potential_100  \\\n",
       "0                         81.2                          27.9   \n",
       "1                          1.0                           1.0   \n",
       "2                        273.0                         273.0   \n",
       "3                      13400.0                       17400.0   \n",
       "4                      18300.0                       25200.0   \n",
       "\n",
       "   global_warming_potential_500    source flourinated_compound_designation  \n",
       "0                          7.95  IPCC AR6                             none  \n",
       "1                          1.00  IPCC AR6                             none  \n",
       "2                        130.00  IPCC AR6                             none  \n",
       "3                      18200.00  IPCC AR6                         Other FC  \n",
       "4                      34100.00  IPCC AR6                         Other FC  "
      ]
     },
     "execution_count": 440,
     "metadata": {},
     "output_type": "execute_result"
    }
   ],
   "source": [
    "#matt_new.get_other_attribute(\"region\").table\n",
    "matt_new.get_other_attribute(\"emission_gas\").table.head()"
   ]
  },
  {
   "cell_type": "code",
   "execution_count": 505,
   "id": "d45ac56d-0360-4d76-b7c7-406c49bc48c3",
   "metadata": {
    "tags": []
   },
   "outputs": [
    {
     "data": {
      "text/plain": [
       "'mw'"
      ]
     },
     "execution_count": 505,
     "metadata": {},
     "output_type": "execute_result"
    }
   ],
   "source": [
    "#matt_new.get_unit(\"energy\").convert(\"kWh\", \"GJ\")\n",
    "unit_energy = matt_new.get_unit(\"energy\")\n",
    "unit_power = matt_new.get_unit(\"power\")\n",
    "\n",
    "input_unit = \"mw\"\n",
    "units = unit_energy.get_unit_key(input_unit)\n",
    "units = unit_power.get_unit_key(input_unit)\n",
    "units\n"
   ]
  },
  {
   "cell_type": "code",
   "execution_count": 474,
   "id": "0817bb00-9056-42d4-918f-8e28b0fcc574",
   "metadata": {},
   "outputs": [
    {
     "data": {
      "text/plain": [
       "'``kw``'"
      ]
     },
     "execution_count": 474,
     "metadata": {},
     "output_type": "execute_result"
    }
   ],
   "source": [
    "unit_energy.get_attribute(\"kWh\", \"hourly_unit_power_equivalent\")"
   ]
  },
  {
   "cell_type": "code",
   "execution_count": 480,
   "id": "511a7ae7-d9bf-4755-a849-9bad2011f89d",
   "metadata": {},
   "outputs": [
    {
     "data": {
      "text/plain": [
       "'mwy'"
      ]
     },
     "execution_count": 480,
     "metadata": {},
     "output_type": "execute_result"
    }
   ],
   "source": [
    "mv.clean_element(\n",
    "    unit_power.get_attribute(\"MW\", \"annualized_unit_energy_equivalent\")\n",
    ")\n"
   ]
  },
  {
   "cell_type": "code",
   "execution_count": 459,
   "id": "d2d5e671-f67f-456d-aba6-40a916968df4",
   "metadata": {
    "tags": []
   },
   "outputs": [],
   "source": [
    "#matt_new.get_unit(\"energy\").attribute_table.table\n",
    "matt_new.get_unit(\"energy\").get_unit_key(modvar)"
   ]
  },
  {
   "cell_type": "code",
   "execution_count": 473,
   "id": "a6d2d1b4-c911-40e0-a7f8-c5fc85370f96",
   "metadata": {},
   "outputs": [
    {
     "data": {
      "text/html": [
       "<div>\n",
       "<style scoped>\n",
       "    .dataframe tbody tr th:only-of-type {\n",
       "        vertical-align: middle;\n",
       "    }\n",
       "\n",
       "    .dataframe tbody tr th {\n",
       "        vertical-align: top;\n",
       "    }\n",
       "\n",
       "    .dataframe thead th {\n",
       "        text-align: right;\n",
       "    }\n",
       "</style>\n",
       "<table border=\"1\" class=\"dataframe\">\n",
       "  <thead>\n",
       "    <tr style=\"text-align: right;\">\n",
       "      <th></th>\n",
       "      <th>energy</th>\n",
       "      <th>unit_energy</th>\n",
       "      <th>hourly_unit_power_equivalent</th>\n",
       "      <th>annualized_unit_power_equivalent</th>\n",
       "      <th>name</th>\n",
       "      <th>energy_equivalent_kj</th>\n",
       "      <th>energy_equivalent_btu</th>\n",
       "      <th>energy_equivalent_mj</th>\n",
       "      <th>energy_equivalent_mbtu</th>\n",
       "      <th>energy_equivalent_kwh</th>\n",
       "      <th>energy_equivalent_gj</th>\n",
       "      <th>energy_equivalent_mmbtu</th>\n",
       "      <th>energy_equivalent_mwh</th>\n",
       "      <th>energy_equivalent_tj</th>\n",
       "      <th>energy_equivalent_mwy</th>\n",
       "      <th>energy_equivalent_pj</th>\n",
       "      <th>energy_equivalent_gwy</th>\n",
       "    </tr>\n",
       "  </thead>\n",
       "  <tbody>\n",
       "    <tr>\n",
       "      <th>0</th>\n",
       "      <td>kJ</td>\n",
       "      <td>kj</td>\n",
       "      <td>none</td>\n",
       "      <td>none</td>\n",
       "      <td>Kilojoule</td>\n",
       "      <td>1.000000e+00</td>\n",
       "      <td>9.478134e-01</td>\n",
       "      <td>1.000000e-03</td>\n",
       "      <td>9.500000e-04</td>\n",
       "      <td>2.777780e-04</td>\n",
       "      <td>1.000000e-06</td>\n",
       "      <td>9.480000e-07</td>\n",
       "      <td>2.780000e-07</td>\n",
       "      <td>1.000000e-09</td>\n",
       "      <td>3.170000e-11</td>\n",
       "      <td>1.000000e-12</td>\n",
       "      <td>3.170000e-14</td>\n",
       "    </tr>\n",
       "    <tr>\n",
       "      <th>1</th>\n",
       "      <td>BTU</td>\n",
       "      <td>btu</td>\n",
       "      <td>none</td>\n",
       "      <td>none</td>\n",
       "      <td>British Thermal Unit</td>\n",
       "      <td>1.055060e+00</td>\n",
       "      <td>1.000000e+00</td>\n",
       "      <td>1.055060e-03</td>\n",
       "      <td>1.000000e-03</td>\n",
       "      <td>2.930710e-04</td>\n",
       "      <td>1.060000e-06</td>\n",
       "      <td>1.000000e-06</td>\n",
       "      <td>2.930710e-07</td>\n",
       "      <td>1.060000e-09</td>\n",
       "      <td>3.340000e-11</td>\n",
       "      <td>1.060000e-12</td>\n",
       "      <td>3.340000e-14</td>\n",
       "    </tr>\n",
       "    <tr>\n",
       "      <th>2</th>\n",
       "      <td>MJ</td>\n",
       "      <td>mj</td>\n",
       "      <td>none</td>\n",
       "      <td>none</td>\n",
       "      <td>Megajoule</td>\n",
       "      <td>1.000000e+03</td>\n",
       "      <td>9.478134e+02</td>\n",
       "      <td>1.000000e+00</td>\n",
       "      <td>9.500000e-01</td>\n",
       "      <td>2.777778e-01</td>\n",
       "      <td>1.000000e-03</td>\n",
       "      <td>9.478130e-04</td>\n",
       "      <td>2.780000e-04</td>\n",
       "      <td>1.000000e-06</td>\n",
       "      <td>3.170000e-08</td>\n",
       "      <td>1.000000e-09</td>\n",
       "      <td>3.170000e-11</td>\n",
       "    </tr>\n",
       "    <tr>\n",
       "      <th>3</th>\n",
       "      <td>MBTU</td>\n",
       "      <td>mbtu</td>\n",
       "      <td>none</td>\n",
       "      <td>none</td>\n",
       "      <td>Thousand British Thermal Unit</td>\n",
       "      <td>1.055060e+03</td>\n",
       "      <td>1.000000e+03</td>\n",
       "      <td>1.055060e+00</td>\n",
       "      <td>1.000000e+00</td>\n",
       "      <td>2.930722e-01</td>\n",
       "      <td>1.055060e-03</td>\n",
       "      <td>1.000000e-03</td>\n",
       "      <td>2.930000e-04</td>\n",
       "      <td>1.060000e-06</td>\n",
       "      <td>3.340000e-08</td>\n",
       "      <td>1.060000e-09</td>\n",
       "      <td>3.340000e-11</td>\n",
       "    </tr>\n",
       "    <tr>\n",
       "      <th>4</th>\n",
       "      <td>kWh</td>\n",
       "      <td>kwh</td>\n",
       "      <td>``kw``</td>\n",
       "      <td>none</td>\n",
       "      <td>Kilowatt-hour</td>\n",
       "      <td>3.600000e+03</td>\n",
       "      <td>3.412128e+03</td>\n",
       "      <td>3.600000e+00</td>\n",
       "      <td>3.410000e+00</td>\n",
       "      <td>1.000000e+00</td>\n",
       "      <td>3.600000e-03</td>\n",
       "      <td>3.412128e-03</td>\n",
       "      <td>1.000000e-03</td>\n",
       "      <td>3.600000e-06</td>\n",
       "      <td>1.140000e-07</td>\n",
       "      <td>3.600000e-09</td>\n",
       "      <td>1.140000e-10</td>\n",
       "    </tr>\n",
       "    <tr>\n",
       "      <th>5</th>\n",
       "      <td>GJ</td>\n",
       "      <td>gj</td>\n",
       "      <td>none</td>\n",
       "      <td>none</td>\n",
       "      <td>Gigajoule</td>\n",
       "      <td>1.000000e+06</td>\n",
       "      <td>9.478134e+05</td>\n",
       "      <td>1.000000e+03</td>\n",
       "      <td>9.478100e+02</td>\n",
       "      <td>2.777778e+02</td>\n",
       "      <td>1.000000e+00</td>\n",
       "      <td>9.478134e-01</td>\n",
       "      <td>2.780000e-01</td>\n",
       "      <td>1.000000e-03</td>\n",
       "      <td>3.170000e-05</td>\n",
       "      <td>1.000000e-06</td>\n",
       "      <td>3.170000e-08</td>\n",
       "    </tr>\n",
       "    <tr>\n",
       "      <th>6</th>\n",
       "      <td>MMBTU</td>\n",
       "      <td>mmbtu</td>\n",
       "      <td>none</td>\n",
       "      <td>none</td>\n",
       "      <td>Million British Thermal Unit</td>\n",
       "      <td>1.055060e+06</td>\n",
       "      <td>1.000000e+06</td>\n",
       "      <td>1.055060e+03</td>\n",
       "      <td>1.000000e+03</td>\n",
       "      <td>2.930722e+02</td>\n",
       "      <td>1.055060e+00</td>\n",
       "      <td>1.000000e+00</td>\n",
       "      <td>2.930000e-01</td>\n",
       "      <td>1.055060e-03</td>\n",
       "      <td>3.340000e-05</td>\n",
       "      <td>1.060000e-06</td>\n",
       "      <td>3.340000e-08</td>\n",
       "    </tr>\n",
       "    <tr>\n",
       "      <th>7</th>\n",
       "      <td>MWh</td>\n",
       "      <td>mwh</td>\n",
       "      <td>``mw``</td>\n",
       "      <td>none</td>\n",
       "      <td>Megawatt-hour</td>\n",
       "      <td>3.600000e+06</td>\n",
       "      <td>3.412128e+06</td>\n",
       "      <td>3.600000e+03</td>\n",
       "      <td>3.412130e+03</td>\n",
       "      <td>1.000000e+03</td>\n",
       "      <td>3.600000e+00</td>\n",
       "      <td>3.412128e+00</td>\n",
       "      <td>1.000000e+00</td>\n",
       "      <td>3.600000e-03</td>\n",
       "      <td>1.140770e-04</td>\n",
       "      <td>3.600000e-06</td>\n",
       "      <td>1.140000e-07</td>\n",
       "    </tr>\n",
       "    <tr>\n",
       "      <th>8</th>\n",
       "      <td>TJ</td>\n",
       "      <td>tj</td>\n",
       "      <td>none</td>\n",
       "      <td>none</td>\n",
       "      <td>Terajoule</td>\n",
       "      <td>1.000000e+09</td>\n",
       "      <td>9.478134e+08</td>\n",
       "      <td>1.000000e+06</td>\n",
       "      <td>9.478134e+05</td>\n",
       "      <td>2.777778e+05</td>\n",
       "      <td>1.000000e+03</td>\n",
       "      <td>9.478134e+02</td>\n",
       "      <td>2.780000e+02</td>\n",
       "      <td>1.000000e+00</td>\n",
       "      <td>3.168809e-02</td>\n",
       "      <td>1.000000e-03</td>\n",
       "      <td>3.170000e-05</td>\n",
       "    </tr>\n",
       "    <tr>\n",
       "      <th>9</th>\n",
       "      <td>MWy</td>\n",
       "      <td>mwy</td>\n",
       "      <td>none</td>\n",
       "      <td>``mw``</td>\n",
       "      <td>Megawatt-year</td>\n",
       "      <td>3.155760e+10</td>\n",
       "      <td>2.991072e+10</td>\n",
       "      <td>3.160000e+07</td>\n",
       "      <td>2.991072e+07</td>\n",
       "      <td>8.766000e+06</td>\n",
       "      <td>3.155760e+04</td>\n",
       "      <td>2.991072e+04</td>\n",
       "      <td>8.770000e+03</td>\n",
       "      <td>3.155760e+01</td>\n",
       "      <td>1.000000e+00</td>\n",
       "      <td>3.155760e-02</td>\n",
       "      <td>1.000000e-03</td>\n",
       "    </tr>\n",
       "    <tr>\n",
       "      <th>10</th>\n",
       "      <td>PJ</td>\n",
       "      <td>pj</td>\n",
       "      <td>none</td>\n",
       "      <td>none</td>\n",
       "      <td>Petajoule</td>\n",
       "      <td>1.000000e+12</td>\n",
       "      <td>9.480000e+11</td>\n",
       "      <td>1.000000e+09</td>\n",
       "      <td>9.480000e+08</td>\n",
       "      <td>2.777778e+08</td>\n",
       "      <td>1.000000e+06</td>\n",
       "      <td>9.480000e+05</td>\n",
       "      <td>2.780000e+05</td>\n",
       "      <td>1.000000e+03</td>\n",
       "      <td>3.168809e+01</td>\n",
       "      <td>1.000000e+00</td>\n",
       "      <td>3.168809e-02</td>\n",
       "    </tr>\n",
       "    <tr>\n",
       "      <th>11</th>\n",
       "      <td>GWy</td>\n",
       "      <td>gwy</td>\n",
       "      <td>none</td>\n",
       "      <td>``gw``</td>\n",
       "      <td>Gigawatt-year</td>\n",
       "      <td>3.160000e+13</td>\n",
       "      <td>2.990000e+13</td>\n",
       "      <td>3.155760e+10</td>\n",
       "      <td>2.990000e+10</td>\n",
       "      <td>8.766000e+09</td>\n",
       "      <td>3.155760e+07</td>\n",
       "      <td>2.990000e+07</td>\n",
       "      <td>8.770000e+06</td>\n",
       "      <td>3.155760e+04</td>\n",
       "      <td>1.000000e+03</td>\n",
       "      <td>3.155760e+01</td>\n",
       "      <td>1.000000e+00</td>\n",
       "    </tr>\n",
       "  </tbody>\n",
       "</table>\n",
       "</div>"
      ],
      "text/plain": [
       "   energy unit_energy hourly_unit_power_equivalent  \\\n",
       "0      kJ          kj                         none   \n",
       "1     BTU         btu                         none   \n",
       "2      MJ          mj                         none   \n",
       "3    MBTU        mbtu                         none   \n",
       "4     kWh         kwh                       ``kw``   \n",
       "5      GJ          gj                         none   \n",
       "6   MMBTU       mmbtu                         none   \n",
       "7     MWh         mwh                       ``mw``   \n",
       "8      TJ          tj                         none   \n",
       "9     MWy         mwy                         none   \n",
       "10     PJ          pj                         none   \n",
       "11    GWy         gwy                         none   \n",
       "\n",
       "   annualized_unit_power_equivalent                           name  \\\n",
       "0                              none                      Kilojoule   \n",
       "1                              none           British Thermal Unit   \n",
       "2                              none                      Megajoule   \n",
       "3                              none  Thousand British Thermal Unit   \n",
       "4                              none                  Kilowatt-hour   \n",
       "5                              none                      Gigajoule   \n",
       "6                              none   Million British Thermal Unit   \n",
       "7                              none                  Megawatt-hour   \n",
       "8                              none                      Terajoule   \n",
       "9                            ``mw``                  Megawatt-year   \n",
       "10                             none                      Petajoule   \n",
       "11                           ``gw``                  Gigawatt-year   \n",
       "\n",
       "    energy_equivalent_kj  energy_equivalent_btu  energy_equivalent_mj  \\\n",
       "0           1.000000e+00           9.478134e-01          1.000000e-03   \n",
       "1           1.055060e+00           1.000000e+00          1.055060e-03   \n",
       "2           1.000000e+03           9.478134e+02          1.000000e+00   \n",
       "3           1.055060e+03           1.000000e+03          1.055060e+00   \n",
       "4           3.600000e+03           3.412128e+03          3.600000e+00   \n",
       "5           1.000000e+06           9.478134e+05          1.000000e+03   \n",
       "6           1.055060e+06           1.000000e+06          1.055060e+03   \n",
       "7           3.600000e+06           3.412128e+06          3.600000e+03   \n",
       "8           1.000000e+09           9.478134e+08          1.000000e+06   \n",
       "9           3.155760e+10           2.991072e+10          3.160000e+07   \n",
       "10          1.000000e+12           9.480000e+11          1.000000e+09   \n",
       "11          3.160000e+13           2.990000e+13          3.155760e+10   \n",
       "\n",
       "    energy_equivalent_mbtu  energy_equivalent_kwh  energy_equivalent_gj  \\\n",
       "0             9.500000e-04           2.777780e-04          1.000000e-06   \n",
       "1             1.000000e-03           2.930710e-04          1.060000e-06   \n",
       "2             9.500000e-01           2.777778e-01          1.000000e-03   \n",
       "3             1.000000e+00           2.930722e-01          1.055060e-03   \n",
       "4             3.410000e+00           1.000000e+00          3.600000e-03   \n",
       "5             9.478100e+02           2.777778e+02          1.000000e+00   \n",
       "6             1.000000e+03           2.930722e+02          1.055060e+00   \n",
       "7             3.412130e+03           1.000000e+03          3.600000e+00   \n",
       "8             9.478134e+05           2.777778e+05          1.000000e+03   \n",
       "9             2.991072e+07           8.766000e+06          3.155760e+04   \n",
       "10            9.480000e+08           2.777778e+08          1.000000e+06   \n",
       "11            2.990000e+10           8.766000e+09          3.155760e+07   \n",
       "\n",
       "    energy_equivalent_mmbtu  energy_equivalent_mwh  energy_equivalent_tj  \\\n",
       "0              9.480000e-07           2.780000e-07          1.000000e-09   \n",
       "1              1.000000e-06           2.930710e-07          1.060000e-09   \n",
       "2              9.478130e-04           2.780000e-04          1.000000e-06   \n",
       "3              1.000000e-03           2.930000e-04          1.060000e-06   \n",
       "4              3.412128e-03           1.000000e-03          3.600000e-06   \n",
       "5              9.478134e-01           2.780000e-01          1.000000e-03   \n",
       "6              1.000000e+00           2.930000e-01          1.055060e-03   \n",
       "7              3.412128e+00           1.000000e+00          3.600000e-03   \n",
       "8              9.478134e+02           2.780000e+02          1.000000e+00   \n",
       "9              2.991072e+04           8.770000e+03          3.155760e+01   \n",
       "10             9.480000e+05           2.780000e+05          1.000000e+03   \n",
       "11             2.990000e+07           8.770000e+06          3.155760e+04   \n",
       "\n",
       "    energy_equivalent_mwy  energy_equivalent_pj  energy_equivalent_gwy  \n",
       "0            3.170000e-11          1.000000e-12           3.170000e-14  \n",
       "1            3.340000e-11          1.060000e-12           3.340000e-14  \n",
       "2            3.170000e-08          1.000000e-09           3.170000e-11  \n",
       "3            3.340000e-08          1.060000e-09           3.340000e-11  \n",
       "4            1.140000e-07          3.600000e-09           1.140000e-10  \n",
       "5            3.170000e-05          1.000000e-06           3.170000e-08  \n",
       "6            3.340000e-05          1.060000e-06           3.340000e-08  \n",
       "7            1.140770e-04          3.600000e-06           1.140000e-07  \n",
       "8            3.168809e-02          1.000000e-03           3.170000e-05  \n",
       "9            1.000000e+00          3.155760e-02           1.000000e-03  \n",
       "10           3.168809e+01          1.000000e+00           3.168809e-02  \n",
       "11           1.000000e+03          3.155760e+01           1.000000e+00  "
      ]
     },
     "execution_count": 473,
     "metadata": {},
     "output_type": "execute_result"
    }
   ],
   "source": [
    "#sa.model_attributes.get_energy_power_swap(\"MW\")\n",
    "unit_energy.attribute_table.table"
   ]
  },
  {
   "cell_type": "code",
   "execution_count": 419,
   "id": "1c7dc502-3b2d-43fc-b3a1-dce8f231b0dd",
   "metadata": {},
   "outputs": [
    {
     "data": {
      "text/plain": [
       "'CH4_STATIONARY_COMBUSTION_EMISSION_FACTOR'"
      ]
     },
     "execution_count": 419,
     "metadata": {},
     "output_type": "execute_result"
    }
   ],
   "source": [
    "modvar = matt_new.dict_variables.get(\"Unadjusted Land Use Transition Probability\")\n",
    "modvar = matt_new.dict_variables.get(\":math:\\\\text{CH}_4 Stationary Combustion Emission Factor\")\n",
    "\n",
    "#modvar.attribute(\"unit_mass\")\n",
    "modvar.attribute(\"unit_area\")\n",
    "modvar.name_fs_safe.upper()\n"
   ]
  },
  {
   "cell_type": "code",
   "execution_count": 66,
   "id": "1a85a465-101f-4bad-a073-a8b6062a27d2",
   "metadata": {
    "tags": []
   },
   "outputs": [],
   "source": [
    "for k, v in matt_new.dict_attributes.get(\"unit\").items():\n",
    "    print(v.key)\n",
    "    print(v.table.dtypes)\n",
    "    print(\"\\n\")\n"
   ]
  },
  {
   "cell_type": "code",
   "execution_count": 90,
   "id": "a5d87cb2-2aee-4718-8bdd-25e47d40e427",
   "metadata": {},
   "outputs": [
    {
     "data": {
      "text/plain": [
       "['area', 'unit_area', 'name']"
      ]
     },
     "execution_count": 90,
     "metadata": {},
     "output_type": "execute_result"
    }
   ],
   "source": [
    "#import units_manager as um\n",
    "attr = matt_new.dict_attributes.get(\"unit\").get(\"area\")\n",
    "\n",
    "fields_avail = [\n",
    "    x for x in attr.table.columns\n",
    "    if attr.table[x].dtype not in [\"float64\", \"int64\"]\n",
    "]\n",
    "fields_avail"
   ]
  },
  {
   "cell_type": "code",
   "execution_count": 199,
   "id": "a4697295-6307-4cff-908c-4dd520c25e1e",
   "metadata": {
    "tags": []
   },
   "outputs": [
    {
     "data": {
      "text/plain": [
       "'gj'"
      ]
     },
     "execution_count": 199,
     "metadata": {},
     "output_type": "execute_result"
    }
   ],
   "source": [
    "importlib.reload(um)\n",
    "attr = matt_new.dict_attributes.get(\"unit\").get(\"energy\")\n",
    "unit = um.Units(\n",
    "    attr,\n",
    "    key_prependage = \"unit_\",\n",
    ")\n",
    "unit.key\n",
    "\n",
    "#attr.table\n",
    "unit.get_unit_key(\"GJ\")"
   ]
  },
  {
   "cell_type": "code",
   "execution_count": null,
   "id": "29ccba93-7e7f-48bc-b6a8-8fe3953eaba3",
   "metadata": {},
   "outputs": [],
   "source": []
  },
  {
   "cell_type": "code",
   "execution_count": 212,
   "id": "98774b4a-5926-43cf-b8a6-0ee40bc98f27",
   "metadata": {},
   "outputs": [],
   "source": []
  },
  {
   "cell_type": "code",
   "execution_count": null,
   "id": "032c83c9-1ce5-4656-a6b3-6765a49ce5b0",
   "metadata": {},
   "outputs": [],
   "source": []
  },
  {
   "cell_type": "code",
   "execution_count": null,
   "id": "9ce99240-bcd1-45b9-9d34-98ae48fe920e",
   "metadata": {},
   "outputs": [],
   "source": []
  },
  {
   "cell_type": "code",
   "execution_count": 5,
   "id": "c636df7e-d15f-480a-83bf-544f079c3c7e",
   "metadata": {
    "tags": []
   },
   "outputs": [
    {
     "data": {
      "text/plain": [
       "['cat_industry_dim1', 'cat_industry_dim2', 'cat_transportation']"
      ]
     },
     "execution_count": 5,
     "metadata": {},
     "output_type": "execute_result"
    }
   ],
   "source": [
    "importlib.reload(sf)\n",
    "importlib.reload(mv)\n",
    "import time\n",
    "\n",
    "\n",
    "t0 = time.time()\n",
    "#modvar = mv.ModelVariable(\n",
    "#    attr_vars.table.iloc[2],\n",
    "#    sa.model_attributes.dict_attributes,\n",
    "#)\n",
    "t1 = time.time()\n",
    "\n",
    "\"\"\"\n",
    "vs = mv.VariableSchema(\n",
    "    modvar.dict_varinfo.get(\"variable_schema\")\n",
    ")\n",
    "vs.mutable_elements_clean_ordered\n",
    "vs.replace({\"cat_industry\": \"cement\"}, keys_are_clean = True,)\n",
    "\"\"\";\n",
    "\n",
    "#modvar.dict_varinfo\n",
    "#modvar.dict_varinfo\n",
    "\n",
    "\n",
    "\n",
    "\n",
    "\n",
    "series = attr_vars.table.iloc[2].copy()\n",
    "series[\"variable_schema\"] = \"``ef_ippu_$UNIT-MASS$_$EMISSION-GAS$_per_$UNIT-MASS$_product_use_$CAT-INDUSTRY-DIM1$_$CAT-INDUSTRY-DIM2$_$CAT-TRANSPORTATION$`` (``$UNIT-MASS$ = tonne``, ``$EMISSION-GAS$ = co2``\"\n",
    "series[\"categories\"] = \"(``$CAT-INDUSTRY_DIM2$ = paper|cement|plastic``, ``$CAT-INDUSTRY-DIM1$ = product_use_lubricants|product_use_paraffin_wax|cement|plastic``, ``$CAT-TRANSPORTATION$ = aviation|rail_freight|dymm``)\"\n",
    "series[\"default_value\"] = 0.0\n",
    "#series[\"categories\"] = \"(``$CAT-INDUSTRY$ = all``, ``$CAT-TRANSPORTATION$ = aviation|rail_freight|dymm``)\"\n",
    "\n",
    "#series[\"variable_schema\"] = \"pij_$CAT-LANDUSE-DIM1$_to_$CAT-LANDUSE-DIM2$\"\n",
    "#series[\"categories\"] = \"all\"\n",
    "\n",
    "modvar = mv.ModelVariable(\n",
    "    series,\n",
    "    sa.model_attributes.dict_attributes,\n",
    ")\n",
    "\n",
    "\n",
    "\n",
    "\n",
    "\n",
    "# get_root_element(\"CAT-INDUSTRY-DIM4\")\n",
    "#modvar.schema.get_root_element(\"cat_industry_dim3\")\n",
    "# modvar.schema.mutable_elements_clean_ordered\n",
    "modvar.dict_category_keys\n",
    "modvar.schema.mutable_elements_clean_ordered\n",
    "\n",
    "\n",
    "\n"
   ]
  },
  {
   "cell_type": "code",
   "execution_count": null,
   "id": "39e1a5f5-5c46-49f5-b874-ff174abd5c5a",
   "metadata": {},
   "outputs": [],
   "source": []
  },
  {
   "cell_type": "code",
   "execution_count": 1132,
   "id": "fc4554e3-1aad-4d57-b531-19041dc3a704",
   "metadata": {
    "tags": []
   },
   "outputs": [
    {
     "data": {
      "text/plain": [
       "('temp_gr',)"
      ]
     },
     "execution_count": 1132,
     "metadata": {},
     "output_type": "execute_result"
    }
   ],
   "source": [
    "regex_at = re.compile(\"attribute_unit_(.*).csv\")\n",
    "regex_at.match(\"attribute_unit_temp_gr.csv\").groups()\n",
    "\n"
   ]
  },
  {
   "cell_type": "code",
   "execution_count": 1138,
   "id": "ef134b4f-4ef2-46a3-b070-ce08766310b7",
   "metadata": {},
   "outputs": [
    {
     "data": {
      "text/html": [
       "<div>\n",
       "<style scoped>\n",
       "    .dataframe tbody tr th:only-of-type {\n",
       "        vertical-align: middle;\n",
       "    }\n",
       "\n",
       "    .dataframe tbody tr th {\n",
       "        vertical-align: top;\n",
       "    }\n",
       "\n",
       "    .dataframe thead th {\n",
       "        text-align: right;\n",
       "    }\n",
       "</style>\n",
       "<table border=\"1\" class=\"dataframe\">\n",
       "  <thead>\n",
       "    <tr style=\"text-align: right;\">\n",
       "      <th></th>\n",
       "      <th>length</th>\n",
       "      <th>unit_length</th>\n",
       "      <th>name</th>\n",
       "      <th>length_equivalent_m</th>\n",
       "      <th>length_equivalent_km</th>\n",
       "      <th>length_equivalent_mile</th>\n",
       "      <th>length_equivalent_mgm</th>\n",
       "      <th>length_equivalent_gm</th>\n",
       "    </tr>\n",
       "  </thead>\n",
       "  <tbody>\n",
       "    <tr>\n",
       "      <th>0</th>\n",
       "      <td>m</td>\n",
       "      <td>``m``</td>\n",
       "      <td>Meters</td>\n",
       "      <td>1.000000e+00</td>\n",
       "      <td>0.00100</td>\n",
       "      <td>6.213730e-04</td>\n",
       "      <td>0.000001</td>\n",
       "      <td>1.000000e-09</td>\n",
       "    </tr>\n",
       "    <tr>\n",
       "      <th>1</th>\n",
       "      <td>km</td>\n",
       "      <td>``km``</td>\n",
       "      <td>Kilometers</td>\n",
       "      <td>1.000000e+03</td>\n",
       "      <td>1.00000</td>\n",
       "      <td>6.213700e-01</td>\n",
       "      <td>0.001000</td>\n",
       "      <td>1.000000e-06</td>\n",
       "    </tr>\n",
       "    <tr>\n",
       "      <th>2</th>\n",
       "      <td>Mile</td>\n",
       "      <td>``mile``</td>\n",
       "      <td>Miles</td>\n",
       "      <td>1.609340e+03</td>\n",
       "      <td>1.60934</td>\n",
       "      <td>1.000000e+00</td>\n",
       "      <td>0.001609</td>\n",
       "      <td>1.609340e-06</td>\n",
       "    </tr>\n",
       "    <tr>\n",
       "      <th>3</th>\n",
       "      <td>Mm</td>\n",
       "      <td>``mgm``</td>\n",
       "      <td>Megameters</td>\n",
       "      <td>1.000000e+06</td>\n",
       "      <td>1000.00000</td>\n",
       "      <td>6.213700e-04</td>\n",
       "      <td>1.000000</td>\n",
       "      <td>1.000000e-03</td>\n",
       "    </tr>\n",
       "    <tr>\n",
       "      <th>4</th>\n",
       "      <td>Gm</td>\n",
       "      <td>``gm``</td>\n",
       "      <td>Gigameters</td>\n",
       "      <td>1.000000e+09</td>\n",
       "      <td>1000000.00000</td>\n",
       "      <td>6.213700e-07</td>\n",
       "      <td>1000.000000</td>\n",
       "      <td>1.000000e+00</td>\n",
       "    </tr>\n",
       "  </tbody>\n",
       "</table>\n",
       "</div>"
      ],
      "text/plain": [
       "  length unit_length        name  length_equivalent_m  length_equivalent_km  \\\n",
       "0      m       ``m``      Meters         1.000000e+00               0.00100   \n",
       "1     km      ``km``  Kilometers         1.000000e+03               1.00000   \n",
       "2   Mile    ``mile``       Miles         1.609340e+03               1.60934   \n",
       "3     Mm     ``mgm``  Megameters         1.000000e+06            1000.00000   \n",
       "4     Gm      ``gm``  Gigameters         1.000000e+09         1000000.00000   \n",
       "\n",
       "   length_equivalent_mile  length_equivalent_mgm  length_equivalent_gm  \n",
       "0            6.213730e-04               0.000001          1.000000e-09  \n",
       "1            6.213700e-01               0.001000          1.000000e-06  \n",
       "2            1.000000e+00               0.001609          1.609340e-06  \n",
       "3            6.213700e-04               1.000000          1.000000e-03  \n",
       "4            6.213700e-07            1000.000000          1.000000e+00  "
      ]
     },
     "execution_count": 1138,
     "metadata": {},
     "output_type": "execute_result"
    }
   ],
   "source": [
    "#sa.model_attributes.all_model_variables\n",
    "fp = \"/Users/jsyme/Documents/Projects/git_jbus/sisepuede/docs/source/csvs/attribute_length.csv\"\n",
    "at = AttributeTable(fp, \"length\", clean_table_fields = True,)\n",
    "at.table()"
   ]
  },
  {
   "cell_type": "code",
   "execution_count": 1052,
   "id": "90587052-baeb-410f-a9f4-ab48bd62bf67",
   "metadata": {
    "collapsed": true,
    "jupyter": {
     "outputs_hidden": true
    },
    "tags": []
   },
   "outputs": [
    {
     "data": {
      "text/plain": [
       "array([[0.92536768, 0.24845778, 0.37953433, 0.14847882, 0.25139435,\n",
       "        0.71123234, 0.15856626, 0.48581205, 0.68147416, 0.54829414,\n",
       "        0.08388734, 0.42894816, 0.66173826, 0.07984463, 0.47521661,\n",
       "        0.38798217, 0.5266003 , 0.4420342 , 0.88720961, 0.88586851,\n",
       "        0.70495647, 0.64484206, 0.15106266, 0.60722337],\n",
       "       [0.92536768, 0.24845778, 0.37953433, 0.14847882, 0.25139435,\n",
       "        0.71123234, 0.15856626, 0.48581205, 0.68147416, 0.54829414,\n",
       "        0.08388734, 0.42894816, 0.66173826, 0.07984463, 0.47521661,\n",
       "        0.38798217, 0.5266003 , 0.4420342 , 0.88720961, 0.88586851,\n",
       "        0.70495647, 0.64484206, 0.15106266, 0.60722337],\n",
       "       [0.92536768, 0.24845778, 0.37953433, 0.14847882, 0.25139435,\n",
       "        0.71123234, 0.15856626, 0.48581205, 0.68147416, 0.54829414,\n",
       "        0.08388734, 0.42894816, 0.66173826, 0.07984463, 0.47521661,\n",
       "        0.38798217, 0.5266003 , 0.4420342 , 0.88720961, 0.88586851,\n",
       "        0.70495647, 0.64484206, 0.15106266, 0.60722337],\n",
       "       [0.92536768, 0.24845778, 0.37953433, 0.14847882, 0.25139435,\n",
       "        0.71123234, 0.15856626, 0.48581205, 0.68147416, 0.54829414,\n",
       "        0.08388734, 0.42894816, 0.66173826, 0.07984463, 0.47521661,\n",
       "        0.38798217, 0.5266003 , 0.4420342 , 0.88720961, 0.88586851,\n",
       "        0.70495647, 0.64484206, 0.15106266, 0.60722337],\n",
       "       [0.92536768, 0.24845778, 0.37953433, 0.14847882, 0.25139435,\n",
       "        0.71123234, 0.15856626, 0.48581205, 0.68147416, 0.54829414,\n",
       "        0.08388734, 0.42894816, 0.66173826, 0.07984463, 0.47521661,\n",
       "        0.38798217, 0.5266003 , 0.4420342 , 0.88720961, 0.88586851,\n",
       "        0.70495647, 0.64484206, 0.15106266, 0.60722337],\n",
       "       [0.92536768, 0.24845778, 0.37953433, 0.14847882, 0.25139435,\n",
       "        0.71123234, 0.15856626, 0.48581205, 0.68147416, 0.54829414,\n",
       "        0.08388734, 0.42894816, 0.66173826, 0.07984463, 0.47521661,\n",
       "        0.38798217, 0.5266003 , 0.4420342 , 0.88720961, 0.88586851,\n",
       "        0.70495647, 0.64484206, 0.15106266, 0.60722337],\n",
       "       [0.92536768, 0.24845778, 0.37953433, 0.14847882, 0.25139435,\n",
       "        0.71123234, 0.15856626, 0.48581205, 0.68147416, 0.54829414,\n",
       "        0.08388734, 0.42894816, 0.66173826, 0.07984463, 0.47521661,\n",
       "        0.38798217, 0.5266003 , 0.4420342 , 0.88720961, 0.88586851,\n",
       "        0.70495647, 0.64484206, 0.15106266, 0.60722337],\n",
       "       [0.92536768, 0.24845778, 0.37953433, 0.14847882, 0.25139435,\n",
       "        0.71123234, 0.15856626, 0.48581205, 0.68147416, 0.54829414,\n",
       "        0.08388734, 0.42894816, 0.66173826, 0.07984463, 0.47521661,\n",
       "        0.38798217, 0.5266003 , 0.4420342 , 0.88720961, 0.88586851,\n",
       "        0.70495647, 0.64484206, 0.15106266, 0.60722337],\n",
       "       [0.92536768, 0.24845778, 0.37953433, 0.14847882, 0.25139435,\n",
       "        0.71123234, 0.15856626, 0.48581205, 0.68147416, 0.54829414,\n",
       "        0.08388734, 0.42894816, 0.66173826, 0.07984463, 0.47521661,\n",
       "        0.38798217, 0.5266003 , 0.4420342 , 0.88720961, 0.88586851,\n",
       "        0.70495647, 0.64484206, 0.15106266, 0.60722337],\n",
       "       [0.92536768, 0.24845778, 0.37953433, 0.14847882, 0.25139435,\n",
       "        0.71123234, 0.15856626, 0.48581205, 0.68147416, 0.54829414,\n",
       "        0.08388734, 0.42894816, 0.66173826, 0.07984463, 0.47521661,\n",
       "        0.38798217, 0.5266003 , 0.4420342 , 0.88720961, 0.88586851,\n",
       "        0.70495647, 0.64484206, 0.15106266, 0.60722337],\n",
       "       [0.92536768, 0.24845778, 0.37953433, 0.14847882, 0.25139435,\n",
       "        0.71123234, 0.15856626, 0.48581205, 0.68147416, 0.54829414,\n",
       "        0.08388734, 0.42894816, 0.66173826, 0.07984463, 0.47521661,\n",
       "        0.38798217, 0.5266003 , 0.4420342 , 0.88720961, 0.88586851,\n",
       "        0.70495647, 0.64484206, 0.15106266, 0.60722337],\n",
       "       [0.92536768, 0.24845778, 0.37953433, 0.14847882, 0.25139435,\n",
       "        0.71123234, 0.15856626, 0.48581205, 0.68147416, 0.54829414,\n",
       "        0.08388734, 0.42894816, 0.66173826, 0.07984463, 0.47521661,\n",
       "        0.38798217, 0.5266003 , 0.4420342 , 0.88720961, 0.88586851,\n",
       "        0.70495647, 0.64484206, 0.15106266, 0.60722337],\n",
       "       [0.92536768, 0.24845778, 0.37953433, 0.14847882, 0.25139435,\n",
       "        0.71123234, 0.15856626, 0.48581205, 0.68147416, 0.54829414,\n",
       "        0.08388734, 0.42894816, 0.66173826, 0.07984463, 0.47521661,\n",
       "        0.38798217, 0.5266003 , 0.4420342 , 0.88720961, 0.88586851,\n",
       "        0.70495647, 0.64484206, 0.15106266, 0.60722337],\n",
       "       [0.92536768, 0.24845778, 0.37953433, 0.14847882, 0.25139435,\n",
       "        0.71123234, 0.15856626, 0.48581205, 0.68147416, 0.54829414,\n",
       "        0.08388734, 0.42894816, 0.66173826, 0.07984463, 0.47521661,\n",
       "        0.38798217, 0.5266003 , 0.4420342 , 0.88720961, 0.88586851,\n",
       "        0.70495647, 0.64484206, 0.15106266, 0.60722337],\n",
       "       [0.92536768, 0.24845778, 0.37953433, 0.14847882, 0.25139435,\n",
       "        0.71123234, 0.15856626, 0.48581205, 0.68147416, 0.54829414,\n",
       "        0.08388734, 0.42894816, 0.66173826, 0.07984463, 0.47521661,\n",
       "        0.38798217, 0.5266003 , 0.4420342 , 0.88720961, 0.88586851,\n",
       "        0.70495647, 0.64484206, 0.15106266, 0.60722337],\n",
       "       [0.92536768, 0.24845778, 0.37953433, 0.14847882, 0.25139435,\n",
       "        0.71123234, 0.15856626, 0.48581205, 0.68147416, 0.54829414,\n",
       "        0.08388734, 0.42894816, 0.66173826, 0.07984463, 0.47521661,\n",
       "        0.38798217, 0.5266003 , 0.4420342 , 0.88720961, 0.88586851,\n",
       "        0.70495647, 0.64484206, 0.15106266, 0.60722337],\n",
       "       [0.92536768, 0.24845778, 0.37953433, 0.14847882, 0.25139435,\n",
       "        0.71123234, 0.15856626, 0.48581205, 0.68147416, 0.54829414,\n",
       "        0.08388734, 0.42894816, 0.66173826, 0.07984463, 0.47521661,\n",
       "        0.38798217, 0.5266003 , 0.4420342 , 0.88720961, 0.88586851,\n",
       "        0.70495647, 0.64484206, 0.15106266, 0.60722337],\n",
       "       [0.92536768, 0.24845778, 0.37953433, 0.14847882, 0.25139435,\n",
       "        0.71123234, 0.15856626, 0.48581205, 0.68147416, 0.54829414,\n",
       "        0.08388734, 0.42894816, 0.66173826, 0.07984463, 0.47521661,\n",
       "        0.38798217, 0.5266003 , 0.4420342 , 0.88720961, 0.88586851,\n",
       "        0.70495647, 0.64484206, 0.15106266, 0.60722337],\n",
       "       [0.92536768, 0.24845778, 0.37953433, 0.14847882, 0.25139435,\n",
       "        0.71123234, 0.15856626, 0.48581205, 0.68147416, 0.54829414,\n",
       "        0.08388734, 0.42894816, 0.66173826, 0.07984463, 0.47521661,\n",
       "        0.38798217, 0.5266003 , 0.4420342 , 0.88720961, 0.88586851,\n",
       "        0.70495647, 0.64484206, 0.15106266, 0.60722337],\n",
       "       [0.92536768, 0.24845778, 0.37953433, 0.14847882, 0.25139435,\n",
       "        0.71123234, 0.15856626, 0.48581205, 0.68147416, 0.54829414,\n",
       "        0.08388734, 0.42894816, 0.66173826, 0.07984463, 0.47521661,\n",
       "        0.38798217, 0.5266003 , 0.4420342 , 0.88720961, 0.88586851,\n",
       "        0.70495647, 0.64484206, 0.15106266, 0.60722337]])"
      ]
     },
     "execution_count": 1052,
     "metadata": {},
     "output_type": "execute_result"
    }
   ],
   "source": [
    "modvar(\n",
    "    df, \n",
    "    expand_to_all_categories = False,\n",
    "    return_type = \"array\",\n",
    ")"
   ]
  },
  {
   "cell_type": "code",
   "execution_count": 1026,
   "id": "5d37d3a5-aea8-4360-853e-f120ff364f75",
   "metadata": {
    "tags": []
   },
   "outputs": [],
   "source": [
    "#modvar.name.replace(\":math:\", \"\").replace(\"{\", \"\").replace(\"\\\\text\", \"\").replace(\"}\")\n",
    "df = np.full((20, len(modvar.fields_space)), -1)\n",
    "df = pd.DataFrame(df, columns = modvar.fields_space)\n",
    "for fld in modvar.fields:\n",
    "    df[fld] = np.random.rand()\n",
    "    \n",
    "    \n"
   ]
  },
  {
   "cell_type": "code",
   "execution_count": null,
   "id": "caac1809-c452-4e43-8c91-6939950ce2a5",
   "metadata": {
    "jp-MarkdownHeadingCollapsed": true,
    "tags": []
   },
   "outputs": [],
   "source": [
    "importlib.reload(mv)\n",
    "\n",
    "series = attr_vars.table.iloc[2].copy()\n",
    "series[\"variable_schema\"] = \"``ef_ippu_$UNIT-MASS$_$EMISSION-GAS$_per_$UNIT-MASS$_product_use_$CAT-INDUSTRY-DIM1$_$CAT-INDUSTRY-DIM2$_$CAT-TRANSPORTATION$`` (``$UNIT-MASS$ = tonne``, ``$EMISSION-GAS$ = co2``\"\n",
    "series[\"categories\"] = \"(``$CAT-INDUSTRY_DIM2$ = paper|cement|plastic``, ``$CAT-INDUSTRY-DIM1$ = product_use_lubricants|product_use_paraffin_wax|cement|plastic``, ``$CAT-TRANSPORTATION$ = aviation|rail_freight|dymm``)\"\n",
    "\n",
    "modvar = mv.ModelVariable(\n",
    "    series,\n",
    "    sa.model_attributes.dict_attributes,\n",
    ")\n",
    "\n",
    "\n",
    "\n",
    "\n",
    "modvar.get_categories_by_element(\n",
    "    #{\n",
    "    #    \"cat_industry_dim1\": [\"metals\", \"plastic\", \"chemicals\"],#\"``metals|plastic|chemicals``\"\n",
    "    #},\n",
    "    dict_category_space = modvar.dict_category_key_space,\n",
    ")\n",
    "\n",
    "\n"
   ]
  },
  {
   "cell_type": "code",
   "execution_count": 816,
   "id": "8bc989be-ca3e-4c70-af82-a7e61a4fc069",
   "metadata": {},
   "outputs": [
    {
     "data": {
      "text/plain": [
       "163.66612111292963"
      ]
     },
     "execution_count": 816,
     "metadata": {},
     "output_type": "execute_result"
    }
   ],
   "source": [
    "modvar.schema.get_root_element(\"cat_indusdtry_dim2\")\n",
    "20000/122.2"
   ]
  },
  {
   "cell_type": "code",
   "execution_count": 785,
   "id": "dad4a19b-637c-4767-a4ab-d435d2e99e8e",
   "metadata": {},
   "outputs": [
    {
     "data": {
      "text/plain": [
       "'_'"
      ]
     },
     "execution_count": 785,
     "metadata": {},
     "output_type": "execute_result"
    }
   ],
   "source": [
    "regex.match(\"CAT-INDUSTRY-DIM3\")\n",
    "mv.clean_element(\"-\")\n",
    "\n",
    "\n",
    "\n"
   ]
  },
  {
   "cell_type": "code",
   "execution_count": 666,
   "id": "6cc9dd28-85f1-4915-b128-cf9a2a0e7ade",
   "metadata": {},
   "outputs": [
    {
     "data": {
      "text/plain": [
       "<re.Match object; span=(0, 13), match='ahitheX-DIM34'>"
      ]
     },
     "execution_count": 666,
     "metadata": {},
     "output_type": "execute_result"
    }
   ],
   "source": [
    "modvar.schema.mutable_elements_ordered\n",
    "modvar.schema.space_char\n",
    "re.compile(f\".*{modvar.schema.space_char}{modvar.schema.flag_dim}(\\d*)$\").match(\"ahitheX-DIM34\")\n",
    "\n",
    "\n",
    "\n"
   ]
  },
  {
   "cell_type": "code",
   "execution_count": 527,
   "id": "3de038f5-f249-4f07-a471-6d6bebeff826",
   "metadata": {},
   "outputs": [
    {
     "data": {
      "text/plain": [
       "{'cat_industry': ['product_use_lubricants', 'product_use_paraffin_wax']}"
      ]
     },
     "execution_count": 527,
     "metadata": {},
     "output_type": "execute_result"
    }
   ],
   "source": [
    "#modvar.schema.get_attribute(\"emission_gas\")\n",
    "hasattr(attr_cat, \"key_values\")\n",
    "#modvar.get_categories_from_string(modvar.dict_varinfo.get(modvar.key_categories), \"|\", \"`\")\n",
    "\n",
    "modvar.get_categories_by_element(\n",
    "    category_subspace = {\n",
    "        \"cat_industry\": \"``product_use_lubricants|product_use_paraffin_wax``\",\n",
    "        \"cat_transportation\": \"``product_use_lubricants``|``product_use_paraffin_wax``\",\n",
    "        \"cat_transportation\": \"``product_use_lubricants``|``product_use_paraffin_wax``\",\n",
    "    },\n",
    "    dict_category_space = modvar.dict_category_keys,\n",
    "    \n",
    ")"
   ]
  },
  {
   "cell_type": "code",
   "execution_count": 390,
   "id": "c395bad9-1ed4-48fb-850f-79dacb4e4e39",
   "metadata": {},
   "outputs": [
    {
     "data": {
      "text/plain": [
       "'thisun_jfijdf'"
      ]
     },
     "execution_count": 390,
     "metadata": {},
     "output_type": "execute_result"
    }
   ],
   "source": [
    "modvar.schema.get_mutable_element(\n",
    "    \"ef_ippu_tonne_co2_per_tonne_production_thisun_jfijdf_clinker\",\n",
    "    \"cat_industry\"\n",
    ") "
   ]
  },
  {
   "cell_type": "code",
   "execution_count": 290,
   "id": "ae5fdb95-2b5a-4176-aa67-5ec8627a5645",
   "metadata": {},
   "outputs": [
    {
     "data": {
      "text/plain": [
       "'ef_ippu_tonne_co2_per_tonne_production_cement_clinker'"
      ]
     },
     "execution_count": 290,
     "metadata": {},
     "output_type": "execute_result"
    }
   ],
   "source": [
    "modvar.build_field_from_elements(\n",
    "    {\"cat_industry\": \"cement\"}, \n",
    "    keys_are_clean = True\n",
    ")\n",
    "\n"
   ]
  },
  {
   "cell_type": "code",
   "execution_count": 302,
   "id": "6306077f-61f9-485c-bada-a9b1adbff687",
   "metadata": {},
   "outputs": [
    {
     "data": {
      "text/plain": [
       "('ef_ippu_tonne_co2_per_tonne_production_cement_clinker',\n",
       " {'cat_industry': 'cement'})"
      ]
     },
     "execution_count": 302,
     "metadata": {},
     "output_type": "execute_result"
    }
   ],
   "source": [
    "class Field:\n",
    "    \n",
    "    def __init__(self,\n",
    "        field: str,\n",
    "        cat: Union[Dict, str, None],\n",
    "    ):\n",
    "        \n",
    "        self.field = field\n",
    "        self.cat = cat\n",
    "        \n",
    "        \n",
    "    \n",
    "    def __call__(self,\n",
    "    ):\n",
    "        \n",
    "        return self.field\n",
    "    \n",
    "\n",
    "field = Field(\"ef_ippu_tonne_co2_per_tonne_production_cement_clinker\", {\"cat_industry\": \"cement\"})\n",
    "\n",
    "field(), field.cat\n",
    "        "
   ]
  },
  {
   "cell_type": "code",
   "execution_count": 278,
   "id": "0f6c29d4-49a8-476c-9f97-a6332926ee1d",
   "metadata": {},
   "outputs": [
    {
     "data": {
      "text/plain": [
       "'ef_ippu_tonne_ch4_per_tonne_production_cementitude_airplanification'"
      ]
     },
     "execution_count": 278,
     "metadata": {},
     "output_type": "execute_result"
    }
   ],
   "source": [
    "sr = \"``ef_ippu_$UNIT-MASS$_$EMISSION-GAS$_per_$UNIT-MASS$_production_$CAT-INDUSTRY-I$_$CAT-TRANSPORTATION-J$`` (``$UNIT-MASS$ = tonne``, ``$EMISSION-GAS$ = ch4``)\"\n",
    "vs2 = mv.VariableSchema(sr)\n",
    "vs2.mutable_elements_ordered\n",
    "\n",
    "\n",
    "vs2.replace({\"cat_industry_i\": \"cementitude\", \"cat_transportation_j\": \"airplanification\"}, keys_are_clean = True,)"
   ]
  },
  {
   "cell_type": "code",
   "execution_count": null,
   "id": "f337bbd4-cee0-4b29-9db8-ffddfb1c277a",
   "metadata": {},
   "outputs": [],
   "source": [
    "vs.mutable_elements_clean_ordered\n",
    "\n"
   ]
  },
  {
   "cell_type": "code",
   "execution_count": null,
   "id": "35959685-0fbb-41ea-a2c5-44c870eac296",
   "metadata": {},
   "outputs": [],
   "source": [
    "sa.model_attributes.dict_attributes.get(\"abbreviation_subsector\").table;"
   ]
  },
  {
   "cell_type": "code",
   "execution_count": 244,
   "id": "05c08aec-2599-490f-a515-f91fcce2b71f",
   "metadata": {},
   "outputs": [
    {
     "data": {
      "text/plain": [
       "{None: 2}"
      ]
     },
     "execution_count": 244,
     "metadata": {},
     "output_type": "execute_result"
    }
   ],
   "source": [
    "dict1 = {}\n",
    "\n",
    "dict1[None] = 2\n",
    "dict1"
   ]
  },
  {
   "cell_type": "code",
   "execution_count": 195,
   "id": "19acef7e-0458-4c12-b7f6-d7c204747355",
   "metadata": {},
   "outputs": [],
   "source": [
    "def get_variable_schema_base(#self,\n",
    "    var_schema_raw: str,\n",
    ") -> str:\n",
    "    \"\"\"\n",
    "    Using a raw variable schema, replace any unit and emission specifications\n",
    "    \"\"\"\n",
    "    \n",
    "    dict_replacements, schema  = mv.clean_schema(\n",
    "        var_schema_raw, \n",
    "        return_type = \"all\"\n",
    "    )\n",
    "    \n",
    "    return dict_replacements, schema\n",
    "\n",
    "dict_replacements, schema = get_variable_schema_base(\n",
    "    modvar.dict_varinfo.get(\"variable_schema\")\n",
    ")"
   ]
  },
  {
   "cell_type": "code",
   "execution_count": 198,
   "id": "87c236de-1668-4252-915b-16feaef97472",
   "metadata": {},
   "outputs": [
    {
     "data": {
      "text/plain": [
       "True"
      ]
     },
     "execution_count": 198,
     "metadata": {},
     "output_type": "execute_result"
    }
   ],
   "source": [
    "isinstance(pd.DataFrame, type)"
   ]
  },
  {
   "cell_type": "code",
   "execution_count": 201,
   "id": "8f7ce3ef-a7fb-44ae-b8a0-78edf9e02d75",
   "metadata": {},
   "outputs": [
    {
     "data": {
      "text/plain": [
       "['THIS', ' ', 'THIS2']"
      ]
     },
     "execution_count": 201,
     "metadata": {},
     "output_type": "execute_result"
    }
   ],
   "source": [
    "#regex = re.compile(\"(.*)\\$(.*)\\$(.*$)\")\n",
    "regex = re.compile(\"(?<=\\$)(.*?)(?=\\$)\")\n",
    "regex.findall(\"this $THIS$ $THIS2$\")\n",
    "#regex = re.search(\"(?<=\\$)(.*?)(?=\\$)\", \"this $HERE$ $NOPE$\")\n",
    "\n",
    "\n",
    "\n"
   ]
  },
  {
   "cell_type": "code",
   "execution_count": 182,
   "id": "04b5de40-77b2-4231-abe4-b5ba79d2af06",
   "metadata": {},
   "outputs": [
    {
     "data": {
      "text/plain": [
       "0"
      ]
     },
     "execution_count": 182,
     "metadata": {},
     "output_type": "execute_result"
    }
   ],
   "source": [
    "string = \"this $THIS$ $THIS2$\"\n",
    "string.count(\"$\")"
   ]
  },
  {
   "cell_type": "code",
   "execution_count": 193,
   "id": "3ff3cae0-e09b-47af-be40-343963501ed2",
   "metadata": {},
   "outputs": [
    {
     "data": {
      "text/plain": [
       "'``ef_ippu_$UNIT-MASS$_$EMISSION-GAS$_per_$UNIT-MASS$_production_$CAT-INDUSTRY$`` (``$UNIT-MASS$ = tonne``, ``$EMISSION-GAS$ = ch4``)'"
      ]
     },
     "execution_count": 193,
     "metadata": {},
     "output_type": "execute_result"
    }
   ],
   "source": [
    "modvar.dict_varinfo.get(\"variable_schema\")"
   ]
  },
  {
   "cell_type": "code",
   "execution_count": 215,
   "id": "f6a3388a-0e86-4db7-af19-d03fb80ba8d0",
   "metadata": {},
   "outputs": [],
   "source": [
    "arr_1 = np.array([7, 11, 13, 17, 19, 23, 29])\n",
    "\n",
    "prs = [2, 3, 5, 7, 11, 13, 17, 19]\n",
    "arr_2 = []\n",
    "gaps = []\n",
    "for i in range(np.prod(prs)):\n",
    "    check = [i%x for x in prs]\n",
    "    binary = int(0 in check)\n",
    "    \n",
    "    arr_2.append(binary)\n",
    "    if not binary:\n",
    "        gaps.append(i)\n",
    "\n",
    "\n",
    "P = np.prod(prs)\n",
    "gaps_g1 = [x for x in gaps if x > 1]\n",
    "\n",
    "classes = []\n",
    "if False:\n",
    "    l = []\n",
    "    for i in range(1, 2):#len(arr_1) + 1):\n",
    "        subs = list(itertools.combinations(gaps_g1, i))\n",
    "\n",
    "        l.extend(subs)\n",
    "\n",
    "\n",
    "    classes = []\n",
    "    for i, sub in enumerate(l):\n",
    "        val = np.prod(sub)\n",
    "        mod = val%P\n",
    "\n",
    "        classes.append(mod)\n",
    "\n",
    "    classes = set(classes)\n",
    "diffs = np.array(gaps[1:]) - np.array(gaps[0:-1])\n",
    "len([x for x in diffs if x == 4])\n",
    "w = np.abs(np.array(diffs[1:]) - np.array(diffs[0:-1]))\n",
    "w = np.where(w == 0)\n",
    "w;\n",
    "\n",
    "\n",
    "\n",
    "\n",
    "pi1 = prs[-1]\n",
    "counts_2 = []\n",
    "\n",
    "P_prev = np.prod(prs[0:-1])\n",
    "# check counts of 2 among each subdivision--should be relatively smooth\n",
    "for i in range(pi1):\n",
    "    gps = [x for x in gaps if (x >= i*P_prev) & (x < (i + 1)*P_prev)]\n",
    "    \n",
    "    ds = np.array(gps[1:]) - np.array(gps[0:-1])\n",
    "    n = len([x for x in ds if x == 2])\n",
    "    \n",
    "    print(n)\n",
    "    counts_2.append(n)\n",
    "    #len([x for x in diffs[0:n] if x == 2])\n",
    "    \n",
    "    \n",
    "import sympy\n",
    "# non-prime nums\n",
    "gaps_nopr = [x for x in gaps if (not sympy.isprime(x)) and (x > 1)]\n",
    "\n",
    "\n",
    "l = []\n",
    "for i in range(1, len(gaps_nopr) + 1):\n",
    "    subs = list(itertools.combinations(gaps_nopr, i))\n",
    "    \n",
    "    l.extend(subs)\n",
    "\n",
    "classes = []\n",
    "for i, sub in enumerate(l):\n",
    "    val = np.prod(sub)\n",
    "    mod = val%P\n",
    "    \n",
    "    classes.append(mod)\n",
    "    \n",
    "    \n",
    "gaps_nopr = [x for x in gaps if (not sympy.isprime(x)) and (x > 1)]\n",
    "classes = []\n",
    "for i in range(1, 3):#len(gaps_nopr) + 1):\n",
    "    combs = itertools.combinations(gaps_nopr, i)\n",
    "    \n",
    "    for comb in combs:\n",
    "        class_check = np.prod(comb)%P\n",
    "        classes.append(class_check) if (class_check not in classes) else None\n",
    "    \n",
    "classes2 = classes.copy()\n",
    "\n",
    "\n",
    "\n"
   ]
  },
  {
   "cell_type": "code",
   "execution_count": null,
   "id": "9289794c-34f2-42ca-a14b-c932ef873da8",
   "metadata": {},
   "outputs": [],
   "source": []
  },
  {
   "cell_type": "code",
   "execution_count": null,
   "id": "e9f53c7e-c014-42f7-ab7e-194b8864476c",
   "metadata": {},
   "outputs": [],
   "source": []
  },
  {
   "cell_type": "code",
   "execution_count": null,
   "id": "3345f038-7060-4125-a3bd-402dd8d8a635",
   "metadata": {},
   "outputs": [],
   "source": []
  },
  {
   "cell_type": "code",
   "execution_count": null,
   "id": "0376625b-7886-42d5-8419-2be70aa5e1c7",
   "metadata": {},
   "outputs": [],
   "source": []
  },
  {
   "cell_type": "code",
   "execution_count": null,
   "id": "0c69a838-c359-4a88-8b7a-52036bda9bf3",
   "metadata": {},
   "outputs": [],
   "source": []
  },
  {
   "cell_type": "code",
   "execution_count": null,
   "id": "5eff669d-0a67-4c08-9d72-9d2428a4a2e6",
   "metadata": {
    "tags": []
   },
   "outputs": [],
   "source": []
  },
  {
   "cell_type": "code",
   "execution_count": null,
   "id": "6f7a731e-52c8-4c26-9acd-b6e3e33ccedd",
   "metadata": {},
   "outputs": [],
   "source": []
  },
  {
   "cell_type": "code",
   "execution_count": null,
   "id": "e96cf772-f789-4f52-af8e-b1487e68108f",
   "metadata": {},
   "outputs": [],
   "source": []
  },
  {
   "cell_type": "code",
   "execution_count": 115,
   "id": "0c6c639d-fa24-4fa0-a2c1-ee61e09664ac",
   "metadata": {},
   "outputs": [],
   "source": []
  },
  {
   "cell_type": "code",
   "execution_count": null,
   "id": "a943b360-b9b0-464d-a4a8-7f909806351b",
   "metadata": {},
   "outputs": [],
   "source": []
  },
  {
   "cell_type": "code",
   "execution_count": null,
   "id": "6b33d742-a2fb-4cc7-a2d3-6cfd3fac39e1",
   "metadata": {},
   "outputs": [],
   "source": []
  },
  {
   "cell_type": "code",
   "execution_count": null,
   "id": "45fd778f-ba17-49bb-b979-3a3fa907dfdc",
   "metadata": {},
   "outputs": [],
   "source": []
  },
  {
   "cell_type": "code",
   "execution_count": 155,
   "id": "a3dca3a1-58a5-4ff6-b2d7-f2bf9da20209",
   "metadata": {},
   "outputs": [],
   "source": []
  },
  {
   "cell_type": "code",
   "execution_count": 152,
   "id": "d3a2df32-47fc-4de4-ae21-ed4fed57c6eb",
   "metadata": {},
   "outputs": [],
   "source": []
  },
  {
   "cell_type": "code",
   "execution_count": 163,
   "id": "1e649ebe-e4a4-4801-b226-7b7411186a14",
   "metadata": {},
   "outputs": [],
   "source": []
  },
  {
   "cell_type": "code",
   "execution_count": null,
   "id": "d6a6481f-a991-4202-adb1-802296b2baa0",
   "metadata": {},
   "outputs": [],
   "source": []
  }
 ],
 "metadata": {
  "kernelspec": {
   "display_name": "Python 3 (ipykernel)",
   "language": "python",
   "name": "python3"
  },
  "language_info": {
   "codemirror_mode": {
    "name": "ipython",
    "version": 3
   },
   "file_extension": ".py",
   "mimetype": "text/x-python",
   "name": "python",
   "nbconvert_exporter": "python",
   "pygments_lexer": "ipython3",
   "version": "3.11.0"
  }
 },
 "nbformat": 4,
 "nbformat_minor": 5
}
