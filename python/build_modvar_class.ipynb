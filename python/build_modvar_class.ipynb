{
 "cells": [
  {
   "cell_type": "code",
   "execution_count": 1,
   "id": "d970f89d-676e-4058-9e48-8ba9166df470",
   "metadata": {
    "tags": []
   },
   "outputs": [
    {
     "name": "stdout",
     "output_type": "stream",
     "text": [
      "MISSIONSEARCHNOTE: As of 2023-10-06, there is a temporary solution implemeted in ModelAttributes.get_variable_to_simplex_group_dictionary() to ensure that transition probability rows are enforced on a simplex.\n",
      "\n",
      "FIX THIS ASAP TO DERIVE PROPERLY.\n"
     ]
    },
    {
     "data": {
      "text/plain": [
       "<module 'model_electricity' from '/Users/jsyme/Documents/Projects/git_jbus/sisepuede/python/model_electricity.py'>"
      ]
     },
     "execution_count": 1,
     "metadata": {},
     "output_type": "execute_result"
    }
   ],
   "source": [
    "\n",
    "import warnings\n",
    "warnings.filterwarnings(\"ignore\")\n",
    "\n",
    "import os, os.path\n",
    "import numpy as np\n",
    "import pandas as pd\n",
    "import model_attributes as ma\n",
    "from attribute_table import AttributeTable\n",
    "\n",
    "import model_afolu as mafl\n",
    "import model_ippu as mi\n",
    "import model_circular_economy as mc\n",
    "import model_energy as me\n",
    "import model_electricity as ml\n",
    "import model_socioeconomic as se\n",
    "\n",
    "import pathlib\n",
    "import setup_analysis as sa\n",
    "import sisepuede as ssp\n",
    "import support_classes as sc\n",
    "import support_functions as sf\n",
    "import importlib\n",
    "import time\n",
    "import matplotlib.pyplot as plt\n",
    "import sql_utilities as sq\n",
    "from typing import *\n",
    "import sqlalchemy\n",
    "import sql_utilities as sqlutil\n",
    "import time\n",
    "importlib.reload(ma)\n",
    "#importlib.reload(sa)\n",
    "importlib.reload(sf)\n",
    "importlib.reload(mafl)\n",
    "importlib.reload(mc)\n",
    "importlib.reload(mi)\n",
    "importlib.reload(me)\n",
    "importlib.reload(se)\n",
    "importlib.reload(ml)\n",
    "\n",
    "\n"
   ]
  },
  {
   "cell_type": "code",
   "execution_count": 2,
   "id": "19606177-dd25-48ae-820f-b7d470ebe033",
   "metadata": {},
   "outputs": [],
   "source": [
    "import model_attributes as ma\n",
    "import model_variable as mv\n",
    "import units_manager as um"
   ]
  },
  {
   "cell_type": "code",
   "execution_count": 308,
   "id": "a4ffd300-5e23-4b96-8722-16f9150c2e60",
   "metadata": {},
   "outputs": [],
   "source": [
    "#warnings.filterwarnings(\"default\")"
   ]
  },
  {
   "cell_type": "code",
   "execution_count": 69,
   "id": "769830e6-8f83-4951-8724-9446aa3a3ef2",
   "metadata": {},
   "outputs": [],
   "source": [
    "fp = \"/Users/jsyme/Documents/Projects/git_jbus/sisepuede/out/sisepuede_summary_results_run_sisepuede_run_2024-02-10T17;45;35.578004/sisepuede_results_sisepuede_run_2024-02-10T17;45;35.578004_WIDE_INPUTS_OUTPUTS.csv\"\n",
    "df_test = pd.read_csv(fp)\n",
    "\n",
    "\n",
    "# path = pathlib.Path(sa.dir_ref)\n",
    "# path_fake_data = path.joinpath(\"fake_data\", \"fake_data_complete.csv\")\n",
    "# df_fake_data = pd.read_csv(path_fake_data)\n",
    "\n",
    "def add_missing_lvst_elast(\n",
    "    df: pd.DataFrame,\n",
    ") -> pd.DataFrame:\n",
    "    \"\"\"\n",
    "    add buffalo, goat, horse, and mule elasticities to a df\n",
    "    \"\"\"\n",
    "    \n",
    "    # sheep inputs\n",
    "    vec_sheep = df[\"elasticity_lvst_sheep_demand_to_gdppc\"].to_numpy()\n",
    "    \n",
    "    # buffalo\n",
    "    vec_buffalo = df[\"elasticity_lvst_cattle_dairy_demand_to_gdppc\"].to_numpy()\n",
    "    vec_buffalo += df[\"elasticity_lvst_cattle_nondairy_demand_to_gdppc\"].to_numpy()\n",
    "    vec_buffalo /= 2\n",
    "\n",
    "\n",
    "    flds_sheep = [\n",
    "        \"elasticity_lvst_goats_demand_to_gdppc\",\n",
    "        \"elasticity_lvst_horses_demand_to_gdppc\",\n",
    "        \"elasticity_lvst_mules_demand_to_gdppc\"\n",
    "    ]\n",
    "    for fld in flds_sheep:\n",
    "        if fld not in df.columns:\n",
    "            df[fld] = vec_sheep\n",
    "    \n",
    "    fld_buffalo = \"elasticity_lvst_buffalo_demand_to_gdppc\"\n",
    "    if fld_buffalo not in df.columns:\n",
    "        df[fld_buffalo] = vec_buffalo\n",
    "\n",
    "    \n",
    "    return df\n",
    "\n",
    "df_test = add_missing_lvst_elast(df_test);\n",
    "\n",
    "\n",
    "df_base = (\n",
    "    df_test[\n",
    "        df_test[\"primary_id\"].isin([125125])\n",
    "    ]\n",
    "    .reset_index(drop = True)\n",
    ")\n",
    "\n",
    "df_base_input = df_base[\n",
    "    [x for x in df_base.columns if x not in sa.model_attributes.all_variable_fields_output]\n",
    "]\n",
    "\n",
    "\n",
    "    \n",
    "    "
   ]
  },
  {
   "cell_type": "code",
   "execution_count": null,
   "id": "a356c631-6fb0-471e-a1c9-5ac1d1a72280",
   "metadata": {},
   "outputs": [],
   "source": []
  },
  {
   "cell_type": "code",
   "execution_count": 74,
   "id": "55b0d62e-14e4-4803-a545-50c4ba8e3b05",
   "metadata": {
    "tags": []
   },
   "outputs": [
    {
     "name": "stdout",
     "output_type": "stream",
     "text": [
      "MISSIONSEARCHNOTE: As of 2023-10-06, there is a temporary solution implemeted in ModelAttributes.get_variable_to_simplex_group_dictionary() to ensure that transition probability rows are enforced on a simplex.\n",
      "\n",
      "FIX THIS ASAP TO DERIVE PROPERLY.\n"
     ]
    },
    {
     "data": {
      "text/plain": [
       "['AFOLU', 'Circular Economy', 'Energy', 'IPPU', 'Socioeconomic']"
      ]
     },
     "execution_count": 74,
     "metadata": {},
     "output_type": "execute_result"
    }
   ],
   "source": [
    "import importlib\n",
    "importlib.reload(sf)\n",
    "importlib.reload(mv)\n",
    "importlib.reload(um)\n",
    "importlib.reload(ma)\n",
    "\n",
    "\n",
    "fp = \"/Users/jsyme/Documents/Projects/git_jbus/sisepuede/docs/source/csvs\"\n",
    "path = pathlib.Path(fp)\n",
    "matt_new = ma.ModelAttributes(\n",
    "    path, \n",
    "    fp_config = path.parents[2].joinpath(\"sisepuede.config\")\n",
    ")\n",
    "\n",
    "\n",
    "# modvar = matt_new.dict_variables.get(\"Volumetric Energy Density\")\n",
    "# modvar.get_property(\"subsector\")\n",
    "# unit_energy = matt_new.get_unit(\"energy\")\n",
    "# unit_power = matt_new.get_unit(\"power\")\n",
    "# unit_power.get_unit_key(\"none\")\n",
    "\n",
    "\n",
    "\n",
    "modvar = \":math:\\\\text{CO}_2 Land Use Conversion Emission Factor\"\n",
    "#modvar = \"Unadjusted Land Use Transition Probability\"\n",
    "#modvar = \"GDP\"\n",
    "#modvar = \"Population\"\n",
    "#modvar = \"Land Use Yield Reallocation Factor\"\n",
    "modvar = \"\"\n",
    "mov = matt_new.dict_variables.get(modvar)\n",
    "\n",
    "\n",
    "#mov.build_fields(\n",
    "#    # category_restrictions = [\"croplands\", \"forests_primary\"]#\"cat_general\": [\"rural\"]}\n",
    "#    category_restrictions = \"croplands\"#{\"cat_landuse_dim2\": [\"croplands\", \"forests_primary\"]}\n",
    "#)\n",
    "\n",
    "matt_new.get_sector_list_from_projection_input(None)"
   ]
  },
  {
   "cell_type": "code",
   "execution_count": 87,
   "id": "f8a787b5-519a-42c1-8607-7bc3af2666af",
   "metadata": {},
   "outputs": [
    {
     "data": {
      "text/plain": [
       "'other'"
      ]
     },
     "execution_count": 87,
     "metadata": {},
     "output_type": "execute_result"
    }
   ],
   "source": [
    "attr_time_period = matt_new.get_dimensional_attribute_table(\"time_period\")\n",
    "matt_new.attribute_group_key_other\n"
   ]
  },
  {
   "cell_type": "code",
   "execution_count": 82,
   "id": "cd28f277-6144-4a74-a24f-a8125f028ae5",
   "metadata": {},
   "outputs": [
    {
     "data": {
      "text/html": [
       "<div>\n",
       "<style scoped>\n",
       "    .dataframe tbody tr th:only-of-type {\n",
       "        vertical-align: middle;\n",
       "    }\n",
       "\n",
       "    .dataframe tbody tr th {\n",
       "        vertical-align: top;\n",
       "    }\n",
       "\n",
       "    .dataframe thead th {\n",
       "        text-align: right;\n",
       "    }\n",
       "</style>\n",
       "<table border=\"1\" class=\"dataframe\">\n",
       "  <thead>\n",
       "    <tr style=\"text-align: right;\">\n",
       "      <th></th>\n",
       "      <th>time_period</th>\n",
       "    </tr>\n",
       "  </thead>\n",
       "  <tbody>\n",
       "    <tr>\n",
       "      <th>0</th>\n",
       "      <td>0</td>\n",
       "    </tr>\n",
       "    <tr>\n",
       "      <th>1</th>\n",
       "      <td>1</td>\n",
       "    </tr>\n",
       "    <tr>\n",
       "      <th>2</th>\n",
       "      <td>2</td>\n",
       "    </tr>\n",
       "    <tr>\n",
       "      <th>3</th>\n",
       "      <td>3</td>\n",
       "    </tr>\n",
       "    <tr>\n",
       "      <th>4</th>\n",
       "      <td>4</td>\n",
       "    </tr>\n",
       "    <tr>\n",
       "      <th>5</th>\n",
       "      <td>5</td>\n",
       "    </tr>\n",
       "    <tr>\n",
       "      <th>6</th>\n",
       "      <td>6</td>\n",
       "    </tr>\n",
       "    <tr>\n",
       "      <th>7</th>\n",
       "      <td>7</td>\n",
       "    </tr>\n",
       "    <tr>\n",
       "      <th>8</th>\n",
       "      <td>8</td>\n",
       "    </tr>\n",
       "    <tr>\n",
       "      <th>9</th>\n",
       "      <td>9</td>\n",
       "    </tr>\n",
       "    <tr>\n",
       "      <th>10</th>\n",
       "      <td>10</td>\n",
       "    </tr>\n",
       "    <tr>\n",
       "      <th>11</th>\n",
       "      <td>11</td>\n",
       "    </tr>\n",
       "    <tr>\n",
       "      <th>12</th>\n",
       "      <td>12</td>\n",
       "    </tr>\n",
       "    <tr>\n",
       "      <th>13</th>\n",
       "      <td>13</td>\n",
       "    </tr>\n",
       "    <tr>\n",
       "      <th>14</th>\n",
       "      <td>14</td>\n",
       "    </tr>\n",
       "    <tr>\n",
       "      <th>15</th>\n",
       "      <td>15</td>\n",
       "    </tr>\n",
       "    <tr>\n",
       "      <th>16</th>\n",
       "      <td>16</td>\n",
       "    </tr>\n",
       "    <tr>\n",
       "      <th>17</th>\n",
       "      <td>17</td>\n",
       "    </tr>\n",
       "    <tr>\n",
       "      <th>18</th>\n",
       "      <td>18</td>\n",
       "    </tr>\n",
       "    <tr>\n",
       "      <th>19</th>\n",
       "      <td>19</td>\n",
       "    </tr>\n",
       "    <tr>\n",
       "      <th>20</th>\n",
       "      <td>20</td>\n",
       "    </tr>\n",
       "    <tr>\n",
       "      <th>21</th>\n",
       "      <td>21</td>\n",
       "    </tr>\n",
       "    <tr>\n",
       "      <th>22</th>\n",
       "      <td>22</td>\n",
       "    </tr>\n",
       "    <tr>\n",
       "      <th>23</th>\n",
       "      <td>23</td>\n",
       "    </tr>\n",
       "    <tr>\n",
       "      <th>24</th>\n",
       "      <td>24</td>\n",
       "    </tr>\n",
       "    <tr>\n",
       "      <th>25</th>\n",
       "      <td>25</td>\n",
       "    </tr>\n",
       "    <tr>\n",
       "      <th>26</th>\n",
       "      <td>26</td>\n",
       "    </tr>\n",
       "    <tr>\n",
       "      <th>27</th>\n",
       "      <td>27</td>\n",
       "    </tr>\n",
       "    <tr>\n",
       "      <th>28</th>\n",
       "      <td>28</td>\n",
       "    </tr>\n",
       "    <tr>\n",
       "      <th>29</th>\n",
       "      <td>29</td>\n",
       "    </tr>\n",
       "    <tr>\n",
       "      <th>30</th>\n",
       "      <td>30</td>\n",
       "    </tr>\n",
       "    <tr>\n",
       "      <th>31</th>\n",
       "      <td>31</td>\n",
       "    </tr>\n",
       "    <tr>\n",
       "      <th>32</th>\n",
       "      <td>32</td>\n",
       "    </tr>\n",
       "    <tr>\n",
       "      <th>33</th>\n",
       "      <td>33</td>\n",
       "    </tr>\n",
       "    <tr>\n",
       "      <th>34</th>\n",
       "      <td>34</td>\n",
       "    </tr>\n",
       "    <tr>\n",
       "      <th>35</th>\n",
       "      <td>35</td>\n",
       "    </tr>\n",
       "    <tr>\n",
       "      <th>36</th>\n",
       "      <td>36</td>\n",
       "    </tr>\n",
       "    <tr>\n",
       "      <th>37</th>\n",
       "      <td>37</td>\n",
       "    </tr>\n",
       "    <tr>\n",
       "      <th>38</th>\n",
       "      <td>38</td>\n",
       "    </tr>\n",
       "    <tr>\n",
       "      <th>39</th>\n",
       "      <td>39</td>\n",
       "    </tr>\n",
       "    <tr>\n",
       "      <th>40</th>\n",
       "      <td>40</td>\n",
       "    </tr>\n",
       "    <tr>\n",
       "      <th>41</th>\n",
       "      <td>41</td>\n",
       "    </tr>\n",
       "    <tr>\n",
       "      <th>42</th>\n",
       "      <td>42</td>\n",
       "    </tr>\n",
       "    <tr>\n",
       "      <th>43</th>\n",
       "      <td>43</td>\n",
       "    </tr>\n",
       "    <tr>\n",
       "      <th>44</th>\n",
       "      <td>44</td>\n",
       "    </tr>\n",
       "    <tr>\n",
       "      <th>45</th>\n",
       "      <td>45</td>\n",
       "    </tr>\n",
       "    <tr>\n",
       "      <th>46</th>\n",
       "      <td>46</td>\n",
       "    </tr>\n",
       "    <tr>\n",
       "      <th>47</th>\n",
       "      <td>47</td>\n",
       "    </tr>\n",
       "    <tr>\n",
       "      <th>48</th>\n",
       "      <td>48</td>\n",
       "    </tr>\n",
       "    <tr>\n",
       "      <th>49</th>\n",
       "      <td>49</td>\n",
       "    </tr>\n",
       "    <tr>\n",
       "      <th>50</th>\n",
       "      <td>50</td>\n",
       "    </tr>\n",
       "    <tr>\n",
       "      <th>51</th>\n",
       "      <td>51</td>\n",
       "    </tr>\n",
       "    <tr>\n",
       "      <th>52</th>\n",
       "      <td>52</td>\n",
       "    </tr>\n",
       "    <tr>\n",
       "      <th>53</th>\n",
       "      <td>53</td>\n",
       "    </tr>\n",
       "    <tr>\n",
       "      <th>54</th>\n",
       "      <td>54</td>\n",
       "    </tr>\n",
       "    <tr>\n",
       "      <th>55</th>\n",
       "      <td>55</td>\n",
       "    </tr>\n",
       "  </tbody>\n",
       "</table>\n",
       "</div>"
      ],
      "text/plain": [
       "    time_period\n",
       "0             0\n",
       "1             1\n",
       "2             2\n",
       "3             3\n",
       "4             4\n",
       "5             5\n",
       "6             6\n",
       "7             7\n",
       "8             8\n",
       "9             9\n",
       "10           10\n",
       "11           11\n",
       "12           12\n",
       "13           13\n",
       "14           14\n",
       "15           15\n",
       "16           16\n",
       "17           17\n",
       "18           18\n",
       "19           19\n",
       "20           20\n",
       "21           21\n",
       "22           22\n",
       "23           23\n",
       "24           24\n",
       "25           25\n",
       "26           26\n",
       "27           27\n",
       "28           28\n",
       "29           29\n",
       "30           30\n",
       "31           31\n",
       "32           32\n",
       "33           33\n",
       "34           34\n",
       "35           35\n",
       "36           36\n",
       "37           37\n",
       "38           38\n",
       "39           39\n",
       "40           40\n",
       "41           41\n",
       "42           42\n",
       "43           43\n",
       "44           44\n",
       "45           45\n",
       "46           46\n",
       "47           47\n",
       "48           48\n",
       "49           49\n",
       "50           50\n",
       "51           51\n",
       "52           52\n",
       "53           53\n",
       "54           54\n",
       "55           55"
      ]
     },
     "execution_count": 82,
     "metadata": {},
     "output_type": "execute_result"
    }
   ],
   "source": [
    "attr = matt_new.get_dimensional_attribute_table(\n",
    "    matt_new.dim_time_period\n",
    ")\n",
    "\n",
    "attr.table[[attr.key]]"
   ]
  },
  {
   "cell_type": "code",
   "execution_count": null,
   "id": "b752d41b-1657-4d21-916c-a6337378c232",
   "metadata": {},
   "outputs": [],
   "source": []
  },
  {
   "cell_type": "code",
   "execution_count": null,
   "id": "602b07b4-653f-41d7-9408-d33d7bcf47c9",
   "metadata": {},
   "outputs": [],
   "source": []
  },
  {
   "cell_type": "code",
   "execution_count": null,
   "id": "c3b0fbfb-1d67-4e1f-9616-a770d6c0e329",
   "metadata": {},
   "outputs": [],
   "source": []
  },
  {
   "cell_type": "code",
   "execution_count": 70,
   "id": "144aa45f-14f7-47ec-96a6-f85da94109fe",
   "metadata": {
    "tags": []
   },
   "outputs": [
    {
     "name": "stdout",
     "output_type": "stream",
     "text": [
      "MISSIONSEARCHNOTE: As of 2023-10-06, there is a temporary solution implemeted in ModelAttributes.get_variable_to_simplex_group_dictionary() to ensure that transition probability rows are enforced on a simplex.\n",
      "\n",
      "FIX THIS ASAP TO DERIVE PROPERLY.\n"
     ]
    },
    {
     "name": "stderr",
     "output_type": "stream",
     "text": [
      "  Activating project at `~/Documents/Projects/git_jbus/sisepuede/julia`\n",
      "WARNING: replacing module SISEPUEDEPJSF.\n"
     ]
    },
    {
     "name": "stdout",
     "output_type": "stream",
     "text": [
      "starting NemoMod\n",
      "2024-29-Feb 11:40:05.742 Opened SQLite database at /Users/jsyme/Documents/Projects/git_jbus/sisepuede/tmp/nemomod_intermediate_database.sqlite.\n",
      "2024-29-Feb 11:40:05.773 Added NEMO structure to SQLite database at /Users/jsyme/Documents/Projects/git_jbus/sisepuede/tmp/nemomod_intermediate_database.sqlite.\n",
      "2024-29-Feb 11:40:07.821 Started modeling scenario.\n",
      "NEMO encountered an error with the following message: SQLite.SQLiteException(\"attempt to write a readonly database\").\n",
      "To report this issue to the NEMO team, please submit an error report at https://leap.sei.org/support/. Please include in the report a list of steps to reproduce the error and the error message.\n"
     ]
    },
    {
     "name": "stderr",
     "output_type": "stream",
     "text": [
      "┌ Warning: Model period activity upper limits for technologies (TotalTechnologyModelPeriodActivityUpperLimit parameter) are not enforced when modeling selected years.\n",
      "└ @ NemoMod ~/.julia/packages/NemoMod/d2ky8/src/scenario_calculation.jl:464\n",
      "┌ Warning: Model period emission limits (ModelPeriodEmissionLimit parameter) are not enforced when modeling selected years.\n",
      "└ @ NemoMod ~/.julia/packages/NemoMod/d2ky8/src/scenario_calculation.jl:6181\n"
     ]
    }
   ],
   "source": [
    "importlib.reload(mv)\n",
    "importlib.reload(mafl)\n",
    "importlib.reload(ma)\n",
    "importlib.reload(mc)\n",
    "importlib.reload(me)\n",
    "importlib.reload(ml)\n",
    "importlib.reload(se)\n",
    "\n",
    "logger = None\n",
    "matt_new = ma.ModelAttributes(\n",
    "    path, \n",
    "    fp_config = path.parents[2].joinpath(\"sisepuede.config\")\n",
    ")\n",
    "\n",
    "\n",
    "\n",
    "\n",
    "model_afolu = mafl.AFOLU(matt_new)\n",
    "model_circecon = mc.CircularEconomy(matt_new);\n",
    "model_ippu = mi.IPPU(matt_new);\n",
    "model_elec = ml.ElectricEnergy(\n",
    "    matt_new, \n",
    "    sa.dir_jl, \n",
    "    sa.dir_ref_nemo, \n",
    "    logger = None, \n",
    "    initialize_julia = True,\n",
    ");\n",
    "\n",
    "model_energy = me.NonElectricEnergy(matt_new);\n",
    "model_socioeconomic = se.Socioeconomic(matt_new);\n",
    "\n",
    "\n",
    "def run_strat(\n",
    "    df_in: pd.DataFrame,\n",
    "    project_nemomod: bool = False,\n",
    ") -> pd.DataFrame:\n",
    "    \n",
    "    df_elec = None\n",
    "    df_cs_integrated = df_in.copy()\n",
    "    \n",
    "    df_project_afolu = model_afolu.project(df_cs_integrated)\n",
    "    df_cs_integrated = sf.merge_output_df_list([df_cs_integrated, df_project_afolu], matt_new, \"concatenate\")\n",
    "    \n",
    "    # pass integrated df\n",
    "    df_project_ce = model_circecon.project(df_cs_integrated)\n",
    "    df_cs_integrated = sf.merge_output_df_list([df_cs_integrated, df_project_ce], matt_new, \"concatenate\")\n",
    "    \n",
    "    # pass integrated df\n",
    "    df_project_ip = model_ippu.project(df_cs_integrated)\n",
    "    df_cs_integrated = sf.merge_output_df_list([df_cs_integrated, df_project_ip], matt_new, \"concatenate\")\n",
    "    \n",
    "    # pass integrated df\n",
    "    df_project_en = model_energy.project(df_cs_integrated);\n",
    "    df_cs_integrated = sf.merge_output_df_list([df_cs_integrated, df_project_en], matt_new, \"concatenate\")\n",
    "    \n",
    "    df_elec = None\n",
    "    if project_nemomod:\n",
    "        print(\"starting NemoMod\")\n",
    "        os.remove(sa.fp_sqlite_nemomod_db_tmp) if os.path.exists(sa.fp_sqlite_nemomod_db_tmp) else None\n",
    "        engine = sqlalchemy.create_engine(f\"sqlite:///{sa.fp_sqlite_nemomod_db_tmp}\")\n",
    "        t0 = time.time()\n",
    "        df_elec = model_elec.project(df_cs_integrated, engine = engine, regions = \"india\")\n",
    "        t1 = time.time()\n",
    "\n",
    "    return df_project_afolu, df_cs_integrated, df_elec\n",
    "\n",
    "\n",
    "\n",
    "dfap, dfc, dfe = run_strat(df_base_input, project_nemomod = True)\n",
    "\n",
    "\n",
    "\n"
   ]
  },
  {
   "cell_type": "code",
   "execution_count": 15,
   "id": "df60a92b-b918-4af3-9c59-b00f25b092cf",
   "metadata": {},
   "outputs": [],
   "source": [
    "import sqlalchemy\n",
    "import sql_utilities as sqlu\n",
    "\n",
    "fp_sqlite_works = \"/Users/jsyme/Documents/Projects/git_jbus/sisepuede/tmp/nemomod_intermediate_database_WORKS.sqlite\"\n",
    "fp_sqlite_new = \"/Users/jsyme/Documents/Projects/git_jbus/sisepuede/tmp/nemomod_intermediate_database.sqlite\"\n",
    "\n",
    "\n",
    "# \n",
    "\n",
    "def get_tables_as_dict(\n",
    "    fp: str,\n",
    ") -> dict:\n",
    "    \n",
    "\n",
    "    engine = sqlalchemy.create_engine(f\"sqlite:///{fp}\")\n",
    "    dict_out = {}\n",
    "    \n",
    "    tbl_names = engine.table_names()\n",
    "    \n",
    "    for tbl in tbl_names:\n",
    "        tab = sqlcols_diff = []\n",
    "check = []\n",
    "\n",
    "for k, v_works in dict_works.items():\n",
    "    \n",
    "    v_new = dict_new.get(k)\n",
    "    if v_new is None:\n",
    "        print(f\"{k} not found in New\")\n",
    "        continue\n",
    "    \n",
    "    if any(v_new.columns != v_works.columns):\n",
    "        print(f\"columns differ for {k}\\n\")\n",
    "        cols_diff.append(k)\n",
    "        continue\n",
    "        \n",
    "    \n",
    "    if (v_new.shape != v_works.shape) & (\"f\" in v_new.columns):\n",
    "        print(f\"appending {k} to check\\n\")\n",
    "        check.append(k)\n",
    "        \n",
    "    \n",
    "    u.sql_table_to_df(\n",
    "            engine,\n",
    "            tbl\n",
    "        )\n",
    "        \n",
    "        dict_out.update({tbl: tab})\n",
    "\n",
    "    return dict_out, engine\n",
    "\n",
    "\n",
    "\n",
    "dict_works, engine_works = get_tables_as_dict(fp_sqlite_works)\n",
    "dict_new, engine_new = get_tables_as_dict(fp_sqlite_new)\n",
    "\n",
    "\n",
    "cols_diff = []\n",
    "check = []\n",
    "\n",
    "for k, v_works in dict_works.items():\n",
    "    \n",
    "    v_new = dict_new.get(k)\n",
    "    if v_new is None:\n",
    "        print(f\"{k} not found in New\")\n",
    "        continue\n",
    "    \n",
    "    if any(v_new.columns != v_works.columns):\n",
    "        print(f\"columns differ for {k}\\n\")\n",
    "        cols_diff.append(k)\n",
    "        continue\n",
    "        \n",
    "    \n",
    "    if (v_new.shape != v_works.shape) & (\"f\" in v_new.columns):\n",
    "        print(f\"appending {k} to check\\n\")\n",
    "        check.append(k)\n",
    "        \n",
    "    \n",
    "dict_new.get(\"MinShareProduction\")"
   ]
  },
  {
   "cell_type": "code",
   "execution_count": 66,
   "id": "ab44c342-f1dd-4c31-9fcf-58eb0d6c10e7",
   "metadata": {},
   "outputs": [
    {
     "data": {
      "text/html": [
       "<div>\n",
       "<style scoped>\n",
       "    .dataframe tbody tr th:only-of-type {\n",
       "        vertical-align: middle;\n",
       "    }\n",
       "\n",
       "    .dataframe tbody tr th {\n",
       "        vertical-align: top;\n",
       "    }\n",
       "\n",
       "    .dataframe thead th {\n",
       "        text-align: right;\n",
       "    }\n",
       "</style>\n",
       "<table border=\"1\" class=\"dataframe\">\n",
       "  <thead>\n",
       "    <tr style=\"text-align: right;\">\n",
       "      <th></th>\n",
       "      <th>emission_co2e_subsector_total_entc</th>\n",
       "    </tr>\n",
       "  </thead>\n",
       "  <tbody>\n",
       "    <tr>\n",
       "      <th>51</th>\n",
       "      <td>689.425059</td>\n",
       "    </tr>\n",
       "    <tr>\n",
       "      <th>52</th>\n",
       "      <td>697.038743</td>\n",
       "    </tr>\n",
       "    <tr>\n",
       "      <th>53</th>\n",
       "      <td>695.387911</td>\n",
       "    </tr>\n",
       "    <tr>\n",
       "      <th>54</th>\n",
       "      <td>692.717155</td>\n",
       "    </tr>\n",
       "    <tr>\n",
       "      <th>55</th>\n",
       "      <td>690.684005</td>\n",
       "    </tr>\n",
       "  </tbody>\n",
       "</table>\n",
       "</div>"
      ],
      "text/plain": [
       "    emission_co2e_subsector_total_entc\n",
       "51                          689.425059\n",
       "52                          697.038743\n",
       "53                          695.387911\n",
       "54                          692.717155\n",
       "55                          690.684005"
      ]
     },
     "execution_count": 66,
     "metadata": {},
     "output_type": "execute_result"
    }
   ],
   "source": [
    "dfe[[x for x in dfe.columns if x.startswith(\"emission_co2e_subsector\")]].tail()"
   ]
  },
  {
   "cell_type": "code",
   "execution_count": 68,
   "id": "d219c582-c4e9-4441-91cc-3d98a989b1ad",
   "metadata": {},
   "outputs": [],
   "source": [
    "df_base[[x for x in dfe.columns if x.startswith(\"emission_co2e_subsector\")]].tail()"
   ]
  },
  {
   "cell_type": "code",
   "execution_count": null,
   "id": "4b924f5e-fb4b-4a10-b42d-0a9d0777e208",
   "metadata": {},
   "outputs": [],
   "source": []
  },
  {
   "cell_type": "code",
   "execution_count": null,
   "id": "23558a51-241f-404c-9525-d4a2f4c9d664",
   "metadata": {},
   "outputs": [],
   "source": []
  },
  {
   "cell_type": "code",
   "execution_count": null,
   "id": "8636b9e2-35c6-47ce-91e5-57e69c2612bc",
   "metadata": {},
   "outputs": [],
   "source": []
  },
  {
   "cell_type": "code",
   "execution_count": null,
   "id": "8f4a9ec6-ea21-4194-a3b6-7c2524740a37",
   "metadata": {},
   "outputs": [],
   "source": []
  },
  {
   "cell_type": "code",
   "execution_count": null,
   "id": "2f51210a-eeb0-4346-a550-874f61b20ec9",
   "metadata": {
    "tags": []
   },
   "outputs": [],
   "source": []
  },
  {
   "cell_type": "code",
   "execution_count": null,
   "id": "f6b72e9d-71d3-435f-9266-27b383f249da",
   "metadata": {
    "tags": []
   },
   "outputs": [],
   "source": []
  },
  {
   "cell_type": "code",
   "execution_count": null,
   "id": "1c7dc502-3b2d-43fc-b3a1-dce8f231b0dd",
   "metadata": {
    "tags": []
   },
   "outputs": [],
   "source": []
  },
  {
   "cell_type": "code",
   "execution_count": 96,
   "id": "9ce99240-bcd1-45b9-9d34-98ae48fe920e",
   "metadata": {},
   "outputs": [],
   "source": []
  },
  {
   "cell_type": "code",
   "execution_count": 99,
   "id": "aa552f70-0864-4162-8139-dfd19560fb7d",
   "metadata": {},
   "outputs": [],
   "source": []
  },
  {
   "cell_type": "code",
   "execution_count": 117,
   "id": "798933a2-6d5b-4bf9-8eb2-5dd6de497230",
   "metadata": {},
   "outputs": [],
   "source": []
  },
  {
   "cell_type": "code",
   "execution_count": null,
   "id": "86018e54-295b-4981-a5ab-3027a4cd5a51",
   "metadata": {},
   "outputs": [],
   "source": []
  },
  {
   "cell_type": "code",
   "execution_count": null,
   "id": "94d4bb67-2e15-4f53-a5c7-d68dce772ab9",
   "metadata": {},
   "outputs": [],
   "source": [
    "\n"
   ]
  },
  {
   "cell_type": "code",
   "execution_count": null,
   "id": "08aa9070-c098-4b9d-a488-74dbac18bc3f",
   "metadata": {},
   "outputs": [],
   "source": []
  },
  {
   "cell_type": "code",
   "execution_count": null,
   "id": "69694854-f952-4501-841b-a082cfda3c27",
   "metadata": {},
   "outputs": [],
   "source": []
  },
  {
   "cell_type": "code",
   "execution_count": null,
   "id": "3333f365-8075-47e3-82f1-5f1044223d2f",
   "metadata": {},
   "outputs": [],
   "source": []
  },
  {
   "cell_type": "code",
   "execution_count": null,
   "id": "d495f021-12c3-44ac-a5eb-6ab51792ee6c",
   "metadata": {},
   "outputs": [],
   "source": [
    "modvar = matt_new.dict_variables.get(\"Unadjusted Land Use Transition Probability\")\n",
    "modvar = matt_new.dict_variables.get(\":math:\\\\text{CH}_4 Stationary Combustion Emission Factor\")\n",
    "\n",
    "#modvar.attribute(\"unit_mass\")\n",
    "modvar.attribute(\"unit_area\")\n",
    "modvar.name_fs_safe.upper()\n"
   ]
  },
  {
   "cell_type": "code",
   "execution_count": 5,
   "id": "c636df7e-d15f-480a-83bf-544f079c3c7e",
   "metadata": {
    "tags": []
   },
   "outputs": [
    {
     "data": {
      "text/plain": [
       "['cat_industry_dim1', 'cat_industry_dim2', 'cat_transportation']"
      ]
     },
     "execution_count": 5,
     "metadata": {},
     "output_type": "execute_result"
    }
   ],
   "source": [
    "importlib.reload(sf)\n",
    "importlib.reload(mv)\n",
    "import time\n",
    "\n",
    "\n",
    "t0 = time.time()\n",
    "#modvar = mv.ModelVariable(\n",
    "#    attr_vars.table.iloc[2],\n",
    "#    sa.model_attributes.dict_attributes,\n",
    "#)\n",
    "t1 = time.time()\n",
    "\n",
    "\"\"\"\n",
    "vs = mv.VariableSchema(\n",
    "    modvar.dict_varinfo.get(\"variable_schema\")\n",
    ")\n",
    "vs.mutable_elements_clean_ordered\n",
    "vs.replace({\"cat_industry\": \"cement\"}, keys_are_clean = True,)\n",
    "\"\"\";\n",
    "\n",
    "#modvar.dict_varinfo\n",
    "#modvar.dict_varinfo\n",
    "\n",
    "\n",
    "\n",
    "\n",
    "\n",
    "series = attr_vars.table.iloc[2].copy()\n",
    "series[\"variable_schema\"] = \"``ef_ippu_$UNIT-MASS$_$EMISSION-GAS$_per_$UNIT-MASS$_product_use_$CAT-INDUSTRY-DIM1$_$CAT-INDUSTRY-DIM2$_$CAT-TRANSPORTATION$`` (``$UNIT-MASS$ = tonne``, ``$EMISSION-GAS$ = co2``\"\n",
    "series[\"categories\"] = \"(``$CAT-INDUSTRY_DIM2$ = paper|cement|plastic``, ``$CAT-INDUSTRY-DIM1$ = product_use_lubricants|product_use_paraffin_wax|cement|plastic``, ``$CAT-TRANSPORTATION$ = aviation|rail_freight|dymm``)\"\n",
    "series[\"default_value\"] = 0.0\n",
    "#series[\"categories\"] = \"(``$CAT-INDUSTRY$ = all``, ``$CAT-TRANSPORTATION$ = aviation|rail_freight|dymm``)\"\n",
    "\n",
    "#series[\"variable_schema\"] = \"pij_$CAT-LANDUSE-DIM1$_to_$CAT-LANDUSE-DIM2$\"\n",
    "#series[\"categories\"] = \"all\"\n",
    "\n",
    "modvar = mv.ModelVariable(\n",
    "    series,\n",
    "    sa.model_attributes.dict_attributes,\n",
    ")\n",
    "\n",
    "\n",
    "\n",
    "\n",
    "\n",
    "# get_root_element(\"CAT-INDUSTRY-DIM4\")\n",
    "#modvar.schema.get_root_element(\"cat_industry_dim3\")\n",
    "# modvar.schema.mutable_elements_clean_ordered\n",
    "modvar.dict_category_keys\n",
    "modvar.schema.mutable_elements_clean_ordered\n",
    "\n",
    "\n",
    "\n"
   ]
  },
  {
   "cell_type": "code",
   "execution_count": null,
   "id": "39e1a5f5-5c46-49f5-b874-ff174abd5c5a",
   "metadata": {},
   "outputs": [],
   "source": []
  },
  {
   "cell_type": "code",
   "execution_count": 1132,
   "id": "fc4554e3-1aad-4d57-b531-19041dc3a704",
   "metadata": {
    "tags": []
   },
   "outputs": [
    {
     "data": {
      "text/plain": [
       "('temp_gr',)"
      ]
     },
     "execution_count": 1132,
     "metadata": {},
     "output_type": "execute_result"
    }
   ],
   "source": [
    "regex_at = re.compile(\"attribute_unit_(.*).csv\")\n",
    "regex_at.match(\"attribute_unit_temp_gr.csv\").groups()\n",
    "\n"
   ]
  },
  {
   "cell_type": "code",
   "execution_count": 1138,
   "id": "ef134b4f-4ef2-46a3-b070-ce08766310b7",
   "metadata": {},
   "outputs": [
    {
     "data": {
      "text/html": [
       "<div>\n",
       "<style scoped>\n",
       "    .dataframe tbody tr th:only-of-type {\n",
       "        vertical-align: middle;\n",
       "    }\n",
       "\n",
       "    .dataframe tbody tr th {\n",
       "        vertical-align: top;\n",
       "    }\n",
       "\n",
       "    .dataframe thead th {\n",
       "        text-align: right;\n",
       "    }\n",
       "</style>\n",
       "<table border=\"1\" class=\"dataframe\">\n",
       "  <thead>\n",
       "    <tr style=\"text-align: right;\">\n",
       "      <th></th>\n",
       "      <th>length</th>\n",
       "      <th>unit_length</th>\n",
       "      <th>name</th>\n",
       "      <th>length_equivalent_m</th>\n",
       "      <th>length_equivalent_km</th>\n",
       "      <th>length_equivalent_mile</th>\n",
       "      <th>length_equivalent_mgm</th>\n",
       "      <th>length_equivalent_gm</th>\n",
       "    </tr>\n",
       "  </thead>\n",
       "  <tbody>\n",
       "    <tr>\n",
       "      <th>0</th>\n",
       "      <td>m</td>\n",
       "      <td>``m``</td>\n",
       "      <td>Meters</td>\n",
       "      <td>1.000000e+00</td>\n",
       "      <td>0.00100</td>\n",
       "      <td>6.213730e-04</td>\n",
       "      <td>0.000001</td>\n",
       "      <td>1.000000e-09</td>\n",
       "    </tr>\n",
       "    <tr>\n",
       "      <th>1</th>\n",
       "      <td>km</td>\n",
       "      <td>``km``</td>\n",
       "      <td>Kilometers</td>\n",
       "      <td>1.000000e+03</td>\n",
       "      <td>1.00000</td>\n",
       "      <td>6.213700e-01</td>\n",
       "      <td>0.001000</td>\n",
       "      <td>1.000000e-06</td>\n",
       "    </tr>\n",
       "    <tr>\n",
       "      <th>2</th>\n",
       "      <td>Mile</td>\n",
       "      <td>``mile``</td>\n",
       "      <td>Miles</td>\n",
       "      <td>1.609340e+03</td>\n",
       "      <td>1.60934</td>\n",
       "      <td>1.000000e+00</td>\n",
       "      <td>0.001609</td>\n",
       "      <td>1.609340e-06</td>\n",
       "    </tr>\n",
       "    <tr>\n",
       "      <th>3</th>\n",
       "      <td>Mm</td>\n",
       "      <td>``mgm``</td>\n",
       "      <td>Megameters</td>\n",
       "      <td>1.000000e+06</td>\n",
       "      <td>1000.00000</td>\n",
       "      <td>6.213700e-04</td>\n",
       "      <td>1.000000</td>\n",
       "      <td>1.000000e-03</td>\n",
       "    </tr>\n",
       "    <tr>\n",
       "      <th>4</th>\n",
       "      <td>Gm</td>\n",
       "      <td>``gm``</td>\n",
       "      <td>Gigameters</td>\n",
       "      <td>1.000000e+09</td>\n",
       "      <td>1000000.00000</td>\n",
       "      <td>6.213700e-07</td>\n",
       "      <td>1000.000000</td>\n",
       "      <td>1.000000e+00</td>\n",
       "    </tr>\n",
       "  </tbody>\n",
       "</table>\n",
       "</div>"
      ],
      "text/plain": [
       "  length unit_length        name  length_equivalent_m  length_equivalent_km  \\\n",
       "0      m       ``m``      Meters         1.000000e+00               0.00100   \n",
       "1     km      ``km``  Kilometers         1.000000e+03               1.00000   \n",
       "2   Mile    ``mile``       Miles         1.609340e+03               1.60934   \n",
       "3     Mm     ``mgm``  Megameters         1.000000e+06            1000.00000   \n",
       "4     Gm      ``gm``  Gigameters         1.000000e+09         1000000.00000   \n",
       "\n",
       "   length_equivalent_mile  length_equivalent_mgm  length_equivalent_gm  \n",
       "0            6.213730e-04               0.000001          1.000000e-09  \n",
       "1            6.213700e-01               0.001000          1.000000e-06  \n",
       "2            1.000000e+00               0.001609          1.609340e-06  \n",
       "3            6.213700e-04               1.000000          1.000000e-03  \n",
       "4            6.213700e-07            1000.000000          1.000000e+00  "
      ]
     },
     "execution_count": 1138,
     "metadata": {},
     "output_type": "execute_result"
    }
   ],
   "source": [
    "#sa.model_attributes.all_model_variables\n",
    "fp = \"/Users/jsyme/Documents/Projects/git_jbus/sisepuede/docs/source/csvs/attribute_length.csv\"\n",
    "at = AttributeTable(fp, \"length\", clean_table_fields = True,)\n",
    "at.table()"
   ]
  },
  {
   "cell_type": "code",
   "execution_count": 1052,
   "id": "90587052-baeb-410f-a9f4-ab48bd62bf67",
   "metadata": {
    "collapsed": true,
    "jupyter": {
     "outputs_hidden": true
    },
    "tags": []
   },
   "outputs": [
    {
     "data": {
      "text/plain": [
       "array([[0.92536768, 0.24845778, 0.37953433, 0.14847882, 0.25139435,\n",
       "        0.71123234, 0.15856626, 0.48581205, 0.68147416, 0.54829414,\n",
       "        0.08388734, 0.42894816, 0.66173826, 0.07984463, 0.47521661,\n",
       "        0.38798217, 0.5266003 , 0.4420342 , 0.88720961, 0.88586851,\n",
       "        0.70495647, 0.64484206, 0.15106266, 0.60722337],\n",
       "       [0.92536768, 0.24845778, 0.37953433, 0.14847882, 0.25139435,\n",
       "        0.71123234, 0.15856626, 0.48581205, 0.68147416, 0.54829414,\n",
       "        0.08388734, 0.42894816, 0.66173826, 0.07984463, 0.47521661,\n",
       "        0.38798217, 0.5266003 , 0.4420342 , 0.88720961, 0.88586851,\n",
       "        0.70495647, 0.64484206, 0.15106266, 0.60722337],\n",
       "       [0.92536768, 0.24845778, 0.37953433, 0.14847882, 0.25139435,\n",
       "        0.71123234, 0.15856626, 0.48581205, 0.68147416, 0.54829414,\n",
       "        0.08388734, 0.42894816, 0.66173826, 0.07984463, 0.47521661,\n",
       "        0.38798217, 0.5266003 , 0.4420342 , 0.88720961, 0.88586851,\n",
       "        0.70495647, 0.64484206, 0.15106266, 0.60722337],\n",
       "       [0.92536768, 0.24845778, 0.37953433, 0.14847882, 0.25139435,\n",
       "        0.71123234, 0.15856626, 0.48581205, 0.68147416, 0.54829414,\n",
       "        0.08388734, 0.42894816, 0.66173826, 0.07984463, 0.47521661,\n",
       "        0.38798217, 0.5266003 , 0.4420342 , 0.88720961, 0.88586851,\n",
       "        0.70495647, 0.64484206, 0.15106266, 0.60722337],\n",
       "       [0.92536768, 0.24845778, 0.37953433, 0.14847882, 0.25139435,\n",
       "        0.71123234, 0.15856626, 0.48581205, 0.68147416, 0.54829414,\n",
       "        0.08388734, 0.42894816, 0.66173826, 0.07984463, 0.47521661,\n",
       "        0.38798217, 0.5266003 , 0.4420342 , 0.88720961, 0.88586851,\n",
       "        0.70495647, 0.64484206, 0.15106266, 0.60722337],\n",
       "       [0.92536768, 0.24845778, 0.37953433, 0.14847882, 0.25139435,\n",
       "        0.71123234, 0.15856626, 0.48581205, 0.68147416, 0.54829414,\n",
       "        0.08388734, 0.42894816, 0.66173826, 0.07984463, 0.47521661,\n",
       "        0.38798217, 0.5266003 , 0.4420342 , 0.88720961, 0.88586851,\n",
       "        0.70495647, 0.64484206, 0.15106266, 0.60722337],\n",
       "       [0.92536768, 0.24845778, 0.37953433, 0.14847882, 0.25139435,\n",
       "        0.71123234, 0.15856626, 0.48581205, 0.68147416, 0.54829414,\n",
       "        0.08388734, 0.42894816, 0.66173826, 0.07984463, 0.47521661,\n",
       "        0.38798217, 0.5266003 , 0.4420342 , 0.88720961, 0.88586851,\n",
       "        0.70495647, 0.64484206, 0.15106266, 0.60722337],\n",
       "       [0.92536768, 0.24845778, 0.37953433, 0.14847882, 0.25139435,\n",
       "        0.71123234, 0.15856626, 0.48581205, 0.68147416, 0.54829414,\n",
       "        0.08388734, 0.42894816, 0.66173826, 0.07984463, 0.47521661,\n",
       "        0.38798217, 0.5266003 , 0.4420342 , 0.88720961, 0.88586851,\n",
       "        0.70495647, 0.64484206, 0.15106266, 0.60722337],\n",
       "       [0.92536768, 0.24845778, 0.37953433, 0.14847882, 0.25139435,\n",
       "        0.71123234, 0.15856626, 0.48581205, 0.68147416, 0.54829414,\n",
       "        0.08388734, 0.42894816, 0.66173826, 0.07984463, 0.47521661,\n",
       "        0.38798217, 0.5266003 , 0.4420342 , 0.88720961, 0.88586851,\n",
       "        0.70495647, 0.64484206, 0.15106266, 0.60722337],\n",
       "       [0.92536768, 0.24845778, 0.37953433, 0.14847882, 0.25139435,\n",
       "        0.71123234, 0.15856626, 0.48581205, 0.68147416, 0.54829414,\n",
       "        0.08388734, 0.42894816, 0.66173826, 0.07984463, 0.47521661,\n",
       "        0.38798217, 0.5266003 , 0.4420342 , 0.88720961, 0.88586851,\n",
       "        0.70495647, 0.64484206, 0.15106266, 0.60722337],\n",
       "       [0.92536768, 0.24845778, 0.37953433, 0.14847882, 0.25139435,\n",
       "        0.71123234, 0.15856626, 0.48581205, 0.68147416, 0.54829414,\n",
       "        0.08388734, 0.42894816, 0.66173826, 0.07984463, 0.47521661,\n",
       "        0.38798217, 0.5266003 , 0.4420342 , 0.88720961, 0.88586851,\n",
       "        0.70495647, 0.64484206, 0.15106266, 0.60722337],\n",
       "       [0.92536768, 0.24845778, 0.37953433, 0.14847882, 0.25139435,\n",
       "        0.71123234, 0.15856626, 0.48581205, 0.68147416, 0.54829414,\n",
       "        0.08388734, 0.42894816, 0.66173826, 0.07984463, 0.47521661,\n",
       "        0.38798217, 0.5266003 , 0.4420342 , 0.88720961, 0.88586851,\n",
       "        0.70495647, 0.64484206, 0.15106266, 0.60722337],\n",
       "       [0.92536768, 0.24845778, 0.37953433, 0.14847882, 0.25139435,\n",
       "        0.71123234, 0.15856626, 0.48581205, 0.68147416, 0.54829414,\n",
       "        0.08388734, 0.42894816, 0.66173826, 0.07984463, 0.47521661,\n",
       "        0.38798217, 0.5266003 , 0.4420342 , 0.88720961, 0.88586851,\n",
       "        0.70495647, 0.64484206, 0.15106266, 0.60722337],\n",
       "       [0.92536768, 0.24845778, 0.37953433, 0.14847882, 0.25139435,\n",
       "        0.71123234, 0.15856626, 0.48581205, 0.68147416, 0.54829414,\n",
       "        0.08388734, 0.42894816, 0.66173826, 0.07984463, 0.47521661,\n",
       "        0.38798217, 0.5266003 , 0.4420342 , 0.88720961, 0.88586851,\n",
       "        0.70495647, 0.64484206, 0.15106266, 0.60722337],\n",
       "       [0.92536768, 0.24845778, 0.37953433, 0.14847882, 0.25139435,\n",
       "        0.71123234, 0.15856626, 0.48581205, 0.68147416, 0.54829414,\n",
       "        0.08388734, 0.42894816, 0.66173826, 0.07984463, 0.47521661,\n",
       "        0.38798217, 0.5266003 , 0.4420342 , 0.88720961, 0.88586851,\n",
       "        0.70495647, 0.64484206, 0.15106266, 0.60722337],\n",
       "       [0.92536768, 0.24845778, 0.37953433, 0.14847882, 0.25139435,\n",
       "        0.71123234, 0.15856626, 0.48581205, 0.68147416, 0.54829414,\n",
       "        0.08388734, 0.42894816, 0.66173826, 0.07984463, 0.47521661,\n",
       "        0.38798217, 0.5266003 , 0.4420342 , 0.88720961, 0.88586851,\n",
       "        0.70495647, 0.64484206, 0.15106266, 0.60722337],\n",
       "       [0.92536768, 0.24845778, 0.37953433, 0.14847882, 0.25139435,\n",
       "        0.71123234, 0.15856626, 0.48581205, 0.68147416, 0.54829414,\n",
       "        0.08388734, 0.42894816, 0.66173826, 0.07984463, 0.47521661,\n",
       "        0.38798217, 0.5266003 , 0.4420342 , 0.88720961, 0.88586851,\n",
       "        0.70495647, 0.64484206, 0.15106266, 0.60722337],\n",
       "       [0.92536768, 0.24845778, 0.37953433, 0.14847882, 0.25139435,\n",
       "        0.71123234, 0.15856626, 0.48581205, 0.68147416, 0.54829414,\n",
       "        0.08388734, 0.42894816, 0.66173826, 0.07984463, 0.47521661,\n",
       "        0.38798217, 0.5266003 , 0.4420342 , 0.88720961, 0.88586851,\n",
       "        0.70495647, 0.64484206, 0.15106266, 0.60722337],\n",
       "       [0.92536768, 0.24845778, 0.37953433, 0.14847882, 0.25139435,\n",
       "        0.71123234, 0.15856626, 0.48581205, 0.68147416, 0.54829414,\n",
       "        0.08388734, 0.42894816, 0.66173826, 0.07984463, 0.47521661,\n",
       "        0.38798217, 0.5266003 , 0.4420342 , 0.88720961, 0.88586851,\n",
       "        0.70495647, 0.64484206, 0.15106266, 0.60722337],\n",
       "       [0.92536768, 0.24845778, 0.37953433, 0.14847882, 0.25139435,\n",
       "        0.71123234, 0.15856626, 0.48581205, 0.68147416, 0.54829414,\n",
       "        0.08388734, 0.42894816, 0.66173826, 0.07984463, 0.47521661,\n",
       "        0.38798217, 0.5266003 , 0.4420342 , 0.88720961, 0.88586851,\n",
       "        0.70495647, 0.64484206, 0.15106266, 0.60722337]])"
      ]
     },
     "execution_count": 1052,
     "metadata": {},
     "output_type": "execute_result"
    }
   ],
   "source": [
    "modvar(\n",
    "    df, \n",
    "    expand_to_all_categories = False,\n",
    "    return_type = \"array\",\n",
    ")"
   ]
  },
  {
   "cell_type": "code",
   "execution_count": 1026,
   "id": "5d37d3a5-aea8-4360-853e-f120ff364f75",
   "metadata": {
    "tags": []
   },
   "outputs": [],
   "source": [
    "#modvar.name.replace(\":math:\", \"\").replace(\"{\", \"\").replace(\"\\\\text\", \"\").replace(\"}\")\n",
    "df = np.full((20, len(modvar.fields_space)), -1)\n",
    "df = pd.DataFrame(df, columns = modvar.fields_space)\n",
    "for fld in modvar.fields:\n",
    "    df[fld] = np.random.rand()\n",
    "    \n",
    "    \n"
   ]
  },
  {
   "cell_type": "code",
   "execution_count": null,
   "id": "caac1809-c452-4e43-8c91-6939950ce2a5",
   "metadata": {
    "jp-MarkdownHeadingCollapsed": true,
    "tags": []
   },
   "outputs": [],
   "source": [
    "importlib.reload(mv)\n",
    "\n",
    "series = attr_vars.table.iloc[2].copy()\n",
    "series[\"variable_schema\"] = \"``ef_ippu_$UNIT-MASS$_$EMISSION-GAS$_per_$UNIT-MASS$_product_use_$CAT-INDUSTRY-DIM1$_$CAT-INDUSTRY-DIM2$_$CAT-TRANSPORTATION$`` (``$UNIT-MASS$ = tonne``, ``$EMISSION-GAS$ = co2``\"\n",
    "series[\"categories\"] = \"(``$CAT-INDUSTRY_DIM2$ = paper|cement|plastic``, ``$CAT-INDUSTRY-DIM1$ = product_use_lubricants|product_use_paraffin_wax|cement|plastic``, ``$CAT-TRANSPORTATION$ = aviation|rail_freight|dymm``)\"\n",
    "\n",
    "modvar = mv.ModelVariable(\n",
    "    series,\n",
    "    sa.model_attributes.dict_attributes,\n",
    ")\n",
    "\n",
    "\n",
    "\n",
    "\n",
    "modvar.get_categories_by_element(\n",
    "    #{\n",
    "    #    \"cat_industry_dim1\": [\"metals\", \"plastic\", \"chemicals\"],#\"``metals|plastic|chemicals``\"\n",
    "    #},\n",
    "    dict_category_space = modvar.dict_category_key_space,\n",
    ")\n",
    "\n",
    "\n"
   ]
  },
  {
   "cell_type": "code",
   "execution_count": 816,
   "id": "8bc989be-ca3e-4c70-af82-a7e61a4fc069",
   "metadata": {},
   "outputs": [
    {
     "data": {
      "text/plain": [
       "163.66612111292963"
      ]
     },
     "execution_count": 816,
     "metadata": {},
     "output_type": "execute_result"
    }
   ],
   "source": [
    "modvar.schema.get_root_element(\"cat_indusdtry_dim2\")\n",
    "20000/122.2"
   ]
  },
  {
   "cell_type": "code",
   "execution_count": 785,
   "id": "dad4a19b-637c-4767-a4ab-d435d2e99e8e",
   "metadata": {},
   "outputs": [
    {
     "data": {
      "text/plain": [
       "'_'"
      ]
     },
     "execution_count": 785,
     "metadata": {},
     "output_type": "execute_result"
    }
   ],
   "source": [
    "regex.match(\"CAT-INDUSTRY-DIM3\")\n",
    "mv.clean_element(\"-\")\n",
    "\n",
    "\n",
    "\n"
   ]
  },
  {
   "cell_type": "code",
   "execution_count": 666,
   "id": "6cc9dd28-85f1-4915-b128-cf9a2a0e7ade",
   "metadata": {},
   "outputs": [
    {
     "data": {
      "text/plain": [
       "<re.Match object; span=(0, 13), match='ahitheX-DIM34'>"
      ]
     },
     "execution_count": 666,
     "metadata": {},
     "output_type": "execute_result"
    }
   ],
   "source": [
    "modvar.schema.mutable_elements_ordered\n",
    "modvar.schema.space_char\n",
    "re.compile(f\".*{modvar.schema.space_char}{modvar.schema.flag_dim}(\\d*)$\").match(\"ahitheX-DIM34\")\n",
    "\n",
    "\n",
    "\n"
   ]
  },
  {
   "cell_type": "code",
   "execution_count": 527,
   "id": "3de038f5-f249-4f07-a471-6d6bebeff826",
   "metadata": {},
   "outputs": [
    {
     "data": {
      "text/plain": [
       "{'cat_industry': ['product_use_lubricants', 'product_use_paraffin_wax']}"
      ]
     },
     "execution_count": 527,
     "metadata": {},
     "output_type": "execute_result"
    }
   ],
   "source": [
    "#modvar.schema.get_attribute(\"emission_gas\")\n",
    "hasattr(attr_cat, \"key_values\")\n",
    "#modvar.get_categories_from_string(modvar.dict_varinfo.get(modvar.key_categories), \"|\", \"`\")\n",
    "\n",
    "modvar.get_categories_by_element(\n",
    "    category_subspace = {\n",
    "        \"cat_industry\": \"``product_use_lubricants|product_use_paraffin_wax``\",\n",
    "        \"cat_transportation\": \"``product_use_lubricants``|``product_use_paraffin_wax``\",\n",
    "        \"cat_transportation\": \"``product_use_lubricants``|``product_use_paraffin_wax``\",\n",
    "    },\n",
    "    dict_category_space = modvar.dict_category_keys,\n",
    "    \n",
    ")"
   ]
  },
  {
   "cell_type": "code",
   "execution_count": 390,
   "id": "c395bad9-1ed4-48fb-850f-79dacb4e4e39",
   "metadata": {},
   "outputs": [
    {
     "data": {
      "text/plain": [
       "'thisun_jfijdf'"
      ]
     },
     "execution_count": 390,
     "metadata": {},
     "output_type": "execute_result"
    }
   ],
   "source": [
    "modvar.schema.get_mutable_element(\n",
    "    \"ef_ippu_tonne_co2_per_tonne_production_thisun_jfijdf_clinker\",\n",
    "    \"cat_industry\"\n",
    ") "
   ]
  },
  {
   "cell_type": "code",
   "execution_count": 290,
   "id": "ae5fdb95-2b5a-4176-aa67-5ec8627a5645",
   "metadata": {},
   "outputs": [
    {
     "data": {
      "text/plain": [
       "'ef_ippu_tonne_co2_per_tonne_production_cement_clinker'"
      ]
     },
     "execution_count": 290,
     "metadata": {},
     "output_type": "execute_result"
    }
   ],
   "source": [
    "modvar.build_field_from_elements(\n",
    "    {\"cat_industry\": \"cement\"}, \n",
    "    keys_are_clean = True\n",
    ")\n",
    "\n"
   ]
  },
  {
   "cell_type": "code",
   "execution_count": 302,
   "id": "6306077f-61f9-485c-bada-a9b1adbff687",
   "metadata": {},
   "outputs": [
    {
     "data": {
      "text/plain": [
       "('ef_ippu_tonne_co2_per_tonne_production_cement_clinker',\n",
       " {'cat_industry': 'cement'})"
      ]
     },
     "execution_count": 302,
     "metadata": {},
     "output_type": "execute_result"
    }
   ],
   "source": [
    "class Field:\n",
    "    \n",
    "    def __init__(self,\n",
    "        field: str,\n",
    "        cat: Union[Dict, str, None],\n",
    "    ):\n",
    "        \n",
    "        self.field = field\n",
    "        self.cat = cat\n",
    "        \n",
    "        \n",
    "    \n",
    "    def __call__(self,\n",
    "    ):\n",
    "        \n",
    "        return self.field\n",
    "    \n",
    "\n",
    "field = Field(\"ef_ippu_tonne_co2_per_tonne_production_cement_clinker\", {\"cat_industry\": \"cement\"})\n",
    "\n",
    "field(), field.cat\n",
    "        "
   ]
  },
  {
   "cell_type": "code",
   "execution_count": 278,
   "id": "0f6c29d4-49a8-476c-9f97-a6332926ee1d",
   "metadata": {},
   "outputs": [
    {
     "data": {
      "text/plain": [
       "'ef_ippu_tonne_ch4_per_tonne_production_cementitude_airplanification'"
      ]
     },
     "execution_count": 278,
     "metadata": {},
     "output_type": "execute_result"
    }
   ],
   "source": [
    "sr = \"``ef_ippu_$UNIT-MASS$_$EMISSION-GAS$_per_$UNIT-MASS$_production_$CAT-INDUSTRY-I$_$CAT-TRANSPORTATION-J$`` (``$UNIT-MASS$ = tonne``, ``$EMISSION-GAS$ = ch4``)\"\n",
    "vs2 = mv.VariableSchema(sr)\n",
    "vs2.mutable_elements_ordered\n",
    "\n",
    "\n",
    "vs2.replace({\"cat_industry_i\": \"cementitude\", \"cat_transportation_j\": \"airplanification\"}, keys_are_clean = True,)"
   ]
  },
  {
   "cell_type": "code",
   "execution_count": null,
   "id": "f337bbd4-cee0-4b29-9db8-ffddfb1c277a",
   "metadata": {},
   "outputs": [],
   "source": [
    "vs.mutable_elements_clean_ordered\n",
    "\n"
   ]
  },
  {
   "cell_type": "code",
   "execution_count": null,
   "id": "35959685-0fbb-41ea-a2c5-44c870eac296",
   "metadata": {},
   "outputs": [],
   "source": [
    "sa.model_attributes.dict_attributes.get(\"abbreviation_subsector\").table;"
   ]
  },
  {
   "cell_type": "code",
   "execution_count": 244,
   "id": "05c08aec-2599-490f-a515-f91fcce2b71f",
   "metadata": {},
   "outputs": [
    {
     "data": {
      "text/plain": [
       "{None: 2}"
      ]
     },
     "execution_count": 244,
     "metadata": {},
     "output_type": "execute_result"
    }
   ],
   "source": [
    "dict1 = {}\n",
    "\n",
    "dict1[None] = 2\n",
    "dict1"
   ]
  },
  {
   "cell_type": "code",
   "execution_count": 195,
   "id": "19acef7e-0458-4c12-b7f6-d7c204747355",
   "metadata": {},
   "outputs": [],
   "source": [
    "def get_variable_schema_base(#self,\n",
    "    var_schema_raw: str,\n",
    ") -> str:\n",
    "    \"\"\"\n",
    "    Using a raw variable schema, replace any unit and emission specifications\n",
    "    \"\"\"\n",
    "    \n",
    "    dict_replacements, schema  = mv.clean_schema(\n",
    "        var_schema_raw, \n",
    "        return_type = \"all\"\n",
    "    )\n",
    "    \n",
    "    return dict_replacements, schema\n",
    "\n",
    "dict_replacements, schema = get_variable_schema_base(\n",
    "    modvar.dict_varinfo.get(\"variable_schema\")\n",
    ")"
   ]
  },
  {
   "cell_type": "code",
   "execution_count": 198,
   "id": "87c236de-1668-4252-915b-16feaef97472",
   "metadata": {},
   "outputs": [
    {
     "data": {
      "text/plain": [
       "True"
      ]
     },
     "execution_count": 198,
     "metadata": {},
     "output_type": "execute_result"
    }
   ],
   "source": [
    "isinstance(pd.DataFrame, type)"
   ]
  },
  {
   "cell_type": "code",
   "execution_count": 201,
   "id": "8f7ce3ef-a7fb-44ae-b8a0-78edf9e02d75",
   "metadata": {},
   "outputs": [
    {
     "data": {
      "text/plain": [
       "['THIS', ' ', 'THIS2']"
      ]
     },
     "execution_count": 201,
     "metadata": {},
     "output_type": "execute_result"
    }
   ],
   "source": [
    "#regex = re.compile(\"(.*)\\$(.*)\\$(.*$)\")\n",
    "regex = re.compile(\"(?<=\\$)(.*?)(?=\\$)\")\n",
    "regex.findall(\"this $THIS$ $THIS2$\")\n",
    "#regex = re.search(\"(?<=\\$)(.*?)(?=\\$)\", \"this $HERE$ $NOPE$\")\n",
    "\n",
    "\n",
    "\n"
   ]
  },
  {
   "cell_type": "code",
   "execution_count": 182,
   "id": "04b5de40-77b2-4231-abe4-b5ba79d2af06",
   "metadata": {},
   "outputs": [
    {
     "data": {
      "text/plain": [
       "0"
      ]
     },
     "execution_count": 182,
     "metadata": {},
     "output_type": "execute_result"
    }
   ],
   "source": [
    "string = \"this $THIS$ $THIS2$\"\n",
    "string.count(\"$\")"
   ]
  },
  {
   "cell_type": "code",
   "execution_count": 193,
   "id": "3ff3cae0-e09b-47af-be40-343963501ed2",
   "metadata": {},
   "outputs": [
    {
     "data": {
      "text/plain": [
       "'``ef_ippu_$UNIT-MASS$_$EMISSION-GAS$_per_$UNIT-MASS$_production_$CAT-INDUSTRY$`` (``$UNIT-MASS$ = tonne``, ``$EMISSION-GAS$ = ch4``)'"
      ]
     },
     "execution_count": 193,
     "metadata": {},
     "output_type": "execute_result"
    }
   ],
   "source": [
    "modvar.dict_varinfo.get(\"variable_schema\")"
   ]
  },
  {
   "cell_type": "code",
   "execution_count": 215,
   "id": "f6a3388a-0e86-4db7-af19-d03fb80ba8d0",
   "metadata": {},
   "outputs": [],
   "source": [
    "arr_1 = np.array([7, 11, 13, 17, 19, 23, 29])\n",
    "\n",
    "prs = [2, 3, 5, 7, 11, 13, 17, 19]\n",
    "arr_2 = []\n",
    "gaps = []\n",
    "for i in range(np.prod(prs)):\n",
    "    check = [i%x for x in prs]\n",
    "    binary = int(0 in check)\n",
    "    \n",
    "    arr_2.append(binary)\n",
    "    if not binary:\n",
    "        gaps.append(i)\n",
    "\n",
    "\n",
    "P = np.prod(prs)\n",
    "gaps_g1 = [x for x in gaps if x > 1]\n",
    "\n",
    "classes = []\n",
    "if False:\n",
    "    l = []\n",
    "    for i in range(1, 2):#len(arr_1) + 1):\n",
    "        subs = list(itertools.combinations(gaps_g1, i))\n",
    "\n",
    "        l.extend(subs)\n",
    "\n",
    "\n",
    "    classes = []\n",
    "    for i, sub in enumerate(l):\n",
    "        val = np.prod(sub)\n",
    "        mod = val%P\n",
    "\n",
    "        classes.append(mod)\n",
    "\n",
    "    classes = set(classes)\n",
    "diffs = np.array(gaps[1:]) - np.array(gaps[0:-1])\n",
    "len([x for x in diffs if x == 4])\n",
    "w = np.abs(np.array(diffs[1:]) - np.array(diffs[0:-1]))\n",
    "w = np.where(w == 0)\n",
    "w;\n",
    "\n",
    "\n",
    "\n",
    "\n",
    "pi1 = prs[-1]\n",
    "counts_2 = []\n",
    "\n",
    "P_prev = np.prod(prs[0:-1])\n",
    "# check counts of 2 among each subdivision--should be relatively smooth\n",
    "for i in range(pi1):\n",
    "    gps = [x for x in gaps if (x >= i*P_prev) & (x < (i + 1)*P_prev)]\n",
    "    \n",
    "    ds = np.array(gps[1:]) - np.array(gps[0:-1])\n",
    "    n = len([x for x in ds if x == 2])\n",
    "    \n",
    "    print(n)\n",
    "    counts_2.append(n)\n",
    "    #len([x for x in diffs[0:n] if x == 2])\n",
    "    \n",
    "    \n",
    "import sympy\n",
    "# non-prime nums\n",
    "gaps_nopr = [x for x in gaps if (not sympy.isprime(x)) and (x > 1)]\n",
    "\n",
    "\n",
    "l = []\n",
    "for i in range(1, len(gaps_nopr) + 1):\n",
    "    subs = list(itertools.combinations(gaps_nopr, i))\n",
    "    \n",
    "    l.extend(subs)\n",
    "\n",
    "classes = []\n",
    "for i, sub in enumerate(l):\n",
    "    val = np.prod(sub)\n",
    "    mod = val%P\n",
    "    \n",
    "    classes.append(mod)\n",
    "    \n",
    "    \n",
    "gaps_nopr = [x for x in gaps if (not sympy.isprime(x)) and (x > 1)]\n",
    "classes = []\n",
    "for i in range(1, 3):#len(gaps_nopr) + 1):\n",
    "    combs = itertools.combinations(gaps_nopr, i)\n",
    "    \n",
    "    for comb in combs:\n",
    "        class_check = np.prod(comb)%P\n",
    "        classes.append(class_check) if (class_check not in classes) else None\n",
    "    \n",
    "classes2 = classes.copy()\n",
    "\n",
    "\n",
    "\n"
   ]
  },
  {
   "cell_type": "code",
   "execution_count": null,
   "id": "9289794c-34f2-42ca-a14b-c932ef873da8",
   "metadata": {},
   "outputs": [],
   "source": []
  },
  {
   "cell_type": "code",
   "execution_count": null,
   "id": "e9f53c7e-c014-42f7-ab7e-194b8864476c",
   "metadata": {},
   "outputs": [],
   "source": []
  },
  {
   "cell_type": "code",
   "execution_count": null,
   "id": "3345f038-7060-4125-a3bd-402dd8d8a635",
   "metadata": {},
   "outputs": [],
   "source": []
  },
  {
   "cell_type": "code",
   "execution_count": null,
   "id": "0376625b-7886-42d5-8419-2be70aa5e1c7",
   "metadata": {},
   "outputs": [],
   "source": []
  },
  {
   "cell_type": "code",
   "execution_count": null,
   "id": "0c69a838-c359-4a88-8b7a-52036bda9bf3",
   "metadata": {},
   "outputs": [],
   "source": []
  },
  {
   "cell_type": "code",
   "execution_count": null,
   "id": "5eff669d-0a67-4c08-9d72-9d2428a4a2e6",
   "metadata": {
    "tags": []
   },
   "outputs": [],
   "source": []
  },
  {
   "cell_type": "code",
   "execution_count": null,
   "id": "6f7a731e-52c8-4c26-9acd-b6e3e33ccedd",
   "metadata": {},
   "outputs": [],
   "source": []
  },
  {
   "cell_type": "code",
   "execution_count": null,
   "id": "e96cf772-f789-4f52-af8e-b1487e68108f",
   "metadata": {},
   "outputs": [],
   "source": []
  },
  {
   "cell_type": "code",
   "execution_count": 115,
   "id": "0c6c639d-fa24-4fa0-a2c1-ee61e09664ac",
   "metadata": {},
   "outputs": [],
   "source": []
  },
  {
   "cell_type": "code",
   "execution_count": null,
   "id": "a943b360-b9b0-464d-a4a8-7f909806351b",
   "metadata": {},
   "outputs": [],
   "source": []
  },
  {
   "cell_type": "code",
   "execution_count": null,
   "id": "6b33d742-a2fb-4cc7-a2d3-6cfd3fac39e1",
   "metadata": {},
   "outputs": [],
   "source": []
  },
  {
   "cell_type": "code",
   "execution_count": null,
   "id": "45fd778f-ba17-49bb-b979-3a3fa907dfdc",
   "metadata": {},
   "outputs": [],
   "source": []
  },
  {
   "cell_type": "code",
   "execution_count": 155,
   "id": "a3dca3a1-58a5-4ff6-b2d7-f2bf9da20209",
   "metadata": {},
   "outputs": [],
   "source": []
  },
  {
   "cell_type": "code",
   "execution_count": 152,
   "id": "d3a2df32-47fc-4de4-ae21-ed4fed57c6eb",
   "metadata": {},
   "outputs": [],
   "source": []
  },
  {
   "cell_type": "code",
   "execution_count": 163,
   "id": "1e649ebe-e4a4-4801-b226-7b7411186a14",
   "metadata": {},
   "outputs": [],
   "source": []
  },
  {
   "cell_type": "code",
   "execution_count": null,
   "id": "d6a6481f-a991-4202-adb1-802296b2baa0",
   "metadata": {},
   "outputs": [],
   "source": []
  }
 ],
 "metadata": {
  "kernelspec": {
   "display_name": "Python 3 (ipykernel)",
   "language": "python",
   "name": "python3"
  },
  "language_info": {
   "codemirror_mode": {
    "name": "ipython",
    "version": 3
   },
   "file_extension": ".py",
   "mimetype": "text/x-python",
   "name": "python",
   "nbconvert_exporter": "python",
   "pygments_lexer": "ipython3",
   "version": "3.11.0"
  }
 },
 "nbformat": 4,
 "nbformat_minor": 5
}
