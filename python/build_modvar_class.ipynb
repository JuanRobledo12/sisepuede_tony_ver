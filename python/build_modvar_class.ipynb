{
 "cells": [
  {
   "cell_type": "code",
   "execution_count": 2,
   "id": "d970f89d-676e-4058-9e48-8ba9166df470",
   "metadata": {
    "tags": []
   },
   "outputs": [
    {
     "name": "stdout",
     "output_type": "stream",
     "text": [
      "MISSIONSEARCHNOTE: As of 2023-10-06, there is a temporary solution implemeted in ModelAttributes.get_variable_to_simplex_group_dictionary() to ensure that transition probability rows are enforced on a simplex.\n",
      "\n",
      "FIX THIS ASAP TO DERIVE PROPERLY.\n"
     ]
    }
   ],
   "source": [
    "\n",
    "import os, os.path\n",
    "import numpy as np\n",
    "import pandas as pd\n",
    "import model_attributes as ma\n",
    "from attribute_table import AttributeTable\n",
    "import model_afolu as mafl\n",
    "import model_ippu as mi\n",
    "import model_circular_economy as mc\n",
    "import model_energy as me\n",
    "import model_electricity as ml\n",
    "import model_socioeconomic as se\n",
    "from model_socioeconomic import Socioeconomic\n",
    "import setup_analysis as sa\n",
    "import sisepuede as ssp\n",
    "import support_classes as sc\n",
    "import support_functions as sf\n",
    "import importlib\n",
    "import time\n",
    "import warnings\n",
    "import matplotlib.pyplot as plt\n",
    "import sql_utilities as sq\n",
    "from typing import *\n",
    "import sqlalchemy\n",
    "import sql_utilities as sqlutil\n",
    "import time\n",
    "importlib.reload(ma)\n",
    "importlib.reload(sa)\n",
    "importlib.reload(sf)\n",
    "importlib.reload(mafl)\n",
    "importlib.reload(mc)\n",
    "importlib.reload(mi)\n",
    "importlib.reload(me)\n",
    "importlib.reload(se)\n",
    "importlib.reload(ml)\n",
    "\n",
    "warnings.filterwarnings(\"ignore\")\n"
   ]
  },
  {
   "cell_type": "code",
   "execution_count": 16,
   "id": "55b0d62e-14e4-4803-a545-50c4ba8e3b05",
   "metadata": {},
   "outputs": [],
   "source": [
    "sa.model_attributes.dict_attributes.get(\"abbreviation_subsector\").table;"
   ]
  },
  {
   "cell_type": "code",
   "execution_count": 17,
   "id": "2f0b7bae-4ade-4f4c-be43-9a0953b7ab8c",
   "metadata": {
    "tags": []
   },
   "outputs": [],
   "source": [
    "attr_vars = sa.model_attributes.dict_varreqs.get(\"partial_category_ip_ippu\")#(\"Transportation\")\n",
    "attr_cat = sa.model_attributes.get_attribute_table(\"IPPU\")\n",
    "attr_vars.table;\n",
    "\n",
    "\n"
   ]
  },
  {
   "cell_type": "code",
   "execution_count": 414,
   "id": "1a85a465-101f-4bad-a073-a8b6062a27d2",
   "metadata": {
    "tags": []
   },
   "outputs": [
    {
     "data": {
      "text/plain": [
       "'``product_use_lubricants``|``product_use_paraffin_wax``'"
      ]
     },
     "execution_count": 414,
     "metadata": {},
     "output_type": "execute_result"
    }
   ],
   "source": [
    "dir(modvar.schema)\n",
    "modvar.dict_varinfo.get(modvar.key_categories)\n",
    "\n",
    "\n",
    "\n"
   ]
  },
  {
   "cell_type": "code",
   "execution_count": 1085,
   "id": "c636df7e-d15f-480a-83bf-544f079c3c7e",
   "metadata": {
    "tags": []
   },
   "outputs": [
    {
     "data": {
      "text/plain": [
       "['cat_industry_dim1', 'cat_industry_dim2', 'cat_transportation']"
      ]
     },
     "execution_count": 1085,
     "metadata": {},
     "output_type": "execute_result"
    }
   ],
   "source": [
    "importlib.reload(sf)\n",
    "importlib.reload(mv)\n",
    "import time\n",
    "\n",
    "\n",
    "t0 = time.time()\n",
    "#modvar = mv.ModelVariable(\n",
    "#    attr_vars.table.iloc[2],\n",
    "#    sa.model_attributes.dict_attributes,\n",
    "#)\n",
    "t1 = time.time()\n",
    "\n",
    "\"\"\"\n",
    "vs = mv.VariableSchema(\n",
    "    modvar.dict_varinfo.get(\"variable_schema\")\n",
    ")\n",
    "vs.mutable_elements_clean_ordered\n",
    "vs.replace({\"cat_industry\": \"cement\"}, keys_are_clean = True,)\n",
    "\"\"\";\n",
    "\n",
    "dir(modvar.schema)\n",
    "modvar.schema.get_attribute(\"emission_gas\") \n",
    "modvar.dict_category_keys\n",
    "#modvar.dict_varinfo\n",
    "#modvar.dict_varinfo\n",
    "\n",
    "\n",
    "\n",
    "\n",
    "\n",
    "series = attr_vars.table.iloc[2].copy()\n",
    "series[\"variable_schema\"] = \"``ef_ippu_$UNIT-MASS$_$EMISSION-GAS$_per_$UNIT-MASS$_product_use_$CAT-INDUSTRY-DIM1$_$CAT-INDUSTRY-DIM2$_$CAT-TRANSPORTATION$`` (``$UNIT-MASS$ = tonne``, ``$EMISSION-GAS$ = co2``\"\n",
    "series[\"categories\"] = \"(``$CAT-INDUSTRY_DIM2$ = paper|cement|plastic``, ``$CAT-INDUSTRY-DIM1$ = product_use_lubricants|product_use_paraffin_wax|cement|plastic``, ``$CAT-TRANSPORTATION$ = aviation|rail_freight|dymm``)\"\n",
    "series[\"default_value\"] = 0.0\n",
    "#series[\"categories\"] = \"(``$CAT-INDUSTRY$ = all``, ``$CAT-TRANSPORTATION$ = aviation|rail_freight|dymm``)\"\n",
    "\n",
    "#series[\"variable_schema\"] = \"pij_$CAT-LANDUSE-DIM1$_to_$CAT-LANDUSE-DIM2$\"\n",
    "#series[\"categories\"] = \"all\"\n",
    "\n",
    "modvar = mv.ModelVariable(\n",
    "    series,\n",
    "    sa.model_attributes.dict_attributes,\n",
    ")\n",
    "\n",
    "\n",
    "\n",
    "\n",
    "#\n",
    "# get_root_element(\"CAT-INDUSTRY-DIM4\")\n",
    "#modvar.schema.get_root_element(\"cat_industry_dim3\")\n",
    "# modvar.schema.mutable_elements_clean_ordered\n",
    "modvar.dict_category_keys\n",
    "modvar.schema.mutable_elements_clean_ordered\n",
    "\n",
    "\n",
    "\n"
   ]
  },
  {
   "cell_type": "code",
   "execution_count": null,
   "id": "fc4554e3-1aad-4d57-b531-19041dc3a704",
   "metadata": {
    "tags": []
   },
   "outputs": [],
   "source": []
  },
  {
   "cell_type": "code",
   "execution_count": 1125,
   "id": "ef134b4f-4ef2-46a3-b070-ce08766310b7",
   "metadata": {},
   "outputs": [],
   "source": [
    "#sa.model_attributes.all_model_variables"
   ]
  },
  {
   "cell_type": "code",
   "execution_count": 1052,
   "id": "90587052-baeb-410f-a9f4-ab48bd62bf67",
   "metadata": {},
   "outputs": [
    {
     "data": {
      "text/plain": [
       "array([[0.92536768, 0.24845778, 0.37953433, 0.14847882, 0.25139435,\n",
       "        0.71123234, 0.15856626, 0.48581205, 0.68147416, 0.54829414,\n",
       "        0.08388734, 0.42894816, 0.66173826, 0.07984463, 0.47521661,\n",
       "        0.38798217, 0.5266003 , 0.4420342 , 0.88720961, 0.88586851,\n",
       "        0.70495647, 0.64484206, 0.15106266, 0.60722337],\n",
       "       [0.92536768, 0.24845778, 0.37953433, 0.14847882, 0.25139435,\n",
       "        0.71123234, 0.15856626, 0.48581205, 0.68147416, 0.54829414,\n",
       "        0.08388734, 0.42894816, 0.66173826, 0.07984463, 0.47521661,\n",
       "        0.38798217, 0.5266003 , 0.4420342 , 0.88720961, 0.88586851,\n",
       "        0.70495647, 0.64484206, 0.15106266, 0.60722337],\n",
       "       [0.92536768, 0.24845778, 0.37953433, 0.14847882, 0.25139435,\n",
       "        0.71123234, 0.15856626, 0.48581205, 0.68147416, 0.54829414,\n",
       "        0.08388734, 0.42894816, 0.66173826, 0.07984463, 0.47521661,\n",
       "        0.38798217, 0.5266003 , 0.4420342 , 0.88720961, 0.88586851,\n",
       "        0.70495647, 0.64484206, 0.15106266, 0.60722337],\n",
       "       [0.92536768, 0.24845778, 0.37953433, 0.14847882, 0.25139435,\n",
       "        0.71123234, 0.15856626, 0.48581205, 0.68147416, 0.54829414,\n",
       "        0.08388734, 0.42894816, 0.66173826, 0.07984463, 0.47521661,\n",
       "        0.38798217, 0.5266003 , 0.4420342 , 0.88720961, 0.88586851,\n",
       "        0.70495647, 0.64484206, 0.15106266, 0.60722337],\n",
       "       [0.92536768, 0.24845778, 0.37953433, 0.14847882, 0.25139435,\n",
       "        0.71123234, 0.15856626, 0.48581205, 0.68147416, 0.54829414,\n",
       "        0.08388734, 0.42894816, 0.66173826, 0.07984463, 0.47521661,\n",
       "        0.38798217, 0.5266003 , 0.4420342 , 0.88720961, 0.88586851,\n",
       "        0.70495647, 0.64484206, 0.15106266, 0.60722337],\n",
       "       [0.92536768, 0.24845778, 0.37953433, 0.14847882, 0.25139435,\n",
       "        0.71123234, 0.15856626, 0.48581205, 0.68147416, 0.54829414,\n",
       "        0.08388734, 0.42894816, 0.66173826, 0.07984463, 0.47521661,\n",
       "        0.38798217, 0.5266003 , 0.4420342 , 0.88720961, 0.88586851,\n",
       "        0.70495647, 0.64484206, 0.15106266, 0.60722337],\n",
       "       [0.92536768, 0.24845778, 0.37953433, 0.14847882, 0.25139435,\n",
       "        0.71123234, 0.15856626, 0.48581205, 0.68147416, 0.54829414,\n",
       "        0.08388734, 0.42894816, 0.66173826, 0.07984463, 0.47521661,\n",
       "        0.38798217, 0.5266003 , 0.4420342 , 0.88720961, 0.88586851,\n",
       "        0.70495647, 0.64484206, 0.15106266, 0.60722337],\n",
       "       [0.92536768, 0.24845778, 0.37953433, 0.14847882, 0.25139435,\n",
       "        0.71123234, 0.15856626, 0.48581205, 0.68147416, 0.54829414,\n",
       "        0.08388734, 0.42894816, 0.66173826, 0.07984463, 0.47521661,\n",
       "        0.38798217, 0.5266003 , 0.4420342 , 0.88720961, 0.88586851,\n",
       "        0.70495647, 0.64484206, 0.15106266, 0.60722337],\n",
       "       [0.92536768, 0.24845778, 0.37953433, 0.14847882, 0.25139435,\n",
       "        0.71123234, 0.15856626, 0.48581205, 0.68147416, 0.54829414,\n",
       "        0.08388734, 0.42894816, 0.66173826, 0.07984463, 0.47521661,\n",
       "        0.38798217, 0.5266003 , 0.4420342 , 0.88720961, 0.88586851,\n",
       "        0.70495647, 0.64484206, 0.15106266, 0.60722337],\n",
       "       [0.92536768, 0.24845778, 0.37953433, 0.14847882, 0.25139435,\n",
       "        0.71123234, 0.15856626, 0.48581205, 0.68147416, 0.54829414,\n",
       "        0.08388734, 0.42894816, 0.66173826, 0.07984463, 0.47521661,\n",
       "        0.38798217, 0.5266003 , 0.4420342 , 0.88720961, 0.88586851,\n",
       "        0.70495647, 0.64484206, 0.15106266, 0.60722337],\n",
       "       [0.92536768, 0.24845778, 0.37953433, 0.14847882, 0.25139435,\n",
       "        0.71123234, 0.15856626, 0.48581205, 0.68147416, 0.54829414,\n",
       "        0.08388734, 0.42894816, 0.66173826, 0.07984463, 0.47521661,\n",
       "        0.38798217, 0.5266003 , 0.4420342 , 0.88720961, 0.88586851,\n",
       "        0.70495647, 0.64484206, 0.15106266, 0.60722337],\n",
       "       [0.92536768, 0.24845778, 0.37953433, 0.14847882, 0.25139435,\n",
       "        0.71123234, 0.15856626, 0.48581205, 0.68147416, 0.54829414,\n",
       "        0.08388734, 0.42894816, 0.66173826, 0.07984463, 0.47521661,\n",
       "        0.38798217, 0.5266003 , 0.4420342 , 0.88720961, 0.88586851,\n",
       "        0.70495647, 0.64484206, 0.15106266, 0.60722337],\n",
       "       [0.92536768, 0.24845778, 0.37953433, 0.14847882, 0.25139435,\n",
       "        0.71123234, 0.15856626, 0.48581205, 0.68147416, 0.54829414,\n",
       "        0.08388734, 0.42894816, 0.66173826, 0.07984463, 0.47521661,\n",
       "        0.38798217, 0.5266003 , 0.4420342 , 0.88720961, 0.88586851,\n",
       "        0.70495647, 0.64484206, 0.15106266, 0.60722337],\n",
       "       [0.92536768, 0.24845778, 0.37953433, 0.14847882, 0.25139435,\n",
       "        0.71123234, 0.15856626, 0.48581205, 0.68147416, 0.54829414,\n",
       "        0.08388734, 0.42894816, 0.66173826, 0.07984463, 0.47521661,\n",
       "        0.38798217, 0.5266003 , 0.4420342 , 0.88720961, 0.88586851,\n",
       "        0.70495647, 0.64484206, 0.15106266, 0.60722337],\n",
       "       [0.92536768, 0.24845778, 0.37953433, 0.14847882, 0.25139435,\n",
       "        0.71123234, 0.15856626, 0.48581205, 0.68147416, 0.54829414,\n",
       "        0.08388734, 0.42894816, 0.66173826, 0.07984463, 0.47521661,\n",
       "        0.38798217, 0.5266003 , 0.4420342 , 0.88720961, 0.88586851,\n",
       "        0.70495647, 0.64484206, 0.15106266, 0.60722337],\n",
       "       [0.92536768, 0.24845778, 0.37953433, 0.14847882, 0.25139435,\n",
       "        0.71123234, 0.15856626, 0.48581205, 0.68147416, 0.54829414,\n",
       "        0.08388734, 0.42894816, 0.66173826, 0.07984463, 0.47521661,\n",
       "        0.38798217, 0.5266003 , 0.4420342 , 0.88720961, 0.88586851,\n",
       "        0.70495647, 0.64484206, 0.15106266, 0.60722337],\n",
       "       [0.92536768, 0.24845778, 0.37953433, 0.14847882, 0.25139435,\n",
       "        0.71123234, 0.15856626, 0.48581205, 0.68147416, 0.54829414,\n",
       "        0.08388734, 0.42894816, 0.66173826, 0.07984463, 0.47521661,\n",
       "        0.38798217, 0.5266003 , 0.4420342 , 0.88720961, 0.88586851,\n",
       "        0.70495647, 0.64484206, 0.15106266, 0.60722337],\n",
       "       [0.92536768, 0.24845778, 0.37953433, 0.14847882, 0.25139435,\n",
       "        0.71123234, 0.15856626, 0.48581205, 0.68147416, 0.54829414,\n",
       "        0.08388734, 0.42894816, 0.66173826, 0.07984463, 0.47521661,\n",
       "        0.38798217, 0.5266003 , 0.4420342 , 0.88720961, 0.88586851,\n",
       "        0.70495647, 0.64484206, 0.15106266, 0.60722337],\n",
       "       [0.92536768, 0.24845778, 0.37953433, 0.14847882, 0.25139435,\n",
       "        0.71123234, 0.15856626, 0.48581205, 0.68147416, 0.54829414,\n",
       "        0.08388734, 0.42894816, 0.66173826, 0.07984463, 0.47521661,\n",
       "        0.38798217, 0.5266003 , 0.4420342 , 0.88720961, 0.88586851,\n",
       "        0.70495647, 0.64484206, 0.15106266, 0.60722337],\n",
       "       [0.92536768, 0.24845778, 0.37953433, 0.14847882, 0.25139435,\n",
       "        0.71123234, 0.15856626, 0.48581205, 0.68147416, 0.54829414,\n",
       "        0.08388734, 0.42894816, 0.66173826, 0.07984463, 0.47521661,\n",
       "        0.38798217, 0.5266003 , 0.4420342 , 0.88720961, 0.88586851,\n",
       "        0.70495647, 0.64484206, 0.15106266, 0.60722337]])"
      ]
     },
     "execution_count": 1052,
     "metadata": {},
     "output_type": "execute_result"
    }
   ],
   "source": [
    "modvar(\n",
    "    df, \n",
    "    expand_to_all_categories = False,\n",
    "    return_type = \"array\",\n",
    ")"
   ]
  },
  {
   "cell_type": "code",
   "execution_count": 1026,
   "id": "5d37d3a5-aea8-4360-853e-f120ff364f75",
   "metadata": {
    "tags": []
   },
   "outputs": [],
   "source": [
    "#modvar.name.replace(\":math:\", \"\").replace(\"{\", \"\").replace(\"\\\\text\", \"\").replace(\"}\")\n",
    "df = np.full((20, len(modvar.fields_space)), -1)\n",
    "df = pd.DataFrame(df, columns = modvar.fields_space)\n",
    "for fld in modvar.fields:\n",
    "    df[fld] = np.random.rand()\n",
    "    \n",
    "    \n"
   ]
  },
  {
   "cell_type": "code",
   "execution_count": null,
   "id": "caac1809-c452-4e43-8c91-6939950ce2a5",
   "metadata": {
    "jp-MarkdownHeadingCollapsed": true,
    "tags": []
   },
   "outputs": [],
   "source": [
    "importlib.reload(mv)\n",
    "\n",
    "series = attr_vars.table.iloc[2].copy()\n",
    "series[\"variable_schema\"] = \"``ef_ippu_$UNIT-MASS$_$EMISSION-GAS$_per_$UNIT-MASS$_product_use_$CAT-INDUSTRY-DIM1$_$CAT-INDUSTRY-DIM2$_$CAT-TRANSPORTATION$`` (``$UNIT-MASS$ = tonne``, ``$EMISSION-GAS$ = co2``\"\n",
    "series[\"categories\"] = \"(``$CAT-INDUSTRY_DIM2$ = paper|cement|plastic``, ``$CAT-INDUSTRY-DIM1$ = product_use_lubricants|product_use_paraffin_wax|cement|plastic``, ``$CAT-TRANSPORTATION$ = aviation|rail_freight|dymm``)\"\n",
    "\n",
    "modvar = mv.ModelVariable(\n",
    "    series,\n",
    "    sa.model_attributes.dict_attributes,\n",
    ")\n",
    "\n",
    "\n",
    "\n",
    "\n",
    "modvar.get_categories_by_element(\n",
    "    #{\n",
    "    #    \"cat_industry_dim1\": [\"metals\", \"plastic\", \"chemicals\"],#\"``metals|plastic|chemicals``\"\n",
    "    #},\n",
    "    dict_category_space = modvar.dict_category_key_space,\n",
    ")\n",
    "\n",
    "\n"
   ]
  },
  {
   "cell_type": "code",
   "execution_count": 816,
   "id": "8bc989be-ca3e-4c70-af82-a7e61a4fc069",
   "metadata": {},
   "outputs": [
    {
     "data": {
      "text/plain": [
       "163.66612111292963"
      ]
     },
     "execution_count": 816,
     "metadata": {},
     "output_type": "execute_result"
    }
   ],
   "source": [
    "modvar.schema.get_root_element(\"cat_indusdtry_dim2\")\n",
    "20000/122.2"
   ]
  },
  {
   "cell_type": "code",
   "execution_count": 785,
   "id": "dad4a19b-637c-4767-a4ab-d435d2e99e8e",
   "metadata": {},
   "outputs": [
    {
     "data": {
      "text/plain": [
       "'_'"
      ]
     },
     "execution_count": 785,
     "metadata": {},
     "output_type": "execute_result"
    }
   ],
   "source": [
    "regex.match(\"CAT-INDUSTRY-DIM3\")\n",
    "mv.clean_element(\"-\")\n",
    "\n",
    "\n",
    "\n"
   ]
  },
  {
   "cell_type": "code",
   "execution_count": 666,
   "id": "6cc9dd28-85f1-4915-b128-cf9a2a0e7ade",
   "metadata": {},
   "outputs": [
    {
     "data": {
      "text/plain": [
       "<re.Match object; span=(0, 13), match='ahitheX-DIM34'>"
      ]
     },
     "execution_count": 666,
     "metadata": {},
     "output_type": "execute_result"
    }
   ],
   "source": [
    "modvar.schema.mutable_elements_ordered\n",
    "modvar.schema.space_char\n",
    "re.compile(f\".*{modvar.schema.space_char}{modvar.schema.flag_dim}(\\d*)$\").match(\"ahitheX-DIM34\")\n",
    "\n",
    "\n",
    "\n"
   ]
  },
  {
   "cell_type": "code",
   "execution_count": 527,
   "id": "3de038f5-f249-4f07-a471-6d6bebeff826",
   "metadata": {},
   "outputs": [
    {
     "data": {
      "text/plain": [
       "{'cat_industry': ['product_use_lubricants', 'product_use_paraffin_wax']}"
      ]
     },
     "execution_count": 527,
     "metadata": {},
     "output_type": "execute_result"
    }
   ],
   "source": [
    "#modvar.schema.get_attribute(\"emission_gas\")\n",
    "hasattr(attr_cat, \"key_values\")\n",
    "#modvar.get_categories_from_string(modvar.dict_varinfo.get(modvar.key_categories), \"|\", \"`\")\n",
    "\n",
    "modvar.get_categories_by_element(\n",
    "    category_subspace = {\n",
    "        \"cat_industry\": \"``product_use_lubricants|product_use_paraffin_wax``\",\n",
    "        \"cat_transportation\": \"``product_use_lubricants``|``product_use_paraffin_wax``\",\n",
    "        \"cat_transportation\": \"``product_use_lubricants``|``product_use_paraffin_wax``\",\n",
    "    },\n",
    "    dict_category_space = modvar.dict_category_keys,\n",
    "    \n",
    ")"
   ]
  },
  {
   "cell_type": "code",
   "execution_count": 390,
   "id": "c395bad9-1ed4-48fb-850f-79dacb4e4e39",
   "metadata": {},
   "outputs": [
    {
     "data": {
      "text/plain": [
       "'thisun_jfijdf'"
      ]
     },
     "execution_count": 390,
     "metadata": {},
     "output_type": "execute_result"
    }
   ],
   "source": [
    "modvar.schema.get_mutable_element(\n",
    "    \"ef_ippu_tonne_co2_per_tonne_production_thisun_jfijdf_clinker\",\n",
    "    \"cat_industry\"\n",
    ") "
   ]
  },
  {
   "cell_type": "code",
   "execution_count": 290,
   "id": "ae5fdb95-2b5a-4176-aa67-5ec8627a5645",
   "metadata": {},
   "outputs": [
    {
     "data": {
      "text/plain": [
       "'ef_ippu_tonne_co2_per_tonne_production_cement_clinker'"
      ]
     },
     "execution_count": 290,
     "metadata": {},
     "output_type": "execute_result"
    }
   ],
   "source": [
    "modvar.build_field_from_elements(\n",
    "    {\"cat_industry\": \"cement\"}, \n",
    "    keys_are_clean = True\n",
    ")\n",
    "\n"
   ]
  },
  {
   "cell_type": "code",
   "execution_count": 302,
   "id": "6306077f-61f9-485c-bada-a9b1adbff687",
   "metadata": {},
   "outputs": [
    {
     "data": {
      "text/plain": [
       "('ef_ippu_tonne_co2_per_tonne_production_cement_clinker',\n",
       " {'cat_industry': 'cement'})"
      ]
     },
     "execution_count": 302,
     "metadata": {},
     "output_type": "execute_result"
    }
   ],
   "source": [
    "class Field:\n",
    "    \n",
    "    def __init__(self,\n",
    "        field: str,\n",
    "        cat: Union[Dict, str, None],\n",
    "    ):\n",
    "        \n",
    "        self.field = field\n",
    "        self.cat = cat\n",
    "        \n",
    "        \n",
    "    \n",
    "    def __call__(self,\n",
    "    ):\n",
    "        \n",
    "        return self.field\n",
    "    \n",
    "\n",
    "field = Field(\"ef_ippu_tonne_co2_per_tonne_production_cement_clinker\", {\"cat_industry\": \"cement\"})\n",
    "\n",
    "field(), field.cat\n",
    "        "
   ]
  },
  {
   "cell_type": "code",
   "execution_count": 278,
   "id": "0f6c29d4-49a8-476c-9f97-a6332926ee1d",
   "metadata": {},
   "outputs": [
    {
     "data": {
      "text/plain": [
       "'ef_ippu_tonne_ch4_per_tonne_production_cementitude_airplanification'"
      ]
     },
     "execution_count": 278,
     "metadata": {},
     "output_type": "execute_result"
    }
   ],
   "source": [
    "sr = \"``ef_ippu_$UNIT-MASS$_$EMISSION-GAS$_per_$UNIT-MASS$_production_$CAT-INDUSTRY-I$_$CAT-TRANSPORTATION-J$`` (``$UNIT-MASS$ = tonne``, ``$EMISSION-GAS$ = ch4``)\"\n",
    "vs2 = mv.VariableSchema(sr)\n",
    "vs2.mutable_elements_ordered\n",
    "\n",
    "\n",
    "vs2.replace({\"cat_industry_i\": \"cementitude\", \"cat_transportation_j\": \"airplanification\"}, keys_are_clean = True,)"
   ]
  },
  {
   "cell_type": "code",
   "execution_count": null,
   "id": "f337bbd4-cee0-4b29-9db8-ffddfb1c277a",
   "metadata": {},
   "outputs": [],
   "source": [
    "vs.mutable_elements_clean_ordered\n",
    "\n"
   ]
  },
  {
   "cell_type": "code",
   "execution_count": null,
   "id": "35959685-0fbb-41ea-a2c5-44c870eac296",
   "metadata": {},
   "outputs": [],
   "source": [
    "sa.model_attributes.dict_attributes.get(\"abbreviation_subsector\").table;"
   ]
  },
  {
   "cell_type": "code",
   "execution_count": 244,
   "id": "05c08aec-2599-490f-a515-f91fcce2b71f",
   "metadata": {},
   "outputs": [
    {
     "data": {
      "text/plain": [
       "{None: 2}"
      ]
     },
     "execution_count": 244,
     "metadata": {},
     "output_type": "execute_result"
    }
   ],
   "source": [
    "dict1 = {}\n",
    "\n",
    "dict1[None] = 2\n",
    "dict1"
   ]
  },
  {
   "cell_type": "code",
   "execution_count": 195,
   "id": "19acef7e-0458-4c12-b7f6-d7c204747355",
   "metadata": {},
   "outputs": [],
   "source": [
    "def get_variable_schema_base(#self,\n",
    "    var_schema_raw: str,\n",
    ") -> str:\n",
    "    \"\"\"\n",
    "    Using a raw variable schema, replace any unit and emission specifications\n",
    "    \"\"\"\n",
    "    \n",
    "    dict_replacements, schema  = mv.clean_schema(\n",
    "        var_schema_raw, \n",
    "        return_type = \"all\"\n",
    "    )\n",
    "    \n",
    "    return dict_replacements, schema\n",
    "\n",
    "dict_replacements, schema = get_variable_schema_base(\n",
    "    modvar.dict_varinfo.get(\"variable_schema\")\n",
    ")"
   ]
  },
  {
   "cell_type": "code",
   "execution_count": 198,
   "id": "87c236de-1668-4252-915b-16feaef97472",
   "metadata": {},
   "outputs": [
    {
     "data": {
      "text/plain": [
       "True"
      ]
     },
     "execution_count": 198,
     "metadata": {},
     "output_type": "execute_result"
    }
   ],
   "source": [
    "isinstance(pd.DataFrame, type)"
   ]
  },
  {
   "cell_type": "code",
   "execution_count": 201,
   "id": "8f7ce3ef-a7fb-44ae-b8a0-78edf9e02d75",
   "metadata": {},
   "outputs": [
    {
     "data": {
      "text/plain": [
       "['THIS', ' ', 'THIS2']"
      ]
     },
     "execution_count": 201,
     "metadata": {},
     "output_type": "execute_result"
    }
   ],
   "source": [
    "#regex = re.compile(\"(.*)\\$(.*)\\$(.*$)\")\n",
    "regex = re.compile(\"(?<=\\$)(.*?)(?=\\$)\")\n",
    "regex.findall(\"this $THIS$ $THIS2$\")\n",
    "#regex = re.search(\"(?<=\\$)(.*?)(?=\\$)\", \"this $HERE$ $NOPE$\")\n",
    "\n",
    "\n",
    "\n"
   ]
  },
  {
   "cell_type": "code",
   "execution_count": 182,
   "id": "04b5de40-77b2-4231-abe4-b5ba79d2af06",
   "metadata": {},
   "outputs": [
    {
     "data": {
      "text/plain": [
       "0"
      ]
     },
     "execution_count": 182,
     "metadata": {},
     "output_type": "execute_result"
    }
   ],
   "source": [
    "string = \"this $THIS$ $THIS2$\"\n",
    "string.count(\"$\")"
   ]
  },
  {
   "cell_type": "code",
   "execution_count": 193,
   "id": "3ff3cae0-e09b-47af-be40-343963501ed2",
   "metadata": {},
   "outputs": [
    {
     "data": {
      "text/plain": [
       "'``ef_ippu_$UNIT-MASS$_$EMISSION-GAS$_per_$UNIT-MASS$_production_$CAT-INDUSTRY$`` (``$UNIT-MASS$ = tonne``, ``$EMISSION-GAS$ = ch4``)'"
      ]
     },
     "execution_count": 193,
     "metadata": {},
     "output_type": "execute_result"
    }
   ],
   "source": [
    "modvar.dict_varinfo.get(\"variable_schema\")"
   ]
  },
  {
   "cell_type": "code",
   "execution_count": 215,
   "id": "f6a3388a-0e86-4db7-af19-d03fb80ba8d0",
   "metadata": {},
   "outputs": [],
   "source": [
    "arr_1 = np.array([7, 11, 13, 17, 19, 23, 29])\n",
    "\n",
    "prs = [2, 3, 5, 7, 11, 13, 17, 19]\n",
    "arr_2 = []\n",
    "gaps = []\n",
    "for i in range(np.prod(prs)):\n",
    "    check = [i%x for x in prs]\n",
    "    binary = int(0 in check)\n",
    "    \n",
    "    arr_2.append(binary)\n",
    "    if not binary:\n",
    "        gaps.append(i)\n",
    "\n",
    "\n",
    "P = np.prod(prs)\n",
    "gaps_g1 = [x for x in gaps if x > 1]\n",
    "\n",
    "classes = []\n",
    "if False:\n",
    "    l = []\n",
    "    for i in range(1, 2):#len(arr_1) + 1):\n",
    "        subs = list(itertools.combinations(gaps_g1, i))\n",
    "\n",
    "        l.extend(subs)\n",
    "\n",
    "\n",
    "    classes = []\n",
    "    for i, sub in enumerate(l):\n",
    "        val = np.prod(sub)\n",
    "        mod = val%P\n",
    "\n",
    "        classes.append(mod)\n",
    "\n",
    "    classes = set(classes)\n",
    "diffs = np.array(gaps[1:]) - np.array(gaps[0:-1])\n",
    "len([x for x in diffs if x == 4])\n",
    "w = np.abs(np.array(diffs[1:]) - np.array(diffs[0:-1]))\n",
    "w = np.where(w == 0)\n",
    "w;\n",
    "\n",
    "\n",
    "\n",
    "\n",
    "pi1 = prs[-1]\n",
    "counts_2 = []\n",
    "\n",
    "P_prev = np.prod(prs[0:-1])\n",
    "# check counts of 2 among each subdivision--should be relatively smooth\n",
    "for i in range(pi1):\n",
    "    gps = [x for x in gaps if (x >= i*P_prev) & (x < (i + 1)*P_prev)]\n",
    "    \n",
    "    ds = np.array(gps[1:]) - np.array(gps[0:-1])\n",
    "    n = len([x for x in ds if x == 2])\n",
    "    \n",
    "    print(n)\n",
    "    counts_2.append(n)\n",
    "    #len([x for x in diffs[0:n] if x == 2])\n",
    "    \n",
    "    \n",
    "import sympy\n",
    "# non-prime nums\n",
    "gaps_nopr = [x for x in gaps if (not sympy.isprime(x)) and (x > 1)]\n",
    "\n",
    "\n",
    "l = []\n",
    "for i in range(1, len(gaps_nopr) + 1):\n",
    "    subs = list(itertools.combinations(gaps_nopr, i))\n",
    "    \n",
    "    l.extend(subs)\n",
    "\n",
    "classes = []\n",
    "for i, sub in enumerate(l):\n",
    "    val = np.prod(sub)\n",
    "    mod = val%P\n",
    "    \n",
    "    classes.append(mod)\n",
    "    \n",
    "    \n",
    "gaps_nopr = [x for x in gaps if (not sympy.isprime(x)) and (x > 1)]\n",
    "classes = []\n",
    "for i in range(1, 3):#len(gaps_nopr) + 1):\n",
    "    combs = itertools.combinations(gaps_nopr, i)\n",
    "    \n",
    "    for comb in combs:\n",
    "        class_check = np.prod(comb)%P\n",
    "        classes.append(class_check) if (class_check not in classes) else None\n",
    "    \n",
    "classes2 = classes.copy()\n",
    "\n",
    "\n",
    "\n"
   ]
  },
  {
   "cell_type": "code",
   "execution_count": null,
   "id": "9289794c-34f2-42ca-a14b-c932ef873da8",
   "metadata": {},
   "outputs": [],
   "source": []
  },
  {
   "cell_type": "code",
   "execution_count": null,
   "id": "e9f53c7e-c014-42f7-ab7e-194b8864476c",
   "metadata": {},
   "outputs": [],
   "source": []
  },
  {
   "cell_type": "code",
   "execution_count": null,
   "id": "3345f038-7060-4125-a3bd-402dd8d8a635",
   "metadata": {},
   "outputs": [],
   "source": []
  },
  {
   "cell_type": "code",
   "execution_count": null,
   "id": "0376625b-7886-42d5-8419-2be70aa5e1c7",
   "metadata": {},
   "outputs": [],
   "source": []
  },
  {
   "cell_type": "code",
   "execution_count": null,
   "id": "0c69a838-c359-4a88-8b7a-52036bda9bf3",
   "metadata": {},
   "outputs": [],
   "source": []
  },
  {
   "cell_type": "code",
   "execution_count": null,
   "id": "5eff669d-0a67-4c08-9d72-9d2428a4a2e6",
   "metadata": {
    "tags": []
   },
   "outputs": [],
   "source": []
  },
  {
   "cell_type": "code",
   "execution_count": null,
   "id": "6f7a731e-52c8-4c26-9acd-b6e3e33ccedd",
   "metadata": {},
   "outputs": [],
   "source": []
  },
  {
   "cell_type": "code",
   "execution_count": null,
   "id": "e96cf772-f789-4f52-af8e-b1487e68108f",
   "metadata": {},
   "outputs": [],
   "source": []
  },
  {
   "cell_type": "code",
   "execution_count": 115,
   "id": "0c6c639d-fa24-4fa0-a2c1-ee61e09664ac",
   "metadata": {},
   "outputs": [],
   "source": []
  },
  {
   "cell_type": "code",
   "execution_count": null,
   "id": "a943b360-b9b0-464d-a4a8-7f909806351b",
   "metadata": {},
   "outputs": [],
   "source": []
  },
  {
   "cell_type": "code",
   "execution_count": null,
   "id": "6b33d742-a2fb-4cc7-a2d3-6cfd3fac39e1",
   "metadata": {},
   "outputs": [],
   "source": []
  },
  {
   "cell_type": "code",
   "execution_count": null,
   "id": "45fd778f-ba17-49bb-b979-3a3fa907dfdc",
   "metadata": {},
   "outputs": [],
   "source": []
  },
  {
   "cell_type": "code",
   "execution_count": 155,
   "id": "a3dca3a1-58a5-4ff6-b2d7-f2bf9da20209",
   "metadata": {},
   "outputs": [],
   "source": []
  },
  {
   "cell_type": "code",
   "execution_count": 152,
   "id": "d3a2df32-47fc-4de4-ae21-ed4fed57c6eb",
   "metadata": {},
   "outputs": [],
   "source": []
  },
  {
   "cell_type": "code",
   "execution_count": 163,
   "id": "1e649ebe-e4a4-4801-b226-7b7411186a14",
   "metadata": {},
   "outputs": [],
   "source": []
  },
  {
   "cell_type": "code",
   "execution_count": null,
   "id": "d6a6481f-a991-4202-adb1-802296b2baa0",
   "metadata": {},
   "outputs": [],
   "source": []
  }
 ],
 "metadata": {
  "kernelspec": {
   "display_name": "Python 3 (ipykernel)",
   "language": "python",
   "name": "python3"
  },
  "language_info": {
   "codemirror_mode": {
    "name": "ipython",
    "version": 3
   },
   "file_extension": ".py",
   "mimetype": "text/x-python",
   "name": "python",
   "nbconvert_exporter": "python",
   "pygments_lexer": "ipython3",
   "version": "3.11.0"
  }
 },
 "nbformat": 4,
 "nbformat_minor": 5
}
