{
 "cells": [
  {
   "cell_type": "code",
   "execution_count": 2,
   "id": "d970f89d-676e-4058-9e48-8ba9166df470",
   "metadata": {
    "tags": []
   },
   "outputs": [
    {
     "data": {
      "text/plain": [
       "<module 'model_electricity' from '/Users/jsyme/Documents/Projects/git_jbus/sisepuede/python/model_electricity.py'>"
      ]
     },
     "execution_count": 2,
     "metadata": {},
     "output_type": "execute_result"
    }
   ],
   "source": [
    "\n",
    "import warnings\n",
    "warnings.filterwarnings(\"ignore\")\n",
    "\n",
    "import os, os.path\n",
    "import numpy as np\n",
    "import pandas as pd\n",
    "import model_attributes as ma\n",
    "from attribute_table import AttributeTable\n",
    "\n",
    "import model_afolu as mafl\n",
    "import model_ippu as mi\n",
    "import model_circular_economy as mc\n",
    "import model_energy as me\n",
    "import model_electricity as ml\n",
    "import model_socioeconomic as se\n",
    "\n",
    "import pathlib\n",
    "import setup_analysis as sa\n",
    "import sisepuede as ssp\n",
    "import support_classes as sc\n",
    "import support_functions as sf\n",
    "import importlib\n",
    "import time\n",
    "import matplotlib.pyplot as plt\n",
    "import sql_utilities as sq\n",
    "from typing import *\n",
    "import sqlalchemy\n",
    "import sql_utilities as sqlutil\n",
    "import time\n",
    "importlib.reload(ma)\n",
    "#importlib.reload(sa)\n",
    "importlib.reload(sf)\n",
    "importlib.reload(mafl)\n",
    "importlib.reload(mc)\n",
    "importlib.reload(mi)\n",
    "importlib.reload(me)\n",
    "importlib.reload(se)\n",
    "importlib.reload(ml)\n",
    "\n",
    "\n"
   ]
  },
  {
   "cell_type": "code",
   "execution_count": 3,
   "id": "19606177-dd25-48ae-820f-b7d470ebe033",
   "metadata": {},
   "outputs": [],
   "source": [
    "import model_attributes as ma\n",
    "import model_variable as mv\n",
    "import units_manager as um"
   ]
  },
  {
   "cell_type": "code",
   "execution_count": null,
   "id": "a4ffd300-5e23-4b96-8722-16f9150c2e60",
   "metadata": {},
   "outputs": [],
   "source": []
  },
  {
   "cell_type": "code",
   "execution_count": 4,
   "id": "769830e6-8f83-4951-8724-9446aa3a3ef2",
   "metadata": {},
   "outputs": [],
   "source": [
    "fp = \"/Users/jsyme/Documents/Projects/git_jbus/sisepuede/out/sisepuede_summary_results_run_sisepuede_run_2024-02-10T17;45;35.578004/sisepuede_results_sisepuede_run_2024-02-10T17;45;35.578004_WIDE_INPUTS_OUTPUTS.csv\"\n",
    "df_test = pd.read_csv(fp)\n",
    "\n",
    "\n",
    "# path = pathlib.Path(sa.dir_ref)\n",
    "# path_fake_data = path.joinpath(\"fake_data\", \"fake_data_complete.csv\")\n",
    "# df_fake_data = pd.read_csv(path_fake_data)\n",
    "\n",
    "def add_missing_lvst_elast(\n",
    "    df: pd.DataFrame,\n",
    ") -> pd.DataFrame:\n",
    "    \"\"\"\n",
    "    add buffalo, goat, horse, and mule elasticities to a df\n",
    "    \"\"\"\n",
    "    \n",
    "    # sheep inputs\n",
    "    vec_sheep = df[\"elasticity_lvst_sheep_demand_to_gdppc\"].to_numpy()\n",
    "    \n",
    "    # buffalo\n",
    "    vec_buffalo = df[\"elasticity_lvst_cattle_dairy_demand_to_gdppc\"].to_numpy()\n",
    "    vec_buffalo += df[\"elasticity_lvst_cattle_nondairy_demand_to_gdppc\"].to_numpy()\n",
    "    vec_buffalo /= 2\n",
    "\n",
    "\n",
    "    flds_sheep = [\n",
    "        \"elasticity_lvst_goats_demand_to_gdppc\",\n",
    "        \"elasticity_lvst_horses_demand_to_gdppc\",\n",
    "        \"elasticity_lvst_mules_demand_to_gdppc\"\n",
    "    ]\n",
    "    for fld in flds_sheep:\n",
    "        if fld not in df.columns:\n",
    "            df[fld] = vec_sheep\n",
    "    \n",
    "    fld_buffalo = \"elasticity_lvst_buffalo_demand_to_gdppc\"\n",
    "    if fld_buffalo not in df.columns:\n",
    "        df[fld_buffalo] = vec_buffalo\n",
    "\n",
    "    \n",
    "    return df\n",
    "\n",
    "df_test = add_missing_lvst_elast(df_test);\n",
    "\n",
    "\n",
    "df_base = (\n",
    "    df_test[\n",
    "        df_test[\"primary_id\"].isin([14014])\n",
    "    ]\n",
    "    .reset_index(drop = True)\n",
    ")\n",
    "\n",
    "df_base_input = df_base[\n",
    "    [x for x in df_base.columns if x not in sa.model_attributes.all_variable_fields_output]\n",
    "]\n",
    "\n",
    "\n",
    "    \n",
    "    "
   ]
  },
  {
   "cell_type": "code",
   "execution_count": null,
   "id": "a356c631-6fb0-471e-a1c9-5ac1d1a72280",
   "metadata": {},
   "outputs": [],
   "source": []
  },
  {
   "cell_type": "code",
   "execution_count": 5,
   "id": "55b0d62e-14e4-4803-a545-50c4ba8e3b05",
   "metadata": {
    "tags": []
   },
   "outputs": [
    {
     "name": "stdout",
     "output_type": "stream",
     "text": [
      "MISSIONSEARCHNOTE: As of 2023-10-06, there is a temporary solution implemeted in ModelAttributes.get_variable_to_simplex_group_dictionary() to ensure that transition probability rows are enforced on a simplex.\n",
      "\n",
      "FIX THIS ASAP TO DERIVE PROPERLY.\n"
     ]
    }
   ],
   "source": [
    "import importlib\n",
    "importlib.reload(sf)\n",
    "importlib.reload(mv)\n",
    "importlib.reload(um)\n",
    "importlib.reload(ma)\n",
    "\n",
    "\n",
    "fp = \"/Users/jsyme/Documents/Projects/git_jbus/sisepuede/docs_new/source/csvs\"\n",
    "path = pathlib.Path(fp)\n",
    "matt_new = ma.ModelAttributes(\n",
    "    path, \n",
    "    fp_config = path.parents[2].joinpath(\"sisepuede.config\")\n",
    ")\n",
    "\n",
    "\n",
    "# modvar = matt_new.dict_variables.get(\"Volumetric Energy Density\")\n",
    "# modvar.get_property(\"subsector\")\n",
    "# unit_energy = matt_new.get_unit(\"energy\")\n",
    "# unit_power = matt_new.get_unit(\"power\")\n",
    "# unit_power.get_unit_key(\"none\")\n",
    "\n",
    "\n",
    "\n",
    "modvar = \":math:\\\\text{CO}_2 Land Use Conversion Emission Factor\"\n",
    "#modvar = \"Unadjusted Land Use Transition Probability\"\n",
    "#modvar = \"GDP\"\n",
    "#modvar = \"Population\"\n",
    "#modvar = \"Land Use Yield Reallocation Factor\"\n",
    "modvar = \"\"\n",
    "mov = matt_new.dict_variables.get(modvar)\n",
    "\n",
    "\n",
    "#mov.build_fields(\n",
    "#    # category_restrictions = [\"croplands\", \"forests_primary\"]#\"cat_general\": [\"rural\"]}\n",
    "#    category_restrictions = \"croplands\"#{\"cat_landuse_dim2\": [\"croplands\", \"forests_primary\"]}\n",
    "#)\n",
    "\n"
   ]
  },
  {
   "cell_type": "code",
   "execution_count": null,
   "id": "f8a787b5-519a-42c1-8607-7bc3af2666af",
   "metadata": {},
   "outputs": [],
   "source": []
  },
  {
   "cell_type": "code",
   "execution_count": 184,
   "id": "cd28f277-6144-4a74-a24f-a8125f028ae5",
   "metadata": {},
   "outputs": [
    {
     "name": "stdout",
     "output_type": "stream",
     "text": [
      "MISSIONSEARCHNOTE: As of 2023-10-06, there is a temporary solution implemeted in ModelAttributes.get_variable_to_simplex_group_dictionary() to ensure that transition probability rows are enforced on a simplex.\n",
      "\n",
      "FIX THIS ASAP TO DERIVE PROPERLY.\n"
     ]
    },
    {
     "name": "stderr",
     "output_type": "stream",
     "text": [
      "  Activating project at `~/Documents/Projects/git_jbus/sisepuede/julia`\n",
      "WARNING: replacing module SISEPUEDEPJSF.\n"
     ]
    }
   ],
   "source": [
    "importlib.reload(mv)\n",
    "importlib.reload(mafl)\n",
    "importlib.reload(ma)\n",
    "importlib.reload(mc)\n",
    "importlib.reload(me)\n",
    "importlib.reload(ml)\n",
    "importlib.reload(se)\n",
    "\n",
    "logger = None\n",
    "matt_new = ma.ModelAttributes(\n",
    "    path, \n",
    "    fp_config = path.parents[2].joinpath(\"sisepuede.config\")\n",
    ")\n",
    "\n",
    "\n",
    "\n",
    "importlib.reload(ml)\n",
    "model_elec = ml.ElectricEnergy(\n",
    "    matt_new, \n",
    "    sa.dir_jl, \n",
    "    sa.dir_ref_nemo, \n",
    "    logger = None, \n",
    "    initialize_julia = True,\n",
    ");\n",
    "\n",
    "\n"
   ]
  },
  {
   "cell_type": "code",
   "execution_count": null,
   "id": "b752d41b-1657-4d21-916c-a6337378c232",
   "metadata": {},
   "outputs": [],
   "source": []
  },
  {
   "cell_type": "code",
   "execution_count": null,
   "id": "602b07b4-653f-41d7-9408-d33d7bcf47c9",
   "metadata": {},
   "outputs": [],
   "source": []
  },
  {
   "cell_type": "code",
   "execution_count": 77,
   "id": "c3b0fbfb-1d67-4e1f-9616-a770d6c0e329",
   "metadata": {},
   "outputs": [],
   "source": [
    "attrs_check = [x for x in dir(matt_new) if not x.startswith(\"_\")]\n",
    "\n",
    "attrs_diff = []\n",
    "for at in attrs_check:\n",
    "    \n",
    "    at_sa = getattr(sa.model_attributes, at)\n",
    "    at_new = getattr(matt_new, at)\n",
    "    \n",
    "    if at_sa != at_new:\n",
    "        attrs_diff.append(at)"
   ]
  },
  {
   "cell_type": "code",
   "execution_count": 292,
   "id": "144aa45f-14f7-47ec-96a6-f85da94109fe",
   "metadata": {
    "tags": []
   },
   "outputs": [
    {
     "name": "stdout",
     "output_type": "stream",
     "text": [
      "MISSIONSEARCHNOTE: As of 2023-10-06, there is a temporary solution implemeted in ModelAttributes.get_variable_to_simplex_group_dictionary() to ensure that transition probability rows are enforced on a simplex.\n",
      "\n",
      "FIX THIS ASAP TO DERIVE PROPERLY.\n"
     ]
    },
    {
     "name": "stderr",
     "output_type": "stream",
     "text": [
      "  Activating project at `~/Documents/Projects/git_jbus/sisepuede/julia`\n",
      "WARNING: replacing module SISEPUEDEPJSF.\n"
     ]
    }
   ],
   "source": [
    "importlib.reload(mv)\n",
    "importlib.reload(mafl)\n",
    "importlib.reload(ma)\n",
    "importlib.reload(mc)\n",
    "importlib.reload(me)\n",
    "importlib.reload(ml)\n",
    "importlib.reload(se)\n",
    "\n",
    "logger = None\n",
    "matt_new = ma.ModelAttributes(\n",
    "    path, \n",
    "    fp_config = path.parents[2].joinpath(\"sisepuede.config\")\n",
    ")\n",
    "\n",
    "\n",
    "\n",
    "\n",
    "model_afolu = mafl.AFOLU(matt_new)\n",
    "model_circecon = mc.CircularEconomy(matt_new);\n",
    "model_ippu = mi.IPPU(matt_new);\n",
    "model_elec = ml.ElectricEnergy(\n",
    "    matt_new, \n",
    "    sa.dir_jl, \n",
    "    sa.dir_ref_nemo, \n",
    "    logger = None, \n",
    "    initialize_julia = True,\n",
    ");\n",
    "\n",
    "model_energy = me.NonElectricEnergy(matt_new);\n",
    "model_socioeconomic = se.Socioeconomic(matt_new);\n",
    "\n",
    "\n",
    "def run_strat(\n",
    "    df_in: pd.DataFrame,\n",
    "    project_nemomod: bool = False,\n",
    ") -> pd.DataFrame:\n",
    "    \n",
    "    df_elec = None\n",
    "    df_cs_integrated = df_in.copy()\n",
    "    \n",
    "    df_project_afolu = model_afolu.project(df_cs_integrated)\n",
    "    df_cs_integrated = sf.merge_output_df_list([df_cs_integrated, df_project_afolu], matt_new, \"concatenate\")\n",
    "    \n",
    "    # pass integrated df\n",
    "    df_project_ce = model_circecon.project(df_cs_integrated)\n",
    "    df_cs_integrated = sf.merge_output_df_list([df_cs_integrated, df_project_ce], matt_new, \"concatenate\")\n",
    "    \n",
    "    # pass integrated df\n",
    "    df_project_ip = model_ippu.project(df_cs_integrated)\n",
    "    df_cs_integrated = sf.merge_output_df_list([df_cs_integrated, df_project_ip], matt_new, \"concatenate\")\n",
    "    \n",
    "    # pass integrated df\n",
    "    df_project_en = model_energy.project(df_cs_integrated);\n",
    "    df_cs_integrated = sf.merge_output_df_list([df_cs_integrated, df_project_en], matt_new, \"concatenate\")\n",
    "    \n",
    "    df_elec = None\n",
    "    if project_nemomod:\n",
    "        print(\"starting NemoMod\")\n",
    "        os.remove(sa.fp_sqlite_nemomod_db_tmp) if os.path.exists(sa.fp_sqlite_nemomod_db_tmp) else None\n",
    "        engine = sqlalchemy.create_engine(f\"sqlite:///{sa.fp_sqlite_nemomod_db_tmp}\")\n",
    "        t0 = time.time()\n",
    "        df_elec = model_elec.project(df_cs_integrated, engine = engine, regions = \"india\")\n",
    "        t1 = time.time()\n",
    "\n",
    "    return df_project_afolu, df_cs_integrated, df_elec\n",
    "\n",
    "\n",
    "\n",
    "dfap, dfc, dfe = run_strat(df_base_input, project_nemomod = True)\n",
    "\n",
    "\n",
    "\n"
   ]
  },
  {
   "cell_type": "code",
   "execution_count": 290,
   "id": "d219c582-c4e9-4441-91cc-3d98a989b1ad",
   "metadata": {},
   "outputs": [],
   "source": [
    "#model_elec.model_energy.project_enfu_production_and_demands(dfc);\n",
    "df_elec_trajectories = dfc\n",
    "df_reference_capacity_factor = model_elec.dict_nemomod_reference_tables.get(model_elec.model_attributes.table_nemomod_capacity_factor),\n",
    "df_reference_specified_demand_profile = model_elec.dict_nemomod_reference_tables.get(model_elec.model_attributes.table_nemomod_specified_demand_profile),\n",
    "\n",
    "regions = None\n",
    "regions = model_elec.model_attributes.get_region_list_filtered(regions, attribute_region = None)\n",
    "tuple_enfu_production_and_demands = model_elec.model_energy.project_enfu_production_and_demands(\n",
    "    df_elec_trajectories, \n",
    "    target_energy_units = model_elec.model_attributes.configuration.get(\"energy_units_nemomod\")\n",
    ")\n",
    " \n",
    "    \n",
    "dict_out = {}\n",
    "dict_out.update(\n",
    "    model_elec.format_nemomod_attribute_table_emission(\n",
    "        attribute_emission = None\n",
    "    )\n",
    ")\n",
    "# FUEL\n",
    "dict_out.update(\n",
    "    model_elec.format_nemomod_attribute_table_fuel(\n",
    "        attribute_fuel = None\n",
    "    )\n",
    ")\n",
    "# MODEOFOPERATION\n",
    "dict_out.update(\n",
    "    model_elec.format_nemomod_attribute_table_mode_of_operation(\n",
    "        attribute_mode = None\n",
    "    )\n",
    ")\n",
    "# REGION\n",
    "dict_out.update(\n",
    "    model_elec.format_nemomod_attribute_table_region(\n",
    "        attribute_region = None,\n",
    "        regions = None\n",
    "    )\n",
    ")\n",
    "# STORAGE\n",
    "dict_out.update(\n",
    "    model_elec.format_nemomod_attribute_table_storage(\n",
    "        attribute_storage = None\n",
    "    )\n",
    ")\n",
    "# TECHNOLOGY\n",
    "dict_out.update(\n",
    "    model_elec.format_nemomod_attribute_table_technology(\n",
    "        attribute_technology = None\n",
    "    )\n",
    ")\n",
    "# YEAR\n",
    "dict_out.update(\n",
    "    model_elec.format_nemomod_attribute_table_year()\n",
    ")\n",
    "# TIMESLICE\n",
    "dict_out.update(\n",
    "    model_elec.format_nemomod_table_tsgroup_tables(\n",
    "        attribute_time_slice = None\n",
    "    )\n",
    ")\n",
    "\n",
    "dict_out.update(\n",
    "    model_elec.format_nemomod_table_default_parameters(\n",
    "        attribute_nemomod_table = None\n",
    "    )\n",
    ")\n",
    "# OperationalLife and OperationalLifeStorage\n",
    "dict_out.update(\n",
    "    model_elec.format_nemomod_table_operational_life(\n",
    "        attribute_fuel = None,\n",
    "        attribute_storage = None,\n",
    "        attribute_technology = None,\n",
    "        regions = None\n",
    "    )\n",
    ")\n",
    "\n",
    "dict_out.update(\n",
    "    model_elec.format_nemomod_table_reserve_margin_tag_fuel(\n",
    "        regions = None\n",
    "    )\n",
    ")\n",
    "# TechnologyFromStorage and TechnologyToStorage\n",
    "dict_out.update(\n",
    "    model_elec.format_nemomod_table_technology_from_and_to_storage(\n",
    "        attribute_storage = None,\n",
    "        attribute_technology = None,\n",
    "        regions = None\n",
    "    )\n",
    ")\n",
    "\n",
    "dict_out.update(\n",
    "    model_elec.format_nemomod_table_annual_emission_limit(\n",
    "        df_elec_trajectories,\n",
    "        attribute_emission = None,\n",
    "        attribute_time_period = None,\n",
    "        regions = None\n",
    "    )\n",
    ")\n",
    "# CapitalCostStorage\n",
    "dict_out.update(\n",
    "    model_elec.format_nemomod_table_costs_storage(\n",
    "        df_elec_trajectories,\n",
    "        regions = None\n",
    "    )\n",
    ")\n",
    "# CapitalCost, FixedCost, and VariableCost -- Costs (Technology) PROBLEM OCCURS HERE\n",
    "dict_out.update(\n",
    "    model_elec.format_nemomod_table_costs_technology(\n",
    "        df_elec_trajectories,\n",
    "        attribute_fuel = None,\n",
    "        regions = None\n",
    "    )\n",
    ")"
   ]
  },
  {
   "cell_type": "code",
   "execution_count": 287,
   "id": "4b924f5e-fb4b-4a10-b42d-0a9d0777e208",
   "metadata": {},
   "outputs": [
    {
     "data": {
      "text/plain": [
       "['supply_fuel_coal',\n",
       " 'supply_fuel_crude',\n",
       " 'supply_fuel_diesel',\n",
       " 'supply_fuel_electricity',\n",
       " 'supply_fuel_gasoline',\n",
       " 'supply_fuel_hydrocarbon_gas_liquids',\n",
       " 'supply_fuel_hydrogen',\n",
       " 'supply_fuel_kerosene',\n",
       " 'supply_fuel_natural_gas',\n",
       " 'supply_fuel_natural_gas_unprocessed',\n",
       " 'supply_fuel_oil']"
      ]
     },
     "execution_count": 287,
     "metadata": {},
     "output_type": "execute_result"
    }
   ],
   "source": [
    "model_elec.get_enfu_cats_with_high_dummy_tech_costs(return_type = \"dummy_fuel_techs\")"
   ]
  },
  {
   "cell_type": "code",
   "execution_count": null,
   "id": "23558a51-241f-404c-9525-d4a2f4c9d664",
   "metadata": {},
   "outputs": [],
   "source": []
  },
  {
   "cell_type": "code",
   "execution_count": null,
   "id": "8636b9e2-35c6-47ce-91e5-57e69c2612bc",
   "metadata": {},
   "outputs": [],
   "source": []
  },
  {
   "cell_type": "code",
   "execution_count": 198,
   "id": "8f4a9ec6-ea21-4194-a3b6-7c2524740a37",
   "metadata": {},
   "outputs": [
    {
     "data": {
      "text/plain": [
       "['fuel_coal',\n",
       " 'fuel_crude',\n",
       " 'fuel_diesel',\n",
       " 'fuel_electricity',\n",
       " 'fuel_gasoline',\n",
       " 'fuel_hydrocarbon_gas_liquids',\n",
       " 'fuel_hydrogen',\n",
       " 'fuel_kerosene',\n",
       " 'fuel_natural_gas',\n",
       " 'fuel_oil',\n",
       " 'fuel_coal',\n",
       " 'fuel_crude',\n",
       " 'fuel_diesel',\n",
       " 'fuel_gasoline',\n",
       " 'fuel_hydrocarbon_gas_liquids',\n",
       " 'fuel_hydrogen',\n",
       " 'fuel_kerosene',\n",
       " 'fuel_natural_gas_unprocessed',\n",
       " 'fuel_natural_gas',\n",
       " 'fuel_oil']"
      ]
     },
     "execution_count": 198,
     "metadata": {},
     "output_type": "execute_result"
    }
   ],
   "source": [
    "model_elec.model_energy.model_attributes.get_variable_categories(\"Fraction of Fuel Demand Imported\")\n",
    "\n",
    "\n"
   ]
  },
  {
   "cell_type": "code",
   "execution_count": 197,
   "id": "2f51210a-eeb0-4346-a550-874f61b20ec9",
   "metadata": {
    "tags": []
   },
   "outputs": [
    {
     "name": "stdout",
     "output_type": "stream",
     "text": [
      "Fraction of Fuel Demand Imported\n",
      "(56, 3349)\n"
     ]
    },
    {
     "ename": "ValueError",
     "evalue": "shape mismatch: value array of shape (56,10) could not be broadcast to indexing result of shape (56,20)",
     "output_type": "error",
     "traceback": [
      "\u001b[0;31m---------------------------------------------------------------------------\u001b[0m",
      "\u001b[0;31mValueError\u001b[0m                                Traceback (most recent call last)",
      "Cell \u001b[0;32mIn[197], line 1\u001b[0m\n\u001b[0;32m----> 1\u001b[0m \u001b[43mmodel_elec\u001b[49m\u001b[38;5;241;43m.\u001b[39;49m\u001b[43mformat_nemomod_table_min_share_production\u001b[49m\u001b[43m(\u001b[49m\u001b[43mdfc\u001b[49m\u001b[43m)\u001b[49m\n",
      "File \u001b[0;32m~/Documents/Projects/git_jbus/sisepuede/python/model_electricity.py:5839\u001b[0m, in \u001b[0;36mElectricEnergy.format_nemomod_table_min_share_production\u001b[0;34m(self, df_elec_trajectories, attribute_fuel, attribute_technology, modvar_import_fraction, regions, tuple_enfu_production_and_demands)\u001b[0m\n\u001b[1;32m   5835\u001b[0m \u001b[38;5;28;01mif\u001b[39;00m (tuple_enfu_production_and_demands \u001b[38;5;129;01mis\u001b[39;00m \u001b[38;5;28;01mNone\u001b[39;00m) \u001b[38;5;129;01mand\u001b[39;00m (df_elec_trajectories \u001b[38;5;129;01mis\u001b[39;00m \u001b[38;5;28;01mNone\u001b[39;00m):\n\u001b[1;32m   5836\u001b[0m     \u001b[38;5;28;01mraise\u001b[39;00m \u001b[38;5;167;01mValueError\u001b[39;00m(\u001b[38;5;124mf\u001b[39m\u001b[38;5;124m\"\u001b[39m\u001b[38;5;124mError in format_nemomod_table_min_share_production: tuple_enfu_production_and_demands and df_elec_trajectories cannot both be None.\u001b[39m\u001b[38;5;124m\"\u001b[39m)\n\u001b[1;32m   5838\u001b[0m tuple_enfu_production_and_demands \u001b[38;5;241m=\u001b[39m (\n\u001b[0;32m-> 5839\u001b[0m     \u001b[38;5;28;43mself\u001b[39;49m\u001b[38;5;241;43m.\u001b[39;49m\u001b[43mmodel_energy\u001b[49m\u001b[38;5;241;43m.\u001b[39;49m\u001b[43mproject_enfu_production_and_demands\u001b[49m\u001b[43m(\u001b[49m\n\u001b[1;32m   5840\u001b[0m \u001b[43m        \u001b[49m\u001b[43mdf_elec_trajectories\u001b[49m\u001b[43m,\u001b[49m\u001b[43m \u001b[49m\n\u001b[1;32m   5841\u001b[0m \u001b[43m        \u001b[49m\u001b[43mtarget_energy_units\u001b[49m\u001b[43m \u001b[49m\u001b[38;5;241;43m=\u001b[39;49m\u001b[43m \u001b[49m\u001b[38;5;28;43mself\u001b[39;49m\u001b[38;5;241;43m.\u001b[39;49m\u001b[43mmodel_attributes\u001b[49m\u001b[38;5;241;43m.\u001b[39;49m\u001b[43mconfiguration\u001b[49m\u001b[38;5;241;43m.\u001b[39;49m\u001b[43mget\u001b[49m\u001b[43m(\u001b[49m\u001b[38;5;124;43m\"\u001b[39;49m\u001b[38;5;124;43menergy_units_nemomod\u001b[39;49m\u001b[38;5;124;43m\"\u001b[39;49m\u001b[43m)\u001b[49m\n\u001b[1;32m   5842\u001b[0m \u001b[43m    \u001b[49m\u001b[43m)\u001b[49m\n\u001b[1;32m   5843\u001b[0m     \u001b[38;5;28;01mif\u001b[39;00m tuple_enfu_production_and_demands \u001b[38;5;129;01mis\u001b[39;00m \u001b[38;5;28;01mNone\u001b[39;00m\n\u001b[1;32m   5844\u001b[0m     \u001b[38;5;28;01melse\u001b[39;00m tuple_enfu_production_and_demands\n\u001b[1;32m   5845\u001b[0m )\n\u001b[1;32m   5848\u001b[0m \u001b[38;5;66;03m##  ADJUST IMPORT FRACTIONS TO ACCOUNT FOR THE INCLUSION OF EXPORTS IN SpecifiedAnnualDemands\u001b[39;00m\n\u001b[1;32m   5850\u001b[0m \u001b[38;5;28;01mglobal\u001b[39;00m df_et\n",
      "File \u001b[0;32m~/Documents/Projects/git_jbus/sisepuede/python/model_energy.py:1889\u001b[0m, in \u001b[0;36mNonElectricEnergy.project_enfu_production_and_demands\u001b[0;34m(self, df_neenergy_trajectories, attribute_fuel, modvars_energy_demands, modvars_energy_distribution_demands, modvar_energy_exports, modvar_import_fraction, target_energy_units)\u001b[0m\n\u001b[1;32m   1886\u001b[0m \u001b[38;5;28mprint\u001b[39m(df_if\u001b[38;5;241m.\u001b[39mshape)\n\u001b[1;32m   1888\u001b[0m \u001b[38;5;66;03m# get import fractions and calculate imports\u001b[39;00m\n\u001b[0;32m-> 1889\u001b[0m arr_import_fracs \u001b[38;5;241m=\u001b[39m \u001b[38;5;28;43mself\u001b[39;49m\u001b[38;5;241;43m.\u001b[39;49m\u001b[43mmodel_attributes\u001b[49m\u001b[38;5;241;43m.\u001b[39;49m\u001b[43mextract_model_variable\u001b[49m\u001b[43m(\u001b[49m\u001b[38;5;66;43;03m#\u001b[39;49;00m\n\u001b[1;32m   1890\u001b[0m \u001b[43m    \u001b[49m\u001b[43mdf_neenergy_trajectories\u001b[49m\u001b[43m,\u001b[49m\n\u001b[1;32m   1891\u001b[0m \u001b[43m    \u001b[49m\u001b[43mmodvar_import_fraction\u001b[49m\u001b[43m,\u001b[49m\n\u001b[1;32m   1892\u001b[0m \u001b[43m    \u001b[49m\u001b[43mexpand_to_all_cats\u001b[49m\u001b[43m \u001b[49m\u001b[38;5;241;43m=\u001b[39;49m\u001b[43m \u001b[49m\u001b[38;5;28;43;01mTrue\u001b[39;49;00m\u001b[43m,\u001b[49m\n\u001b[1;32m   1893\u001b[0m \u001b[43m    \u001b[49m\u001b[43mreturn_type\u001b[49m\u001b[43m \u001b[49m\u001b[38;5;241;43m=\u001b[39;49m\u001b[43m \u001b[49m\u001b[38;5;124;43m\"\u001b[39;49m\u001b[38;5;124;43marray_base\u001b[39;49m\u001b[38;5;124;43m\"\u001b[39;49m\u001b[43m,\u001b[49m\n\u001b[1;32m   1894\u001b[0m \u001b[43m    \u001b[49m\u001b[43mvar_bounds\u001b[49m\u001b[43m \u001b[49m\u001b[38;5;241;43m=\u001b[39;49m\u001b[43m \u001b[49m\u001b[43m(\u001b[49m\u001b[38;5;241;43m0\u001b[39;49m\u001b[43m,\u001b[49m\u001b[43m \u001b[49m\u001b[38;5;241;43m1\u001b[39;49m\u001b[43m)\u001b[49m\u001b[43m,\u001b[49m\n\u001b[1;32m   1895\u001b[0m \u001b[43m\u001b[49m\u001b[43m)\u001b[49m\n\u001b[1;32m   1896\u001b[0m arr_imports \u001b[38;5;241m=\u001b[39m arr_import_fracs\u001b[38;5;241m*\u001b[39marr_demands\n\u001b[1;32m   1898\u001b[0m \u001b[38;5;66;03m# get exports\u001b[39;00m\n",
      "File \u001b[0;32m~/Documents/Projects/git_jbus/sisepuede/python/model_attributes.py:2599\u001b[0m, in \u001b[0;36mModelAttributes.extract_model_variable\u001b[0;34m(self, df_in, modvar, all_cats_missing_val, expand_to_all_cats, extraction_logic, force_boundary_restriction, include_time_period, override_vector_for_single_mv_q, return_num_type, return_type, throw_error_on_missing_fields, var_bounds)\u001b[0m\n\u001b[1;32m   2597\u001b[0m \u001b[38;5;28;01mif\u001b[39;00m expand_to_all_cats:\n\u001b[1;32m   2598\u001b[0m     out \u001b[38;5;241m=\u001b[39m np\u001b[38;5;241m.\u001b[39marray([out])\u001b[38;5;241m.\u001b[39mtranspose() \u001b[38;5;28;01mif\u001b[39;00m (\u001b[38;5;28mlen\u001b[39m(out\u001b[38;5;241m.\u001b[39mshape) \u001b[38;5;241m==\u001b[39m \u001b[38;5;241m1\u001b[39m) \u001b[38;5;28;01melse\u001b[39;00m out\n\u001b[0;32m-> 2599\u001b[0m     out \u001b[38;5;241m=\u001b[39m \u001b[38;5;28;43mself\u001b[39;49m\u001b[38;5;241;43m.\u001b[39;49m\u001b[43mmerge_array_var_partial_cat_to_array_all_cats\u001b[49m\u001b[43m(\u001b[49m\n\u001b[1;32m   2600\u001b[0m \u001b[43m        \u001b[49m\u001b[43mnp\u001b[49m\u001b[38;5;241;43m.\u001b[39;49m\u001b[43marray\u001b[49m\u001b[43m(\u001b[49m\u001b[43mout\u001b[49m\u001b[43m)\u001b[49m\u001b[43m,\u001b[49m\u001b[43m \u001b[49m\n\u001b[1;32m   2601\u001b[0m \u001b[43m        \u001b[49m\u001b[43mmodvar\u001b[49m\u001b[43m,\u001b[49m\u001b[43m \u001b[49m\n\u001b[1;32m   2602\u001b[0m \u001b[43m        \u001b[49m\u001b[43mmissing_vals\u001b[49m\u001b[43m \u001b[49m\u001b[38;5;241;43m=\u001b[39;49m\u001b[43m \u001b[49m\u001b[43mall_cats_missing_val\u001b[49m\u001b[43m,\u001b[49m\n\u001b[1;32m   2603\u001b[0m \u001b[43m    \u001b[49m\u001b[43m)\u001b[49m\n\u001b[1;32m   2605\u001b[0m     \u001b[38;5;28;01mif\u001b[39;00m return_type \u001b[38;5;241m==\u001b[39m \u001b[38;5;124m\"\u001b[39m\u001b[38;5;124mdata_frame\u001b[39m\u001b[38;5;124m\"\u001b[39m:\n\u001b[1;32m   2606\u001b[0m         sec \u001b[38;5;241m=\u001b[39m \u001b[38;5;28mself\u001b[39m\u001b[38;5;241m.\u001b[39mget_variable_subsector(modvar)\n",
      "File \u001b[0;32m~/Documents/Projects/git_jbus/sisepuede/python/model_attributes.py:3744\u001b[0m, in \u001b[0;36mModelAttributes.merge_array_var_partial_cat_to_array_all_cats\u001b[0;34m(self, array_vals, modvar, missing_vals, output_cats, output_subsec)\u001b[0m\n\u001b[1;32m   3742\u001b[0m inds_cats \u001b[38;5;241m=\u001b[39m [attr_subsec\u001b[38;5;241m.\u001b[39mget_key_value_index(x) \u001b[38;5;28;01mfor\u001b[39;00m x \u001b[38;5;129;01min\u001b[39;00m cats]\n\u001b[1;32m   3743\u001b[0m inds \u001b[38;5;241m=\u001b[39m np\u001b[38;5;241m.\u001b[39mrepeat([inds_cats], \u001b[38;5;28mlen\u001b[39m(array_default), axis \u001b[38;5;241m=\u001b[39m \u001b[38;5;241m0\u001b[39m)\n\u001b[0;32m-> 3744\u001b[0m \u001b[43mnp\u001b[49m\u001b[38;5;241;43m.\u001b[39;49m\u001b[43mput_along_axis\u001b[49m\u001b[43m(\u001b[49m\u001b[43marray_default\u001b[49m\u001b[43m,\u001b[49m\u001b[43m \u001b[49m\u001b[43minds\u001b[49m\u001b[43m,\u001b[49m\u001b[43m \u001b[49m\u001b[43marray_vals\u001b[49m\u001b[43m,\u001b[49m\u001b[43m \u001b[49m\u001b[43maxis\u001b[49m\u001b[43m \u001b[49m\u001b[38;5;241;43m=\u001b[39;49m\u001b[43m \u001b[49m\u001b[38;5;241;43m1\u001b[39;49m\u001b[43m)\u001b[49m\n\u001b[1;32m   3746\u001b[0m \u001b[38;5;28;01mreturn\u001b[39;00m array_default\n",
      "File \u001b[0;32m~/anaconda3/envs/amber_is_your_energy/lib/python3.11/site-packages/numpy/lib/shape_base.py:260\u001b[0m, in \u001b[0;36mput_along_axis\u001b[0;34m(arr, indices, values, axis)\u001b[0m\n\u001b[1;32m    257\u001b[0m     arr_shape \u001b[38;5;241m=\u001b[39m arr\u001b[38;5;241m.\u001b[39mshape\n\u001b[1;32m    259\u001b[0m \u001b[38;5;66;03m# use the fancy index\u001b[39;00m\n\u001b[0;32m--> 260\u001b[0m \u001b[43marr\u001b[49m\u001b[43m[\u001b[49m\u001b[43m_make_along_axis_idx\u001b[49m\u001b[43m(\u001b[49m\u001b[43marr_shape\u001b[49m\u001b[43m,\u001b[49m\u001b[43m \u001b[49m\u001b[43mindices\u001b[49m\u001b[43m,\u001b[49m\u001b[43m \u001b[49m\u001b[43maxis\u001b[49m\u001b[43m)\u001b[49m\u001b[43m]\u001b[49m \u001b[38;5;241m=\u001b[39m values\n",
      "\u001b[0;31mValueError\u001b[0m: shape mismatch: value array of shape (56,10) could not be broadcast to indexing result of shape (56,20)"
     ]
    }
   ],
   "source": [
    "model_elec.format_nemomod_table_min_share_production(dfc)"
   ]
  },
  {
   "cell_type": "code",
   "execution_count": null,
   "id": "f6b72e9d-71d3-435f-9266-27b383f249da",
   "metadata": {
    "collapsed": true,
    "jupyter": {
     "outputs_hidden": true
    },
    "tags": []
   },
   "outputs": [],
   "source": []
  },
  {
   "cell_type": "code",
   "execution_count": 95,
   "id": "1c7dc502-3b2d-43fc-b3a1-dce8f231b0dd",
   "metadata": {
    "collapsed": true,
    "jupyter": {
     "outputs_hidden": true
    },
    "tags": []
   },
   "outputs": [
    {
     "ename": "ValueError",
     "evalue": "shape mismatch: value array of shape (56,10) could not be broadcast to indexing result of shape (56,20)",
     "output_type": "error",
     "traceback": [
      "\u001b[0;31m---------------------------------------------------------------------------\u001b[0m",
      "\u001b[0;31mValueError\u001b[0m                                Traceback (most recent call last)",
      "Cell \u001b[0;32mIn[95], line 1\u001b[0m\n\u001b[0;32m----> 1\u001b[0m \u001b[43mmodel_elec\u001b[49m\u001b[38;5;241;43m.\u001b[39;49m\u001b[43mmodel_attributes\u001b[49m\u001b[38;5;241;43m.\u001b[39;49m\u001b[43mextract_model_variable\u001b[49m\u001b[43m(\u001b[49m\u001b[38;5;66;43;03m#\u001b[39;49;00m\n\u001b[1;32m      2\u001b[0m \u001b[43m    \u001b[49m\u001b[43mme\u001b[49m\u001b[38;5;241;43m.\u001b[39;49m\u001b[43mdf_if\u001b[49m\u001b[43m,\u001b[49m\n\u001b[1;32m      3\u001b[0m \u001b[43m    \u001b[49m\u001b[38;5;124;43m\"\u001b[39;49m\u001b[38;5;124;43mFraction of Fuel Demand Imported\u001b[39;49m\u001b[38;5;124;43m\"\u001b[39;49m\u001b[43m,\u001b[49m\n\u001b[1;32m      4\u001b[0m \u001b[43m    \u001b[49m\u001b[43mexpand_to_all_cats\u001b[49m\u001b[43m \u001b[49m\u001b[38;5;241;43m=\u001b[39;49m\u001b[43m \u001b[49m\u001b[38;5;28;43;01mTrue\u001b[39;49;00m\u001b[43m,\u001b[49m\n\u001b[1;32m      5\u001b[0m \u001b[43m    \u001b[49m\u001b[43mreturn_type\u001b[49m\u001b[43m \u001b[49m\u001b[38;5;241;43m=\u001b[39;49m\u001b[43m \u001b[49m\u001b[38;5;124;43m\"\u001b[39;49m\u001b[38;5;124;43marray_base\u001b[39;49m\u001b[38;5;124;43m\"\u001b[39;49m\u001b[43m,\u001b[49m\n\u001b[1;32m      6\u001b[0m \u001b[43m    \u001b[49m\u001b[43mvar_bounds\u001b[49m\u001b[43m \u001b[49m\u001b[38;5;241;43m=\u001b[39;49m\u001b[43m \u001b[49m\u001b[43m(\u001b[49m\u001b[38;5;241;43m0\u001b[39;49m\u001b[43m,\u001b[49m\u001b[43m \u001b[49m\u001b[38;5;241;43m1\u001b[39;49m\u001b[43m)\u001b[49m\n\u001b[1;32m      7\u001b[0m \u001b[43m)\u001b[49m;\n",
      "File \u001b[0;32m~/Documents/Projects/git_jbus/sisepuede/python/model_attributes.py:2599\u001b[0m, in \u001b[0;36mModelAttributes.extract_model_variable\u001b[0;34m(self, df_in, modvar, all_cats_missing_val, expand_to_all_cats, extraction_logic, force_boundary_restriction, include_time_period, override_vector_for_single_mv_q, return_num_type, return_type, throw_error_on_missing_fields, var_bounds)\u001b[0m\n\u001b[1;32m   2597\u001b[0m \u001b[38;5;28;01mif\u001b[39;00m expand_to_all_cats:\n\u001b[1;32m   2598\u001b[0m     out \u001b[38;5;241m=\u001b[39m np\u001b[38;5;241m.\u001b[39marray([out])\u001b[38;5;241m.\u001b[39mtranspose() \u001b[38;5;28;01mif\u001b[39;00m (\u001b[38;5;28mlen\u001b[39m(out\u001b[38;5;241m.\u001b[39mshape) \u001b[38;5;241m==\u001b[39m \u001b[38;5;241m1\u001b[39m) \u001b[38;5;28;01melse\u001b[39;00m out\n\u001b[0;32m-> 2599\u001b[0m     out \u001b[38;5;241m=\u001b[39m \u001b[38;5;28;43mself\u001b[39;49m\u001b[38;5;241;43m.\u001b[39;49m\u001b[43mmerge_array_var_partial_cat_to_array_all_cats\u001b[49m\u001b[43m(\u001b[49m\n\u001b[1;32m   2600\u001b[0m \u001b[43m        \u001b[49m\u001b[43mnp\u001b[49m\u001b[38;5;241;43m.\u001b[39;49m\u001b[43marray\u001b[49m\u001b[43m(\u001b[49m\u001b[43mout\u001b[49m\u001b[43m)\u001b[49m\u001b[43m,\u001b[49m\u001b[43m \u001b[49m\n\u001b[1;32m   2601\u001b[0m \u001b[43m        \u001b[49m\u001b[43mmodvar\u001b[49m\u001b[43m,\u001b[49m\u001b[43m \u001b[49m\n\u001b[1;32m   2602\u001b[0m \u001b[43m        \u001b[49m\u001b[43mmissing_vals\u001b[49m\u001b[43m \u001b[49m\u001b[38;5;241;43m=\u001b[39;49m\u001b[43m \u001b[49m\u001b[43mall_cats_missing_val\u001b[49m\u001b[43m,\u001b[49m\n\u001b[1;32m   2603\u001b[0m \u001b[43m    \u001b[49m\u001b[43m)\u001b[49m\n\u001b[1;32m   2605\u001b[0m     \u001b[38;5;28;01mif\u001b[39;00m return_type \u001b[38;5;241m==\u001b[39m \u001b[38;5;124m\"\u001b[39m\u001b[38;5;124mdata_frame\u001b[39m\u001b[38;5;124m\"\u001b[39m:\n\u001b[1;32m   2606\u001b[0m         sec \u001b[38;5;241m=\u001b[39m \u001b[38;5;28mself\u001b[39m\u001b[38;5;241m.\u001b[39mget_variable_subsector(modvar)\n",
      "File \u001b[0;32m~/Documents/Projects/git_jbus/sisepuede/python/model_attributes.py:3744\u001b[0m, in \u001b[0;36mModelAttributes.merge_array_var_partial_cat_to_array_all_cats\u001b[0;34m(self, array_vals, modvar, missing_vals, output_cats, output_subsec)\u001b[0m\n\u001b[1;32m   3742\u001b[0m inds_cats \u001b[38;5;241m=\u001b[39m [attr_subsec\u001b[38;5;241m.\u001b[39mget_key_value_index(x) \u001b[38;5;28;01mfor\u001b[39;00m x \u001b[38;5;129;01min\u001b[39;00m cats]\n\u001b[1;32m   3743\u001b[0m inds \u001b[38;5;241m=\u001b[39m np\u001b[38;5;241m.\u001b[39mrepeat([inds_cats], \u001b[38;5;28mlen\u001b[39m(array_default), axis \u001b[38;5;241m=\u001b[39m \u001b[38;5;241m0\u001b[39m)\n\u001b[0;32m-> 3744\u001b[0m \u001b[43mnp\u001b[49m\u001b[38;5;241;43m.\u001b[39;49m\u001b[43mput_along_axis\u001b[49m\u001b[43m(\u001b[49m\u001b[43marray_default\u001b[49m\u001b[43m,\u001b[49m\u001b[43m \u001b[49m\u001b[43minds\u001b[49m\u001b[43m,\u001b[49m\u001b[43m \u001b[49m\u001b[43marray_vals\u001b[49m\u001b[43m,\u001b[49m\u001b[43m \u001b[49m\u001b[43maxis\u001b[49m\u001b[43m \u001b[49m\u001b[38;5;241;43m=\u001b[39;49m\u001b[43m \u001b[49m\u001b[38;5;241;43m1\u001b[39;49m\u001b[43m)\u001b[49m\n\u001b[1;32m   3746\u001b[0m \u001b[38;5;28;01mreturn\u001b[39;00m array_default\n",
      "File \u001b[0;32m~/anaconda3/envs/amber_is_your_energy/lib/python3.11/site-packages/numpy/lib/shape_base.py:260\u001b[0m, in \u001b[0;36mput_along_axis\u001b[0;34m(arr, indices, values, axis)\u001b[0m\n\u001b[1;32m    257\u001b[0m     arr_shape \u001b[38;5;241m=\u001b[39m arr\u001b[38;5;241m.\u001b[39mshape\n\u001b[1;32m    259\u001b[0m \u001b[38;5;66;03m# use the fancy index\u001b[39;00m\n\u001b[0;32m--> 260\u001b[0m \u001b[43marr\u001b[49m\u001b[43m[\u001b[49m\u001b[43m_make_along_axis_idx\u001b[49m\u001b[43m(\u001b[49m\u001b[43marr_shape\u001b[49m\u001b[43m,\u001b[49m\u001b[43m \u001b[49m\u001b[43mindices\u001b[49m\u001b[43m,\u001b[49m\u001b[43m \u001b[49m\u001b[43maxis\u001b[49m\u001b[43m)\u001b[49m\u001b[43m]\u001b[49m \u001b[38;5;241m=\u001b[39m values\n",
      "\u001b[0;31mValueError\u001b[0m: shape mismatch: value array of shape (56,10) could not be broadcast to indexing result of shape (56,20)"
     ]
    }
   ],
   "source": [
    "model_elec.model_attributes.extract_model_variable(#\n",
    "    me.df_if,\n",
    "    \"Fraction of Fuel Demand Imported\",\n",
    "    expand_to_all_cats = True,\n",
    "    return_type = \"array_base\",\n",
    "    var_bounds = (0, 1)\n",
    ");"
   ]
  },
  {
   "cell_type": "code",
   "execution_count": 96,
   "id": "9ce99240-bcd1-45b9-9d34-98ae48fe920e",
   "metadata": {},
   "outputs": [],
   "source": [
    "df_in = me.df_if\n",
    "modvar = \"Fraction of Fuel Demand Imported\"\n",
    "all_cats_missing_val = 0.0\n",
    "expand_to_all_cats = True\n",
    "extraction_logic = \"all\"\n",
    "force_boundary_restriction: bool = True\n",
    "include_time_period: bool = False\n",
    "override_vector_for_single_mv_q: bool = False\n",
    "return_num_type: type = np.float64\n",
    "return_type: str = \"array_base\"\n",
    "throw_error_on_missing_fields: bool = True\n",
    "var_bounds = (0, 1)"
   ]
  },
  {
   "cell_type": "code",
   "execution_count": 99,
   "id": "aa552f70-0864-4162-8139-dfd19560fb7d",
   "metadata": {},
   "outputs": [],
   "source": [
    "if (modvar is None) or not isinstance(df_in, pd.DataFrame):\n",
    "    None\n",
    "\n",
    "# check model variable specificaiton and data frame\n",
    "modvar = model_elec.model_attributes.get_variable(modvar)\n",
    "if modvar is None:\n",
    "    raise ValueError(f\"Invalid variable specified in extract_model_variable: variable '{modvar}' not found.\")            \n",
    "\n",
    "    \n",
    "# initialize extration fields, which are modified below in different circumstances\n",
    "flds = modvar.fields\n",
    "\n",
    "# will default to model variable default value\n",
    "fill_value = (\n",
    "    all_cats_missing_val\n",
    "    if sf.isnumber(all_cats_missing_val)\n",
    "    else None\n",
    ")\n",
    "\n",
    "\n",
    "out = modvar.get_from_dataframe(\n",
    "    df_in,\n",
    "    expand_to_all_categories = False,#expand_to_all_cats,\n",
    "    extraction_logic = extraction_logic,\n",
    "    fill_value = fill_value,\n",
    ")\n",
    "\n",
    "out = out.to_numpy().astype(return_num_type)\n",
    "out = (\n",
    "    out[:, 0] \n",
    "    if ((len(modvar.fields) == 1) and not override_vector_for_single_mv_q)\n",
    "    else out\n",
    ")"
   ]
  },
  {
   "cell_type": "code",
   "execution_count": 117,
   "id": "798933a2-6d5b-4bf9-8eb2-5dd6de497230",
   "metadata": {},
   "outputs": [],
   "source": [
    "# get numeric values and check\n",
    "var_bounds = [x for x in var_bounds if type(x) in [int, float]]\n",
    "if len(var_bounds) <= 1:\n",
    "    raise ValueError(f\"Invalid specification of variable bounds '{var_bounds}': there must be a maximum and a minimum numeric value specified.\")\n",
    "\n",
    "# ensure array\n",
    "out = np.array(out)\n",
    "b_0, b_1 = np.min(var_bounds), np.max(var_bounds)\n",
    "m_0, m_1 = np.min(out), np.max(out)\n",
    "\n",
    "\n",
    "# check bounds\n",
    "if m_1 > b_1:\n",
    "    str_warn = f\"Invalid maximum value of '{modvar}': specifed value of {m_1} exceeds bound {b_1}.\"\n",
    "    if not force_boundary_restriction:\n",
    "        raise ValueError(str_warn)\n",
    "\n",
    "    warnings.warn(str_warn + \"\\nForcing maximum value in trajectory.\")\n",
    "\n",
    "# check min\n",
    "if m_0 < b_0:\n",
    "    str_warn = f\"Invalid minimum value of '{modvar}': specifed value of {m_0} below bound {b_0}.\"\n",
    "    if not force_boundary_restriction:\n",
    "        raise ValueError(str_warn)\n",
    "\n",
    "    warnings.warn(str_warn + \"\\nForcing minimum value in trajectory.\")\n",
    "\n",
    "# force boundary if required\n",
    "out = sf.vec_bounds(out, var_bounds) if force_boundary_restriction else out\n",
    "out = np.array([out]).transpose() if (len(out.shape) == 1) else out\n",
    "\n",
    "\n"
   ]
  },
  {
   "cell_type": "code",
   "execution_count": 123,
   "id": "86018e54-295b-4981-a5ab-3027a4cd5a51",
   "metadata": {},
   "outputs": [
    {
     "ename": "ValueError",
     "evalue": "shape mismatch: value array of shape (56,10) could not be broadcast to indexing result of shape (56,20)",
     "output_type": "error",
     "traceback": [
      "\u001b[0;31m---------------------------------------------------------------------------\u001b[0m",
      "\u001b[0;31mValueError\u001b[0m                                Traceback (most recent call last)",
      "Cell \u001b[0;32mIn[123], line 1\u001b[0m\n\u001b[0;32m----> 1\u001b[0m \u001b[43mmodel_elec\u001b[49m\u001b[38;5;241;43m.\u001b[39;49m\u001b[43mmodel_attributes\u001b[49m\u001b[38;5;241;43m.\u001b[39;49m\u001b[43mmerge_array_var_partial_cat_to_array_all_cats\u001b[49m\u001b[43m(\u001b[49m\n\u001b[1;32m      2\u001b[0m \u001b[43m    \u001b[49m\u001b[43mnp\u001b[49m\u001b[38;5;241;43m.\u001b[39;49m\u001b[43marray\u001b[49m\u001b[43m(\u001b[49m\u001b[43mout\u001b[49m\u001b[43m)\u001b[49m\u001b[43m,\u001b[49m\u001b[43m \u001b[49m\n\u001b[1;32m      3\u001b[0m \u001b[43m    \u001b[49m\u001b[43mmodvar\u001b[49m\u001b[43m,\u001b[49m\u001b[43m \u001b[49m\n\u001b[1;32m      4\u001b[0m \u001b[43m    \u001b[49m\u001b[43mmissing_vals\u001b[49m\u001b[43m \u001b[49m\u001b[38;5;241;43m=\u001b[39;49m\u001b[43m \u001b[49m\u001b[43mall_cats_missing_val\u001b[49m\u001b[43m,\u001b[49m\n\u001b[1;32m      5\u001b[0m \u001b[43m)\u001b[49m\n",
      "File \u001b[0;32m~/Documents/Projects/git_jbus/sisepuede/python/model_attributes.py:3744\u001b[0m, in \u001b[0;36mModelAttributes.merge_array_var_partial_cat_to_array_all_cats\u001b[0;34m(self, array_vals, modvar, missing_vals, output_cats, output_subsec)\u001b[0m\n\u001b[1;32m   3742\u001b[0m inds_cats \u001b[38;5;241m=\u001b[39m [attr_subsec\u001b[38;5;241m.\u001b[39mget_key_value_index(x) \u001b[38;5;28;01mfor\u001b[39;00m x \u001b[38;5;129;01min\u001b[39;00m cats]\n\u001b[1;32m   3743\u001b[0m inds \u001b[38;5;241m=\u001b[39m np\u001b[38;5;241m.\u001b[39mrepeat([inds_cats], \u001b[38;5;28mlen\u001b[39m(array_default), axis \u001b[38;5;241m=\u001b[39m \u001b[38;5;241m0\u001b[39m)\n\u001b[0;32m-> 3744\u001b[0m \u001b[43mnp\u001b[49m\u001b[38;5;241;43m.\u001b[39;49m\u001b[43mput_along_axis\u001b[49m\u001b[43m(\u001b[49m\u001b[43marray_default\u001b[49m\u001b[43m,\u001b[49m\u001b[43m \u001b[49m\u001b[43minds\u001b[49m\u001b[43m,\u001b[49m\u001b[43m \u001b[49m\u001b[43marray_vals\u001b[49m\u001b[43m,\u001b[49m\u001b[43m \u001b[49m\u001b[43maxis\u001b[49m\u001b[43m \u001b[49m\u001b[38;5;241;43m=\u001b[39;49m\u001b[43m \u001b[49m\u001b[38;5;241;43m1\u001b[39;49m\u001b[43m)\u001b[49m\n\u001b[1;32m   3746\u001b[0m \u001b[38;5;28;01mreturn\u001b[39;00m array_default\n",
      "File \u001b[0;32m~/anaconda3/envs/amber_is_your_energy/lib/python3.11/site-packages/numpy/lib/shape_base.py:260\u001b[0m, in \u001b[0;36mput_along_axis\u001b[0;34m(arr, indices, values, axis)\u001b[0m\n\u001b[1;32m    257\u001b[0m     arr_shape \u001b[38;5;241m=\u001b[39m arr\u001b[38;5;241m.\u001b[39mshape\n\u001b[1;32m    259\u001b[0m \u001b[38;5;66;03m# use the fancy index\u001b[39;00m\n\u001b[0;32m--> 260\u001b[0m \u001b[43marr\u001b[49m\u001b[43m[\u001b[49m\u001b[43m_make_along_axis_idx\u001b[49m\u001b[43m(\u001b[49m\u001b[43marr_shape\u001b[49m\u001b[43m,\u001b[49m\u001b[43m \u001b[49m\u001b[43mindices\u001b[49m\u001b[43m,\u001b[49m\u001b[43m \u001b[49m\u001b[43maxis\u001b[49m\u001b[43m)\u001b[49m\u001b[43m]\u001b[49m \u001b[38;5;241m=\u001b[39m values\n",
      "\u001b[0;31mValueError\u001b[0m: shape mismatch: value array of shape (56,10) could not be broadcast to indexing result of shape (56,20)"
     ]
    }
   ],
   "source": [
    "model_elec.model_attributes.merge_array_var_partial_cat_to_array_all_cats(\n",
    "    np.array(out), \n",
    "    modvar, \n",
    "    missing_vals = all_cats_missing_val,\n",
    ")"
   ]
  },
  {
   "cell_type": "code",
   "execution_count": 135,
   "id": "94d4bb67-2e15-4f53-a5c7-d68dce772ab9",
   "metadata": {},
   "outputs": [],
   "source": [
    "array_vals = np.array(out)\n",
    "missing_vals = all_cats_missing_val\n",
    "\n",
    "output_cats: Union[list, None] = None\n",
    "output_subsec: Union[str, None] = None\n",
    "\n",
    "def_missing = 0.0\n",
    "modvar = model_elec.model_attributes.get_variable(modvar)\n",
    "\n",
    "subsector = model_elec.model_attributes.get_variable_subsector(modvar)\n",
    "attr_subsec = model_elec.model_attributes.get_attribute_table(subsector)\n",
    "cats_restricted = modvar.categories_are_restricted\n",
    "\n",
    "array_default = np.ones(\n",
    "            (len(array_vals), attr_subsec.n_key_values)\n",
    "        )*missing_vals"
   ]
  },
  {
   "cell_type": "code",
   "execution_count": null,
   "id": "08aa9070-c098-4b9d-a488-74dbac18bc3f",
   "metadata": {},
   "outputs": [],
   "source": []
  },
  {
   "cell_type": "code",
   "execution_count": 156,
   "id": "69694854-f952-4501-841b-a082cfda3c27",
   "metadata": {},
   "outputs": [
    {
     "data": {
      "text/plain": [
       "['fuel_coal',\n",
       " 'fuel_crude',\n",
       " 'fuel_diesel',\n",
       " 'fuel_electricity',\n",
       " 'fuel_gasoline',\n",
       " 'fuel_hydrocarbon_gas_liquids',\n",
       " 'fuel_hydrogen',\n",
       " 'fuel_kerosene',\n",
       " 'fuel_natural_gas',\n",
       " 'fuel_oil']"
      ]
     },
     "execution_count": 156,
     "metadata": {},
     "output_type": "execute_result"
    }
   ],
   "source": [
    "matt_new2.get_variable_categories(\"Fraction of Fuel Demand Imported\")"
   ]
  },
  {
   "cell_type": "code",
   "execution_count": 161,
   "id": "3333f365-8075-47e3-82f1-5f1044223d2f",
   "metadata": {},
   "outputs": [
    {
     "data": {
      "text/plain": [
       "{'cat_fuel': ['fuel_coal',\n",
       "  'fuel_crude',\n",
       "  'fuel_diesel',\n",
       "  'fuel_electricity',\n",
       "  'fuel_gasoline',\n",
       "  'fuel_hydrocarbon_gas_liquids',\n",
       "  'fuel_hydrogen',\n",
       "  'fuel_kerosene',\n",
       "  'fuel_natural_gas',\n",
       "  'fuel_oil',\n",
       "  'fuel_coal',\n",
       "  'fuel_crude',\n",
       "  'fuel_diesel',\n",
       "  'fuel_gasoline',\n",
       "  'fuel_hydrocarbon_gas_liquids',\n",
       "  'fuel_hydrogen',\n",
       "  'fuel_kerosene',\n",
       "  'fuel_natural_gas_unprocessed',\n",
       "  'fuel_natural_gas',\n",
       "  'fuel_oil']}"
      ]
     },
     "execution_count": 161,
     "metadata": {},
     "output_type": "execute_result"
    }
   ],
   "source": [
    "modvar.dict_category_keys"
   ]
  },
  {
   "cell_type": "code",
   "execution_count": null,
   "id": "d495f021-12c3-44ac-a5eb-6ab51792ee6c",
   "metadata": {},
   "outputs": [],
   "source": [
    "modvar = matt_new.dict_variables.get(\"Unadjusted Land Use Transition Probability\")\n",
    "modvar = matt_new.dict_variables.get(\":math:\\\\text{CH}_4 Stationary Combustion Emission Factor\")\n",
    "\n",
    "#modvar.attribute(\"unit_mass\")\n",
    "modvar.attribute(\"unit_area\")\n",
    "modvar.name_fs_safe.upper()\n"
   ]
  },
  {
   "cell_type": "code",
   "execution_count": 5,
   "id": "c636df7e-d15f-480a-83bf-544f079c3c7e",
   "metadata": {
    "tags": []
   },
   "outputs": [
    {
     "data": {
      "text/plain": [
       "['cat_industry_dim1', 'cat_industry_dim2', 'cat_transportation']"
      ]
     },
     "execution_count": 5,
     "metadata": {},
     "output_type": "execute_result"
    }
   ],
   "source": [
    "importlib.reload(sf)\n",
    "importlib.reload(mv)\n",
    "import time\n",
    "\n",
    "\n",
    "t0 = time.time()\n",
    "#modvar = mv.ModelVariable(\n",
    "#    attr_vars.table.iloc[2],\n",
    "#    sa.model_attributes.dict_attributes,\n",
    "#)\n",
    "t1 = time.time()\n",
    "\n",
    "\"\"\"\n",
    "vs = mv.VariableSchema(\n",
    "    modvar.dict_varinfo.get(\"variable_schema\")\n",
    ")\n",
    "vs.mutable_elements_clean_ordered\n",
    "vs.replace({\"cat_industry\": \"cement\"}, keys_are_clean = True,)\n",
    "\"\"\";\n",
    "\n",
    "#modvar.dict_varinfo\n",
    "#modvar.dict_varinfo\n",
    "\n",
    "\n",
    "\n",
    "\n",
    "\n",
    "series = attr_vars.table.iloc[2].copy()\n",
    "series[\"variable_schema\"] = \"``ef_ippu_$UNIT-MASS$_$EMISSION-GAS$_per_$UNIT-MASS$_product_use_$CAT-INDUSTRY-DIM1$_$CAT-INDUSTRY-DIM2$_$CAT-TRANSPORTATION$`` (``$UNIT-MASS$ = tonne``, ``$EMISSION-GAS$ = co2``\"\n",
    "series[\"categories\"] = \"(``$CAT-INDUSTRY_DIM2$ = paper|cement|plastic``, ``$CAT-INDUSTRY-DIM1$ = product_use_lubricants|product_use_paraffin_wax|cement|plastic``, ``$CAT-TRANSPORTATION$ = aviation|rail_freight|dymm``)\"\n",
    "series[\"default_value\"] = 0.0\n",
    "#series[\"categories\"] = \"(``$CAT-INDUSTRY$ = all``, ``$CAT-TRANSPORTATION$ = aviation|rail_freight|dymm``)\"\n",
    "\n",
    "#series[\"variable_schema\"] = \"pij_$CAT-LANDUSE-DIM1$_to_$CAT-LANDUSE-DIM2$\"\n",
    "#series[\"categories\"] = \"all\"\n",
    "\n",
    "modvar = mv.ModelVariable(\n",
    "    series,\n",
    "    sa.model_attributes.dict_attributes,\n",
    ")\n",
    "\n",
    "\n",
    "\n",
    "\n",
    "\n",
    "# get_root_element(\"CAT-INDUSTRY-DIM4\")\n",
    "#modvar.schema.get_root_element(\"cat_industry_dim3\")\n",
    "# modvar.schema.mutable_elements_clean_ordered\n",
    "modvar.dict_category_keys\n",
    "modvar.schema.mutable_elements_clean_ordered\n",
    "\n",
    "\n",
    "\n"
   ]
  },
  {
   "cell_type": "code",
   "execution_count": null,
   "id": "39e1a5f5-5c46-49f5-b874-ff174abd5c5a",
   "metadata": {},
   "outputs": [],
   "source": []
  },
  {
   "cell_type": "code",
   "execution_count": 1132,
   "id": "fc4554e3-1aad-4d57-b531-19041dc3a704",
   "metadata": {
    "tags": []
   },
   "outputs": [
    {
     "data": {
      "text/plain": [
       "('temp_gr',)"
      ]
     },
     "execution_count": 1132,
     "metadata": {},
     "output_type": "execute_result"
    }
   ],
   "source": [
    "regex_at = re.compile(\"attribute_unit_(.*).csv\")\n",
    "regex_at.match(\"attribute_unit_temp_gr.csv\").groups()\n",
    "\n"
   ]
  },
  {
   "cell_type": "code",
   "execution_count": 1138,
   "id": "ef134b4f-4ef2-46a3-b070-ce08766310b7",
   "metadata": {},
   "outputs": [
    {
     "data": {
      "text/html": [
       "<div>\n",
       "<style scoped>\n",
       "    .dataframe tbody tr th:only-of-type {\n",
       "        vertical-align: middle;\n",
       "    }\n",
       "\n",
       "    .dataframe tbody tr th {\n",
       "        vertical-align: top;\n",
       "    }\n",
       "\n",
       "    .dataframe thead th {\n",
       "        text-align: right;\n",
       "    }\n",
       "</style>\n",
       "<table border=\"1\" class=\"dataframe\">\n",
       "  <thead>\n",
       "    <tr style=\"text-align: right;\">\n",
       "      <th></th>\n",
       "      <th>length</th>\n",
       "      <th>unit_length</th>\n",
       "      <th>name</th>\n",
       "      <th>length_equivalent_m</th>\n",
       "      <th>length_equivalent_km</th>\n",
       "      <th>length_equivalent_mile</th>\n",
       "      <th>length_equivalent_mgm</th>\n",
       "      <th>length_equivalent_gm</th>\n",
       "    </tr>\n",
       "  </thead>\n",
       "  <tbody>\n",
       "    <tr>\n",
       "      <th>0</th>\n",
       "      <td>m</td>\n",
       "      <td>``m``</td>\n",
       "      <td>Meters</td>\n",
       "      <td>1.000000e+00</td>\n",
       "      <td>0.00100</td>\n",
       "      <td>6.213730e-04</td>\n",
       "      <td>0.000001</td>\n",
       "      <td>1.000000e-09</td>\n",
       "    </tr>\n",
       "    <tr>\n",
       "      <th>1</th>\n",
       "      <td>km</td>\n",
       "      <td>``km``</td>\n",
       "      <td>Kilometers</td>\n",
       "      <td>1.000000e+03</td>\n",
       "      <td>1.00000</td>\n",
       "      <td>6.213700e-01</td>\n",
       "      <td>0.001000</td>\n",
       "      <td>1.000000e-06</td>\n",
       "    </tr>\n",
       "    <tr>\n",
       "      <th>2</th>\n",
       "      <td>Mile</td>\n",
       "      <td>``mile``</td>\n",
       "      <td>Miles</td>\n",
       "      <td>1.609340e+03</td>\n",
       "      <td>1.60934</td>\n",
       "      <td>1.000000e+00</td>\n",
       "      <td>0.001609</td>\n",
       "      <td>1.609340e-06</td>\n",
       "    </tr>\n",
       "    <tr>\n",
       "      <th>3</th>\n",
       "      <td>Mm</td>\n",
       "      <td>``mgm``</td>\n",
       "      <td>Megameters</td>\n",
       "      <td>1.000000e+06</td>\n",
       "      <td>1000.00000</td>\n",
       "      <td>6.213700e-04</td>\n",
       "      <td>1.000000</td>\n",
       "      <td>1.000000e-03</td>\n",
       "    </tr>\n",
       "    <tr>\n",
       "      <th>4</th>\n",
       "      <td>Gm</td>\n",
       "      <td>``gm``</td>\n",
       "      <td>Gigameters</td>\n",
       "      <td>1.000000e+09</td>\n",
       "      <td>1000000.00000</td>\n",
       "      <td>6.213700e-07</td>\n",
       "      <td>1000.000000</td>\n",
       "      <td>1.000000e+00</td>\n",
       "    </tr>\n",
       "  </tbody>\n",
       "</table>\n",
       "</div>"
      ],
      "text/plain": [
       "  length unit_length        name  length_equivalent_m  length_equivalent_km  \\\n",
       "0      m       ``m``      Meters         1.000000e+00               0.00100   \n",
       "1     km      ``km``  Kilometers         1.000000e+03               1.00000   \n",
       "2   Mile    ``mile``       Miles         1.609340e+03               1.60934   \n",
       "3     Mm     ``mgm``  Megameters         1.000000e+06            1000.00000   \n",
       "4     Gm      ``gm``  Gigameters         1.000000e+09         1000000.00000   \n",
       "\n",
       "   length_equivalent_mile  length_equivalent_mgm  length_equivalent_gm  \n",
       "0            6.213730e-04               0.000001          1.000000e-09  \n",
       "1            6.213700e-01               0.001000          1.000000e-06  \n",
       "2            1.000000e+00               0.001609          1.609340e-06  \n",
       "3            6.213700e-04               1.000000          1.000000e-03  \n",
       "4            6.213700e-07            1000.000000          1.000000e+00  "
      ]
     },
     "execution_count": 1138,
     "metadata": {},
     "output_type": "execute_result"
    }
   ],
   "source": [
    "#sa.model_attributes.all_model_variables\n",
    "fp = \"/Users/jsyme/Documents/Projects/git_jbus/sisepuede/docs/source/csvs/attribute_length.csv\"\n",
    "at = AttributeTable(fp, \"length\", clean_table_fields = True,)\n",
    "at.table()"
   ]
  },
  {
   "cell_type": "code",
   "execution_count": 1052,
   "id": "90587052-baeb-410f-a9f4-ab48bd62bf67",
   "metadata": {
    "collapsed": true,
    "jupyter": {
     "outputs_hidden": true
    },
    "tags": []
   },
   "outputs": [
    {
     "data": {
      "text/plain": [
       "array([[0.92536768, 0.24845778, 0.37953433, 0.14847882, 0.25139435,\n",
       "        0.71123234, 0.15856626, 0.48581205, 0.68147416, 0.54829414,\n",
       "        0.08388734, 0.42894816, 0.66173826, 0.07984463, 0.47521661,\n",
       "        0.38798217, 0.5266003 , 0.4420342 , 0.88720961, 0.88586851,\n",
       "        0.70495647, 0.64484206, 0.15106266, 0.60722337],\n",
       "       [0.92536768, 0.24845778, 0.37953433, 0.14847882, 0.25139435,\n",
       "        0.71123234, 0.15856626, 0.48581205, 0.68147416, 0.54829414,\n",
       "        0.08388734, 0.42894816, 0.66173826, 0.07984463, 0.47521661,\n",
       "        0.38798217, 0.5266003 , 0.4420342 , 0.88720961, 0.88586851,\n",
       "        0.70495647, 0.64484206, 0.15106266, 0.60722337],\n",
       "       [0.92536768, 0.24845778, 0.37953433, 0.14847882, 0.25139435,\n",
       "        0.71123234, 0.15856626, 0.48581205, 0.68147416, 0.54829414,\n",
       "        0.08388734, 0.42894816, 0.66173826, 0.07984463, 0.47521661,\n",
       "        0.38798217, 0.5266003 , 0.4420342 , 0.88720961, 0.88586851,\n",
       "        0.70495647, 0.64484206, 0.15106266, 0.60722337],\n",
       "       [0.92536768, 0.24845778, 0.37953433, 0.14847882, 0.25139435,\n",
       "        0.71123234, 0.15856626, 0.48581205, 0.68147416, 0.54829414,\n",
       "        0.08388734, 0.42894816, 0.66173826, 0.07984463, 0.47521661,\n",
       "        0.38798217, 0.5266003 , 0.4420342 , 0.88720961, 0.88586851,\n",
       "        0.70495647, 0.64484206, 0.15106266, 0.60722337],\n",
       "       [0.92536768, 0.24845778, 0.37953433, 0.14847882, 0.25139435,\n",
       "        0.71123234, 0.15856626, 0.48581205, 0.68147416, 0.54829414,\n",
       "        0.08388734, 0.42894816, 0.66173826, 0.07984463, 0.47521661,\n",
       "        0.38798217, 0.5266003 , 0.4420342 , 0.88720961, 0.88586851,\n",
       "        0.70495647, 0.64484206, 0.15106266, 0.60722337],\n",
       "       [0.92536768, 0.24845778, 0.37953433, 0.14847882, 0.25139435,\n",
       "        0.71123234, 0.15856626, 0.48581205, 0.68147416, 0.54829414,\n",
       "        0.08388734, 0.42894816, 0.66173826, 0.07984463, 0.47521661,\n",
       "        0.38798217, 0.5266003 , 0.4420342 , 0.88720961, 0.88586851,\n",
       "        0.70495647, 0.64484206, 0.15106266, 0.60722337],\n",
       "       [0.92536768, 0.24845778, 0.37953433, 0.14847882, 0.25139435,\n",
       "        0.71123234, 0.15856626, 0.48581205, 0.68147416, 0.54829414,\n",
       "        0.08388734, 0.42894816, 0.66173826, 0.07984463, 0.47521661,\n",
       "        0.38798217, 0.5266003 , 0.4420342 , 0.88720961, 0.88586851,\n",
       "        0.70495647, 0.64484206, 0.15106266, 0.60722337],\n",
       "       [0.92536768, 0.24845778, 0.37953433, 0.14847882, 0.25139435,\n",
       "        0.71123234, 0.15856626, 0.48581205, 0.68147416, 0.54829414,\n",
       "        0.08388734, 0.42894816, 0.66173826, 0.07984463, 0.47521661,\n",
       "        0.38798217, 0.5266003 , 0.4420342 , 0.88720961, 0.88586851,\n",
       "        0.70495647, 0.64484206, 0.15106266, 0.60722337],\n",
       "       [0.92536768, 0.24845778, 0.37953433, 0.14847882, 0.25139435,\n",
       "        0.71123234, 0.15856626, 0.48581205, 0.68147416, 0.54829414,\n",
       "        0.08388734, 0.42894816, 0.66173826, 0.07984463, 0.47521661,\n",
       "        0.38798217, 0.5266003 , 0.4420342 , 0.88720961, 0.88586851,\n",
       "        0.70495647, 0.64484206, 0.15106266, 0.60722337],\n",
       "       [0.92536768, 0.24845778, 0.37953433, 0.14847882, 0.25139435,\n",
       "        0.71123234, 0.15856626, 0.48581205, 0.68147416, 0.54829414,\n",
       "        0.08388734, 0.42894816, 0.66173826, 0.07984463, 0.47521661,\n",
       "        0.38798217, 0.5266003 , 0.4420342 , 0.88720961, 0.88586851,\n",
       "        0.70495647, 0.64484206, 0.15106266, 0.60722337],\n",
       "       [0.92536768, 0.24845778, 0.37953433, 0.14847882, 0.25139435,\n",
       "        0.71123234, 0.15856626, 0.48581205, 0.68147416, 0.54829414,\n",
       "        0.08388734, 0.42894816, 0.66173826, 0.07984463, 0.47521661,\n",
       "        0.38798217, 0.5266003 , 0.4420342 , 0.88720961, 0.88586851,\n",
       "        0.70495647, 0.64484206, 0.15106266, 0.60722337],\n",
       "       [0.92536768, 0.24845778, 0.37953433, 0.14847882, 0.25139435,\n",
       "        0.71123234, 0.15856626, 0.48581205, 0.68147416, 0.54829414,\n",
       "        0.08388734, 0.42894816, 0.66173826, 0.07984463, 0.47521661,\n",
       "        0.38798217, 0.5266003 , 0.4420342 , 0.88720961, 0.88586851,\n",
       "        0.70495647, 0.64484206, 0.15106266, 0.60722337],\n",
       "       [0.92536768, 0.24845778, 0.37953433, 0.14847882, 0.25139435,\n",
       "        0.71123234, 0.15856626, 0.48581205, 0.68147416, 0.54829414,\n",
       "        0.08388734, 0.42894816, 0.66173826, 0.07984463, 0.47521661,\n",
       "        0.38798217, 0.5266003 , 0.4420342 , 0.88720961, 0.88586851,\n",
       "        0.70495647, 0.64484206, 0.15106266, 0.60722337],\n",
       "       [0.92536768, 0.24845778, 0.37953433, 0.14847882, 0.25139435,\n",
       "        0.71123234, 0.15856626, 0.48581205, 0.68147416, 0.54829414,\n",
       "        0.08388734, 0.42894816, 0.66173826, 0.07984463, 0.47521661,\n",
       "        0.38798217, 0.5266003 , 0.4420342 , 0.88720961, 0.88586851,\n",
       "        0.70495647, 0.64484206, 0.15106266, 0.60722337],\n",
       "       [0.92536768, 0.24845778, 0.37953433, 0.14847882, 0.25139435,\n",
       "        0.71123234, 0.15856626, 0.48581205, 0.68147416, 0.54829414,\n",
       "        0.08388734, 0.42894816, 0.66173826, 0.07984463, 0.47521661,\n",
       "        0.38798217, 0.5266003 , 0.4420342 , 0.88720961, 0.88586851,\n",
       "        0.70495647, 0.64484206, 0.15106266, 0.60722337],\n",
       "       [0.92536768, 0.24845778, 0.37953433, 0.14847882, 0.25139435,\n",
       "        0.71123234, 0.15856626, 0.48581205, 0.68147416, 0.54829414,\n",
       "        0.08388734, 0.42894816, 0.66173826, 0.07984463, 0.47521661,\n",
       "        0.38798217, 0.5266003 , 0.4420342 , 0.88720961, 0.88586851,\n",
       "        0.70495647, 0.64484206, 0.15106266, 0.60722337],\n",
       "       [0.92536768, 0.24845778, 0.37953433, 0.14847882, 0.25139435,\n",
       "        0.71123234, 0.15856626, 0.48581205, 0.68147416, 0.54829414,\n",
       "        0.08388734, 0.42894816, 0.66173826, 0.07984463, 0.47521661,\n",
       "        0.38798217, 0.5266003 , 0.4420342 , 0.88720961, 0.88586851,\n",
       "        0.70495647, 0.64484206, 0.15106266, 0.60722337],\n",
       "       [0.92536768, 0.24845778, 0.37953433, 0.14847882, 0.25139435,\n",
       "        0.71123234, 0.15856626, 0.48581205, 0.68147416, 0.54829414,\n",
       "        0.08388734, 0.42894816, 0.66173826, 0.07984463, 0.47521661,\n",
       "        0.38798217, 0.5266003 , 0.4420342 , 0.88720961, 0.88586851,\n",
       "        0.70495647, 0.64484206, 0.15106266, 0.60722337],\n",
       "       [0.92536768, 0.24845778, 0.37953433, 0.14847882, 0.25139435,\n",
       "        0.71123234, 0.15856626, 0.48581205, 0.68147416, 0.54829414,\n",
       "        0.08388734, 0.42894816, 0.66173826, 0.07984463, 0.47521661,\n",
       "        0.38798217, 0.5266003 , 0.4420342 , 0.88720961, 0.88586851,\n",
       "        0.70495647, 0.64484206, 0.15106266, 0.60722337],\n",
       "       [0.92536768, 0.24845778, 0.37953433, 0.14847882, 0.25139435,\n",
       "        0.71123234, 0.15856626, 0.48581205, 0.68147416, 0.54829414,\n",
       "        0.08388734, 0.42894816, 0.66173826, 0.07984463, 0.47521661,\n",
       "        0.38798217, 0.5266003 , 0.4420342 , 0.88720961, 0.88586851,\n",
       "        0.70495647, 0.64484206, 0.15106266, 0.60722337]])"
      ]
     },
     "execution_count": 1052,
     "metadata": {},
     "output_type": "execute_result"
    }
   ],
   "source": [
    "modvar(\n",
    "    df, \n",
    "    expand_to_all_categories = False,\n",
    "    return_type = \"array\",\n",
    ")"
   ]
  },
  {
   "cell_type": "code",
   "execution_count": 1026,
   "id": "5d37d3a5-aea8-4360-853e-f120ff364f75",
   "metadata": {
    "tags": []
   },
   "outputs": [],
   "source": [
    "#modvar.name.replace(\":math:\", \"\").replace(\"{\", \"\").replace(\"\\\\text\", \"\").replace(\"}\")\n",
    "df = np.full((20, len(modvar.fields_space)), -1)\n",
    "df = pd.DataFrame(df, columns = modvar.fields_space)\n",
    "for fld in modvar.fields:\n",
    "    df[fld] = np.random.rand()\n",
    "    \n",
    "    \n"
   ]
  },
  {
   "cell_type": "code",
   "execution_count": null,
   "id": "caac1809-c452-4e43-8c91-6939950ce2a5",
   "metadata": {
    "jp-MarkdownHeadingCollapsed": true,
    "tags": []
   },
   "outputs": [],
   "source": [
    "importlib.reload(mv)\n",
    "\n",
    "series = attr_vars.table.iloc[2].copy()\n",
    "series[\"variable_schema\"] = \"``ef_ippu_$UNIT-MASS$_$EMISSION-GAS$_per_$UNIT-MASS$_product_use_$CAT-INDUSTRY-DIM1$_$CAT-INDUSTRY-DIM2$_$CAT-TRANSPORTATION$`` (``$UNIT-MASS$ = tonne``, ``$EMISSION-GAS$ = co2``\"\n",
    "series[\"categories\"] = \"(``$CAT-INDUSTRY_DIM2$ = paper|cement|plastic``, ``$CAT-INDUSTRY-DIM1$ = product_use_lubricants|product_use_paraffin_wax|cement|plastic``, ``$CAT-TRANSPORTATION$ = aviation|rail_freight|dymm``)\"\n",
    "\n",
    "modvar = mv.ModelVariable(\n",
    "    series,\n",
    "    sa.model_attributes.dict_attributes,\n",
    ")\n",
    "\n",
    "\n",
    "\n",
    "\n",
    "modvar.get_categories_by_element(\n",
    "    #{\n",
    "    #    \"cat_industry_dim1\": [\"metals\", \"plastic\", \"chemicals\"],#\"``metals|plastic|chemicals``\"\n",
    "    #},\n",
    "    dict_category_space = modvar.dict_category_key_space,\n",
    ")\n",
    "\n",
    "\n"
   ]
  },
  {
   "cell_type": "code",
   "execution_count": 816,
   "id": "8bc989be-ca3e-4c70-af82-a7e61a4fc069",
   "metadata": {},
   "outputs": [
    {
     "data": {
      "text/plain": [
       "163.66612111292963"
      ]
     },
     "execution_count": 816,
     "metadata": {},
     "output_type": "execute_result"
    }
   ],
   "source": [
    "modvar.schema.get_root_element(\"cat_indusdtry_dim2\")\n",
    "20000/122.2"
   ]
  },
  {
   "cell_type": "code",
   "execution_count": 785,
   "id": "dad4a19b-637c-4767-a4ab-d435d2e99e8e",
   "metadata": {},
   "outputs": [
    {
     "data": {
      "text/plain": [
       "'_'"
      ]
     },
     "execution_count": 785,
     "metadata": {},
     "output_type": "execute_result"
    }
   ],
   "source": [
    "regex.match(\"CAT-INDUSTRY-DIM3\")\n",
    "mv.clean_element(\"-\")\n",
    "\n",
    "\n",
    "\n"
   ]
  },
  {
   "cell_type": "code",
   "execution_count": 666,
   "id": "6cc9dd28-85f1-4915-b128-cf9a2a0e7ade",
   "metadata": {},
   "outputs": [
    {
     "data": {
      "text/plain": [
       "<re.Match object; span=(0, 13), match='ahitheX-DIM34'>"
      ]
     },
     "execution_count": 666,
     "metadata": {},
     "output_type": "execute_result"
    }
   ],
   "source": [
    "modvar.schema.mutable_elements_ordered\n",
    "modvar.schema.space_char\n",
    "re.compile(f\".*{modvar.schema.space_char}{modvar.schema.flag_dim}(\\d*)$\").match(\"ahitheX-DIM34\")\n",
    "\n",
    "\n",
    "\n"
   ]
  },
  {
   "cell_type": "code",
   "execution_count": 527,
   "id": "3de038f5-f249-4f07-a471-6d6bebeff826",
   "metadata": {},
   "outputs": [
    {
     "data": {
      "text/plain": [
       "{'cat_industry': ['product_use_lubricants', 'product_use_paraffin_wax']}"
      ]
     },
     "execution_count": 527,
     "metadata": {},
     "output_type": "execute_result"
    }
   ],
   "source": [
    "#modvar.schema.get_attribute(\"emission_gas\")\n",
    "hasattr(attr_cat, \"key_values\")\n",
    "#modvar.get_categories_from_string(modvar.dict_varinfo.get(modvar.key_categories), \"|\", \"`\")\n",
    "\n",
    "modvar.get_categories_by_element(\n",
    "    category_subspace = {\n",
    "        \"cat_industry\": \"``product_use_lubricants|product_use_paraffin_wax``\",\n",
    "        \"cat_transportation\": \"``product_use_lubricants``|``product_use_paraffin_wax``\",\n",
    "        \"cat_transportation\": \"``product_use_lubricants``|``product_use_paraffin_wax``\",\n",
    "    },\n",
    "    dict_category_space = modvar.dict_category_keys,\n",
    "    \n",
    ")"
   ]
  },
  {
   "cell_type": "code",
   "execution_count": 390,
   "id": "c395bad9-1ed4-48fb-850f-79dacb4e4e39",
   "metadata": {},
   "outputs": [
    {
     "data": {
      "text/plain": [
       "'thisun_jfijdf'"
      ]
     },
     "execution_count": 390,
     "metadata": {},
     "output_type": "execute_result"
    }
   ],
   "source": [
    "modvar.schema.get_mutable_element(\n",
    "    \"ef_ippu_tonne_co2_per_tonne_production_thisun_jfijdf_clinker\",\n",
    "    \"cat_industry\"\n",
    ") "
   ]
  },
  {
   "cell_type": "code",
   "execution_count": 290,
   "id": "ae5fdb95-2b5a-4176-aa67-5ec8627a5645",
   "metadata": {},
   "outputs": [
    {
     "data": {
      "text/plain": [
       "'ef_ippu_tonne_co2_per_tonne_production_cement_clinker'"
      ]
     },
     "execution_count": 290,
     "metadata": {},
     "output_type": "execute_result"
    }
   ],
   "source": [
    "modvar.build_field_from_elements(\n",
    "    {\"cat_industry\": \"cement\"}, \n",
    "    keys_are_clean = True\n",
    ")\n",
    "\n"
   ]
  },
  {
   "cell_type": "code",
   "execution_count": 302,
   "id": "6306077f-61f9-485c-bada-a9b1adbff687",
   "metadata": {},
   "outputs": [
    {
     "data": {
      "text/plain": [
       "('ef_ippu_tonne_co2_per_tonne_production_cement_clinker',\n",
       " {'cat_industry': 'cement'})"
      ]
     },
     "execution_count": 302,
     "metadata": {},
     "output_type": "execute_result"
    }
   ],
   "source": [
    "class Field:\n",
    "    \n",
    "    def __init__(self,\n",
    "        field: str,\n",
    "        cat: Union[Dict, str, None],\n",
    "    ):\n",
    "        \n",
    "        self.field = field\n",
    "        self.cat = cat\n",
    "        \n",
    "        \n",
    "    \n",
    "    def __call__(self,\n",
    "    ):\n",
    "        \n",
    "        return self.field\n",
    "    \n",
    "\n",
    "field = Field(\"ef_ippu_tonne_co2_per_tonne_production_cement_clinker\", {\"cat_industry\": \"cement\"})\n",
    "\n",
    "field(), field.cat\n",
    "        "
   ]
  },
  {
   "cell_type": "code",
   "execution_count": 278,
   "id": "0f6c29d4-49a8-476c-9f97-a6332926ee1d",
   "metadata": {},
   "outputs": [
    {
     "data": {
      "text/plain": [
       "'ef_ippu_tonne_ch4_per_tonne_production_cementitude_airplanification'"
      ]
     },
     "execution_count": 278,
     "metadata": {},
     "output_type": "execute_result"
    }
   ],
   "source": [
    "sr = \"``ef_ippu_$UNIT-MASS$_$EMISSION-GAS$_per_$UNIT-MASS$_production_$CAT-INDUSTRY-I$_$CAT-TRANSPORTATION-J$`` (``$UNIT-MASS$ = tonne``, ``$EMISSION-GAS$ = ch4``)\"\n",
    "vs2 = mv.VariableSchema(sr)\n",
    "vs2.mutable_elements_ordered\n",
    "\n",
    "\n",
    "vs2.replace({\"cat_industry_i\": \"cementitude\", \"cat_transportation_j\": \"airplanification\"}, keys_are_clean = True,)"
   ]
  },
  {
   "cell_type": "code",
   "execution_count": null,
   "id": "f337bbd4-cee0-4b29-9db8-ffddfb1c277a",
   "metadata": {},
   "outputs": [],
   "source": [
    "vs.mutable_elements_clean_ordered\n",
    "\n"
   ]
  },
  {
   "cell_type": "code",
   "execution_count": null,
   "id": "35959685-0fbb-41ea-a2c5-44c870eac296",
   "metadata": {},
   "outputs": [],
   "source": [
    "sa.model_attributes.dict_attributes.get(\"abbreviation_subsector\").table;"
   ]
  },
  {
   "cell_type": "code",
   "execution_count": 244,
   "id": "05c08aec-2599-490f-a515-f91fcce2b71f",
   "metadata": {},
   "outputs": [
    {
     "data": {
      "text/plain": [
       "{None: 2}"
      ]
     },
     "execution_count": 244,
     "metadata": {},
     "output_type": "execute_result"
    }
   ],
   "source": [
    "dict1 = {}\n",
    "\n",
    "dict1[None] = 2\n",
    "dict1"
   ]
  },
  {
   "cell_type": "code",
   "execution_count": 195,
   "id": "19acef7e-0458-4c12-b7f6-d7c204747355",
   "metadata": {},
   "outputs": [],
   "source": [
    "def get_variable_schema_base(#self,\n",
    "    var_schema_raw: str,\n",
    ") -> str:\n",
    "    \"\"\"\n",
    "    Using a raw variable schema, replace any unit and emission specifications\n",
    "    \"\"\"\n",
    "    \n",
    "    dict_replacements, schema  = mv.clean_schema(\n",
    "        var_schema_raw, \n",
    "        return_type = \"all\"\n",
    "    )\n",
    "    \n",
    "    return dict_replacements, schema\n",
    "\n",
    "dict_replacements, schema = get_variable_schema_base(\n",
    "    modvar.dict_varinfo.get(\"variable_schema\")\n",
    ")"
   ]
  },
  {
   "cell_type": "code",
   "execution_count": 198,
   "id": "87c236de-1668-4252-915b-16feaef97472",
   "metadata": {},
   "outputs": [
    {
     "data": {
      "text/plain": [
       "True"
      ]
     },
     "execution_count": 198,
     "metadata": {},
     "output_type": "execute_result"
    }
   ],
   "source": [
    "isinstance(pd.DataFrame, type)"
   ]
  },
  {
   "cell_type": "code",
   "execution_count": 201,
   "id": "8f7ce3ef-a7fb-44ae-b8a0-78edf9e02d75",
   "metadata": {},
   "outputs": [
    {
     "data": {
      "text/plain": [
       "['THIS', ' ', 'THIS2']"
      ]
     },
     "execution_count": 201,
     "metadata": {},
     "output_type": "execute_result"
    }
   ],
   "source": [
    "#regex = re.compile(\"(.*)\\$(.*)\\$(.*$)\")\n",
    "regex = re.compile(\"(?<=\\$)(.*?)(?=\\$)\")\n",
    "regex.findall(\"this $THIS$ $THIS2$\")\n",
    "#regex = re.search(\"(?<=\\$)(.*?)(?=\\$)\", \"this $HERE$ $NOPE$\")\n",
    "\n",
    "\n",
    "\n"
   ]
  },
  {
   "cell_type": "code",
   "execution_count": 182,
   "id": "04b5de40-77b2-4231-abe4-b5ba79d2af06",
   "metadata": {},
   "outputs": [
    {
     "data": {
      "text/plain": [
       "0"
      ]
     },
     "execution_count": 182,
     "metadata": {},
     "output_type": "execute_result"
    }
   ],
   "source": [
    "string = \"this $THIS$ $THIS2$\"\n",
    "string.count(\"$\")"
   ]
  },
  {
   "cell_type": "code",
   "execution_count": 193,
   "id": "3ff3cae0-e09b-47af-be40-343963501ed2",
   "metadata": {},
   "outputs": [
    {
     "data": {
      "text/plain": [
       "'``ef_ippu_$UNIT-MASS$_$EMISSION-GAS$_per_$UNIT-MASS$_production_$CAT-INDUSTRY$`` (``$UNIT-MASS$ = tonne``, ``$EMISSION-GAS$ = ch4``)'"
      ]
     },
     "execution_count": 193,
     "metadata": {},
     "output_type": "execute_result"
    }
   ],
   "source": [
    "modvar.dict_varinfo.get(\"variable_schema\")"
   ]
  },
  {
   "cell_type": "code",
   "execution_count": 215,
   "id": "f6a3388a-0e86-4db7-af19-d03fb80ba8d0",
   "metadata": {},
   "outputs": [],
   "source": [
    "arr_1 = np.array([7, 11, 13, 17, 19, 23, 29])\n",
    "\n",
    "prs = [2, 3, 5, 7, 11, 13, 17, 19]\n",
    "arr_2 = []\n",
    "gaps = []\n",
    "for i in range(np.prod(prs)):\n",
    "    check = [i%x for x in prs]\n",
    "    binary = int(0 in check)\n",
    "    \n",
    "    arr_2.append(binary)\n",
    "    if not binary:\n",
    "        gaps.append(i)\n",
    "\n",
    "\n",
    "P = np.prod(prs)\n",
    "gaps_g1 = [x for x in gaps if x > 1]\n",
    "\n",
    "classes = []\n",
    "if False:\n",
    "    l = []\n",
    "    for i in range(1, 2):#len(arr_1) + 1):\n",
    "        subs = list(itertools.combinations(gaps_g1, i))\n",
    "\n",
    "        l.extend(subs)\n",
    "\n",
    "\n",
    "    classes = []\n",
    "    for i, sub in enumerate(l):\n",
    "        val = np.prod(sub)\n",
    "        mod = val%P\n",
    "\n",
    "        classes.append(mod)\n",
    "\n",
    "    classes = set(classes)\n",
    "diffs = np.array(gaps[1:]) - np.array(gaps[0:-1])\n",
    "len([x for x in diffs if x == 4])\n",
    "w = np.abs(np.array(diffs[1:]) - np.array(diffs[0:-1]))\n",
    "w = np.where(w == 0)\n",
    "w;\n",
    "\n",
    "\n",
    "\n",
    "\n",
    "pi1 = prs[-1]\n",
    "counts_2 = []\n",
    "\n",
    "P_prev = np.prod(prs[0:-1])\n",
    "# check counts of 2 among each subdivision--should be relatively smooth\n",
    "for i in range(pi1):\n",
    "    gps = [x for x in gaps if (x >= i*P_prev) & (x < (i + 1)*P_prev)]\n",
    "    \n",
    "    ds = np.array(gps[1:]) - np.array(gps[0:-1])\n",
    "    n = len([x for x in ds if x == 2])\n",
    "    \n",
    "    print(n)\n",
    "    counts_2.append(n)\n",
    "    #len([x for x in diffs[0:n] if x == 2])\n",
    "    \n",
    "    \n",
    "import sympy\n",
    "# non-prime nums\n",
    "gaps_nopr = [x for x in gaps if (not sympy.isprime(x)) and (x > 1)]\n",
    "\n",
    "\n",
    "l = []\n",
    "for i in range(1, len(gaps_nopr) + 1):\n",
    "    subs = list(itertools.combinations(gaps_nopr, i))\n",
    "    \n",
    "    l.extend(subs)\n",
    "\n",
    "classes = []\n",
    "for i, sub in enumerate(l):\n",
    "    val = np.prod(sub)\n",
    "    mod = val%P\n",
    "    \n",
    "    classes.append(mod)\n",
    "    \n",
    "    \n",
    "gaps_nopr = [x for x in gaps if (not sympy.isprime(x)) and (x > 1)]\n",
    "classes = []\n",
    "for i in range(1, 3):#len(gaps_nopr) + 1):\n",
    "    combs = itertools.combinations(gaps_nopr, i)\n",
    "    \n",
    "    for comb in combs:\n",
    "        class_check = np.prod(comb)%P\n",
    "        classes.append(class_check) if (class_check not in classes) else None\n",
    "    \n",
    "classes2 = classes.copy()\n",
    "\n",
    "\n",
    "\n"
   ]
  },
  {
   "cell_type": "code",
   "execution_count": null,
   "id": "9289794c-34f2-42ca-a14b-c932ef873da8",
   "metadata": {},
   "outputs": [],
   "source": []
  },
  {
   "cell_type": "code",
   "execution_count": null,
   "id": "e9f53c7e-c014-42f7-ab7e-194b8864476c",
   "metadata": {},
   "outputs": [],
   "source": []
  },
  {
   "cell_type": "code",
   "execution_count": null,
   "id": "3345f038-7060-4125-a3bd-402dd8d8a635",
   "metadata": {},
   "outputs": [],
   "source": []
  },
  {
   "cell_type": "code",
   "execution_count": null,
   "id": "0376625b-7886-42d5-8419-2be70aa5e1c7",
   "metadata": {},
   "outputs": [],
   "source": []
  },
  {
   "cell_type": "code",
   "execution_count": null,
   "id": "0c69a838-c359-4a88-8b7a-52036bda9bf3",
   "metadata": {},
   "outputs": [],
   "source": []
  },
  {
   "cell_type": "code",
   "execution_count": null,
   "id": "5eff669d-0a67-4c08-9d72-9d2428a4a2e6",
   "metadata": {
    "tags": []
   },
   "outputs": [],
   "source": []
  },
  {
   "cell_type": "code",
   "execution_count": null,
   "id": "6f7a731e-52c8-4c26-9acd-b6e3e33ccedd",
   "metadata": {},
   "outputs": [],
   "source": []
  },
  {
   "cell_type": "code",
   "execution_count": null,
   "id": "e96cf772-f789-4f52-af8e-b1487e68108f",
   "metadata": {},
   "outputs": [],
   "source": []
  },
  {
   "cell_type": "code",
   "execution_count": 115,
   "id": "0c6c639d-fa24-4fa0-a2c1-ee61e09664ac",
   "metadata": {},
   "outputs": [],
   "source": []
  },
  {
   "cell_type": "code",
   "execution_count": null,
   "id": "a943b360-b9b0-464d-a4a8-7f909806351b",
   "metadata": {},
   "outputs": [],
   "source": []
  },
  {
   "cell_type": "code",
   "execution_count": null,
   "id": "6b33d742-a2fb-4cc7-a2d3-6cfd3fac39e1",
   "metadata": {},
   "outputs": [],
   "source": []
  },
  {
   "cell_type": "code",
   "execution_count": null,
   "id": "45fd778f-ba17-49bb-b979-3a3fa907dfdc",
   "metadata": {},
   "outputs": [],
   "source": []
  },
  {
   "cell_type": "code",
   "execution_count": 155,
   "id": "a3dca3a1-58a5-4ff6-b2d7-f2bf9da20209",
   "metadata": {},
   "outputs": [],
   "source": []
  },
  {
   "cell_type": "code",
   "execution_count": 152,
   "id": "d3a2df32-47fc-4de4-ae21-ed4fed57c6eb",
   "metadata": {},
   "outputs": [],
   "source": []
  },
  {
   "cell_type": "code",
   "execution_count": 163,
   "id": "1e649ebe-e4a4-4801-b226-7b7411186a14",
   "metadata": {},
   "outputs": [],
   "source": []
  },
  {
   "cell_type": "code",
   "execution_count": null,
   "id": "d6a6481f-a991-4202-adb1-802296b2baa0",
   "metadata": {},
   "outputs": [],
   "source": []
  }
 ],
 "metadata": {
  "kernelspec": {
   "display_name": "Python 3 (ipykernel)",
   "language": "python",
   "name": "python3"
  },
  "language_info": {
   "codemirror_mode": {
    "name": "ipython",
    "version": 3
   },
   "file_extension": ".py",
   "mimetype": "text/x-python",
   "name": "python",
   "nbconvert_exporter": "python",
   "pygments_lexer": "ipython3",
   "version": "3.11.0"
  }
 },
 "nbformat": 4,
 "nbformat_minor": 5
}
