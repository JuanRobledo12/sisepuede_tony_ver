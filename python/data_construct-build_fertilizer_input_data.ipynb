{
 "cells": [
  {
   "cell_type": "code",
   "execution_count": 2,
   "metadata": {
    "collapsed": true,
    "jupyter": {
     "outputs_hidden": true
    },
    "tags": []
   },
   "outputs": [
    {
     "name": "stderr",
     "output_type": "stream",
     "text": [
      "/Users/jsyme/Documents/Projects/git_jbus/sisepuede/python/model_attributes.py:2662: UserWarning: Invalid subsector attribute 'key_varreqs_partial'. Valid return type values are:'pycategory_primary', 'abv_subsector', 'sector', 'abv_sector', 'key_varreqs_all'\n",
      "  warnings.warn(f\"Invalid subsector attribute '{return_type}'. Valid return type values are:{valid_rts}\")\n",
      "/Users/jsyme/Documents/Projects/git_jbus/sisepuede/python/model_attributes.py:2419: FutureWarning: In a future version of pandas, a length 1 tuple will be returned when iterating over a groupby with a grouper equal to a list of length 1. Don't supply a list with a single grouper to avoid this warning.\n",
      "  for desig, df in df_by_designation:\n",
      "/Users/jsyme/Documents/Projects/git_jbus/sisepuede/python/model_attributes.py:5357: FutureWarning: In a future version of pandas, a length 1 tuple will be returned when iterating over a groupby with a grouper equal to a list of length 1. Don't supply a list with a single grouper to avoid this warning.\n",
      "  for i, df in dfg:\n",
      "/Users/jsyme/Documents/Projects/git_jbus/sisepuede/python/model_attributes.py:5357: FutureWarning: In a future version of pandas, a length 1 tuple will be returned when iterating over a groupby with a grouper equal to a list of length 1. Don't supply a list with a single grouper to avoid this warning.\n",
      "  for i, df in dfg:\n",
      "/Users/jsyme/Documents/Projects/git_jbus/sisepuede/python/model_attributes.py:5357: FutureWarning: In a future version of pandas, a length 1 tuple will be returned when iterating over a groupby with a grouper equal to a list of length 1. Don't supply a list with a single grouper to avoid this warning.\n",
      "  for i, df in dfg:\n",
      "/Users/jsyme/Documents/Projects/git_jbus/sisepuede/python/model_attributes.py:5357: FutureWarning: In a future version of pandas, a length 1 tuple will be returned when iterating over a groupby with a grouper equal to a list of length 1. Don't supply a list with a single grouper to avoid this warning.\n",
      "  for i, df in dfg:\n",
      "/Users/jsyme/Documents/Projects/git_jbus/sisepuede/python/model_attributes.py:5357: FutureWarning: In a future version of pandas, a length 1 tuple will be returned when iterating over a groupby with a grouper equal to a list of length 1. Don't supply a list with a single grouper to avoid this warning.\n",
      "  for i, df in dfg:\n",
      "/Users/jsyme/Documents/Projects/git_jbus/sisepuede/python/model_attributes.py:5357: FutureWarning: In a future version of pandas, a length 1 tuple will be returned when iterating over a groupby with a grouper equal to a list of length 1. Don't supply a list with a single grouper to avoid this warning.\n",
      "  for i, df in dfg:\n",
      "/Users/jsyme/Documents/Projects/git_jbus/sisepuede/python/model_attributes.py:5357: FutureWarning: In a future version of pandas, a length 1 tuple will be returned when iterating over a groupby with a grouper equal to a list of length 1. Don't supply a list with a single grouper to avoid this warning.\n",
      "  for i, df in dfg:\n",
      "/Users/jsyme/Documents/Projects/git_jbus/sisepuede/python/model_attributes.py:5357: FutureWarning: In a future version of pandas, a length 1 tuple will be returned when iterating over a groupby with a grouper equal to a list of length 1. Don't supply a list with a single grouper to avoid this warning.\n",
      "  for i, df in dfg:\n",
      "/Users/jsyme/Documents/Projects/git_jbus/sisepuede/python/model_attributes.py:5357: FutureWarning: In a future version of pandas, a length 1 tuple will be returned when iterating over a groupby with a grouper equal to a list of length 1. Don't supply a list with a single grouper to avoid this warning.\n",
      "  for i, df in dfg:\n",
      "/Users/jsyme/Documents/Projects/git_jbus/sisepuede/python/model_attributes.py:5357: FutureWarning: In a future version of pandas, a length 1 tuple will be returned when iterating over a groupby with a grouper equal to a list of length 1. Don't supply a list with a single grouper to avoid this warning.\n",
      "  for i, df in dfg:\n",
      "/Users/jsyme/Documents/Projects/git_jbus/sisepuede/python/model_attributes.py:5357: FutureWarning: In a future version of pandas, a length 1 tuple will be returned when iterating over a groupby with a grouper equal to a list of length 1. Don't supply a list with a single grouper to avoid this warning.\n",
      "  for i, df in dfg:\n",
      "/Users/jsyme/Documents/Projects/git_jbus/sisepuede/python/model_attributes.py:5357: FutureWarning: In a future version of pandas, a length 1 tuple will be returned when iterating over a groupby with a grouper equal to a list of length 1. Don't supply a list with a single grouper to avoid this warning.\n",
      "  for i, df in dfg:\n",
      "/Users/jsyme/Documents/Projects/git_jbus/sisepuede/python/model_attributes.py:4413: UserWarning: clean_partial_category_dictionary: Invalid categories values 'public', 'road_light', 'road_heavy_freight', 'road_heavy_regional' dropped when cleaning the dictionary. Category values not found.\n",
      "  warnings.warn(f\"clean_partial_category_dictionary: Invalid categories values {missing_vals} dropped when cleaning the dictionary. Category values not found.\")\n",
      "/Users/jsyme/Documents/Projects/git_jbus/sisepuede/python/model_attributes.py:4413: UserWarning: clean_partial_category_dictionary: Invalid categories values 'public', 'rail_freight', 'rail_passenger', 'road_light', 'road_heavy_freight', 'road_heavy_regional', 'water_borne' dropped when cleaning the dictionary. Category values not found.\n",
      "  warnings.warn(f\"clean_partial_category_dictionary: Invalid categories values {missing_vals} dropped when cleaning the dictionary. Category values not found.\")\n",
      "/Users/jsyme/Documents/Projects/git_jbus/sisepuede/python/model_attributes.py:4413: UserWarning: clean_partial_category_dictionary: Invalid categories values 'powered_bikes', 'public', 'rail_freight', 'rail_passenger', 'road_heavy_freight', 'road_heavy_regional', 'road_light', 'water_borne' dropped when cleaning the dictionary. Category values not found.\n",
      "  warnings.warn(f\"clean_partial_category_dictionary: Invalid categories values {missing_vals} dropped when cleaning the dictionary. Category values not found.\")\n",
      "/Users/jsyme/Documents/Projects/git_jbus/sisepuede/python/model_attributes.py:4413: UserWarning: clean_partial_category_dictionary: Invalid categories values 'powered_bikes', 'public', 'road_light', 'road_heavy_freight', 'road_heavy_regional' dropped when cleaning the dictionary. Category values not found.\n",
      "  warnings.warn(f\"clean_partial_category_dictionary: Invalid categories values {missing_vals} dropped when cleaning the dictionary. Category values not found.\")\n",
      "/Users/jsyme/Documents/Projects/git_jbus/sisepuede/python/model_attributes.py:4413: UserWarning: clean_partial_category_dictionary: Invalid categories values 'public', 'road_heavy_freight', 'road_heavy_regional', 'road_light' dropped when cleaning the dictionary. Category values not found.\n",
      "  warnings.warn(f\"clean_partial_category_dictionary: Invalid categories values {missing_vals} dropped when cleaning the dictionary. Category values not found.\")\n",
      "/Users/jsyme/Documents/Projects/git_jbus/sisepuede/python/model_attributes.py:4413: UserWarning: clean_partial_category_dictionary: Invalid categories values 'public', 'rail_freight', 'rail_passenger', 'road_heavy_freight', 'road_heavy_regional', 'road_light', 'water_borne' dropped when cleaning the dictionary. Category values not found.\n",
      "  warnings.warn(f\"clean_partial_category_dictionary: Invalid categories values {missing_vals} dropped when cleaning the dictionary. Category values not found.\")\n",
      "/Users/jsyme/Documents/Projects/git_jbus/sisepuede/python/model_attributes.py:4413: UserWarning: clean_partial_category_dictionary: Invalid categories values 'public', 'rail_freight', 'rail_passenger', 'road_heavy_freight', 'road_heavy_regional', 'water_borne' dropped when cleaning the dictionary. Category values not found.\n",
      "  warnings.warn(f\"clean_partial_category_dictionary: Invalid categories values {missing_vals} dropped when cleaning the dictionary. Category values not found.\")\n",
      "/Users/jsyme/Documents/Projects/git_jbus/sisepuede/python/model_attributes.py:4413: UserWarning: clean_partial_category_dictionary: Invalid categories values 'aviation', 'public', 'rail_freight', 'rail_passenger', 'road_heavy_freight', 'road_heavy_regional', 'road_light', 'water_borne' dropped when cleaning the dictionary. Category values not found.\n",
      "  warnings.warn(f\"clean_partial_category_dictionary: Invalid categories values {missing_vals} dropped when cleaning the dictionary. Category values not found.\")\n",
      "/Users/jsyme/Documents/Projects/git_jbus/sisepuede/python/model_attributes.py:4413: UserWarning: clean_partial_category_dictionary: Invalid categories values 'aviation' dropped when cleaning the dictionary. Category values not found.\n",
      "  warnings.warn(f\"clean_partial_category_dictionary: Invalid categories values {missing_vals} dropped when cleaning the dictionary. Category values not found.\")\n",
      "/Users/jsyme/Documents/Projects/git_jbus/sisepuede/python/model_attributes.py:4413: UserWarning: clean_partial_category_dictionary: Invalid categories values 'road_light', 'road_heavy_freight', 'road_heavy_regional' dropped when cleaning the dictionary. Category values not found.\n",
      "  warnings.warn(f\"clean_partial_category_dictionary: Invalid categories values {missing_vals} dropped when cleaning the dictionary. Category values not found.\")\n",
      "/Users/jsyme/Documents/Projects/git_jbus/sisepuede/python/model_attributes.py:4413: UserWarning: clean_partial_category_dictionary: Invalid categories values 'rail_freight', 'rail_passenger', 'road_light', 'road_heavy_freight', 'road_heavy_regional', 'water_borne' dropped when cleaning the dictionary. Category values not found.\n",
      "  warnings.warn(f\"clean_partial_category_dictionary: Invalid categories values {missing_vals} dropped when cleaning the dictionary. Category values not found.\")\n",
      "/Users/jsyme/Documents/Projects/git_jbus/sisepuede/python/model_attributes.py:4413: UserWarning: clean_partial_category_dictionary: Invalid categories values 'aviation', 'powered_bikes', 'rail_freight', 'rail_passenger', 'road_heavy_freight', 'road_heavy_regional', 'road_light', 'water_borne' dropped when cleaning the dictionary. Category values not found.\n",
      "  warnings.warn(f\"clean_partial_category_dictionary: Invalid categories values {missing_vals} dropped when cleaning the dictionary. Category values not found.\")\n",
      "/Users/jsyme/Documents/Projects/git_jbus/sisepuede/python/model_attributes.py:4413: UserWarning: clean_partial_category_dictionary: Invalid categories values 'powered_bikes', 'road_light', 'road_heavy_freight', 'road_heavy_regional' dropped when cleaning the dictionary. Category values not found.\n",
      "  warnings.warn(f\"clean_partial_category_dictionary: Invalid categories values {missing_vals} dropped when cleaning the dictionary. Category values not found.\")\n",
      "/Users/jsyme/Documents/Projects/git_jbus/sisepuede/python/model_attributes.py:4413: UserWarning: clean_partial_category_dictionary: Invalid categories values 'road_heavy_freight', 'road_heavy_regional', 'road_light' dropped when cleaning the dictionary. Category values not found.\n",
      "  warnings.warn(f\"clean_partial_category_dictionary: Invalid categories values {missing_vals} dropped when cleaning the dictionary. Category values not found.\")\n",
      "/Users/jsyme/Documents/Projects/git_jbus/sisepuede/python/model_attributes.py:4413: UserWarning: clean_partial_category_dictionary: Invalid categories values 'aviation', 'rail_freight', 'rail_passenger', 'road_heavy_freight', 'road_heavy_regional', 'road_light', 'water_borne' dropped when cleaning the dictionary. Category values not found.\n",
      "  warnings.warn(f\"clean_partial_category_dictionary: Invalid categories values {missing_vals} dropped when cleaning the dictionary. Category values not found.\")\n",
      "/Users/jsyme/Documents/Projects/git_jbus/sisepuede/python/model_attributes.py:4413: UserWarning: clean_partial_category_dictionary: Invalid categories values 'rail_freight', 'rail_passenger', 'road_heavy_freight', 'road_heavy_regional', 'water_borne' dropped when cleaning the dictionary. Category values not found.\n",
      "  warnings.warn(f\"clean_partial_category_dictionary: Invalid categories values {missing_vals} dropped when cleaning the dictionary. Category values not found.\")\n",
      "/Users/jsyme/Documents/Projects/git_jbus/sisepuede/python/model_attributes.py:4413: UserWarning: clean_partial_category_dictionary: Invalid categories values 'public', 'rail_passenger', 'road_light', 'road_heavy_freight', 'road_heavy_regional', 'water_borne' dropped when cleaning the dictionary. Category values not found.\n",
      "  warnings.warn(f\"clean_partial_category_dictionary: Invalid categories values {missing_vals} dropped when cleaning the dictionary. Category values not found.\")\n",
      "/Users/jsyme/Documents/Projects/git_jbus/sisepuede/python/model_attributes.py:4413: UserWarning: clean_partial_category_dictionary: Invalid categories values 'aviation', 'powered_bikes', 'public', 'rail_passenger', 'road_heavy_freight', 'road_heavy_regional', 'road_light', 'water_borne' dropped when cleaning the dictionary. Category values not found.\n",
      "  warnings.warn(f\"clean_partial_category_dictionary: Invalid categories values {missing_vals} dropped when cleaning the dictionary. Category values not found.\")\n",
      "/Users/jsyme/Documents/Projects/git_jbus/sisepuede/python/model_attributes.py:4413: UserWarning: clean_partial_category_dictionary: Invalid categories values 'aviation', 'public', 'rail_passenger', 'road_heavy_freight', 'road_heavy_regional', 'road_light', 'water_borne' dropped when cleaning the dictionary. Category values not found.\n",
      "  warnings.warn(f\"clean_partial_category_dictionary: Invalid categories values {missing_vals} dropped when cleaning the dictionary. Category values not found.\")\n",
      "/Users/jsyme/Documents/Projects/git_jbus/sisepuede/python/model_attributes.py:4413: UserWarning: clean_partial_category_dictionary: Invalid categories values 'public', 'rail_passenger', 'road_heavy_freight', 'road_heavy_regional', 'water_borne' dropped when cleaning the dictionary. Category values not found.\n",
      "  warnings.warn(f\"clean_partial_category_dictionary: Invalid categories values {missing_vals} dropped when cleaning the dictionary. Category values not found.\")\n",
      "/Users/jsyme/Documents/Projects/git_jbus/sisepuede/python/model_attributes.py:4413: UserWarning: clean_partial_category_dictionary: Invalid categories values 'public', 'rail_freight', 'road_light', 'road_heavy_freight', 'road_heavy_regional', 'water_borne' dropped when cleaning the dictionary. Category values not found.\n",
      "  warnings.warn(f\"clean_partial_category_dictionary: Invalid categories values {missing_vals} dropped when cleaning the dictionary. Category values not found.\")\n",
      "/Users/jsyme/Documents/Projects/git_jbus/sisepuede/python/model_attributes.py:4413: UserWarning: clean_partial_category_dictionary: Invalid categories values 'aviation', 'powered_bikes', 'public', 'rail_freight', 'road_heavy_freight', 'road_heavy_regional', 'road_light', 'water_borne' dropped when cleaning the dictionary. Category values not found.\n",
      "  warnings.warn(f\"clean_partial_category_dictionary: Invalid categories values {missing_vals} dropped when cleaning the dictionary. Category values not found.\")\n",
      "/Users/jsyme/Documents/Projects/git_jbus/sisepuede/python/model_attributes.py:4413: UserWarning: clean_partial_category_dictionary: Invalid categories values 'aviation', 'public', 'rail_freight', 'road_heavy_freight', 'road_heavy_regional', 'road_light', 'water_borne' dropped when cleaning the dictionary. Category values not found.\n",
      "  warnings.warn(f\"clean_partial_category_dictionary: Invalid categories values {missing_vals} dropped when cleaning the dictionary. Category values not found.\")\n",
      "/Users/jsyme/Documents/Projects/git_jbus/sisepuede/python/model_attributes.py:4413: UserWarning: clean_partial_category_dictionary: Invalid categories values 'public', 'rail_freight', 'road_heavy_freight', 'road_heavy_regional', 'water_borne' dropped when cleaning the dictionary. Category values not found.\n",
      "  warnings.warn(f\"clean_partial_category_dictionary: Invalid categories values {missing_vals} dropped when cleaning the dictionary. Category values not found.\")\n",
      "/Users/jsyme/Documents/Projects/git_jbus/sisepuede/python/model_attributes.py:4413: UserWarning: clean_partial_category_dictionary: Invalid categories values 'public', 'road_light', 'road_heavy_regional' dropped when cleaning the dictionary. Category values not found.\n",
      "  warnings.warn(f\"clean_partial_category_dictionary: Invalid categories values {missing_vals} dropped when cleaning the dictionary. Category values not found.\")\n",
      "/Users/jsyme/Documents/Projects/git_jbus/sisepuede/python/model_attributes.py:4413: UserWarning: clean_partial_category_dictionary: Invalid categories values 'public', 'rail_freight', 'rail_passenger', 'road_light', 'road_heavy_regional', 'water_borne' dropped when cleaning the dictionary. Category values not found.\n",
      "  warnings.warn(f\"clean_partial_category_dictionary: Invalid categories values {missing_vals} dropped when cleaning the dictionary. Category values not found.\")\n",
      "/Users/jsyme/Documents/Projects/git_jbus/sisepuede/python/model_attributes.py:4413: UserWarning: clean_partial_category_dictionary: Invalid categories values 'aviation', 'powered_bikes', 'public', 'rail_freight', 'rail_passenger', 'road_heavy_regional', 'road_light', 'water_borne' dropped when cleaning the dictionary. Category values not found.\n",
      "  warnings.warn(f\"clean_partial_category_dictionary: Invalid categories values {missing_vals} dropped when cleaning the dictionary. Category values not found.\")\n",
      "/Users/jsyme/Documents/Projects/git_jbus/sisepuede/python/model_attributes.py:4413: UserWarning: clean_partial_category_dictionary: Invalid categories values 'powered_bikes', 'public', 'road_light', 'road_heavy_regional' dropped when cleaning the dictionary. Category values not found.\n",
      "  warnings.warn(f\"clean_partial_category_dictionary: Invalid categories values {missing_vals} dropped when cleaning the dictionary. Category values not found.\")\n",
      "/Users/jsyme/Documents/Projects/git_jbus/sisepuede/python/model_attributes.py:4413: UserWarning: clean_partial_category_dictionary: Invalid categories values 'public', 'road_heavy_regional', 'road_light' dropped when cleaning the dictionary. Category values not found.\n",
      "  warnings.warn(f\"clean_partial_category_dictionary: Invalid categories values {missing_vals} dropped when cleaning the dictionary. Category values not found.\")\n",
      "/Users/jsyme/Documents/Projects/git_jbus/sisepuede/python/model_attributes.py:4413: UserWarning: clean_partial_category_dictionary: Invalid categories values 'aviation', 'public', 'rail_freight', 'rail_passenger', 'road_heavy_regional', 'road_light', 'water_borne' dropped when cleaning the dictionary. Category values not found.\n",
      "  warnings.warn(f\"clean_partial_category_dictionary: Invalid categories values {missing_vals} dropped when cleaning the dictionary. Category values not found.\")\n",
      "/Users/jsyme/Documents/Projects/git_jbus/sisepuede/python/model_attributes.py:4413: UserWarning: clean_partial_category_dictionary: Invalid categories values 'public', 'rail_freight', 'rail_passenger', 'road_heavy_regional', 'water_borne' dropped when cleaning the dictionary. Category values not found.\n",
      "  warnings.warn(f\"clean_partial_category_dictionary: Invalid categories values {missing_vals} dropped when cleaning the dictionary. Category values not found.\")\n",
      "/Users/jsyme/Documents/Projects/git_jbus/sisepuede/python/model_attributes.py:4413: UserWarning: clean_partial_category_dictionary: Invalid categories values 'public', 'road_light', 'road_heavy_freight' dropped when cleaning the dictionary. Category values not found.\n",
      "  warnings.warn(f\"clean_partial_category_dictionary: Invalid categories values {missing_vals} dropped when cleaning the dictionary. Category values not found.\")\n",
      "/Users/jsyme/Documents/Projects/git_jbus/sisepuede/python/model_attributes.py:4413: UserWarning: clean_partial_category_dictionary: Invalid categories values 'public', 'rail_freight', 'rail_passenger', 'road_light', 'road_heavy_freight', 'water_borne' dropped when cleaning the dictionary. Category values not found.\n",
      "  warnings.warn(f\"clean_partial_category_dictionary: Invalid categories values {missing_vals} dropped when cleaning the dictionary. Category values not found.\")\n",
      "/Users/jsyme/Documents/Projects/git_jbus/sisepuede/python/model_attributes.py:4413: UserWarning: clean_partial_category_dictionary: Invalid categories values 'aviation', 'powered_bikes', 'public', 'rail_freight', 'rail_passenger', 'road_heavy_freight', 'road_light', 'water_borne' dropped when cleaning the dictionary. Category values not found.\n",
      "  warnings.warn(f\"clean_partial_category_dictionary: Invalid categories values {missing_vals} dropped when cleaning the dictionary. Category values not found.\")\n",
      "/Users/jsyme/Documents/Projects/git_jbus/sisepuede/python/model_attributes.py:4413: UserWarning: clean_partial_category_dictionary: Invalid categories values 'powered_bikes', 'public', 'road_light', 'road_heavy_freight' dropped when cleaning the dictionary. Category values not found.\n",
      "  warnings.warn(f\"clean_partial_category_dictionary: Invalid categories values {missing_vals} dropped when cleaning the dictionary. Category values not found.\")\n",
      "/Users/jsyme/Documents/Projects/git_jbus/sisepuede/python/model_attributes.py:4413: UserWarning: clean_partial_category_dictionary: Invalid categories values 'public', 'road_heavy_freight', 'road_light' dropped when cleaning the dictionary. Category values not found.\n",
      "  warnings.warn(f\"clean_partial_category_dictionary: Invalid categories values {missing_vals} dropped when cleaning the dictionary. Category values not found.\")\n",
      "/Users/jsyme/Documents/Projects/git_jbus/sisepuede/python/model_attributes.py:4413: UserWarning: clean_partial_category_dictionary: Invalid categories values 'aviation', 'public', 'rail_freight', 'rail_passenger', 'road_heavy_freight', 'road_light', 'water_borne' dropped when cleaning the dictionary. Category values not found.\n",
      "  warnings.warn(f\"clean_partial_category_dictionary: Invalid categories values {missing_vals} dropped when cleaning the dictionary. Category values not found.\")\n",
      "/Users/jsyme/Documents/Projects/git_jbus/sisepuede/python/model_attributes.py:4413: UserWarning: clean_partial_category_dictionary: Invalid categories values 'public', 'rail_freight', 'rail_passenger', 'road_heavy_freight', 'water_borne' dropped when cleaning the dictionary. Category values not found.\n",
      "  warnings.warn(f\"clean_partial_category_dictionary: Invalid categories values {missing_vals} dropped when cleaning the dictionary. Category values not found.\")\n",
      "/Users/jsyme/Documents/Projects/git_jbus/sisepuede/python/model_attributes.py:4413: UserWarning: clean_partial_category_dictionary: Invalid categories values 'public', 'road_heavy_freight', 'road_heavy_regional' dropped when cleaning the dictionary. Category values not found.\n",
      "  warnings.warn(f\"clean_partial_category_dictionary: Invalid categories values {missing_vals} dropped when cleaning the dictionary. Category values not found.\")\n",
      "/Users/jsyme/Documents/Projects/git_jbus/sisepuede/python/model_attributes.py:4413: UserWarning: clean_partial_category_dictionary: Invalid categories values 'aviation', 'powered_bikes', 'public', 'rail_freight', 'rail_passenger', 'road_heavy_freight', 'road_heavy_regional', 'water_borne' dropped when cleaning the dictionary. Category values not found.\n",
      "  warnings.warn(f\"clean_partial_category_dictionary: Invalid categories values {missing_vals} dropped when cleaning the dictionary. Category values not found.\")\n",
      "/Users/jsyme/Documents/Projects/git_jbus/sisepuede/python/model_attributes.py:4413: UserWarning: clean_partial_category_dictionary: Invalid categories values 'powered_bikes', 'public', 'road_heavy_freight', 'road_heavy_regional' dropped when cleaning the dictionary. Category values not found.\n",
      "  warnings.warn(f\"clean_partial_category_dictionary: Invalid categories values {missing_vals} dropped when cleaning the dictionary. Category values not found.\")\n",
      "/Users/jsyme/Documents/Projects/git_jbus/sisepuede/python/model_attributes.py:4413: UserWarning: clean_partial_category_dictionary: Invalid categories values 'aviation', 'public', 'rail_freight', 'rail_passenger', 'road_heavy_freight', 'road_heavy_regional', 'water_borne' dropped when cleaning the dictionary. Category values not found.\n",
      "  warnings.warn(f\"clean_partial_category_dictionary: Invalid categories values {missing_vals} dropped when cleaning the dictionary. Category values not found.\")\n",
      "/Users/jsyme/Documents/Projects/git_jbus/sisepuede/python/model_attributes.py:4413: UserWarning: clean_partial_category_dictionary: Invalid categories values 'public', 'rail_freight', 'rail_passenger', 'road_light', 'road_heavy_freight', 'road_heavy_regional' dropped when cleaning the dictionary. Category values not found.\n",
      "  warnings.warn(f\"clean_partial_category_dictionary: Invalid categories values {missing_vals} dropped when cleaning the dictionary. Category values not found.\")\n",
      "/Users/jsyme/Documents/Projects/git_jbus/sisepuede/python/model_attributes.py:4413: UserWarning: clean_partial_category_dictionary: Invalid categories values 'aviation', 'powered_bikes', 'public', 'rail_freight', 'rail_passenger', 'road_heavy_freight', 'road_heavy_regional', 'road_light' dropped when cleaning the dictionary. Category values not found.\n",
      "  warnings.warn(f\"clean_partial_category_dictionary: Invalid categories values {missing_vals} dropped when cleaning the dictionary. Category values not found.\")\n",
      "/Users/jsyme/Documents/Projects/git_jbus/sisepuede/python/model_attributes.py:4413: UserWarning: clean_partial_category_dictionary: Invalid categories values 'aviation', 'public', 'rail_freight', 'rail_passenger', 'road_heavy_freight', 'road_heavy_regional', 'road_light' dropped when cleaning the dictionary. Category values not found.\n",
      "  warnings.warn(f\"clean_partial_category_dictionary: Invalid categories values {missing_vals} dropped when cleaning the dictionary. Category values not found.\")\n",
      "/Users/jsyme/Documents/Projects/git_jbus/sisepuede/python/model_attributes.py:4413: UserWarning: clean_partial_category_dictionary: Invalid categories values 'public', 'rail_freight', 'rail_passenger', 'road_heavy_freight', 'road_heavy_regional' dropped when cleaning the dictionary. Category values not found.\n",
      "  warnings.warn(f\"clean_partial_category_dictionary: Invalid categories values {missing_vals} dropped when cleaning the dictionary. Category values not found.\")\n",
      "/Users/jsyme/Documents/Projects/git_jbus/sisepuede/python/model_attributes.py:5357: FutureWarning: In a future version of pandas, a length 1 tuple will be returned when iterating over a groupby with a grouper equal to a list of length 1. Don't supply a list with a single grouper to avoid this warning.\n",
      "  for i, df in dfg:\n",
      "/Users/jsyme/Documents/Projects/git_jbus/sisepuede/python/model_attributes.py:5357: FutureWarning: In a future version of pandas, a length 1 tuple will be returned when iterating over a groupby with a grouper equal to a list of length 1. Don't supply a list with a single grouper to avoid this warning.\n",
      "  for i, df in dfg:\n",
      "/Users/jsyme/Documents/Projects/git_jbus/sisepuede/python/model_attributes.py:5357: FutureWarning: In a future version of pandas, a length 1 tuple will be returned when iterating over a groupby with a grouper equal to a list of length 1. Don't supply a list with a single grouper to avoid this warning.\n",
      "  for i, df in dfg:\n",
      "/Users/jsyme/Documents/Projects/git_jbus/sisepuede/python/model_attributes.py:5357: FutureWarning: In a future version of pandas, a length 1 tuple will be returned when iterating over a groupby with a grouper equal to a list of length 1. Don't supply a list with a single grouper to avoid this warning.\n",
      "  for i, df in dfg:\n",
      "/Users/jsyme/Documents/Projects/git_jbus/sisepuede/python/model_attributes.py:4413: UserWarning: clean_partial_category_dictionary: Invalid categories values 'other', 'settlements' dropped when cleaning the dictionary. Category values not found.\n",
      "  warnings.warn(f\"clean_partial_category_dictionary: Invalid categories values {missing_vals} dropped when cleaning the dictionary. Category values not found.\")\n",
      "/Users/jsyme/Documents/Projects/git_jbus/sisepuede/python/model_attributes.py:4413: UserWarning: clean_partial_category_dictionary: Invalid categories values 'grasslands', 'settlements' dropped when cleaning the dictionary. Category values not found.\n",
      "  warnings.warn(f\"clean_partial_category_dictionary: Invalid categories values {missing_vals} dropped when cleaning the dictionary. Category values not found.\")\n",
      "/Users/jsyme/Documents/Projects/git_jbus/sisepuede/python/model_attributes.py:4413: UserWarning: clean_partial_category_dictionary: Invalid categories values 'grasslands', 'other' dropped when cleaning the dictionary. Category values not found.\n",
      "  warnings.warn(f\"clean_partial_category_dictionary: Invalid categories values {missing_vals} dropped when cleaning the dictionary. Category values not found.\")\n",
      "/Users/jsyme/Documents/Projects/git_jbus/sisepuede/python/model_attributes.py:5357: FutureWarning: In a future version of pandas, a length 1 tuple will be returned when iterating over a groupby with a grouper equal to a list of length 1. Don't supply a list with a single grouper to avoid this warning.\n",
      "  for i, df in dfg:\n",
      "/Users/jsyme/Documents/Projects/git_jbus/sisepuede/python/model_attributes.py:5357: FutureWarning: In a future version of pandas, a length 1 tuple will be returned when iterating over a groupby with a grouper equal to a list of length 1. Don't supply a list with a single grouper to avoid this warning.\n",
      "  for i, df in dfg:\n",
      "/Users/jsyme/Documents/Projects/git_jbus/sisepuede/python/model_attributes.py:5357: FutureWarning: In a future version of pandas, a length 1 tuple will be returned when iterating over a groupby with a grouper equal to a list of length 1. Don't supply a list with a single grouper to avoid this warning.\n",
      "  for i, df in dfg:\n",
      "/Users/jsyme/Documents/Projects/git_jbus/sisepuede/python/model_attributes.py:5357: FutureWarning: In a future version of pandas, a length 1 tuple will be returned when iterating over a groupby with a grouper equal to a list of length 1. Don't supply a list with a single grouper to avoid this warning.\n",
      "  for i, df in dfg:\n",
      "/Users/jsyme/Documents/Projects/git_jbus/sisepuede/python/model_attributes.py:5357: FutureWarning: In a future version of pandas, a length 1 tuple will be returned when iterating over a groupby with a grouper equal to a list of length 1. Don't supply a list with a single grouper to avoid this warning.\n",
      "  for i, df in dfg:\n",
      "/Users/jsyme/Documents/Projects/git_jbus/sisepuede/python/model_attributes.py:4413: UserWarning: clean_partial_category_dictionary: Invalid categories values 'cement', 'chemicals', 'electronics', 'glass', 'lime_and_carbonite', 'metals', 'mining', 'other_product_manufacturing', 'paper', 'plastic', 'recycled_glass', 'recycled_metals', 'recycled_paper', 'recycled_plastic', 'recycled_rubber_and_leather', 'recycled_textiles', 'recycled_wood', 'rubber_and_leather', 'textiles', 'wood' dropped when cleaning the dictionary. Category values not found.\n",
      "  warnings.warn(f\"clean_partial_category_dictionary: Invalid categories values {missing_vals} dropped when cleaning the dictionary. Category values not found.\")\n",
      "/Users/jsyme/Documents/Projects/git_jbus/sisepuede/python/model_attributes.py:4413: UserWarning: clean_partial_category_dictionary: Invalid categories values 'mining' dropped when cleaning the dictionary. Category values not found.\n",
      "  warnings.warn(f\"clean_partial_category_dictionary: Invalid categories values {missing_vals} dropped when cleaning the dictionary. Category values not found.\")\n",
      "/Users/jsyme/Documents/Projects/git_jbus/sisepuede/python/model_attributes.py:4413: UserWarning: clean_partial_category_dictionary: Invalid categories values 'agriculture_and_livestock', 'chemicals', 'electronics', 'glass', 'lime_and_carbonite', 'metals', 'mining', 'other_product_manufacturing', 'paper', 'plastic', 'recycled_glass', 'recycled_metals', 'recycled_paper', 'recycled_plastic', 'recycled_rubber_and_leather', 'recycled_textiles', 'recycled_wood', 'rubber_and_leather', 'textiles', 'wood' dropped when cleaning the dictionary. Category values not found.\n",
      "  warnings.warn(f\"clean_partial_category_dictionary: Invalid categories values {missing_vals} dropped when cleaning the dictionary. Category values not found.\")\n",
      "/Users/jsyme/Documents/Projects/git_jbus/sisepuede/python/model_attributes.py:4413: UserWarning: clean_partial_category_dictionary: Invalid categories values 'agriculture_and_livestock', 'cement', 'electronics', 'glass', 'lime_and_carbonite', 'metals', 'mining', 'other_product_manufacturing', 'paper', 'plastic', 'recycled_glass', 'recycled_metals', 'recycled_paper', 'recycled_plastic', 'recycled_rubber_and_leather', 'recycled_textiles', 'recycled_wood', 'rubber_and_leather', 'textiles', 'wood' dropped when cleaning the dictionary. Category values not found.\n",
      "  warnings.warn(f\"clean_partial_category_dictionary: Invalid categories values {missing_vals} dropped when cleaning the dictionary. Category values not found.\")\n",
      "/Users/jsyme/Documents/Projects/git_jbus/sisepuede/python/model_attributes.py:4413: UserWarning: clean_partial_category_dictionary: Invalid categories values 'agriculture_and_livestock', 'cement', 'chemicals', 'glass', 'lime_and_carbonite', 'metals', 'mining', 'other_product_manufacturing', 'paper', 'plastic', 'recycled_glass', 'recycled_metals', 'recycled_paper', 'recycled_plastic', 'recycled_rubber_and_leather', 'recycled_textiles', 'recycled_wood', 'rubber_and_leather', 'textiles', 'wood' dropped when cleaning the dictionary. Category values not found.\n",
      "  warnings.warn(f\"clean_partial_category_dictionary: Invalid categories values {missing_vals} dropped when cleaning the dictionary. Category values not found.\")\n",
      "/Users/jsyme/Documents/Projects/git_jbus/sisepuede/python/model_attributes.py:4413: UserWarning: clean_partial_category_dictionary: Invalid categories values 'agriculture_and_livestock', 'cement', 'chemicals', 'electronics', 'lime_and_carbonite', 'metals', 'mining', 'other_product_manufacturing', 'paper', 'plastic', 'recycled_glass', 'recycled_metals', 'recycled_paper', 'recycled_plastic', 'recycled_rubber_and_leather', 'recycled_textiles', 'recycled_wood', 'rubber_and_leather', 'textiles', 'wood' dropped when cleaning the dictionary. Category values not found.\n",
      "  warnings.warn(f\"clean_partial_category_dictionary: Invalid categories values {missing_vals} dropped when cleaning the dictionary. Category values not found.\")\n",
      "/Users/jsyme/Documents/Projects/git_jbus/sisepuede/python/model_attributes.py:4413: UserWarning: clean_partial_category_dictionary: Invalid categories values 'agriculture_and_livestock', 'cement', 'chemicals', 'electronics', 'glass', 'metals', 'mining', 'other_product_manufacturing', 'paper', 'plastic', 'recycled_glass', 'recycled_metals', 'recycled_paper', 'recycled_plastic', 'recycled_rubber_and_leather', 'recycled_textiles', 'recycled_wood', 'rubber_and_leather', 'textiles', 'wood' dropped when cleaning the dictionary. Category values not found.\n",
      "  warnings.warn(f\"clean_partial_category_dictionary: Invalid categories values {missing_vals} dropped when cleaning the dictionary. Category values not found.\")\n",
      "/Users/jsyme/Documents/Projects/git_jbus/sisepuede/python/model_attributes.py:4413: UserWarning: clean_partial_category_dictionary: Invalid categories values 'agriculture_and_livestock', 'cement', 'chemicals', 'electronics', 'glass', 'lime_and_carbonite', 'mining', 'other_product_manufacturing', 'paper', 'plastic', 'recycled_glass', 'recycled_metals', 'recycled_paper', 'recycled_plastic', 'recycled_rubber_and_leather', 'recycled_textiles', 'recycled_wood', 'rubber_and_leather', 'textiles', 'wood' dropped when cleaning the dictionary. Category values not found.\n",
      "  warnings.warn(f\"clean_partial_category_dictionary: Invalid categories values {missing_vals} dropped when cleaning the dictionary. Category values not found.\")\n",
      "/Users/jsyme/Documents/Projects/git_jbus/sisepuede/python/model_attributes.py:4413: UserWarning: clean_partial_category_dictionary: Invalid categories values 'agriculture_and_livestock', 'cement', 'chemicals', 'electronics', 'glass', 'lime_and_carbonite', 'metals', 'other_product_manufacturing', 'paper', 'plastic', 'recycled_glass', 'recycled_metals', 'recycled_paper', 'recycled_plastic', 'recycled_rubber_and_leather', 'recycled_textiles', 'recycled_wood', 'rubber_and_leather', 'textiles', 'wood' dropped when cleaning the dictionary. Category values not found.\n",
      "  warnings.warn(f\"clean_partial_category_dictionary: Invalid categories values {missing_vals} dropped when cleaning the dictionary. Category values not found.\")\n",
      "/Users/jsyme/Documents/Projects/git_jbus/sisepuede/python/model_attributes.py:4413: UserWarning: clean_partial_category_dictionary: Invalid categories values 'agriculture_and_livestock', 'cement', 'chemicals', 'electronics', 'glass', 'lime_and_carbonite', 'metals', 'mining', 'paper', 'plastic', 'recycled_glass', 'recycled_metals', 'recycled_paper', 'recycled_plastic', 'recycled_rubber_and_leather', 'recycled_textiles', 'recycled_wood', 'rubber_and_leather', 'textiles', 'wood' dropped when cleaning the dictionary. Category values not found.\n",
      "  warnings.warn(f\"clean_partial_category_dictionary: Invalid categories values {missing_vals} dropped when cleaning the dictionary. Category values not found.\")\n",
      "/Users/jsyme/Documents/Projects/git_jbus/sisepuede/python/model_attributes.py:4413: UserWarning: clean_partial_category_dictionary: Invalid categories values 'agriculture_and_livestock', 'cement', 'chemicals', 'electronics', 'glass', 'lime_and_carbonite', 'metals', 'mining', 'other_product_manufacturing', 'plastic', 'recycled_glass', 'recycled_metals', 'recycled_paper', 'recycled_plastic', 'recycled_rubber_and_leather', 'recycled_textiles', 'recycled_wood', 'rubber_and_leather', 'textiles', 'wood' dropped when cleaning the dictionary. Category values not found.\n",
      "  warnings.warn(f\"clean_partial_category_dictionary: Invalid categories values {missing_vals} dropped when cleaning the dictionary. Category values not found.\")\n",
      "/Users/jsyme/Documents/Projects/git_jbus/sisepuede/python/model_attributes.py:4413: UserWarning: clean_partial_category_dictionary: Invalid categories values 'agriculture_and_livestock', 'cement', 'chemicals', 'electronics', 'glass', 'lime_and_carbonite', 'metals', 'mining', 'other_product_manufacturing', 'paper', 'recycled_glass', 'recycled_metals', 'recycled_paper', 'recycled_plastic', 'recycled_rubber_and_leather', 'recycled_textiles', 'recycled_wood', 'rubber_and_leather', 'textiles', 'wood' dropped when cleaning the dictionary. Category values not found.\n",
      "  warnings.warn(f\"clean_partial_category_dictionary: Invalid categories values {missing_vals} dropped when cleaning the dictionary. Category values not found.\")\n",
      "/Users/jsyme/Documents/Projects/git_jbus/sisepuede/python/model_attributes.py:4413: UserWarning: clean_partial_category_dictionary: Invalid categories values 'agriculture_and_livestock', 'cement', 'chemicals', 'electronics', 'glass', 'lime_and_carbonite', 'metals', 'mining', 'other_product_manufacturing', 'paper', 'plastic', 'recycled_metals', 'recycled_paper', 'recycled_plastic', 'recycled_rubber_and_leather', 'recycled_textiles', 'recycled_wood', 'rubber_and_leather', 'textiles', 'wood' dropped when cleaning the dictionary. Category values not found.\n",
      "  warnings.warn(f\"clean_partial_category_dictionary: Invalid categories values {missing_vals} dropped when cleaning the dictionary. Category values not found.\")\n",
      "/Users/jsyme/Documents/Projects/git_jbus/sisepuede/python/model_attributes.py:4413: UserWarning: clean_partial_category_dictionary: Invalid categories values 'agriculture_and_livestock', 'cement', 'chemicals', 'electronics', 'glass', 'lime_and_carbonite', 'metals', 'mining', 'other_product_manufacturing', 'paper', 'plastic', 'recycled_glass', 'recycled_paper', 'recycled_plastic', 'recycled_rubber_and_leather', 'recycled_textiles', 'recycled_wood', 'rubber_and_leather', 'textiles', 'wood' dropped when cleaning the dictionary. Category values not found.\n",
      "  warnings.warn(f\"clean_partial_category_dictionary: Invalid categories values {missing_vals} dropped when cleaning the dictionary. Category values not found.\")\n",
      "/Users/jsyme/Documents/Projects/git_jbus/sisepuede/python/model_attributes.py:4413: UserWarning: clean_partial_category_dictionary: Invalid categories values 'agriculture_and_livestock', 'cement', 'chemicals', 'electronics', 'glass', 'lime_and_carbonite', 'metals', 'mining', 'other_product_manufacturing', 'paper', 'plastic', 'recycled_glass', 'recycled_metals', 'recycled_plastic', 'recycled_rubber_and_leather', 'recycled_textiles', 'recycled_wood', 'rubber_and_leather', 'textiles', 'wood' dropped when cleaning the dictionary. Category values not found.\n",
      "  warnings.warn(f\"clean_partial_category_dictionary: Invalid categories values {missing_vals} dropped when cleaning the dictionary. Category values not found.\")\n",
      "/Users/jsyme/Documents/Projects/git_jbus/sisepuede/python/model_attributes.py:4413: UserWarning: clean_partial_category_dictionary: Invalid categories values 'agriculture_and_livestock', 'cement', 'chemicals', 'electronics', 'glass', 'lime_and_carbonite', 'metals', 'mining', 'other_product_manufacturing', 'paper', 'plastic', 'recycled_glass', 'recycled_metals', 'recycled_paper', 'recycled_rubber_and_leather', 'recycled_textiles', 'recycled_wood', 'rubber_and_leather', 'textiles', 'wood' dropped when cleaning the dictionary. Category values not found.\n",
      "  warnings.warn(f\"clean_partial_category_dictionary: Invalid categories values {missing_vals} dropped when cleaning the dictionary. Category values not found.\")\n",
      "/Users/jsyme/Documents/Projects/git_jbus/sisepuede/python/model_attributes.py:4413: UserWarning: clean_partial_category_dictionary: Invalid categories values 'agriculture_and_livestock', 'cement', 'chemicals', 'electronics', 'glass', 'lime_and_carbonite', 'metals', 'mining', 'other_product_manufacturing', 'paper', 'plastic', 'recycled_glass', 'recycled_metals', 'recycled_paper', 'recycled_plastic', 'recycled_textiles', 'recycled_wood', 'rubber_and_leather', 'textiles', 'wood' dropped when cleaning the dictionary. Category values not found.\n",
      "  warnings.warn(f\"clean_partial_category_dictionary: Invalid categories values {missing_vals} dropped when cleaning the dictionary. Category values not found.\")\n",
      "/Users/jsyme/Documents/Projects/git_jbus/sisepuede/python/model_attributes.py:4413: UserWarning: clean_partial_category_dictionary: Invalid categories values 'agriculture_and_livestock', 'cement', 'chemicals', 'electronics', 'glass', 'lime_and_carbonite', 'metals', 'mining', 'other_product_manufacturing', 'paper', 'plastic', 'recycled_glass', 'recycled_metals', 'recycled_paper', 'recycled_plastic', 'recycled_rubber_and_leather', 'recycled_wood', 'rubber_and_leather', 'textiles', 'wood' dropped when cleaning the dictionary. Category values not found.\n",
      "  warnings.warn(f\"clean_partial_category_dictionary: Invalid categories values {missing_vals} dropped when cleaning the dictionary. Category values not found.\")\n",
      "/Users/jsyme/Documents/Projects/git_jbus/sisepuede/python/model_attributes.py:4413: UserWarning: clean_partial_category_dictionary: Invalid categories values 'agriculture_and_livestock', 'cement', 'chemicals', 'electronics', 'glass', 'lime_and_carbonite', 'metals', 'mining', 'other_product_manufacturing', 'paper', 'plastic', 'recycled_glass', 'recycled_metals', 'recycled_paper', 'recycled_plastic', 'recycled_rubber_and_leather', 'recycled_textiles', 'rubber_and_leather', 'textiles', 'wood' dropped when cleaning the dictionary. Category values not found.\n",
      "  warnings.warn(f\"clean_partial_category_dictionary: Invalid categories values {missing_vals} dropped when cleaning the dictionary. Category values not found.\")\n",
      "/Users/jsyme/Documents/Projects/git_jbus/sisepuede/python/model_attributes.py:4413: UserWarning: clean_partial_category_dictionary: Invalid categories values 'agriculture_and_livestock', 'cement', 'chemicals', 'electronics', 'glass', 'lime_and_carbonite', 'metals', 'mining', 'other_product_manufacturing', 'paper', 'plastic', 'recycled_glass', 'recycled_metals', 'recycled_paper', 'recycled_plastic', 'recycled_rubber_and_leather', 'recycled_textiles', 'recycled_wood', 'textiles', 'wood' dropped when cleaning the dictionary. Category values not found.\n",
      "  warnings.warn(f\"clean_partial_category_dictionary: Invalid categories values {missing_vals} dropped when cleaning the dictionary. Category values not found.\")\n",
      "/Users/jsyme/Documents/Projects/git_jbus/sisepuede/python/model_attributes.py:4413: UserWarning: clean_partial_category_dictionary: Invalid categories values 'agriculture_and_livestock', 'cement', 'chemicals', 'electronics', 'glass', 'lime_and_carbonite', 'metals', 'mining', 'other_product_manufacturing', 'paper', 'plastic', 'recycled_glass', 'recycled_metals', 'recycled_paper', 'recycled_plastic', 'recycled_rubber_and_leather', 'recycled_textiles', 'recycled_wood', 'rubber_and_leather', 'wood' dropped when cleaning the dictionary. Category values not found.\n",
      "  warnings.warn(f\"clean_partial_category_dictionary: Invalid categories values {missing_vals} dropped when cleaning the dictionary. Category values not found.\")\n",
      "/Users/jsyme/Documents/Projects/git_jbus/sisepuede/python/model_attributes.py:4413: UserWarning: clean_partial_category_dictionary: Invalid categories values 'agriculture_and_livestock', 'cement', 'chemicals', 'electronics', 'glass', 'lime_and_carbonite', 'metals', 'mining', 'other_product_manufacturing', 'paper', 'plastic', 'recycled_glass', 'recycled_metals', 'recycled_paper', 'recycled_plastic', 'recycled_rubber_and_leather', 'recycled_textiles', 'recycled_wood', 'rubber_and_leather', 'textiles' dropped when cleaning the dictionary. Category values not found.\n",
      "  warnings.warn(f\"clean_partial_category_dictionary: Invalid categories values {missing_vals} dropped when cleaning the dictionary. Category values not found.\")\n",
      "/Users/jsyme/Documents/Projects/git_jbus/sisepuede/python/model_attributes.py:5357: FutureWarning: In a future version of pandas, a length 1 tuple will be returned when iterating over a groupby with a grouper equal to a list of length 1. Don't supply a list with a single grouper to avoid this warning.\n",
      "  for i, df in dfg:\n",
      "/Users/jsyme/Documents/Projects/git_jbus/sisepuede/python/model_attributes.py:5357: FutureWarning: In a future version of pandas, a length 1 tuple will be returned when iterating over a groupby with a grouper equal to a list of length 1. Don't supply a list with a single grouper to avoid this warning.\n",
      "  for i, df in dfg:\n",
      "/Users/jsyme/Documents/Projects/git_jbus/sisepuede/python/model_attributes.py:5357: FutureWarning: In a future version of pandas, a length 1 tuple will be returned when iterating over a groupby with a grouper equal to a list of length 1. Don't supply a list with a single grouper to avoid this warning.\n",
      "  for i, df in dfg:\n",
      "/Users/jsyme/Documents/Projects/git_jbus/sisepuede/python/model_attributes.py:5357: FutureWarning: In a future version of pandas, a length 1 tuple will be returned when iterating over a groupby with a grouper equal to a list of length 1. Don't supply a list with a single grouper to avoid this warning.\n",
      "  for i, df in dfg:\n",
      "/Users/jsyme/Documents/Projects/git_jbus/sisepuede/python/model_attributes.py:5357: FutureWarning: In a future version of pandas, a length 1 tuple will be returned when iterating over a groupby with a grouper equal to a list of length 1. Don't supply a list with a single grouper to avoid this warning.\n",
      "  for i, df in dfg:\n",
      "/Users/jsyme/Documents/Projects/git_jbus/sisepuede/python/model_attributes.py:5357: FutureWarning: In a future version of pandas, a length 1 tuple will be returned when iterating over a groupby with a grouper equal to a list of length 1. Don't supply a list with a single grouper to avoid this warning.\n",
      "  for i, df in dfg:\n",
      "/Users/jsyme/Documents/Projects/git_jbus/sisepuede/python/model_attributes.py:5357: FutureWarning: In a future version of pandas, a length 1 tuple will be returned when iterating over a groupby with a grouper equal to a list of length 1. Don't supply a list with a single grouper to avoid this warning.\n",
      "  for i, df in dfg:\n",
      "/Users/jsyme/Documents/Projects/git_jbus/sisepuede/python/model_attributes.py:5357: FutureWarning: In a future version of pandas, a length 1 tuple will be returned when iterating over a groupby with a grouper equal to a list of length 1. Don't supply a list with a single grouper to avoid this warning.\n",
      "  for i, df in dfg:\n",
      "/Users/jsyme/Documents/Projects/git_jbus/sisepuede/python/model_attributes.py:5357: FutureWarning: In a future version of pandas, a length 1 tuple will be returned when iterating over a groupby with a grouper equal to a list of length 1. Don't supply a list with a single grouper to avoid this warning.\n",
      "  for i, df in dfg:\n",
      "/Users/jsyme/Documents/Projects/git_jbus/sisepuede/python/model_attributes.py:5357: FutureWarning: In a future version of pandas, a length 1 tuple will be returned when iterating over a groupby with a grouper equal to a list of length 1. Don't supply a list with a single grouper to avoid this warning.\n",
      "  for i, df in dfg:\n",
      "/Users/jsyme/Documents/Projects/git_jbus/sisepuede/python/model_attributes.py:5357: FutureWarning: In a future version of pandas, a length 1 tuple will be returned when iterating over a groupby with a grouper equal to a list of length 1. Don't supply a list with a single grouper to avoid this warning.\n",
      "  for i, df in dfg:\n",
      "/Users/jsyme/Documents/Projects/git_jbus/sisepuede/python/model_attributes.py:5357: FutureWarning: In a future version of pandas, a length 1 tuple will be returned when iterating over a groupby with a grouper equal to a list of length 1. Don't supply a list with a single grouper to avoid this warning.\n",
      "  for i, df in dfg:\n",
      "/Users/jsyme/Documents/Projects/git_jbus/sisepuede/python/model_attributes.py:5357: FutureWarning: In a future version of pandas, a length 1 tuple will be returned when iterating over a groupby with a grouper equal to a list of length 1. Don't supply a list with a single grouper to avoid this warning.\n",
      "  for i, df in dfg:\n",
      "/Users/jsyme/Documents/Projects/git_jbus/sisepuede/python/model_attributes.py:5357: FutureWarning: In a future version of pandas, a length 1 tuple will be returned when iterating over a groupby with a grouper equal to a list of length 1. Don't supply a list with a single grouper to avoid this warning.\n",
      "  for i, df in dfg:\n",
      "/Users/jsyme/Documents/Projects/git_jbus/sisepuede/python/model_attributes.py:5357: FutureWarning: In a future version of pandas, a length 1 tuple will be returned when iterating over a groupby with a grouper equal to a list of length 1. Don't supply a list with a single grouper to avoid this warning.\n",
      "  for i, df in dfg:\n",
      "/Users/jsyme/Documents/Projects/git_jbus/sisepuede/python/model_attributes.py:5357: FutureWarning: In a future version of pandas, a length 1 tuple will be returned when iterating over a groupby with a grouper equal to a list of length 1. Don't supply a list with a single grouper to avoid this warning.\n",
      "  for i, df in dfg:\n",
      "/Users/jsyme/Documents/Projects/git_jbus/sisepuede/python/model_attributes.py:5357: FutureWarning: In a future version of pandas, a length 1 tuple will be returned when iterating over a groupby with a grouper equal to a list of length 1. Don't supply a list with a single grouper to avoid this warning.\n",
      "  for i, df in dfg:\n",
      "/Users/jsyme/Documents/Projects/git_jbus/sisepuede/python/model_attributes.py:5357: FutureWarning: In a future version of pandas, a length 1 tuple will be returned when iterating over a groupby with a grouper equal to a list of length 1. Don't supply a list with a single grouper to avoid this warning.\n",
      "  for i, df in dfg:\n",
      "/Users/jsyme/Documents/Projects/git_jbus/sisepuede/python/model_attributes.py:5357: FutureWarning: In a future version of pandas, a length 1 tuple will be returned when iterating over a groupby with a grouper equal to a list of length 1. Don't supply a list with a single grouper to avoid this warning.\n",
      "  for i, df in dfg:\n",
      "/Users/jsyme/Documents/Projects/git_jbus/sisepuede/python/model_attributes.py:5357: FutureWarning: In a future version of pandas, a length 1 tuple will be returned when iterating over a groupby with a grouper equal to a list of length 1. Don't supply a list with a single grouper to avoid this warning.\n",
      "  for i, df in dfg:\n"
     ]
    },
    {
     "name": "stdout",
     "output_type": "stream",
     "text": [
      "MISSIONSEARCHNOTE: As of 2023-10-06, there is a temporary solution implemeted in ModelAttributes.get_variable_to_simplex_group_dictionary() to ensure that transition probability rows are enforced on a simplex.\n",
      "\n",
      "FIX THIS ASAP TO DERIVE PROPERLY.\n"
     ]
    }
   ],
   "source": [
    "import os, os.path\n",
    "import numpy as np\n",
    "import pandas as pd\n",
    "import model_attributes as ma\n",
    "from attribute_table import AttributeTable\n",
    "import setup_analysis as sa\n",
    "import support_classes as sc\n",
    "import support_functions as sf\n",
    "import importlib\n",
    "import time\n",
    "import warnings\n",
    "import matplotlib.pyplot as plt\n",
    "\n"
   ]
  },
  {
   "cell_type": "code",
   "execution_count": 7,
   "metadata": {},
   "outputs": [
    {
     "data": {
      "text/plain": [
       "'/Users/jsyme/Documents/Projects/FY21/SWCHE131_1000/Data/AFOLU/IFADATA Plant Nutrition query - 06-Aug-2022_01.30.xlsx'"
      ]
     },
     "execution_count": 7,
     "metadata": {},
     "output_type": "execute_result"
    }
   ],
   "source": [
    "fp_config = \"/Users/jsyme/Documents/Projects/git_jbus/sisepuede/python/sisepuede_data_construction/soil/fertilizer/config.yaml\"\n",
    "\n",
    "config = sc.YAMLConfiguration(fp_config)\n",
    "config.get(\"inputs.ifa_plant_nutrition.local\")\n"
   ]
  },
  {
   "cell_type": "code",
   "execution_count": 110,
   "metadata": {},
   "outputs": [
    {
     "ename": "SyntaxError",
     "evalue": "invalid syntax (input_reader.py, line 2)",
     "output_type": "error",
     "traceback": [
      "Traceback \u001b[0;36m(most recent call last)\u001b[0m:\n",
      "\u001b[0m  File \u001b[1;32m~/anaconda3/envs/amber_is_your_energy/lib/python3.11/site-packages/IPython/core/interactiveshell.py:3433\u001b[0m in \u001b[1;35mrun_code\u001b[0m\n    exec(code_obj, self.user_global_ns, self.user_ns)\u001b[0m\n",
      "\u001b[0m  Cell \u001b[1;32mIn[110], line 2\u001b[0m\n    importlib.reload(ird)\u001b[0m\n",
      "\u001b[0m  File \u001b[1;32m~/anaconda3/envs/amber_is_your_energy/lib/python3.11/importlib/__init__.py:169\u001b[0m in \u001b[1;35mreload\u001b[0m\n    _bootstrap._exec(spec, module)\u001b[0m\n",
      "\u001b[0m  File \u001b[1;32m<frozen importlib._bootstrap>:621\u001b[0m in \u001b[1;35m_exec\u001b[0m\n",
      "\u001b[0m  File \u001b[1;32m<frozen importlib._bootstrap_external>:936\u001b[0m in \u001b[1;35mexec_module\u001b[0m\n",
      "\u001b[0m  File \u001b[1;32m<frozen importlib._bootstrap_external>:1074\u001b[0m in \u001b[1;35mget_code\u001b[0m\n",
      "\u001b[0m  File \u001b[1;32m<frozen importlib._bootstrap_external>:1004\u001b[0m in \u001b[1;35msource_to_code\u001b[0m\n",
      "\u001b[0;36m  File \u001b[0;32m<frozen importlib._bootstrap>:241\u001b[0;36m in \u001b[0;35m_call_with_frames_removed\u001b[0;36m\n",
      "\u001b[0;36m  File \u001b[0;32m~/Documents/Projects/git_jbus/sisepuede/python/sisepuede_data_construction/input_reader.py:2\u001b[0;36m\u001b[0m\n\u001b[0;31m    import ./batch_paths as paths\u001b[0m\n\u001b[0m           ^\u001b[0m\n\u001b[0;31mSyntaxError\u001b[0m\u001b[0;31m:\u001b[0m invalid syntax\n"
     ]
    }
   ],
   "source": [
    "#import sisepuede_data_construction.input_reader as ird\n",
    "importlib.reload(ird)"
   ]
  },
  {
   "cell_type": "code",
   "execution_count": 106,
   "metadata": {},
   "outputs": [
    {
     "data": {
      "text/plain": [
       "['/Users/jsyme/Documents/Projects/git_jbus/sisepuede/python',\n",
       " '/Users/jsyme/anaconda3/envs/amber_is_your_energy/lib/python311.zip',\n",
       " '/Users/jsyme/anaconda3/envs/amber_is_your_energy/lib/python3.11',\n",
       " '/Users/jsyme/anaconda3/envs/amber_is_your_energy/lib/python3.11/lib-dynload',\n",
       " '',\n",
       " '/Users/jsyme/anaconda3/envs/amber_is_your_energy/lib/python3.11/site-packages']"
      ]
     },
     "execution_count": 106,
     "metadata": {},
     "output_type": "execute_result"
    }
   ],
   "source": [
    "ird.sys.path"
   ]
  },
  {
   "cell_type": "code",
   "execution_count": 72,
   "metadata": {},
   "outputs": [
    {
     "data": {
      "text/plain": [
       "{'inputs': {'ifa_plant_nutrition': {'local': '/Users/jsyme/Documents/Projects/FY21/SWCHE131_1000/Data/AFOLU/IFADATA Plant Nutrition query - 06-Aug-2022_01.30.xlsx',\n",
       "   'kwargs': {'skiprows': 2}},\n",
       "  'fao_agrc_production': {'local': '/Users/jsyme/Documents/Projects/FY21/SWCHE131_1000/Data/ingestion/FAOSTAT2024/Production_Crops_Livestock_E_All_Data_(Normalized)/Production_Crops_Livestock_E_All_Data_(Normalized).csv',\n",
       "   'readwith': 'fao'},\n",
       "  'fao_frst_emission': {'local': '/Users/jsyme/Documents/Projects/FY21/SWCHE131_1000/Data/ingestion/FAOSTAT2024/Emissions_Totals_E_All_Data_(Normalized)/Emissions_Totals_E_All_Data_(Normalized).csv',\n",
       "   'readwith': 'fao'}}}"
      ]
     },
     "execution_count": 72,
     "metadata": {},
     "output_type": "execute_result"
    }
   ],
   "source": [
    "reader.config.dict_yaml"
   ]
  },
  {
   "cell_type": "code",
   "execution_count": null,
   "metadata": {},
   "outputs": [],
   "source": []
  },
  {
   "cell_type": "code",
   "execution_count": null,
   "metadata": {},
   "outputs": [],
   "source": []
  },
  {
   "cell_type": "code",
   "execution_count": 78,
   "metadata": {},
   "outputs": [],
   "source": [
    "import sisepuede_data_construction.batch_paths as paths"
   ]
  },
  {
   "cell_type": "code",
   "execution_count": 83,
   "metadata": {
    "tags": []
   },
   "outputs": [
    {
     "name": "stdout",
     "output_type": "stream",
     "text": [
      "MISSIONSEARCHNOTE: As of 2023-10-06, there is a temporary solution implemeted in ModelAttributes.get_variable_to_simplex_group_dictionary() to ensure that transition probability rows are enforced on a simplex.\n",
      "\n",
      "FIX THIS ASAP TO DERIVE PROPERLY.\n"
     ]
    }
   ],
   "source": [
    "importlib.reload(paths)\n",
    "warnings.filterwarnings(\"ignore\")\n",
    "constructor = paths.SISEPUEDEDataConstructs()"
   ]
  },
  {
   "cell_type": "code",
   "execution_count": 84,
   "metadata": {},
   "outputs": [
    {
     "data": {
      "text/plain": [
       "<support_classes.Regions at 0x18a405950>"
      ]
     },
     "execution_count": 84,
     "metadata": {},
     "output_type": "execute_result"
    }
   ],
   "source": [
    "constructor.regions"
   ]
  },
  {
   "cell_type": "code",
   "execution_count": 2,
   "metadata": {},
   "outputs": [
    {
     "name": "stderr",
     "output_type": "stream",
     "text": [
      "/var/folders/8m/3ll2cn6d1hdcs6gjqxr2jx5d2hffc9/T/ipykernel_41196/648536644.py:6: DtypeWarning: Columns (13) have mixed types. Specify dtype option on import or set low_memory=False.\n",
      "  df_frst_emission = pd.read_csv(os.path.join(dir_faostat, \"Emissions_Totals_E_All_Data_(Normalized)\", \"Emissions_Totals_E_All_Data_(Normalized).csv\"),\n"
     ]
    }
   ],
   "source": [
    "# read in fertilizer data from IFA Database\n",
    "df_data = pd.read_excel(\"/Users/jsyme/Documents/Projects/FY21/SWCHE131_1000/Data/AFOLU/IFADATA Plant Nutrition query - 06-Aug-2022_01.30.xlsx\", skiprows = 2)\n",
    "\n",
    "# check forest products\n",
    "encode = \"ISO-8859-1\"\n",
    "dir_faostat = \"/Users/jsyme/Documents/Projects/FY21/SWCHE131_1000/Data/ingestion/FAOSTAT/\"\n",
    "df_frst_emission = pd.read_csv(os.path.join(dir_faostat, \"Emissions_Totals_E_All_Data_(Normalized)\", \"Emissions_Totals_E_All_Data_(Normalized).csv\"),\n",
    "    encoding = encode\n",
    ")\n",
    "df_ag_production = pd.read_csv(os.path.join(dir_faostat, \"Production_Crops_Livestock_E_All_Data_(Normalized)\", \"Production_Crops_Livestock_E_All_Data_(Normalized).csv\"),\n",
    "    encoding = encode\n",
    ")\n"
   ]
  },
  {
   "cell_type": "code",
   "execution_count": 18,
   "metadata": {
    "collapsed": true,
    "jupyter": {
     "outputs_hidden": true
    },
    "tags": []
   },
   "outputs": [
    {
     "name": "stderr",
     "output_type": "stream",
     "text": [
      "/Users/jsyme/Documents/Projects/git_jbus/sisepuede/python/support_functions.py:1351: FutureWarning: In a future version of pandas, a length 1 tuple will be returned when iterating over a groupby with a grouper equal to a list of length 1. Don't supply a list with a single grouper to avoid this warning.\n",
      "  for i, df in df_in_grouped:\n",
      "/Users/jsyme/Documents/Projects/git_jbus/sisepuede/python/support_functions.py:1351: FutureWarning: In a future version of pandas, a length 1 tuple will be returned when iterating over a groupby with a grouper equal to a list of length 1. Don't supply a list with a single grouper to avoid this warning.\n",
      "  for i, df in df_in_grouped:\n"
     ]
    },
    {
     "data": {
      "text/plain": [
       "['morocco',\n",
       " 'libya',\n",
       " 'jordan',\n",
       " 'pakistan',\n",
       " 'norway',\n",
       " 'ireland',\n",
       " 'argentina',\n",
       " 'spain',\n",
       " None,\n",
       " 'trinidad_and_tobago',\n",
       " 'romania',\n",
       " 'france',\n",
       " 'nigeria',\n",
       " 'croatia',\n",
       " 'serbia',\n",
       " 'kuwait',\n",
       " 'kazakhstan',\n",
       " 'viet_nam',\n",
       " 'kyrgyzstan',\n",
       " None,\n",
       " 'lebanon',\n",
       " 'tunisia',\n",
       " 'qatar',\n",
       " 'north_macedonia',\n",
       " 'myanmar',\n",
       " 'venezuela',\n",
       " 'sri_lanka',\n",
       " 'germany',\n",
       " 'indonesia',\n",
       " 'switzerland',\n",
       " 'italy',\n",
       " 'saudi_arabia',\n",
       " 'cameroon',\n",
       " 'nepal',\n",
       " 'finland',\n",
       " 'bangladesh',\n",
       " 'zimbabwe',\n",
       " 'greece',\n",
       " 'ecuador',\n",
       " 'iceland',\n",
       " None,\n",
       " 'costa_rica',\n",
       " 'china',\n",
       " None,\n",
       " 'iran',\n",
       " 'india',\n",
       " 'sudan',\n",
       " 'chile',\n",
       " 'colombia',\n",
       " None,\n",
       " None,\n",
       " 'mexico',\n",
       " 'nicaragua',\n",
       " 'estonia',\n",
       " 'senegal',\n",
       " 'austria',\n",
       " 'new_zealand',\n",
       " 'south_africa',\n",
       " 'azerbaijan',\n",
       " 'belarus',\n",
       " 'latvia',\n",
       " 'iraq',\n",
       " 'bulgaria',\n",
       " 'brazil',\n",
       " 'lithuania',\n",
       " 'georgia',\n",
       " 'kenya',\n",
       " 'poland',\n",
       " 'czechia',\n",
       " None,\n",
       " 'slovenia',\n",
       " 'zambia',\n",
       " 'israel',\n",
       " 'peru',\n",
       " 'denmark',\n",
       " 'cuba',\n",
       " 'mauritius',\n",
       " 'turkmenistan',\n",
       " 'bosnia_and_herzegovina',\n",
       " None,\n",
       " 'ukraine',\n",
       " 'portugal',\n",
       " 'malaysia',\n",
       " None,\n",
       " 'armenia',\n",
       " 'uruguay',\n",
       " 'el_salvador',\n",
       " 'thailand',\n",
       " None,\n",
       " 'tajikistan',\n",
       " 'hungary',\n",
       " 'sweden',\n",
       " 'afghanistan',\n",
       " 'dominican_republic',\n",
       " None,\n",
       " 'guatemala',\n",
       " 'algeria',\n",
       " 'netherlands',\n",
       " 'turkey',\n",
       " 'albania',\n",
       " 'cyprus',\n",
       " 'philippines',\n",
       " 'canada',\n",
       " 'uzbekistan',\n",
       " 'ethiopia',\n",
       " None,\n",
       " 'japan',\n",
       " 'united_kingdom',\n",
       " 'australia',\n",
       " None,\n",
       " 'egypt',\n",
       " None,\n",
       " None,\n",
       " None,\n",
       " None,\n",
       " None,\n",
       " None,\n",
       " 'paraguay',\n",
       " 'mali']"
      ]
     },
     "execution_count": 18,
     "metadata": {},
     "output_type": "execute_result"
    }
   ],
   "source": [
    "import importlib\n",
    "importlib.reload(sc)\n",
    "regions = sc.Regions(sa.model_attributes)\n",
    "\n",
    "regions.return_region_or_iso(\n",
    "    list(df_data.dropna()[\"Country\"].unique()),\n",
    "    clean_inputs = True,\n",
    ")"
   ]
  },
  {
   "cell_type": "code",
   "execution_count": 13,
   "metadata": {
    "collapsed": true,
    "jupyter": {
     "outputs_hidden": true
    },
    "tags": []
   },
   "outputs": [
    {
     "name": "stderr",
     "output_type": "stream",
     "text": [
      "/Users/jsyme/Documents/Projects/git_jbus/sisepuede/python/support_functions.py:1351: FutureWarning: In a future version of pandas, a length 1 tuple will be returned when iterating over a groupby with a grouper equal to a list of length 1. Don't supply a list with a single grouper to avoid this warning.\n",
      "  for i, df in df_in_grouped:\n",
      "/Users/jsyme/Documents/Projects/git_jbus/sisepuede/python/support_functions.py:1351: FutureWarning: In a future version of pandas, a length 1 tuple will be returned when iterating over a groupby with a grouper equal to a list of length 1. Don't supply a list with a single grouper to avoid this warning.\n",
      "  for i, df in df_in_grouped:\n"
     ]
    },
    {
     "data": {
      "text/plain": [
       "['Morocco',\n",
       " 'Libya',\n",
       " 'Jordan',\n",
       " 'Pakistan',\n",
       " 'Norway',\n",
       " 'Ireland',\n",
       " 'Argentina',\n",
       " 'Spain',\n",
       " 'Korea DPR',\n",
       " 'Trinidad and Tobago',\n",
       " 'Romania',\n",
       " 'France',\n",
       " 'Nigeria',\n",
       " 'Croatia',\n",
       " 'Serbia',\n",
       " 'Kuwait',\n",
       " 'Kazakhstan',\n",
       " 'Viet Nam',\n",
       " 'Kyrgyzstan',\n",
       " 'Tanzania',\n",
       " 'Lebanon',\n",
       " 'Tunisia',\n",
       " 'Qatar',\n",
       " 'North Macedonia',\n",
       " 'Myanmar',\n",
       " 'Venezuela',\n",
       " 'Sri Lanka',\n",
       " 'Germany',\n",
       " 'Indonesia',\n",
       " 'Switzerland',\n",
       " 'Italy',\n",
       " 'Saudi Arabia',\n",
       " 'Cameroon',\n",
       " 'Nepal',\n",
       " 'Finland',\n",
       " 'Bangladesh',\n",
       " 'Zimbabwe',\n",
       " 'Greece',\n",
       " 'Ecuador',\n",
       " 'Iceland',\n",
       " 'Belgium and Luxemburg',\n",
       " 'Costa Rica',\n",
       " 'China',\n",
       " 'Taiwan, China',\n",
       " 'Iran',\n",
       " 'India',\n",
       " 'Sudan',\n",
       " 'Chile',\n",
       " 'Colombia',\n",
       " \"Côte d'Ivoire\",\n",
       " 'U.S.A.',\n",
       " 'Mexico',\n",
       " 'Nicaragua',\n",
       " 'Estonia',\n",
       " 'Senegal',\n",
       " 'Austria',\n",
       " 'New Zealand',\n",
       " 'South Africa',\n",
       " 'Azerbaijan',\n",
       " 'Belarus',\n",
       " 'Latvia',\n",
       " 'Iraq',\n",
       " 'Bulgaria',\n",
       " 'Brazil',\n",
       " 'Lithuania',\n",
       " 'Georgia',\n",
       " 'Kenya',\n",
       " 'Poland',\n",
       " 'Czechia',\n",
       " 'Russian Federation',\n",
       " 'Slovenia',\n",
       " 'Zambia',\n",
       " 'Israel',\n",
       " 'Peru',\n",
       " 'Denmark',\n",
       " 'Cuba',\n",
       " 'Mauritius',\n",
       " 'Turkmenistan',\n",
       " 'Bosnia and Herzegovina',\n",
       " 'Czechoslovakia (former)',\n",
       " 'Ukraine',\n",
       " 'Portugal',\n",
       " 'Malaysia',\n",
       " 'Korea Republic',\n",
       " 'Armenia',\n",
       " 'Uruguay',\n",
       " 'El Salvador',\n",
       " 'Thailand',\n",
       " 'Slovak Republic',\n",
       " 'Tajikistan',\n",
       " 'Hungary',\n",
       " 'Sweden',\n",
       " 'Afghanistan',\n",
       " 'Dominican Republic',\n",
       " 'Yugoslavia (former)',\n",
       " 'Guatemala',\n",
       " 'Algeria',\n",
       " 'Netherlands',\n",
       " 'Turkey',\n",
       " 'Albania',\n",
       " 'Cyprus',\n",
       " 'Philippines',\n",
       " 'Canada',\n",
       " 'Uzbekistan',\n",
       " 'Ethiopia',\n",
       " 'Syria',\n",
       " 'Japan',\n",
       " 'United Kingdom',\n",
       " 'Australia',\n",
       " 'Moldova Republic of',\n",
       " 'Egypt',\n",
       " 'Others Africa',\n",
       " 'Others East Asia',\n",
       " 'Others Oceania',\n",
       " 'Others West Asia',\n",
       " 'Others Latin America',\n",
       " 'Former Soviet Union',\n",
       " 'Paraguay',\n",
       " 'Mali']"
      ]
     },
     "execution_count": 13,
     "metadata": {},
     "output_type": "execute_result"
    }
   ],
   "source": [
    "regions = sc.Regions(sa.model_attributes)\n",
    "[regions.return_region_or_iso(x) for x in l]\n",
    "list(df_data.dropna()[\"Country\"].unique())"
   ]
  },
  {
   "cell_type": "code",
   "execution_count": null,
   "metadata": {},
   "outputs": [],
   "source": [
    "d1 = df_frst_emission[\n",
    "    df_frst_emission[\"Item\"].isin([\"Agricultural Soils\"]) & \n",
    "    df_frst_emission[\"Area\"].isin([\"Argentina\"])# & \n",
    "    #df_frst_emission[\"Element\"].isin([\"Emissions (CO2eq) (AR5)\"])\n",
    "]\n",
    "d1[\"Value\"].plot()\n",
    "d1[\"Element\"].unique()"
   ]
  },
  {
   "cell_type": "code",
   "execution_count": 165,
   "metadata": {},
   "outputs": [],
   "source": [
    "\n",
    "\n",
    "##  format the regional data\n",
    "def format_regional_data(\n",
    "    df_data_by_region: pd.DataFrame,\n",
    "    fields_ind: list = [\"Country\", \"Year\"],\n",
    "    fields_values: list = [\"Consumption\"],\n",
    "    fields_pivot: list = [\"Product\"],\n",
    "    dict_rnm_out: dict = None\n",
    ") -> pd.DataFrame:\n",
    "    \n",
    "    # pivot the data\n",
    "    df_data_by_region_wide = pd.pivot(df_data_by_region, index = fields_ind, columns = fields_pivot, values = [\"Consumption\"]).reset_index()\n",
    "    df_data_by_region_wide.columns = df_data_by_region_wide.columns.to_flat_index()\n",
    "\n",
    "    # rename\n",
    "    dict_rnm = dict([((a, x), x.lower().replace(\"(\", \"\").replace(\")\", \"\").replace(\" \", \"_\")) for x in keep_products for a in fields_values])\n",
    "    dict_rnm.update(\n",
    "        dict([((x, \"\"), x.lower()) for x in fields_ind])\n",
    "    )\n",
    "    df_data_by_region_wide.rename(columns = dict_rnm, inplace = True)\n",
    "\n",
    "    # clean some columns\n",
    "    df_data_by_region_wide[\"year\"] = df_data_by_region_wide[\"year\"].astype(int)\n",
    "    \n",
    "    if dict_rnm is not None:\n",
    "        df_data_by_region_wide.rename(columns = dict_rnm_out, inplace = True)\n",
    "        \n",
    "    return df_data_by_region_wide\n",
    "\n",
    "\n",
    "\n",
    "\n",
    "# some sets\n",
    "keep_products = set([\"Grand Total N\", \"Urea (N)\"])\n",
    "regions_all = set(sa.model_attributes.dict_attributes[\"region\"].table[\"category_name\"])\n",
    "regions_available = set(df_data[\"Country\"])\n",
    "regions_to_allocate = regions_all - regions_available\n",
    "region_to_allocate = \"Others Latin America\"\n",
    "\n",
    "# reduce dataset - piece out to data available bty country and values to allocate proportionally to ag production\n",
    "df_data = df_data[df_data[\"Product\"].isin(keep_products)].reset_index(drop = True)\n",
    "df_data_by_region = df_data[df_data[\"Country\"].isin(regions_all)].copy().reset_index(drop = True)\n",
    "df_data_to_allocate = df_data[df_data[\"Country\"].isin([region_to_allocate])].copy().reset_index(drop = True)\n",
    "\n",
    "# format fields\n",
    "field_qty = \"qtyinit_soil_synthetic_fertilizer_kt\"\n",
    "field_frac = \"frac_soil_synthetic_fertilizer_urea\"\n",
    "dict_rnm = {\n",
    "    \"grand_total_n\": field_qty,\n",
    "    \"urea_n\": field_frac\n",
    "}\n",
    "# get data for which information is available per region\n",
    "df_data_by_region_wide = format_regional_data(df_data_by_region, dict_rnm_out = dict_rnm)\n",
    "df_data_by_region_wide[field_frac] = np.array(df_data_by_region_wide[field_frac])/np.array(df_data_by_region_wide[field_qty])\n",
    "\n",
    "\n",
    "##  do the allocation to countries for which fertilizer data is not available\n",
    "\n",
    "# get production area by country to allocate fertilizer\n",
    "df_ag_production_agg = df_ag_production[\n",
    "    df_ag_production[\"Element\"].isin([\"Area harvested\"]) &\n",
    "    df_ag_production[\"Year\"].isin(range(2015, 2020))\n",
    "][[\"Area\", \"Item\", \"Year\", \"Value\"]];\n",
    "# grouping fields\n",
    "fields_grp = [\"Area\", \"Year\"]\n",
    "fields_sum = [\"Value\"]\n",
    "dict_agg = dict(zip(fields_grp, [\"first\" for x in fields_grp]))\n",
    "dict_agg.update(dict(zip(fields_sum, [\"sum\" for x in fields_sum])))\n",
    "# aggregation\n",
    "df_ag_production_agg = df_ag_production_agg.groupby(fields_grp).agg(dict_agg).reset_index(drop = True)\n",
    "df_ag_production_agg[\"Area\"] = df_ag_production_agg[\"Area\"].replace({\"Bolivia (Plurinational State of)\": \"Bolivia\"})\n",
    "df_ag_production_agg = df_ag_production_agg[df_ag_production_agg[\"Area\"].isin(regions_to_allocate)].reset_index(drop = True)\n",
    "# get total area and merge back in, then get fractional allocation\n",
    "df_ag_production_agg_total = df_ag_production_agg[[\"Year\", \"Value\"]].groupby([\"Year\"]).agg({\"Year\": \"first\", \"Value\": \"sum\"}).reset_index(drop = True).rename(columns = {\"Value\": \"Value_Total\"})\n",
    "df_ag_production_agg = pd.merge(df_ag_production_agg, df_ag_production_agg_total)\n",
    "df_ag_production_agg[\"frac_allocation\"] = np.array(df_ag_production_agg[\"Value\"])/np.array(df_ag_production_agg[\"Value_Total\"])\n",
    "\n",
    "# setup the allocation\n",
    "df_data_to_allocate_wide = format_regional_data(df_data_to_allocate, dict_rnm_out = dict_rnm)\n",
    "df_data_to_allocate_wide[field_frac] = np.array(df_data_to_allocate_wide[field_frac])/np.array(df_data_to_allocate_wide[field_qty])\n",
    "df_data_to_allocate_wide.drop([\"country\"], axis = 1, inplace = True)\n",
    "# merge in production data\n",
    "df_ag_production_agg = df_ag_production_agg[[\"Area\", \"Year\", \"frac_allocation\"]].rename(columns = {\"Area\": \"country\", \"Year\": \"year\"})\n",
    "df_data_to_allocate_wide = pd.merge(df_data_to_allocate_wide, df_ag_production_agg)\n",
    "df_data_to_allocate_wide[field_qty] = np.array(df_data_to_allocate_wide[field_qty])*np.array(df_data_to_allocate_wide[\"frac_allocation\"])\n",
    "df_data_to_allocate_wide = df_data_to_allocate_wide[df_data_by_region_wide.columns]\n",
    "\n",
    "# final dataset\n",
    "df_data_out = pd.concat([df_data_by_region_wide, df_data_to_allocate_wide], axis = 0).sort_values(by = [\"country\", \"year\"]).reset_index(drop = True)\n",
    "# functio to reformat the country name for integration\n",
    "def format_country_name(country: str) -> str:\n",
    "    country_out = country.split(\"(\")[0].strip().lower().replace(\" \", \"_\")\n",
    "    return country_out\n",
    "df_data_out[\"country\"] = df_data_out[\"country\"].apply(format_country_name)\n",
    "fp_out = \"/Users/jsyme/Documents/Projects/FY21/SWCHE131_1000/Data/AFOLU/ifa_data_fertilizer_input_estimates_by_country_by_year.csv\"\n",
    "df_data_out.to_csv(fp_out, index = None, encoding = \"UTF-8\")"
   ]
  },
  {
   "cell_type": "code",
   "execution_count": 167,
   "metadata": {},
   "outputs": [
    {
     "data": {
      "text/plain": [
       "26"
      ]
     },
     "execution_count": 167,
     "metadata": {},
     "output_type": "execute_result"
    }
   ],
   "source": [
    "len(set(df_data_out[\"country\"]))"
   ]
  },
  {
   "cell_type": "code",
   "execution_count": 161,
   "metadata": {},
   "outputs": [],
   "source": [
    "(\"(\")[0].strip().lower().replace(\" \", \"_\")\n",
    "    return country_out\n"
   ]
  },
  {
   "cell_type": "code",
   "execution_count": 178,
   "metadata": {},
   "outputs": [
    {
     "data": {
      "text/plain": [
       "array(['Forestland', 'Net Forest conversion',\n",
       "       'Carbon stock change in forests'], dtype=object)"
      ]
     },
     "execution_count": 178,
     "metadata": {},
     "output_type": "execute_result"
    }
   ],
   "source": [
    "df_frst_emission[\"Item\"].unique()"
   ]
  },
  {
   "cell_type": "code",
   "execution_count": 182,
   "metadata": {},
   "outputs": [
    {
     "data": {
      "text/plain": [
       "['AFOLU',\n",
       " 'Agricultural Soils',\n",
       " 'Burning - Crop residues',\n",
       " 'Crop Residues',\n",
       " 'Drained organic soils',\n",
       " 'Drained organic soils (CO2)',\n",
       " 'Drained organic soils (N2O)',\n",
       " 'Emissions on agricultural land',\n",
       " 'Enteric Fermentation',\n",
       " 'Farm-gate emissions',\n",
       " 'Fires in humid tropical forests',\n",
       " 'Fires in organic soils',\n",
       " 'Forest fires',\n",
       " 'Forestland',\n",
       " 'IPCC Agriculture',\n",
       " 'LULUCF',\n",
       " 'Manure Management',\n",
       " 'Manure applied to Soils',\n",
       " 'Manure left on Pasture',\n",
       " 'Net Forest conversion',\n",
       " 'On-farm energy use',\n",
       " 'Rice Cultivation',\n",
       " 'Savanna fires',\n",
       " 'Synthetic Fertilizers']"
      ]
     },
     "execution_count": 182,
     "metadata": {},
     "output_type": "execute_result"
    }
   ],
   "source": [
    "sorted(list(df_frst_emission[\"Item\"].unique()))"
   ]
  },
  {
   "cell_type": "code",
   "execution_count": null,
   "metadata": {},
   "outputs": [],
   "source": []
  }
 ],
 "metadata": {
  "kernelspec": {
   "display_name": "Python 3 (ipykernel)",
   "language": "python",
   "name": "python3"
  },
  "language_info": {
   "codemirror_mode": {
    "name": "ipython",
    "version": 3
   },
   "file_extension": ".py",
   "mimetype": "text/x-python",
   "name": "python",
   "nbconvert_exporter": "python",
   "pygments_lexer": "ipython3",
   "version": "3.11.0"
  }
 },
 "nbformat": 4,
 "nbformat_minor": 4
}
